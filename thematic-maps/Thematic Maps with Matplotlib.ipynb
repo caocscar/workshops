{
 "cells": [
  {
   "cell_type": "markdown",
   "metadata": {},
   "source": [
    "# Map-making with Python\n",
    "### By Maggie Orton and Alex Cao\n",
    "### April 19, 2017\n",
    "### <a href=\"http://cscar.research.umich.edu\">CSCAR</a> at The University of Michigan  \n",
    "\n",
    "Please fill out the workshop sign-in <a href=\"https://goo.gl/forms/kLpPDHKlwZIV5ZpD2\">here</a>"
   ]
  },
  {
   "cell_type": "markdown",
   "metadata": {},
   "source": [
    "This workshop will cover how to make a few basic types of maps using matplotlib in Python. The types of maps covered are:\n",
    "1. Choropleth\n",
    "2. Dot map\n",
    "3. Proportional dot map\n",
    "4. Isopleth"
   ]
  },
  {
   "cell_type": "markdown",
   "metadata": {},
   "source": [
    "#### Note:  \n",
    "to install geopandas on a Mac with Anaconda:  \n",
    "$ conda install -c https://conda.anaconda.org/ioos geopandas"
   ]
  },
  {
   "cell_type": "code",
   "execution_count": 1,
   "metadata": {
    "collapsed": true
   },
   "outputs": [],
   "source": [
    "#% matplotlib inline"
   ]
  },
  {
   "cell_type": "markdown",
   "metadata": {},
   "source": [
    "# Choropleth"
   ]
  },
  {
   "cell_type": "markdown",
   "metadata": {},
   "source": [
    "Importing required modules and limiting pandas output to 12 rows:"
   ]
  },
  {
   "cell_type": "code",
   "execution_count": 2,
   "metadata": {
    "collapsed": false
   },
   "outputs": [],
   "source": [
    "import pandas as pd\n",
    "import time\n",
    "import requests\n",
    "import matplotlib.pyplot as plt\n",
    "import matplotlib.patches as mpatches\n",
    "from matplotlib.collections import PolyCollection\n",
    "import matplotlib.cm as cm\n",
    "import matplotlib.mlab as mlab\n",
    "import numpy as np\n",
    "from itertools import chain\n",
    "\n",
    "pd.options.display.max_rows = 12"
   ]
  },
  {
   "cell_type": "markdown",
   "metadata": {
    "collapsed": true
   },
   "source": [
    "### Generating GeoDataFrame of MI counties"
   ]
  },
  {
   "cell_type": "code",
   "execution_count": 3,
   "metadata": {
    "collapsed": false
   },
   "outputs": [
    {
     "data": {
      "text/html": [
       "<div>\n",
       "<table border=\"1\" class=\"dataframe\">\n",
       "  <thead>\n",
       "    <tr style=\"text-align: right;\">\n",
       "      <th></th>\n",
       "      <th>fips</th>\n",
       "      <th>NAME</th>\n",
       "      <th>geomtype</th>\n",
       "      <th>coords</th>\n",
       "    </tr>\n",
       "  </thead>\n",
       "  <tbody>\n",
       "    <tr>\n",
       "      <th>0</th>\n",
       "      <td>1</td>\n",
       "      <td>Alcona</td>\n",
       "      <td>Polygon</td>\n",
       "      <td>[[[-83.88711741272411, 44.553854376313986], [-...</td>\n",
       "    </tr>\n",
       "    <tr>\n",
       "      <th>1</th>\n",
       "      <td>3</td>\n",
       "      <td>Alger</td>\n",
       "      <td>MultiPolygon</td>\n",
       "      <td>[[[[-87.11602141361914, 46.27725994774438], [-...</td>\n",
       "    </tr>\n",
       "    <tr>\n",
       "      <th>2</th>\n",
       "      <td>5</td>\n",
       "      <td>Allegan</td>\n",
       "      <td>Polygon</td>\n",
       "      <td>[[[-85.54342616590016, 42.42905407573252], [-8...</td>\n",
       "    </tr>\n",
       "    <tr>\n",
       "      <th>3</th>\n",
       "      <td>7</td>\n",
       "      <td>Alpena</td>\n",
       "      <td>MultiPolygon</td>\n",
       "      <td>[[[[-83.34340013941748, 44.88554342308513], [-...</td>\n",
       "    </tr>\n",
       "    <tr>\n",
       "      <th>4</th>\n",
       "      <td>9</td>\n",
       "      <td>Antrim</td>\n",
       "      <td>MultiPolygon</td>\n",
       "      <td>[[[[-84.84877327763279, 44.93221680302625], [-...</td>\n",
       "    </tr>\n",
       "    <tr>\n",
       "      <th>5</th>\n",
       "      <td>11</td>\n",
       "      <td>Arenac</td>\n",
       "      <td>MultiPolygon</td>\n",
       "      <td>[[[[-83.75550427206387, 43.99347015001873], [-...</td>\n",
       "    </tr>\n",
       "    <tr>\n",
       "      <th>...</th>\n",
       "      <td>...</td>\n",
       "      <td>...</td>\n",
       "      <td>...</td>\n",
       "      <td>...</td>\n",
       "    </tr>\n",
       "    <tr>\n",
       "      <th>77</th>\n",
       "      <td>155</td>\n",
       "      <td>Shiawassee</td>\n",
       "      <td>Polygon</td>\n",
       "      <td>[[[-83.92586020762252, 42.844389287953845], [-...</td>\n",
       "    </tr>\n",
       "    <tr>\n",
       "      <th>78</th>\n",
       "      <td>157</td>\n",
       "      <td>Tuscola</td>\n",
       "      <td>MultiPolygon</td>\n",
       "      <td>[[[[-83.2022671025338, 43.32524973578166], [-8...</td>\n",
       "    </tr>\n",
       "    <tr>\n",
       "      <th>79</th>\n",
       "      <td>159</td>\n",
       "      <td>Van Buren</td>\n",
       "      <td>Polygon</td>\n",
       "      <td>[[[-86.2230971180473, 42.19231680829333], [-86...</td>\n",
       "    </tr>\n",
       "    <tr>\n",
       "      <th>80</th>\n",
       "      <td>161</td>\n",
       "      <td>Washtenaw</td>\n",
       "      <td>Polygon</td>\n",
       "      <td>[[[-84.13342469013449, 42.13133524729911], [-8...</td>\n",
       "    </tr>\n",
       "    <tr>\n",
       "      <th>81</th>\n",
       "      <td>163</td>\n",
       "      <td>Wayne</td>\n",
       "      <td>Polygon</td>\n",
       "      <td>[[[-83.54580677135081, 42.31331957204142], [-8...</td>\n",
       "    </tr>\n",
       "    <tr>\n",
       "      <th>82</th>\n",
       "      <td>165</td>\n",
       "      <td>Wexford</td>\n",
       "      <td>Polygon</td>\n",
       "      <td>[[[-85.8212460299654, 44.211529211366816], [-8...</td>\n",
       "    </tr>\n",
       "  </tbody>\n",
       "</table>\n",
       "<p>83 rows × 4 columns</p>\n",
       "</div>"
      ],
      "text/plain": [
       "    fips        NAME      geomtype  \\\n",
       "0      1      Alcona       Polygon   \n",
       "1      3       Alger  MultiPolygon   \n",
       "2      5     Allegan       Polygon   \n",
       "3      7      Alpena  MultiPolygon   \n",
       "4      9      Antrim  MultiPolygon   \n",
       "5     11      Arenac  MultiPolygon   \n",
       "..   ...         ...           ...   \n",
       "77   155  Shiawassee       Polygon   \n",
       "78   157     Tuscola  MultiPolygon   \n",
       "79   159   Van Buren       Polygon   \n",
       "80   161   Washtenaw       Polygon   \n",
       "81   163       Wayne       Polygon   \n",
       "82   165     Wexford       Polygon   \n",
       "\n",
       "                                               coords  \n",
       "0   [[[-83.88711741272411, 44.553854376313986], [-...  \n",
       "1   [[[[-87.11602141361914, 46.27725994774438], [-...  \n",
       "2   [[[-85.54342616590016, 42.42905407573252], [-8...  \n",
       "3   [[[[-83.34340013941748, 44.88554342308513], [-...  \n",
       "4   [[[[-84.84877327763279, 44.93221680302625], [-...  \n",
       "5   [[[[-83.75550427206387, 43.99347015001873], [-...  \n",
       "..                                                ...  \n",
       "77  [[[-83.92586020762252, 42.844389287953845], [-...  \n",
       "78  [[[[-83.2022671025338, 43.32524973578166], [-8...  \n",
       "79  [[[-86.2230971180473, 42.19231680829333], [-86...  \n",
       "80  [[[-84.13342469013449, 42.13133524729911], [-8...  \n",
       "81  [[[-83.54580677135081, 42.31331957204142], [-8...  \n",
       "82  [[[-85.8212460299654, 44.211529211366816], [-8...  \n",
       "\n",
       "[83 rows x 4 columns]"
      ]
     },
     "execution_count": 3,
     "metadata": {},
     "output_type": "execute_result"
    }
   ],
   "source": [
    "# Read GeoJSON from data portal and convert to a dataframe\n",
    "R = requests.get(r'http://gis-michigan.opendata.arcgis.com/datasets/67a8ff23b5f54f15b7133b8c30981441_0.geojson')\n",
    "R.raise_for_status()\n",
    "county_geojson= R.json()\n",
    "\n",
    "list_counties = []\n",
    "for county in county_geojson['features']:\n",
    "    fips = county['properties']['FIPSNUM']\n",
    "    name = county['properties']['NAME']\n",
    "    geomtype = county['geometry']['type']\n",
    "    coords = county['geometry']['coordinates']\n",
    "    list_counties.append((fips,name,geomtype,coords))\n",
    "\n",
    "counties = pd.DataFrame(list_counties, columns=['fips','NAME','geomtype','coords'])\n",
    "counties"
   ]
  },
  {
   "cell_type": "markdown",
   "metadata": {},
   "source": [
    "### Loading choropleth snow crash data"
   ]
  },
  {
   "cell_type": "code",
   "execution_count": 4,
   "metadata": {
    "collapsed": false
   },
   "outputs": [
    {
     "data": {
      "text/html": [
       "<div>\n",
       "<table border=\"1\" class=\"dataframe\">\n",
       "  <thead>\n",
       "    <tr style=\"text-align: right;\">\n",
       "      <th></th>\n",
       "      <th>fips</th>\n",
       "      <th>NAME</th>\n",
       "      <th>geomtype</th>\n",
       "      <th>coords</th>\n",
       "      <th>snow_crashes</th>\n",
       "    </tr>\n",
       "  </thead>\n",
       "  <tbody>\n",
       "    <tr>\n",
       "      <th>0</th>\n",
       "      <td>1</td>\n",
       "      <td>Alcona</td>\n",
       "      <td>Polygon</td>\n",
       "      <td>[[[-83.88711741272411, 44.553854376313986], [-...</td>\n",
       "      <td>21</td>\n",
       "    </tr>\n",
       "    <tr>\n",
       "      <th>1</th>\n",
       "      <td>3</td>\n",
       "      <td>Alger</td>\n",
       "      <td>MultiPolygon</td>\n",
       "      <td>[[[[-87.11602141361914, 46.27725994774438], [-...</td>\n",
       "      <td>37</td>\n",
       "    </tr>\n",
       "  </tbody>\n",
       "</table>\n",
       "</div>"
      ],
      "text/plain": [
       "   fips    NAME      geomtype  \\\n",
       "0     1  Alcona       Polygon   \n",
       "1     3   Alger  MultiPolygon   \n",
       "\n",
       "                                              coords  snow_crashes  \n",
       "0  [[[-83.88711741272411, 44.553854376313986], [-...            21  \n",
       "1  [[[[-87.11602141361914, 46.27725994774438], [-...            37  "
      ]
     },
     "execution_count": 4,
     "metadata": {},
     "output_type": "execute_result"
    }
   ],
   "source": [
    "# Load choropleth data\n",
    "fatals = pd.read_csv('snow_crashes.csv', sep='\\t')\n",
    "fatals.set_index('County', inplace=True)\n",
    "# convert string to integers\n",
    "fatals = fatals.applymap(lambda x: int(str(x).replace(',','')))\n",
    "fatals['snow_crashes'] = fatals['Total']\n",
    "\n",
    "# merge snow crash data with geodataframe\n",
    "df = counties.merge(pd.DataFrame(fatals['snow_crashes']), how='inner', left_on='NAME', right_index=True)\n",
    "df.head(2)"
   ]
  },
  {
   "cell_type": "markdown",
   "metadata": {},
   "source": [
    "### Formatting colors and labels"
   ]
  },
  {
   "cell_type": "code",
   "execution_count": 5,
   "metadata": {
    "collapsed": false
   },
   "outputs": [],
   "source": [
    "# function assigns x a color based on minimums set in bins (inclusive)\n",
    "# requires: same number of bins and colors\n",
    "def assign_color(x, colors, bins):\n",
    "    bincount = len(bins)\n",
    "    counter = 1\n",
    "    while (counter < bincount):\n",
    "        if x >= bins[-counter]:\n",
    "            return colors[-counter]\n",
    "        counter = counter + 1\n",
    "    return colors[0]"
   ]
  },
  {
   "cell_type": "code",
   "execution_count": 6,
   "metadata": {
    "collapsed": false
   },
   "outputs": [
    {
     "data": {
      "text/plain": [
       "'blue'"
      ]
     },
     "execution_count": 6,
     "metadata": {},
     "output_type": "execute_result"
    }
   ],
   "source": [
    "# example usage of assign_color: assigning value '5' to blue in 5-9 bin\n",
    "x = 6\n",
    "assign_color(x, ['green', 'blue', 'red'], [0, 5, 10])"
   ]
  },
  {
   "cell_type": "code",
   "execution_count": 7,
   "metadata": {
    "collapsed": false
   },
   "outputs": [
    {
     "data": {
      "text/plain": [
       "['1 - 100', '101 - 200', '201 - 400', '401 - 800', '800+']"
      ]
     },
     "execution_count": 7,
     "metadata": {},
     "output_type": "execute_result"
    }
   ],
   "source": [
    "# setting up choropleth parameters\n",
    "colors = ['#edf8e9','#bae4b3','#74c476','#31a354','#006d2c']\n",
    "bins = [0,100,200,400,800]\n",
    "labels = []\n",
    "# formatting labels for bins\n",
    "for i in range(len(bins)):\n",
    "    if i < len(bins)-1:\n",
    "        label = '{} - {}'.format(bins[i]+1,bins[i+1])\n",
    "    else:\n",
    "        label = '{}+'.format(bins[i])\n",
    "    labels.append(label)\n",
    "labels"
   ]
  },
  {
   "cell_type": "code",
   "execution_count": 8,
   "metadata": {
    "collapsed": false
   },
   "outputs": [
    {
     "data": {
      "text/html": [
       "<div>\n",
       "<table border=\"1\" class=\"dataframe\">\n",
       "  <thead>\n",
       "    <tr style=\"text-align: right;\">\n",
       "      <th></th>\n",
       "      <th>NAME</th>\n",
       "      <th>snow_crashes</th>\n",
       "      <th>color</th>\n",
       "    </tr>\n",
       "  </thead>\n",
       "  <tbody>\n",
       "    <tr>\n",
       "      <th>0</th>\n",
       "      <td>Alcona</td>\n",
       "      <td>21</td>\n",
       "      <td>#edf8e9</td>\n",
       "    </tr>\n",
       "    <tr>\n",
       "      <th>1</th>\n",
       "      <td>Alger</td>\n",
       "      <td>37</td>\n",
       "      <td>#edf8e9</td>\n",
       "    </tr>\n",
       "    <tr>\n",
       "      <th>2</th>\n",
       "      <td>Allegan</td>\n",
       "      <td>429</td>\n",
       "      <td>#31a354</td>\n",
       "    </tr>\n",
       "    <tr>\n",
       "      <th>3</th>\n",
       "      <td>Alpena</td>\n",
       "      <td>52</td>\n",
       "      <td>#edf8e9</td>\n",
       "    </tr>\n",
       "  </tbody>\n",
       "</table>\n",
       "</div>"
      ],
      "text/plain": [
       "      NAME  snow_crashes    color\n",
       "0   Alcona            21  #edf8e9\n",
       "1    Alger            37  #edf8e9\n",
       "2  Allegan           429  #31a354\n",
       "3   Alpena            52  #edf8e9"
      ]
     },
     "execution_count": 8,
     "metadata": {},
     "output_type": "execute_result"
    }
   ],
   "source": [
    "df['color'] = df['snow_crashes'].apply(assign_color, args=(colors,bins))\n",
    "df[['NAME', 'snow_crashes', 'color']].head(4)"
   ]
  },
  {
   "cell_type": "markdown",
   "metadata": {},
   "source": [
    "### Plotting choropleth"
   ]
  },
  {
   "cell_type": "code",
   "execution_count": 9,
   "metadata": {
    "collapsed": false
   },
   "outputs": [],
   "source": [
    "inches = 12 # Approximately 1200 x 1200 pixels\n",
    "fig = plt.figure(2, figsize=(inches,inches), frameon=True)\n",
    "ax = plt.gca()\n",
    "# add blue for the great lakes (and land)\n",
    "fig.patch.set_facecolor('#9bbff4')"
   ]
  },
  {
   "cell_type": "code",
   "execution_count": 10,
   "metadata": {
    "collapsed": false
   },
   "outputs": [],
   "source": [
    "# create a nested list of polygons, vertices, and xy-coordinates \n",
    "mi = []\n",
    "for i in range(df.shape[0]):\n",
    "    geom_type = df.at[i,'geomtype']\n",
    "    poly_xy = df.at[i,'coords']\n",
    "    if geom_type == 'Polygon':\n",
    "        mi.append(poly_xy[0])\n",
    "    elif geom_type == 'MultiPolygon':\n",
    "        for poly in poly_xy:\n",
    "            mi.append(poly[0])"
   ]
  },
  {
   "cell_type": "code",
   "execution_count": 11,
   "metadata": {
    "collapsed": false
   },
   "outputs": [],
   "source": [
    "# Make a polygon collection and plot it with colour column\n",
    "coll = PolyCollection(mi, facecolors=df['color'], edgecolors='white')\n",
    "ax.add_collection(coll)\n",
    "# this line is necessary for collection to prevent crashing\n",
    "ax.autoscale_view()"
   ]
  },
  {
   "cell_type": "code",
   "execution_count": 12,
   "metadata": {
    "collapsed": false
   },
   "outputs": [
    {
     "data": {
      "text/html": [
       "<div>\n",
       "<table border=\"1\" class=\"dataframe\">\n",
       "  <thead>\n",
       "    <tr style=\"text-align: right;\">\n",
       "      <th></th>\n",
       "      <th>fips</th>\n",
       "      <th>NAME</th>\n",
       "      <th>geomtype</th>\n",
       "      <th>coords</th>\n",
       "      <th>snow_crashes</th>\n",
       "      <th>color</th>\n",
       "      <th>centroid</th>\n",
       "    </tr>\n",
       "  </thead>\n",
       "  <tbody>\n",
       "    <tr>\n",
       "      <th>0</th>\n",
       "      <td>1</td>\n",
       "      <td>Alcona</td>\n",
       "      <td>Polygon</td>\n",
       "      <td>[[[-83.88711741272411, 44.553854376313986], [-...</td>\n",
       "      <td>21</td>\n",
       "      <td>#edf8e9</td>\n",
       "      <td>[-83.578763451, 44.68422868]</td>\n",
       "    </tr>\n",
       "    <tr>\n",
       "      <th>1</th>\n",
       "      <td>3</td>\n",
       "      <td>Alger</td>\n",
       "      <td>MultiPolygon</td>\n",
       "      <td>[[[[-87.11602141361914, 46.27725994774438], [-...</td>\n",
       "      <td>37</td>\n",
       "      <td>#edf8e9</td>\n",
       "      <td>[-86.4904581968, 46.4246261354]</td>\n",
       "    </tr>\n",
       "    <tr>\n",
       "      <th>2</th>\n",
       "      <td>5</td>\n",
       "      <td>Allegan</td>\n",
       "      <td>Polygon</td>\n",
       "      <td>[[[-85.54342616590016, 42.42905407573252], [-8...</td>\n",
       "      <td>429</td>\n",
       "      <td>#31a354</td>\n",
       "      <td>[-85.9084427462, 42.593882269]</td>\n",
       "    </tr>\n",
       "    <tr>\n",
       "      <th>3</th>\n",
       "      <td>7</td>\n",
       "      <td>Alpena</td>\n",
       "      <td>MultiPolygon</td>\n",
       "      <td>[[[[-83.34340013941748, 44.88554342308513], [-...</td>\n",
       "      <td>52</td>\n",
       "      <td>#edf8e9</td>\n",
       "      <td>[-83.5405464163, 45.0318546931]</td>\n",
       "    </tr>\n",
       "    <tr>\n",
       "      <th>4</th>\n",
       "      <td>9</td>\n",
       "      <td>Antrim</td>\n",
       "      <td>MultiPolygon</td>\n",
       "      <td>[[[[-84.84877327763279, 44.93221680302625], [-...</td>\n",
       "      <td>75</td>\n",
       "      <td>#edf8e9</td>\n",
       "      <td>[-85.1452156743, 45.0100784647]</td>\n",
       "    </tr>\n",
       "    <tr>\n",
       "      <th>5</th>\n",
       "      <td>11</td>\n",
       "      <td>Arenac</td>\n",
       "      <td>MultiPolygon</td>\n",
       "      <td>[[[[-83.75550427206387, 43.99347015001873], [-...</td>\n",
       "      <td>30</td>\n",
       "      <td>#edf8e9</td>\n",
       "      <td>[-83.7967836299, 44.0369963508]</td>\n",
       "    </tr>\n",
       "    <tr>\n",
       "      <th>...</th>\n",
       "      <td>...</td>\n",
       "      <td>...</td>\n",
       "      <td>...</td>\n",
       "      <td>...</td>\n",
       "      <td>...</td>\n",
       "      <td>...</td>\n",
       "      <td>...</td>\n",
       "    </tr>\n",
       "    <tr>\n",
       "      <th>77</th>\n",
       "      <td>155</td>\n",
       "      <td>Shiawassee</td>\n",
       "      <td>Polygon</td>\n",
       "      <td>[[[-83.92586020762252, 42.844389287953845], [-...</td>\n",
       "      <td>123</td>\n",
       "      <td>#bae4b3</td>\n",
       "      <td>[-84.1452094224, 42.9542881717]</td>\n",
       "    </tr>\n",
       "    <tr>\n",
       "      <th>78</th>\n",
       "      <td>157</td>\n",
       "      <td>Tuscola</td>\n",
       "      <td>MultiPolygon</td>\n",
       "      <td>[[[[-83.2022671025338, 43.32524973578166], [-8...</td>\n",
       "      <td>101</td>\n",
       "      <td>#bae4b3</td>\n",
       "      <td>[-83.4017620453, 43.4751737963]</td>\n",
       "    </tr>\n",
       "    <tr>\n",
       "      <th>79</th>\n",
       "      <td>159</td>\n",
       "      <td>Van Buren</td>\n",
       "      <td>Polygon</td>\n",
       "      <td>[[[-86.2230971180473, 42.19231680829333], [-86...</td>\n",
       "      <td>357</td>\n",
       "      <td>#74c476</td>\n",
       "      <td>[-86.0637764782, 42.2450020191]</td>\n",
       "    </tr>\n",
       "    <tr>\n",
       "      <th>80</th>\n",
       "      <td>161</td>\n",
       "      <td>Washtenaw</td>\n",
       "      <td>Polygon</td>\n",
       "      <td>[[[-84.13342469013449, 42.13133524729911], [-8...</td>\n",
       "      <td>733</td>\n",
       "      <td>#31a354</td>\n",
       "      <td>[-83.8367426647, 42.2533795271]</td>\n",
       "    </tr>\n",
       "    <tr>\n",
       "      <th>81</th>\n",
       "      <td>163</td>\n",
       "      <td>Wayne</td>\n",
       "      <td>Polygon</td>\n",
       "      <td>[[[-83.54580677135081, 42.31331957204142], [-8...</td>\n",
       "      <td>2555</td>\n",
       "      <td>#006d2c</td>\n",
       "      <td>[-83.2109785487, 42.2394761311]</td>\n",
       "    </tr>\n",
       "    <tr>\n",
       "      <th>82</th>\n",
       "      <td>165</td>\n",
       "      <td>Wexford</td>\n",
       "      <td>Polygon</td>\n",
       "      <td>[[[-85.8212460299654, 44.211529211366816], [-8...</td>\n",
       "      <td>127</td>\n",
       "      <td>#bae4b3</td>\n",
       "      <td>[-85.5777308184, 44.3386069142]</td>\n",
       "    </tr>\n",
       "  </tbody>\n",
       "</table>\n",
       "<p>83 rows × 7 columns</p>\n",
       "</div>"
      ],
      "text/plain": [
       "    fips        NAME      geomtype  \\\n",
       "0      1      Alcona       Polygon   \n",
       "1      3       Alger  MultiPolygon   \n",
       "2      5     Allegan       Polygon   \n",
       "3      7      Alpena  MultiPolygon   \n",
       "4      9      Antrim  MultiPolygon   \n",
       "5     11      Arenac  MultiPolygon   \n",
       "..   ...         ...           ...   \n",
       "77   155  Shiawassee       Polygon   \n",
       "78   157     Tuscola  MultiPolygon   \n",
       "79   159   Van Buren       Polygon   \n",
       "80   161   Washtenaw       Polygon   \n",
       "81   163       Wayne       Polygon   \n",
       "82   165     Wexford       Polygon   \n",
       "\n",
       "                                               coords  snow_crashes    color  \\\n",
       "0   [[[-83.88711741272411, 44.553854376313986], [-...            21  #edf8e9   \n",
       "1   [[[[-87.11602141361914, 46.27725994774438], [-...            37  #edf8e9   \n",
       "2   [[[-85.54342616590016, 42.42905407573252], [-8...           429  #31a354   \n",
       "3   [[[[-83.34340013941748, 44.88554342308513], [-...            52  #edf8e9   \n",
       "4   [[[[-84.84877327763279, 44.93221680302625], [-...            75  #edf8e9   \n",
       "5   [[[[-83.75550427206387, 43.99347015001873], [-...            30  #edf8e9   \n",
       "..                                                ...           ...      ...   \n",
       "77  [[[-83.92586020762252, 42.844389287953845], [-...           123  #bae4b3   \n",
       "78  [[[[-83.2022671025338, 43.32524973578166], [-8...           101  #bae4b3   \n",
       "79  [[[-86.2230971180473, 42.19231680829333], [-86...           357  #74c476   \n",
       "80  [[[-84.13342469013449, 42.13133524729911], [-8...           733  #31a354   \n",
       "81  [[[-83.54580677135081, 42.31331957204142], [-8...          2555  #006d2c   \n",
       "82  [[[-85.8212460299654, 44.211529211366816], [-8...           127  #bae4b3   \n",
       "\n",
       "                           centroid  \n",
       "0      [-83.578763451, 44.68422868]  \n",
       "1   [-86.4904581968, 46.4246261354]  \n",
       "2    [-85.9084427462, 42.593882269]  \n",
       "3   [-83.5405464163, 45.0318546931]  \n",
       "4   [-85.1452156743, 45.0100784647]  \n",
       "5   [-83.7967836299, 44.0369963508]  \n",
       "..                              ...  \n",
       "77  [-84.1452094224, 42.9542881717]  \n",
       "78  [-83.4017620453, 43.4751737963]  \n",
       "79  [-86.0637764782, 42.2450020191]  \n",
       "80  [-83.8367426647, 42.2533795271]  \n",
       "81  [-83.2109785487, 42.2394761311]  \n",
       "82  [-85.5777308184, 44.3386069142]  \n",
       "\n",
       "[83 rows x 7 columns]"
      ]
     },
     "execution_count": 12,
     "metadata": {},
     "output_type": "execute_result"
    }
   ],
   "source": [
    "#%% Calculate Approximate Centre\n",
    "xyc = []\n",
    "for i in range(df.shape[0]):\n",
    "    geom_type = df.at[i,'geomtype']\n",
    "    poly_xy = df.at[i,'coords']\n",
    "    if geom_type == 'Polygon':\n",
    "        X,Y = zip(*poly_xy[0])\n",
    "    elif geom_type == 'MultiPolygon':\n",
    "        listx, listy = [],[]\n",
    "        for poly in poly_xy:\n",
    "            x,y = zip(*poly[0])\n",
    "            listx.append(x)\n",
    "            listy.append(y)\n",
    "        X = list(chain.from_iterable(listx))\n",
    "        Y = list(chain.from_iterable(listy))\n",
    "    dfX = pd.Series(X)\n",
    "    dfY = pd.Series(Y)\n",
    "    xc = 0.5*(dfX.max()+dfX.min())\n",
    "    yc = 0.5*(dfY.max()+dfY.min())\n",
    "    xyc.append([xc,yc])        \n",
    "centroid = pd.Series(xyc)\n",
    "df['centroid'] = centroid\n",
    "df"
   ]
  },
  {
   "cell_type": "code",
   "execution_count": 13,
   "metadata": {
    "collapsed": false
   },
   "outputs": [],
   "source": [
    "# Plot county text\n",
    "fs = 7\n",
    "for i in range(df.shape[0]):\n",
    "    xy = df.at[i,'centroid']\n",
    "    xc = xy[0]\n",
    "    yc = xy[1]\n",
    "    name = df.at[i,'NAME']\n",
    "    # xc, yc are in same units as axis (lat/long coords)\n",
    "    plt.text(xc, yc, name, fontsize=fs, ha='center', weight='bold')        "
   ]
  },
  {
   "cell_type": "code",
   "execution_count": 14,
   "metadata": {
    "collapsed": false
   },
   "outputs": [
    {
     "data": {
      "text/plain": [
       "<matplotlib.legend.Legend at 0x1ce1cf68128>"
      ]
     },
     "execution_count": 14,
     "metadata": {},
     "output_type": "execute_result"
    }
   ],
   "source": [
    "# Draw legend\n",
    "alpha = .8\n",
    "swatches = []\n",
    "for color, label in zip(colors,labels):\n",
    "    swatches.append(mpatches.Patch(color=color, label=label, alpha=alpha))\n",
    "plt.legend(handles=swatches, bbox_to_anchor=(0.4,0.3), frameon=False)"
   ]
  },
  {
   "cell_type": "code",
   "execution_count": 15,
   "metadata": {
    "collapsed": false
   },
   "outputs": [
    {
     "data": {
      "text/plain": [
       "<matplotlib.text.Text at 0x1ce1cf593c8>"
      ]
     },
     "execution_count": 15,
     "metadata": {},
     "output_type": "execute_result"
    }
   ],
   "source": [
    "# Plot title\n",
    "# percentage of figure\n",
    "plt.figtext(0.33,0.32, 'Vehicle Crashes\\nIn Snowy Conditions', fontsize=fs+3, weight='bold', ha='center', va='bottom')"
   ]
  },
  {
   "cell_type": "code",
   "execution_count": 16,
   "metadata": {
    "collapsed": false
   },
   "outputs": [],
   "source": [
    "# Format figure and save\n",
    "plt.axis('off') #hides the axes from showing on the graph \n",
    "plt.tight_layout() #minimizes the spacing around the outside of the plot\n",
    "# can be saved in pixel format (jpg, png) or vector (svg)\n",
    "fig.savefig(\"mi_choropleth.png\", facecolor=fig.get_facecolor(), bbox_inches='tight')"
   ]
  },
  {
   "cell_type": "markdown",
   "metadata": {},
   "source": [
    "# Dot Map"
   ]
  },
  {
   "cell_type": "markdown",
   "metadata": {},
   "source": [
    "### Creating new map to add dots to"
   ]
  },
  {
   "cell_type": "code",
   "execution_count": 17,
   "metadata": {
    "collapsed": false
   },
   "outputs": [],
   "source": [
    "plt.gcf().clear()\n",
    "fig2 = plt.figure(2, figsize=(inches,inches), frameon=True)\n",
    "ax2 = plt.gca()\n",
    "# add blue for the great lakes (and land)\n",
    "fig2.patch.set_facecolor('#9bbff4')"
   ]
  },
  {
   "cell_type": "code",
   "execution_count": 18,
   "metadata": {
    "collapsed": true
   },
   "outputs": [],
   "source": [
    "# Make a polygon collection and plot it\n",
    "coll = PolyCollection(mi, facecolors='#edf8e9', edgecolors='white')\n",
    "ax2.add_collection(coll)\n",
    "# this line is necessary for collection to prevent crashing\n",
    "ax2.autoscale_view()"
   ]
  },
  {
   "cell_type": "code",
   "execution_count": 19,
   "metadata": {
    "collapsed": false
   },
   "outputs": [
    {
     "data": {
      "text/plain": [
       "<matplotlib.text.Text at 0x1ce1cb5e9b0>"
      ]
     },
     "execution_count": 19,
     "metadata": {},
     "output_type": "execute_result"
    }
   ],
   "source": [
    "# Plot title\n",
    "plt.figtext(0.5,0.9, 'Snowmobile Crashes', fontsize=fs+20, weight='bold', ha='center', va='bottom')"
   ]
  },
  {
   "cell_type": "markdown",
   "metadata": {},
   "source": [
    "### Reading in snowmobile crash data"
   ]
  },
  {
   "cell_type": "code",
   "execution_count": 20,
   "metadata": {
    "collapsed": false
   },
   "outputs": [
    {
     "name": "stdout",
     "output_type": "stream",
     "text": [
      "   Crash Longitude  Crash Latitude\n",
      "0       -85.800058       46.180844\n",
      "1       -84.789822       45.440444\n",
      "2       -86.740536       46.321993\n"
     ]
    }
   ],
   "source": [
    "snowmobiles = pd.read_table(\"snowmobile_crashes.txt\", sep = \"\\t\", usecols = [\"Crash Longitude\", \"Crash Latitude\"])\n",
    "print(snowmobiles[:3])"
   ]
  },
  {
   "cell_type": "markdown",
   "metadata": {},
   "source": [
    "### Plotting circles\n",
    "more information on different marker styles available <a href=\"https://matplotlib.org/api/markers_api.html#module-matplotlib.markers\">here</a>"
   ]
  },
  {
   "cell_type": "code",
   "execution_count": 21,
   "metadata": {
    "collapsed": false
   },
   "outputs": [],
   "source": [
    "ax2.scatter(snowmobiles['Crash Longitude'], snowmobiles['Crash Latitude'], c = 'maroon', alpha = .6, marker = 'p')\n",
    "for i, [lat, lon] in enumerate(zip(snowmobiles['Crash Latitude'], snowmobiles['Crash Longitude'])):\n",
    "    plt.text(lon, lat, i)"
   ]
  },
  {
   "cell_type": "code",
   "execution_count": 22,
   "metadata": {
    "collapsed": false
   },
   "outputs": [],
   "source": [
    "# Format figure and save\n",
    "plt.axis('off')\n",
    "plt.tight_layout()\n",
    "fig2.savefig(\"snowmobile_crashes.png\", facecolor=fig2.get_facecolor(), bbox_inches='tight')"
   ]
  },
  {
   "cell_type": "markdown",
   "metadata": {},
   "source": [
    "### Practice\n",
    "See if you can change the scatterplot marker to a different shape"
   ]
  },
  {
   "cell_type": "markdown",
   "metadata": {},
   "source": [
    "# Proportional Dot Map"
   ]
  },
  {
   "cell_type": "markdown",
   "metadata": {},
   "source": [
    "### Creating new map to add dots to"
   ]
  },
  {
   "cell_type": "code",
   "execution_count": 23,
   "metadata": {
    "collapsed": false
   },
   "outputs": [],
   "source": [
    "plt.gcf().clear()\n",
    "fig3 = plt.figure(2, figsize=(inches,inches), frameon=True)\n",
    "ax3 = plt.gca()\n",
    "# add blue for the great lakes (and land)\n",
    "fig3.patch.set_facecolor('#9bbff4')"
   ]
  },
  {
   "cell_type": "code",
   "execution_count": 24,
   "metadata": {
    "collapsed": false
   },
   "outputs": [],
   "source": [
    "# Make a polygon collection and plot it\n",
    "coll = PolyCollection(mi, facecolors='#edf8e9', edgecolors='white')\n",
    "ax3.add_collection(coll)\n",
    "# this line is necessary for collection to prevent crashing\n",
    "ax3.autoscale_view()\n",
    "plt.axes().set_aspect('equal', 'datalim')"
   ]
  },
  {
   "cell_type": "code",
   "execution_count": 25,
   "metadata": {
    "collapsed": false
   },
   "outputs": [
    {
     "data": {
      "text/plain": [
       "<matplotlib.text.Text at 0x1ce1cb2a470>"
      ]
     },
     "execution_count": 25,
     "metadata": {},
     "output_type": "execute_result"
    }
   ],
   "source": [
    "# Plot title\n",
    "plt.figtext(0.5, .9, 'Top 20 Deer Crashes', fontsize=fs+20, weight='bold', ha='center', va='bottom')"
   ]
  },
  {
   "cell_type": "markdown",
   "metadata": {},
   "source": [
    "### Reading in deer crash data"
   ]
  },
  {
   "cell_type": "code",
   "execution_count": 26,
   "metadata": {
    "collapsed": false
   },
   "outputs": [
    {
     "data": {
      "text/html": [
       "<div>\n",
       "<table border=\"1\" class=\"dataframe\">\n",
       "  <thead>\n",
       "    <tr style=\"text-align: right;\">\n",
       "      <th></th>\n",
       "      <th>city</th>\n",
       "      <th>Total</th>\n",
       "      <th>K</th>\n",
       "      <th>ABC</th>\n",
       "      <th>PDO</th>\n",
       "      <th>Lat</th>\n",
       "      <th>Lon</th>\n",
       "    </tr>\n",
       "  </thead>\n",
       "  <tbody>\n",
       "    <tr>\n",
       "      <th>19</th>\n",
       "      <td>Burton</td>\n",
       "      <td>40</td>\n",
       "      <td>0</td>\n",
       "      <td>1</td>\n",
       "      <td>39</td>\n",
       "      <td>42.999472</td>\n",
       "      <td>-83.616342</td>\n",
       "    </tr>\n",
       "    <tr>\n",
       "      <th>18</th>\n",
       "      <td>Norton Shores</td>\n",
       "      <td>41</td>\n",
       "      <td>0</td>\n",
       "      <td>2</td>\n",
       "      <td>39</td>\n",
       "      <td>43.168904</td>\n",
       "      <td>-86.263946</td>\n",
       "    </tr>\n",
       "    <tr>\n",
       "      <th>17</th>\n",
       "      <td>Sterling Heights</td>\n",
       "      <td>44</td>\n",
       "      <td>0</td>\n",
       "      <td>3</td>\n",
       "      <td>41</td>\n",
       "      <td>42.580312</td>\n",
       "      <td>-83.030203</td>\n",
       "    </tr>\n",
       "    <tr>\n",
       "      <th>16</th>\n",
       "      <td>Southfield</td>\n",
       "      <td>44</td>\n",
       "      <td>0</td>\n",
       "      <td>6</td>\n",
       "      <td>38</td>\n",
       "      <td>42.473369</td>\n",
       "      <td>-83.221873</td>\n",
       "    </tr>\n",
       "    <tr>\n",
       "      <th>15</th>\n",
       "      <td>Wyoming</td>\n",
       "      <td>46</td>\n",
       "      <td>0</td>\n",
       "      <td>0</td>\n",
       "      <td>46</td>\n",
       "      <td>42.913360</td>\n",
       "      <td>-85.705309</td>\n",
       "    </tr>\n",
       "    <tr>\n",
       "      <th>14</th>\n",
       "      <td>East Lansing</td>\n",
       "      <td>55</td>\n",
       "      <td>0</td>\n",
       "      <td>3</td>\n",
       "      <td>52</td>\n",
       "      <td>42.736979</td>\n",
       "      <td>-84.483865</td>\n",
       "    </tr>\n",
       "    <tr>\n",
       "      <th>...</th>\n",
       "      <td>...</td>\n",
       "      <td>...</td>\n",
       "      <td>...</td>\n",
       "      <td>...</td>\n",
       "      <td>...</td>\n",
       "      <td>...</td>\n",
       "      <td>...</td>\n",
       "    </tr>\n",
       "    <tr>\n",
       "      <th>5</th>\n",
       "      <td>Ann Arbor</td>\n",
       "      <td>90</td>\n",
       "      <td>0</td>\n",
       "      <td>4</td>\n",
       "      <td>86</td>\n",
       "      <td>42.280826</td>\n",
       "      <td>-83.743038</td>\n",
       "    </tr>\n",
       "    <tr>\n",
       "      <th>4</th>\n",
       "      <td>Farmington Hills</td>\n",
       "      <td>95</td>\n",
       "      <td>0</td>\n",
       "      <td>4</td>\n",
       "      <td>91</td>\n",
       "      <td>42.498994</td>\n",
       "      <td>-83.367717</td>\n",
       "    </tr>\n",
       "    <tr>\n",
       "      <th>3</th>\n",
       "      <td>Battle Creek</td>\n",
       "      <td>116</td>\n",
       "      <td>0</td>\n",
       "      <td>6</td>\n",
       "      <td>110</td>\n",
       "      <td>42.321152</td>\n",
       "      <td>-85.179714</td>\n",
       "    </tr>\n",
       "    <tr>\n",
       "      <th>2</th>\n",
       "      <td>Midland</td>\n",
       "      <td>137</td>\n",
       "      <td>0</td>\n",
       "      <td>1</td>\n",
       "      <td>136</td>\n",
       "      <td>43.615583</td>\n",
       "      <td>-84.247212</td>\n",
       "    </tr>\n",
       "    <tr>\n",
       "      <th>1</th>\n",
       "      <td>Rochester Hills</td>\n",
       "      <td>150</td>\n",
       "      <td>0</td>\n",
       "      <td>2</td>\n",
       "      <td>148</td>\n",
       "      <td>42.658366</td>\n",
       "      <td>-83.149932</td>\n",
       "    </tr>\n",
       "    <tr>\n",
       "      <th>0</th>\n",
       "      <td>Portage</td>\n",
       "      <td>191</td>\n",
       "      <td>0</td>\n",
       "      <td>5</td>\n",
       "      <td>186</td>\n",
       "      <td>42.201154</td>\n",
       "      <td>-85.580002</td>\n",
       "    </tr>\n",
       "  </tbody>\n",
       "</table>\n",
       "<p>20 rows × 7 columns</p>\n",
       "</div>"
      ],
      "text/plain": [
       "                city  Total  K  ABC  PDO        Lat        Lon\n",
       "19            Burton     40  0    1   39  42.999472 -83.616342\n",
       "18     Norton Shores     41  0    2   39  43.168904 -86.263946\n",
       "17  Sterling Heights     44  0    3   41  42.580312 -83.030203\n",
       "16        Southfield     44  0    6   38  42.473369 -83.221873\n",
       "15           Wyoming     46  0    0   46  42.913360 -85.705309\n",
       "14      East Lansing     55  0    3   52  42.736979 -84.483865\n",
       "..               ...    ... ..  ...  ...        ...        ...\n",
       "5          Ann Arbor     90  0    4   86  42.280826 -83.743038\n",
       "4   Farmington Hills     95  0    4   91  42.498994 -83.367717\n",
       "3       Battle Creek    116  0    6  110  42.321152 -85.179714\n",
       "2            Midland    137  0    1  136  43.615583 -84.247212\n",
       "1    Rochester Hills    150  0    2  148  42.658366 -83.149932\n",
       "0            Portage    191  0    5  186  42.201154 -85.580002\n",
       "\n",
       "[20 rows x 7 columns]"
      ]
     },
     "execution_count": 26,
     "metadata": {},
     "output_type": "execute_result"
    }
   ],
   "source": [
    "deer = pd.read_csv(\"deer_in_the_city.txt\").sort_values(by = [\"Total\"])\n",
    "# take top 20\n",
    "deer = deer[-20:]\n",
    "deer"
   ]
  },
  {
   "cell_type": "code",
   "execution_count": 27,
   "metadata": {
    "collapsed": false
   },
   "outputs": [],
   "source": [
    "deer[\"Total\"] = pd.to_numeric(deer[\"Total\"])"
   ]
  },
  {
   "cell_type": "markdown",
   "metadata": {},
   "source": [
    "### Plotting circles"
   ]
  },
  {
   "cell_type": "code",
   "execution_count": 28,
   "metadata": {
    "collapsed": false
   },
   "outputs": [],
   "source": [
    "for lat, lon, num in zip(deer['Lat'], deer['Lon'], deer['Total']):\n",
    "    circ = plt.Circle((lon, lat), radius = num / 500, color = 'maroon', alpha = .3, fill = True)\n",
    "    ax3.add_artist(circ)"
   ]
  },
  {
   "cell_type": "code",
   "execution_count": 29,
   "metadata": {
    "collapsed": false
   },
   "outputs": [],
   "source": [
    "# Format figure and save\n",
    "plt.axis('off')\n",
    "plt.tight_layout()\n",
    "fig3.savefig(\"top_20_crashes.png\", facecolor=fig2.get_facecolor(), bbox_inches='tight')"
   ]
  },
  {
   "cell_type": "markdown",
   "metadata": {},
   "source": [
    "# Isopleth"
   ]
  },
  {
   "cell_type": "code",
   "execution_count": 34,
   "metadata": {
    "collapsed": false
   },
   "outputs": [
    {
     "data": {
      "text/html": [
       "<div>\n",
       "<table border=\"1\" class=\"dataframe\">\n",
       "  <thead>\n",
       "    <tr style=\"text-align: right;\">\n",
       "      <th></th>\n",
       "      <th>maxTemp</th>\n",
       "      <th>minTemp</th>\n",
       "      <th>wind</th>\n",
       "      <th>longitude</th>\n",
       "      <th>latitude</th>\n",
       "    </tr>\n",
       "  </thead>\n",
       "  <tbody>\n",
       "    <tr>\n",
       "      <th>0</th>\n",
       "      <td>28.55</td>\n",
       "      <td>15.76</td>\n",
       "      <td>19.90</td>\n",
       "      <td>-90.3</td>\n",
       "      <td>46.6</td>\n",
       "    </tr>\n",
       "    <tr>\n",
       "      <th>1</th>\n",
       "      <td>28.45</td>\n",
       "      <td>15.31</td>\n",
       "      <td>21.38</td>\n",
       "      <td>-90.2</td>\n",
       "      <td>46.5</td>\n",
       "    </tr>\n",
       "    <tr>\n",
       "      <th>2</th>\n",
       "      <td>28.26</td>\n",
       "      <td>15.39</td>\n",
       "      <td>21.06</td>\n",
       "      <td>-90.2</td>\n",
       "      <td>46.6</td>\n",
       "    </tr>\n",
       "    <tr>\n",
       "      <th>3</th>\n",
       "      <td>29.20</td>\n",
       "      <td>15.80</td>\n",
       "      <td>20.93</td>\n",
       "      <td>-90.1</td>\n",
       "      <td>46.4</td>\n",
       "    </tr>\n",
       "    <tr>\n",
       "      <th>4</th>\n",
       "      <td>28.22</td>\n",
       "      <td>15.05</td>\n",
       "      <td>21.97</td>\n",
       "      <td>-90.1</td>\n",
       "      <td>46.5</td>\n",
       "    </tr>\n",
       "    <tr>\n",
       "      <th>5</th>\n",
       "      <td>28.46</td>\n",
       "      <td>15.36</td>\n",
       "      <td>21.53</td>\n",
       "      <td>-90.1</td>\n",
       "      <td>46.6</td>\n",
       "    </tr>\n",
       "    <tr>\n",
       "      <th>...</th>\n",
       "      <td>...</td>\n",
       "      <td>...</td>\n",
       "      <td>...</td>\n",
       "      <td>...</td>\n",
       "      <td>...</td>\n",
       "    </tr>\n",
       "    <tr>\n",
       "      <th>1700</th>\n",
       "      <td>44.72</td>\n",
       "      <td>35.78</td>\n",
       "      <td>18.24</td>\n",
       "      <td>-82.6</td>\n",
       "      <td>43.6</td>\n",
       "    </tr>\n",
       "    <tr>\n",
       "      <th>1701</th>\n",
       "      <td>50.80</td>\n",
       "      <td>37.59</td>\n",
       "      <td>19.39</td>\n",
       "      <td>-82.5</td>\n",
       "      <td>42.7</td>\n",
       "    </tr>\n",
       "    <tr>\n",
       "      <th>1702</th>\n",
       "      <td>50.34</td>\n",
       "      <td>38.02</td>\n",
       "      <td>18.96</td>\n",
       "      <td>-82.5</td>\n",
       "      <td>42.8</td>\n",
       "    </tr>\n",
       "    <tr>\n",
       "      <th>1703</th>\n",
       "      <td>50.02</td>\n",
       "      <td>37.51</td>\n",
       "      <td>17.78</td>\n",
       "      <td>-82.5</td>\n",
       "      <td>42.9</td>\n",
       "    </tr>\n",
       "    <tr>\n",
       "      <th>1704</th>\n",
       "      <td>49.91</td>\n",
       "      <td>38.35</td>\n",
       "      <td>18.96</td>\n",
       "      <td>-82.5</td>\n",
       "      <td>43.0</td>\n",
       "    </tr>\n",
       "    <tr>\n",
       "      <th>1705</th>\n",
       "      <td>49.47</td>\n",
       "      <td>38.42</td>\n",
       "      <td>18.67</td>\n",
       "      <td>-82.5</td>\n",
       "      <td>43.1</td>\n",
       "    </tr>\n",
       "  </tbody>\n",
       "</table>\n",
       "<p>1706 rows × 5 columns</p>\n",
       "</div>"
      ],
      "text/plain": [
       "      maxTemp  minTemp   wind  longitude  latitude\n",
       "0       28.55    15.76  19.90      -90.3      46.6\n",
       "1       28.45    15.31  21.38      -90.2      46.5\n",
       "2       28.26    15.39  21.06      -90.2      46.6\n",
       "3       29.20    15.80  20.93      -90.1      46.4\n",
       "4       28.22    15.05  21.97      -90.1      46.5\n",
       "5       28.46    15.36  21.53      -90.1      46.6\n",
       "...       ...      ...    ...        ...       ...\n",
       "1700    44.72    35.78  18.24      -82.6      43.6\n",
       "1701    50.80    37.59  19.39      -82.5      42.7\n",
       "1702    50.34    38.02  18.96      -82.5      42.8\n",
       "1703    50.02    37.51  17.78      -82.5      42.9\n",
       "1704    49.91    38.35  18.96      -82.5      43.0\n",
       "1705    49.47    38.42  18.67      -82.5      43.1\n",
       "\n",
       "[1706 rows x 5 columns]"
      ]
     },
     "execution_count": 34,
     "metadata": {},
     "output_type": "execute_result"
    }
   ],
   "source": [
    "plt.gcf().clear()\n",
    "\n",
    "# read in temperature\n",
    "temps = pd.read_csv(\"mi_temperature.txt\")\n",
    "lats = temps[\"latitude\"].drop_duplicates().sort_values()\n",
    "lons = temps[\"longitude\"].drop_duplicates().sort_values()\n",
    "Y, X = np.meshgrid(lats, lons) # creates numpy arrays of all X/Y combos\n",
    "temps = temps.sort_values(by = [\"longitude\", \"latitude\"])\n",
    "\n",
    "temps"
   ]
  },
  {
   "cell_type": "code",
   "execution_count": 35,
   "metadata": {
    "collapsed": false
   },
   "outputs": [
    {
     "data": {
      "text/html": [
       "<div>\n",
       "<table border=\"1\" class=\"dataframe\">\n",
       "  <thead>\n",
       "    <tr style=\"text-align: right;\">\n",
       "      <th></th>\n",
       "      <th>maxTemp</th>\n",
       "      <th>minTemp</th>\n",
       "      <th>wind</th>\n",
       "      <th>longitude</th>\n",
       "      <th>latitude</th>\n",
       "    </tr>\n",
       "  </thead>\n",
       "  <tbody>\n",
       "    <tr>\n",
       "      <th>0</th>\n",
       "      <td>22.87</td>\n",
       "      <td>22.87</td>\n",
       "      <td>22.87</td>\n",
       "      <td>-90.3</td>\n",
       "      <td>41.7</td>\n",
       "    </tr>\n",
       "    <tr>\n",
       "      <th>1</th>\n",
       "      <td>22.87</td>\n",
       "      <td>22.87</td>\n",
       "      <td>22.87</td>\n",
       "      <td>-90.2</td>\n",
       "      <td>41.7</td>\n",
       "    </tr>\n",
       "    <tr>\n",
       "      <th>2</th>\n",
       "      <td>22.87</td>\n",
       "      <td>22.87</td>\n",
       "      <td>22.87</td>\n",
       "      <td>-90.1</td>\n",
       "      <td>41.7</td>\n",
       "    </tr>\n",
       "    <tr>\n",
       "      <th>3</th>\n",
       "      <td>22.87</td>\n",
       "      <td>22.87</td>\n",
       "      <td>22.87</td>\n",
       "      <td>-90.0</td>\n",
       "      <td>41.7</td>\n",
       "    </tr>\n",
       "    <tr>\n",
       "      <th>4</th>\n",
       "      <td>22.87</td>\n",
       "      <td>22.87</td>\n",
       "      <td>22.87</td>\n",
       "      <td>-89.9</td>\n",
       "      <td>41.7</td>\n",
       "    </tr>\n",
       "    <tr>\n",
       "      <th>5</th>\n",
       "      <td>22.87</td>\n",
       "      <td>22.87</td>\n",
       "      <td>22.87</td>\n",
       "      <td>-89.8</td>\n",
       "      <td>41.7</td>\n",
       "    </tr>\n",
       "    <tr>\n",
       "      <th>...</th>\n",
       "      <td>...</td>\n",
       "      <td>...</td>\n",
       "      <td>...</td>\n",
       "      <td>...</td>\n",
       "      <td>...</td>\n",
       "    </tr>\n",
       "    <tr>\n",
       "      <th>4813</th>\n",
       "      <td>22.87</td>\n",
       "      <td>22.87</td>\n",
       "      <td>22.87</td>\n",
       "      <td>-83.0</td>\n",
       "      <td>48.1</td>\n",
       "    </tr>\n",
       "    <tr>\n",
       "      <th>4814</th>\n",
       "      <td>22.87</td>\n",
       "      <td>22.87</td>\n",
       "      <td>22.87</td>\n",
       "      <td>-82.9</td>\n",
       "      <td>48.1</td>\n",
       "    </tr>\n",
       "    <tr>\n",
       "      <th>4815</th>\n",
       "      <td>22.87</td>\n",
       "      <td>22.87</td>\n",
       "      <td>22.87</td>\n",
       "      <td>-82.8</td>\n",
       "      <td>48.1</td>\n",
       "    </tr>\n",
       "    <tr>\n",
       "      <th>4816</th>\n",
       "      <td>22.87</td>\n",
       "      <td>22.87</td>\n",
       "      <td>22.87</td>\n",
       "      <td>-82.7</td>\n",
       "      <td>48.1</td>\n",
       "    </tr>\n",
       "    <tr>\n",
       "      <th>4817</th>\n",
       "      <td>22.87</td>\n",
       "      <td>22.87</td>\n",
       "      <td>22.87</td>\n",
       "      <td>-82.6</td>\n",
       "      <td>48.1</td>\n",
       "    </tr>\n",
       "    <tr>\n",
       "      <th>4818</th>\n",
       "      <td>22.87</td>\n",
       "      <td>22.87</td>\n",
       "      <td>22.87</td>\n",
       "      <td>-82.5</td>\n",
       "      <td>48.1</td>\n",
       "    </tr>\n",
       "  </tbody>\n",
       "</table>\n",
       "<p>4819 rows × 5 columns</p>\n",
       "</div>"
      ],
      "text/plain": [
       "      maxTemp  minTemp   wind  longitude  latitude\n",
       "0       22.87    22.87  22.87      -90.3      41.7\n",
       "1       22.87    22.87  22.87      -90.2      41.7\n",
       "2       22.87    22.87  22.87      -90.1      41.7\n",
       "3       22.87    22.87  22.87      -90.0      41.7\n",
       "4       22.87    22.87  22.87      -89.9      41.7\n",
       "5       22.87    22.87  22.87      -89.8      41.7\n",
       "...       ...      ...    ...        ...       ...\n",
       "4813    22.87    22.87  22.87      -83.0      48.1\n",
       "4814    22.87    22.87  22.87      -82.9      48.1\n",
       "4815    22.87    22.87  22.87      -82.8      48.1\n",
       "4816    22.87    22.87  22.87      -82.7      48.1\n",
       "4817    22.87    22.87  22.87      -82.6      48.1\n",
       "4818    22.87    22.87  22.87      -82.5      48.1\n",
       "\n",
       "[4819 rows x 5 columns]"
      ]
     },
     "execution_count": 35,
     "metadata": {},
     "output_type": "execute_result"
    }
   ],
   "source": [
    "# create dataframe of all lat/lon combos to merge temps with\n",
    "latlons = pd.DataFrame(columns = [\"longitude\", \"latitude\"])\n",
    "latlons[\"longitude\"] = list(lons) * len(lats)\n",
    "latlons[\"latitude\"] = list(np.repeat(lats, len(lons)))\n",
    "latlons = latlons.sort_values(by = [\"longitude\", \"latitude\"])\n",
    "# merge temps with new dataframe so all possible lat/lon combos are present\n",
    "temps = pd.merge(temps, latlons, how = 'right', on = [\"latitude\", \"longitude\"], sort = True)\n",
    "temps = temps.fillna(np.nanmin(list(temps[\"maxTemp\"])) - 2) # fill non-land values with lowest temp - 2\n",
    "# create new Z array from sorted maxTemp column\n",
    "Z = temps.pivot(index = 'longitude', columns = 'latitude', values = 'maxTemp')\n",
    "temps"
   ]
  },
  {
   "cell_type": "code",
   "execution_count": 36,
   "metadata": {
    "collapsed": false
   },
   "outputs": [
    {
     "name": "stdout",
     "output_type": "stream",
     "text": [
      "[[-90.3 -90.3 -90.3 ..., -90.3 -90.3 -90.3]\n",
      " [-90.2 -90.2 -90.2 ..., -90.2 -90.2 -90.2]\n",
      " [-90.1 -90.1 -90.1 ..., -90.1 -90.1 -90.1]\n",
      " ..., \n",
      " [-82.7 -82.7 -82.7 ..., -82.7 -82.7 -82.7]\n",
      " [-82.6 -82.6 -82.6 ..., -82.6 -82.6 -82.6]\n",
      " [-82.5 -82.5 -82.5 ..., -82.5 -82.5 -82.5]]\n",
      "[[ 41.7  41.8  41.9 ...,  47.9  48.   48.1]\n",
      " [ 41.7  41.8  41.9 ...,  47.9  48.   48.1]\n",
      " [ 41.7  41.8  41.9 ...,  47.9  48.   48.1]\n",
      " ..., \n",
      " [ 41.7  41.8  41.9 ...,  47.9  48.   48.1]\n",
      " [ 41.7  41.8  41.9 ...,  47.9  48.   48.1]\n",
      " [ 41.7  41.8  41.9 ...,  47.9  48.   48.1]]\n"
     ]
    }
   ],
   "source": [
    "print(X)\n",
    "print(Y)\n",
    "# plot and save figure\n",
    "fig4 = plt.figure(figsize=(inches,inches), frameon=False)\n",
    "plt.axes().set_aspect('equal', 'datalim')\n",
    "CS = plt.contour(X, Y, Z, 20) # will use 20 isopleth cutoffs\n",
    "plt.clabel(CS, inline = 1, fontsize = 10)\n",
    "plt.axis('off')\n",
    "fig4.savefig(\"isopleth.png\")"
   ]
  },
  {
   "cell_type": "markdown",
   "metadata": {},
   "source": [
    "### Practice\n",
    "Try using the 'wind' column instead to make a different plot  \n",
    "\n",
    "Try changing the number of isopleth cutoffs  \n",
    "\n",
    "Try filling the blank areas with 0 instead of lowest - 2"
   ]
  },
  {
   "cell_type": "code",
   "execution_count": null,
   "metadata": {
    "collapsed": true
   },
   "outputs": [],
   "source": []
  }
 ],
 "metadata": {
  "anaconda-cloud": {},
  "kernelspec": {
   "display_name": "Python [conda root]",
   "language": "python",
   "name": "conda-root-py"
  },
  "language_info": {
   "codemirror_mode": {
    "name": "ipython",
    "version": 3
   },
   "file_extension": ".py",
   "mimetype": "text/x-python",
   "name": "python",
   "nbconvert_exporter": "python",
   "pygments_lexer": "ipython3",
   "version": "3.5.2"
  }
 },
 "nbformat": 4,
 "nbformat_minor": 0
}
