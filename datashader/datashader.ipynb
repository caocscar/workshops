{
 "cells": [
  {
   "cell_type": "markdown",
   "metadata": {},
   "source": [
    "# Datashader Workshop\n",
    "\n",
    "`Datashader` is a graphics pipeline system for visualizing large amounts of data. It breaks the creation of images into 3 steps:\n",
    "1. Projection: Each record is projected into zero or more bins.\n",
    "2. Aggregation: Reductions are computed for each bin, compressing the datset into a smaller aggregate one.\n",
    "3. Transformation: Aggregates are further processed to create an image.\n",
    "\n",
    "The `Datashader` module from Continuum Analytics came out of funding from DARPA’s XDATA program, a research effort to develop new computational techniques and open-source software tools for processing and analyzing big data.\n",
    "\n",
    "Import Python modules.  \n",
    "- Standard Python modules.\n",
    "- `Bokeh` modules.\n",
    "- `Datashader` modules."
   ]
  },
  {
   "cell_type": "code",
   "execution_count": 3,
   "metadata": {},
   "outputs": [
    {
     "data": {
      "text/html": [
       "\n",
       "    <div class=\"bk-root\">\n",
       "        <a href=\"http://bokeh.pydata.org\" target=\"_blank\" class=\"bk-logo bk-logo-small bk-logo-notebook\"></a>\n",
       "        <span id=\"2519dd82-9a8b-436f-9e41-a88cdef989d6\">Loading BokehJS ...</span>\n",
       "    </div>"
      ]
     },
     "metadata": {},
     "output_type": "display_data"
    },
    {
     "data": {
      "application/javascript": [
       "\n",
       "(function(global) {\n",
       "  function now() {\n",
       "    return new Date();\n",
       "  }\n",
       "\n",
       "  var force = true;\n",
       "\n",
       "  if (typeof (window._bokeh_onload_callbacks) === \"undefined\" || force === true) {\n",
       "    window._bokeh_onload_callbacks = [];\n",
       "    window._bokeh_is_loading = undefined;\n",
       "  }\n",
       "\n",
       "\n",
       "  \n",
       "  if (typeof (window._bokeh_timeout) === \"undefined\" || force === true) {\n",
       "    window._bokeh_timeout = Date.now() + 5000;\n",
       "    window._bokeh_failed_load = false;\n",
       "  }\n",
       "\n",
       "  var NB_LOAD_WARNING = {'data': {'text/html':\n",
       "     \"<div style='background-color: #fdd'>\\n\"+\n",
       "     \"<p>\\n\"+\n",
       "     \"BokehJS does not appear to have successfully loaded. If loading BokehJS from CDN, this \\n\"+\n",
       "     \"may be due to a slow or bad network connection. Possible fixes:\\n\"+\n",
       "     \"</p>\\n\"+\n",
       "     \"<ul>\\n\"+\n",
       "     \"<li>re-rerun `output_notebook()` to attempt to load from CDN again, or</li>\\n\"+\n",
       "     \"<li>use INLINE resources instead, as so:</li>\\n\"+\n",
       "     \"</ul>\\n\"+\n",
       "     \"<code>\\n\"+\n",
       "     \"from bokeh.resources import INLINE\\n\"+\n",
       "     \"output_notebook(resources=INLINE)\\n\"+\n",
       "     \"</code>\\n\"+\n",
       "     \"</div>\"}};\n",
       "\n",
       "  function display_loaded() {\n",
       "    if (window.Bokeh !== undefined) {\n",
       "      var el = document.getElementById(\"2519dd82-9a8b-436f-9e41-a88cdef989d6\");\n",
       "      el.textContent = \"BokehJS \" + Bokeh.version + \" successfully loaded.\";\n",
       "    } else if (Date.now() < window._bokeh_timeout) {\n",
       "      setTimeout(display_loaded, 100)\n",
       "    }\n",
       "  }\n",
       "\n",
       "  function run_callbacks() {\n",
       "    try {\n",
       "      window._bokeh_onload_callbacks.forEach(function(callback) { callback() });\n",
       "    }\n",
       "    finally {\n",
       "      delete window._bokeh_onload_callbacks\n",
       "    }\n",
       "    console.info(\"Bokeh: all callbacks have finished\");\n",
       "  }\n",
       "\n",
       "  function load_libs(js_urls, callback) {\n",
       "    window._bokeh_onload_callbacks.push(callback);\n",
       "    if (window._bokeh_is_loading > 0) {\n",
       "      console.log(\"Bokeh: BokehJS is being loaded, scheduling callback at\", now());\n",
       "      return null;\n",
       "    }\n",
       "    if (js_urls == null || js_urls.length === 0) {\n",
       "      run_callbacks();\n",
       "      return null;\n",
       "    }\n",
       "    console.log(\"Bokeh: BokehJS not loaded, scheduling load and callback at\", now());\n",
       "    window._bokeh_is_loading = js_urls.length;\n",
       "    for (var i = 0; i < js_urls.length; i++) {\n",
       "      var url = js_urls[i];\n",
       "      var s = document.createElement('script');\n",
       "      s.src = url;\n",
       "      s.async = false;\n",
       "      s.onreadystatechange = s.onload = function() {\n",
       "        window._bokeh_is_loading--;\n",
       "        if (window._bokeh_is_loading === 0) {\n",
       "          console.log(\"Bokeh: all BokehJS libraries loaded\");\n",
       "          run_callbacks()\n",
       "        }\n",
       "      };\n",
       "      s.onerror = function() {\n",
       "        console.warn(\"failed to load library \" + url);\n",
       "      };\n",
       "      console.log(\"Bokeh: injecting script tag for BokehJS library: \", url);\n",
       "      document.getElementsByTagName(\"head\")[0].appendChild(s);\n",
       "    }\n",
       "  };var element = document.getElementById(\"2519dd82-9a8b-436f-9e41-a88cdef989d6\");\n",
       "  if (element == null) {\n",
       "    console.log(\"Bokeh: ERROR: autoload.js configured with elementid '2519dd82-9a8b-436f-9e41-a88cdef989d6' but no matching script tag was found. \")\n",
       "    return false;\n",
       "  }\n",
       "\n",
       "  var js_urls = [\"https://cdn.pydata.org/bokeh/release/bokeh-0.12.6.min.js\", \"https://cdn.pydata.org/bokeh/release/bokeh-widgets-0.12.6.min.js\"];\n",
       "\n",
       "  var inline_js = [\n",
       "    function(Bokeh) {\n",
       "      Bokeh.set_log_level(\"info\");\n",
       "    },\n",
       "    \n",
       "    function(Bokeh) {\n",
       "      \n",
       "    },\n",
       "    \n",
       "    function(Bokeh) {\n",
       "      \n",
       "      document.getElementById(\"2519dd82-9a8b-436f-9e41-a88cdef989d6\").textContent = \"BokehJS is loading...\";\n",
       "    },\n",
       "    function(Bokeh) {\n",
       "      console.log(\"Bokeh: injecting CSS: https://cdn.pydata.org/bokeh/release/bokeh-0.12.6.min.css\");\n",
       "      Bokeh.embed.inject_css(\"https://cdn.pydata.org/bokeh/release/bokeh-0.12.6.min.css\");\n",
       "      console.log(\"Bokeh: injecting CSS: https://cdn.pydata.org/bokeh/release/bokeh-widgets-0.12.6.min.css\");\n",
       "      Bokeh.embed.inject_css(\"https://cdn.pydata.org/bokeh/release/bokeh-widgets-0.12.6.min.css\");\n",
       "    }\n",
       "  ];\n",
       "\n",
       "  function run_inline_js() {\n",
       "    \n",
       "    if ((window.Bokeh !== undefined) || (force === true)) {\n",
       "      for (var i = 0; i < inline_js.length; i++) {\n",
       "        inline_js[i](window.Bokeh);\n",
       "      }if (force === true) {\n",
       "        display_loaded();\n",
       "      }} else if (Date.now() < window._bokeh_timeout) {\n",
       "      setTimeout(run_inline_js, 100);\n",
       "    } else if (!window._bokeh_failed_load) {\n",
       "      console.log(\"Bokeh: BokehJS failed to load within specified timeout.\");\n",
       "      window._bokeh_failed_load = true;\n",
       "    } else if (force !== true) {\n",
       "      var cell = $(document.getElementById(\"2519dd82-9a8b-436f-9e41-a88cdef989d6\")).parents('.cell').data().cell;\n",
       "      cell.output_area.append_execute_result(NB_LOAD_WARNING)\n",
       "    }\n",
       "\n",
       "  }\n",
       "\n",
       "  if (window._bokeh_is_loading === 0) {\n",
       "    console.log(\"Bokeh: BokehJS loaded, going straight to plotting\");\n",
       "    run_inline_js();\n",
       "  } else {\n",
       "    load_libs(js_urls, function() {\n",
       "      console.log(\"Bokeh: BokehJS plotting callback run at\", now());\n",
       "      run_inline_js();\n",
       "    });\n",
       "  }\n",
       "}(this));"
      ]
     },
     "metadata": {},
     "output_type": "display_data"
    },
    {
     "name": "stdout",
     "output_type": "stream",
     "text": [
      "CPU times: user 177 ms, sys: 45.5 ms, total: 223 ms\n",
      "Wall time: 277 ms\n"
     ]
    }
   ],
   "source": [
    "%%time\n",
    "import pandas as pd\n",
    "import numpy as np\n",
    "\n",
    "from bokeh.plotting import output_notebook, figure, show\n",
    "from bokeh.models import WMTSTileSource\n",
    "\n",
    "import datashader as ds\n",
    "import datashader.transfer_functions as tf\n",
    "from datashader.bokeh_ext import InteractiveImage\n",
    "\n",
    "output_notebook()\n",
    "%matplotlib inline"
   ]
  },
  {
   "cell_type": "code",
   "execution_count": 4,
   "metadata": {
    "collapsed": true
   },
   "outputs": [],
   "source": [
    "pd.options.display.max_rows = 10"
   ]
  },
  {
   "cell_type": "markdown",
   "metadata": {},
   "source": [
    "## Read Data"
   ]
  },
  {
   "cell_type": "code",
   "execution_count": 5,
   "metadata": {},
   "outputs": [
    {
     "name": "stdout",
     "output_type": "stream",
     "text": [
      "CPU times: user 44.3 s, sys: 9.62 s, total: 54 s\n",
      "Wall time: 59 s\n"
     ]
    },
    {
     "data": {
      "text/html": [
       "<div>\n",
       "<style>\n",
       "    .dataframe thead tr:only-child th {\n",
       "        text-align: right;\n",
       "    }\n",
       "\n",
       "    .dataframe thead th {\n",
       "        text-align: left;\n",
       "    }\n",
       "\n",
       "    .dataframe tbody tr th {\n",
       "        vertical-align: top;\n",
       "    }\n",
       "</style>\n",
       "<table border=\"1\" class=\"dataframe\">\n",
       "  <thead>\n",
       "    <tr style=\"text-align: right;\">\n",
       "      <th></th>\n",
       "      <th>RxDevice</th>\n",
       "      <th>FileId</th>\n",
       "      <th>Gentime</th>\n",
       "      <th>Latitude</th>\n",
       "      <th>Longitude</th>\n",
       "      <th>Speed</th>\n",
       "      <th>TripStart</th>\n",
       "    </tr>\n",
       "  </thead>\n",
       "  <tbody>\n",
       "    <tr>\n",
       "      <th>22715930</th>\n",
       "      <td>1063</td>\n",
       "      <td>8475488</td>\n",
       "      <td>346251981946550</td>\n",
       "      <td>42.314659</td>\n",
       "      <td>-83.650154</td>\n",
       "      <td>21.700001</td>\n",
       "      <td>41994</td>\n",
       "    </tr>\n",
       "    <tr>\n",
       "      <th>22715940</th>\n",
       "      <td>1063</td>\n",
       "      <td>8475488</td>\n",
       "      <td>346251982946313</td>\n",
       "      <td>42.314487</td>\n",
       "      <td>-83.650276</td>\n",
       "      <td>21.559999</td>\n",
       "      <td>41994</td>\n",
       "    </tr>\n",
       "    <tr>\n",
       "      <th>22715950</th>\n",
       "      <td>1063</td>\n",
       "      <td>8475488</td>\n",
       "      <td>346251983946407</td>\n",
       "      <td>42.314316</td>\n",
       "      <td>-83.650391</td>\n",
       "      <td>21.360001</td>\n",
       "      <td>41994</td>\n",
       "    </tr>\n",
       "    <tr>\n",
       "      <th>22715960</th>\n",
       "      <td>1063</td>\n",
       "      <td>8475488</td>\n",
       "      <td>346251984946392</td>\n",
       "      <td>42.314144</td>\n",
       "      <td>-83.650513</td>\n",
       "      <td>21.120001</td>\n",
       "      <td>41994</td>\n",
       "    </tr>\n",
       "    <tr>\n",
       "      <th>22715970</th>\n",
       "      <td>1063</td>\n",
       "      <td>8475488</td>\n",
       "      <td>346251985946388</td>\n",
       "      <td>42.313976</td>\n",
       "      <td>-83.650627</td>\n",
       "      <td>21.000000</td>\n",
       "      <td>41994</td>\n",
       "    </tr>\n",
       "  </tbody>\n",
       "</table>\n",
       "</div>"
      ],
      "text/plain": [
       "          RxDevice   FileId          Gentime   Latitude  Longitude      Speed  \\\n",
       "22715930      1063  8475488  346251981946550  42.314659 -83.650154  21.700001   \n",
       "22715940      1063  8475488  346251982946313  42.314487 -83.650276  21.559999   \n",
       "22715950      1063  8475488  346251983946407  42.314316 -83.650391  21.360001   \n",
       "22715960      1063  8475488  346251984946392  42.314144 -83.650513  21.120001   \n",
       "22715970      1063  8475488  346251985946388  42.313976 -83.650627  21.000000   \n",
       "\n",
       "          TripStart  \n",
       "22715930      41994  \n",
       "22715940      41994  \n",
       "22715950      41994  \n",
       "22715960      41994  \n",
       "22715970      41994  "
      ]
     },
     "execution_count": 5,
     "metadata": {},
     "output_type": "execute_result"
    }
   ],
   "source": [
    "%time df = pd.read_csv('bsm41993-41994.csv')\n",
    "df = df.iloc[::10,:]\n",
    "df = df.query('TripStart == 41994')\n",
    "df.head()"
   ]
  },
  {
   "cell_type": "code",
   "execution_count": 6,
   "metadata": {},
   "outputs": [
    {
     "data": {
      "text/plain": [
       "(1778698, 7)"
      ]
     },
     "execution_count": 6,
     "metadata": {},
     "output_type": "execute_result"
    }
   ],
   "source": [
    "df.shape"
   ]
  },
  {
   "cell_type": "markdown",
   "metadata": {},
   "source": [
    "## Some Data Wrangling"
   ]
  },
  {
   "cell_type": "markdown",
   "metadata": {},
   "source": [
    "Function to convert _latitude_, _longitude_ degree coordinates to meters in web mercator projection."
   ]
  },
  {
   "cell_type": "code",
   "execution_count": null,
   "metadata": {
    "collapsed": true
   },
   "outputs": [],
   "source": [
    "def latlng_to_meters(df, lat_name, lng_name):\n",
    "    origin_shift = 2 * np.pi * 6378137 / 2.0\n",
    "    mx = df[lng_name] * origin_shift / 180.0\n",
    "    my = np.log(np.tan((90 + df[lat_name]) * np.pi / 360.0)) / (np.pi / 180.0)\n",
    "    my = my * origin_shift / 180.0\n",
    "    mx = mx.apply(lambda x: np.around(x,0))\n",
    "    my = my.apply(lambda y: np.around(y,0))\n",
    "    df.loc[:,lng_name] = mx.astype(int)\n",
    "    df.loc[:,lat_name] = my.astype(int)\n",
    "    return df"
   ]
  },
  {
   "cell_type": "markdown",
   "metadata": {},
   "source": [
    "Call `latlng_to_meters` conversion function.  \n",
    "Convert _Speed_ to mph.  \n",
    "Make _Gentime_ as small as possible.  \n",
    "Rename columns.  \n",
    "Discard data containing speeds above 100 _mph_.  "
   ]
  },
  {
   "cell_type": "code",
   "execution_count": null,
   "metadata": {
    "collapsed": true,
    "scrolled": true
   },
   "outputs": [],
   "source": [
    "df = latlng_to_meters(df,\"Latitude\",\"Longitude\")\n",
    "df['Speed'] = df['Speed']*2.23694\n",
    "df['Gentime'] = df['Gentime'] - df['Gentime'].min()\n",
    "df.rename(columns={'Latitude':'y','Longitude':'x','Speed':'mph'}, inplace=True)\n",
    "df = df.query('mph < 100')"
   ]
  },
  {
   "cell_type": "code",
   "execution_count": null,
   "metadata": {},
   "outputs": [],
   "source": [
    "df"
   ]
  },
  {
   "cell_type": "markdown",
   "metadata": {},
   "source": [
    "## Standard Bokeh Plot"
   ]
  },
  {
   "cell_type": "markdown",
   "metadata": {},
   "source": [
    "Manually set xy range of figure"
   ]
  },
  {
   "cell_type": "code",
   "execution_count": null,
   "metadata": {
    "collapsed": true
   },
   "outputs": [],
   "source": [
    "if False:\n",
    "    xrange = [x-1000 for x in (-9324094,-9314310)]\n",
    "    yrange = [y+1500 for y in (5195271, 5205055)]\n",
    "else:\n",
    "    xrange = [x+2000 for x in (-9333878,-9314310)]\n",
    "    yrange = [y+6000 for y in (5185487, 5205055)]"
   ]
  },
  {
   "cell_type": "markdown",
   "metadata": {},
   "source": [
    "Define our basic `Bokeh` plot configuration. Set interactive tools, xy range, plot width and height.  \n",
    "Set axis and grid lines to off.  \n",
    "Define border margins."
   ]
  },
  {
   "cell_type": "code",
   "execution_count": null,
   "metadata": {
    "collapsed": true
   },
   "outputs": [],
   "source": [
    "width = 400\n",
    "height = 400\n",
    "def base_plot():\n",
    "    p = figure(tools='pan, box_zoom, reset', plot_width=width, plot_height=height,\n",
    "              x_range=xrange, y_range=yrange, outline_line_color=None)\n",
    "    p.axis.visible = False\n",
    "    p.xgrid.grid_line_color = None\n",
    "    p.ygrid.grid_line_color = None\n",
    "    p.min_border_bottom = 0\n",
    "    p.min_border_top = 0\n",
    "    p.min_border_left = 0\n",
    "    p.min_border_right = 0\n",
    "    return p"
   ]
  },
  {
   "cell_type": "markdown",
   "metadata": {},
   "source": [
    "Draw `Bokeh` figure using `circle` markers."
   ]
  },
  {
   "cell_type": "code",
   "execution_count": null,
   "metadata": {},
   "outputs": [],
   "source": [
    "options = dict(line_color=None, fill_color='blue', size=3, alpha=0.1)\n",
    "samples = df.sample(n=10000, random_state=20160)\n",
    "s = base_plot()\n",
    "s.circle(samples['x'], samples[\"y\"], **options)\n",
    "show(s)"
   ]
  },
  {
   "cell_type": "markdown",
   "metadata": {},
   "source": [
    "## Datashader Plot"
   ]
  },
  {
   "cell_type": "markdown",
   "metadata": {},
   "source": [
    "Create a canvas representing the space for binning data records.  \n",
    "**Projection and Aggregation Step**: Create points centered at x and y with the z-value being the aggregate summary (count in this case).  \n",
    "**Transformation Step**: Converts the 2D DataArray (pts) to an image interpolating between the low and high color linearly.  \n",
    "Display the image"
   ]
  },
  {
   "cell_type": "code",
   "execution_count": null,
   "metadata": {
    "collapsed": true
   },
   "outputs": [],
   "source": [
    "canvas = ds.Canvas(plot_width=width, plot_height=height, \n",
    "                   x_range=xrange, y_range=yrange, \n",
    "                   x_axis_type='linear', y_axis_type='linear')\n",
    "pts = canvas.points(df, 'x', 'y', agg=ds.count('Gentime'))"
   ]
  },
  {
   "cell_type": "code",
   "execution_count": null,
   "metadata": {},
   "outputs": [],
   "source": [
    "tf.Images(tf.shade(pts, name=\"Color by Gentime Counts in Each Grid\"))"
   ]
  },
  {
   "cell_type": "code",
   "execution_count": null,
   "metadata": {
    "scrolled": false
   },
   "outputs": [],
   "source": [
    "pts = canvas.points(df, 'x', 'y', ds.max('mph'))\n",
    "tf.Images(tf.shade(pts, cmap=['yellow','red'],name=\"Color by Max Speed in Each Grid\"))"
   ]
  },
  {
   "cell_type": "markdown",
   "metadata": {},
   "source": [
    "### Plotting Multiple Layers"
   ]
  },
  {
   "cell_type": "markdown",
   "metadata": {},
   "source": [
    "You can combine images together, layering images onto one another using the transfer function `stack` method."
   ]
  },
  {
   "cell_type": "code",
   "execution_count": null,
   "metadata": {},
   "outputs": [],
   "source": [
    "def merge_images(x_range, y_range, w, h):\n",
    "    cvs = ds.Canvas(plot_width=w, plot_height=h, x_range=x_range, y_range=y_range)\n",
    "    pts = cvs.points(df, 'x', 'y', ds.mean('mph'))\n",
    "    low = tf.shade(pts.where(pts<25), cmap=[\"lightgreen\", 'darkgreen'])\n",
    "    high = tf.shade(pts.where(pts>25), cmap=[\"pink\", 'purple'] )\n",
    "    return tf.stack(low,high) # order of layers\n",
    "\n",
    "merge_images(xrange,yrange,width,height)"
   ]
  },
  {
   "cell_type": "markdown",
   "metadata": {},
   "source": [
    "### Datashader Interactive Plot\n",
    "\n",
    "Datashader combined with the Bokeh interactive plot. Allows you to pan and zoom in on the image.  \n",
    "1. For a single image and it will just zoom in on the image\n",
    "2. More multiple images, it will re-draw a new image"
   ]
  },
  {
   "cell_type": "code",
   "execution_count": null,
   "metadata": {},
   "outputs": [],
   "source": [
    "def create_image(xrange, yrange, w=width, h=height):\n",
    "    cvs = ds.Canvas(plot_width=w, plot_height=h, x_range=xrange, y_range=yrange)\n",
    "    agg = cvs.points(df, 'x', 'y', ds.mean('mph'))\n",
    "    img = tf.shade(agg, cmap=[\"yellow\",'darkblue'])\n",
    "    return img\n",
    "\n",
    "p = base_plot()\n",
    "InteractiveImage(p, create_image)"
   ]
  },
  {
   "cell_type": "code",
   "execution_count": null,
   "metadata": {
    "scrolled": false
   },
   "outputs": [],
   "source": [
    "p2 = base_plot()\n",
    "InteractiveImage(p2, merge_images)"
   ]
  },
  {
   "cell_type": "markdown",
   "metadata": {},
   "source": [
    "### Add Background Web Tiles to Geospatial Data"
   ]
  },
  {
   "cell_type": "markdown",
   "metadata": {},
   "source": [
    "Choose a web tile provider using the `WMTSTileSource` class and `add_tile` method. You can choose any provider like OpenStreetMaps, Esri, Mapbox, etc. Here we use the STAMEN watercolor web tiles."
   ]
  },
  {
   "cell_type": "code",
   "execution_count": null,
   "metadata": {},
   "outputs": [],
   "source": [
    "tile_options = dict()\n",
    "tile_options['url'] = 'http://tile.stamen.com/watercolor/{z}/{x}/{y}.png'\n",
    "tile_source = WMTSTileSource(**tile_options)\n",
    "\n",
    "p = base_plot()\n",
    "p.add_tile(tile_source)\n",
    "InteractiveImage(p, merge_images)"
   ]
  },
  {
   "cell_type": "markdown",
   "metadata": {
    "collapsed": true
   },
   "source": [
    "## References\n",
    "\n",
    "References are bare bones since this is a brand new module (version 0.1.0).  \n",
    "http://datashader.readthedocs.org/en/latest/  \n",
    "https://media.readthedocs.org/pdf/datashader/latest/datashader.pdf"
   ]
  },
  {
   "cell_type": "markdown",
   "metadata": {},
   "source": [
    "## Software Version for Creating this Jupyter Notebook"
   ]
  },
  {
   "cell_type": "code",
   "execution_count": null,
   "metadata": {
    "collapsed": true
   },
   "outputs": [],
   "source": [
    "# you only need to do the following line once on your machine\n",
    "#%install_ext http://raw.github.com/jrjohansson/version_information/master/version_information.py\n",
    "%load_ext version_information\n",
    "%version_information pandas, numpy, bokeh, datashader"
   ]
  }
 ],
 "metadata": {
  "kernelspec": {
   "display_name": "Python 3",
   "language": "python",
   "name": "python3"
  }
 },
 "nbformat": 4,
 "nbformat_minor": 1
}
