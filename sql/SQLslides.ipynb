{
 "cells": [
  {
   "cell_type": "code",
   "execution_count": 1,
   "metadata": {
    "collapsed": false,
    "slideshow": {
     "slide_type": "skip"
    }
   },
   "outputs": [
    {
     "name": "stdout",
     "output_type": "stream",
     "text": [
      "Populating the interactive namespace from numpy and matplotlib\n"
     ]
    }
   ],
   "source": [
    "%pylab inline"
   ]
  },
  {
   "cell_type": "markdown",
   "metadata": {
    "slideshow": {
     "slide_type": "slide"
    }
   },
   "source": [
    "<hr>\n",
    "# Introduction to SQL\n",
    "\n",
    "By Alex Cao, Maggie Orton, Kaitlin Cornwell  \n",
    "\n",
    "\n",
    "September 28, 2018  \n",
    "\n",
    "<a href=\"http://cscar.research.umich.edu\" target=\"_blank\">CSCAR</a> at The University of Michigan"
   ]
  },
  {
   "cell_type": "markdown",
   "metadata": {
    "slideshow": {
     "slide_type": "fragment"
    }
   },
   "source": [
    "Please fill out the workshop sign-in <a href=\"https://goo.gl/forms/kLpPDHKlwZIV5ZpD2\" target=\"_blank\">here</a>\n"
   ]
  },
  {
   "cell_type": "markdown",
   "metadata": {
    "slideshow": {
     "slide_type": "fragment"
    }
   },
   "source": [
    "We'll practice SQL using the W3Schools online database <a href=\"https://www.w3schools.com/sql/trysql.asp?filename=trysql_select_all\" target=\"_blank\">here</a>\n",
    "\n",
    "Hint: It may be easier to open multiple tabs. One tab can be used to complete the exercises while the other can be used to view the data."
   ]
  },
  {
   "cell_type": "markdown",
   "metadata": {
    "slideshow": {
     "slide_type": "fragment"
    }
   },
   "source": [
    "Structured Query Language (\"SQL\") allows you to extract or change specific information in a relational database (i.e. a series of tables). "
   ]
  },
  {
   "cell_type": "markdown",
   "metadata": {
    "slideshow": {
     "slide_type": "fragment"
    }
   },
   "source": [
    " MySQL, SQLite, PostgreSQL, MS SQL Server, etc. are all database management systems that rely on SQL. Each has its own special variety of SQL, but the general format of the queries is the same. "
   ]
  },
  {
   "cell_type": "markdown",
   "metadata": {
    "slideshow": {
     "slide_type": "slide"
    }
   },
   "source": [
    "# SQL Queries\n",
    "\n",
    "## Format\n",
    "Series of commands followed by argument(s)\n",
    "\n",
    "When dealing with multiple tables, identify a column name with `tablename.columnname`\n",
    "\n",
    "End query with semicolon for multiple consecutive queries"
   ]
  },
  {
   "cell_type": "markdown",
   "metadata": {
    "slideshow": {
     "slide_type": "fragment"
    }
   },
   "source": [
    "## Style + Readability\n",
    "Table names and column names can be case sensitive. Depends on the database.\n",
    "\n",
    "SQL keywords are not case sensitive\n",
    "\n",
    "Standard format: Commands in all-caps\n",
    "\n",
    "Each command set on new line"
   ]
  },
  {
   "cell_type": "markdown",
   "metadata": {
    "slideshow": {
     "slide_type": "fragment"
    }
   },
   "source": [
    "## Comments\n",
    "Single-line comments:\n",
    "\n",
    "`--` begin line with two hyphens\n",
    "\n",
    "Multi-line comments:\n",
    "\n",
    "`\\*` enclose comment in asterisk|slashes `\\*`"
   ]
  },
  {
   "cell_type": "markdown",
   "metadata": {
    "slideshow": {
     "slide_type": "slide"
    }
   },
   "source": [
    "# SELECT, FROM, AS\n",
    "The `SELECT` command specifies the desired columns \n",
    "\n",
    "The `FROM` command specifies the table from which those columns should be selected\n",
    "\n",
    "The `AS` command temporarily renames a column or table with the specified name (an \"alias\")\n",
    "\n",
    "An `*` character selects all columns in a table"
   ]
  },
  {
   "cell_type": "markdown",
   "metadata": {
    "slideshow": {
     "slide_type": "fragment"
    }
   },
   "source": [
    "## Example\n",
    "To retrieve all columns from this table, you would use the command: \n",
    "\n",
    "**SELECT *  \n",
    "FROM Employees**\n"
   ]
  },
  {
   "cell_type": "markdown",
   "metadata": {
    "slideshow": {
     "slide_type": "fragment"
    }
   },
   "source": [
    "To retrieve only the name-related columns along with the corresponding birthdays from this table, you would use the command:\n",
    "\n",
    "**SELECT LastName, FirstName, BirthDate  \n",
    "FROM Employees**"
   ]
  },
  {
   "cell_type": "markdown",
   "metadata": {
    "slideshow": {
     "slide_type": "fragment"
    }
   },
   "source": [
    "To do the above while renaming the columns:\n",
    "\n",
    "**SELECT LastName AS 'Family Name', FirstName AS Given, BirthDate AS [Birth Date]  \n",
    "FROM Employees**"
   ]
  },
  {
   "cell_type": "markdown",
   "metadata": {
    "slideshow": {
     "slide_type": "subslide"
    }
   },
   "source": [
    "## Practice 1\n",
    "In the Products table, retreive all columns except Unit. Rename the ProductName and Price, but call them \"Item Name\" and \"Dollars\". \n",
    "\n",
    "Include a comment in your solution."
   ]
  },
  {
   "cell_type": "markdown",
   "metadata": {
    "collapsed": true,
    "slideshow": {
     "slide_type": "slide"
    }
   },
   "source": [
    "# COUNT\n",
    "`COUNT` returns the number of non-null results in the specified column or the number of non-null rows. "
   ]
  },
  {
   "cell_type": "markdown",
   "metadata": {
    "slideshow": {
     "slide_type": "fragment"
    }
   },
   "source": [
    "## Example\n",
    "To count the number of non-null rows in the Employees table:\n",
    "\n",
    "**SELECT COUNT(*)  \n",
    "FROM Employees**"
   ]
  },
  {
   "cell_type": "markdown",
   "metadata": {
    "slideshow": {
     "slide_type": "subslide"
    }
   },
   "source": [
    "## Practice 2\n",
    "Count the number of non-null values in ProductID and Quantity columms of the OrderDetails table."
   ]
  },
  {
   "cell_type": "markdown",
   "metadata": {
    "collapsed": true,
    "slideshow": {
     "slide_type": "slide"
    }
   },
   "source": [
    "# WHERE, AND, OR\n",
    "The WHERE command retrieves rows that satisfy a given condition\n",
    "\n",
    "Simple conditions:\n",
    "- `=`          Equals  \n",
    "- `!= or <>`   Does not equal\n",
    "- `> or <`    Is greater/less than\n",
    "- `>= or <=`  Is greater/less than or equal to\n",
    "\n",
    "Additional conditions covered in following slides:\n",
    "- `a AND b`\n",
    "- `a OR b`\n",
    "- `BETWEEN a AND b`\n",
    "- `IN ('a','b','c')`\n",
    "- `LIKE 'a'`\n",
    "\n",
    "`BETWEEN`, `IN`, and `LIKE` can all be modified using the `NOT` keyword to retrieve rows that are not a match\n",
    "    "
   ]
  },
  {
   "cell_type": "markdown",
   "metadata": {
    "slideshow": {
     "slide_type": "fragment"
    }
   },
   "source": [
    "## Example\n",
    "Using the 'Employees' table again, suppose you want to retrieve all employee information for those born before 1960:\n",
    "    \n",
    "**SELECT *  \n",
    "FROM Employees  \n",
    "WHERE BirthDate < '1960-01-01'**\n",
    "    \n",
    "Note: BirthDate is of type string instead of date. This command works because the date is specified in the correct order: 'YYYY-MM-DD'."
   ]
  },
  {
   "cell_type": "markdown",
   "metadata": {
    "slideshow": {
     "slide_type": "fragment"
    }
   },
   "source": [
    "Filtering out everyone whose last name is King:\n",
    "    \n",
    "**SELECT *  \n",
    "FROM Employees  \n",
    "WHERE LastName != 'King'**"
   ]
  },
  {
   "cell_type": "markdown",
   "metadata": {
    "slideshow": {
     "slide_type": "fragment"
    }
   },
   "source": [
    "Applying both filters: \n",
    "\n",
    "**SELECT *  \n",
    "FROM Employees  \n",
    "WHERE Lastname != 'King' AND BirthDate < '1960-01-01'**"
   ]
  },
  {
   "cell_type": "markdown",
   "metadata": {
    "slideshow": {
     "slide_type": "fragment"
    }
   },
   "source": [
    "Applying either filter:\n",
    "\n",
    "**SELECT *  \n",
    "FROM Employees  \n",
    "WHERE Lastname != 'King' OR BirthDate < '1960-01-01'**"
   ]
  },
  {
   "cell_type": "markdown",
   "metadata": {
    "slideshow": {
     "slide_type": "subslide"
    }
   },
   "source": [
    "## Practice 3\n",
    "\n",
    "Retrieve a list from the Orders table of orders starting in 1997 and with shipper IDs of at least 2, or orders that were shipped before 1997 and were sent from employee 3."
   ]
  },
  {
   "cell_type": "markdown",
   "metadata": {
    "collapsed": true,
    "slideshow": {
     "slide_type": "slide"
    }
   },
   "source": [
    "# BETWEEN, IN, and LIKE (wildcards)\n",
    "\n",
    "## Between\n",
    "\n",
    "The `BETWEEN` command gives a range of values (inclusive)\n",
    "\n",
    "`BETWEEN` can be modified using the `NOT` keyword to retrieve rows that are not a match"
   ]
  },
  {
   "cell_type": "markdown",
   "metadata": {
    "slideshow": {
     "slide_type": "fragment"
    }
   },
   "source": [
    "## Example\n",
    "To retrieve orders placed in January of 1997:\n",
    "    \n",
    "**SELECT *  \n",
    "FROM Orders  \n",
    "WHERE OrderDate BETWEEN '1997-01-01' AND '1997-01-31'**"
   ]
  },
  {
   "cell_type": "markdown",
   "metadata": {
    "collapsed": true,
    "slideshow": {
     "slide_type": "fragment"
    }
   },
   "source": [
    "## IN\n",
    "The `IN` command gives multiple possible matching values"
   ]
  },
  {
   "cell_type": "markdown",
   "metadata": {
    "slideshow": {
     "slide_type": "fragment"
    }
   },
   "source": [
    "## Example\n",
    "\n",
    "Retrieving Employee IDs, FirstName for employees not named Nancy or Andrew:\n",
    "\n",
    "**SELECT EmployeeID, FirstName  \n",
    "FROM Employees  \n",
    "WHERE FirstName NOT IN ('Nancy', 'Andrew')**  "
   ]
  },
  {
   "cell_type": "markdown",
   "metadata": {
    "slideshow": {
     "slide_type": "fragment"
    }
   },
   "source": [
    "## LIKE, wildcards\n",
    "The `LIKE` command specifies a pattern to match, such as 'Nancy' or '1999'. \n",
    "\n",
    "### Wildcards\n",
    "\n",
    "Wildcards are characters that stand in for a range of possible values. \n",
    "\n",
    "Wildcards include:  \n",
    "`%` : A string of 0+ characters\n",
    "\n",
    "`-` : A single character  \n",
    "\n",
    "`[...]` : A single character from the range or list in the brackets  \n",
    "\n",
    "`[^...]`, `[!...]`: A single character not from the range or list in the brackets  \n",
    "\n",
    "Without any wildcards, `LIKE` will match only values equal to the exact pattern.\n",
    "\n",
    "Note: The negative wildcard statement is not supported in the version of the SQL editor currently being used. Instead, you can practice the example <a href=\"https://www.w3schools.com/sql/trysql.asp?filename=trysql_select_wildcard_not_charlist&ss=-1\" target=\"_blank\">here</a>."
   ]
  },
  {
   "cell_type": "markdown",
   "metadata": {
    "slideshow": {
     "slide_type": "fragment"
    }
   },
   "source": [
    "## Example\n",
    "To match all customers with names starting with M, we use the query:\n",
    "\n",
    "**SELECT *  \n",
    "FROM Customers  \n",
    "WHERE CustomerName Like 'M%'**"
   ]
  },
  {
   "cell_type": "markdown",
   "metadata": {
    "slideshow": {
     "slide_type": "fragment"
    }
   },
   "source": [
    "To match all customers with names starting with letters after D, we can use the query:\n",
    "\n",
    "**SELECT *  \n",
    "FROM Customers  \n",
    "WHERE CustomerName Like '[!A-D]%'**"
   ]
  },
  {
   "cell_type": "markdown",
   "metadata": {
    "slideshow": {
     "slide_type": "subslide"
    }
   },
   "source": [
    "## Practice 4\n",
    "1\\. From the Suppliers table, retreive the SupplierName and ContactName for suppliers with IDs between 3 and 13 and who are located in Japan or Germany.\n",
    "\n",
    "2\\. From the Customers table, retrieve all information about customers from two- or three-letter named countries\n",
    "\n",
    "3\\. From the Customers table, retrieve the customer names from people whose contacts have a last name starting with S"
   ]
  },
  {
   "cell_type": "markdown",
   "metadata": {
    "slideshow": {
     "slide_type": "slide"
    }
   },
   "source": [
    "# DISTINCT\n",
    "The `DISTINCT` command retrieves only distinct combinations of the specified columns.\n",
    "\n",
    "It is also commonly used in combination with `COUNT` to return the number of distinct combinations."
   ]
  },
  {
   "cell_type": "markdown",
   "metadata": {
    "slideshow": {
     "slide_type": "fragment"
    }
   },
   "source": [
    "## Example\n",
    "To retrieve all past combinations of employee IDs and shipper IDs:\n",
    "    \n",
    "**SELECT DISTINCT EmployeeID, ShipperID  \n",
    "FROM Orders**"
   ]
  },
  {
   "cell_type": "markdown",
   "metadata": {
    "slideshow": {
     "slide_type": "fragment"
    }
   },
   "source": [
    "The version of SQL that is currently being used does not support the following syntax, but other versions may:\n",
    "\n",
    "To count the distinct combinations of employee IDs and shipper IDs:\n",
    "\n",
    "**SELECT COUNT(DISTINCT EmployeeID, ShipperID)  \n",
    "FROM Orders**\n",
    "    \n",
    "Even if the version of SQL that you are using does not support this combination, there are other ways to do this. We will see examples later."
   ]
  },
  {
   "cell_type": "markdown",
   "metadata": {
    "slideshow": {
     "slide_type": "subslide"
    }
   },
   "source": [
    "## Practice 5\n",
    "Retrieve all distinct combinations of ProductID and Quantity from the OrderDetails table."
   ]
  },
  {
   "cell_type": "markdown",
   "metadata": {
    "collapsed": true,
    "slideshow": {
     "slide_type": "slide"
    }
   },
   "source": [
    "# ORDER BY, TOP, LIMIT\n",
    "\n",
    "## Order By\n",
    "\n",
    "`ORDER BY` sorts the results according to the specified columns. Default is ascending, but you can use `ASC`/`DESC` to specify the ordering."
   ]
  },
  {
   "cell_type": "markdown",
   "metadata": {
    "slideshow": {
     "slide_type": "fragment"
    }
   },
   "source": [
    "## Example\n",
    "To retrieve products ordered by price:\n",
    "\n",
    "**SELECT ProductName, Price  \n",
    "FROM Products  \n",
    "ORDER BY Price DESC**"
   ]
  },
  {
   "cell_type": "markdown",
   "metadata": {
    "slideshow": {
     "slide_type": "subslide"
    }
   },
   "source": [
    "## TOP, LIMIT\n",
    "`TOP` and `LIMIT` (syntax depends on type of database) retrieve only the first x results or percent of results; good for checking results before requesting a very large query or in combination with the `ORDER BY` command.\n",
    "\n",
    "`LIMIT` is supported in MySQL and Oracle databases.\n",
    "\n",
    "`TOP` is not supported in the program currently used."
   ]
  },
  {
   "cell_type": "markdown",
   "metadata": {
    "slideshow": {
     "slide_type": "fragment"
    }
   },
   "source": [
    "### Example\n",
    "\n",
    "To retrieve the ten most expensive products:\n",
    "    \n",
    "**SELECT TOP 10 ProductName, Price  \n",
    "FROM Products  \n",
    "ORDER BY Price DESC**\n",
    "    \n",
    "You can also use:\n",
    "    \n",
    "**SELECT ProductName, Price  \n",
    "FROM Products  \n",
    "ORDER BY Price DESC LIMIT 10**"
   ]
  },
  {
   "cell_type": "markdown",
   "metadata": {
    "collapsed": true,
    "slideshow": {
     "slide_type": "fragment"
    }
   },
   "source": [
    "To retrieve the top ten percent of products by price:\n",
    "\n",
    "**SELECT TOP 10 PERCENT ProductName, Price  \n",
    "FROM Products  \n",
    "ORDER BY Price DESC**"
   ]
  },
  {
   "cell_type": "markdown",
   "metadata": {
    "slideshow": {
     "slide_type": "fragment"
    }
   },
   "source": [
    "To retreive rows not at the beginning or the end (e.g. to retreive 20 records starting at record 11):\n",
    "\n",
    "**SELECT *  \n",
    "FROM OrderDetails  \n",
    "LIMIT 10, 20**"
   ]
  },
  {
   "cell_type": "markdown",
   "metadata": {
    "slideshow": {
     "slide_type": "subslide"
    }
   },
   "source": [
    "## Practice 6\n",
    "From the Customers table, order the customers by city (ascending) and then by country (descending). Return rows 6 - 20."
   ]
  },
  {
   "cell_type": "markdown",
   "metadata": {
    "slideshow": {
     "slide_type": "slide"
    }
   },
   "source": [
    "# JOIN\n",
    "`JOIN` connects two tables where the specified columns match\n",
    "\n",
    "`INNER JOIN` - all rows where specified columns match (default)\n",
    "\n",
    "`LEFT JOIN` - all rows from left table and matching rows in right table\n",
    "\n",
    "`RIGHT JOIN` - all rows from right table and matching rows in left table\n",
    "\n",
    "`FULL OUTER JOIN` - all rows from left and right table\n",
    "\n",
    "`ANTI-JOIN/EXCLUDING JOIN` - all the rows from the left/right table that are not included in the other table\n",
    "\n",
    "`SELF JOIN` - join one table with itself (uses same commands as other `JOIN` statements)\n",
    "\n",
    "<img src=\"img\\Visual_SQL_JOINS_orig.jpg\"alt=\"Drawing\" style=\"width: 400px;\"/>\n",
    "<a href=\"https://www.codeproject.com/Articles/33052/Visual-Representation-of-SQL-Joins\" target=\"_blank\">Source</a>"
   ]
  },
  {
   "cell_type": "markdown",
   "metadata": {
    "slideshow": {
     "slide_type": "fragment"
    }
   },
   "source": [
    "## Example\n",
    "To retrieve all past combinations of customer names and employee IDs:\n",
    "\n",
    "**SELECT CustomerName, EmployeeID, Orders.OrderID  \n",
    "FROM Orders  \n",
    "JOIN Customers  \n",
    "ON Customers.CustomerID=Orders.CustomerID**"
   ]
  },
  {
   "cell_type": "markdown",
   "metadata": {
    "slideshow": {
     "slide_type": "fragment"
    }
   },
   "source": [
    "To retrieve all past combinations of customer names and employee last names:\n",
    "\n",
    "**SELECT CustomerName, LastName, Orders.OrderID  \n",
    "FROM Orders  \n",
    "JOIN Employees  \n",
    "ON Employees.EmployeeID=Orders.EmployeeID  \n",
    "JOIN Customers  \n",
    "ON Customers.CustomerID=Orders.CustomerID**"
   ]
  },
  {
   "cell_type": "markdown",
   "metadata": {
    "slideshow": {
     "slide_type": "subslide"
    }
   },
   "source": [
    "### Primary keys\n",
    "A primary key is field that is a unique identifier to each record in a table. Each table can have only one primary key, but multiple columns can define a primary key (called a composite primary key).\n",
    "\n",
    "### Foreign Keys\n",
    "A foreign key is a field in a table that matches the primary key in a different table.\n",
    "The table with the foreign key is called the child table, while the table containing the primary key is called the parent table.\n",
    "\n",
    "Note: Foreign and primary keys are not required."
   ]
  },
  {
   "cell_type": "markdown",
   "metadata": {
    "slideshow": {
     "slide_type": "fragment"
    }
   },
   "source": [
    "The database we are using does not support primary or foreign keys. You can see examples using primary keys and learn how to set them <a href=\"https://www.w3schools.com/sql/sql_primarykey.asp\" target=\"_blank\">here</a>, and you can see examples using foreign keys <a href=\"https://www.w3schools.com/sql/sql_foreignkey.asp\" target=\"_blank\">here</a>."
   ]
  },
  {
   "cell_type": "markdown",
   "metadata": {
    "slideshow": {
     "slide_type": "fragment"
    }
   },
   "source": [
    "### Example\n",
    "In the Customers table, CustomerID could be set as a primary key.\n",
    "In the Orders table, OrderID could be set as a primary key while CustomerID would be a foreign key."
   ]
  },
  {
   "cell_type": "markdown",
   "metadata": {
    "slideshow": {
     "slide_type": "subslide"
    }
   },
   "source": [
    "## Practice 7\n",
    "Return the Products table with a column for the Supplier Name (found in the Suppliers table) included."
   ]
  },
  {
   "cell_type": "markdown",
   "metadata": {
    "slideshow": {
     "slide_type": "slide"
    }
   },
   "source": [
    "# GROUP BY, HAVING\n",
    "\n",
    "## Group By\n",
    "`GROUP BY` groups the rows according to their values in the selected column and then uses an \"aggregate function\" to create a new column with information about each group (of rows). \n",
    "\n",
    "Example aggregate functions:\n",
    "- `COUNT()`\n",
    "- `SUM()`\n",
    "- `MAX()`\n",
    "- `MIN()`\n",
    "- `AVG()`"
   ]
  },
  {
   "cell_type": "markdown",
   "metadata": {
    "slideshow": {
     "slide_type": "fragment"
    }
   },
   "source": [
    "## Example\n",
    "To retrieve the total number of each product ordered:\n",
    "    \n",
    "**SELECT ProductID, SUM(Quantity)  \n",
    "FROM OrderDetails  \n",
    "GROUP BY ProductID**"
   ]
  },
  {
   "cell_type": "markdown",
   "metadata": {
    "slideshow": {
     "slide_type": "subslide"
    }
   },
   "source": [
    "## HAVING\n",
    "The `HAVING` command acts like a `WHERE` command for `GROUP BY`"
   ]
  },
  {
   "cell_type": "markdown",
   "metadata": {
    "slideshow": {
     "slide_type": "fragment"
    }
   },
   "source": [
    "## Example\n",
    "To retrieve employees with more than fifteen orders in the Orders table:\n",
    "\n",
    "** SELECT EmployeeID, COUNT(\\*) AS EmployeeOrders  \n",
    "FROM Orders  \n",
    "GROUP BY EmployeeID  \n",
    "HAVING EmployeeOrders > 15 **"
   ]
  },
  {
   "cell_type": "markdown",
   "metadata": {
    "slideshow": {
     "slide_type": "subslide"
    }
   },
   "source": [
    "## Practice 8\n",
    "Using the OrderDetails table, retrieve product IDs for products with at least 100 total units ordered."
   ]
  },
  {
   "cell_type": "markdown",
   "metadata": {
    "slideshow": {
     "slide_type": "slide"
    }
   },
   "source": [
    "# UNION\n",
    "`UNION` combines the results of 2+ `SELECT` queries.\n",
    "\n",
    "Requirements: same number, type, and order of columns\n",
    "\n",
    "Default is only distinct results; use `UNION ALL` for all results"
   ]
  },
  {
   "cell_type": "markdown",
   "metadata": {
    "slideshow": {
     "slide_type": "fragment"
    }
   },
   "source": [
    "## Example\n",
    "To retrieve a combined list of all cities which have suppliers OR customers:\n",
    "\n",
    "\n",
    "**SELECT City from Customers  \n",
    "UNION  \n",
    "SELECT City from Suppliers  \n",
    "ORDER BY City**"
   ]
  },
  {
   "cell_type": "markdown",
   "metadata": {
    "slideshow": {
     "slide_type": "subslide"
    }
   },
   "source": [
    "## Practice 9\n",
    "Using the Suppliers and Customers tables, retrieve a list of countries and cities containing both suppliers and customers."
   ]
  },
  {
   "cell_type": "markdown",
   "metadata": {
    "slideshow": {
     "slide_type": "slide"
    }
   },
   "source": [
    "# Subqueries\n",
    "\n",
    "Subqueries are queries within a query. They allow you to query from more specific tables than are readily available to you. \n",
    "\n",
    "This technique can be used to count the number of distinct rows. "
   ]
  },
  {
   "cell_type": "markdown",
   "metadata": {
    "slideshow": {
     "slide_type": "fragment"
    }
   },
   "source": [
    "## Example\n",
    "To get the number of distinct Employee IDs and Shippers\n",
    "\n",
    "**SELECT COUNT(\\*) AS NumRows  \n",
    "FROM  \n",
    "(SELECT DISTINCT EmployeeID, ShipperID  \n",
    "FROM Orders)**\n",
    "        \n",
    "You can think of this as querying a table that you are not able to see. In this example, a table is made behind the scene that contains the results of `SELECT DISTINCT EmployeeID, ShipperID FROM Orders` (a table that contains one row per unique pair of EmployeeID and ShipperID). From that table, you then query using the `COUNT(*)` command. \n",
    "\n",
    "This can also be done with a `WHERE` statement."
   ]
  },
  {
   "cell_type": "markdown",
   "metadata": {
    "slideshow": {
     "slide_type": "subslide"
    }
   },
   "source": [
    "## Practice 10\n",
    "\n",
    "Using a subquery, retreive all of the columns from the Orders table that correspond to customers that live in Germany. \n",
    "\n",
    "(Hint: The Customers table contains information on where the Customer lives, and the Customers and Orders tables share the column CustomerID).\n"
   ]
  },
  {
   "cell_type": "markdown",
   "metadata": {
    "slideshow": {
     "slide_type": "slide"
    }
   },
   "source": [
    "# Combining commands\n",
    "\n",
    "You can combine as many commands as you like to make your queries as specific as you require. Pay careful attention to the order of the commands."
   ]
  },
  {
   "cell_type": "markdown",
   "metadata": {
    "slideshow": {
     "slide_type": "fragment"
    }
   },
   "source": [
    "## Command order of operations\n",
    "SELECT (TOP), DISTINCT  \n",
    "FROM  \n",
    "WHERE (BETWEEN | LIKE | IN)  \n",
    "GROUP BY  \n",
    "HAVING  \n",
    "ORDER BY (ASC | DESC)  \n",
    "LIMIT  \n",
    "UNION (ALL)  "
   ]
  },
  {
   "cell_type": "markdown",
   "metadata": {
    "slideshow": {
     "slide_type": "subslide"
    }
   },
   "source": [
    "## Practice 11\n",
    "Retrieve a table with two columns: the customer's name, and the total number of orders made by that customer. "
   ]
  },
  {
   "cell_type": "markdown",
   "metadata": {
    "slideshow": {
     "slide_type": "slide"
    }
   },
   "source": [
    "# Quiz\n",
    "Test your SQL knowledge here:\n",
    "https://goo.gl/forms/jgPcRXjX5QzDsQqE3"
   ]
  },
  {
   "cell_type": "markdown",
   "metadata": {
    "slideshow": {
     "slide_type": "slide"
    }
   },
   "source": [
    "# Spatial Data in Databases\n",
    "\n",
    "If you are working with spatial data (GPS or any geometry that has spatial points), you SHOULD be using a spatial database. \n",
    "\n",
    "Most modern databases have a spatial extension plugin.\n",
    "\n",
    "This will make your life easier and allow you to do spatial queries that a regular database will not.\n",
    "\n",
    "For example, assuming you have a table for Tim Hortons' locations with county as a column and a table for highways, you could answer the question:\n",
    "\n",
    "Find all Tim Hortons in Washtenaw County that are within 0.5 mile of a highway."
   ]
  },
  {
   "cell_type": "markdown",
   "metadata": {
    "slideshow": {
     "slide_type": "slide"
    }
   },
   "source": [
    "# Food For Thought\n",
    "<IMG SRC=\"img\\screenshot.png\" alt=\"Drawing\" style=\"width: 2000px;\">"
   ]
  },
  {
   "cell_type": "markdown",
   "metadata": {
    "slideshow": {
     "slide_type": "subslide"
    }
   },
   "source": [
    "<img src=\"img\\foodforthought2.png\"alt=\"Drawing\" style=\"width: 400px;\"/>"
   ]
  },
  {
   "cell_type": "markdown",
   "metadata": {
    "slideshow": {
     "slide_type": "slide"
    }
   },
   "source": [
    "# More practice\n",
    "1. Return a Table with the following 3 columns: CustomerID, CustomerName, Number of Orders (using the Customers and Orders tables)\n",
    "\n",
    "    Have the table sorted by Number of Orders with the most orders at the top. Only include repeat customers\n",
    "\n",
    "2. Return a Table with the following 3 columns: ProductID, ProductName, Qty Sold (using the Products and OrderDetails tables)\n",
    "\n",
    "    Return only the top 10 products in descending order based on quantity sold.\n",
    "\n",
    "3. Find out who your top 5 customers are based on how much money they've spent."
   ]
  },
  {
   "cell_type": "markdown",
   "metadata": {
    "slideshow": {
     "slide_type": "notes"
    }
   },
   "source": [
    "### Answers\n",
    "SELECT ProductID, ProductName AS 'Item Name', SupplierID, CategoryID, Price AS Dollars\n",
    "FROM Products"
   ]
  },
  {
   "cell_type": "markdown",
   "metadata": {
    "slideshow": {
     "slide_type": "notes"
    }
   },
   "source": [
    "### Answers\n",
    "SELECT COUNT(*) FROM OrderDetails"
   ]
  },
  {
   "cell_type": "markdown",
   "metadata": {
    "slideshow": {
     "slide_type": "notes"
    }
   },
   "source": [
    "### Answers\n",
    "SELECT * FROM Orders \n",
    "WHERE (OrderDate >= '1997-01-01' AND ShipperID > 1) OR (OrderDate <= '1997-01-01' AND EmployeeID == 3)"
   ]
  },
  {
   "cell_type": "markdown",
   "metadata": {
    "slideshow": {
     "slide_type": "notes"
    }
   },
   "source": [
    "### Answers\n",
    "1. SELECT SupplierName, ContactName FROM Suppliers WHERE SupplierID BETWEEN 3 AND 13 AND Country IN ('Japan','Germany') (5)\n",
    "3. SELECT * FROM Customers WHERE Country LIKE '___' OR Country LIKE '__' \\(13)\n",
    "4. SELECT ContactName FROM Customers WHERE ContactName LIKE '% S%' (7)"
   ]
  },
  {
   "cell_type": "markdown",
   "metadata": {
    "slideshow": {
     "slide_type": "notes"
    }
   },
   "source": [
    "### Answers\n",
    "SELECT DISTINCT ProductID, Quantity FROM OrderDetails"
   ]
  },
  {
   "cell_type": "markdown",
   "metadata": {
    "slideshow": {
     "slide_type": "notes"
    }
   },
   "source": [
    "### Answers\n",
    "SELECT * FROM Customers ORDER BY City ASC, Country DESC LIMIT 6,15"
   ]
  },
  {
   "cell_type": "markdown",
   "metadata": {
    "slideshow": {
     "slide_type": "notes"
    }
   },
   "source": [
    "### Answers\n",
    "SELECT ProductID, ProductName, Products.SupplierID,\tCategoryID, Unit, Price, SupplierName\n",
    "FROM Products\n",
    "JOIN Suppliers\n",
    "ON Products.SupplierID = Suppliers.SupplierID"
   ]
  },
  {
   "cell_type": "markdown",
   "metadata": {
    "slideshow": {
     "slide_type": "notes"
    }
   },
   "source": [
    "### Answers\n",
    "SELECT ProductID, SUM(Quantity)   \n",
    "FROM OrderDetails  \n",
    "GROUP BY ProductID  \n",
    "HAVING SUM(QUANTITY) >= 100"
   ]
  },
  {
   "cell_type": "markdown",
   "metadata": {
    "slideshow": {
     "slide_type": "notes"
    }
   },
   "source": [
    "### Answers\n",
    "SELECT Country, City from Customers  \n",
    "UNION  \n",
    "SELECT Country, City from Suppliers  \n",
    "ORDER BY City  "
   ]
  },
  {
   "cell_type": "markdown",
   "metadata": {
    "slideshow": {
     "slide_type": "notes"
    }
   },
   "source": [
    "### Answers\n",
    "\n",
    "SELECT * FROM [Orders]\n",
    "WHERE CustomerID IN (\n",
    "    SELECT CustomerID FROM Customers  \n",
    "    WHERE Country=\"Germany\"\n",
    ")"
   ]
  },
  {
   "cell_type": "markdown",
   "metadata": {
    "slideshow": {
     "slide_type": "notes"
    }
   },
   "source": [
    "### Answers\n",
    "SELECT CustomerName, COUNT(Orders.CustomerID)\n",
    "FROM Customers\n",
    "JOIN Orders\n",
    "ON Customers.CustomerID = Orders.CustomerID\n",
    "GROUP BY Customers.CustomerID"
   ]
  },
  {
   "cell_type": "markdown",
   "metadata": {
    "slideshow": {
     "slide_type": "notes"
    }
   },
   "source": [
    "### Answers\n",
    "1. \n",
    "SELECT Customers.CustomerID, CustomerName, COUNT(OrderID)\n",
    "FROM Customers\n",
    "JOIN Orders\n",
    "ON Customers.CustomerID = Orders.CustomerID\n",
    "GROUP BY Customers.CustomerID\n",
    "HAVING COUNT(OrderID) > 1\n",
    "ORDER BY COUNT(OrderID) DESC\n",
    "\n",
    "2. \n",
    "SELECT Products.ProductID, ProductName, SUM(Quantity)\n",
    "FROM Products\n",
    "JOIN OrderDetails\n",
    "ON Products.ProductID = OrderDetails.ProductID\n",
    "GROUP BY Products.ProductID\n",
    "ORDER BY SUM(Quantity) DESC\n",
    "LIMIT 10\n",
    "\n",
    "3. \n",
    "SELECT CustomerName\n",
    "FROM Customers\n",
    "JOIN Orders\n",
    "ON Customers.CustomerID = Orders.CustomerID\n",
    "JOIN OrderDetails\n",
    "ON Orders.OrderID = OrderDetails.OrderId\n",
    "JOIN Products\n",
    "ON OrderDetails.ProductID = Products.ProductID\n",
    "GROUP BY Customers.CustomerID\n",
    "ORDER BY SUM(Quantity*Price) DESC\n",
    "LIMIT 5"
   ]
  }
 ],
 "metadata": {
  "anaconda-cloud": {},
  "celltoolbar": "Slideshow",
  "kernelspec": {
   "display_name": "Python [default]",
   "language": "python",
   "name": "python3"
  },
  "language_info": {
   "codemirror_mode": {
    "name": "ipython",
    "version": 3
   },
   "file_extension": ".py",
   "mimetype": "text/x-python",
   "name": "python",
   "nbconvert_exporter": "python",
   "pygments_lexer": "ipython3",
   "version": "3.5.2"
  }
 },
 "nbformat": 4,
 "nbformat_minor": 1
}
