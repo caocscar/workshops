{
 "cells": [
  {
   "cell_type": "markdown",
   "metadata": {},
   "source": [
    "# PDF Text Mining using PDFMiner"
   ]
  },
  {
   "cell_type": "markdown",
   "metadata": {},
   "source": [
    "## Installation\n",
    "\n",
    "`pip install pdfminer.six`"
   ]
  },
  {
   "cell_type": "markdown",
   "metadata": {},
   "source": [
    "## How to Use\n",
    "Below is an edited code example from [Tim Arnold's blog on *Manipulating PDFs with Python*]( https://www.binpress.com/tutorial/manipulating-pdfs-with-python/167). It has been modified to be compatible with Python 3.X. Most of it is boilerplate stuff that does not need to change. The only change that needs to be done is the filename and the  page(s) of interest. "
   ]
  },
  {
   "cell_type": "code",
   "execution_count": 1,
   "metadata": {
    "collapsed": true
   },
   "outputs": [],
   "source": [
    "from io import StringIO\n",
    "from pdfminer.pdfinterp import PDFResourceManager, PDFPageInterpreter\n",
    "from pdfminer.converter import TextConverter\n",
    "from pdfminer.layout import LAParams\n",
    "from pdfminer.pdfpage import PDFPage  "
   ]
  },
  {
   "cell_type": "markdown",
   "metadata": {},
   "source": [
    "Identify file and page of interest"
   ]
  },
  {
   "cell_type": "code",
   "execution_count": 2,
   "metadata": {
    "collapsed": true
   },
   "outputs": [],
   "source": [
    "filename = 'MDOT_fastfacts02-2011_345554_7.pdf'\n",
    "pagenums = [3] # empty list does all pages"
   ]
  },
  {
   "cell_type": "markdown",
   "metadata": {},
   "source": [
    "Create instances of classes necessary to read pdf"
   ]
  },
  {
   "cell_type": "code",
   "execution_count": 3,
   "metadata": {
    "collapsed": true
   },
   "outputs": [],
   "source": [
    "output = StringIO()\n",
    "manager = PDFResourceManager()\n",
    "converter = TextConverter(manager, output, laparams=LAParams())\n",
    "interpreter = PDFPageInterpreter(manager, converter)"
   ]
  },
  {
   "cell_type": "markdown",
   "metadata": {},
   "source": [
    "Open the pdf and read & process page(s) of interest"
   ]
  },
  {
   "cell_type": "code",
   "execution_count": 4,
   "metadata": {},
   "outputs": [],
   "source": [
    "with open(filename, 'rb') as fin:\n",
    "    for page in PDFPage.get_pages(fin, pagenums):\n",
    "        interpreter.process_page(page)"
   ]
  },
  {
   "cell_type": "markdown",
   "metadata": {},
   "source": [
    "Get output string"
   ]
  },
  {
   "cell_type": "code",
   "execution_count": 5,
   "metadata": {
    "collapsed": true
   },
   "outputs": [],
   "source": [
    "text = output.getvalue()\n",
    "converter.close()\n",
    "output.close()"
   ]
  },
  {
   "cell_type": "markdown",
   "metadata": {},
   "source": [
    "Let's look at the output text string"
   ]
  },
  {
   "cell_type": "code",
   "execution_count": 6,
   "metadata": {},
   "outputs": [
    {
     "data": {
      "text/plain": [
       "'Fast Facts\\n\\n201 7\\n\\nCARPOOL LOTS\\n\\n2015 MICHIGAN \\nSTATE REVENUE PACKAGE\\n\\nn There are 261 carpool parking lots located across \\n\\nthe state, 23 of which are public-private partnerships. \\nIncluded in the public-private partnerships are 17 \\nlocations that MDOT has partnered with Meijer Corp. \\nto provide carpool parking spaces in Meijer parking lots \\nlocated near the highway.\\n\\nn MDOT continues its efforts to provide bike racks at \\n\\ncarpool lots, and to attract transit service to lots  \\nwhere appropriate.\\n\\nCOST OF ROAD CONSTRUCTION \\n\\nRoadway construction costs are typically based on standard  \\ndesign characteristics, materials, and the type of work performed. \\nGeneral estimates are provided for the average cost per lane mile \\nof major work by roadway type, and material costs. \\n\\nAverage Cost Per Lane Mile by  \\nMajor Work Type for Various Networks  \\n(2016 figures; in millions) \\n\\nWork Type \\n\\nReconstruction Rehabilitation Average R&R\\n\\n \\n \\n\\nCombined \\nStatewide\\nFreeway\\nNon-Freeway\\nStatewide \\nUrban\\nStatewide \\nRural\\n\\n$2.0 \\n\\n$2.0 \\n$1.9 \\n\\n$2.1 \\n\\n$1.2 \\n\\n$0.6 \\n\\n$0.8 \\n$0.5 \\n\\n$0.7 \\n\\n$0.5 \\n\\n$1.0 \\n\\n$1.3 \\n$0.8 \\n\\n$1.2 \\n\\n$0.6 \\n\\nCost\\n\\n $64.18\\n $48.04\\n $1.31\\n $1.06\\n\\nMaterial Cost for Construction  \\n(2016 Year-to-Date)\\n\\nMaterial\\nHot Mix Asphalt (HMA) per Ton\\nConcrete per Square Yard\\nStructural Steel per Pound\\nReinforcement Steel per Pound\\n\\nState Transportation Funding Package\\nOn Nov. 10, Gov. Snyder signed a package of \\ntransportation bills approved by the Legislature. In the \\nshort term, the legislation will:\\n\\n•  Provide $450 million in additional fuel tax \\n\\nrevenues, beginning in January 2017. The tax \\non gasoline and diesel fuel will rise to 26.3 cents \\nat that time, as the legislation also provides for \\ndiesel parity.\\n\\n•  Provide $190 million from a 20 percent increase  \\n\\nin vehicle registration fees, also beginning in \\nJanuary 2017.\\n\\nThis $600 million in new revenue will be distributed to \\nMDOT, county road commissions, cities and villages, \\nand the Comprehensive Transportation Fund through \\nthe existing Act 51 formula, providing a roughly 30 \\npercent increase by 2018.\\nThe new revenue is expected to generate an average \\nof more than 4,000 jobs per year in the first two years. \\nIt will also help address the need to repair and maintain \\nMichigan’s existing transportation systems.\\nBeginning in 2019, the Legislature intends to appropriate \\nincome tax revenue to roads agencies, according \\nto the Act 51 formula, excluding the Comprehensive \\nTransportation Fund, in these amounts:\\n \\n \\n \\nBeginning in 2016, the legislation adds transparency \\nand accountability:\\n\\n•  2019…………………..…..$150 million\\n•  2020……………………....$325 million\\n•  2021 and thereafter……..$600 million\\n\\n•  Administrative Expenses: MDOT \\n\\nadministrative expenses, previously capped at \\n10 percent, are now limited to 8 percent of its \\nbudget.\\n\\n•  Pavement Warranties: Road agencies are \\nrequired to buy pavement warranties, where \\nappropriate, for projects costing more than  \\n$2 million. \\n\\n•  Competitive Bidding: To reduce project costs, \\nall agencies are required to competitively bid out \\nprojects costing more than $100,000. \\n\\n•  Longer-lived Pavements: MDOT will be \\n\\nrequired to prepare a report on the potential for \\nconstructing longer-lived pavements and report \\nto the Legislature by June 2016.\\n\\n4   2017 Fast Facts  \\n\\n (Updated 1/2017)\\n\\n\\x0c'"
      ]
     },
     "execution_count": 6,
     "metadata": {},
     "output_type": "execute_result"
    }
   ],
   "source": [
    "text"
   ]
  },
  {
   "cell_type": "markdown",
   "metadata": {},
   "source": [
    "Pretty Print Text"
   ]
  },
  {
   "cell_type": "code",
   "execution_count": 7,
   "metadata": {},
   "outputs": [
    {
     "name": "stdout",
     "output_type": "stream",
     "text": [
      "('Fast Facts\\n'\n",
      " '\\n'\n",
      " '201 7\\n'\n",
      " '\\n'\n",
      " 'CARPOOL LOTS\\n'\n",
      " '\\n'\n",
      " '2015 MICHIGAN \\n'\n",
      " 'STATE REVENUE PACKAGE\\n'\n",
      " '\\n'\n",
      " 'n There are 261 carpool parking lots located across \\n'\n",
      " '\\n'\n",
      " 'the state, 23 of which are public-private partnerships. \\n'\n",
      " 'Included in the public-private partnerships are 17 \\n'\n",
      " 'locations that MDOT has partnered with Meijer Corp. \\n'\n",
      " 'to provide carpool parking spaces in Meijer parking lots \\n'\n",
      " 'located near the highway.\\n'\n",
      " '\\n'\n",
      " 'n MDOT continues its efforts to provide bike racks at \\n'\n",
      " '\\n'\n",
      " 'carpool lots, and to attract transit service to lots  \\n'\n",
      " 'where appropriate.\\n'\n",
      " '\\n'\n",
      " 'COST OF ROAD CONSTRUCTION \\n'\n",
      " '\\n'\n",
      " 'Roadway construction costs are typically based on standard  \\n'\n",
      " 'design characteristics, materials, and the type of work performed. \\n'\n",
      " 'General estimates are provided for the average cost per lane mile \\n'\n",
      " 'of major work by roadway type, and material costs. \\n'\n",
      " '\\n'\n",
      " 'Average Cost Per Lane Mile by  \\n'\n",
      " 'Major Work Type for Various Networks  \\n'\n",
      " '(2016 figures; in millions) \\n'\n",
      " '\\n'\n",
      " 'Work Type \\n'\n",
      " '\\n'\n",
      " 'Reconstruction Rehabilitation Average R&R\\n'\n",
      " '\\n'\n",
      " ' \\n'\n",
      " ' \\n'\n",
      " '\\n'\n",
      " 'Combined \\n'\n",
      " 'Statewide\\n'\n",
      " 'Freeway\\n'\n",
      " 'Non-Freeway\\n'\n",
      " 'Statewide \\n'\n",
      " 'Urban\\n'\n",
      " 'Statewide \\n'\n",
      " 'Rural\\n'\n",
      " '\\n'\n",
      " '$2.0 \\n'\n",
      " '\\n'\n",
      " '$2.0 \\n'\n",
      " '$1.9 \\n'\n",
      " '\\n'\n",
      " '$2.1 \\n'\n",
      " '\\n'\n",
      " '$1.2 \\n'\n",
      " '\\n'\n",
      " '$0.6 \\n'\n",
      " '\\n'\n",
      " '$0.8 \\n'\n",
      " '$0.5 \\n'\n",
      " '\\n'\n",
      " '$0.7 \\n'\n",
      " '\\n'\n",
      " '$0.5 \\n'\n",
      " '\\n'\n",
      " '$1.0 \\n'\n",
      " '\\n'\n",
      " '$1.3 \\n'\n",
      " '$0.8 \\n'\n",
      " '\\n'\n",
      " '$1.2 \\n'\n",
      " '\\n'\n",
      " '$0.6 \\n'\n",
      " '\\n'\n",
      " 'Cost\\n'\n",
      " '\\n'\n",
      " ' $64.18\\n'\n",
      " ' $48.04\\n'\n",
      " ' $1.31\\n'\n",
      " ' $1.06\\n'\n",
      " '\\n'\n",
      " 'Material Cost for Construction  \\n'\n",
      " '(2016 Year-to-Date)\\n'\n",
      " '\\n'\n",
      " 'Material\\n'\n",
      " 'Hot Mix Asphalt (HMA) per Ton\\n'\n",
      " 'Concrete per Square Yard\\n'\n",
      " 'Structural Steel per Pound\\n'\n",
      " 'Reinforcement Steel per Pound\\n'\n",
      " '\\n'\n",
      " 'State Transportation Funding Package\\n'\n",
      " 'On Nov. 10, Gov. Snyder signed a package of \\n'\n",
      " 'transportation bills approved by the Legislature. In the \\n'\n",
      " 'short term, the legislation will:\\n'\n",
      " '\\n'\n",
      " '•  Provide $450 million in additional fuel tax \\n'\n",
      " '\\n'\n",
      " 'revenues, beginning in January 2017. The tax \\n'\n",
      " 'on gasoline and diesel fuel will rise to 26.3 cents \\n'\n",
      " 'at that time, as the legislation also provides for \\n'\n",
      " 'diesel parity.\\n'\n",
      " '\\n'\n",
      " '•  Provide $190 million from a 20 percent increase  \\n'\n",
      " '\\n'\n",
      " 'in vehicle registration fees, also beginning in \\n'\n",
      " 'January 2017.\\n'\n",
      " '\\n'\n",
      " 'This $600 million in new revenue will be distributed to \\n'\n",
      " 'MDOT, county road commissions, cities and villages, \\n'\n",
      " 'and the Comprehensive Transportation Fund through \\n'\n",
      " 'the existing Act 51 formula, providing a roughly 30 \\n'\n",
      " 'percent increase by 2018.\\n'\n",
      " 'The new revenue is expected to generate an average \\n'\n",
      " 'of more than 4,000 jobs per year in the first two years. \\n'\n",
      " 'It will also help address the need to repair and maintain \\n'\n",
      " 'Michigan’s existing transportation systems.\\n'\n",
      " 'Beginning in 2019, the Legislature intends to appropriate \\n'\n",
      " 'income tax revenue to roads agencies, according \\n'\n",
      " 'to the Act 51 formula, excluding the Comprehensive \\n'\n",
      " 'Transportation Fund, in these amounts:\\n'\n",
      " ' \\n'\n",
      " ' \\n'\n",
      " ' \\n'\n",
      " 'Beginning in 2016, the legislation adds transparency \\n'\n",
      " 'and accountability:\\n'\n",
      " '\\n'\n",
      " '•  2019…………………..…..$150 million\\n'\n",
      " '•  2020……………………....$325 million\\n'\n",
      " '•  2021 and thereafter……..$600 million\\n'\n",
      " '\\n'\n",
      " '•  Administrative Expenses: MDOT \\n'\n",
      " '\\n'\n",
      " 'administrative expenses, previously capped at \\n'\n",
      " '10 percent, are now limited to 8 percent of its \\n'\n",
      " 'budget.\\n'\n",
      " '\\n'\n",
      " '•  Pavement Warranties: Road agencies are \\n'\n",
      " 'required to buy pavement warranties, where \\n'\n",
      " 'appropriate, for projects costing more than  \\n'\n",
      " '$2 million. \\n'\n",
      " '\\n'\n",
      " '•  Competitive Bidding: To reduce project costs, \\n'\n",
      " 'all agencies are required to competitively bid out \\n'\n",
      " 'projects costing more than $100,000. \\n'\n",
      " '\\n'\n",
      " '•  Longer-lived Pavements: MDOT will be \\n'\n",
      " '\\n'\n",
      " 'required to prepare a report on the potential for \\n'\n",
      " 'constructing longer-lived pavements and report \\n'\n",
      " 'to the Legislature by June 2016.\\n'\n",
      " '\\n'\n",
      " '4   2017 Fast Facts  \\n'\n",
      " '\\n'\n",
      " ' (Updated 1/2017)\\n'\n",
      " '\\n'\n",
      " '\\x0c')\n"
     ]
    }
   ],
   "source": [
    "from pprint import pprint as prettyprint\n",
    "prettyprint(text)"
   ]
  },
  {
   "cell_type": "markdown",
   "metadata": {},
   "source": [
    "Write out text to file"
   ]
  },
  {
   "cell_type": "code",
   "execution_count": 8,
   "metadata": {},
   "outputs": [],
   "source": [
    "savefile = filename.replace('pdf','txt')\n",
    "with open(savefile,'w') as fout:\n",
    "    fout.write(text)"
   ]
  },
  {
   "cell_type": "markdown",
   "metadata": {},
   "source": [
    "# Conclusion\n",
    "\n",
    "Trying to reconstruct tables from pdf text mining tools looks like a formatting nightmare in the same realm as copy and paste."
   ]
  },
  {
   "cell_type": "code",
   "execution_count": null,
   "metadata": {
    "collapsed": true
   },
   "outputs": [],
   "source": []
  }
 ],
 "metadata": {
  "kernelspec": {
   "display_name": "Python 3",
   "language": "python",
   "name": "python3"
  },
  "language_info": {
   "codemirror_mode": {
    "name": "ipython",
    "version": 3
   },
   "file_extension": ".py",
   "mimetype": "text/x-python",
   "name": "python",
   "nbconvert_exporter": "python",
   "pygments_lexer": "ipython3",
   "version": "3.5.1"
  }
 },
 "nbformat": 4,
 "nbformat_minor": 1
}
