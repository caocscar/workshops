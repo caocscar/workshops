{
 "cells": [
  {
   "cell_type": "markdown",
   "metadata": {},
   "source": [
    "# Twitter API"
   ]
  },
  {
   "cell_type": "markdown",
   "metadata": {},
   "source": [
    "Twitter implements OAuth 1.0 as its authentication protocol. You'll need 4 credentials in order to use OAuth and make requests to Twitter's API."
   ]
  },
  {
   "cell_type": "markdown",
   "metadata": {},
   "source": [
    "## Getting Your Credentials"
   ]
  },
  {
   "cell_type": "markdown",
   "metadata": {},
   "source": [
    "You will need your own Twitter account to do this section. You can always delete the account afterwards. I can't share my credentials with you this time around for technical reasons."
   ]
  },
  {
   "cell_type": "markdown",
   "metadata": {},
   "source": [
    "You will need to obtain four credentials (i.e. API key, API secret, Access Token and Access Token secret) on the Twitter developer site to access the API. The steps are as follows:\n",
    "- Go to your Twitter settings https://twitter.com/settings/account (you need to login if not already). Select 'Mobile' and add your mobile phone to your account. Twitter will send you a confirmation code via text. This is required to create an application.\n",
    "- Go to https://apps.twitter.com and create an application. \n",
    "- Enter a name/description/website for your application. You can use https://www.google.com for the website. Agree to the TOS and create your Twitter application.\n",
    "- Go to the *Keys and Access Tokens* tab and copy your **Consumer Key** and **Consumer Secret** to the section below.\n",
    "- At the bottom of the page, click the button to create your own access token. Copy the **Access Token** and **Access Token Secret** to the section below."
   ]
  },
  {
   "cell_type": "markdown",
   "metadata": {},
   "source": [
    "**Note**: You can always regenerate/delete your credentials or delete the application."
   ]
  },
  {
   "cell_type": "code",
   "execution_count": 1,
   "metadata": {
    "collapsed": true
   },
   "outputs": [],
   "source": [
    "import os\n",
    "consumerKey = os.getenv('consumerkey')\n",
    "consumerSecret = os.getenv('consumersecret')\n",
    "oauthToken = os.getenv('accesstoken')\n",
    "oauthTokenSecret = os.getenv('accesstokensecret')"
   ]
  },
  {
   "cell_type": "markdown",
   "metadata": {},
   "source": [
    "**Note**: To re-iterate, I do NOT recommend you actually hard code the credentials in a working setting. In Python, you should save the credentials in an environmental variable and retrieve it using the `os.getenv` method thus decoupling the credentials from your code."
   ]
  },
  {
   "cell_type": "markdown",
   "metadata": {},
   "source": [
    "## Installing Python Twitter Tools Module"
   ]
  },
  {
   "cell_type": "markdown",
   "metadata": {},
   "source": [
    "We will be using the Python Twitter Tool module for interacting with the API. There are many available Twitter packages for Python. I chose it because it was popular and seemed simple to use (although lacking good documentation). Documentation is at https://github.com/sixohsix/twitter.\n",
    "\n",
    "Install the module from the terminal or command prompt with `pip install twitter`. "
   ]
  },
  {
   "cell_type": "code",
   "execution_count": 2,
   "metadata": {
    "collapsed": true
   },
   "outputs": [],
   "source": [
    "import twitter"
   ]
  },
  {
   "cell_type": "markdown",
   "metadata": {},
   "source": [
    "Next submit your credentials and create a variable containing your authentication."
   ]
  },
  {
   "cell_type": "code",
   "execution_count": 3,
   "metadata": {
    "collapsed": true
   },
   "outputs": [],
   "source": [
    "auth = twitter.OAuth(oauthToken, oauthTokenSecret, consumerKey, consumerSecret)"
   ]
  },
  {
   "cell_type": "markdown",
   "metadata": {},
   "source": [
    "# Twitter Search API"
   ]
  },
  {
   "cell_type": "markdown",
   "metadata": {},
   "source": [
    "Use the Search API to look for historical tweets. The Twitter Search API searches against a __sampling__ of recent Tweets published in the past 7 days. We will see later how to get around the 7 day restriction by invoking other constraints.\n",
    "\n",
    "**Note**: The Search API is not an exact replica of the Search feature available in Twitter mobile or web clients such as https://twitter.com/search. "
   ]
  },
  {
   "cell_type": "markdown",
   "metadata": {},
   "source": [
    "Let's start by creating a Search API handle using your authentication."
   ]
  },
  {
   "cell_type": "code",
   "execution_count": 4,
   "metadata": {
    "collapsed": true
   },
   "outputs": [],
   "source": [
    "twtr = twitter.Twitter(auth=auth)"
   ]
  },
  {
   "cell_type": "markdown",
   "metadata": {},
   "source": [
    "## Search using a query"
   ]
  },
  {
   "cell_type": "markdown",
   "metadata": {},
   "source": [
    "Details on the search API can be found here https://dev.twitter.com/rest/public/search.  \n",
    "The documentation can be found here https://dev.twitter.com/rest/reference/get/search/tweets."
   ]
  },
  {
   "cell_type": "markdown",
   "metadata": {},
   "source": [
    "Create a query term and also specify the number of tweets you want (default = 10). Use the `search.tweets` method to search for tweets."
   ]
  },
  {
   "cell_type": "code",
   "execution_count": 5,
   "metadata": {},
   "outputs": [
    {
     "data": {
      "text/plain": [
       "{'search_metadata': {'completed_in': 0.061,\n",
       "  'count': 2,\n",
       "  'max_id': 966386476597563397,\n",
       "  'max_id_str': '966386476597563397',\n",
       "  'next_results': '?max_id=966386421719359487&q=from%3Aarc_um&count=2&include_entities=1',\n",
       "  'query': 'from%3Aarc_um',\n",
       "  'refresh_url': '?since_id=966386476597563397&q=from%3Aarc_um&include_entities=1',\n",
       "  'since_id': 0,\n",
       "  'since_id_str': '0'},\n",
       " 'statuses': [{'contributors': None,\n",
       "   'coordinates': None,\n",
       "   'created_at': 'Wed Feb 21 18:57:45 +0000 2018',\n",
       "   'entities': {'hashtags': [{'indices': [49, 61], 'text': 'RaspberryPi'}],\n",
       "    'symbols': [],\n",
       "    'urls': [],\n",
       "    'user_mentions': [{'id': 49413866,\n",
       "      'id_str': '49413866',\n",
       "      'indices': [3, 16],\n",
       "      'name': 'Randy Olson',\n",
       "      'screen_name': 'randal_olson'}]},\n",
       "   'favorite_count': 0,\n",
       "   'favorited': False,\n",
       "   'geo': None,\n",
       "   'id': 966386476597563397,\n",
       "   'id_str': '966386476597563397',\n",
       "   'in_reply_to_screen_name': None,\n",
       "   'in_reply_to_status_id': None,\n",
       "   'in_reply_to_status_id_str': None,\n",
       "   'in_reply_to_user_id': None,\n",
       "   'in_reply_to_user_id_str': None,\n",
       "   'is_quote_status': False,\n",
       "   'lang': 'en',\n",
       "   'metadata': {'iso_language_code': 'en', 'result_type': 'recent'},\n",
       "   'place': None,\n",
       "   'retweet_count': 151,\n",
       "   'retweeted': False,\n",
       "   'retweeted_status': {'contributors': None,\n",
       "    'coordinates': None,\n",
       "    'created_at': 'Wed Feb 21 16:00:15 +0000 2018',\n",
       "    'entities': {'hashtags': [{'indices': [31, 43], 'text': 'RaspberryPi'}],\n",
       "     'symbols': [],\n",
       "     'urls': [{'display_url': 'twitter.com/i/web/status/9…',\n",
       "       'expanded_url': 'https://twitter.com/i/web/status/966341810279731200',\n",
       "       'indices': [117, 140],\n",
       "       'url': 'https://t.co/UKK7zI8Xy1'}],\n",
       "     'user_mentions': []},\n",
       "    'favorite_count': 360,\n",
       "    'favorited': False,\n",
       "    'geo': None,\n",
       "    'id': 966341810279731200,\n",
       "    'id_str': '966341810279731200',\n",
       "    'in_reply_to_screen_name': None,\n",
       "    'in_reply_to_status_id': None,\n",
       "    'in_reply_to_status_id_str': None,\n",
       "    'in_reply_to_user_id': None,\n",
       "    'in_reply_to_user_id_str': None,\n",
       "    'is_quote_status': False,\n",
       "    'lang': 'en',\n",
       "    'metadata': {'iso_language_code': 'en', 'result_type': 'recent'},\n",
       "    'place': None,\n",
       "    'possibly_sensitive': False,\n",
       "    'retweet_count': 151,\n",
       "    'retweeted': False,\n",
       "    'source': '<a href=\"http://twitter.com\" rel=\"nofollow\">Twitter Web Client</a>',\n",
       "    'text': \"When the person who stocks the #RaspberryPi magazines at the local supermarket doesn't know what a Raspberry Pi is.… https://t.co/UKK7zI8Xy1\",\n",
       "    'truncated': True,\n",
       "    'user': {'contributors_enabled': False,\n",
       "     'created_at': 'Sun Jun 21 20:13:18 +0000 2009',\n",
       "     'default_profile': False,\n",
       "     'default_profile_image': False,\n",
       "     'description': 'Lead Data Scientist, @LifeEpigenetics. #MachineLearning, #AI, and #DataViz. Community leader for @DataIsBeautiful. #OpenScience advocate.',\n",
       "     'entities': {'description': {'urls': []},\n",
       "      'url': {'urls': [{'display_url': 'randalolson.com',\n",
       "         'expanded_url': 'http://www.randalolson.com',\n",
       "         'indices': [0, 23],\n",
       "         'url': 'https://t.co/tpzAYxx9cq'}]}},\n",
       "     'favourites_count': 39395,\n",
       "     'follow_request_sent': False,\n",
       "     'followers_count': 117783,\n",
       "     'following': False,\n",
       "     'friends_count': 129539,\n",
       "     'geo_enabled': True,\n",
       "     'has_extended_profile': True,\n",
       "     'id': 49413866,\n",
       "     'id_str': '49413866',\n",
       "     'is_translation_enabled': False,\n",
       "     'is_translator': False,\n",
       "     'lang': 'en',\n",
       "     'listed_count': 3626,\n",
       "     'location': 'Portland, OR',\n",
       "     'name': 'Randy Olson',\n",
       "     'notifications': False,\n",
       "     'profile_background_color': '1A1B1F',\n",
       "     'profile_background_image_url': 'http://pbs.twimg.com/profile_background_images/457629516702035968/lKWBWYYG.jpeg',\n",
       "     'profile_background_image_url_https': 'https://pbs.twimg.com/profile_background_images/457629516702035968/lKWBWYYG.jpeg',\n",
       "     'profile_background_tile': True,\n",
       "     'profile_banner_url': 'https://pbs.twimg.com/profile_banners/49413866/1439914461',\n",
       "     'profile_image_url': 'http://pbs.twimg.com/profile_images/770816518988959744/Ma530Li__normal.jpg',\n",
       "     'profile_image_url_https': 'https://pbs.twimg.com/profile_images/770816518988959744/Ma530Li__normal.jpg',\n",
       "     'profile_link_color': '3B94D9',\n",
       "     'profile_sidebar_border_color': 'FFFFFF',\n",
       "     'profile_sidebar_fill_color': '252429',\n",
       "     'profile_text_color': '666666',\n",
       "     'profile_use_background_image': True,\n",
       "     'protected': False,\n",
       "     'screen_name': 'randal_olson',\n",
       "     'statuses_count': 17366,\n",
       "     'time_zone': 'Eastern Time (US & Canada)',\n",
       "     'translator_type': 'none',\n",
       "     'url': 'https://t.co/tpzAYxx9cq',\n",
       "     'utc_offset': -18000,\n",
       "     'verified': False}},\n",
       "   'source': '<a href=\"http://twitter.com\" rel=\"nofollow\">Twitter Web Client</a>',\n",
       "   'text': \"RT @randal_olson: When the person who stocks the #RaspberryPi magazines at the local supermarket doesn't know what a Raspberry Pi is. #prog…\",\n",
       "   'truncated': False,\n",
       "   'user': {'contributors_enabled': False,\n",
       "    'created_at': 'Tue Oct 18 23:23:44 +0000 2011',\n",
       "    'default_profile': False,\n",
       "    'default_profile_image': False,\n",
       "    'description': 'Advanced computing resources and services for research, teaching and learning at the University of Michigan',\n",
       "    'entities': {'description': {'urls': []},\n",
       "     'url': {'urls': [{'display_url': 'arc.umich.edu',\n",
       "        'expanded_url': 'http://arc.umich.edu',\n",
       "        'indices': [0, 22],\n",
       "        'url': 'http://t.co/TM2VijomUk'}]}},\n",
       "    'favourites_count': 18,\n",
       "    'follow_request_sent': False,\n",
       "    'followers_count': 472,\n",
       "    'following': False,\n",
       "    'friends_count': 159,\n",
       "    'geo_enabled': True,\n",
       "    'has_extended_profile': False,\n",
       "    'id': 393706761,\n",
       "    'id_str': '393706761',\n",
       "    'is_translation_enabled': False,\n",
       "    'is_translator': False,\n",
       "    'lang': 'en',\n",
       "    'listed_count': 66,\n",
       "    'location': 'Ann Arbor, MI',\n",
       "    'name': 'ARCatUM',\n",
       "    'notifications': False,\n",
       "    'profile_background_color': 'DBDBDB',\n",
       "    'profile_background_image_url': 'http://pbs.twimg.com/profile_background_images/353930246/Twitter6.jpg',\n",
       "    'profile_background_image_url_https': 'https://pbs.twimg.com/profile_background_images/353930246/Twitter6.jpg',\n",
       "    'profile_background_tile': False,\n",
       "    'profile_image_url': 'http://pbs.twimg.com/profile_images/3539793499/6218609aa5e34ca252cc42cf2dc8f90c_normal.jpeg',\n",
       "    'profile_image_url_https': 'https://pbs.twimg.com/profile_images/3539793499/6218609aa5e34ca252cc42cf2dc8f90c_normal.jpeg',\n",
       "    'profile_link_color': 'DBAF00',\n",
       "    'profile_sidebar_border_color': 'FFFFFF',\n",
       "    'profile_sidebar_fill_color': '46729F',\n",
       "    'profile_text_color': '2E2E2E',\n",
       "    'profile_use_background_image': False,\n",
       "    'protected': False,\n",
       "    'screen_name': 'ARC_UM',\n",
       "    'statuses_count': 1369,\n",
       "    'time_zone': 'Atlantic Time (Canada)',\n",
       "    'translator_type': 'none',\n",
       "    'url': 'http://t.co/TM2VijomUk',\n",
       "    'utc_offset': -14400,\n",
       "    'verified': False}},\n",
       "  {'contributors': None,\n",
       "   'coordinates': None,\n",
       "   'created_at': 'Wed Feb 21 18:57:32 +0000 2018',\n",
       "   'entities': {'hashtags': [{'indices': [15, 28], 'text': 'DeepLearning'},\n",
       "     {'indices': [60, 71], 'text': 'TensorFlow'},\n",
       "     {'indices': [73, 79], 'text': 'Keras'},\n",
       "     {'indices': [86, 94], 'text': 'PyTorch'}],\n",
       "    'media': [{'display_url': 'pic.twitter.com/UQ0mlIguZc',\n",
       "      'expanded_url': 'https://twitter.com/kdnuggets/status/966175746938097664/photo/1',\n",
       "      'id': 966175743079313416,\n",
       "      'id_str': '966175743079313416',\n",
       "      'indices': [119, 142],\n",
       "      'media_url': 'http://pbs.twimg.com/media/DWiLuCTXcAgSkN2.jpg',\n",
       "      'media_url_https': 'https://pbs.twimg.com/media/DWiLuCTXcAgSkN2.jpg',\n",
       "      'sizes': {'large': {'h': 548, 'resize': 'fit', 'w': 800},\n",
       "       'medium': {'h': 548, 'resize': 'fit', 'w': 800},\n",
       "       'small': {'h': 466, 'resize': 'fit', 'w': 680},\n",
       "       'thumb': {'h': 150, 'resize': 'crop', 'w': 150}},\n",
       "      'source_status_id': 966175746938097664,\n",
       "      'source_status_id_str': '966175746938097664',\n",
       "      'source_user_id': 20167623,\n",
       "      'source_user_id_str': '20167623',\n",
       "      'type': 'photo',\n",
       "      'url': 'https://t.co/UQ0mlIguZc'}],\n",
       "    'symbols': [],\n",
       "    'urls': [{'display_url': 'buff.ly/2FhNFRZ',\n",
       "      'expanded_url': 'https://buff.ly/2FhNFRZ',\n",
       "      'indices': [95, 118],\n",
       "      'url': 'https://t.co/h3O5XvXVXD'}],\n",
       "    'user_mentions': [{'id': 20167623,\n",
       "      'id_str': '20167623',\n",
       "      'indices': [3, 13],\n",
       "      'name': 'KDnuggets',\n",
       "      'screen_name': 'kdnuggets'}]},\n",
       "   'extended_entities': {'media': [{'display_url': 'pic.twitter.com/UQ0mlIguZc',\n",
       "      'expanded_url': 'https://twitter.com/kdnuggets/status/966175746938097664/photo/1',\n",
       "      'id': 966175743079313416,\n",
       "      'id_str': '966175743079313416',\n",
       "      'indices': [119, 142],\n",
       "      'media_url': 'http://pbs.twimg.com/media/DWiLuCTXcAgSkN2.jpg',\n",
       "      'media_url_https': 'https://pbs.twimg.com/media/DWiLuCTXcAgSkN2.jpg',\n",
       "      'sizes': {'large': {'h': 548, 'resize': 'fit', 'w': 800},\n",
       "       'medium': {'h': 548, 'resize': 'fit', 'w': 800},\n",
       "       'small': {'h': 466, 'resize': 'fit', 'w': 680},\n",
       "       'thumb': {'h': 150, 'resize': 'crop', 'w': 150}},\n",
       "      'source_status_id': 966175746938097664,\n",
       "      'source_status_id_str': '966175746938097664',\n",
       "      'source_user_id': 20167623,\n",
       "      'source_user_id_str': '20167623',\n",
       "      'type': 'photo',\n",
       "      'url': 'https://t.co/UQ0mlIguZc'}]},\n",
       "   'favorite_count': 0,\n",
       "   'favorited': False,\n",
       "   'geo': None,\n",
       "   'id': 966386421719359488,\n",
       "   'id_str': '966386421719359488',\n",
       "   'in_reply_to_screen_name': None,\n",
       "   'in_reply_to_status_id': None,\n",
       "   'in_reply_to_status_id_str': None,\n",
       "   'in_reply_to_user_id': None,\n",
       "   'in_reply_to_user_id_str': None,\n",
       "   'is_quote_status': False,\n",
       "   'lang': 'en',\n",
       "   'metadata': {'iso_language_code': 'en', 'result_type': 'recent'},\n",
       "   'place': None,\n",
       "   'possibly_sensitive': False,\n",
       "   'retweet_count': 56,\n",
       "   'retweeted': False,\n",
       "   'retweeted_status': {'contributors': None,\n",
       "    'coordinates': None,\n",
       "    'created_at': 'Wed Feb 21 05:00:23 +0000 2018',\n",
       "    'entities': {'hashtags': [{'indices': [0, 13], 'text': 'DeepLearning'},\n",
       "      {'indices': [45, 56], 'text': 'TensorFlow'},\n",
       "      {'indices': [58, 64], 'text': 'Keras'},\n",
       "      {'indices': [71, 79], 'text': 'PyTorch'}],\n",
       "     'media': [{'display_url': 'pic.twitter.com/UQ0mlIguZc',\n",
       "       'expanded_url': 'https://twitter.com/kdnuggets/status/966175746938097664/photo/1',\n",
       "       'id': 966175743079313416,\n",
       "       'id_str': '966175743079313416',\n",
       "       'indices': [104, 127],\n",
       "       'media_url': 'http://pbs.twimg.com/media/DWiLuCTXcAgSkN2.jpg',\n",
       "       'media_url_https': 'https://pbs.twimg.com/media/DWiLuCTXcAgSkN2.jpg',\n",
       "       'sizes': {'large': {'h': 548, 'resize': 'fit', 'w': 800},\n",
       "        'medium': {'h': 548, 'resize': 'fit', 'w': 800},\n",
       "        'small': {'h': 466, 'resize': 'fit', 'w': 680},\n",
       "        'thumb': {'h': 150, 'resize': 'crop', 'w': 150}},\n",
       "       'type': 'photo',\n",
       "       'url': 'https://t.co/UQ0mlIguZc'}],\n",
       "     'symbols': [],\n",
       "     'urls': [{'display_url': 'buff.ly/2FhNFRZ',\n",
       "       'expanded_url': 'https://buff.ly/2FhNFRZ',\n",
       "       'indices': [80, 103],\n",
       "       'url': 'https://t.co/h3O5XvXVXD'}],\n",
       "     'user_mentions': []},\n",
       "    'extended_entities': {'media': [{'display_url': 'pic.twitter.com/UQ0mlIguZc',\n",
       "       'expanded_url': 'https://twitter.com/kdnuggets/status/966175746938097664/photo/1',\n",
       "       'id': 966175743079313416,\n",
       "       'id_str': '966175743079313416',\n",
       "       'indices': [104, 127],\n",
       "       'media_url': 'http://pbs.twimg.com/media/DWiLuCTXcAgSkN2.jpg',\n",
       "       'media_url_https': 'https://pbs.twimg.com/media/DWiLuCTXcAgSkN2.jpg',\n",
       "       'sizes': {'large': {'h': 548, 'resize': 'fit', 'w': 800},\n",
       "        'medium': {'h': 548, 'resize': 'fit', 'w': 800},\n",
       "        'small': {'h': 466, 'resize': 'fit', 'w': 680},\n",
       "        'thumb': {'h': 150, 'resize': 'crop', 'w': 150}},\n",
       "       'type': 'photo',\n",
       "       'url': 'https://t.co/UQ0mlIguZc'}]},\n",
       "    'favorite_count': 96,\n",
       "    'favorited': False,\n",
       "    'geo': None,\n",
       "    'id': 966175746938097664,\n",
       "    'id_str': '966175746938097664',\n",
       "    'in_reply_to_screen_name': None,\n",
       "    'in_reply_to_status_id': None,\n",
       "    'in_reply_to_status_id_str': None,\n",
       "    'in_reply_to_user_id': None,\n",
       "    'in_reply_to_user_id_str': None,\n",
       "    'is_quote_status': False,\n",
       "    'lang': 'en',\n",
       "    'metadata': {'iso_language_code': 'en', 'result_type': 'recent'},\n",
       "    'place': None,\n",
       "    'possibly_sensitive': False,\n",
       "    'retweet_count': 56,\n",
       "    'retweeted': False,\n",
       "    'source': '<a href=\"http://bufferapp.com\" rel=\"nofollow\">Buffer</a>',\n",
       "    'text': '#DeepLearning Development with Google Colab, #TensorFlow, #Keras &amp; #PyTorch https://t.co/h3O5XvXVXD https://t.co/UQ0mlIguZc',\n",
       "    'truncated': False,\n",
       "    'user': {'contributors_enabled': False,\n",
       "     'created_at': 'Thu Feb 05 17:37:26 +0000 2009',\n",
       "     'default_profile': False,\n",
       "     'default_profile_image': False,\n",
       "     'description': 'Covering #AI, #Analytics, #BigData, #DataMining, #DataScience #MachineLearning, #DeepLearning.  Founded by Gregory Piatetsky-Shapiro.',\n",
       "     'entities': {'description': {'urls': []},\n",
       "      'url': {'urls': [{'display_url': 'kdnuggets.com',\n",
       "         'expanded_url': 'https://www.kdnuggets.com/',\n",
       "         'indices': [0, 23],\n",
       "         'url': 'https://t.co/pTYBq6ncsT'}]}},\n",
       "     'favourites_count': 483,\n",
       "     'follow_request_sent': False,\n",
       "     'followers_count': 106994,\n",
       "     'following': False,\n",
       "     'friends_count': 407,\n",
       "     'geo_enabled': False,\n",
       "     'has_extended_profile': False,\n",
       "     'id': 20167623,\n",
       "     'id_str': '20167623',\n",
       "     'is_translation_enabled': False,\n",
       "     'is_translator': False,\n",
       "     'lang': 'en',\n",
       "     'listed_count': 5615,\n",
       "     'location': 'Brookline, MA, USA',\n",
       "     'name': 'KDnuggets',\n",
       "     'notifications': False,\n",
       "     'profile_background_color': '0099B9',\n",
       "     'profile_background_image_url': 'http://pbs.twimg.com/profile_background_images/378800000050609482/c32d3d654da4eb7c0518e7bba2609522.jpeg',\n",
       "     'profile_background_image_url_https': 'https://pbs.twimg.com/profile_background_images/378800000050609482/c32d3d654da4eb7c0518e7bba2609522.jpeg',\n",
       "     'profile_background_tile': True,\n",
       "     'profile_banner_url': 'https://pbs.twimg.com/profile_banners/20167623/1476546748',\n",
       "     'profile_image_url': 'http://pbs.twimg.com/profile_images/795788806008041473/0nTPcRja_normal.jpg',\n",
       "     'profile_image_url_https': 'https://pbs.twimg.com/profile_images/795788806008041473/0nTPcRja_normal.jpg',\n",
       "     'profile_link_color': '0099B9',\n",
       "     'profile_sidebar_border_color': '5ED4DC',\n",
       "     'profile_sidebar_fill_color': '95E8EC',\n",
       "     'profile_text_color': '3C3940',\n",
       "     'profile_use_background_image': True,\n",
       "     'protected': False,\n",
       "     'screen_name': 'kdnuggets',\n",
       "     'statuses_count': 45528,\n",
       "     'time_zone': 'Eastern Time (US & Canada)',\n",
       "     'translator_type': 'regular',\n",
       "     'url': 'https://t.co/pTYBq6ncsT',\n",
       "     'utc_offset': -18000,\n",
       "     'verified': False}},\n",
       "   'source': '<a href=\"http://twitter.com\" rel=\"nofollow\">Twitter Web Client</a>',\n",
       "   'text': 'RT @kdnuggets: #DeepLearning Development with Google Colab, #TensorFlow, #Keras &amp; #PyTorch https://t.co/h3O5XvXVXD https://t.co/UQ0mlIguZc',\n",
       "   'truncated': False,\n",
       "   'user': {'contributors_enabled': False,\n",
       "    'created_at': 'Tue Oct 18 23:23:44 +0000 2011',\n",
       "    'default_profile': False,\n",
       "    'default_profile_image': False,\n",
       "    'description': 'Advanced computing resources and services for research, teaching and learning at the University of Michigan',\n",
       "    'entities': {'description': {'urls': []},\n",
       "     'url': {'urls': [{'display_url': 'arc.umich.edu',\n",
       "        'expanded_url': 'http://arc.umich.edu',\n",
       "        'indices': [0, 22],\n",
       "        'url': 'http://t.co/TM2VijomUk'}]}},\n",
       "    'favourites_count': 18,\n",
       "    'follow_request_sent': False,\n",
       "    'followers_count': 472,\n",
       "    'following': False,\n",
       "    'friends_count': 159,\n",
       "    'geo_enabled': True,\n",
       "    'has_extended_profile': False,\n",
       "    'id': 393706761,\n",
       "    'id_str': '393706761',\n",
       "    'is_translation_enabled': False,\n",
       "    'is_translator': False,\n",
       "    'lang': 'en',\n",
       "    'listed_count': 66,\n",
       "    'location': 'Ann Arbor, MI',\n",
       "    'name': 'ARCatUM',\n",
       "    'notifications': False,\n",
       "    'profile_background_color': 'DBDBDB',\n",
       "    'profile_background_image_url': 'http://pbs.twimg.com/profile_background_images/353930246/Twitter6.jpg',\n",
       "    'profile_background_image_url_https': 'https://pbs.twimg.com/profile_background_images/353930246/Twitter6.jpg',\n",
       "    'profile_background_tile': False,\n",
       "    'profile_image_url': 'http://pbs.twimg.com/profile_images/3539793499/6218609aa5e34ca252cc42cf2dc8f90c_normal.jpeg',\n",
       "    'profile_image_url_https': 'https://pbs.twimg.com/profile_images/3539793499/6218609aa5e34ca252cc42cf2dc8f90c_normal.jpeg',\n",
       "    'profile_link_color': 'DBAF00',\n",
       "    'profile_sidebar_border_color': 'FFFFFF',\n",
       "    'profile_sidebar_fill_color': '46729F',\n",
       "    'profile_text_color': '2E2E2E',\n",
       "    'profile_use_background_image': False,\n",
       "    'protected': False,\n",
       "    'screen_name': 'ARC_UM',\n",
       "    'statuses_count': 1369,\n",
       "    'time_zone': 'Atlantic Time (Canada)',\n",
       "    'translator_type': 'none',\n",
       "    'url': 'http://t.co/TM2VijomUk',\n",
       "    'utc_offset': -14400,\n",
       "    'verified': False}}]}"
      ]
     },
     "execution_count": 5,
     "metadata": {},
     "output_type": "execute_result"
    }
   ],
   "source": [
    "query = 'from:arc_um'\n",
    "limit = 2\n",
    "results = twtr.search.tweets(q=query, count=limit)\n",
    "results"
   ]
  },
  {
   "cell_type": "markdown",
   "metadata": {},
   "source": [
    "Apparently, there is a lot of data associated with a 140 character tweet. Another reason why an API is better than HTML web scraping."
   ]
  },
  {
   "cell_type": "markdown",
   "metadata": {},
   "source": [
    "## User Info"
   ]
  },
  {
   "cell_type": "markdown",
   "metadata": {},
   "source": [
    "Here's how you would access some interesting fields about the Tweeter."
   ]
  },
  {
   "cell_type": "code",
   "execution_count": 6,
   "metadata": {
    "collapsed": true
   },
   "outputs": [],
   "source": [
    "tweet = results['statuses'][1]"
   ]
  },
  {
   "cell_type": "code",
   "execution_count": 7,
   "metadata": {},
   "outputs": [
    {
     "name": "stdout",
     "output_type": "stream",
     "text": [
      "Name: ARCatUM\n",
      "ScreenName: ARC_UM\n",
      "Description: Advanced computing resources and services for research, teaching and learning at the University of Michigan\n",
      "Location: Ann Arbor, MI\n",
      "# Tweets: 1369\n",
      "# Following: 159\n",
      "# Followers: 472\n",
      "# Likes: 18\n",
      "# Lists: 66\n"
     ]
    }
   ],
   "source": [
    "print('Name: {}'.format(tweet['user']['name']))\n",
    "print('ScreenName: {}'.format(tweet['user']['screen_name']))\n",
    "print('Description: {}'.format(tweet['user']['description']))\n",
    "print('Location: {}'.format(tweet['user']['location']))\n",
    "print('# Tweets: {}'.format(tweet['user']['statuses_count']))        \n",
    "print('# Following: {}'.format(tweet['user']['friends_count']))        \n",
    "print('# Followers: {}'.format(tweet['user']['followers_count']))\n",
    "print('# Likes: {}'.format(tweet['user']['favourites_count']))\n",
    "print('# Lists: {}'.format(tweet['user']['listed_count']))"
   ]
  },
  {
   "cell_type": "markdown",
   "metadata": {},
   "source": [
    "## Tweet Info"
   ]
  },
  {
   "cell_type": "markdown",
   "metadata": {},
   "source": [
    "Here's how you would access info about the tweet itself."
   ]
  },
  {
   "cell_type": "code",
   "execution_count": 8,
   "metadata": {},
   "outputs": [
    {
     "name": "stdout",
     "output_type": "stream",
     "text": [
      "Created at: Wed Feb 21 18:57:32 +0000 2018\n",
      "Text: RT @kdnuggets: #DeepLearning Development with Google Colab, #TensorFlow, #Keras &amp; #PyTorch https://t.co/h3O5XvXVXD https://t.co/UQ0mlIguZc\n",
      "Source: <a href=\"http://twitter.com\" rel=\"nofollow\">Twitter Web Client</a>\n",
      "Hashtag: DeepLearning\n",
      "Hashtag: TensorFlow\n",
      "Hashtag: Keras\n",
      "Hashtag: PyTorch\n",
      "Likes: 0\n",
      "Retweets: 56\n",
      "Retweet: False\n",
      "Coordinates: None\n"
     ]
    }
   ],
   "source": [
    "print('Created at: {}'.format(tweet['created_at']))       \n",
    "print('Text: {}'.format(tweet['text']))\n",
    "print('Source: {}'.format(tweet['source']))\n",
    "for hashtag in tweet['entities']['hashtags']:\n",
    "    print('Hashtag: {}'.format(hashtag['text']))\n",
    "print('Likes: {}'.format(tweet['favorite_count']))\n",
    "print('Retweets: {}'.format(tweet['retweet_count']))        \n",
    "print('Retweet: {}'.format(tweet['retweeted']))\n",
    "print('Coordinates: {}'.format(tweet['coordinates']))\n",
    "place = tweet['place']\n",
    "if place is not None:\n",
    "    print('Place Name: {}'.format(place['full_name']))\n",
    "    print('Place Type: {}'.format(place['place_type']))\n",
    "    print('Place Bounding Box: {}'.format(place['bounding_box']['coordinates']))"
   ]
  },
  {
   "cell_type": "code",
   "execution_count": null,
   "metadata": {
    "collapsed": true
   },
   "outputs": [],
   "source": [
    "twtr.friends.ids()"
   ]
  },
  {
   "cell_type": "markdown",
   "metadata": {},
   "source": [
    "## Search tweets by users located within a given radius of a GPS point"
   ]
  },
  {
   "cell_type": "markdown",
   "metadata": {},
   "source": [
    "Add the `geo` argument to the `search.tweets` method."
   ]
  },
  {
   "cell_type": "code",
   "execution_count": null,
   "metadata": {
    "collapsed": true
   },
   "outputs": [],
   "source": [
    "query = 'food' \n",
    "limit = 5\n",
    "georesults = twtr.search.tweets(q=query, count=limit, geo=\"42.7,-83.3, 10km\")"
   ]
  },
  {
   "cell_type": "markdown",
   "metadata": {},
   "source": [
    "Let's print out the tweet along with the datetime and coordinates information."
   ]
  },
  {
   "cell_type": "code",
   "execution_count": null,
   "metadata": {
    "scrolled": true
   },
   "outputs": [],
   "source": [
    "for i, tweet in enumerate(georesults['statuses']):\n",
    "    print(i, tweet['text'])\n",
    "    print(tweet['created_at'], tweet['coordinates'])"
   ]
  },
  {
   "cell_type": "markdown",
   "metadata": {},
   "source": [
    "Q: How do I know what methods and arguments to use?  \n",
    "A: I read the API documentation."
   ]
  },
  {
   "cell_type": "markdown",
   "metadata": {},
   "source": [
    "This URL has a list of API endpoints for Twitter https://dev.twitter.com/rest/reference. This is also a good jumping off point to get to the doucmentation. *Bookmark it!* So far, we've only used one API endpoint."
   ]
  },
  {
   "cell_type": "markdown",
   "metadata": {},
   "source": [
    "## Get a list of Followers"
   ]
  },
  {
   "cell_type": "markdown",
   "metadata": {},
   "source": [
    "Use the `followers.list` method to get a list of followers for a given user. Returns a default of 20 results. Can set value up to 200 using the `count` argument."
   ]
  },
  {
   "cell_type": "code",
   "execution_count": null,
   "metadata": {},
   "outputs": [],
   "source": [
    "followers = twtr.followers.list(screen_name='arc_um', skip_status=True, include_user_entities=False)\n",
    "followers"
   ]
  },
  {
   "cell_type": "markdown",
   "metadata": {},
   "source": [
    "Print out the __screen name__ and the __description__ of the followers."
   ]
  },
  {
   "cell_type": "code",
   "execution_count": null,
   "metadata": {},
   "outputs": [],
   "source": [
    "for i, user in enumerate(followers['users']):\n",
    "    print(i, user['screen_name'], user['description'])"
   ]
  },
  {
   "cell_type": "markdown",
   "metadata": {},
   "source": [
    "To iterate beyond 20 (or whatever you initially asked for), use the key `next_cursor` from the initial result along with the `cursor` argument. Think of it as Page 2. Repeat as necessary (see example below for complete acquisition)."
   ]
  },
  {
   "cell_type": "code",
   "execution_count": null,
   "metadata": {},
   "outputs": [],
   "source": [
    "followers = twtr.followers.list(screen_name='arc_um', cursor=followers['next_cursor'], skip_status=True, include_user_entities=False, )\n",
    "for i, user in enumerate(followers['users']):\n",
    "    print(i, user['screen_name'], user['description'])"
   ]
  },
  {
   "cell_type": "markdown",
   "metadata": {},
   "source": [
    "## Get a list of Following"
   ]
  },
  {
   "cell_type": "markdown",
   "metadata": {},
   "source": [
    "Use the `friends.list` method to see who a given user is following. Returns a default of 20 results. Can set value up to 200 using the `count` argument."
   ]
  },
  {
   "cell_type": "code",
   "execution_count": null,
   "metadata": {},
   "outputs": [],
   "source": [
    "following = twtr.friends.list(screen_name='arc_um', skip_status=True, include_user_entities=False)\n",
    "for i, user in enumerate(following['users']):\n",
    "    print(i, user['screen_name'], user['description'])"
   ]
  },
  {
   "cell_type": "markdown",
   "metadata": {},
   "source": [
    "Same function argument to access \"Page 2\" of the results as in the followers example."
   ]
  },
  {
   "cell_type": "markdown",
   "metadata": {},
   "source": [
    "## Cross Reference Followers and Following"
   ]
  },
  {
   "cell_type": "markdown",
   "metadata": {},
   "source": [
    "Here is some example code to cross reference the two lists to see which relationships are reciprocated."
   ]
  },
  {
   "cell_type": "markdown",
   "metadata": {},
   "source": [
    "This function appends a list of users to an existing list."
   ]
  },
  {
   "cell_type": "code",
   "execution_count": null,
   "metadata": {
    "collapsed": true
   },
   "outputs": [],
   "source": [
    "def append_users(f, list_users):\n",
    "    for user in f['users']:\n",
    "        list_users.append(user['screen_name'])\n",
    "    return list_users"
   ]
  },
  {
   "cell_type": "markdown",
   "metadata": {},
   "source": [
    "Grab entire list of followers."
   ]
  },
  {
   "cell_type": "code",
   "execution_count": null,
   "metadata": {},
   "outputs": [],
   "source": [
    "followers = {}\n",
    "followers['next_cursor'] = -1\n",
    "lemmings = []\n",
    "while (followers['next_cursor'] != 0):\n",
    "    followers = twtr.followers.list(screen_name='arc_um', count=200, cursor=followers['next_cursor'])\n",
    "    lemmings = append_users(followers, lemmings)\n",
    "print('There are {} followers'.format(len(lemmings)))"
   ]
  },
  {
   "cell_type": "code",
   "execution_count": null,
   "metadata": {},
   "outputs": [],
   "source": [
    "lemmings[:10]"
   ]
  },
  {
   "cell_type": "markdown",
   "metadata": {},
   "source": [
    "Grab entire list of following."
   ]
  },
  {
   "cell_type": "code",
   "execution_count": null,
   "metadata": {
    "scrolled": true
   },
   "outputs": [],
   "source": [
    "following = {}\n",
    "following['next_cursor'] = -1\n",
    "leaders = []\n",
    "while (following['next_cursor'] != 0):\n",
    "    following = twtr.friends.list(screen_name='arc_um', count=200, cursor=following['next_cursor'])\n",
    "    leaders = append_users(following, leaders)\n",
    "print('Following {} accounts.'.format(len(leaders)))"
   ]
  },
  {
   "cell_type": "markdown",
   "metadata": {},
   "source": [
    "Find the intersection of the two groups using a set operations."
   ]
  },
  {
   "cell_type": "code",
   "execution_count": null,
   "metadata": {},
   "outputs": [],
   "source": [
    "lemmings = set(lemmings)\n",
    "leaders = set(leaders)\n",
    "relationship = leaders.intersection(lemmings)\n",
    "print(len(relationship), relationship)"
   ]
  },
  {
   "cell_type": "markdown",
   "metadata": {},
   "source": [
    "## Search for Trends by Where on Earth (WOE) ID"
   ]
  },
  {
   "cell_type": "markdown",
   "metadata": {},
   "source": [
    "Use the `trends.place` method to get a list of trending topics for a given location. The location is specified using the WOE ID.  \n",
    "A WOE ID is a unique identifier for a place on Earth. "
   ]
  },
  {
   "cell_type": "markdown",
   "metadata": {},
   "source": [
    "Here is a dictionary of places and WOE IDs."
   ]
  },
  {
   "cell_type": "code",
   "execution_count": null,
   "metadata": {
    "collapsed": true
   },
   "outputs": [],
   "source": [
    "woeid = {'World':1, 'USA':23424977, 'San Francisco':2487956, 'Los Angeles':2442047,\n",
    "         'Canada':23424775, 'Toronto':4118, 'Montreal':3534,\n",
    "         'United Kingdom':23424975, 'Germany':23424829}"
   ]
  },
  {
   "cell_type": "markdown",
   "metadata": {},
   "source": [
    "Searching for trends by WOE ID is analagous to searching for YouTube videos by Region Code."
   ]
  },
  {
   "cell_type": "code",
   "execution_count": null,
   "metadata": {
    "collapsed": true
   },
   "outputs": [],
   "source": [
    "woe_trends = twtr.trends.place(_id=woeid['Canada'])"
   ]
  },
  {
   "cell_type": "code",
   "execution_count": null,
   "metadata": {},
   "outputs": [],
   "source": [
    "woe_trends"
   ]
  },
  {
   "cell_type": "markdown",
   "metadata": {},
   "source": [
    "Print out top 10 trending topics with number of tweets"
   ]
  },
  {
   "cell_type": "code",
   "execution_count": null,
   "metadata": {},
   "outputs": [],
   "source": [
    "trends = woe_trends[0]['trends']\n",
    "for trend in trends[:10]:\n",
    "    print(trend['name'], trend['tweet_volume'])"
   ]
  },
  {
   "cell_type": "markdown",
   "metadata": {},
   "source": [
    "Here is a URL detailing the WOE ID's supported by Twitter.  \n",
    "https://twittercommunity.com/t/what-are-the-list-of-woeids-supported-by-twitter/8493/2.\n",
    "\n",
    "**Note**: Not all WOE IDs are supported by Twitter. Places like Ann Arbor or Michigan are not. Apparently not important enough :("
   ]
  },
  {
   "cell_type": "markdown",
   "metadata": {},
   "source": [
    "## Submit Your Own Tweet"
   ]
  },
  {
   "cell_type": "markdown",
   "metadata": {},
   "source": [
    "If you want to become an *evil trolling TwitterBot*, this is the first step towards darkness. Use the `statuses.update` method to start tweeting from Python."
   ]
  },
  {
   "cell_type": "code",
   "execution_count": null,
   "metadata": {
    "collapsed": true
   },
   "outputs": [],
   "source": [
    "#twtr.statuses.update(status=\"Python Tweeting from the Twitter API workshop. Thanks #CSCAR and @ARC_UM\")"
   ]
  },
  {
   "cell_type": "markdown",
   "metadata": {},
   "source": [
    "Tweeting parameters can be found at  \n",
    "https://dev.twitter.com/rest/reference/post/statuses/update"
   ]
  },
  {
   "cell_type": "markdown",
   "metadata": {},
   "source": [
    "If you've been counting, we've touched upon 5 API endpoints out of the 100+ endpoints available."
   ]
  },
  {
   "cell_type": "markdown",
   "metadata": {
    "collapsed": true
   },
   "source": [
    "## Rate Limits"
   ]
  },
  {
   "cell_type": "markdown",
   "metadata": {},
   "source": [
    "Usage of the Twitter API is subject to rate limits which varies based on the `GET` request or endpoint.  \n",
    "Details can be found here at https://dev.twitter.com/rest/public/rate-limits."
   ]
  },
  {
   "cell_type": "markdown",
   "metadata": {
    "collapsed": true
   },
   "source": [
    "# Twitter Streaming API"
   ]
  },
  {
   "cell_type": "markdown",
   "metadata": {},
   "source": [
    "The streaming API is used to collect tweets from the future. The streaming API provides a **sample** of the available Tweets. Polling and rate limits do NOT apply to the streaming API.\n",
    "\n",
    "Details on the public data streaming API can be found here at \n",
    "https://dev.twitter.com/streaming/public"
   ]
  },
  {
   "cell_type": "markdown",
   "metadata": {},
   "source": [
    "This code block is here so we can quickly restart the kernel if the streaming API is complaining about `Exceeded connection limit for user`."
   ]
  },
  {
   "cell_type": "code",
   "execution_count": null,
   "metadata": {
    "collapsed": true
   },
   "outputs": [],
   "source": [
    "consumerKey = os.getenv('consumerkey')\n",
    "consumerSecret = os.getenv('consumersecret')\n",
    "oauthToken = os.getenv('accesstoken')\n",
    "oauthTokenSecret = os.getenv('accesstokensecret')\n",
    "\n",
    "import twitter\n",
    "auth = twitter.OAuth(oauthToken, oauthTokenSecret, consumerKey, consumerSecret)"
   ]
  },
  {
   "cell_type": "markdown",
   "metadata": {},
   "source": [
    "We need to create a new API hand for streaming using our authentication. Only one standing connection per account is allowed to a public endpoint. We'll be using the public stream API which is specified in the domain argument."
   ]
  },
  {
   "cell_type": "code",
   "execution_count": null,
   "metadata": {
    "collapsed": true
   },
   "outputs": [],
   "source": [
    "twtr_stream = twitter.TwitterStream(auth=auth, domain=\"stream.twitter.com\")"
   ]
  },
  {
   "cell_type": "markdown",
   "metadata": {},
   "source": [
    "There are two other streaming endpoints you can access. User and site streams. Details can be found at:  \n",
    "https://dev.twitter.com/streaming/overview\n",
    "\n",
    "**Note**: You can NOT request every future Tweet through this API. That is referred to as the Firehose. It costs a lot of `$$$$$$$$`."
   ]
  },
  {
   "cell_type": "markdown",
   "metadata": {
    "collapsed": true
   },
   "source": [
    "## Search by Filter"
   ]
  },
  {
   "cell_type": "markdown",
   "metadata": {},
   "source": [
    "Stream searches are done with a delimited list of terms. A phrase may consist of one or more terms. Term ordering is ignored and searches are not case sensitive.\n",
    " \n",
    "spaces == logical ANDs (e.g. `\"Alex twitter\" == \"alex AND twitter\"`)  \n",
    "commas == logical ORs (e.g. `\"Alex, twitter\" == \"Alex OR twitter\"`)\n",
    "\n",
    "The text of the Tweet and some entity fields are considered for matches. Specifically:\n",
    "- the `text` attribute of the Tweet\n",
    "- `expanded_url` and `display_url` for links and media\n",
    "- `text` for hashtags\n",
    "- and `screen_name` for user mentions"
   ]
  },
  {
   "cell_type": "markdown",
   "metadata": {},
   "source": [
    "Use the `statuses.filter` method to create a streaming query."
   ]
  },
  {
   "cell_type": "code",
   "execution_count": null,
   "metadata": {
    "collapsed": true
   },
   "outputs": [],
   "source": [
    "iterator = twtr_stream.statuses.filter(track=\"football, food\")"
   ]
  },
  {
   "cell_type": "markdown",
   "metadata": {},
   "source": [
    "Use a `for` loop to get the generator to yield future results as they come in. I'm printing the fields (where applicable) that are being searched except time. The `break` command is to prevent it going on indefinitely.\n",
    "\n",
    "**Tip**: Use the stop button in the toolbar to prevent it from going to 100."
   ]
  },
  {
   "cell_type": "code",
   "execution_count": null,
   "metadata": {},
   "outputs": [],
   "source": [
    "for i, tweet in enumerate(iterator):   \n",
    "    print('{} Time: {}'.format(i, tweet['created_at']))\n",
    "    print('Tweet: {}'.format(tweet['text']))\n",
    "    try:\n",
    "        print('Expanded URL: {}'.format(tweet['entities']['urls'][0]['expanded_url']))\n",
    "        print('Display URL: {}'.format(tweet['entities']['urls'][0]['display_url']))\n",
    "    except:\n",
    "        pass     \n",
    "    if len(tweet['entities']['hashtags']) > 0:\n",
    "        print('Hashtags: {}'.format(tweet['entities']['hashtags'][0]['text']))\n",
    "    if len(tweet['entities']['user_mentions']) > 0:\n",
    "        print('Screen Name: {}'.format(tweet['entities']['user_mentions'][0]['screen_name']))\n",
    "    if i > 100:\n",
    "        break"
   ]
  },
  {
   "cell_type": "markdown",
   "metadata": {},
   "source": [
    "Details on the `track` parameter can be found here  \n",
    "https://dev.twitter.com/streaming/overview/request-parameters#track"
   ]
  },
  {
   "cell_type": "markdown",
   "metadata": {
    "collapsed": true
   },
   "source": [
    "## Search by Location"
   ]
  },
  {
   "cell_type": "markdown",
   "metadata": {},
   "source": [
    "Use the `locations` argument to specify a bounding box to search. The API will return all tweets whose location intersects the bounding box. This will return all tweets intersecting the New York City bounding box. "
   ]
  },
  {
   "cell_type": "code",
   "execution_count": null,
   "metadata": {},
   "outputs": [],
   "source": [
    "iterator = twtr_stream.statuses.filter(locations=\"-74,40,-73,41\")\n",
    "for i, tweet in enumerate(iterator, start=1):\n",
    "    print('Time: {}'.format(tweet['created_at']))\n",
    "    print('Tweet: {}'.format(tweet['text']))\n",
    "    print('Coordinates: {}'.format(tweet['coordinates']))\n",
    "    if tweet['place'] is not None:\n",
    "        print('BoundingBox: {}'.format(tweet['place']['bounding_box']['coordinates']))\n",
    "        print('Name: {}'.format(tweet['place']['full_name']))\n",
    "        print('Type: {}'.format(tweet['place']['place_type']))\n",
    "        print('ID: {}\\n'.format(tweet['place']['id']))\n",
    "    else:\n",
    "        print('')\n",
    "    if i > 4:\n",
    "        break"
   ]
  },
  {
   "cell_type": "markdown",
   "metadata": {},
   "source": [
    "Bounding boxes act like OR operators. They do not filter `track` parameters. So the following will either return football OR tweets from NYC. "
   ]
  },
  {
   "cell_type": "code",
   "execution_count": null,
   "metadata": {},
   "outputs": [],
   "source": [
    "iterator = twtr_stream.statuses.filter(track=\"football\", locations=\"-74,40,-73,41\")\n",
    "for i, tweet in enumerate(iterator, start=1):\n",
    "    print('Time: {}'.format(tweet['created_at']))\n",
    "    print('Tweet: {}'.format(tweet['text']))\n",
    "    print('Coordinates: {}'.format(tweet['coordinates']))\n",
    "    if tweet['place'] is not None:\n",
    "        print('BoundingBox: {}'.format(tweet['place']['bounding_box']['coordinates']))\n",
    "        print('Name: {}'.format(tweet['place']['full_name']))\n",
    "        print('Type: {}'.format(tweet['place']['place_type']))\n",
    "        print('ID: {}\\n'.format(tweet['place']['id']))\n",
    "    else:\n",
    "        print('')\n",
    "    if i > 4:\n",
    "        break"
   ]
  },
  {
   "cell_type": "markdown",
   "metadata": {},
   "source": [
    "Details on the `locations` parameter can be found here  \n",
    "https://dev.twitter.com/streaming/overview/request-parameters#locations"
   ]
  },
  {
   "cell_type": "markdown",
   "metadata": {
    "collapsed": true
   },
   "source": [
    "## Saving the Tweets"
   ]
  },
  {
   "cell_type": "markdown",
   "metadata": {},
   "source": [
    "Once you have the tweets in hand, you can save it in JSON format to a:\n",
    "1. text file\n",
    "2. NoSQL database (MongoDB seems to be a popular choice)\n",
    "\n",
    "We won't cover saving in detail here because it is non-trivial to setup a MongoDB database (and requires admin privileges) within this workshop."
   ]
  },
  {
   "cell_type": "markdown",
   "metadata": {
    "collapsed": true
   },
   "source": [
    "### Text File"
   ]
  },
  {
   "cell_type": "markdown",
   "metadata": {},
   "source": [
    "To save a single tweet to a text file, use the `json` module with the `dumps` method with standard Python file I/O."
   ]
  },
  {
   "cell_type": "code",
   "execution_count": null,
   "metadata": {
    "collapsed": true
   },
   "outputs": [],
   "source": [
    "import json\n",
    "with open('tweet.txt','w') as fout:\n",
    "    fout.write(json.dumps(tweet, indent=2))"
   ]
  },
  {
   "cell_type": "markdown",
   "metadata": {
    "collapsed": true
   },
   "source": [
    "### MongoDB"
   ]
  },
  {
   "cell_type": "markdown",
   "metadata": {},
   "source": [
    "Below is a simple example of how to add a tweet to a MongoDB.\n",
    "\n",
    "**Tip**: Make sure MongoDB is running before running this snippet."
   ]
  },
  {
   "cell_type": "code",
   "execution_count": null,
   "metadata": {
    "collapsed": true
   },
   "outputs": [],
   "source": [
    "import pymongo\n",
    "client = pymongo.MongoClient(\"localhost\", 27017)\n",
    "db = client.example\n",
    "db.my_collection"
   ]
  },
  {
   "cell_type": "markdown",
   "metadata": {},
   "source": [
    "Insert a single tweet"
   ]
  },
  {
   "cell_type": "code",
   "execution_count": null,
   "metadata": {
    "collapsed": true
   },
   "outputs": [],
   "source": [
    "db.my_collection.insert_one(tweet).inserted_id"
   ]
  },
  {
   "cell_type": "markdown",
   "metadata": {},
   "source": [
    "Lookup the single tweet"
   ]
  },
  {
   "cell_type": "code",
   "execution_count": null,
   "metadata": {
    "collapsed": true
   },
   "outputs": [],
   "source": [
    "db.my_collection.find_one()"
   ]
  },
  {
   "cell_type": "markdown",
   "metadata": {
    "collapsed": true
   },
   "source": [
    "**Note**: There are additional steps besides the code shown to get MongoDB working. "
   ]
  },
  {
   "cell_type": "markdown",
   "metadata": {},
   "source": [
    "## Last Note: Library of Congress Twitter Archive"
   ]
  },
  {
   "cell_type": "markdown",
   "metadata": {},
   "source": [
    "The Library of Congress and Twitter have teamed up back in April 2010 to archive every single public tweet. This archive has not been made public yet. Like everything, its behind schedule. Here's an journal article on the subject matter. http://firstmonday.org/article/view/5619/4653#p4"
   ]
  }
 ],
 "metadata": {
  "anaconda-cloud": {},
  "kernelspec": {
   "display_name": "Python 3",
   "language": "python",
   "name": "python3"
  },
  "language_info": {
   "codemirror_mode": {
    "name": "ipython",
    "version": 3
   },
   "file_extension": ".py",
   "mimetype": "text/x-python",
   "name": "python",
   "nbconvert_exporter": "python",
   "pygments_lexer": "ipython3",
   "version": "3.5.1"
  }
 },
 "nbformat": 4,
 "nbformat_minor": 1
}
