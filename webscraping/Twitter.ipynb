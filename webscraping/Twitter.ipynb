{
 "cells": [
  {
   "cell_type": "markdown",
   "metadata": {},
   "source": [
    "# Twitter API"
   ]
  },
  {
   "cell_type": "markdown",
   "metadata": {},
   "source": [
    "You need to have a Twitter Developer Account before proceeding. If you don't have one, [check out these instructions](https://github.com/caocscar/twitter-create-developer-account)."
   ]
  },
  {
   "cell_type": "markdown",
   "metadata": {},
   "source": [
    "## Getting Twitter Credentials"
   ]
  },
  {
   "cell_type": "markdown",
   "metadata": {},
   "source": [
    "Twitter implements OAuth 1.0 as its authentication protocol. You'll need 4 credentials in order to use OAuth and make requests to Twitter's API.\n",
    "\n",
    "The four credentials (i.e. API key, API secret key, Access token and Access token secret) can be obtained on the Twitter developer site to access the API. The steps are as follows:\n",
    "\n",
    "- Go to https://developer.twitter.com/en/apps and create an application. \n",
    "- Enter a name/description/website for your application. You can use https://www.google.com for the website. You also need to describe how the app will be used. Agree to the Developer Terms and create your Twitter application.\n",
    "- Go to the *Keys and tokens* tab. You should be able to see your **Consumer Key** and **Consumer Secret**.\n",
    "- At the bottom of the page, click the button to create your own **Access Token** and **Access Token Secret**.\n",
    "\n",
    "**Note**: You can always revoke/regenerate your credentials or delete the application."
   ]
  },
  {
   "cell_type": "markdown",
   "metadata": {},
   "source": [
    "# Postman Software for Non-Programmers"
   ]
  },
  {
   "cell_type": "markdown",
   "metadata": {},
   "source": [
    "Here is the [Postman homepage](https://www.getpostman.com/).  \n",
    "1. Download the software (Mac, Windows or Linux) https://www.getpostman.com/downloads/. I'll be using v7.1.1 for the workshop. \n",
    "2. Run the executable to install the software.\n",
    "3. Launch Postman\n",
    "4. (optional) You can sign in (using Google or creating a Postman account)"
   ]
  },
  {
   "cell_type": "markdown",
   "metadata": {},
   "source": [
    "Here is a blog on how to use Postman with Twitter. https://www.dataneb.com/blog/how-to-make-calls-to-twitter-apis-using-postman-client"
   ]
  },
  {
   "cell_type": "markdown",
   "metadata": {},
   "source": [
    "### Making a Twitter API Request\n",
    "1. Open a new GET request tab (if one is not already open)\n",
    "\n",
    "### Setting up Twitter Credentials\n",
    "\n",
    "2. Click on \"Authorization\" tab. Select \"type\" as `OAuth 1.0` and \"add authorization data to\" `Request Headers`.\n",
    "3. On the \"Authorization\" tab, you should see a spot to enter your four Twitter credentials we've previously acquired.\n",
    "4. Switch back to the \"Params\" tab.\n",
    "\n",
    "### Making GET Request\n",
    "5. Enter request URL with  https://api.twitter.com/1.1/account/verify_credentials.json?skip_status=true. This API returns information about your Twitter account. Hit \"Send\".\n",
    "6. You should see it return a response with information in JSON format.\n",
    "7. You can save the JSON response via the \"Download\" button.\n",
    "8. That's it. You've just used one endpoint in the Twitter API.\n",
    "\n",
    "Q: How did I know what URL to use to make the request above?  \n",
    "A: I read the API documentation."
   ]
  },
  {
   "cell_type": "markdown",
   "metadata": {},
   "source": [
    "The Twitter API reference index can be found at https://developer.twitter.com/en/docs/api-reference-index. This has a list of all APIs available to developers. We can look up our endpoint under \"Manage account settings and profile\" as `GET account/verify_credentials`.\n",
    "\n",
    "The documentation tells us the \"Resource URL\" https://api.twitter.com/1.1/account/verify_credentials.json as well as the parameters we have to pass to it (required or optional). It also provides an example request and example response."
   ]
  },
  {
   "cell_type": "markdown",
   "metadata": {},
   "source": [
    "### Example 2\n",
    "Let's move onto another example. How do we get a list of who is following us? This would be under the \"Follow, search, and get users\" section under `GET followers/list`. The [documentation tells us](https://developer.twitter.com/en/docs/accounts-and-users/follow-search-get-users/api-reference/get-followers-list) the \"Resource URL\" is \n",
    "https://api.twitter.com/1.1/followers/list.json. There are no required parameters. We get our own account by default but we can specify specific accounts by `screen_name` or `user_id`."
   ]
  },
  {
   "cell_type": "markdown",
   "metadata": {},
   "source": [
    "**Note**: For some reason beyond me, I can't get the API to search for tweets working with Postman. Its giving me an authentication error I can't resolve. We can get around this issue using a programming language like Python. There might be other APIs among the 100+ that has similar issues. "
   ]
  },
  {
   "cell_type": "markdown",
   "metadata": {},
   "source": [
    "# Python for Programmers"
   ]
  },
  {
   "cell_type": "markdown",
   "metadata": {},
   "source": [
    "We setup our credentials first. Here I am using environmental variables to store my credentials. You can hardcode it in for the workshop."
   ]
  },
  {
   "cell_type": "code",
   "execution_count": 1,
   "metadata": {},
   "outputs": [],
   "source": [
    "import os\n",
    "consumerKey = os.getenv('consumerkey')\n",
    "consumerSecret = os.getenv('consumersecret')\n",
    "oauthToken = os.getenv('accesstoken')\n",
    "oauthTokenSecret = os.getenv('accesstokensecret')"
   ]
  },
  {
   "cell_type": "markdown",
   "metadata": {},
   "source": [
    "**Note**: To re-iterate, I do NOT recommend you actually hard code the credentials in a working setting. In Python, you should save the credentials in an environmental variable and retrieve it using the `os.getenv` method thus decoupling the credentials from your code."
   ]
  },
  {
   "cell_type": "markdown",
   "metadata": {},
   "source": [
    "## Installing Python Twitter Tools Module"
   ]
  },
  {
   "cell_type": "markdown",
   "metadata": {},
   "source": [
    "We will be using the Python Twitter Tool module for interacting with the API. They usually make our lives easier than making a direct GET request since they handle other stuff under the hood for us. There are many available Twitter packages for Python. I chose this one because it was popular and seemed simple to use (although lacking good documentation). Documentation is at https://github.com/sixohsix/twitter.\n",
    "\n",
    "Install the module from the terminal or command prompt with `pip install twitter`. "
   ]
  },
  {
   "cell_type": "code",
   "execution_count": 2,
   "metadata": {},
   "outputs": [],
   "source": [
    "import twitter"
   ]
  },
  {
   "cell_type": "markdown",
   "metadata": {},
   "source": [
    "Next submit your credentials and create a variable containing your authentication."
   ]
  },
  {
   "cell_type": "code",
   "execution_count": 3,
   "metadata": {},
   "outputs": [],
   "source": [
    "auth = twitter.OAuth(oauthToken, oauthTokenSecret, consumerKey, consumerSecret)"
   ]
  },
  {
   "cell_type": "markdown",
   "metadata": {},
   "source": [
    "# Twitter Search API"
   ]
  },
  {
   "cell_type": "markdown",
   "metadata": {},
   "source": [
    "How do we search historical tweets? This is under the \"Search Tweets\" section under `Standard Search API`. The [documentation tells us](https://developer.twitter.com/en/docs/tweets/search/api-reference/get-search-tweets.html) the \"Resource URL\" is https://api.twitter.com/1.1/search/tweets.json. See the [Twitter Search overview]( https://developer.twitter.com/en/docs/tweets/search/overview) to see what the standard API is lacking compared to the **Premium** and **Enterprise** search products. \n",
    "The Standard Search API searches against a __sampling__ of recent Tweets published in the past 7 days. We will see later how to get around the 7 day restriction by invoking other constraints.\n",
    "\n",
    "**Note**: The Search API is not an exact replica of the Search feature available in Twitter mobile or web clients such as https://twitter.com/search. "
   ]
  },
  {
   "cell_type": "markdown",
   "metadata": {},
   "source": [
    "Let's start by creating a Search API handle using your authentication."
   ]
  },
  {
   "cell_type": "code",
   "execution_count": 4,
   "metadata": {},
   "outputs": [],
   "source": [
    "twtr = twitter.Twitter(auth=auth)"
   ]
  },
  {
   "cell_type": "markdown",
   "metadata": {},
   "source": [
    "## Search using a query"
   ]
  },
  {
   "cell_type": "markdown",
   "metadata": {},
   "source": [
    "Details on the search API can be found here https://developer.twitter.com/en/docs/tweets/search/api-reference/get-search-tweets.html."
   ]
  },
  {
   "cell_type": "markdown",
   "metadata": {},
   "source": [
    "Create a query term and also specify the number of tweets you want (default = 15). Use the `search.tweets` method to search for tweets. A list of possible queries (i.e. standard operators) can be found at https://developer.twitter.com/en/docs/tweets/rules-and-filtering/overview/standard-operators.html."
   ]
  },
  {
   "cell_type": "code",
   "execution_count": 6,
   "metadata": {},
   "outputs": [
    {
     "data": {
      "text/plain": [
       "{'statuses': [{'created_at': 'Mon May 20 14:09:04 +0000 2019',\n",
       "   'id': 1130475533102247936,\n",
       "   'id_str': '1130475533102247936',\n",
       "   'text': \"RT @umisr: #UMTweetCon2019 is this week! There's still time to register. Connect with other @UMich scholars in an interdisciplinary exchang…\",\n",
       "   'truncated': False,\n",
       "   'entities': {'hashtags': [{'text': 'UMTweetCon2019', 'indices': [11, 26]}],\n",
       "    'symbols': [],\n",
       "    'user_mentions': [{'screen_name': 'umisr',\n",
       "      'name': 'U-M ISR',\n",
       "      'id': 217437553,\n",
       "      'id_str': '217437553',\n",
       "      'indices': [3, 9]},\n",
       "     {'screen_name': 'UMich',\n",
       "      'name': 'University of Michigan',\n",
       "      'id': 88836132,\n",
       "      'id_str': '88836132',\n",
       "      'indices': [92, 98]}],\n",
       "    'urls': []},\n",
       "   'metadata': {'iso_language_code': 'en', 'result_type': 'recent'},\n",
       "   'source': '<a href=\"http://twitter.com\" rel=\"nofollow\">Twitter Web Client</a>',\n",
       "   'in_reply_to_status_id': None,\n",
       "   'in_reply_to_status_id_str': None,\n",
       "   'in_reply_to_user_id': None,\n",
       "   'in_reply_to_user_id_str': None,\n",
       "   'in_reply_to_screen_name': None,\n",
       "   'user': {'id': 1101484921535766529,\n",
       "    'id_str': '1101484921535766529',\n",
       "    'name': 'SEHresearch',\n",
       "    'screen_name': 'SEHresearch',\n",
       "    'location': '',\n",
       "    'description': \"The Social Environment & Health Program (SEH) at The University of Michigan's @umich Institute for Social Research @umisr #SEHresearch\",\n",
       "    'url': None,\n",
       "    'entities': {'description': {'urls': []}},\n",
       "    'protected': False,\n",
       "    'followers_count': 53,\n",
       "    'friends_count': 89,\n",
       "    'listed_count': 0,\n",
       "    'created_at': 'Fri Mar 01 14:10:44 +0000 2019',\n",
       "    'favourites_count': 50,\n",
       "    'utc_offset': None,\n",
       "    'time_zone': None,\n",
       "    'geo_enabled': False,\n",
       "    'verified': False,\n",
       "    'statuses_count': 42,\n",
       "    'lang': 'en',\n",
       "    'contributors_enabled': False,\n",
       "    'is_translator': False,\n",
       "    'is_translation_enabled': False,\n",
       "    'profile_background_color': 'F5F8FA',\n",
       "    'profile_background_image_url': None,\n",
       "    'profile_background_image_url_https': None,\n",
       "    'profile_background_tile': False,\n",
       "    'profile_image_url': 'http://pbs.twimg.com/profile_images/1103708835905265665/dKv1HjjT_normal.png',\n",
       "    'profile_image_url_https': 'https://pbs.twimg.com/profile_images/1103708835905265665/dKv1HjjT_normal.png',\n",
       "    'profile_banner_url': 'https://pbs.twimg.com/profile_banners/1101484921535766529/1551450990',\n",
       "    'profile_link_color': '1DA1F2',\n",
       "    'profile_sidebar_border_color': 'C0DEED',\n",
       "    'profile_sidebar_fill_color': 'DDEEF6',\n",
       "    'profile_text_color': '333333',\n",
       "    'profile_use_background_image': True,\n",
       "    'has_extended_profile': False,\n",
       "    'default_profile': True,\n",
       "    'default_profile_image': False,\n",
       "    'following': False,\n",
       "    'follow_request_sent': False,\n",
       "    'notifications': False,\n",
       "    'translator_type': 'none'},\n",
       "   'geo': None,\n",
       "   'coordinates': None,\n",
       "   'place': None,\n",
       "   'contributors': None,\n",
       "   'retweeted_status': {'created_at': 'Mon May 20 13:00:01 +0000 2019',\n",
       "    'id': 1130458154725269504,\n",
       "    'id_str': '1130458154725269504',\n",
       "    'text': \"#UMTweetCon2019 is this week! There's still time to register. Connect with other @UMich scholars in an interdiscipl… https://t.co/jbO6hpKr2K\",\n",
       "    'truncated': True,\n",
       "    'entities': {'hashtags': [{'text': 'UMTweetCon2019', 'indices': [0, 15]}],\n",
       "     'symbols': [],\n",
       "     'user_mentions': [{'screen_name': 'UMich',\n",
       "       'name': 'University of Michigan',\n",
       "       'id': 88836132,\n",
       "       'id_str': '88836132',\n",
       "       'indices': [81, 87]}],\n",
       "     'urls': [{'url': 'https://t.co/jbO6hpKr2K',\n",
       "       'expanded_url': 'https://twitter.com/i/web/status/1130458154725269504',\n",
       "       'display_url': 'twitter.com/i/web/status/1…',\n",
       "       'indices': [117, 140]}]},\n",
       "    'metadata': {'iso_language_code': 'en', 'result_type': 'recent'},\n",
       "    'source': '<a href=\"https://about.twitter.com/products/tweetdeck\" rel=\"nofollow\">TweetDeck</a>',\n",
       "    'in_reply_to_status_id': None,\n",
       "    'in_reply_to_status_id_str': None,\n",
       "    'in_reply_to_user_id': None,\n",
       "    'in_reply_to_user_id_str': None,\n",
       "    'in_reply_to_screen_name': None,\n",
       "    'user': {'id': 217437553,\n",
       "     'id_str': '217437553',\n",
       "     'name': 'U-M ISR',\n",
       "     'screen_name': 'umisr',\n",
       "     'location': 'Ann Arbor, MI',\n",
       "     'description': \"The University of Michigan Institute for Social Research is the world's largest academic social science survey and research organization.\",\n",
       "     'url': 'http://t.co/LNBwbUKbJ5',\n",
       "     'entities': {'url': {'urls': [{'url': 'http://t.co/LNBwbUKbJ5',\n",
       "         'expanded_url': 'http://home.isr.umich.edu',\n",
       "         'display_url': 'home.isr.umich.edu',\n",
       "         'indices': [0, 22]}]},\n",
       "      'description': {'urls': []}},\n",
       "     'protected': False,\n",
       "     'followers_count': 4323,\n",
       "     'friends_count': 1759,\n",
       "     'listed_count': 211,\n",
       "     'created_at': 'Fri Nov 19 14:45:22 +0000 2010',\n",
       "     'favourites_count': 2104,\n",
       "     'utc_offset': None,\n",
       "     'time_zone': None,\n",
       "     'geo_enabled': True,\n",
       "     'verified': False,\n",
       "     'statuses_count': 6976,\n",
       "     'lang': 'en',\n",
       "     'contributors_enabled': False,\n",
       "     'is_translator': False,\n",
       "     'is_translation_enabled': True,\n",
       "     'profile_background_color': '022330',\n",
       "     'profile_background_image_url': 'http://abs.twimg.com/images/themes/theme15/bg.png',\n",
       "     'profile_background_image_url_https': 'https://abs.twimg.com/images/themes/theme15/bg.png',\n",
       "     'profile_background_tile': False,\n",
       "     'profile_image_url': 'http://pbs.twimg.com/profile_images/439142109094760448/DyV5IJGS_normal.jpeg',\n",
       "     'profile_image_url_https': 'https://pbs.twimg.com/profile_images/439142109094760448/DyV5IJGS_normal.jpeg',\n",
       "     'profile_banner_url': 'https://pbs.twimg.com/profile_banners/217437553/1551906253',\n",
       "     'profile_link_color': '0084B4',\n",
       "     'profile_sidebar_border_color': 'A8C7F7',\n",
       "     'profile_sidebar_fill_color': 'C0DFEC',\n",
       "     'profile_text_color': '333333',\n",
       "     'profile_use_background_image': True,\n",
       "     'has_extended_profile': False,\n",
       "     'default_profile': False,\n",
       "     'default_profile_image': False,\n",
       "     'following': True,\n",
       "     'follow_request_sent': False,\n",
       "     'notifications': False,\n",
       "     'translator_type': 'none'},\n",
       "    'geo': None,\n",
       "    'coordinates': None,\n",
       "    'place': None,\n",
       "    'contributors': None,\n",
       "    'is_quote_status': False,\n",
       "    'retweet_count': 2,\n",
       "    'favorite_count': 3,\n",
       "    'favorited': False,\n",
       "    'retweeted': False,\n",
       "    'possibly_sensitive': False,\n",
       "    'lang': 'en'},\n",
       "   'is_quote_status': False,\n",
       "   'retweet_count': 2,\n",
       "   'favorite_count': 0,\n",
       "   'favorited': False,\n",
       "   'retweeted': False,\n",
       "   'lang': 'en'},\n",
       "  {'created_at': 'Mon May 20 13:00:40 +0000 2019',\n",
       "   'id': 1130458316029620224,\n",
       "   'id_str': '1130458316029620224',\n",
       "   'text': \"RT @umisr: #UMTweetCon2019 is this week! There's still time to register. Connect with other @UMich scholars in an interdisciplinary exchang…\",\n",
       "   'truncated': False,\n",
       "   'entities': {'hashtags': [{'text': 'UMTweetCon2019', 'indices': [11, 26]}],\n",
       "    'symbols': [],\n",
       "    'user_mentions': [{'screen_name': 'umisr',\n",
       "      'name': 'U-M ISR',\n",
       "      'id': 217437553,\n",
       "      'id_str': '217437553',\n",
       "      'indices': [3, 9]},\n",
       "     {'screen_name': 'UMich',\n",
       "      'name': 'University of Michigan',\n",
       "      'id': 88836132,\n",
       "      'id_str': '88836132',\n",
       "      'indices': [92, 98]}],\n",
       "    'urls': []},\n",
       "   'metadata': {'iso_language_code': 'en', 'result_type': 'recent'},\n",
       "   'source': '<a href=\"http://twitter.com\" rel=\"nofollow\">Twitter Web Client</a>',\n",
       "   'in_reply_to_status_id': None,\n",
       "   'in_reply_to_status_id_str': None,\n",
       "   'in_reply_to_user_id': None,\n",
       "   'in_reply_to_user_id_str': None,\n",
       "   'in_reply_to_screen_name': None,\n",
       "   'user': {'id': 724590320646774784,\n",
       "    'id_str': '724590320646774784',\n",
       "    'name': 'UM SRC',\n",
       "    'screen_name': 'UM_SRC',\n",
       "    'location': 'Ann Arbor, MI',\n",
       "    'description': 'Survey Research Center is an international leader in research involving the collection and analysis of sample surveys, administrative and other non-survey data.',\n",
       "    'url': 'https://t.co/Kf1kPwworP',\n",
       "    'entities': {'url': {'urls': [{'url': 'https://t.co/Kf1kPwworP',\n",
       "        'expanded_url': 'http://www.src.isr.umich.edu/',\n",
       "        'display_url': 'src.isr.umich.edu',\n",
       "        'indices': [0, 23]}]},\n",
       "     'description': {'urls': []}},\n",
       "    'protected': False,\n",
       "    'followers_count': 896,\n",
       "    'friends_count': 545,\n",
       "    'listed_count': 13,\n",
       "    'created_at': 'Mon Apr 25 13:26:09 +0000 2016',\n",
       "    'favourites_count': 470,\n",
       "    'utc_offset': None,\n",
       "    'time_zone': None,\n",
       "    'geo_enabled': False,\n",
       "    'verified': False,\n",
       "    'statuses_count': 1851,\n",
       "    'lang': 'en',\n",
       "    'contributors_enabled': False,\n",
       "    'is_translator': False,\n",
       "    'is_translation_enabled': False,\n",
       "    'profile_background_color': 'F5F8FA',\n",
       "    'profile_background_image_url': None,\n",
       "    'profile_background_image_url_https': None,\n",
       "    'profile_background_tile': False,\n",
       "    'profile_image_url': 'http://pbs.twimg.com/profile_images/724592468809924608/sE_inpdb_normal.jpg',\n",
       "    'profile_image_url_https': 'https://pbs.twimg.com/profile_images/724592468809924608/sE_inpdb_normal.jpg',\n",
       "    'profile_banner_url': 'https://pbs.twimg.com/profile_banners/724590320646774784/1461592679',\n",
       "    'profile_link_color': '1DA1F2',\n",
       "    'profile_sidebar_border_color': 'C0DEED',\n",
       "    'profile_sidebar_fill_color': 'DDEEF6',\n",
       "    'profile_text_color': '333333',\n",
       "    'profile_use_background_image': True,\n",
       "    'has_extended_profile': False,\n",
       "    'default_profile': True,\n",
       "    'default_profile_image': False,\n",
       "    'following': False,\n",
       "    'follow_request_sent': False,\n",
       "    'notifications': False,\n",
       "    'translator_type': 'none'},\n",
       "   'geo': None,\n",
       "   'coordinates': None,\n",
       "   'place': None,\n",
       "   'contributors': None,\n",
       "   'retweeted_status': {'created_at': 'Mon May 20 13:00:01 +0000 2019',\n",
       "    'id': 1130458154725269504,\n",
       "    'id_str': '1130458154725269504',\n",
       "    'text': \"#UMTweetCon2019 is this week! There's still time to register. Connect with other @UMich scholars in an interdiscipl… https://t.co/jbO6hpKr2K\",\n",
       "    'truncated': True,\n",
       "    'entities': {'hashtags': [{'text': 'UMTweetCon2019', 'indices': [0, 15]}],\n",
       "     'symbols': [],\n",
       "     'user_mentions': [{'screen_name': 'UMich',\n",
       "       'name': 'University of Michigan',\n",
       "       'id': 88836132,\n",
       "       'id_str': '88836132',\n",
       "       'indices': [81, 87]}],\n",
       "     'urls': [{'url': 'https://t.co/jbO6hpKr2K',\n",
       "       'expanded_url': 'https://twitter.com/i/web/status/1130458154725269504',\n",
       "       'display_url': 'twitter.com/i/web/status/1…',\n",
       "       'indices': [117, 140]}]},\n",
       "    'metadata': {'iso_language_code': 'en', 'result_type': 'recent'},\n",
       "    'source': '<a href=\"https://about.twitter.com/products/tweetdeck\" rel=\"nofollow\">TweetDeck</a>',\n",
       "    'in_reply_to_status_id': None,\n",
       "    'in_reply_to_status_id_str': None,\n",
       "    'in_reply_to_user_id': None,\n",
       "    'in_reply_to_user_id_str': None,\n",
       "    'in_reply_to_screen_name': None,\n",
       "    'user': {'id': 217437553,\n",
       "     'id_str': '217437553',\n",
       "     'name': 'U-M ISR',\n",
       "     'screen_name': 'umisr',\n",
       "     'location': 'Ann Arbor, MI',\n",
       "     'description': \"The University of Michigan Institute for Social Research is the world's largest academic social science survey and research organization.\",\n",
       "     'url': 'http://t.co/LNBwbUKbJ5',\n",
       "     'entities': {'url': {'urls': [{'url': 'http://t.co/LNBwbUKbJ5',\n",
       "         'expanded_url': 'http://home.isr.umich.edu',\n",
       "         'display_url': 'home.isr.umich.edu',\n",
       "         'indices': [0, 22]}]},\n",
       "      'description': {'urls': []}},\n",
       "     'protected': False,\n",
       "     'followers_count': 4323,\n",
       "     'friends_count': 1759,\n",
       "     'listed_count': 211,\n",
       "     'created_at': 'Fri Nov 19 14:45:22 +0000 2010',\n",
       "     'favourites_count': 2104,\n",
       "     'utc_offset': None,\n",
       "     'time_zone': None,\n",
       "     'geo_enabled': True,\n",
       "     'verified': False,\n",
       "     'statuses_count': 6976,\n",
       "     'lang': 'en',\n",
       "     'contributors_enabled': False,\n",
       "     'is_translator': False,\n",
       "     'is_translation_enabled': True,\n",
       "     'profile_background_color': '022330',\n",
       "     'profile_background_image_url': 'http://abs.twimg.com/images/themes/theme15/bg.png',\n",
       "     'profile_background_image_url_https': 'https://abs.twimg.com/images/themes/theme15/bg.png',\n",
       "     'profile_background_tile': False,\n",
       "     'profile_image_url': 'http://pbs.twimg.com/profile_images/439142109094760448/DyV5IJGS_normal.jpeg',\n",
       "     'profile_image_url_https': 'https://pbs.twimg.com/profile_images/439142109094760448/DyV5IJGS_normal.jpeg',\n",
       "     'profile_banner_url': 'https://pbs.twimg.com/profile_banners/217437553/1551906253',\n",
       "     'profile_link_color': '0084B4',\n",
       "     'profile_sidebar_border_color': 'A8C7F7',\n",
       "     'profile_sidebar_fill_color': 'C0DFEC',\n",
       "     'profile_text_color': '333333',\n",
       "     'profile_use_background_image': True,\n",
       "     'has_extended_profile': False,\n",
       "     'default_profile': False,\n",
       "     'default_profile_image': False,\n",
       "     'following': True,\n",
       "     'follow_request_sent': False,\n",
       "     'notifications': False,\n",
       "     'translator_type': 'none'},\n",
       "    'geo': None,\n",
       "    'coordinates': None,\n",
       "    'place': None,\n",
       "    'contributors': None,\n",
       "    'is_quote_status': False,\n",
       "    'retweet_count': 2,\n",
       "    'favorite_count': 3,\n",
       "    'favorited': False,\n",
       "    'retweeted': False,\n",
       "    'possibly_sensitive': False,\n",
       "    'lang': 'en'},\n",
       "   'is_quote_status': False,\n",
       "   'retweet_count': 2,\n",
       "   'favorite_count': 0,\n",
       "   'favorited': False,\n",
       "   'retweeted': False,\n",
       "   'lang': 'en'}],\n",
       " 'search_metadata': {'completed_in': 0.03,\n",
       "  'max_id': 1130475533102247936,\n",
       "  'max_id_str': '1130475533102247936',\n",
       "  'next_results': '?max_id=1130458316029620223&q=%23UMTweetCon2019&count=2&include_entities=1',\n",
       "  'query': '%23UMTweetCon2019',\n",
       "  'refresh_url': '?since_id=1130475533102247936&q=%23UMTweetCon2019&include_entities=1',\n",
       "  'count': 2,\n",
       "  'since_id': 0,\n",
       "  'since_id_str': '0'}}"
      ]
     },
     "execution_count": 6,
     "metadata": {},
     "output_type": "execute_result"
    }
   ],
   "source": [
    "query = '#UMTweetCon2019' # from:arc_um\n",
    "limit = 2\n",
    "results = twtr.search.tweets(q=query, count=limit)\n",
    "results"
   ]
  },
  {
   "cell_type": "markdown",
   "metadata": {},
   "source": [
    "Apparently, there is a lot of data associated with a 140 character tweet."
   ]
  },
  {
   "cell_type": "markdown",
   "metadata": {},
   "source": [
    "## User Info"
   ]
  },
  {
   "cell_type": "markdown",
   "metadata": {},
   "source": [
    "The results are stored in the `statuses` key. Here's how you would access some interesting fields about the Tweeter."
   ]
  },
  {
   "cell_type": "code",
   "execution_count": 11,
   "metadata": {},
   "outputs": [
    {
     "name": "stdout",
     "output_type": "stream",
     "text": [
      "Name: SEHresearch\n",
      "ScreenName: SEHresearch\n",
      "Description: The Social Environment & Health Program (SEH) at The University of Michigan's @umich Institute for Social Research @umisr #SEHresearch\n",
      "Location: \n",
      "# Tweets: 42\n",
      "# Following: 89\n",
      "# Followers: 53\n",
      "# Likes: 50\n",
      "# Lists: 0\n",
      "\n",
      "\n",
      "Name: UM SRC\n",
      "ScreenName: UM_SRC\n",
      "Description: Survey Research Center is an international leader in research involving the collection and analysis of sample surveys, administrative and other non-survey data.\n",
      "Location: Ann Arbor, MI\n",
      "# Tweets: 1851\n",
      "# Following: 545\n",
      "# Followers: 896\n",
      "# Likes: 470\n",
      "# Lists: 13\n",
      "\n",
      "\n"
     ]
    }
   ],
   "source": [
    "for tweet in results['statuses']:\n",
    "    print(f\"Name: {tweet['user']['name']}\")\n",
    "    print(f\"ScreenName: {tweet['user']['screen_name']}\")\n",
    "    print(f\"Description: {tweet['user']['description']}\")\n",
    "    print(f\"Location: {tweet['user']['location']}\")\n",
    "    print(f\"# Tweets: {tweet['user']['statuses_count']}\")        \n",
    "    print(f\"# Following: {tweet['user']['friends_count']}\")        \n",
    "    print(f\"# Followers: {tweet['user']['followers_count']}\")\n",
    "    print(f\"# Likes: {tweet['user']['favourites_count']}\")\n",
    "    print(f\"# Lists: {tweet['user']['listed_count']}\")\n",
    "    print('\\n')"
   ]
  },
  {
   "cell_type": "markdown",
   "metadata": {},
   "source": [
    "## Tweet Info"
   ]
  },
  {
   "cell_type": "markdown",
   "metadata": {},
   "source": [
    "Here's how you would access info about the tweet itself."
   ]
  },
  {
   "cell_type": "code",
   "execution_count": 18,
   "metadata": {},
   "outputs": [
    {
     "name": "stdout",
     "output_type": "stream",
     "text": [
      "Created at: Mon May 20 14:09:04 +0000 2019\n",
      "Text: RT @umisr: #UMTweetCon2019 is this week! There's still time to register. Connect with other @UMich scholars in an interdisciplinary exchang…\n",
      "Source: <a href=\"http://twitter.com\" rel=\"nofollow\">Twitter Web Client</a>\n",
      "Hashtag: UMTweetCon2019\n",
      "Likes: 0\n",
      "Retweets: 2\n",
      "Retweet: False\n",
      "Coordinates: None\n",
      "\n",
      "\n",
      "Created at: Mon May 20 13:00:40 +0000 2019\n",
      "Text: RT @umisr: #UMTweetCon2019 is this week! There's still time to register. Connect with other @UMich scholars in an interdisciplinary exchang…\n",
      "Source: <a href=\"http://twitter.com\" rel=\"nofollow\">Twitter Web Client</a>\n",
      "Hashtag: UMTweetCon2019\n",
      "Likes: 0\n",
      "Retweets: 2\n",
      "Retweet: False\n",
      "Coordinates: None\n",
      "\n",
      "\n"
     ]
    }
   ],
   "source": [
    "for tweet in results['statuses']:\n",
    "    print(f\"Created at: {tweet['created_at']}\")       \n",
    "    print(f\"Text: {tweet['text']}\")\n",
    "    print(f\"Source: {tweet['source']}\")\n",
    "    for hashtag in tweet['entities']['hashtags']:\n",
    "        print(f\"Hashtag: {hashtag['text']}\")\n",
    "    print(f\"Likes: {tweet['favorite_count']}\")\n",
    "    print(f\"Retweets: {tweet['retweet_count']}\")        \n",
    "    print(f\"Retweet: {tweet['retweeted']}\")\n",
    "    print(f\"Coordinates: {tweet['coordinates']}\")\n",
    "    place = tweet['place']\n",
    "    if place is not None:\n",
    "        print(f\"Place Name: {place['full_name']}\")\n",
    "        print(f\"Place Type: {place['place_type']}\")\n",
    "        print(f\"Place Bounding Box: {place['bounding_box']['coordinates']}\")\n",
    "    print('\\n')"
   ]
  },
  {
   "cell_type": "markdown",
   "metadata": {},
   "source": [
    "## Search tweets by users located within a given radius of a GPS point"
   ]
  },
  {
   "cell_type": "markdown",
   "metadata": {},
   "source": [
    "Add the `geo` argument to the `search.tweets` method."
   ]
  },
  {
   "cell_type": "code",
   "execution_count": 24,
   "metadata": {},
   "outputs": [],
   "source": [
    "query = 'food' \n",
    "limit = 5\n",
    "georesults = twtr.search.tweets(q=query, count=limit, geo=\"42.7,-83.3, 10km\")"
   ]
  },
  {
   "cell_type": "markdown",
   "metadata": {},
   "source": [
    "Let's print out the tweet along with the datetime and coordinates information."
   ]
  },
  {
   "cell_type": "code",
   "execution_count": 25,
   "metadata": {
    "scrolled": true
   },
   "outputs": [
    {
     "name": "stdout",
     "output_type": "stream",
     "text": [
      "0 I'm HERE for fast food restaurants making fun of each other lmao https://t.co/ITFgtxHzmM\n",
      "Tue May 21 14:39:41 +0000 2019 None\n",
      "\n",
      "\n",
      "1 @AidaraRose I’ll give it a few more weeks.. but yea, I think about food when I can’t eat. And when I can, I get worried about eating enough.\n",
      "Tue May 21 14:39:41 +0000 2019 None\n",
      "\n",
      "\n",
      "2 nem tudom mennyire ismerhetitek (pár éve voltak x-faktorban) ezt a formációt, de voltak itt zenélni food truck show… https://t.co/hKE7rVrzvz\n",
      "Tue May 21 14:39:41 +0000 2019 None\n",
      "\n",
      "\n",
      "3 Cajun Kitchen Chaos — Steemit https://t.co/PIvKHwYSOm\n",
      "Tue May 21 14:39:41 +0000 2019 None\n",
      "\n",
      "\n"
     ]
    }
   ],
   "source": [
    "for i, tweet in enumerate(georesults['statuses']):\n",
    "    print(i, tweet['text'])\n",
    "    print(tweet['created_at'], tweet['coordinates'])\n",
    "    print('\\n')"
   ]
  },
  {
   "cell_type": "markdown",
   "metadata": {},
   "source": [
    "Q: How do I know what methods and arguments to use?  \n",
    "A: I read the API documentation."
   ]
  },
  {
   "cell_type": "markdown",
   "metadata": {},
   "source": [
    "This URL has a list of API endpoints for Twitter https://developer.twitter.com/en/docs/api-reference-index. This is also a good jumping off point to get to the doucmentation. *Bookmark it!*"
   ]
  },
  {
   "cell_type": "markdown",
   "metadata": {},
   "source": [
    "## Get a list of Followers"
   ]
  },
  {
   "cell_type": "markdown",
   "metadata": {},
   "source": [
    "Use the `followers.list` method to get a list of followers for a given user. Returns a default of 20 results. Can set value up to 200 using the `count` argument."
   ]
  },
  {
   "cell_type": "code",
   "execution_count": 36,
   "metadata": {},
   "outputs": [
    {
     "data": {
      "text/plain": [
       "{'users': [{'id': 1097880395209687040,\n",
       "   'id_str': '1097880395209687040',\n",
       "   'name': 'Matt - On Earth',\n",
       "   'screen_name': 'notinorbit',\n",
       "   'location': '',\n",
       "   'url': None,\n",
       "   'description': 'New account, old me. InfoSec pro @umisr. Opinions are my own.',\n",
       "   'protected': False,\n",
       "   'followers_count': 13,\n",
       "   'friends_count': 46,\n",
       "   'listed_count': 0,\n",
       "   'created_at': 'Tue Feb 19 15:27:38 +0000 2019',\n",
       "   'favourites_count': 549,\n",
       "   'utc_offset': None,\n",
       "   'time_zone': None,\n",
       "   'geo_enabled': False,\n",
       "   'verified': False,\n",
       "   'statuses_count': 98,\n",
       "   'lang': 'en',\n",
       "   'contributors_enabled': False,\n",
       "   'is_translator': False,\n",
       "   'is_translation_enabled': False,\n",
       "   'profile_background_color': 'F5F8FA',\n",
       "   'profile_background_image_url': None,\n",
       "   'profile_background_image_url_https': None,\n",
       "   'profile_background_tile': False,\n",
       "   'profile_image_url': 'http://pbs.twimg.com/profile_images/1097880644527505409/srhSVc6j_normal.jpg',\n",
       "   'profile_image_url_https': 'https://pbs.twimg.com/profile_images/1097880644527505409/srhSVc6j_normal.jpg',\n",
       "   'profile_link_color': '1DA1F2',\n",
       "   'profile_sidebar_border_color': 'C0DEED',\n",
       "   'profile_sidebar_fill_color': 'DDEEF6',\n",
       "   'profile_text_color': '333333',\n",
       "   'profile_use_background_image': True,\n",
       "   'has_extended_profile': False,\n",
       "   'default_profile': True,\n",
       "   'default_profile_image': False,\n",
       "   'following': False,\n",
       "   'live_following': False,\n",
       "   'follow_request_sent': False,\n",
       "   'notifications': False,\n",
       "   'muting': False,\n",
       "   'blocking': False,\n",
       "   'blocked_by': False,\n",
       "   'translator_type': 'none'},\n",
       "  {'id': 816617629,\n",
       "   'id_str': '816617629',\n",
       "   'name': 't',\n",
       "   'screen_name': 'fountain79',\n",
       "   'location': '',\n",
       "   'url': None,\n",
       "   'description': 'Dreamer. Planner. Community Builder. Encourager. Singer. Dancer. Dog lover. Enthusiastically Mediocre Golfer.',\n",
       "   'protected': False,\n",
       "   'followers_count': 5,\n",
       "   'friends_count': 13,\n",
       "   'listed_count': 0,\n",
       "   'created_at': 'Tue Sep 11 03:40:35 +0000 2012',\n",
       "   'favourites_count': 25,\n",
       "   'utc_offset': None,\n",
       "   'time_zone': None,\n",
       "   'geo_enabled': False,\n",
       "   'verified': False,\n",
       "   'statuses_count': 39,\n",
       "   'lang': 'en',\n",
       "   'contributors_enabled': False,\n",
       "   'is_translator': False,\n",
       "   'is_translation_enabled': False,\n",
       "   'profile_background_color': 'C0DEED',\n",
       "   'profile_background_image_url': 'http://abs.twimg.com/images/themes/theme1/bg.png',\n",
       "   'profile_background_image_url_https': 'https://abs.twimg.com/images/themes/theme1/bg.png',\n",
       "   'profile_background_tile': False,\n",
       "   'profile_image_url': 'http://pbs.twimg.com/profile_images/844992547185446912/av_FzHBp_normal.jpg',\n",
       "   'profile_image_url_https': 'https://pbs.twimg.com/profile_images/844992547185446912/av_FzHBp_normal.jpg',\n",
       "   'profile_banner_url': 'https://pbs.twimg.com/profile_banners/816617629/1390714521',\n",
       "   'profile_link_color': '1DA1F2',\n",
       "   'profile_sidebar_border_color': 'C0DEED',\n",
       "   'profile_sidebar_fill_color': 'DDEEF6',\n",
       "   'profile_text_color': '333333',\n",
       "   'profile_use_background_image': True,\n",
       "   'has_extended_profile': False,\n",
       "   'default_profile': True,\n",
       "   'default_profile_image': False,\n",
       "   'following': False,\n",
       "   'live_following': False,\n",
       "   'follow_request_sent': False,\n",
       "   'notifications': False,\n",
       "   'muting': False,\n",
       "   'blocking': False,\n",
       "   'blocked_by': False,\n",
       "   'translator_type': 'none'},\n",
       "  {'id': 850714763650846720,\n",
       "   'id_str': '850714763650846720',\n",
       "   'name': 'Patricia Schuster',\n",
       "   'screen_name': 'pfschus',\n",
       "   'location': 'Ann Arbor, MI',\n",
       "   'url': None,\n",
       "   'description': \"President's Postdoctoral Fellow in Michigan NERS department. Interested in nuclear science, radiation detectors, national security, running, and pizza 🍕\",\n",
       "   'protected': False,\n",
       "   'followers_count': 265,\n",
       "   'friends_count': 342,\n",
       "   'listed_count': 6,\n",
       "   'created_at': 'Sat Apr 08 14:19:39 +0000 2017',\n",
       "   'favourites_count': 312,\n",
       "   'utc_offset': None,\n",
       "   'time_zone': None,\n",
       "   'geo_enabled': False,\n",
       "   'verified': False,\n",
       "   'statuses_count': 192,\n",
       "   'lang': 'en',\n",
       "   'contributors_enabled': False,\n",
       "   'is_translator': False,\n",
       "   'is_translation_enabled': False,\n",
       "   'profile_background_color': 'F5F8FA',\n",
       "   'profile_background_image_url': None,\n",
       "   'profile_background_image_url_https': None,\n",
       "   'profile_background_tile': False,\n",
       "   'profile_image_url': 'http://pbs.twimg.com/profile_images/850730765210054657/x8u0f0r-_normal.jpg',\n",
       "   'profile_image_url_https': 'https://pbs.twimg.com/profile_images/850730765210054657/x8u0f0r-_normal.jpg',\n",
       "   'profile_banner_url': 'https://pbs.twimg.com/profile_banners/850714763650846720/1491664994',\n",
       "   'profile_link_color': '1DA1F2',\n",
       "   'profile_sidebar_border_color': 'C0DEED',\n",
       "   'profile_sidebar_fill_color': 'DDEEF6',\n",
       "   'profile_text_color': '333333',\n",
       "   'profile_use_background_image': True,\n",
       "   'has_extended_profile': False,\n",
       "   'default_profile': True,\n",
       "   'default_profile_image': False,\n",
       "   'following': False,\n",
       "   'live_following': False,\n",
       "   'follow_request_sent': False,\n",
       "   'notifications': False,\n",
       "   'muting': False,\n",
       "   'blocking': False,\n",
       "   'blocked_by': False,\n",
       "   'translator_type': 'none'},\n",
       "  {'id': 326196937,\n",
       "   'id_str': '326196937',\n",
       "   'name': 'Jason Wilkinson',\n",
       "   'screen_name': 'willard125',\n",
       "   'location': 'Lansing',\n",
       "   'url': None,\n",
       "   'description': 'Family man, world traveler, runner, home brewer, gamer. Torn between Colorado & Michigan.',\n",
       "   'protected': False,\n",
       "   'followers_count': 437,\n",
       "   'friends_count': 889,\n",
       "   'listed_count': 24,\n",
       "   'created_at': 'Wed Jun 29 14:51:51 +0000 2011',\n",
       "   'favourites_count': 2985,\n",
       "   'utc_offset': None,\n",
       "   'time_zone': None,\n",
       "   'geo_enabled': False,\n",
       "   'verified': False,\n",
       "   'statuses_count': 4739,\n",
       "   'lang': 'en',\n",
       "   'contributors_enabled': False,\n",
       "   'is_translator': False,\n",
       "   'is_translation_enabled': False,\n",
       "   'profile_background_color': '022330',\n",
       "   'profile_background_image_url': 'http://abs.twimg.com/images/themes/theme15/bg.png',\n",
       "   'profile_background_image_url_https': 'https://abs.twimg.com/images/themes/theme15/bg.png',\n",
       "   'profile_background_tile': False,\n",
       "   'profile_image_url': 'http://pbs.twimg.com/profile_images/677671521150701568/wCvA6C8D_normal.jpg',\n",
       "   'profile_image_url_https': 'https://pbs.twimg.com/profile_images/677671521150701568/wCvA6C8D_normal.jpg',\n",
       "   'profile_banner_url': 'https://pbs.twimg.com/profile_banners/326196937/1434815040',\n",
       "   'profile_link_color': '00298B',\n",
       "   'profile_sidebar_border_color': 'A8C7F7',\n",
       "   'profile_sidebar_fill_color': 'C0DFEC',\n",
       "   'profile_text_color': '333333',\n",
       "   'profile_use_background_image': True,\n",
       "   'has_extended_profile': False,\n",
       "   'default_profile': False,\n",
       "   'default_profile_image': False,\n",
       "   'following': False,\n",
       "   'live_following': False,\n",
       "   'follow_request_sent': False,\n",
       "   'notifications': False,\n",
       "   'muting': False,\n",
       "   'blocking': False,\n",
       "   'blocked_by': False,\n",
       "   'translator_type': 'none'},\n",
       "  {'id': 1125761947222278146,\n",
       "   'id_str': '1125761947222278146',\n",
       "   'name': 'CSMissThomas',\n",
       "   'screen_name': 'CSMissThomas1',\n",
       "   'location': '',\n",
       "   'url': None,\n",
       "   'description': 'Miss Thomas 🌼 Computer Science Teacher 👩🏽\\u200d🏫 Running, Countryside & Dog Walks with my Frenchie 🐾  Currently Second in Dept, new adventure from September 💭',\n",
       "   'protected': False,\n",
       "   'followers_count': 127,\n",
       "   'friends_count': 377,\n",
       "   'listed_count': 0,\n",
       "   'created_at': 'Tue May 07 13:58:58 +0000 2019',\n",
       "   'favourites_count': 49,\n",
       "   'utc_offset': None,\n",
       "   'time_zone': None,\n",
       "   'geo_enabled': False,\n",
       "   'verified': False,\n",
       "   'statuses_count': 90,\n",
       "   'lang': 'en',\n",
       "   'contributors_enabled': False,\n",
       "   'is_translator': False,\n",
       "   'is_translation_enabled': False,\n",
       "   'profile_background_color': 'F5F8FA',\n",
       "   'profile_background_image_url': None,\n",
       "   'profile_background_image_url_https': None,\n",
       "   'profile_background_tile': False,\n",
       "   'profile_image_url': 'http://pbs.twimg.com/profile_images/1125762278383652864/Rd3trwvt_normal.jpg',\n",
       "   'profile_image_url_https': 'https://pbs.twimg.com/profile_images/1125762278383652864/Rd3trwvt_normal.jpg',\n",
       "   'profile_banner_url': 'https://pbs.twimg.com/profile_banners/1125761947222278146/1557258816',\n",
       "   'profile_link_color': '1DA1F2',\n",
       "   'profile_sidebar_border_color': 'C0DEED',\n",
       "   'profile_sidebar_fill_color': 'DDEEF6',\n",
       "   'profile_text_color': '333333',\n",
       "   'profile_use_background_image': True,\n",
       "   'has_extended_profile': True,\n",
       "   'default_profile': True,\n",
       "   'default_profile_image': False,\n",
       "   'following': False,\n",
       "   'live_following': False,\n",
       "   'follow_request_sent': False,\n",
       "   'notifications': False,\n",
       "   'muting': False,\n",
       "   'blocking': False,\n",
       "   'blocked_by': False,\n",
       "   'translator_type': 'none'},\n",
       "  {'id': 1123583712145358848,\n",
       "   'id_str': '1123583712145358848',\n",
       "   'name': 'MICDE',\n",
       "   'screen_name': 'UM_MICDE',\n",
       "   'location': 'Ann Arbor, MI',\n",
       "   'url': 'http://micde.umich.edu',\n",
       "   'description': 'MICDE is the focal point for the wide spectrum of research in computational science and engineering at the University of Michigan.',\n",
       "   'protected': False,\n",
       "   'followers_count': 33,\n",
       "   'friends_count': 112,\n",
       "   'listed_count': 0,\n",
       "   'created_at': 'Wed May 01 13:43:26 +0000 2019',\n",
       "   'favourites_count': 12,\n",
       "   'utc_offset': None,\n",
       "   'time_zone': None,\n",
       "   'geo_enabled': False,\n",
       "   'verified': False,\n",
       "   'statuses_count': 13,\n",
       "   'lang': 'en',\n",
       "   'contributors_enabled': False,\n",
       "   'is_translator': False,\n",
       "   'is_translation_enabled': False,\n",
       "   'profile_background_color': 'F5F8FA',\n",
       "   'profile_background_image_url': None,\n",
       "   'profile_background_image_url_https': None,\n",
       "   'profile_background_tile': False,\n",
       "   'profile_image_url': 'http://pbs.twimg.com/profile_images/1123584391245070336/d5jznbyS_normal.jpg',\n",
       "   'profile_image_url_https': 'https://pbs.twimg.com/profile_images/1123584391245070336/d5jznbyS_normal.jpg',\n",
       "   'profile_banner_url': 'https://pbs.twimg.com/profile_banners/1123583712145358848/1557515786',\n",
       "   'profile_link_color': '1DA1F2',\n",
       "   'profile_sidebar_border_color': 'C0DEED',\n",
       "   'profile_sidebar_fill_color': 'DDEEF6',\n",
       "   'profile_text_color': '333333',\n",
       "   'profile_use_background_image': True,\n",
       "   'has_extended_profile': False,\n",
       "   'default_profile': True,\n",
       "   'default_profile_image': False,\n",
       "   'following': False,\n",
       "   'live_following': False,\n",
       "   'follow_request_sent': False,\n",
       "   'notifications': False,\n",
       "   'muting': False,\n",
       "   'blocking': False,\n",
       "   'blocked_by': False,\n",
       "   'translator_type': 'none'},\n",
       "  {'id': 720389270335135745,\n",
       "   'id_str': '720389270335135745',\n",
       "   'name': 'The Web Conference',\n",
       "   'screen_name': 'TheWebConf',\n",
       "   'location': 'San Francisco, CA',\n",
       "   'url': 'https://www2019.thewebconf.org/',\n",
       "   'description': 'The Web Conference Series (formerly WWW) ||  #TheWebConf',\n",
       "   'protected': False,\n",
       "   'followers_count': 2419,\n",
       "   'friends_count': 181,\n",
       "   'listed_count': 54,\n",
       "   'created_at': 'Wed Apr 13 23:12:41 +0000 2016',\n",
       "   'favourites_count': 846,\n",
       "   'utc_offset': None,\n",
       "   'time_zone': None,\n",
       "   'geo_enabled': True,\n",
       "   'verified': False,\n",
       "   'statuses_count': 1223,\n",
       "   'lang': 'en',\n",
       "   'contributors_enabled': False,\n",
       "   'is_translator': False,\n",
       "   'is_translation_enabled': False,\n",
       "   'profile_background_color': '000000',\n",
       "   'profile_background_image_url': 'http://abs.twimg.com/images/themes/theme1/bg.png',\n",
       "   'profile_background_image_url_https': 'https://abs.twimg.com/images/themes/theme1/bg.png',\n",
       "   'profile_background_tile': False,\n",
       "   'profile_image_url': 'http://pbs.twimg.com/profile_images/1034427850269503488/9h1m2705_normal.jpg',\n",
       "   'profile_image_url_https': 'https://pbs.twimg.com/profile_images/1034427850269503488/9h1m2705_normal.jpg',\n",
       "   'profile_banner_url': 'https://pbs.twimg.com/profile_banners/720389270335135745/1542413353',\n",
       "   'profile_link_color': 'C63750',\n",
       "   'profile_sidebar_border_color': '000000',\n",
       "   'profile_sidebar_fill_color': '000000',\n",
       "   'profile_text_color': '000000',\n",
       "   'profile_use_background_image': False,\n",
       "   'has_extended_profile': False,\n",
       "   'default_profile': False,\n",
       "   'default_profile_image': False,\n",
       "   'following': False,\n",
       "   'live_following': False,\n",
       "   'follow_request_sent': False,\n",
       "   'notifications': False,\n",
       "   'muting': False,\n",
       "   'blocking': False,\n",
       "   'blocked_by': False,\n",
       "   'translator_type': 'none'},\n",
       "  {'id': 794480772,\n",
       "   'id_str': '794480772',\n",
       "   'name': 'umichCREES',\n",
       "   'screen_name': 'umichCREES',\n",
       "   'location': 'Ann Arbor, MI',\n",
       "   'url': 'http://www.ii.umich.edu/crees',\n",
       "   'description': 'Center for Russian, East European, and Eurasian Studies at the University of Michigan - including Copernicus Program in Polish Studies as #UMichPolish',\n",
       "   'protected': False,\n",
       "   'followers_count': 1305,\n",
       "   'friends_count': 1187,\n",
       "   'listed_count': 51,\n",
       "   'created_at': 'Fri Aug 31 19:09:34 +0000 2012',\n",
       "   'favourites_count': 612,\n",
       "   'utc_offset': None,\n",
       "   'time_zone': None,\n",
       "   'geo_enabled': False,\n",
       "   'verified': False,\n",
       "   'statuses_count': 2794,\n",
       "   'lang': 'en',\n",
       "   'contributors_enabled': False,\n",
       "   'is_translator': False,\n",
       "   'is_translation_enabled': False,\n",
       "   'profile_background_color': '022330',\n",
       "   'profile_background_image_url': 'http://abs.twimg.com/images/themes/theme15/bg.png',\n",
       "   'profile_background_image_url_https': 'https://abs.twimg.com/images/themes/theme15/bg.png',\n",
       "   'profile_background_tile': False,\n",
       "   'profile_image_url': 'http://pbs.twimg.com/profile_images/378800000026017129/2e9c219dfe217b1f536c96936280fc3d_normal.png',\n",
       "   'profile_image_url_https': 'https://pbs.twimg.com/profile_images/378800000026017129/2e9c219dfe217b1f536c96936280fc3d_normal.png',\n",
       "   'profile_banner_url': 'https://pbs.twimg.com/profile_banners/794480772/1555511781',\n",
       "   'profile_link_color': '0084B4',\n",
       "   'profile_sidebar_border_color': 'A8C7F7',\n",
       "   'profile_sidebar_fill_color': 'C0DFEC',\n",
       "   'profile_text_color': '333333',\n",
       "   'profile_use_background_image': True,\n",
       "   'has_extended_profile': False,\n",
       "   'default_profile': False,\n",
       "   'default_profile_image': False,\n",
       "   'following': False,\n",
       "   'live_following': False,\n",
       "   'follow_request_sent': False,\n",
       "   'notifications': False,\n",
       "   'muting': False,\n",
       "   'blocking': False,\n",
       "   'blocked_by': False,\n",
       "   'translator_type': 'none'},\n",
       "  {'id': 956532894834548736,\n",
       "   'id_str': '956532894834548736',\n",
       "   'name': 'occhiphaura',\n",
       "   'screen_name': 'occhiphaura',\n",
       "   'location': '',\n",
       "   'url': None,\n",
       "   'description': 'Learning coding in #javascript. Interested in #machinelearning and #ai.',\n",
       "   'protected': False,\n",
       "   'followers_count': 5495,\n",
       "   'friends_count': 5988,\n",
       "   'listed_count': 66,\n",
       "   'created_at': 'Thu Jan 25 14:23:08 +0000 2018',\n",
       "   'favourites_count': 25362,\n",
       "   'utc_offset': None,\n",
       "   'time_zone': None,\n",
       "   'geo_enabled': False,\n",
       "   'verified': False,\n",
       "   'statuses_count': 1594,\n",
       "   'lang': 'de',\n",
       "   'contributors_enabled': False,\n",
       "   'is_translator': False,\n",
       "   'is_translation_enabled': False,\n",
       "   'profile_background_color': 'F5F8FA',\n",
       "   'profile_background_image_url': None,\n",
       "   'profile_background_image_url_https': None,\n",
       "   'profile_background_tile': False,\n",
       "   'profile_image_url': 'http://pbs.twimg.com/profile_images/1010473266169958400/AX7VuVCr_normal.jpg',\n",
       "   'profile_image_url_https': 'https://pbs.twimg.com/profile_images/1010473266169958400/AX7VuVCr_normal.jpg',\n",
       "   'profile_banner_url': 'https://pbs.twimg.com/profile_banners/956532894834548736/1529750566',\n",
       "   'profile_link_color': '1DA1F2',\n",
       "   'profile_sidebar_border_color': 'C0DEED',\n",
       "   'profile_sidebar_fill_color': 'DDEEF6',\n",
       "   'profile_text_color': '333333',\n",
       "   'profile_use_background_image': True,\n",
       "   'has_extended_profile': True,\n",
       "   'default_profile': True,\n",
       "   'default_profile_image': False,\n",
       "   'following': False,\n",
       "   'live_following': False,\n",
       "   'follow_request_sent': False,\n",
       "   'notifications': False,\n",
       "   'muting': False,\n",
       "   'blocking': False,\n",
       "   'blocked_by': False,\n",
       "   'translator_type': 'none'},\n",
       "  {'id': 68134207,\n",
       "   'id_str': '68134207',\n",
       "   'name': 'Terry Miller',\n",
       "   'screen_name': 'mrmiller1972',\n",
       "   'location': 'Michigan',\n",
       "   'url': None,\n",
       "   'description': \"Catholic. husband. hockey dad. @bgsu grad. university technologist #ConfigMgr, #Intune and #PowerShell. Posts are my views, not my employer's.\",\n",
       "   'protected': False,\n",
       "   'followers_count': 559,\n",
       "   'friends_count': 1911,\n",
       "   'listed_count': 47,\n",
       "   'created_at': 'Sun Aug 23 12:28:01 +0000 2009',\n",
       "   'favourites_count': 9911,\n",
       "   'utc_offset': None,\n",
       "   'time_zone': None,\n",
       "   'geo_enabled': True,\n",
       "   'verified': False,\n",
       "   'statuses_count': 10345,\n",
       "   'lang': 'en',\n",
       "   'contributors_enabled': False,\n",
       "   'is_translator': False,\n",
       "   'is_translation_enabled': False,\n",
       "   'profile_background_color': 'C0DEED',\n",
       "   'profile_background_image_url': 'http://abs.twimg.com/images/themes/theme1/bg.png',\n",
       "   'profile_background_image_url_https': 'https://abs.twimg.com/images/themes/theme1/bg.png',\n",
       "   'profile_background_tile': False,\n",
       "   'profile_image_url': 'http://pbs.twimg.com/profile_images/731650091526721537/vrQgi13f_normal.jpg',\n",
       "   'profile_image_url_https': 'https://pbs.twimg.com/profile_images/731650091526721537/vrQgi13f_normal.jpg',\n",
       "   'profile_banner_url': 'https://pbs.twimg.com/profile_banners/68134207/1393468537',\n",
       "   'profile_link_color': '1DA1F2',\n",
       "   'profile_sidebar_border_color': 'C0DEED',\n",
       "   'profile_sidebar_fill_color': 'DDEEF6',\n",
       "   'profile_text_color': '333333',\n",
       "   'profile_use_background_image': True,\n",
       "   'has_extended_profile': False,\n",
       "   'default_profile': True,\n",
       "   'default_profile_image': False,\n",
       "   'following': False,\n",
       "   'live_following': False,\n",
       "   'follow_request_sent': False,\n",
       "   'notifications': False,\n",
       "   'muting': False,\n",
       "   'blocking': False,\n",
       "   'blocked_by': False,\n",
       "   'translator_type': 'none'},\n",
       "  {'id': 1119248164274483202,\n",
       "   'id_str': '1119248164274483202',\n",
       "   'name': 'Lions Clubs of District 11-B1',\n",
       "   'screen_name': 'lions11b1',\n",
       "   'location': '',\n",
       "   'url': None,\n",
       "   'description': \"Across the globe, Lions are rolling up their sleeves and taking action. With over 1.4 million members, we're the largest service organization in the world.\",\n",
       "   'protected': False,\n",
       "   'followers_count': 5,\n",
       "   'friends_count': 522,\n",
       "   'listed_count': 0,\n",
       "   'created_at': 'Fri Apr 19 14:35:31 +0000 2019',\n",
       "   'favourites_count': 0,\n",
       "   'utc_offset': None,\n",
       "   'time_zone': None,\n",
       "   'geo_enabled': False,\n",
       "   'verified': False,\n",
       "   'statuses_count': 0,\n",
       "   'lang': 'en',\n",
       "   'contributors_enabled': False,\n",
       "   'is_translator': False,\n",
       "   'is_translation_enabled': False,\n",
       "   'profile_background_color': 'F5F8FA',\n",
       "   'profile_background_image_url': None,\n",
       "   'profile_background_image_url_https': None,\n",
       "   'profile_background_tile': False,\n",
       "   'profile_image_url': 'http://pbs.twimg.com/profile_images/1119248356646313985/cWGV75N6_normal.jpg',\n",
       "   'profile_image_url_https': 'https://pbs.twimg.com/profile_images/1119248356646313985/cWGV75N6_normal.jpg',\n",
       "   'profile_link_color': '1DA1F2',\n",
       "   'profile_sidebar_border_color': 'C0DEED',\n",
       "   'profile_sidebar_fill_color': 'DDEEF6',\n",
       "   'profile_text_color': '333333',\n",
       "   'profile_use_background_image': True,\n",
       "   'has_extended_profile': False,\n",
       "   'default_profile': True,\n",
       "   'default_profile_image': False,\n",
       "   'following': False,\n",
       "   'live_following': False,\n",
       "   'follow_request_sent': False,\n",
       "   'notifications': False,\n",
       "   'muting': False,\n",
       "   'blocking': False,\n",
       "   'blocked_by': False,\n",
       "   'translator_type': 'none'},\n",
       "  {'id': 109561584,\n",
       "   'id_str': '109561584',\n",
       "   'name': 'U-M BEC',\n",
       "   'screen_name': 'uofmbec',\n",
       "   'location': 'Ann Arbor, MI USA',\n",
       "   'url': 'http://www.bec.umich.edu',\n",
       "   'description': 'The University of Michigan Business Engagement Center serves as a portal for companies to access student talent, research expertise, technology, and more.',\n",
       "   'protected': False,\n",
       "   'followers_count': 1339,\n",
       "   'friends_count': 1163,\n",
       "   'listed_count': 60,\n",
       "   'created_at': 'Fri Jan 29 13:38:50 +0000 2010',\n",
       "   'favourites_count': 3733,\n",
       "   'utc_offset': None,\n",
       "   'time_zone': None,\n",
       "   'geo_enabled': False,\n",
       "   'verified': False,\n",
       "   'statuses_count': 4647,\n",
       "   'lang': 'en',\n",
       "   'contributors_enabled': False,\n",
       "   'is_translator': False,\n",
       "   'is_translation_enabled': False,\n",
       "   'profile_background_color': '00274C',\n",
       "   'profile_background_image_url': 'http://abs.twimg.com/images/themes/theme1/bg.png',\n",
       "   'profile_background_image_url_https': 'https://abs.twimg.com/images/themes/theme1/bg.png',\n",
       "   'profile_background_tile': False,\n",
       "   'profile_image_url': 'http://pbs.twimg.com/profile_images/540129641520844800/FNSDsvHY_normal.png',\n",
       "   'profile_image_url_https': 'https://pbs.twimg.com/profile_images/540129641520844800/FNSDsvHY_normal.png',\n",
       "   'profile_banner_url': 'https://pbs.twimg.com/profile_banners/109561584/1558039890',\n",
       "   'profile_link_color': 'FFCB05',\n",
       "   'profile_sidebar_border_color': '000000',\n",
       "   'profile_sidebar_fill_color': 'A8CDE6',\n",
       "   'profile_text_color': '333333',\n",
       "   'profile_use_background_image': True,\n",
       "   'has_extended_profile': False,\n",
       "   'default_profile': False,\n",
       "   'default_profile_image': False,\n",
       "   'following': False,\n",
       "   'live_following': False,\n",
       "   'follow_request_sent': False,\n",
       "   'notifications': False,\n",
       "   'muting': False,\n",
       "   'blocking': False,\n",
       "   'blocked_by': False,\n",
       "   'translator_type': 'none'},\n",
       "  {'id': 1090270827486965760,\n",
       "   'id_str': '1090270827486965760',\n",
       "   'name': 'William Matthew Limited',\n",
       "   'screen_name': 'WML_Software',\n",
       "   'location': 'Sheffield, England',\n",
       "   'url': 'http://www.wmltd.co.uk',\n",
       "   'description': 'Printer & Document Management Solutions | WML is also the premium partner of #NoMachine in the UK @NXFollowers',\n",
       "   'protected': False,\n",
       "   'followers_count': 186,\n",
       "   'friends_count': 1659,\n",
       "   'listed_count': 0,\n",
       "   'created_at': 'Tue Jan 29 15:29:56 +0000 2019',\n",
       "   'favourites_count': 69,\n",
       "   'utc_offset': None,\n",
       "   'time_zone': None,\n",
       "   'geo_enabled': False,\n",
       "   'verified': False,\n",
       "   'statuses_count': 341,\n",
       "   'lang': 'en',\n",
       "   'contributors_enabled': False,\n",
       "   'is_translator': False,\n",
       "   'is_translation_enabled': False,\n",
       "   'profile_background_color': '000000',\n",
       "   'profile_background_image_url': 'http://abs.twimg.com/images/themes/theme1/bg.png',\n",
       "   'profile_background_image_url_https': 'https://abs.twimg.com/images/themes/theme1/bg.png',\n",
       "   'profile_background_tile': False,\n",
       "   'profile_image_url': 'http://pbs.twimg.com/profile_images/1091135234328985603/PhZcBV6b_normal.jpg',\n",
       "   'profile_image_url_https': 'https://pbs.twimg.com/profile_images/1091135234328985603/PhZcBV6b_normal.jpg',\n",
       "   'profile_banner_url': 'https://pbs.twimg.com/profile_banners/1090270827486965760/1548781970',\n",
       "   'profile_link_color': 'F47C00',\n",
       "   'profile_sidebar_border_color': '000000',\n",
       "   'profile_sidebar_fill_color': '000000',\n",
       "   'profile_text_color': '000000',\n",
       "   'profile_use_background_image': False,\n",
       "   'has_extended_profile': False,\n",
       "   'default_profile': False,\n",
       "   'default_profile_image': False,\n",
       "   'following': False,\n",
       "   'live_following': False,\n",
       "   'follow_request_sent': False,\n",
       "   'notifications': False,\n",
       "   'muting': False,\n",
       "   'blocking': False,\n",
       "   'blocked_by': False,\n",
       "   'translator_type': 'none'},\n",
       "  {'id': 206941162,\n",
       "   'id_str': '206941162',\n",
       "   'name': 'Poncho Flores',\n",
       "   'screen_name': 'kypo7409',\n",
       "   'location': 'MX',\n",
       "   'url': None,\n",
       "   'description': 'Work hard, Play hard',\n",
       "   'protected': False,\n",
       "   'followers_count': 39,\n",
       "   'friends_count': 99,\n",
       "   'listed_count': 1,\n",
       "   'created_at': 'Sun Oct 24 03:24:49 +0000 2010',\n",
       "   'favourites_count': 64,\n",
       "   'utc_offset': None,\n",
       "   'time_zone': None,\n",
       "   'geo_enabled': True,\n",
       "   'verified': False,\n",
       "   'statuses_count': 657,\n",
       "   'lang': 'en',\n",
       "   'contributors_enabled': False,\n",
       "   'is_translator': False,\n",
       "   'is_translation_enabled': False,\n",
       "   'profile_background_color': '131516',\n",
       "   'profile_background_image_url': 'http://abs.twimg.com/images/themes/theme14/bg.gif',\n",
       "   'profile_background_image_url_https': 'https://abs.twimg.com/images/themes/theme14/bg.gif',\n",
       "   'profile_background_tile': True,\n",
       "   'profile_image_url': 'http://pbs.twimg.com/profile_images/3579839492/d628bdf600163a0732e536f1aa2d898f_normal.jpeg',\n",
       "   'profile_image_url_https': 'https://pbs.twimg.com/profile_images/3579839492/d628bdf600163a0732e536f1aa2d898f_normal.jpeg',\n",
       "   'profile_banner_url': 'https://pbs.twimg.com/profile_banners/206941162/1447299404',\n",
       "   'profile_link_color': '009999',\n",
       "   'profile_sidebar_border_color': 'EEEEEE',\n",
       "   'profile_sidebar_fill_color': 'EFEFEF',\n",
       "   'profile_text_color': '333333',\n",
       "   'profile_use_background_image': True,\n",
       "   'has_extended_profile': False,\n",
       "   'default_profile': False,\n",
       "   'default_profile_image': False,\n",
       "   'following': False,\n",
       "   'live_following': False,\n",
       "   'follow_request_sent': False,\n",
       "   'notifications': False,\n",
       "   'muting': False,\n",
       "   'blocking': False,\n",
       "   'blocked_by': False,\n",
       "   'translator_type': 'none'},\n",
       "  {'id': 11103092,\n",
       "   'id_str': '11103092',\n",
       "   'name': 'Doug Jennewein',\n",
       "   'screen_name': 'djennewe',\n",
       "   'location': '',\n",
       "   'url': None,\n",
       "   'description': 'Amateur scientician',\n",
       "   'protected': False,\n",
       "   'followers_count': 154,\n",
       "   'friends_count': 924,\n",
       "   'listed_count': 3,\n",
       "   'created_at': 'Wed Dec 12 21:05:38 +0000 2007',\n",
       "   'favourites_count': 2087,\n",
       "   'utc_offset': None,\n",
       "   'time_zone': None,\n",
       "   'geo_enabled': False,\n",
       "   'verified': False,\n",
       "   'statuses_count': 1393,\n",
       "   'lang': 'en',\n",
       "   'contributors_enabled': False,\n",
       "   'is_translator': False,\n",
       "   'is_translation_enabled': False,\n",
       "   'profile_background_color': 'C0DEED',\n",
       "   'profile_background_image_url': 'http://abs.twimg.com/images/themes/theme1/bg.png',\n",
       "   'profile_background_image_url_https': 'https://abs.twimg.com/images/themes/theme1/bg.png',\n",
       "   'profile_background_tile': False,\n",
       "   'profile_image_url': 'http://pbs.twimg.com/profile_images/627285761054760960/l_FqTHK4_normal.jpg',\n",
       "   'profile_image_url_https': 'https://pbs.twimg.com/profile_images/627285761054760960/l_FqTHK4_normal.jpg',\n",
       "   'profile_banner_url': 'https://pbs.twimg.com/profile_banners/11103092/1469145821',\n",
       "   'profile_link_color': '1DA1F2',\n",
       "   'profile_sidebar_border_color': 'C0DEED',\n",
       "   'profile_sidebar_fill_color': 'DDEEF6',\n",
       "   'profile_text_color': '333333',\n",
       "   'profile_use_background_image': True,\n",
       "   'has_extended_profile': False,\n",
       "   'default_profile': True,\n",
       "   'default_profile_image': False,\n",
       "   'following': False,\n",
       "   'live_following': False,\n",
       "   'follow_request_sent': False,\n",
       "   'notifications': False,\n",
       "   'muting': False,\n",
       "   'blocking': False,\n",
       "   'blocked_by': False,\n",
       "   'translator_type': 'none'},\n",
       "  {'id': 1045679211283959808,\n",
       "   'id_str': '1045679211283959808',\n",
       "   'name': 'Alexander Wood, PhD',\n",
       "   'screen_name': 'woodalexandern',\n",
       "   'location': 'Ann Arbor, MI',\n",
       "   'url': None,\n",
       "   'description': 'Computational medicine. Research Fellow, BCIL @umichmedicine. PhD in Comp. Sci. from @GC_CUNY, MS in Pure Math from @DepaulU. Transgender scientist.',\n",
       "   'protected': False,\n",
       "   'followers_count': 63,\n",
       "   'friends_count': 209,\n",
       "   'listed_count': 1,\n",
       "   'created_at': 'Fri Sep 28 14:18:46 +0000 2018',\n",
       "   'favourites_count': 265,\n",
       "   'utc_offset': None,\n",
       "   'time_zone': None,\n",
       "   'geo_enabled': True,\n",
       "   'verified': False,\n",
       "   'statuses_count': 115,\n",
       "   'lang': 'en',\n",
       "   'contributors_enabled': False,\n",
       "   'is_translator': False,\n",
       "   'is_translation_enabled': False,\n",
       "   'profile_background_color': 'F5F8FA',\n",
       "   'profile_background_image_url': None,\n",
       "   'profile_background_image_url_https': None,\n",
       "   'profile_background_tile': False,\n",
       "   'profile_image_url': 'http://pbs.twimg.com/profile_images/1129437331566530562/BZyIdu6v_normal.jpg',\n",
       "   'profile_image_url_https': 'https://pbs.twimg.com/profile_images/1129437331566530562/BZyIdu6v_normal.jpg',\n",
       "   'profile_banner_url': 'https://pbs.twimg.com/profile_banners/1045679211283959808/1558113885',\n",
       "   'profile_link_color': '1DA1F2',\n",
       "   'profile_sidebar_border_color': 'C0DEED',\n",
       "   'profile_sidebar_fill_color': 'DDEEF6',\n",
       "   'profile_text_color': '333333',\n",
       "   'profile_use_background_image': True,\n",
       "   'has_extended_profile': True,\n",
       "   'default_profile': True,\n",
       "   'default_profile_image': False,\n",
       "   'following': False,\n",
       "   'live_following': False,\n",
       "   'follow_request_sent': False,\n",
       "   'notifications': False,\n",
       "   'muting': False,\n",
       "   'blocking': False,\n",
       "   'blocked_by': False,\n",
       "   'translator_type': 'none'},\n",
       "  {'id': 14846672,\n",
       "   'id_str': '14846672',\n",
       "   'name': 'Cronan McNamara',\n",
       "   'screen_name': 'cronanmcnamara',\n",
       "   'location': 'Dublin, Ireland',\n",
       "   'url': 'http://www.cremeglobal.com',\n",
       "   'description': 'Founder & CEO @cremeglobal & @PredictConf. We deliver the world class @expertmodels. Boards: @technology_irl and @GovDataIE.',\n",
       "   'protected': False,\n",
       "   'followers_count': 28954,\n",
       "   'friends_count': 31062,\n",
       "   'listed_count': 338,\n",
       "   'created_at': 'Tue May 20 15:48:46 +0000 2008',\n",
       "   'favourites_count': 1292,\n",
       "   'utc_offset': None,\n",
       "   'time_zone': None,\n",
       "   'geo_enabled': True,\n",
       "   'verified': True,\n",
       "   'statuses_count': 1461,\n",
       "   'lang': 'en',\n",
       "   'contributors_enabled': False,\n",
       "   'is_translator': False,\n",
       "   'is_translation_enabled': False,\n",
       "   'profile_background_color': 'C0DEED',\n",
       "   'profile_background_image_url': 'http://abs.twimg.com/images/themes/theme1/bg.png',\n",
       "   'profile_background_image_url_https': 'https://abs.twimg.com/images/themes/theme1/bg.png',\n",
       "   'profile_background_tile': False,\n",
       "   'profile_image_url': 'http://pbs.twimg.com/profile_images/764055303688183808/ctl5KPg__normal.jpg',\n",
       "   'profile_image_url_https': 'https://pbs.twimg.com/profile_images/764055303688183808/ctl5KPg__normal.jpg',\n",
       "   'profile_banner_url': 'https://pbs.twimg.com/profile_banners/14846672/1426105422',\n",
       "   'profile_link_color': '1DA1F2',\n",
       "   'profile_sidebar_border_color': 'C0DEED',\n",
       "   'profile_sidebar_fill_color': 'DDEEF6',\n",
       "   'profile_text_color': '333333',\n",
       "   'profile_use_background_image': True,\n",
       "   'has_extended_profile': True,\n",
       "   'default_profile': True,\n",
       "   'default_profile_image': False,\n",
       "   'following': False,\n",
       "   'live_following': False,\n",
       "   'follow_request_sent': False,\n",
       "   'notifications': False,\n",
       "   'muting': False,\n",
       "   'blocking': False,\n",
       "   'blocked_by': False,\n",
       "   'translator_type': 'none'},\n",
       "  {'id': 1009796184465182720,\n",
       "   'id_str': '1009796184465182720',\n",
       "   'name': 'Allison Roessler',\n",
       "   'screen_name': 'allisonroessler',\n",
       "   'location': 'Ann Arbor, MI',\n",
       "   'url': None,\n",
       "   'description': 'Chemistry, Theory, Mechanochem, Polymers, SciComm, ChemEd, Health, Science. Living that Grad School Life. ✌🏻Go Blue!',\n",
       "   'protected': False,\n",
       "   'followers_count': 330,\n",
       "   'friends_count': 759,\n",
       "   'listed_count': 2,\n",
       "   'created_at': 'Thu Jun 21 13:52:26 +0000 2018',\n",
       "   'favourites_count': 856,\n",
       "   'utc_offset': None,\n",
       "   'time_zone': None,\n",
       "   'geo_enabled': False,\n",
       "   'verified': False,\n",
       "   'statuses_count': 199,\n",
       "   'lang': 'en',\n",
       "   'contributors_enabled': False,\n",
       "   'is_translator': False,\n",
       "   'is_translation_enabled': False,\n",
       "   'profile_background_color': '000000',\n",
       "   'profile_background_image_url': 'http://abs.twimg.com/images/themes/theme1/bg.png',\n",
       "   'profile_background_image_url_https': 'https://abs.twimg.com/images/themes/theme1/bg.png',\n",
       "   'profile_background_tile': False,\n",
       "   'profile_image_url': 'http://pbs.twimg.com/profile_images/1126506042139877377/gShlLsRb_normal.png',\n",
       "   'profile_image_url_https': 'https://pbs.twimg.com/profile_images/1126506042139877377/gShlLsRb_normal.png',\n",
       "   'profile_banner_url': 'https://pbs.twimg.com/profile_banners/1009796184465182720/1529606313',\n",
       "   'profile_link_color': '1B95E0',\n",
       "   'profile_sidebar_border_color': '000000',\n",
       "   'profile_sidebar_fill_color': '000000',\n",
       "   'profile_text_color': '000000',\n",
       "   'profile_use_background_image': False,\n",
       "   'has_extended_profile': False,\n",
       "   'default_profile': False,\n",
       "   'default_profile_image': False,\n",
       "   'following': False,\n",
       "   'live_following': False,\n",
       "   'follow_request_sent': False,\n",
       "   'notifications': False,\n",
       "   'muting': False,\n",
       "   'blocking': False,\n",
       "   'blocked_by': False,\n",
       "   'translator_type': 'none'},\n",
       "  {'id': 380560534,\n",
       "   'id_str': '380560534',\n",
       "   'name': 'UM PSC',\n",
       "   'screen_name': 'UM_PSC',\n",
       "   'location': 'Ann Arbor, Michigan',\n",
       "   'url': 'http://www.psc.isr.umich.edu/',\n",
       "   'description': \"The University of Michigan's Population Studies Center, established in 1961, is an interdisciplinary community of scholars in population research and training.\",\n",
       "   'protected': False,\n",
       "   'followers_count': 1269,\n",
       "   'friends_count': 421,\n",
       "   'listed_count': 37,\n",
       "   'created_at': 'Mon Sep 26 21:13:27 +0000 2011',\n",
       "   'favourites_count': 189,\n",
       "   'utc_offset': None,\n",
       "   'time_zone': None,\n",
       "   'geo_enabled': False,\n",
       "   'verified': False,\n",
       "   'statuses_count': 1506,\n",
       "   'lang': 'en',\n",
       "   'contributors_enabled': False,\n",
       "   'is_translator': False,\n",
       "   'is_translation_enabled': False,\n",
       "   'profile_background_color': '022330',\n",
       "   'profile_background_image_url': 'http://abs.twimg.com/images/themes/theme15/bg.png',\n",
       "   'profile_background_image_url_https': 'https://abs.twimg.com/images/themes/theme15/bg.png',\n",
       "   'profile_background_tile': False,\n",
       "   'profile_image_url': 'http://pbs.twimg.com/profile_images/705052513058340864/NNC3iMW1_normal.jpg',\n",
       "   'profile_image_url_https': 'https://pbs.twimg.com/profile_images/705052513058340864/NNC3iMW1_normal.jpg',\n",
       "   'profile_banner_url': 'https://pbs.twimg.com/profile_banners/380560534/1456935283',\n",
       "   'profile_link_color': '0084B4',\n",
       "   'profile_sidebar_border_color': 'A8C7F7',\n",
       "   'profile_sidebar_fill_color': 'C0DFEC',\n",
       "   'profile_text_color': '333333',\n",
       "   'profile_use_background_image': True,\n",
       "   'has_extended_profile': False,\n",
       "   'default_profile': False,\n",
       "   'default_profile_image': False,\n",
       "   'following': False,\n",
       "   'live_following': False,\n",
       "   'follow_request_sent': False,\n",
       "   'notifications': False,\n",
       "   'muting': False,\n",
       "   'blocking': False,\n",
       "   'blocked_by': False,\n",
       "   'translator_type': 'none'},\n",
       "  {'id': 861682439252529152,\n",
       "   'id_str': '861682439252529152',\n",
       "   'name': 'Sasha Mushegian',\n",
       "   'screen_name': 'sash_mu',\n",
       "   'location': 'District of Columbia, USA',\n",
       "   'url': 'http://bit.ly/sasha_mushegian',\n",
       "   'description': 'Biologist & writer.',\n",
       "   'protected': False,\n",
       "   'followers_count': 241,\n",
       "   'friends_count': 733,\n",
       "   'listed_count': 5,\n",
       "   'created_at': 'Mon May 08 20:41:17 +0000 2017',\n",
       "   'favourites_count': 220,\n",
       "   'utc_offset': None,\n",
       "   'time_zone': None,\n",
       "   'geo_enabled': False,\n",
       "   'verified': False,\n",
       "   'statuses_count': 207,\n",
       "   'lang': 'en',\n",
       "   'contributors_enabled': False,\n",
       "   'is_translator': False,\n",
       "   'is_translation_enabled': False,\n",
       "   'profile_background_color': 'F5F8FA',\n",
       "   'profile_background_image_url': None,\n",
       "   'profile_background_image_url_https': None,\n",
       "   'profile_background_tile': False,\n",
       "   'profile_image_url': 'http://pbs.twimg.com/profile_images/861686125794086913/IeP4BUOo_normal.jpg',\n",
       "   'profile_image_url_https': 'https://pbs.twimg.com/profile_images/861686125794086913/IeP4BUOo_normal.jpg',\n",
       "   'profile_banner_url': 'https://pbs.twimg.com/profile_banners/861682439252529152/1525455971',\n",
       "   'profile_link_color': '1DA1F2',\n",
       "   'profile_sidebar_border_color': 'C0DEED',\n",
       "   'profile_sidebar_fill_color': 'DDEEF6',\n",
       "   'profile_text_color': '333333',\n",
       "   'profile_use_background_image': True,\n",
       "   'has_extended_profile': False,\n",
       "   'default_profile': True,\n",
       "   'default_profile_image': False,\n",
       "   'following': False,\n",
       "   'live_following': False,\n",
       "   'follow_request_sent': False,\n",
       "   'notifications': False,\n",
       "   'muting': False,\n",
       "   'blocking': False,\n",
       "   'blocked_by': False,\n",
       "   'translator_type': 'none'}],\n",
       " 'next_cursor': 1630387869732937944,\n",
       " 'next_cursor_str': '1630387869732937944',\n",
       " 'previous_cursor': 0,\n",
       " 'previous_cursor_str': '0',\n",
       " 'total_count': None}"
      ]
     },
     "execution_count": 36,
     "metadata": {},
     "output_type": "execute_result"
    }
   ],
   "source": [
    "followers = twtr.followers.list(screen_name='arc_um', skip_status=True, include_user_entities=False)\n",
    "followers"
   ]
  },
  {
   "cell_type": "markdown",
   "metadata": {},
   "source": [
    "Print out the __screen name__ and the __description__ of the followers."
   ]
  },
  {
   "cell_type": "code",
   "execution_count": 37,
   "metadata": {},
   "outputs": [
    {
     "name": "stdout",
     "output_type": "stream",
     "text": [
      "0 notinorbit New account, old me. InfoSec pro @umisr. Opinions are my own.\n",
      "1 fountain79 Dreamer. Planner. Community Builder. Encourager. Singer. Dancer. Dog lover. Enthusiastically Mediocre Golfer.\n",
      "2 pfschus President's Postdoctoral Fellow in Michigan NERS department. Interested in nuclear science, radiation detectors, national security, running, and pizza 🍕\n",
      "3 willard125 Family man, world traveler, runner, home brewer, gamer. Torn between Colorado & Michigan.\n",
      "4 CSMissThomas1 Miss Thomas 🌼 Computer Science Teacher 👩🏽‍🏫 Running, Countryside & Dog Walks with my Frenchie 🐾  Currently Second in Dept, new adventure from September 💭\n",
      "5 UM_MICDE MICDE is the focal point for the wide spectrum of research in computational science and engineering at the University of Michigan.\n",
      "6 TheWebConf The Web Conference Series (formerly WWW) ||  #TheWebConf\n",
      "7 umichCREES Center for Russian, East European, and Eurasian Studies at the University of Michigan - including Copernicus Program in Polish Studies as #UMichPolish\n",
      "8 occhiphaura Learning coding in #javascript. Interested in #machinelearning and #ai.\n",
      "9 mrmiller1972 Catholic. husband. hockey dad. @bgsu grad. university technologist #ConfigMgr, #Intune and #PowerShell. Posts are my views, not my employer's.\n",
      "10 lions11b1 Across the globe, Lions are rolling up their sleeves and taking action. With over 1.4 million members, we're the largest service organization in the world.\n",
      "11 uofmbec The University of Michigan Business Engagement Center serves as a portal for companies to access student talent, research expertise, technology, and more.\n",
      "12 WML_Software Printer & Document Management Solutions | WML is also the premium partner of #NoMachine in the UK @NXFollowers\n",
      "13 kypo7409 Work hard, Play hard\n",
      "14 djennewe Amateur scientician\n",
      "15 woodalexandern Computational medicine. Research Fellow, BCIL @umichmedicine. PhD in Comp. Sci. from @GC_CUNY, MS in Pure Math from @DepaulU. Transgender scientist.\n",
      "16 cronanmcnamara Founder & CEO @cremeglobal & @PredictConf. We deliver the world class @expertmodels. Boards: @technology_irl and @GovDataIE.\n",
      "17 allisonroessler Chemistry, Theory, Mechanochem, Polymers, SciComm, ChemEd, Health, Science. Living that Grad School Life. ✌🏻Go Blue!\n",
      "18 UM_PSC The University of Michigan's Population Studies Center, established in 1961, is an interdisciplinary community of scholars in population research and training.\n",
      "19 sash_mu Biologist & writer.\n"
     ]
    }
   ],
   "source": [
    "for i, user in enumerate(followers['users']):\n",
    "    print(i, user['screen_name'], user['description'])"
   ]
  },
  {
   "cell_type": "markdown",
   "metadata": {},
   "source": [
    "To iterate beyond 20 (or whatever you initially asked for), use the key `next_cursor` from the initial result along with the `cursor` argument. Think of it as Page 2. Repeat as necessary (see example below for complete acquisition)."
   ]
  },
  {
   "cell_type": "code",
   "execution_count": 39,
   "metadata": {},
   "outputs": [
    {
     "name": "stdout",
     "output_type": "stream",
     "text": [
      "40 GlobalDAKS Data Analytics & Knowledge Sharing - that is what Global DAKS stands for. We believe knowledge is a common good.\n",
      "41 m_cragin Exec Director, Midwest Big Data Hub\n",
      "RTs ≠ endorsement.\n",
      "42 mmdelc Profesor/Investigador @TecdeMonterrey @LaSalleMX Research Affiliate @citrisnews Fellow @UCBerkeley DigitalMethods & Datalover. Tiro punterazos @apuntesderabona\n",
      "43 _Sherwani__ \n",
      "44 BrendanNyhan @UMich @fordschool @umisrcps professor, @UpshotNYT contributor, @BrightLineWatch co-organizer. Before: @dartmouth / @CJR / Spinsanity / All the President's Spin\n",
      "45 shilpipatla \n",
      "46 sharmavansh99 Grad Student at @UMich | Worked as an R&D Engineer | Formula1 Fanatic| LewisHamilton44|  #GoBlue #UMGrad #Wolverine\n",
      "47 JohnGMcNutt I teach and do research on online social action. The views expressed  are mine alone and do not necessarily reflect the views of the University of Delaware\n",
      "48 bryant1410 🇺🇾 CS PhD student @UMich advised by @radamihalcea. Passionate about Natural Language Processing #NLProc and Machine Learning. Free Software fan.\n",
      "49 noahischnitzer \n",
      "50 mashonrallen \n",
      "51 dr_kratz Psychologist, Researcher @umichmedicine @UM_IHPI\n",
      "52 NatalieBessFitz Analyzing survey data since 2008. Exploring national (and state) parks since 2010. Opinions are my own.\n",
      "53 ECrossette An Environmental Engineering PhD Student at the University of Michigan studying Antimicrobial Resistance Genes in wastewater/manure.\n",
      "54 CASLAB_UM \n",
      "55 AlanDiez This space for rent\n",
      "56 ricepeterm Bioinformaticist and author of the EMBOSS Suite #FBPE\n",
      "57 A2Partnerships Promoting and celebrating business and community partnerships with the Ann Arbor Public Schools. Tweets by Nancy Shore.\n",
      "58 aineheneghan Music theorist & historian: Second Viennese School, Irish trad music, archival studies. @UMich faculty; @mdwwien visiting faculty. Lapsed harpist. Views my own.\n",
      "59 AkramNegin \"پيروزي ما آن چيزي نيست كه در آن كسي شكست بخورد. همه بايد با هم كامياب شويم، اگرچه برخي مژده اين كاميابي را ديرتر درك كنند.\"  ميرحسين موسوي\n"
     ]
    }
   ],
   "source": [
    "followers = twtr.followers.list(screen_name='arc_um', cursor=followers['next_cursor'], skip_status=True, include_user_entities=False, )\n",
    "for i, user in enumerate(followers['users'], start=i+1):\n",
    "    print(i, user['screen_name'], user['description'])"
   ]
  },
  {
   "cell_type": "markdown",
   "metadata": {},
   "source": [
    "## Get a list of Following"
   ]
  },
  {
   "cell_type": "markdown",
   "metadata": {},
   "source": [
    "Use the `friends.list` method to see who a given user is following. Returns a default of 20 results. Can set value up to 200 using the `count` argument."
   ]
  },
  {
   "cell_type": "code",
   "execution_count": 40,
   "metadata": {},
   "outputs": [
    {
     "name": "stdout",
     "output_type": "stream",
     "text": [
      "0 umsi The University of Michigan School of Information creates and shares knowledge so that people will use information -- with technology -- to build a better world.\n",
      "1 chihiroABO Researcher @UMich,@UM_Genetics. Engineer turned Geneticist,Data Scientist. Troublemaker/Troubleshooter. Dog lover. Fave color:Blue. Opinions of my own...\n",
      "2 EdwardTufte Statistician,visualizer,artist. Professor PoliSci, Statistics,CompSci Yale+Princeton 33 years. Founded Graphics Press, Hogpen Hill Tree Farms, ET Modern Gallery\n",
      "3 UMichLaw The world needs lawyers. And Leaders. And Victors. This is where they are made. #LeadersAndBest   • http://fb.me/umichlaw  (Retweets not endorsements.)\n",
      "4 CBSSM CBSSM focuses on clinical & research ethics, health communication & decision making, CBPR, and ELSI of genomics and much more.\n",
      "5 KayteSB Law & bioethics, Assistant Professor @umichmedicine & @CBSSM. Former @bioethicsgov. @PennLaw @UPenn_MedEthics @Middlebury alumna #researchethics (views own)\n",
      "6 WNicholsonPrice Innovation in life sciences; cook; sci-fi lover; prof @UmichLaw\n",
      "7 m_cragin Exec Director, Midwest Big Data Hub\n",
      "RTs ≠ endorsement.\n",
      "8 BrendanNyhan @UMich @fordschool @umisrcps professor, @UpshotNYT contributor, @BrightLineWatch co-organizer. Before: @dartmouth / @CJR / Spinsanity / All the President's Spin\n",
      "9 Ceph Ceph is a massively scalable, open source, distributed storage system. It is comprised of an object store, block store, and a distributed file system. ￼￼🦑\n",
      "10 SIGHPC Official feed for the ACM Special Interest Group on High Performance Computing.\n",
      "11 sciencegateways We provide NSF-funded, online & in-person resources & services to facilitate the sharing of gateway experiences, technologies, & practices at little or no cost.\n",
      "12 globus Globus is SaaS for big data management – researchers use Globus for fast, secure, reliable file transfer, sharing, and data publication.\n",
      "13 YvonneW6463 Denver based gregarious partner & customer relations professional\n",
      "14 meza_rafa Associate Professor @umichsph | Program Leader @UMRogelCancer | Math hombre and cancer epidemiologist working on disease prevention and control | Proud Mexican\n",
      "15 emilymprovost Associate Professor, Computer Science and Engineering, University of Michigan - interested in applied machine learning, speech, and human behavior\n",
      "16 JohnsenSCFPL News from Eric Johnsen’s Scientific Computing and Flow Physics Laboratory at #umich\n",
      "17 UMassDataSci Center for Data Science, College of Information and Computer Sciences, UMass Amherst\n",
      "18 UM_MiCHAMP MiCHAMP is a multi-disciplinary group of data scientists, informaticians, & clinicians coming together to transform patient care at the University of Michigan.\n",
      "19 Dropbox Keep teams flowing with Dropbox. Need support? Head to @DropboxSupport.\n"
     ]
    }
   ],
   "source": [
    "following = twtr.friends.list(screen_name='arc_um', skip_status=True, include_user_entities=False)\n",
    "for i, user in enumerate(following['users']):\n",
    "    print(i, user['screen_name'], user['description'])"
   ]
  },
  {
   "cell_type": "markdown",
   "metadata": {},
   "source": [
    "Same function argument to access \"Page 2\" of the results as in the followers example."
   ]
  },
  {
   "cell_type": "markdown",
   "metadata": {},
   "source": [
    "## Cross Reference Followers and Following"
   ]
  },
  {
   "cell_type": "markdown",
   "metadata": {},
   "source": [
    "Here is some example code to cross reference the two lists to see which relationships are reciprocated."
   ]
  },
  {
   "cell_type": "markdown",
   "metadata": {},
   "source": [
    "This function appends a list of users to an existing list."
   ]
  },
  {
   "cell_type": "code",
   "execution_count": 41,
   "metadata": {},
   "outputs": [],
   "source": [
    "def append_users(f, list_users):\n",
    "    for user in f['users']:\n",
    "        list_users.append(user['screen_name'])\n",
    "    return list_users"
   ]
  },
  {
   "cell_type": "markdown",
   "metadata": {},
   "source": [
    "Grab entire list of followers."
   ]
  },
  {
   "cell_type": "code",
   "execution_count": 42,
   "metadata": {},
   "outputs": [
    {
     "name": "stdout",
     "output_type": "stream",
     "text": [
      "There are 595 followers\n"
     ]
    }
   ],
   "source": [
    "followers = {}\n",
    "followers['next_cursor'] = -1\n",
    "lemmings = []\n",
    "while (followers['next_cursor'] != 0):\n",
    "    followers = twtr.followers.list(screen_name='arc_um', count=200, cursor=followers['next_cursor'])\n",
    "    lemmings = append_users(followers, lemmings)\n",
    "print(f'There are {len(lemmings)} followers')"
   ]
  },
  {
   "cell_type": "code",
   "execution_count": 43,
   "metadata": {},
   "outputs": [
    {
     "data": {
      "text/plain": [
       "['notinorbit',\n",
       " 'fountain79',\n",
       " 'pfschus',\n",
       " 'willard125',\n",
       " 'CSMissThomas1',\n",
       " 'UM_MICDE',\n",
       " 'TheWebConf',\n",
       " 'umichCREES',\n",
       " 'occhiphaura',\n",
       " 'mrmiller1972']"
      ]
     },
     "execution_count": 43,
     "metadata": {},
     "output_type": "execute_result"
    }
   ],
   "source": [
    "lemmings[:10]"
   ]
  },
  {
   "cell_type": "markdown",
   "metadata": {},
   "source": [
    "Grab entire list of following."
   ]
  },
  {
   "cell_type": "code",
   "execution_count": 46,
   "metadata": {
    "scrolled": true
   },
   "outputs": [
    {
     "name": "stdout",
     "output_type": "stream",
     "text": [
      "Following 186 accounts.\n"
     ]
    }
   ],
   "source": [
    "following = {}\n",
    "following['next_cursor'] = -1\n",
    "leaders = []\n",
    "while (following['next_cursor'] != 0):\n",
    "    following = twtr.friends.list(screen_name='arc_um', count=200, cursor=following['next_cursor'])\n",
    "    leaders = append_users(following, leaders)\n",
    "print(f'Following {len(leaders)} accounts.')"
   ]
  },
  {
   "cell_type": "markdown",
   "metadata": {},
   "source": [
    "Find the intersection of the two groups using a set operations."
   ]
  },
  {
   "cell_type": "code",
   "execution_count": 45,
   "metadata": {},
   "outputs": [
    {
     "name": "stdout",
     "output_type": "stream",
     "text": [
      "86 {'UMLifeSciences', 'denizbilman', 'MichEnergy', 'NYUDataScience', 'aulia_khamas', 'IllinoisIHSI', 'francescadomin8', 'astrocurry', 'ncm140', 'NUITResearch', 'dmaletta', 'umsi', 'tfinholt', 'emilymprovost', 'cjantonelli', 'BrendanNyhan', 'umichmedicine', 'urcmich', 'MrBobbyTables', 'UMichiganAI', 'BonezNQuality', 'PurdueRCAC', 'YvonneW6463', 'uwescience', 'AmberHarmon', 'UMichResearch', 'BloodFlowSim', 'KirkDBorne', 'danabrunson', 'umisr', 'peh3iii', 'uclbdi', 'sgowtham', 'SBroudeGeva', 'oliviawalch', 'DanEklund_UMich', 'jesse_caps', 'UMich_CRLT', 'SciNode', 'thanss', 'jhallum', 'JohnsenSCFPL', 'umichFFMI', 'QLogic', 'UMich', 'YottabyteLLC', 'ARCTS_UM', 'nanoHUBnews', 'PRACE_RI', 'UMengineering', 'EECSatMI', 'ljdursi', 'UMPublicAffairs', 'nswigginton', 'CASC_HPC', 'tonymarkel', 'UM_IHPI', 'umichgradschool', 'russellfunk', 'SOCRedu', 'icermsu', 'brockpalen', 'sciencegateways', 'TDataScience', 'UM_MiCHAMP', 'umichTECH', 'schelcj', 'chihiroABO', 'umichrna', 'mdst_umich', 'dankessler', 'm_cragin', 'Prof_DavidBader', 'open_michigan', 'jeefy', 'MoiraCAD', 'XSEDEscience', 'UMichiganNews', 'MWBigDataHub', 'mcarrt', 'colbrydi', 'UMCAIM', 'UMassDataSci', 'MarsdenStanford', 'ConversationUS', 'vcollab'}\n"
     ]
    }
   ],
   "source": [
    "lemmings = set(lemmings)\n",
    "leaders = set(leaders)\n",
    "relationship = leaders.intersection(lemmings)\n",
    "print(len(relationship), relationship)"
   ]
  },
  {
   "cell_type": "markdown",
   "metadata": {},
   "source": [
    "## Search for Trends by Where on Earth (WOE) ID"
   ]
  },
  {
   "cell_type": "markdown",
   "metadata": {},
   "source": [
    "Use the `trends.place` method to get a list of trending topics for a given location. The location is specified using the WOE ID.  \n",
    "A WOE ID is a unique identifier for a place on Earth. "
   ]
  },
  {
   "cell_type": "markdown",
   "metadata": {},
   "source": [
    "Here is a dictionary of places and WOE IDs."
   ]
  },
  {
   "cell_type": "code",
   "execution_count": 47,
   "metadata": {},
   "outputs": [],
   "source": [
    "woeid = {'World':1, 'USA':23424977, 'San Francisco':2487956, 'Los Angeles':2442047,\n",
    "         'Canada':23424775, 'Toronto':4118, 'Montreal':3534,\n",
    "         'United Kingdom':23424975, 'Germany':23424829}"
   ]
  },
  {
   "cell_type": "markdown",
   "metadata": {},
   "source": [
    "Searching for trends by WOE ID is analagous to searching for YouTube videos by Region Code."
   ]
  },
  {
   "cell_type": "code",
   "execution_count": 48,
   "metadata": {},
   "outputs": [],
   "source": [
    "woe_trends = twtr.trends.place(_id=woeid['Canada'])"
   ]
  },
  {
   "cell_type": "code",
   "execution_count": 49,
   "metadata": {},
   "outputs": [
    {
     "data": {
      "text/plain": [
       "[{'trends': [{'name': 'Bookie',\n",
       "    'url': 'http://twitter.com/search?q=Bookie',\n",
       "    'promoted_content': None,\n",
       "    'query': 'Bookie',\n",
       "    'tweet_volume': None},\n",
       "   {'name': '#CollisionConf',\n",
       "    'url': 'http://twitter.com/search?q=%23CollisionConf',\n",
       "    'promoted_content': None,\n",
       "    'query': '%23CollisionConf',\n",
       "    'tweet_volume': None},\n",
       "   {'name': '#Collision2019',\n",
       "    'url': 'http://twitter.com/search?q=%23Collision2019',\n",
       "    'promoted_content': None,\n",
       "    'query': '%23Collision2019',\n",
       "    'tweet_volume': None},\n",
       "   {'name': '#TuesdayThoughts',\n",
       "    'url': 'http://twitter.com/search?q=%23TuesdayThoughts',\n",
       "    'promoted_content': None,\n",
       "    'query': '%23TuesdayThoughts',\n",
       "    'tweet_volume': 55431},\n",
       "   {'name': 'Dave Bookman',\n",
       "    'url': 'http://twitter.com/search?q=%22Dave+Bookman%22',\n",
       "    'promoted_content': None,\n",
       "    'query': '%22Dave+Bookman%22',\n",
       "    'tweet_volume': None},\n",
       "   {'name': '#DowntonAbbeyFilm',\n",
       "    'url': 'http://twitter.com/search?q=%23DowntonAbbeyFilm',\n",
       "    'promoted_content': None,\n",
       "    'query': '%23DowntonAbbeyFilm',\n",
       "    'tweet_volume': None},\n",
       "   {'name': '#TuesdayMotivation',\n",
       "    'url': 'http://twitter.com/search?q=%23TuesdayMotivation',\n",
       "    'promoted_content': None,\n",
       "    'query': '%23TuesdayMotivation',\n",
       "    'tweet_volume': 31434},\n",
       "   {'name': 'Nunavut',\n",
       "    'url': 'http://twitter.com/search?q=Nunavut',\n",
       "    'promoted_content': None,\n",
       "    'query': 'Nunavut',\n",
       "    'tweet_volume': None},\n",
       "   {'name': '1 in 4 Canadians',\n",
       "    'url': 'http://twitter.com/search?q=%221+in+4+Canadians%22',\n",
       "    'promoted_content': None,\n",
       "    'query': '%221+in+4+Canadians%22',\n",
       "    'tweet_volume': None},\n",
       "   {'name': 'Naufrage',\n",
       "    'url': 'http://twitter.com/search?q=Naufrage',\n",
       "    'promoted_content': None,\n",
       "    'query': 'Naufrage',\n",
       "    'tweet_volume': None},\n",
       "   {'name': 'Nutrition North',\n",
       "    'url': 'http://twitter.com/search?q=%22Nutrition+North%22',\n",
       "    'promoted_content': None,\n",
       "    'query': '%22Nutrition+North%22',\n",
       "    'tweet_volume': None},\n",
       "   {'name': 'Barton',\n",
       "    'url': 'http://twitter.com/search?q=Barton',\n",
       "    'promoted_content': None,\n",
       "    'query': 'Barton',\n",
       "    'tweet_volume': None},\n",
       "   {'name': 'Lionel Desmond',\n",
       "    'url': 'http://twitter.com/search?q=%22Lionel+Desmond%22',\n",
       "    'promoted_content': None,\n",
       "    'query': '%22Lionel+Desmond%22',\n",
       "    'tweet_volume': None},\n",
       "   {'name': 'Bonnardel',\n",
       "    'url': 'http://twitter.com/search?q=Bonnardel',\n",
       "    'promoted_content': None,\n",
       "    'query': 'Bonnardel',\n",
       "    'tweet_volume': None},\n",
       "   {'name': 'Jody Wilson-Raybould',\n",
       "    'url': 'http://twitter.com/search?q=%22Jody+Wilson-Raybould%22',\n",
       "    'promoted_content': None,\n",
       "    'query': '%22Jody+Wilson-Raybould%22',\n",
       "    'tweet_volume': None},\n",
       "   {'name': 'Scarborough Bluffs',\n",
       "    'url': 'http://twitter.com/search?q=%22Scarborough+Bluffs%22',\n",
       "    'promoted_content': None,\n",
       "    'query': '%22Scarborough+Bluffs%22',\n",
       "    'tweet_volume': None},\n",
       "   {'name': 'Beauharnois',\n",
       "    'url': 'http://twitter.com/search?q=Beauharnois',\n",
       "    'promoted_content': None,\n",
       "    'query': 'Beauharnois',\n",
       "    'tweet_volume': None},\n",
       "   {'name': 'Céline Dion',\n",
       "    'url': 'http://twitter.com/search?q=%22C%C3%A9line+Dion%22',\n",
       "    'promoted_content': None,\n",
       "    'query': '%22C%C3%A9line+Dion%22',\n",
       "    'tweet_volume': None},\n",
       "   {'name': 'carpool karaoke',\n",
       "    'url': 'http://twitter.com/search?q=%22carpool+karaoke%22',\n",
       "    'promoted_content': None,\n",
       "    'query': '%22carpool+karaoke%22',\n",
       "    'tweet_volume': None},\n",
       "   {'name': 'Leonardo DiCaprio',\n",
       "    'url': 'http://twitter.com/search?q=%22Leonardo+DiCaprio%22',\n",
       "    'promoted_content': None,\n",
       "    'query': '%22Leonardo+DiCaprio%22',\n",
       "    'tweet_volume': None},\n",
       "   {'name': 'downton abbey',\n",
       "    'url': 'http://twitter.com/search?q=%22downton+abbey%22',\n",
       "    'promoted_content': None,\n",
       "    'query': '%22downton+abbey%22',\n",
       "    'tweet_volume': None},\n",
       "   {'name': 'Bran',\n",
       "    'url': 'http://twitter.com/search?q=Bran',\n",
       "    'promoted_content': None,\n",
       "    'query': 'Bran',\n",
       "    'tweet_volume': 583802},\n",
       "   {'name': 'High Level',\n",
       "    'url': 'http://twitter.com/search?q=%22High+Level%22',\n",
       "    'promoted_content': None,\n",
       "    'query': '%22High+Level%22',\n",
       "    'tweet_volume': 12565},\n",
       "   {'name': 'victoria day',\n",
       "    'url': 'http://twitter.com/search?q=%22victoria+day%22',\n",
       "    'promoted_content': None,\n",
       "    'query': '%22victoria+day%22',\n",
       "    'tweet_volume': None},\n",
       "   {'name': 'Niki Lauda',\n",
       "    'url': 'http://twitter.com/search?q=%22Niki+Lauda%22',\n",
       "    'promoted_content': None,\n",
       "    'query': '%22Niki+Lauda%22',\n",
       "    'tweet_volume': 267959},\n",
       "   {'name': 'Meyers Leonard',\n",
       "    'url': 'http://twitter.com/search?q=%22Meyers+Leonard%22',\n",
       "    'promoted_content': None,\n",
       "    'query': '%22Meyers+Leonard%22',\n",
       "    'tweet_volume': 33618},\n",
       "   {'name': 'FaZe',\n",
       "    'url': 'http://twitter.com/search?q=FaZe',\n",
       "    'promoted_content': None,\n",
       "    'query': 'FaZe',\n",
       "    'tweet_volume': 130049},\n",
       "   {'name': 'Tfue',\n",
       "    'url': 'http://twitter.com/search?q=Tfue',\n",
       "    'promoted_content': None,\n",
       "    'query': 'Tfue',\n",
       "    'tweet_volume': 110424},\n",
       "   {'name': 'Huawei',\n",
       "    'url': 'http://twitter.com/search?q=Huawei',\n",
       "    'promoted_content': None,\n",
       "    'query': 'Huawei',\n",
       "    'tweet_volume': 643728},\n",
       "   {'name': 'Drogon',\n",
       "    'url': 'http://twitter.com/search?q=Drogon',\n",
       "    'promoted_content': None,\n",
       "    'query': 'Drogon',\n",
       "    'tweet_volume': 357011},\n",
       "   {'name': 'Jon Snow',\n",
       "    'url': 'http://twitter.com/search?q=%22Jon+Snow%22',\n",
       "    'promoted_content': None,\n",
       "    'query': '%22Jon+Snow%22',\n",
       "    'tweet_volume': 268303},\n",
       "   {'name': 'Westeros',\n",
       "    'url': 'http://twitter.com/search?q=Westeros',\n",
       "    'promoted_content': None,\n",
       "    'query': 'Westeros',\n",
       "    'tweet_volume': 106599},\n",
       "   {'name': '#TravelTuesday',\n",
       "    'url': 'http://twitter.com/search?q=%23TravelTuesday',\n",
       "    'promoted_content': None,\n",
       "    'query': '%23TravelTuesday',\n",
       "    'tweet_volume': None},\n",
       "   {'name': '#tiptuesday',\n",
       "    'url': 'http://twitter.com/search?q=%23tiptuesday',\n",
       "    'promoted_content': None,\n",
       "    'query': '%23tiptuesday',\n",
       "    'tweet_volume': None},\n",
       "   {'name': '#Tuesdaymorning',\n",
       "    'url': 'http://twitter.com/search?q=%23Tuesdaymorning',\n",
       "    'promoted_content': None,\n",
       "    'query': '%23Tuesdaymorning',\n",
       "    'tweet_volume': None},\n",
       "   {'name': '#movethedial',\n",
       "    'url': 'http://twitter.com/search?q=%23movethedial',\n",
       "    'promoted_content': None,\n",
       "    'query': '%23movethedial',\n",
       "    'tweet_volume': None},\n",
       "   {'name': '#CitrixSynergy',\n",
       "    'url': 'http://twitter.com/search?q=%23CitrixSynergy',\n",
       "    'promoted_content': None,\n",
       "    'query': '%23CitrixSynergy',\n",
       "    'tweet_volume': None},\n",
       "   {'name': '#GameOfThrones',\n",
       "    'url': 'http://twitter.com/search?q=%23GameOfThrones',\n",
       "    'promoted_content': None,\n",
       "    'query': '%23GameOfThrones',\n",
       "    'tweet_volume': 1623979},\n",
       "   {'name': '#GameOfThonesFinale',\n",
       "    'url': 'http://twitter.com/search?q=%23GameOfThonesFinale',\n",
       "    'promoted_content': None,\n",
       "    'query': '%23GameOfThonesFinale',\n",
       "    'tweet_volume': 282691},\n",
       "   {'name': '#GOTFinale',\n",
       "    'url': 'http://twitter.com/search?q=%23GOTFinale',\n",
       "    'promoted_content': None,\n",
       "    'query': '%23GOTFinale',\n",
       "    'tweet_volume': 80383},\n",
       "   {'name': '#KawhiYouShouldStay',\n",
       "    'url': 'http://twitter.com/search?q=%23KawhiYouShouldStay',\n",
       "    'promoted_content': None,\n",
       "    'query': '%23KawhiYouShouldStay',\n",
       "    'tweet_volume': None},\n",
       "   {'name': '#TheBachelorette',\n",
       "    'url': 'http://twitter.com/search?q=%23TheBachelorette',\n",
       "    'promoted_content': None,\n",
       "    'query': '%23TheBachelorette',\n",
       "    'tweet_volume': 77400},\n",
       "   {'name': '#thefinalepisode',\n",
       "    'url': 'http://twitter.com/search?q=%23thefinalepisode',\n",
       "    'promoted_content': None,\n",
       "    'query': '%23thefinalepisode',\n",
       "    'tweet_volume': 118543},\n",
       "   {'name': '#MITB',\n",
       "    'url': 'http://twitter.com/search?q=%23MITB',\n",
       "    'promoted_content': None,\n",
       "    'query': '%23MITB',\n",
       "    'tweet_volume': 33987},\n",
       "   {'name': '#worldbeeday',\n",
       "    'url': 'http://twitter.com/search?q=%23worldbeeday',\n",
       "    'promoted_content': None,\n",
       "    'query': '%23worldbeeday',\n",
       "    'tweet_volume': 63158},\n",
       "   {'name': '#gswvspor',\n",
       "    'url': 'http://twitter.com/search?q=%23gswvspor',\n",
       "    'promoted_content': None,\n",
       "    'query': '%23gswvspor',\n",
       "    'tweet_volume': None},\n",
       "   {'name': '#MondayMotivation',\n",
       "    'url': 'http://twitter.com/search?q=%23MondayMotivation',\n",
       "    'promoted_content': None,\n",
       "    'query': '%23MondayMotivation',\n",
       "    'tweet_volume': 115101},\n",
       "   {'name': '#NationalRescueDogDay',\n",
       "    'url': 'http://twitter.com/search?q=%23NationalRescueDogDay',\n",
       "    'promoted_content': None,\n",
       "    'query': '%23NationalRescueDogDay',\n",
       "    'tweet_volume': 42947},\n",
       "   {'name': '#abfire',\n",
       "    'url': 'http://twitter.com/search?q=%23abfire',\n",
       "    'promoted_content': None,\n",
       "    'query': '%23abfire',\n",
       "    'tweet_volume': None},\n",
       "   {'name': '#GOTSeasonFinale',\n",
       "    'url': 'http://twitter.com/search?q=%23GOTSeasonFinale',\n",
       "    'promoted_content': None,\n",
       "    'query': '%23GOTSeasonFinale',\n",
       "    'tweet_volume': 19614}],\n",
       "  'as_of': '2019-05-21T15:04:49Z',\n",
       "  'created_at': '2019-05-21T14:56:20Z',\n",
       "  'locations': [{'name': 'Canada', 'woeid': 23424775}]}]"
      ]
     },
     "execution_count": 49,
     "metadata": {},
     "output_type": "execute_result"
    }
   ],
   "source": [
    "woe_trends"
   ]
  },
  {
   "cell_type": "markdown",
   "metadata": {},
   "source": [
    "Print out top 10 trending topics with number of tweets"
   ]
  },
  {
   "cell_type": "code",
   "execution_count": 50,
   "metadata": {},
   "outputs": [
    {
     "name": "stdout",
     "output_type": "stream",
     "text": [
      "Bookie None\n",
      "#CollisionConf None\n",
      "#Collision2019 None\n",
      "#TuesdayThoughts 55431\n",
      "Dave Bookman None\n",
      "#DowntonAbbeyFilm None\n",
      "#TuesdayMotivation 31434\n",
      "Nunavut None\n",
      "1 in 4 Canadians None\n",
      "Naufrage None\n"
     ]
    }
   ],
   "source": [
    "trends = woe_trends[0]['trends']\n",
    "for trend in trends[:10]:\n",
    "    print(trend['name'], trend['tweet_volume'])"
   ]
  },
  {
   "cell_type": "markdown",
   "metadata": {},
   "source": [
    "Here is a URL detailing the WOE ID's supported by Twitter.  \n",
    "https://twittercommunity.com/t/what-are-the-list-of-woeids-supported-by-twitter/8493/2.\n",
    "\n",
    "**Note**: Not all WOE IDs are supported by Twitter. Places like Ann Arbor or Michigan are not. Apparently not important enough :("
   ]
  },
  {
   "cell_type": "markdown",
   "metadata": {},
   "source": [
    "## Submit Your Own Tweet"
   ]
  },
  {
   "cell_type": "markdown",
   "metadata": {},
   "source": [
    "If you want to become an *evil trolling TwitterBot*, this is the first step towards darkness (although that would probably violate the use case you signed up for). Use the `statuses.update` method to start tweeting from Python."
   ]
  },
  {
   "cell_type": "code",
   "execution_count": null,
   "metadata": {
    "collapsed": true
   },
   "outputs": [],
   "source": [
    "#twtr.statuses.update(status=\"Python BotTweeting from the Twitter API workshop. Thanks #CSCAR, #UMTweetCon2019, @ARC_UM\")"
   ]
  },
  {
   "cell_type": "markdown",
   "metadata": {},
   "source": [
    "Tweeting parameters can be found at  \n",
    "https://developer.twitter.com/en/docs/tweets/post-and-engage/api-reference/post-statuses-update"
   ]
  },
  {
   "cell_type": "markdown",
   "metadata": {},
   "source": [
    "If you've been counting, we've touched upon 6+ API endpoints out of the 100+ endpoints available."
   ]
  },
  {
   "cell_type": "markdown",
   "metadata": {
    "collapsed": true
   },
   "source": [
    "## Rate Limits"
   ]
  },
  {
   "cell_type": "markdown",
   "metadata": {},
   "source": [
    "Usage of the Twitter API is subject to rate limits which varies based on the endpoint.  \n",
    "Details can be found here at https://developer.twitter.com/en/docs/basics/rate-limits."
   ]
  },
  {
   "cell_type": "markdown",
   "metadata": {
    "collapsed": true
   },
   "source": [
    "# Twitter Streaming API"
   ]
  },
  {
   "cell_type": "markdown",
   "metadata": {},
   "source": [
    "The streaming API is used to collect tweets from the future. The streaming API provides a **sample** of the available Tweets. Polling and rate limits do NOT apply to the streaming API.\n",
    "\n",
    "See the [overview on how to Filter Realtime Tweets](https://developer.twitter.com/en/docs/tweets/filter-realtime/overview) to see what the standard API is lacking compared to the **Enterprise** version.\n",
    "\n",
    "Details on the public data streaming API can be found here at \n",
    "https://developer.twitter.com/en/docs/tweets/filter-realtime/api-reference/post-statuses-filter"
   ]
  },
  {
   "cell_type": "markdown",
   "metadata": {},
   "source": [
    "This code block is here so we can quickly restart the kernel if the streaming API is complaining about `Exceeded connection limit for user`."
   ]
  },
  {
   "cell_type": "code",
   "execution_count": null,
   "metadata": {
    "collapsed": true
   },
   "outputs": [],
   "source": [
    "consumerKey = os.getenv('consumerkey')\n",
    "consumerSecret = os.getenv('consumersecret')\n",
    "oauthToken = os.getenv('accesstoken')\n",
    "oauthTokenSecret = os.getenv('accesstokensecret')\n",
    "\n",
    "import twitter\n",
    "auth = twitter.OAuth(oauthToken, oauthTokenSecret, consumerKey, consumerSecret)"
   ]
  },
  {
   "cell_type": "markdown",
   "metadata": {},
   "source": [
    "We need to create a new API hand for streaming using our authentication. Only one standing connection per account is allowed to a public endpoint. We'll be using the public stream API which is specified in the domain argument."
   ]
  },
  {
   "cell_type": "code",
   "execution_count": 52,
   "metadata": {},
   "outputs": [],
   "source": [
    "twtr_stream = twitter.TwitterStream(auth=auth, domain=\"stream.twitter.com\")"
   ]
  },
  {
   "cell_type": "markdown",
   "metadata": {},
   "source": [
    "**Note**: You can NOT request every future Tweet through this API. That is referred to as the Firehose. It costs a lot of `$$$$$$$$`."
   ]
  },
  {
   "cell_type": "markdown",
   "metadata": {
    "collapsed": true
   },
   "source": [
    "## Search by Filter"
   ]
  },
  {
   "cell_type": "markdown",
   "metadata": {},
   "source": [
    "Stream searches are done with a delimited list of terms. A phrase may consist of one or more terms. Term ordering is ignored and searches are not case sensitive.\n",
    " \n",
    "spaces == logical ANDs (e.g. `\"Alex twitter\" == \"alex AND twitter\"`)  \n",
    "commas == logical ORs (e.g. `\"Alex, twitter\" == \"Alex OR twitter\"`)\n",
    "\n",
    "The text of the Tweet and some entity fields are considered for matches. Specifically:\n",
    "- the `text` attribute of the Tweet\n",
    "- `expanded_url` and `display_url` for links and media\n",
    "- `text` for hashtags\n",
    "- and `screen_name` for user mentions"
   ]
  },
  {
   "cell_type": "markdown",
   "metadata": {},
   "source": [
    "Use the `statuses.filter` method to create a streaming query."
   ]
  },
  {
   "cell_type": "code",
   "execution_count": 76,
   "metadata": {},
   "outputs": [],
   "source": [
    "iterator = twtr_stream.statuses.filter(track=\"tennis, michigan\")"
   ]
  },
  {
   "cell_type": "markdown",
   "metadata": {},
   "source": [
    "Use a `for` loop to get the generator to yield future results as they come in. I'm printing the fields (where applicable) that are being searched except time. The `break` command is to prevent it going on indefinitely.\n",
    "\n",
    "**Tip**: Use the stop button in the toolbar to prevent it from going to 100."
   ]
  },
  {
   "cell_type": "code",
   "execution_count": 77,
   "metadata": {
    "scrolled": true
   },
   "outputs": [
    {
     "name": "stdout",
     "output_type": "stream",
     "text": [
      "0 Time: Tue May 21 18:00:55 +0000 2019\n",
      "Tweet: Sale of Dan Gilbert's Greektown Casino to Penn National approved by Michigan gaming regulators, transfer will happe… https://t.co/BI8XpoEJ3d\n",
      "Tweet URL: https://twitter.com/howardstutz/status/1130896266492178432\n",
      "\n",
      "\n",
      "1 Time: Tue May 21 18:00:55 +0000 2019\n",
      "Tweet: RT @br_CBB: Heat assistant and former Wolverine Juwan Howard is expected to be named Michigan head coach, per @miaheatbeat https://t.co/yfw…\n",
      "Tweet URL: https://twitter.com/PrinceOFtheFAM/status/1130896267070939137\n",
      "\n",
      "\n",
      "2 Time: Tue May 21 18:00:56 +0000 2019\n",
      "Tweet: RT @Madison_Keys: Venus &amp; Serena Williams were both huge inspirations for me to play tennis. What they’ve done on court is incredible. What…\n",
      "Tweet URL: https://twitter.com/mootlik/status/1130896268220391424\n",
      "\n",
      "\n",
      "3 Time: Tue May 21 18:00:57 +0000 2019\n",
      "Tweet: RT @br_CBB: Heat assistant and former Wolverine Juwan Howard is expected to be named Michigan head coach, per @miaheatbeat https://t.co/yfw…\n",
      "Tweet URL: https://twitter.com/Geno_____/status/1130896272422973440\n",
      "\n",
      "\n",
      "4 Time: Tue May 21 18:01:00 +0000 2019\n",
      "Tweet: Juwan Howard isn’t still playing?!\n",
      "Tweet URL: https://twitter.com/MrCoopCooper/status/1130896285094043651\n",
      "\n",
      "\n"
     ]
    }
   ],
   "source": [
    "for i, tweet in enumerate(iterator):   \n",
    "    print(f\"{i} Time: {tweet['created_at']}\")\n",
    "    print(f\"Tweet: {tweet['text']}\")\n",
    "    print(f\"Tweet URL: https://twitter.com/{tweet['user']['screen_name']}/status/{tweet['id']}\")\n",
    "    if len(tweet['entities']['hashtags']) > 0:\n",
    "        print(f\"Hashtags: {tweet['entities']['hashtags'][0]['text']}\")\n",
    "    print(\"\\n\")\n",
    "    if i > 3:\n",
    "        break"
   ]
  },
  {
   "cell_type": "markdown",
   "metadata": {},
   "source": [
    "More details on the `tracks` request parameter can be found at https://developer.twitter.com/en/docs/tweets/filter-realtime/guides/basic-stream-parameters."
   ]
  },
  {
   "cell_type": "markdown",
   "metadata": {
    "collapsed": true
   },
   "source": [
    "## Search by Location"
   ]
  },
  {
   "cell_type": "markdown",
   "metadata": {},
   "source": [
    "Use the `locations` argument to specify a bounding box to search. The API will return all tweets whose location intersects the bounding box. This will return all tweets intersecting the New York City bounding box. "
   ]
  },
  {
   "cell_type": "code",
   "execution_count": 79,
   "metadata": {},
   "outputs": [
    {
     "name": "stdout",
     "output_type": "stream",
     "text": [
      "Time: Tue May 21 18:01:45 +0000 2019\n",
      "Tweet: Lol a mi me pasa alrevessss\n",
      "Coordinates: None\n",
      "BoundingBox: [[[-74.026675, 40.683935], [-74.026675, 40.877483], [-73.910408, 40.877483], [-73.910408, 40.683935]]]\n",
      "Name: Manhattan, NY\n",
      "Type: city\n",
      "Place ID: 01a9a39529b27f36\n",
      "\n",
      "Time: Tue May 21 18:01:46 +0000 2019\n",
      "Tweet: @BolandSays White guys w dreads who use natural deodorant once a month and can’t find the 1-3 or 2-4 even if you on… https://t.co/N2KJLrFgBH\n",
      "Coordinates: None\n",
      "BoundingBox: [[[-74.026675, 40.683935], [-74.026675, 40.877483], [-73.910408, 40.877483], [-73.910408, 40.683935]]]\n",
      "Name: Manhattan, NY\n",
      "Type: city\n",
      "Place ID: 01a9a39529b27f36\n",
      "\n",
      "Time: Tue May 21 18:01:46 +0000 2019\n",
      "Tweet: @cfromhertz Not a bad time to look at a beaten up Lithium name $ALB\n",
      "Coordinates: None\n",
      "BoundingBox: [[[-73.962582, 40.541722], [-73.962582, 40.800037], [-73.699793, 40.800037], [-73.699793, 40.541722]]]\n",
      "Name: Queens, NY\n",
      "Type: city\n",
      "Place ID: 00c39537733fa112\n",
      "\n",
      "Time: Tue May 21 18:01:49 +0000 2019\n",
      "Tweet: The devil is out here chewing people up and spitting people out!\n",
      "Coordinates: None\n",
      "BoundingBox: [[[-73.933612, 40.785365], [-73.933612, 40.91533], [-73.765271, 40.91533], [-73.765271, 40.785365]]]\n",
      "Name: Bronx, NY\n",
      "Type: city\n",
      "Place ID: 002e24c6736f069d\n",
      "\n",
      "Time: Tue May 21 18:01:52 +0000 2019\n",
      "Tweet: @IAmTheRealSekou @anuh_me Dwl...yes...I said it\n",
      "Coordinates: None\n",
      "BoundingBox: [[[-73.933612, 40.785365], [-73.933612, 40.91533], [-73.765271, 40.91533], [-73.765271, 40.785365]]]\n",
      "Name: Bronx, NY\n",
      "Type: city\n",
      "Place ID: 002e24c6736f069d\n",
      "\n"
     ]
    }
   ],
   "source": [
    "iterator = twtr_stream.statuses.filter(locations=\"-74,40,-73,41\")\n",
    "for i, tweet in enumerate(iterator, start=1):\n",
    "    print('Time: {}'.format(tweet['created_at']))\n",
    "    print('Tweet: {}'.format(tweet['text']))\n",
    "    print('Coordinates: {}'.format(tweet['coordinates']))\n",
    "    if tweet['place'] is not None:\n",
    "        print('BoundingBox: {}'.format(tweet['place']['bounding_box']['coordinates']))\n",
    "        print('Name: {}'.format(tweet['place']['full_name']))\n",
    "        print('Type: {}'.format(tweet['place']['place_type']))\n",
    "        print('Place ID: {}\\n'.format(tweet['place']['id']))\n",
    "    else:\n",
    "        print('')\n",
    "    if i > 4:\n",
    "        break"
   ]
  },
  {
   "cell_type": "markdown",
   "metadata": {},
   "source": [
    "Bounding boxes act like OR operators. They do not filter `track` parameters. So the following will either return football OR tweets from NYC. "
   ]
  },
  {
   "cell_type": "code",
   "execution_count": 80,
   "metadata": {},
   "outputs": [
    {
     "name": "stdout",
     "output_type": "stream",
     "text": [
      "Time: Tue May 21 18:02:51 +0000 2019\n",
      "Tweet: @davidtabrown Big Lebowski\n",
      "Coordinates: None\n",
      "BoundingBox: [[[-79.76259, 40.477383], [-79.76259, 45.015851], [-71.777492, 45.015851], [-71.777492, 40.477383]]]\n",
      "Name: New York, USA\n",
      "Type: admin\n",
      "ID: 94965b2c45386f87\n",
      "\n",
      "Time: Tue May 21 18:02:51 +0000 2019\n",
      "Tweet: RT @City_Chief: Javier Tebas (La Liga President): \n",
      "\n",
      "“Clubs should get their income out of revenue they generate. The problem with City and…\n",
      "Coordinates: None\n",
      "\n",
      "Time: Tue May 21 18:02:51 +0000 2019\n",
      "Tweet: RT @Guillaumemp: 🚨En exclusivité pour @Eurosport_FR, j’ai évoqué avec Roberto Mancini l’arrivée de Sylvinho à l’@OL. Et il est convaincu qu…\n",
      "Coordinates: None\n",
      "\n",
      "Time: Tue May 21 18:02:51 +0000 2019\n",
      "Tweet: @piersmorgan @UEFA It comes to something when @piersmorgan is correct. As a football fan it is wrong any player is… https://t.co/dZz8pLID9S\n",
      "Coordinates: None\n",
      "\n",
      "Time: Tue May 21 18:02:51 +0000 2019\n",
      "Tweet: RT @LidodaduvhaFans: Throwback Tuesday, we choosing @Masandawana the 🇿🇦 football bosses.\n",
      "\n",
      "They once thrashed over coached FC 6 nill.\n",
      "\n",
      "#Tues…\n",
      "Coordinates: None\n",
      "\n"
     ]
    }
   ],
   "source": [
    "iterator = twtr_stream.statuses.filter(track=\"football\", locations=\"-74,40,-73,41\")\n",
    "for i, tweet in enumerate(iterator, start=1):\n",
    "    print('Time: {}'.format(tweet['created_at']))\n",
    "    print('Tweet: {}'.format(tweet['text']))\n",
    "    print('Coordinates: {}'.format(tweet['coordinates']))\n",
    "    if tweet['place'] is not None:\n",
    "        print('BoundingBox: {}'.format(tweet['place']['bounding_box']['coordinates']))\n",
    "        print('Name: {}'.format(tweet['place']['full_name']))\n",
    "        print('Type: {}'.format(tweet['place']['place_type']))\n",
    "        print('ID: {}\\n'.format(tweet['place']['id']))\n",
    "    else:\n",
    "        print('')\n",
    "    if i > 4:\n",
    "        break"
   ]
  },
  {
   "cell_type": "markdown",
   "metadata": {},
   "source": [
    "More details on the `locations` request parameter can be found at https://developer.twitter.com/en/docs/tweets/filter-realtime/guides/basic-stream-parameters."
   ]
  },
  {
   "cell_type": "markdown",
   "metadata": {},
   "source": [
    "## Twitter API Status"
   ]
  },
  {
   "cell_type": "markdown",
   "metadata": {},
   "source": [
    "Status of the API can be found at https://api.twitterstat.us/"
   ]
  },
  {
   "cell_type": "markdown",
   "metadata": {
    "collapsed": true
   },
   "source": [
    "## Saving the Tweets"
   ]
  },
  {
   "cell_type": "markdown",
   "metadata": {},
   "source": [
    "Once you have the tweets in hand, you can save it in JSON format to a:\n",
    "1. text file\n",
    "2. NoSQL database (MongoDB seems to be a popular choice)\n",
    "\n",
    "We won't cover saving in detail here because it is non-trivial to setup a MongoDB database (and requires admin privileges) within this workshop."
   ]
  },
  {
   "cell_type": "markdown",
   "metadata": {
    "collapsed": true
   },
   "source": [
    "### Text File"
   ]
  },
  {
   "cell_type": "markdown",
   "metadata": {},
   "source": [
    "To save a single tweet to a text file, use the `json` module with the `dumps` method with standard Python file I/O."
   ]
  },
  {
   "cell_type": "code",
   "execution_count": null,
   "metadata": {
    "collapsed": true
   },
   "outputs": [],
   "source": [
    "import json\n",
    "with open('tweet.txt','w') as fout:\n",
    "    fout.write(json.dumps(tweet, indent=2))"
   ]
  },
  {
   "cell_type": "markdown",
   "metadata": {
    "collapsed": true
   },
   "source": [
    "### MongoDB"
   ]
  },
  {
   "cell_type": "markdown",
   "metadata": {},
   "source": [
    "Below is a simple example of how to add a tweet to a MongoDB.\n",
    "\n",
    "**Tip**: Make sure MongoDB is running before running this snippet."
   ]
  },
  {
   "cell_type": "code",
   "execution_count": null,
   "metadata": {
    "collapsed": true
   },
   "outputs": [],
   "source": [
    "import pymongo\n",
    "client = pymongo.MongoClient(\"localhost\", 27017)\n",
    "db = client.example\n",
    "db.my_collection"
   ]
  },
  {
   "cell_type": "markdown",
   "metadata": {},
   "source": [
    "Insert a single tweet"
   ]
  },
  {
   "cell_type": "code",
   "execution_count": null,
   "metadata": {
    "collapsed": true
   },
   "outputs": [],
   "source": [
    "db.my_collection.insert_one(tweet).inserted_id"
   ]
  },
  {
   "cell_type": "markdown",
   "metadata": {},
   "source": [
    "Lookup the single tweet"
   ]
  },
  {
   "cell_type": "code",
   "execution_count": null,
   "metadata": {
    "collapsed": true
   },
   "outputs": [],
   "source": [
    "db.my_collection.find_one()"
   ]
  },
  {
   "cell_type": "markdown",
   "metadata": {
    "collapsed": true
   },
   "source": [
    "**Note**: There are additional steps besides the code shown to get MongoDB working. "
   ]
  },
  {
   "cell_type": "markdown",
   "metadata": {},
   "source": [
    "## Last Note: Library of Congress Twitter Archive"
   ]
  },
  {
   "cell_type": "markdown",
   "metadata": {},
   "source": [
    "The Library of Congress and Twitter have teamed up back in April 2010 to archive every single public tweet. Here's an journal article on the subject matter. http://firstmonday.org/article/view/5619/4653#p4. Initially, that was the plan. The Library of Congress had a change of heart in Dec 2017 and will only acquire very selective tweets from here on. Regardless, the archive has not been made public yet. "
   ]
  },
  {
   "cell_type": "code",
   "execution_count": null,
   "metadata": {},
   "outputs": [],
   "source": []
  }
 ],
 "metadata": {
  "anaconda-cloud": {},
  "kernelspec": {
   "display_name": "Python 3",
   "language": "python",
   "name": "python3"
  },
  "language_info": {
   "codemirror_mode": {
    "name": "ipython",
    "version": 3
   },
   "file_extension": ".py",
   "mimetype": "text/x-python",
   "name": "python",
   "nbconvert_exporter": "python",
   "pygments_lexer": "ipython3",
   "version": "3.6.6"
  }
 },
 "nbformat": 4,
 "nbformat_minor": 1
}
