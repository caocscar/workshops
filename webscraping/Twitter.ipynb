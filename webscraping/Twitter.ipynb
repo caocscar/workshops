{
 "cells": [
  {
   "cell_type": "markdown",
   "metadata": {},
   "source": [
    "# Twitter API"
   ]
  },
  {
   "cell_type": "markdown",
   "metadata": {},
   "source": [
    "You need to have a Twitter Developer Account before proceeding. If you don't have one, [check out these instructions](https://github.com/caocscar/twitter-create-developer-account)."
   ]
  },
  {
   "cell_type": "markdown",
   "metadata": {},
   "source": [
    "## Getting Twitter Credentials"
   ]
  },
  {
   "cell_type": "markdown",
   "metadata": {},
   "source": [
    "Twitter implements OAuth 1.0 as its authentication protocol. You'll need 4 credentials in order to use OAuth and make requests to Twitter's API.\n",
    "\n",
    "The four credentials (i.e. API key, API secret key, Access token and Access token secret) can be obtained on the Twitter developer site to access the API. The steps are as follows:\n",
    "\n",
    "- Go to https://developer.twitter.com/en/apps and create an application. \n",
    "- Enter a name/description/website for your application. You can use https://www.google.com for the website. You also need to describe how the app will be used. Agree to the Developer Terms and create your Twitter application.\n",
    "- Go to the *Keys and tokens* tab. You should be able to see your **Consumer Key** and **Consumer Secret**.\n",
    "- At the bottom of the page, click the button to create your own **Access Token** and **Access Token Secret**.\n",
    "\n",
    "**Note**: You can always revoke/regenerate your credentials or delete the application."
   ]
  },
  {
   "cell_type": "markdown",
   "metadata": {},
   "source": [
    "#### Now you are ready to start using the Twitter API."
   ]
  },
  {
   "cell_type": "markdown",
   "metadata": {},
   "source": [
    "# Postman Software for Non-Programmers"
   ]
  },
  {
   "cell_type": "markdown",
   "metadata": {},
   "source": [
    "Here is the [Postman homepage](https://www.getpostman.com/).  \n",
    "1. Download the software (Mac, Windows or Linux) https://www.getpostman.com/downloads/. I'll be using v7.1.1 for the workshop. \n",
    "2. Run the executable to install the software.\n",
    "3. Launch Postman\n",
    "4. (optional) You can sign in (using Google or creating a Postman account)"
   ]
  },
  {
   "cell_type": "markdown",
   "metadata": {},
   "source": [
    "Here is a blog on how to use Postman with Twitter. https://www.dataneb.com/blog/how-to-make-calls-to-twitter-apis-using-postman-client"
   ]
  },
  {
   "cell_type": "markdown",
   "metadata": {},
   "source": [
    "### Making a Twitter API Request\n",
    "1. Open a new GET request tab (if one is not already open)\n",
    "\n",
    "### Setting up Twitter Credentials\n",
    "\n",
    "2. Click on \"Authorization\" tab. Select \"type\" as `OAuth 1.0` and \"add authorization data to\" `Request Headers`.\n",
    "3. On the \"Authorization\" tab, you should see a spot to enter your four Twitter credentials we've previously acquired.\n",
    "4. Switch back to the \"Params\" tab.\n",
    "\n",
    "### Making GET Request\n",
    "5. Enter request URL with  https://api.twitter.com/1.1/account/verify_credentials.json?skip_status=true. This API returns information about your Twitter account. Hit \"Send\".\n",
    "6. You should see it return a response with information in JSON format.\n",
    "7. You can save the JSON response via the \"Download\" button.\n",
    "8. That's it. You've just used one endpoint in the Twitter API.\n",
    "\n",
    "Q: How did I know what URL to use to make the request above?  \n",
    "A: I read the API documentation."
   ]
  },
  {
   "cell_type": "markdown",
   "metadata": {},
   "source": [
    "The Twitter API reference index can be found at https://developer.twitter.com/en/docs/api-reference-index. This has a list of all APIs available to developers. We can look up our endpoint under \"Manage account settings and profile\" as `GET account/verify_credentials`.\n",
    "\n",
    "The documentation tells us the \"Resource URL\" https://api.twitter.com/1.1/account/verify_credentials.json as well as the parameters we have to pass to it (required or optional). It also provides an example request and example response."
   ]
  },
  {
   "cell_type": "markdown",
   "metadata": {},
   "source": [
    "### Example 2\n",
    "Let's move onto another example. How do we get a list of who is following us? This would be under the \"Follow, search, and get users\" section under `GET followers/list`. The [documentation tells us](https://developer.twitter.com/en/docs/accounts-and-users/follow-search-get-users/api-reference/get-followers-list) the \"Resource URL\" is \n",
    "https://api.twitter.com/1.1/followers/list.json. There are no required parameters. We get our own account by default but we can specify specific accounts by `screen_name` or `user_id`."
   ]
  },
  {
   "cell_type": "markdown",
   "metadata": {},
   "source": [
    "**Note**: For some reason beyond me, I can't get the API to search for tweets working with Postman. Its giving me an authentication error I can't resolve. We can get around this issue using a programming language like Python. There might be other APIs among the 100+ that has similar issues. "
   ]
  },
  {
   "cell_type": "markdown",
   "metadata": {},
   "source": [
    "# Python for Programmers"
   ]
  },
  {
   "cell_type": "markdown",
   "metadata": {},
   "source": [
    "We setup our credentials first. Here I am using environmental variables to store my credentials. You can hardcode it in for the workshop."
   ]
  },
  {
   "cell_type": "code",
   "execution_count": 1,
   "metadata": {},
   "outputs": [],
   "source": [
    "import os\n",
    "consumerKey = os.getenv('consumerkey')\n",
    "consumerSecret = os.getenv('consumersecret')\n",
    "oauthToken = os.getenv('accesstoken')\n",
    "oauthTokenSecret = os.getenv('accesstokensecret')"
   ]
  },
  {
   "cell_type": "markdown",
   "metadata": {},
   "source": [
    "**Note**: To re-iterate, I do NOT recommend you actually hard code the credentials in a working setting. In Python, you should save the credentials in an environmental variable and retrieve it using the `os.getenv` method thus decoupling the credentials from your code."
   ]
  },
  {
   "cell_type": "markdown",
   "metadata": {},
   "source": [
    "We can make `GET/POST` requests directly to Twitter. We just need to use the `requests_oauthlib` library for the authentication part and the `requests` library for the request part. Below is an example of the same request we made using Postman.\n",
    "\n",
    "Install the module from the terminal or command prompt with `pip install requests_oauthlib`."
   ]
  },
  {
   "cell_type": "code",
   "execution_count": 2,
   "metadata": {},
   "outputs": [
    {
     "name": "stdout",
     "output_type": "stream",
     "text": [
      "{'id': 393706761, 'id_str': '393706761', 'name': 'ARCatUM', 'screen_name': 'ARC_UM', 'location': 'Ann Arbor, MI', 'description': 'Advanced computing resources and services for research, teaching and learning at the University of Michigan', 'url': 'http://t.co/TM2VijomUk', 'entities': {'url': {'urls': [{'url': 'http://t.co/TM2VijomUk', 'expanded_url': 'http://arc.umich.edu', 'display_url': 'arc.umich.edu', 'indices': [0, 22]}]}, 'description': {'urls': []}}, 'protected': False, 'followers_count': 598, 'friends_count': 186, 'listed_count': 67, 'created_at': 'Tue Oct 18 23:23:44 +0000 2011', 'favourites_count': 28, 'utc_offset': None, 'time_zone': None, 'geo_enabled': True, 'verified': False, 'statuses_count': 1923, 'lang': None, 'contributors_enabled': False, 'is_translator': False, 'is_translation_enabled': False, 'profile_background_color': 'DBDBDB', 'profile_background_image_url': 'http://abs.twimg.com/images/themes/theme1/bg.png', 'profile_background_image_url_https': 'https://abs.twimg.com/images/themes/theme1/bg.png', 'profile_background_tile': False, 'profile_image_url': 'http://pbs.twimg.com/profile_images/3539793499/6218609aa5e34ca252cc42cf2dc8f90c_normal.jpeg', 'profile_image_url_https': 'https://pbs.twimg.com/profile_images/3539793499/6218609aa5e34ca252cc42cf2dc8f90c_normal.jpeg', 'profile_link_color': 'DBAF00', 'profile_sidebar_border_color': 'FFFFFF', 'profile_sidebar_fill_color': '46729F', 'profile_text_color': '2E2E2E', 'profile_use_background_image': False, 'has_extended_profile': False, 'default_profile': False, 'default_profile_image': False, 'following': False, 'follow_request_sent': False, 'notifications': False, 'translator_type': 'none', 'suspended': False, 'needs_phone_verification': False}\n"
     ]
    }
   ],
   "source": [
    "import requests\n",
    "from requests_oauthlib import OAuth1\n",
    "\n",
    "auth = OAuth1(consumerKey, consumerSecret, oauthToken, oauthTokenSecret)\n",
    "url = 'https://api.twitter.com/1.1/account/verify_credentials.json'\n",
    "params = {'skip_status':'true'}\n",
    "R = requests.get(url, auth=auth, params=params)\n",
    "R.raise_for_status()\n",
    "response = R.json()\n",
    "print(response)"
   ]
  },
  {
   "cell_type": "markdown",
   "metadata": {},
   "source": [
    "The advantage is that we can also use Python to parse the JSON response for the data we need."
   ]
  },
  {
   "cell_type": "code",
   "execution_count": 3,
   "metadata": {},
   "outputs": [
    {
     "name": "stdout",
     "output_type": "stream",
     "text": [
      "My screen name is @ARC_UM\n",
      "Description: Advanced computing resources and services for research, teaching and learning at the University of Michigan\n",
      "http://arc.umich.edu\n"
     ]
    }
   ],
   "source": [
    "print(f\"My screen name is @{response['screen_name']}\")\n",
    "print(f\"Description: {response['description']}\")\n",
    "print(response['entities']['url']['urls'][0]['expanded_url'])"
   ]
  },
  {
   "cell_type": "markdown",
   "metadata": {},
   "source": [
    "##### But a more convenient way to access the API is to use an existing Twitter package that someone has already crafted to abstract away some of the technical details."
   ]
  },
  {
   "cell_type": "markdown",
   "metadata": {},
   "source": [
    "## Installing Python Twitter Tools Module"
   ]
  },
  {
   "cell_type": "markdown",
   "metadata": {},
   "source": [
    "We will be using the Python Twitter Tool module for interacting with the API. They usually make our lives easier than making a direct GET request since they handle other stuff under the hood for us. There are many available Twitter packages for Python. I chose this one because it was popular and seemed simple to use (although lacking good documentation). Documentation is at https://github.com/sixohsix/twitter.\n",
    "\n",
    "Install the module from the terminal or command prompt with `pip install twitter`. "
   ]
  },
  {
   "cell_type": "code",
   "execution_count": 4,
   "metadata": {},
   "outputs": [],
   "source": [
    "import twitter"
   ]
  },
  {
   "cell_type": "markdown",
   "metadata": {},
   "source": [
    "Next submit your credentials and create a variable containing your authentication."
   ]
  },
  {
   "cell_type": "code",
   "execution_count": 5,
   "metadata": {},
   "outputs": [],
   "source": [
    "auth = twitter.OAuth(oauthToken, oauthTokenSecret, consumerKey, consumerSecret)"
   ]
  },
  {
   "cell_type": "markdown",
   "metadata": {},
   "source": [
    "# Twitter Search API"
   ]
  },
  {
   "cell_type": "markdown",
   "metadata": {},
   "source": [
    "How do we search historical tweets? This is under the \"Search Tweets\" section under `Standard Search API`. The [documentation tells us](https://developer.twitter.com/en/docs/tweets/search/api-reference/get-search-tweets.html) the \"Resource URL\" is https://api.twitter.com/1.1/search/tweets.json. See the [Twitter Search overview]( https://developer.twitter.com/en/docs/tweets/search/overview) to see what the standard API is lacking compared to the **Premium** and **Enterprise** search products. \n",
    "The Standard Search API searches against a __sampling__ of recent Tweets published in the past 7 days. We will see later how to get around the 7 day restriction by invoking other constraints.\n",
    "\n",
    "**Note**: The Search API is not an exact replica of the Search feature available in Twitter mobile or web clients such as https://twitter.com/search. "
   ]
  },
  {
   "cell_type": "markdown",
   "metadata": {},
   "source": [
    "Let's start by creating a Search API handle using your authentication."
   ]
  },
  {
   "cell_type": "code",
   "execution_count": 6,
   "metadata": {},
   "outputs": [],
   "source": [
    "twtr = twitter.Twitter(auth=auth)"
   ]
  },
  {
   "cell_type": "markdown",
   "metadata": {},
   "source": [
    "## Search using a query"
   ]
  },
  {
   "cell_type": "markdown",
   "metadata": {},
   "source": [
    "Details on the search API can be found here https://developer.twitter.com/en/docs/tweets/search/api-reference/get-search-tweets.html."
   ]
  },
  {
   "cell_type": "markdown",
   "metadata": {},
   "source": [
    "Create a query term and also specify the number of tweets you want (default = 15). Use the `search.tweets` method to search for tweets. A list of possible queries (i.e. standard operators) can be found at https://developer.twitter.com/en/docs/tweets/rules-and-filtering/overview/standard-operators.html."
   ]
  },
  {
   "cell_type": "code",
   "execution_count": 7,
   "metadata": {},
   "outputs": [
    {
     "data": {
      "text/plain": [
       "{'statuses': [{'created_at': 'Fri May 24 15:04:44 +0000 2019',\n",
       "   'id': 1131939089723215872,\n",
       "   'id_str': '1131939089723215872',\n",
       "   'text': 'RT @DanielMRomero: Congrats @lia_bozarth and @cerenbudak on winning best poster honorable mention at #UMTweetCon2019! Cc: @umsi https://t.c…',\n",
       "   'truncated': False,\n",
       "   'entities': {'hashtags': [{'text': 'UMTweetCon2019',\n",
       "      'indices': [101, 116]}],\n",
       "    'symbols': [],\n",
       "    'user_mentions': [{'screen_name': 'DanielMRomero',\n",
       "      'name': 'Daniel Romero',\n",
       "      'id': 14817871,\n",
       "      'id_str': '14817871',\n",
       "      'indices': [3, 17]},\n",
       "     {'screen_name': 'lia_bozarth',\n",
       "      'name': 'Lia',\n",
       "      'id': 862346872199028740,\n",
       "      'id_str': '862346872199028740',\n",
       "      'indices': [28, 40]},\n",
       "     {'screen_name': 'cerenbudak',\n",
       "      'name': 'Ceren Budak',\n",
       "      'id': 34721078,\n",
       "      'id_str': '34721078',\n",
       "      'indices': [45, 56]},\n",
       "     {'screen_name': 'umsi',\n",
       "      'name': 'SchoolofInformation',\n",
       "      'id': 18033550,\n",
       "      'id_str': '18033550',\n",
       "      'indices': [122, 127]}],\n",
       "    'urls': []},\n",
       "   'metadata': {'iso_language_code': 'en', 'result_type': 'recent'},\n",
       "   'source': '<a href=\"http://twitter.com/download/iphone\" rel=\"nofollow\">Twitter for iPhone</a>',\n",
       "   'in_reply_to_status_id': None,\n",
       "   'in_reply_to_status_id_str': None,\n",
       "   'in_reply_to_user_id': None,\n",
       "   'in_reply_to_user_id_str': None,\n",
       "   'in_reply_to_screen_name': None,\n",
       "   'user': {'id': 18033550,\n",
       "    'id_str': '18033550',\n",
       "    'name': 'SchoolofInformation',\n",
       "    'screen_name': 'umsi',\n",
       "    'location': 'Ann Arbor, MI',\n",
       "    'description': 'The University of Michigan School of Information creates and shares knowledge so that people will use information -- with technology -- to build a better world.',\n",
       "    'url': 'http://t.co/4pWAWmnRR4',\n",
       "    'entities': {'url': {'urls': [{'url': 'http://t.co/4pWAWmnRR4',\n",
       "        'expanded_url': 'http://si.umich.edu',\n",
       "        'display_url': 'si.umich.edu',\n",
       "        'indices': [0, 22]}]},\n",
       "     'description': {'urls': []}},\n",
       "    'protected': False,\n",
       "    'followers_count': 8399,\n",
       "    'friends_count': 1853,\n",
       "    'listed_count': 411,\n",
       "    'created_at': 'Wed Dec 10 22:56:22 +0000 2008',\n",
       "    'favourites_count': 7278,\n",
       "    'utc_offset': None,\n",
       "    'time_zone': None,\n",
       "    'geo_enabled': True,\n",
       "    'verified': False,\n",
       "    'statuses_count': 12838,\n",
       "    'lang': 'en',\n",
       "    'contributors_enabled': False,\n",
       "    'is_translator': False,\n",
       "    'is_translation_enabled': False,\n",
       "    'profile_background_color': '022330',\n",
       "    'profile_background_image_url': 'http://abs.twimg.com/images/themes/theme15/bg.png',\n",
       "    'profile_background_image_url_https': 'https://abs.twimg.com/images/themes/theme15/bg.png',\n",
       "    'profile_background_tile': False,\n",
       "    'profile_image_url': 'http://pbs.twimg.com/profile_images/940327729601417217/ayRfWgvn_normal.jpg',\n",
       "    'profile_image_url_https': 'https://pbs.twimg.com/profile_images/940327729601417217/ayRfWgvn_normal.jpg',\n",
       "    'profile_banner_url': 'https://pbs.twimg.com/profile_banners/18033550/1543422451',\n",
       "    'profile_link_color': '0084B4',\n",
       "    'profile_sidebar_border_color': 'A8C7F7',\n",
       "    'profile_sidebar_fill_color': 'C0DFEC',\n",
       "    'profile_text_color': '333333',\n",
       "    'profile_use_background_image': True,\n",
       "    'has_extended_profile': False,\n",
       "    'default_profile': False,\n",
       "    'default_profile_image': False,\n",
       "    'following': True,\n",
       "    'follow_request_sent': False,\n",
       "    'notifications': False,\n",
       "    'translator_type': 'none'},\n",
       "   'geo': None,\n",
       "   'coordinates': None,\n",
       "   'place': None,\n",
       "   'contributors': None,\n",
       "   'retweeted_status': {'created_at': 'Thu May 23 21:25:02 +0000 2019',\n",
       "    'id': 1131672407461244934,\n",
       "    'id_str': '1131672407461244934',\n",
       "    'text': 'Congrats @lia_bozarth and @cerenbudak on winning best poster honorable mention at #UMTweetCon2019! Cc: @umsi https://t.co/ydfAGjHBes',\n",
       "    'truncated': False,\n",
       "    'entities': {'hashtags': [{'text': 'UMTweetCon2019', 'indices': [82, 97]}],\n",
       "     'symbols': [],\n",
       "     'user_mentions': [{'screen_name': 'lia_bozarth',\n",
       "       'name': 'Lia',\n",
       "       'id': 862346872199028740,\n",
       "       'id_str': '862346872199028740',\n",
       "       'indices': [9, 21]},\n",
       "      {'screen_name': 'cerenbudak',\n",
       "       'name': 'Ceren Budak',\n",
       "       'id': 34721078,\n",
       "       'id_str': '34721078',\n",
       "       'indices': [26, 37]},\n",
       "      {'screen_name': 'umsi',\n",
       "       'name': 'SchoolofInformation',\n",
       "       'id': 18033550,\n",
       "       'id_str': '18033550',\n",
       "       'indices': [103, 108]}],\n",
       "     'urls': [{'url': 'https://t.co/ydfAGjHBes',\n",
       "       'expanded_url': 'https://twitter.com/um_midas/status/1131651015629950976',\n",
       "       'display_url': 'twitter.com/um_midas/statu…',\n",
       "       'indices': [109, 132]}]},\n",
       "    'metadata': {'iso_language_code': 'en', 'result_type': 'recent'},\n",
       "    'source': '<a href=\"http://twitter.com/download/iphone\" rel=\"nofollow\">Twitter for iPhone</a>',\n",
       "    'in_reply_to_status_id': None,\n",
       "    'in_reply_to_status_id_str': None,\n",
       "    'in_reply_to_user_id': None,\n",
       "    'in_reply_to_user_id_str': None,\n",
       "    'in_reply_to_screen_name': None,\n",
       "    'user': {'id': 14817871,\n",
       "     'id_str': '14817871',\n",
       "     'name': 'Daniel Romero',\n",
       "     'screen_name': 'DanielMRomero',\n",
       "     'location': 'Ann Arbor, MI',\n",
       "     'description': 'Assistant Professor @ UMich School of Information working on Social Networks, Complex Systems, Network Science, Social Media, Computational Social Science',\n",
       "     'url': 'https://t.co/BYJAA2ncfY',\n",
       "     'entities': {'url': {'urls': [{'url': 'https://t.co/BYJAA2ncfY',\n",
       "         'expanded_url': 'http://dromero.org',\n",
       "         'display_url': 'dromero.org',\n",
       "         'indices': [0, 23]}]},\n",
       "      'description': {'urls': []}},\n",
       "     'protected': False,\n",
       "     'followers_count': 960,\n",
       "     'friends_count': 486,\n",
       "     'listed_count': 55,\n",
       "     'created_at': 'Sun May 18 04:48:32 +0000 2008',\n",
       "     'favourites_count': 920,\n",
       "     'utc_offset': None,\n",
       "     'time_zone': None,\n",
       "     'geo_enabled': True,\n",
       "     'verified': False,\n",
       "     'statuses_count': 632,\n",
       "     'lang': 'en',\n",
       "     'contributors_enabled': False,\n",
       "     'is_translator': False,\n",
       "     'is_translation_enabled': False,\n",
       "     'profile_background_color': '000000',\n",
       "     'profile_background_image_url': 'http://abs.twimg.com/images/themes/theme1/bg.png',\n",
       "     'profile_background_image_url_https': 'https://abs.twimg.com/images/themes/theme1/bg.png',\n",
       "     'profile_background_tile': False,\n",
       "     'profile_image_url': 'http://pbs.twimg.com/profile_images/752534549058510848/Qy5tyVTv_normal.jpg',\n",
       "     'profile_image_url_https': 'https://pbs.twimg.com/profile_images/752534549058510848/Qy5tyVTv_normal.jpg',\n",
       "     'profile_banner_url': 'https://pbs.twimg.com/profile_banners/14817871/1498839183',\n",
       "     'profile_link_color': 'E81C4F',\n",
       "     'profile_sidebar_border_color': '000000',\n",
       "     'profile_sidebar_fill_color': '000000',\n",
       "     'profile_text_color': '000000',\n",
       "     'profile_use_background_image': False,\n",
       "     'has_extended_profile': True,\n",
       "     'default_profile': False,\n",
       "     'default_profile_image': False,\n",
       "     'following': False,\n",
       "     'follow_request_sent': False,\n",
       "     'notifications': False,\n",
       "     'translator_type': 'regular'},\n",
       "    'geo': None,\n",
       "    'coordinates': None,\n",
       "    'place': None,\n",
       "    'contributors': None,\n",
       "    'is_quote_status': True,\n",
       "    'quoted_status_id': 1131651015629950976,\n",
       "    'quoted_status_id_str': '1131651015629950976',\n",
       "    'quoted_status': {'created_at': 'Thu May 23 20:00:01 +0000 2019',\n",
       "     'id': 1131651015629950976,\n",
       "     'id_str': '1131651015629950976',\n",
       "     'text': 'Congrats to Patrick Wu and Lia Bozarth for winning best poster and honorable mention respectively at… https://t.co/8cH6pJO08V',\n",
       "     'truncated': True,\n",
       "     'entities': {'hashtags': [],\n",
       "      'symbols': [],\n",
       "      'user_mentions': [],\n",
       "      'urls': [{'url': 'https://t.co/8cH6pJO08V',\n",
       "        'expanded_url': 'https://twitter.com/i/web/status/1131651015629950976',\n",
       "        'display_url': 'twitter.com/i/web/status/1…',\n",
       "        'indices': [102, 125]}]},\n",
       "     'metadata': {'iso_language_code': 'en', 'result_type': 'recent'},\n",
       "     'source': '<a href=\"http://twitter.com\" rel=\"nofollow\">Twitter Web Client</a>',\n",
       "     'in_reply_to_status_id': None,\n",
       "     'in_reply_to_status_id_str': None,\n",
       "     'in_reply_to_user_id': None,\n",
       "     'in_reply_to_user_id_str': None,\n",
       "     'in_reply_to_screen_name': None,\n",
       "     'user': {'id': 1128725153049927681,\n",
       "      'id_str': '1128725153049927681',\n",
       "      'name': 'MIDAS',\n",
       "      'screen_name': 'um_midas',\n",
       "      'location': 'Ann Arbor, MI',\n",
       "      'description': 'MIDAS catalyzes data science through support for faculty, research, education and training, and industry engagement',\n",
       "      'url': 'https://t.co/cCnfEcpj5l',\n",
       "      'entities': {'url': {'urls': [{'url': 'https://t.co/cCnfEcpj5l',\n",
       "          'expanded_url': 'http://midas.umich.edu',\n",
       "          'display_url': 'midas.umich.edu',\n",
       "          'indices': [0, 23]}]},\n",
       "       'description': {'urls': []}},\n",
       "      'protected': False,\n",
       "      'followers_count': 24,\n",
       "      'friends_count': 37,\n",
       "      'listed_count': 0,\n",
       "      'created_at': 'Wed May 15 18:13:41 +0000 2019',\n",
       "      'favourites_count': 1,\n",
       "      'utc_offset': None,\n",
       "      'time_zone': None,\n",
       "      'geo_enabled': False,\n",
       "      'verified': False,\n",
       "      'statuses_count': 2,\n",
       "      'lang': 'en',\n",
       "      'contributors_enabled': False,\n",
       "      'is_translator': False,\n",
       "      'is_translation_enabled': False,\n",
       "      'profile_background_color': 'F5F8FA',\n",
       "      'profile_background_image_url': None,\n",
       "      'profile_background_image_url_https': None,\n",
       "      'profile_background_tile': False,\n",
       "      'profile_image_url': 'http://pbs.twimg.com/profile_images/1130916856976498688/124F_4LZ_normal.png',\n",
       "      'profile_image_url_https': 'https://pbs.twimg.com/profile_images/1130916856976498688/124F_4LZ_normal.png',\n",
       "      'profile_banner_url': 'https://pbs.twimg.com/profile_banners/1128725153049927681/1558466823',\n",
       "      'profile_link_color': '1DA1F2',\n",
       "      'profile_sidebar_border_color': 'C0DEED',\n",
       "      'profile_sidebar_fill_color': 'DDEEF6',\n",
       "      'profile_text_color': '333333',\n",
       "      'profile_use_background_image': True,\n",
       "      'has_extended_profile': False,\n",
       "      'default_profile': True,\n",
       "      'default_profile_image': False,\n",
       "      'following': False,\n",
       "      'follow_request_sent': False,\n",
       "      'notifications': False,\n",
       "      'translator_type': 'none'},\n",
       "     'geo': None,\n",
       "     'coordinates': None,\n",
       "     'place': None,\n",
       "     'contributors': None,\n",
       "     'is_quote_status': False,\n",
       "     'retweet_count': 3,\n",
       "     'favorite_count': 12,\n",
       "     'favorited': False,\n",
       "     'retweeted': False,\n",
       "     'possibly_sensitive': False,\n",
       "     'lang': 'en'},\n",
       "    'retweet_count': 2,\n",
       "    'favorite_count': 15,\n",
       "    'favorited': False,\n",
       "    'retweeted': False,\n",
       "    'possibly_sensitive': False,\n",
       "    'lang': 'en'},\n",
       "   'is_quote_status': True,\n",
       "   'quoted_status_id': 1131651015629950976,\n",
       "   'quoted_status_id_str': '1131651015629950976',\n",
       "   'retweet_count': 2,\n",
       "   'favorite_count': 0,\n",
       "   'favorited': False,\n",
       "   'retweeted': False,\n",
       "   'lang': 'en'},\n",
       "  {'created_at': 'Fri May 24 14:33:41 +0000 2019',\n",
       "   'id': 1131931275944767488,\n",
       "   'id_str': '1131931275944767488',\n",
       "   'text': 'RT @umtweetdata: Protest by professional football players became a major news story in the US in 2016. Wenche Wang and Stacy-Lynn Sant of @…',\n",
       "   'truncated': False,\n",
       "   'entities': {'hashtags': [],\n",
       "    'symbols': [],\n",
       "    'user_mentions': [{'screen_name': 'umtweetdata',\n",
       "      'name': 'The U-M Research Community on Tweet Data',\n",
       "      'id': 1101216357314691072,\n",
       "      'id_str': '1101216357314691072',\n",
       "      'indices': [3, 15]}],\n",
       "    'urls': []},\n",
       "   'metadata': {'iso_language_code': 'en', 'result_type': 'recent'},\n",
       "   'source': '<a href=\"https://mobile.twitter.com\" rel=\"nofollow\">Twitter Web App</a>',\n",
       "   'in_reply_to_status_id': None,\n",
       "   'in_reply_to_status_id_str': None,\n",
       "   'in_reply_to_user_id': None,\n",
       "   'in_reply_to_user_id_str': None,\n",
       "   'in_reply_to_screen_name': None,\n",
       "   'user': {'id': 210559705,\n",
       "    'id_str': '210559705',\n",
       "    'name': '#GoBlueFaithfulFan',\n",
       "    'screen_name': 'Jamaal1124',\n",
       "    'location': 'LANSING, MI ',\n",
       "    'description': 'Husband. Father.  #WaverlyWarrior. #GoBlue #Isiah11 #GoLions #PistonBasketball #GoLakers #KB24 #Cowboys #FAMURattlers  Home Cities: Lansing, MI and Quincy, FL.',\n",
       "    'url': None,\n",
       "    'entities': {'description': {'urls': []}},\n",
       "    'protected': False,\n",
       "    'followers_count': 440,\n",
       "    'friends_count': 1251,\n",
       "    'listed_count': 15,\n",
       "    'created_at': 'Sun Oct 31 18:41:38 +0000 2010',\n",
       "    'favourites_count': 73217,\n",
       "    'utc_offset': None,\n",
       "    'time_zone': None,\n",
       "    'geo_enabled': False,\n",
       "    'verified': False,\n",
       "    'statuses_count': 72268,\n",
       "    'lang': 'en',\n",
       "    'contributors_enabled': False,\n",
       "    'is_translator': False,\n",
       "    'is_translation_enabled': False,\n",
       "    'profile_background_color': 'C0DEED',\n",
       "    'profile_background_image_url': 'http://abs.twimg.com/images/themes/theme1/bg.png',\n",
       "    'profile_background_image_url_https': 'https://abs.twimg.com/images/themes/theme1/bg.png',\n",
       "    'profile_background_tile': False,\n",
       "    'profile_image_url': 'http://pbs.twimg.com/profile_images/1053862203324014592/0v1EIHJR_normal.jpg',\n",
       "    'profile_image_url_https': 'https://pbs.twimg.com/profile_images/1053862203324014592/0v1EIHJR_normal.jpg',\n",
       "    'profile_banner_url': 'https://pbs.twimg.com/profile_banners/210559705/1353303604',\n",
       "    'profile_link_color': '1DA1F2',\n",
       "    'profile_sidebar_border_color': 'C0DEED',\n",
       "    'profile_sidebar_fill_color': 'DDEEF6',\n",
       "    'profile_text_color': '333333',\n",
       "    'profile_use_background_image': True,\n",
       "    'has_extended_profile': False,\n",
       "    'default_profile': True,\n",
       "    'default_profile_image': False,\n",
       "    'following': False,\n",
       "    'follow_request_sent': False,\n",
       "    'notifications': False,\n",
       "    'translator_type': 'none'},\n",
       "   'geo': None,\n",
       "   'coordinates': None,\n",
       "   'place': None,\n",
       "   'contributors': None,\n",
       "   'retweeted_status': {'created_at': 'Thu May 23 13:16:40 +0000 2019',\n",
       "    'id': 1131549507051593728,\n",
       "    'id_str': '1131549507051593728',\n",
       "    'text': 'Protest by professional football players became a major news story in the US in 2016. Wenche Wang and Stacy-Lynn Sa… https://t.co/eATCkgHEPr',\n",
       "    'truncated': True,\n",
       "    'entities': {'hashtags': [],\n",
       "     'symbols': [],\n",
       "     'user_mentions': [],\n",
       "     'urls': [{'url': 'https://t.co/eATCkgHEPr',\n",
       "       'expanded_url': 'https://twitter.com/i/web/status/1131549507051593728',\n",
       "       'display_url': 'twitter.com/i/web/status/1…',\n",
       "       'indices': [117, 140]}]},\n",
       "    'metadata': {'iso_language_code': 'en', 'result_type': 'recent'},\n",
       "    'source': '<a href=\"http://twitter.com/download/iphone\" rel=\"nofollow\">Twitter for iPhone</a>',\n",
       "    'in_reply_to_status_id': None,\n",
       "    'in_reply_to_status_id_str': None,\n",
       "    'in_reply_to_user_id': None,\n",
       "    'in_reply_to_user_id_str': None,\n",
       "    'in_reply_to_screen_name': None,\n",
       "    'user': {'id': 1101216357314691072,\n",
       "     'id_str': '1101216357314691072',\n",
       "     'name': 'The U-M Research Community on Tweet Data',\n",
       "     'screen_name': 'umtweetdata',\n",
       "     'location': 'Michigan, USA',\n",
       "     'description': 'The U-M research community @UMich tweets about its use of Twitter data in research and analytics',\n",
       "     'url': 'https://t.co/5DyhPd4I0p',\n",
       "     'entities': {'url': {'urls': [{'url': 'https://t.co/5DyhPd4I0p',\n",
       "         'expanded_url': 'https://www.isr.umich.edu/cps/events/DataScience/TweetCon.html',\n",
       "         'display_url': 'isr.umich.edu/cps/events/Dat…',\n",
       "         'indices': [0, 23]}]},\n",
       "      'description': {'urls': []}},\n",
       "     'protected': False,\n",
       "     'followers_count': 56,\n",
       "     'friends_count': 115,\n",
       "     'listed_count': 0,\n",
       "     'created_at': 'Thu Feb 28 20:23:33 +0000 2019',\n",
       "     'favourites_count': 55,\n",
       "     'utc_offset': None,\n",
       "     'time_zone': None,\n",
       "     'geo_enabled': False,\n",
       "     'verified': False,\n",
       "     'statuses_count': 60,\n",
       "     'lang': 'en',\n",
       "     'contributors_enabled': False,\n",
       "     'is_translator': False,\n",
       "     'is_translation_enabled': False,\n",
       "     'profile_background_color': '000000',\n",
       "     'profile_background_image_url': 'http://abs.twimg.com/images/themes/theme1/bg.png',\n",
       "     'profile_background_image_url_https': 'https://abs.twimg.com/images/themes/theme1/bg.png',\n",
       "     'profile_background_tile': False,\n",
       "     'profile_image_url': 'http://pbs.twimg.com/profile_images/1102963048506183686/HnbLLMeB_normal.png',\n",
       "     'profile_image_url_https': 'https://pbs.twimg.com/profile_images/1102963048506183686/HnbLLMeB_normal.png',\n",
       "     'profile_link_color': '0000FF',\n",
       "     'profile_sidebar_border_color': '000000',\n",
       "     'profile_sidebar_fill_color': '000000',\n",
       "     'profile_text_color': '000000',\n",
       "     'profile_use_background_image': False,\n",
       "     'has_extended_profile': False,\n",
       "     'default_profile': False,\n",
       "     'default_profile_image': False,\n",
       "     'following': False,\n",
       "     'follow_request_sent': False,\n",
       "     'notifications': False,\n",
       "     'translator_type': 'none'},\n",
       "    'geo': None,\n",
       "    'coordinates': None,\n",
       "    'place': None,\n",
       "    'contributors': None,\n",
       "    'is_quote_status': False,\n",
       "    'retweet_count': 3,\n",
       "    'favorite_count': 6,\n",
       "    'favorited': False,\n",
       "    'retweeted': False,\n",
       "    'possibly_sensitive': False,\n",
       "    'lang': 'en'},\n",
       "   'is_quote_status': False,\n",
       "   'retweet_count': 3,\n",
       "   'favorite_count': 0,\n",
       "   'favorited': False,\n",
       "   'retweeted': False,\n",
       "   'lang': 'en'}],\n",
       " 'search_metadata': {'completed_in': 0.097,\n",
       "  'max_id': 1131939089723215872,\n",
       "  'max_id_str': '1131939089723215872',\n",
       "  'next_results': '?max_id=1131931275944767487&q=%23UMTweetCon2019&count=2&include_entities=1',\n",
       "  'query': '%23UMTweetCon2019',\n",
       "  'refresh_url': '?since_id=1131939089723215872&q=%23UMTweetCon2019&include_entities=1',\n",
       "  'count': 2,\n",
       "  'since_id': 0,\n",
       "  'since_id_str': '0'}}"
      ]
     },
     "execution_count": 7,
     "metadata": {},
     "output_type": "execute_result"
    }
   ],
   "source": [
    "query = '#UMTweetCon2019' # from:arc_um\n",
    "limit = 2\n",
    "results = twtr.search.tweets(q=query, count=limit)\n",
    "results"
   ]
  },
  {
   "cell_type": "markdown",
   "metadata": {},
   "source": [
    "Apparently, there is a lot of data associated with a 140 character tweet."
   ]
  },
  {
   "cell_type": "markdown",
   "metadata": {},
   "source": [
    "## User Info"
   ]
  },
  {
   "cell_type": "markdown",
   "metadata": {},
   "source": [
    "The results are stored in the `statuses` key. Here's how you would access some interesting fields about the Tweeter."
   ]
  },
  {
   "cell_type": "code",
   "execution_count": 8,
   "metadata": {},
   "outputs": [
    {
     "name": "stdout",
     "output_type": "stream",
     "text": [
      "Name: SchoolofInformation\n",
      "ScreenName: umsi\n",
      "Description: The University of Michigan School of Information creates and shares knowledge so that people will use information -- with technology -- to build a better world.\n",
      "Location: Ann Arbor, MI\n",
      "# Tweets: 12838\n",
      "# Following: 1853\n",
      "# Followers: 8399\n",
      "# Likes: 7278\n",
      "# Lists: 411\n",
      "\n",
      "\n",
      "Name: #GoBlueFaithfulFan\n",
      "ScreenName: Jamaal1124\n",
      "Description: Husband. Father.  #WaverlyWarrior. #GoBlue #Isiah11 #GoLions #PistonBasketball #GoLakers #KB24 #Cowboys #FAMURattlers  Home Cities: Lansing, MI and Quincy, FL.\n",
      "Location: LANSING, MI \n",
      "# Tweets: 72268\n",
      "# Following: 1251\n",
      "# Followers: 440\n",
      "# Likes: 73217\n",
      "# Lists: 15\n",
      "\n",
      "\n"
     ]
    }
   ],
   "source": [
    "for tweet in results['statuses']:\n",
    "    print(f\"Name: {tweet['user']['name']}\")\n",
    "    print(f\"ScreenName: {tweet['user']['screen_name']}\")\n",
    "    print(f\"Description: {tweet['user']['description']}\")\n",
    "    print(f\"Location: {tweet['user']['location']}\")\n",
    "    print(f\"# Tweets: {tweet['user']['statuses_count']}\")        \n",
    "    print(f\"# Following: {tweet['user']['friends_count']}\")        \n",
    "    print(f\"# Followers: {tweet['user']['followers_count']}\")\n",
    "    print(f\"# Likes: {tweet['user']['favourites_count']}\")\n",
    "    print(f\"# Lists: {tweet['user']['listed_count']}\")\n",
    "    print('\\n')"
   ]
  },
  {
   "cell_type": "markdown",
   "metadata": {},
   "source": [
    "## Tweet Info"
   ]
  },
  {
   "cell_type": "markdown",
   "metadata": {},
   "source": [
    "Here's how you would access info about the tweet itself."
   ]
  },
  {
   "cell_type": "code",
   "execution_count": 9,
   "metadata": {},
   "outputs": [
    {
     "name": "stdout",
     "output_type": "stream",
     "text": [
      "Created at: Fri May 24 15:04:44 +0000 2019\n",
      "Text: RT @DanielMRomero: Congrats @lia_bozarth and @cerenbudak on winning best poster honorable mention at #UMTweetCon2019! Cc: @umsi https://t.c…\n",
      "Source: <a href=\"http://twitter.com/download/iphone\" rel=\"nofollow\">Twitter for iPhone</a>\n",
      "Hashtag: UMTweetCon2019\n",
      "Likes: 0\n",
      "Retweets: 2\n",
      "Retweet: False\n",
      "Coordinates: None\n",
      "\n",
      "\n",
      "Created at: Fri May 24 14:33:41 +0000 2019\n",
      "Text: RT @umtweetdata: Protest by professional football players became a major news story in the US in 2016. Wenche Wang and Stacy-Lynn Sant of @…\n",
      "Source: <a href=\"https://mobile.twitter.com\" rel=\"nofollow\">Twitter Web App</a>\n",
      "Likes: 0\n",
      "Retweets: 3\n",
      "Retweet: False\n",
      "Coordinates: None\n",
      "\n",
      "\n"
     ]
    }
   ],
   "source": [
    "for tweet in results['statuses']:\n",
    "    print(f\"Created at: {tweet['created_at']}\")       \n",
    "    print(f\"Text: {tweet['text']}\")\n",
    "    print(f\"Source: {tweet['source']}\")\n",
    "    for hashtag in tweet['entities']['hashtags']:\n",
    "        print(f\"Hashtag: {hashtag['text']}\")\n",
    "    print(f\"Likes: {tweet['favorite_count']}\")\n",
    "    print(f\"Retweets: {tweet['retweet_count']}\")        \n",
    "    print(f\"Retweet: {tweet['retweeted']}\")\n",
    "    print(f\"Coordinates: {tweet['coordinates']}\")\n",
    "    place = tweet['place']\n",
    "    if place is not None:\n",
    "        print(f\"Place Name: {place['full_name']}\")\n",
    "        print(f\"Place Type: {place['place_type']}\")\n",
    "        print(f\"Place Bounding Box: {place['bounding_box']['coordinates']}\")\n",
    "    print('\\n')"
   ]
  },
  {
   "cell_type": "markdown",
   "metadata": {},
   "source": [
    "## Search tweets by users located within a given radius of a GPS point"
   ]
  },
  {
   "cell_type": "markdown",
   "metadata": {},
   "source": [
    "Add the `geo` argument to the `search.tweets` method."
   ]
  },
  {
   "cell_type": "code",
   "execution_count": 10,
   "metadata": {},
   "outputs": [],
   "source": [
    "query = 'food' \n",
    "limit = 5\n",
    "georesults = twtr.search.tweets(q=query, count=limit, geo=\"42.7,-83.3, 10km\")"
   ]
  },
  {
   "cell_type": "markdown",
   "metadata": {},
   "source": [
    "Let's print out the tweet along with the datetime and coordinates information."
   ]
  },
  {
   "cell_type": "code",
   "execution_count": 11,
   "metadata": {
    "scrolled": true
   },
   "outputs": [
    {
     "name": "stdout",
     "output_type": "stream",
     "text": [
      "0 That great feeling you get when someone you trust gives you lots of yummy food &lt;3\n",
      "Fri May 24 16:37:47 +0000 2019 None\n",
      "\n",
      "\n",
      "1 RT @Willyambaka: Or a teammate calling you because they don’t have money for food 🤷🏿‍♂️\n",
      "Fri May 24 16:37:47 +0000 2019 None\n",
      "\n",
      "\n",
      "2 RT @davidschneider: Theresa May guide to crying\n",
      "\n",
      "NO TEARS for\n",
      "Grenfell\n",
      "The Windrush generation\n",
      "Deaths and misery caused by the hostile envi…\n",
      "Fri May 24 16:37:47 +0000 2019 None\n",
      "\n",
      "\n",
      "3 Virginia firefighters bring Wendy’s baked potato to woman who burned her own | Fox News https://t.co/EqMpfRGekn\n",
      "Fri May 24 16:37:46 +0000 2019 None\n",
      "\n",
      "\n"
     ]
    }
   ],
   "source": [
    "for i, tweet in enumerate(georesults['statuses']):\n",
    "    print(i, tweet['text'])\n",
    "    print(tweet['created_at'], tweet['coordinates'])\n",
    "    print('\\n')"
   ]
  },
  {
   "cell_type": "markdown",
   "metadata": {},
   "source": [
    "Q: How do I know what methods and arguments to use?  \n",
    "A: I read the API documentation."
   ]
  },
  {
   "cell_type": "markdown",
   "metadata": {},
   "source": [
    "This URL has a list of API endpoints for Twitter https://developer.twitter.com/en/docs/api-reference-index. This is also a good jumping off point to get to the doucmentation. *Bookmark it!*"
   ]
  },
  {
   "cell_type": "markdown",
   "metadata": {},
   "source": [
    "## Getting Tweets beyond the 7-day Archive"
   ]
  },
  {
   "cell_type": "markdown",
   "metadata": {},
   "source": [
    "You can get tweets beyond the 7 day limit with the constraint that you know which account you want to follow. Twitter refers to this as following a user's timeline.\n",
    "https://developer.twitter.com/en/docs/tweets/timelines/api-reference/get-statuses-user_timeline\n",
    "\n",
    "The drawback is that you are limited to the 3200 most recent tweets of that user. With that said, some people in the open source community find this important constraint too rigid and have written their own Twitter web scraper to get around this issue and avoid using the API or any authentication. I have ported one of these projects for a client in Python at https://github.com/caocscar/twitter-advanced-search"
   ]
  },
  {
   "cell_type": "markdown",
   "metadata": {},
   "source": [
    "## Get a list of Followers"
   ]
  },
  {
   "cell_type": "markdown",
   "metadata": {},
   "source": [
    "Use the `followers.list` method to get a list of followers for a given user. Returns a default of 20 results. Can set value up to 200 using the `count` argument."
   ]
  },
  {
   "cell_type": "code",
   "execution_count": 12,
   "metadata": {},
   "outputs": [],
   "source": [
    "screen_name = 'arc_um'"
   ]
  },
  {
   "cell_type": "code",
   "execution_count": 13,
   "metadata": {},
   "outputs": [
    {
     "data": {
      "text/plain": [
       "{'users': [{'id': 945681373477695488,\n",
       "   'id_str': '945681373477695488',\n",
       "   'name': 'Nathan Vaughn',\n",
       "   'screen_name': 'nathanjvaughn',\n",
       "   'location': '',\n",
       "   'url': None,\n",
       "   'description': 'Interested in HPC, renewable energy, cryptocurrencies.',\n",
       "   'protected': False,\n",
       "   'followers_count': 0,\n",
       "   'friends_count': 9,\n",
       "   'listed_count': 0,\n",
       "   'created_at': 'Tue Dec 26 15:43:04 +0000 2017',\n",
       "   'favourites_count': 0,\n",
       "   'utc_offset': None,\n",
       "   'time_zone': None,\n",
       "   'geo_enabled': False,\n",
       "   'verified': False,\n",
       "   'statuses_count': 0,\n",
       "   'lang': None,\n",
       "   'contributors_enabled': False,\n",
       "   'is_translator': False,\n",
       "   'is_translation_enabled': False,\n",
       "   'profile_background_color': 'F5F8FA',\n",
       "   'profile_background_image_url': None,\n",
       "   'profile_background_image_url_https': None,\n",
       "   'profile_background_tile': False,\n",
       "   'profile_image_url': 'http://pbs.twimg.com/profile_images/945685007703658498/m8vGsvCc_normal.jpg',\n",
       "   'profile_image_url_https': 'https://pbs.twimg.com/profile_images/945685007703658498/m8vGsvCc_normal.jpg',\n",
       "   'profile_link_color': '1DA1F2',\n",
       "   'profile_sidebar_border_color': 'C0DEED',\n",
       "   'profile_sidebar_fill_color': 'DDEEF6',\n",
       "   'profile_text_color': '333333',\n",
       "   'profile_use_background_image': True,\n",
       "   'has_extended_profile': True,\n",
       "   'default_profile': True,\n",
       "   'default_profile_image': False,\n",
       "   'following': False,\n",
       "   'live_following': False,\n",
       "   'follow_request_sent': False,\n",
       "   'notifications': False,\n",
       "   'muting': False,\n",
       "   'blocking': False,\n",
       "   'blocked_by': False,\n",
       "   'translator_type': 'none'},\n",
       "  {'id': 332460439,\n",
       "   'id_str': '332460439',\n",
       "   'name': 'Patrick Y. Wu',\n",
       "   'screen_name': 'Patrick_Y_Wu',\n",
       "   'location': 'Ann Arbor, MI',\n",
       "   'url': None,\n",
       "   'description': 'poli sci grad student @UMich, studying political methods',\n",
       "   'protected': False,\n",
       "   'followers_count': 59,\n",
       "   'friends_count': 254,\n",
       "   'listed_count': 1,\n",
       "   'created_at': 'Sat Jul 09 21:10:42 +0000 2011',\n",
       "   'favourites_count': 171,\n",
       "   'utc_offset': None,\n",
       "   'time_zone': None,\n",
       "   'geo_enabled': False,\n",
       "   'verified': False,\n",
       "   'statuses_count': 7,\n",
       "   'lang': None,\n",
       "   'contributors_enabled': False,\n",
       "   'is_translator': False,\n",
       "   'is_translation_enabled': False,\n",
       "   'profile_background_color': '1A1B1F',\n",
       "   'profile_background_image_url': 'http://abs.twimg.com/images/themes/theme9/bg.gif',\n",
       "   'profile_background_image_url_https': 'https://abs.twimg.com/images/themes/theme9/bg.gif',\n",
       "   'profile_background_tile': False,\n",
       "   'profile_image_url': 'http://pbs.twimg.com/profile_images/784087355368112128/A7S91IoQ_normal.jpg',\n",
       "   'profile_image_url_https': 'https://pbs.twimg.com/profile_images/784087355368112128/A7S91IoQ_normal.jpg',\n",
       "   'profile_link_color': '2FC2EF',\n",
       "   'profile_sidebar_border_color': '181A1E',\n",
       "   'profile_sidebar_fill_color': '252429',\n",
       "   'profile_text_color': '666666',\n",
       "   'profile_use_background_image': True,\n",
       "   'has_extended_profile': False,\n",
       "   'default_profile': False,\n",
       "   'default_profile_image': False,\n",
       "   'following': False,\n",
       "   'live_following': False,\n",
       "   'follow_request_sent': False,\n",
       "   'notifications': False,\n",
       "   'muting': False,\n",
       "   'blocking': False,\n",
       "   'blocked_by': False,\n",
       "   'translator_type': 'none'},\n",
       "  {'id': 818650312181313536,\n",
       "   'id_str': '818650312181313536',\n",
       "   'name': 'AESPORIA',\n",
       "   'screen_name': 'AESPORIA',\n",
       "   'location': 'United States',\n",
       "   'url': 'https://soundcloud.com/AESPORIA',\n",
       "   'description': 'if (artistic_purpose == artistic_identity):',\n",
       "   'protected': False,\n",
       "   'followers_count': 25,\n",
       "   'friends_count': 316,\n",
       "   'listed_count': 0,\n",
       "   'created_at': 'Tue Jan 10 02:46:59 +0000 2017',\n",
       "   'favourites_count': 68,\n",
       "   'utc_offset': None,\n",
       "   'time_zone': None,\n",
       "   'geo_enabled': False,\n",
       "   'verified': False,\n",
       "   'statuses_count': 179,\n",
       "   'lang': None,\n",
       "   'contributors_enabled': False,\n",
       "   'is_translator': False,\n",
       "   'is_translation_enabled': False,\n",
       "   'profile_background_color': '000000',\n",
       "   'profile_background_image_url': 'http://abs.twimg.com/images/themes/theme1/bg.png',\n",
       "   'profile_background_image_url_https': 'https://abs.twimg.com/images/themes/theme1/bg.png',\n",
       "   'profile_background_tile': False,\n",
       "   'profile_image_url': 'http://pbs.twimg.com/profile_images/1090311742566031360/WG7sazU__normal.jpg',\n",
       "   'profile_image_url_https': 'https://pbs.twimg.com/profile_images/1090311742566031360/WG7sazU__normal.jpg',\n",
       "   'profile_banner_url': 'https://pbs.twimg.com/profile_banners/818650312181313536/1534724011',\n",
       "   'profile_link_color': '000000',\n",
       "   'profile_sidebar_border_color': '000000',\n",
       "   'profile_sidebar_fill_color': '000000',\n",
       "   'profile_text_color': '000000',\n",
       "   'profile_use_background_image': False,\n",
       "   'has_extended_profile': False,\n",
       "   'default_profile': False,\n",
       "   'default_profile_image': False,\n",
       "   'following': False,\n",
       "   'live_following': False,\n",
       "   'follow_request_sent': False,\n",
       "   'notifications': False,\n",
       "   'muting': False,\n",
       "   'blocking': False,\n",
       "   'blocked_by': False,\n",
       "   'translator_type': 'none'},\n",
       "  {'id': 1128725153049927681,\n",
       "   'id_str': '1128725153049927681',\n",
       "   'name': 'MIDAS',\n",
       "   'screen_name': 'um_midas',\n",
       "   'location': 'Ann Arbor, MI',\n",
       "   'url': 'http://midas.umich.edu',\n",
       "   'description': 'MIDAS catalyzes data science through support for faculty, research, education and training, and industry engagement',\n",
       "   'protected': False,\n",
       "   'followers_count': 24,\n",
       "   'friends_count': 37,\n",
       "   'listed_count': 0,\n",
       "   'created_at': 'Wed May 15 18:13:41 +0000 2019',\n",
       "   'favourites_count': 1,\n",
       "   'utc_offset': None,\n",
       "   'time_zone': None,\n",
       "   'geo_enabled': False,\n",
       "   'verified': False,\n",
       "   'statuses_count': 2,\n",
       "   'lang': None,\n",
       "   'contributors_enabled': False,\n",
       "   'is_translator': False,\n",
       "   'is_translation_enabled': False,\n",
       "   'profile_background_color': 'F5F8FA',\n",
       "   'profile_background_image_url': None,\n",
       "   'profile_background_image_url_https': None,\n",
       "   'profile_background_tile': False,\n",
       "   'profile_image_url': 'http://pbs.twimg.com/profile_images/1130916856976498688/124F_4LZ_normal.png',\n",
       "   'profile_image_url_https': 'https://pbs.twimg.com/profile_images/1130916856976498688/124F_4LZ_normal.png',\n",
       "   'profile_banner_url': 'https://pbs.twimg.com/profile_banners/1128725153049927681/1558466823',\n",
       "   'profile_link_color': '1DA1F2',\n",
       "   'profile_sidebar_border_color': 'C0DEED',\n",
       "   'profile_sidebar_fill_color': 'DDEEF6',\n",
       "   'profile_text_color': '333333',\n",
       "   'profile_use_background_image': True,\n",
       "   'has_extended_profile': False,\n",
       "   'default_profile': True,\n",
       "   'default_profile_image': False,\n",
       "   'following': False,\n",
       "   'live_following': False,\n",
       "   'follow_request_sent': False,\n",
       "   'notifications': False,\n",
       "   'muting': False,\n",
       "   'blocking': False,\n",
       "   'blocked_by': False,\n",
       "   'translator_type': 'none'},\n",
       "  {'id': 1097880395209687040,\n",
       "   'id_str': '1097880395209687040',\n",
       "   'name': 'Matt - On Earth',\n",
       "   'screen_name': 'notinorbit',\n",
       "   'location': '',\n",
       "   'url': None,\n",
       "   'description': 'New account, old me. InfoSec pro @umisr. Opinions are my own.',\n",
       "   'protected': False,\n",
       "   'followers_count': 14,\n",
       "   'friends_count': 47,\n",
       "   'listed_count': 0,\n",
       "   'created_at': 'Tue Feb 19 15:27:38 +0000 2019',\n",
       "   'favourites_count': 568,\n",
       "   'utc_offset': None,\n",
       "   'time_zone': None,\n",
       "   'geo_enabled': False,\n",
       "   'verified': False,\n",
       "   'statuses_count': 100,\n",
       "   'lang': None,\n",
       "   'contributors_enabled': False,\n",
       "   'is_translator': False,\n",
       "   'is_translation_enabled': False,\n",
       "   'profile_background_color': 'F5F8FA',\n",
       "   'profile_background_image_url': None,\n",
       "   'profile_background_image_url_https': None,\n",
       "   'profile_background_tile': False,\n",
       "   'profile_image_url': 'http://pbs.twimg.com/profile_images/1097880644527505409/srhSVc6j_normal.jpg',\n",
       "   'profile_image_url_https': 'https://pbs.twimg.com/profile_images/1097880644527505409/srhSVc6j_normal.jpg',\n",
       "   'profile_link_color': '1DA1F2',\n",
       "   'profile_sidebar_border_color': 'C0DEED',\n",
       "   'profile_sidebar_fill_color': 'DDEEF6',\n",
       "   'profile_text_color': '333333',\n",
       "   'profile_use_background_image': True,\n",
       "   'has_extended_profile': False,\n",
       "   'default_profile': True,\n",
       "   'default_profile_image': False,\n",
       "   'following': False,\n",
       "   'live_following': False,\n",
       "   'follow_request_sent': False,\n",
       "   'notifications': False,\n",
       "   'muting': False,\n",
       "   'blocking': False,\n",
       "   'blocked_by': False,\n",
       "   'translator_type': 'none'},\n",
       "  {'id': 816617629,\n",
       "   'id_str': '816617629',\n",
       "   'name': 't',\n",
       "   'screen_name': 'fountain79',\n",
       "   'location': '',\n",
       "   'url': None,\n",
       "   'description': 'Dreamer. Planner. Community Builder. Encourager. Singer. Dancer. Dog lover. Enthusiastically Mediocre Golfer.',\n",
       "   'protected': False,\n",
       "   'followers_count': 5,\n",
       "   'friends_count': 13,\n",
       "   'listed_count': 0,\n",
       "   'created_at': 'Tue Sep 11 03:40:35 +0000 2012',\n",
       "   'favourites_count': 25,\n",
       "   'utc_offset': None,\n",
       "   'time_zone': None,\n",
       "   'geo_enabled': False,\n",
       "   'verified': False,\n",
       "   'statuses_count': 39,\n",
       "   'lang': None,\n",
       "   'contributors_enabled': False,\n",
       "   'is_translator': False,\n",
       "   'is_translation_enabled': False,\n",
       "   'profile_background_color': 'C0DEED',\n",
       "   'profile_background_image_url': 'http://abs.twimg.com/images/themes/theme1/bg.png',\n",
       "   'profile_background_image_url_https': 'https://abs.twimg.com/images/themes/theme1/bg.png',\n",
       "   'profile_background_tile': False,\n",
       "   'profile_image_url': 'http://pbs.twimg.com/profile_images/844992547185446912/av_FzHBp_normal.jpg',\n",
       "   'profile_image_url_https': 'https://pbs.twimg.com/profile_images/844992547185446912/av_FzHBp_normal.jpg',\n",
       "   'profile_banner_url': 'https://pbs.twimg.com/profile_banners/816617629/1390714521',\n",
       "   'profile_link_color': '1DA1F2',\n",
       "   'profile_sidebar_border_color': 'C0DEED',\n",
       "   'profile_sidebar_fill_color': 'DDEEF6',\n",
       "   'profile_text_color': '333333',\n",
       "   'profile_use_background_image': True,\n",
       "   'has_extended_profile': False,\n",
       "   'default_profile': True,\n",
       "   'default_profile_image': False,\n",
       "   'following': False,\n",
       "   'live_following': False,\n",
       "   'follow_request_sent': False,\n",
       "   'notifications': False,\n",
       "   'muting': False,\n",
       "   'blocking': False,\n",
       "   'blocked_by': False,\n",
       "   'translator_type': 'none'},\n",
       "  {'id': 850714763650846720,\n",
       "   'id_str': '850714763650846720',\n",
       "   'name': 'Patricia Schuster',\n",
       "   'screen_name': 'pfschus',\n",
       "   'location': 'Ann Arbor, MI',\n",
       "   'url': None,\n",
       "   'description': \"President's Postdoctoral Fellow in Michigan NERS department. Interested in nuclear science, radiation detectors, national security, running, and pizza 🍕\",\n",
       "   'protected': False,\n",
       "   'followers_count': 265,\n",
       "   'friends_count': 343,\n",
       "   'listed_count': 6,\n",
       "   'created_at': 'Sat Apr 08 14:19:39 +0000 2017',\n",
       "   'favourites_count': 312,\n",
       "   'utc_offset': None,\n",
       "   'time_zone': None,\n",
       "   'geo_enabled': False,\n",
       "   'verified': False,\n",
       "   'statuses_count': 192,\n",
       "   'lang': None,\n",
       "   'contributors_enabled': False,\n",
       "   'is_translator': False,\n",
       "   'is_translation_enabled': False,\n",
       "   'profile_background_color': 'F5F8FA',\n",
       "   'profile_background_image_url': None,\n",
       "   'profile_background_image_url_https': None,\n",
       "   'profile_background_tile': False,\n",
       "   'profile_image_url': 'http://pbs.twimg.com/profile_images/850730765210054657/x8u0f0r-_normal.jpg',\n",
       "   'profile_image_url_https': 'https://pbs.twimg.com/profile_images/850730765210054657/x8u0f0r-_normal.jpg',\n",
       "   'profile_banner_url': 'https://pbs.twimg.com/profile_banners/850714763650846720/1491664994',\n",
       "   'profile_link_color': '1DA1F2',\n",
       "   'profile_sidebar_border_color': 'C0DEED',\n",
       "   'profile_sidebar_fill_color': 'DDEEF6',\n",
       "   'profile_text_color': '333333',\n",
       "   'profile_use_background_image': True,\n",
       "   'has_extended_profile': False,\n",
       "   'default_profile': True,\n",
       "   'default_profile_image': False,\n",
       "   'following': False,\n",
       "   'live_following': False,\n",
       "   'follow_request_sent': False,\n",
       "   'notifications': False,\n",
       "   'muting': False,\n",
       "   'blocking': False,\n",
       "   'blocked_by': False,\n",
       "   'translator_type': 'none'},\n",
       "  {'id': 326196937,\n",
       "   'id_str': '326196937',\n",
       "   'name': 'Jason Wilkinson',\n",
       "   'screen_name': 'willard125',\n",
       "   'location': 'Lansing',\n",
       "   'url': None,\n",
       "   'description': 'Family man, world traveler, runner, home brewer, gamer. Torn between Colorado & Michigan.',\n",
       "   'protected': False,\n",
       "   'followers_count': 438,\n",
       "   'friends_count': 890,\n",
       "   'listed_count': 24,\n",
       "   'created_at': 'Wed Jun 29 14:51:51 +0000 2011',\n",
       "   'favourites_count': 2988,\n",
       "   'utc_offset': None,\n",
       "   'time_zone': None,\n",
       "   'geo_enabled': False,\n",
       "   'verified': False,\n",
       "   'statuses_count': 4739,\n",
       "   'lang': None,\n",
       "   'contributors_enabled': False,\n",
       "   'is_translator': False,\n",
       "   'is_translation_enabled': False,\n",
       "   'profile_background_color': '022330',\n",
       "   'profile_background_image_url': 'http://abs.twimg.com/images/themes/theme15/bg.png',\n",
       "   'profile_background_image_url_https': 'https://abs.twimg.com/images/themes/theme15/bg.png',\n",
       "   'profile_background_tile': False,\n",
       "   'profile_image_url': 'http://pbs.twimg.com/profile_images/677671521150701568/wCvA6C8D_normal.jpg',\n",
       "   'profile_image_url_https': 'https://pbs.twimg.com/profile_images/677671521150701568/wCvA6C8D_normal.jpg',\n",
       "   'profile_banner_url': 'https://pbs.twimg.com/profile_banners/326196937/1434815040',\n",
       "   'profile_link_color': '00298B',\n",
       "   'profile_sidebar_border_color': 'A8C7F7',\n",
       "   'profile_sidebar_fill_color': 'C0DFEC',\n",
       "   'profile_text_color': '333333',\n",
       "   'profile_use_background_image': True,\n",
       "   'has_extended_profile': False,\n",
       "   'default_profile': False,\n",
       "   'default_profile_image': False,\n",
       "   'following': False,\n",
       "   'live_following': False,\n",
       "   'follow_request_sent': False,\n",
       "   'notifications': False,\n",
       "   'muting': False,\n",
       "   'blocking': False,\n",
       "   'blocked_by': False,\n",
       "   'translator_type': 'none'},\n",
       "  {'id': 1125761947222278146,\n",
       "   'id_str': '1125761947222278146',\n",
       "   'name': 'CSMissThomas',\n",
       "   'screen_name': 'CSMissThomas1',\n",
       "   'location': '',\n",
       "   'url': None,\n",
       "   'description': 'Miss Thomas 🌼 Computer Science Teacher 👩🏽\\u200d🏫 Running, Countryside & Dog Walks with my Frenchie 🐾  Currently Second in Dept, new adventure from September 💭',\n",
       "   'protected': False,\n",
       "   'followers_count': 134,\n",
       "   'friends_count': 381,\n",
       "   'listed_count': 0,\n",
       "   'created_at': 'Tue May 07 13:58:58 +0000 2019',\n",
       "   'favourites_count': 53,\n",
       "   'utc_offset': None,\n",
       "   'time_zone': None,\n",
       "   'geo_enabled': False,\n",
       "   'verified': False,\n",
       "   'statuses_count': 93,\n",
       "   'lang': None,\n",
       "   'contributors_enabled': False,\n",
       "   'is_translator': False,\n",
       "   'is_translation_enabled': False,\n",
       "   'profile_background_color': 'F5F8FA',\n",
       "   'profile_background_image_url': None,\n",
       "   'profile_background_image_url_https': None,\n",
       "   'profile_background_tile': False,\n",
       "   'profile_image_url': 'http://pbs.twimg.com/profile_images/1125762278383652864/Rd3trwvt_normal.jpg',\n",
       "   'profile_image_url_https': 'https://pbs.twimg.com/profile_images/1125762278383652864/Rd3trwvt_normal.jpg',\n",
       "   'profile_banner_url': 'https://pbs.twimg.com/profile_banners/1125761947222278146/1557258816',\n",
       "   'profile_link_color': '1DA1F2',\n",
       "   'profile_sidebar_border_color': 'C0DEED',\n",
       "   'profile_sidebar_fill_color': 'DDEEF6',\n",
       "   'profile_text_color': '333333',\n",
       "   'profile_use_background_image': True,\n",
       "   'has_extended_profile': True,\n",
       "   'default_profile': True,\n",
       "   'default_profile_image': False,\n",
       "   'following': False,\n",
       "   'live_following': False,\n",
       "   'follow_request_sent': False,\n",
       "   'notifications': False,\n",
       "   'muting': False,\n",
       "   'blocking': False,\n",
       "   'blocked_by': False,\n",
       "   'translator_type': 'none'},\n",
       "  {'id': 1123583712145358848,\n",
       "   'id_str': '1123583712145358848',\n",
       "   'name': 'MICDE',\n",
       "   'screen_name': 'UM_MICDE',\n",
       "   'location': 'Ann Arbor, MI',\n",
       "   'url': 'http://micde.umich.edu',\n",
       "   'description': 'MICDE is the focal point for the wide spectrum of research in computational science and engineering at the University of Michigan.',\n",
       "   'protected': False,\n",
       "   'followers_count': 33,\n",
       "   'friends_count': 112,\n",
       "   'listed_count': 0,\n",
       "   'created_at': 'Wed May 01 13:43:26 +0000 2019',\n",
       "   'favourites_count': 12,\n",
       "   'utc_offset': None,\n",
       "   'time_zone': None,\n",
       "   'geo_enabled': False,\n",
       "   'verified': False,\n",
       "   'statuses_count': 13,\n",
       "   'lang': None,\n",
       "   'contributors_enabled': False,\n",
       "   'is_translator': False,\n",
       "   'is_translation_enabled': False,\n",
       "   'profile_background_color': 'F5F8FA',\n",
       "   'profile_background_image_url': None,\n",
       "   'profile_background_image_url_https': None,\n",
       "   'profile_background_tile': False,\n",
       "   'profile_image_url': 'http://pbs.twimg.com/profile_images/1123584391245070336/d5jznbyS_normal.jpg',\n",
       "   'profile_image_url_https': 'https://pbs.twimg.com/profile_images/1123584391245070336/d5jznbyS_normal.jpg',\n",
       "   'profile_banner_url': 'https://pbs.twimg.com/profile_banners/1123583712145358848/1557515786',\n",
       "   'profile_link_color': '1DA1F2',\n",
       "   'profile_sidebar_border_color': 'C0DEED',\n",
       "   'profile_sidebar_fill_color': 'DDEEF6',\n",
       "   'profile_text_color': '333333',\n",
       "   'profile_use_background_image': True,\n",
       "   'has_extended_profile': False,\n",
       "   'default_profile': True,\n",
       "   'default_profile_image': False,\n",
       "   'following': False,\n",
       "   'live_following': False,\n",
       "   'follow_request_sent': False,\n",
       "   'notifications': False,\n",
       "   'muting': False,\n",
       "   'blocking': False,\n",
       "   'blocked_by': False,\n",
       "   'translator_type': 'none'},\n",
       "  {'id': 720389270335135745,\n",
       "   'id_str': '720389270335135745',\n",
       "   'name': 'The Web Conference',\n",
       "   'screen_name': 'TheWebConf',\n",
       "   'location': 'San Francisco, CA',\n",
       "   'url': 'https://www2019.thewebconf.org/',\n",
       "   'description': 'The Web Conference Series (formerly WWW) ||  #TheWebConf',\n",
       "   'protected': False,\n",
       "   'followers_count': 2429,\n",
       "   'friends_count': 181,\n",
       "   'listed_count': 54,\n",
       "   'created_at': 'Wed Apr 13 23:12:41 +0000 2016',\n",
       "   'favourites_count': 846,\n",
       "   'utc_offset': None,\n",
       "   'time_zone': None,\n",
       "   'geo_enabled': True,\n",
       "   'verified': False,\n",
       "   'statuses_count': 1223,\n",
       "   'lang': None,\n",
       "   'contributors_enabled': False,\n",
       "   'is_translator': False,\n",
       "   'is_translation_enabled': False,\n",
       "   'profile_background_color': '000000',\n",
       "   'profile_background_image_url': 'http://abs.twimg.com/images/themes/theme1/bg.png',\n",
       "   'profile_background_image_url_https': 'https://abs.twimg.com/images/themes/theme1/bg.png',\n",
       "   'profile_background_tile': False,\n",
       "   'profile_image_url': 'http://pbs.twimg.com/profile_images/1034427850269503488/9h1m2705_normal.jpg',\n",
       "   'profile_image_url_https': 'https://pbs.twimg.com/profile_images/1034427850269503488/9h1m2705_normal.jpg',\n",
       "   'profile_banner_url': 'https://pbs.twimg.com/profile_banners/720389270335135745/1542413353',\n",
       "   'profile_link_color': 'C63750',\n",
       "   'profile_sidebar_border_color': '000000',\n",
       "   'profile_sidebar_fill_color': '000000',\n",
       "   'profile_text_color': '000000',\n",
       "   'profile_use_background_image': False,\n",
       "   'has_extended_profile': False,\n",
       "   'default_profile': False,\n",
       "   'default_profile_image': False,\n",
       "   'following': False,\n",
       "   'live_following': False,\n",
       "   'follow_request_sent': False,\n",
       "   'notifications': False,\n",
       "   'muting': False,\n",
       "   'blocking': False,\n",
       "   'blocked_by': False,\n",
       "   'translator_type': 'none'},\n",
       "  {'id': 794480772,\n",
       "   'id_str': '794480772',\n",
       "   'name': 'umichCREES',\n",
       "   'screen_name': 'umichCREES',\n",
       "   'location': 'Ann Arbor, MI',\n",
       "   'url': 'http://www.ii.umich.edu/crees',\n",
       "   'description': 'Center for Russian, East European, and Eurasian Studies at the University of Michigan - including Copernicus Program in Polish Studies as #UMichPolish',\n",
       "   'protected': False,\n",
       "   'followers_count': 1307,\n",
       "   'friends_count': 1188,\n",
       "   'listed_count': 51,\n",
       "   'created_at': 'Fri Aug 31 19:09:34 +0000 2012',\n",
       "   'favourites_count': 615,\n",
       "   'utc_offset': None,\n",
       "   'time_zone': None,\n",
       "   'geo_enabled': False,\n",
       "   'verified': False,\n",
       "   'statuses_count': 2795,\n",
       "   'lang': None,\n",
       "   'contributors_enabled': False,\n",
       "   'is_translator': False,\n",
       "   'is_translation_enabled': False,\n",
       "   'profile_background_color': '022330',\n",
       "   'profile_background_image_url': 'http://abs.twimg.com/images/themes/theme15/bg.png',\n",
       "   'profile_background_image_url_https': 'https://abs.twimg.com/images/themes/theme15/bg.png',\n",
       "   'profile_background_tile': False,\n",
       "   'profile_image_url': 'http://pbs.twimg.com/profile_images/378800000026017129/2e9c219dfe217b1f536c96936280fc3d_normal.png',\n",
       "   'profile_image_url_https': 'https://pbs.twimg.com/profile_images/378800000026017129/2e9c219dfe217b1f536c96936280fc3d_normal.png',\n",
       "   'profile_banner_url': 'https://pbs.twimg.com/profile_banners/794480772/1555511781',\n",
       "   'profile_link_color': '0084B4',\n",
       "   'profile_sidebar_border_color': 'A8C7F7',\n",
       "   'profile_sidebar_fill_color': 'C0DFEC',\n",
       "   'profile_text_color': '333333',\n",
       "   'profile_use_background_image': True,\n",
       "   'has_extended_profile': False,\n",
       "   'default_profile': False,\n",
       "   'default_profile_image': False,\n",
       "   'following': False,\n",
       "   'live_following': False,\n",
       "   'follow_request_sent': False,\n",
       "   'notifications': False,\n",
       "   'muting': False,\n",
       "   'blocking': False,\n",
       "   'blocked_by': False,\n",
       "   'translator_type': 'none'},\n",
       "  {'id': 956532894834548736,\n",
       "   'id_str': '956532894834548736',\n",
       "   'name': 'occhiphaura',\n",
       "   'screen_name': 'occhiphaura',\n",
       "   'location': '',\n",
       "   'url': None,\n",
       "   'description': 'Learning coding in #javascript. Interested in #machinelearning and #ai.',\n",
       "   'protected': False,\n",
       "   'followers_count': 5529,\n",
       "   'friends_count': 6026,\n",
       "   'listed_count': 66,\n",
       "   'created_at': 'Thu Jan 25 14:23:08 +0000 2018',\n",
       "   'favourites_count': 25359,\n",
       "   'utc_offset': None,\n",
       "   'time_zone': None,\n",
       "   'geo_enabled': False,\n",
       "   'verified': False,\n",
       "   'statuses_count': 1601,\n",
       "   'lang': None,\n",
       "   'contributors_enabled': False,\n",
       "   'is_translator': False,\n",
       "   'is_translation_enabled': False,\n",
       "   'profile_background_color': 'F5F8FA',\n",
       "   'profile_background_image_url': None,\n",
       "   'profile_background_image_url_https': None,\n",
       "   'profile_background_tile': False,\n",
       "   'profile_image_url': 'http://pbs.twimg.com/profile_images/1010473266169958400/AX7VuVCr_normal.jpg',\n",
       "   'profile_image_url_https': 'https://pbs.twimg.com/profile_images/1010473266169958400/AX7VuVCr_normal.jpg',\n",
       "   'profile_banner_url': 'https://pbs.twimg.com/profile_banners/956532894834548736/1529750566',\n",
       "   'profile_link_color': '1DA1F2',\n",
       "   'profile_sidebar_border_color': 'C0DEED',\n",
       "   'profile_sidebar_fill_color': 'DDEEF6',\n",
       "   'profile_text_color': '333333',\n",
       "   'profile_use_background_image': True,\n",
       "   'has_extended_profile': True,\n",
       "   'default_profile': True,\n",
       "   'default_profile_image': False,\n",
       "   'following': False,\n",
       "   'live_following': False,\n",
       "   'follow_request_sent': False,\n",
       "   'notifications': False,\n",
       "   'muting': False,\n",
       "   'blocking': False,\n",
       "   'blocked_by': False,\n",
       "   'translator_type': 'none'},\n",
       "  {'id': 68134207,\n",
       "   'id_str': '68134207',\n",
       "   'name': 'Terry Miller',\n",
       "   'screen_name': 'mrmiller1972',\n",
       "   'location': 'Michigan',\n",
       "   'url': None,\n",
       "   'description': \"Catholic. husband. hockey dad. @bgsu grad. university technologist #ConfigMgr, #Intune and #PowerShell. Posts are my views, not my employer's.\",\n",
       "   'protected': False,\n",
       "   'followers_count': 561,\n",
       "   'friends_count': 1911,\n",
       "   'listed_count': 47,\n",
       "   'created_at': 'Sun Aug 23 12:28:01 +0000 2009',\n",
       "   'favourites_count': 9936,\n",
       "   'utc_offset': None,\n",
       "   'time_zone': None,\n",
       "   'geo_enabled': True,\n",
       "   'verified': False,\n",
       "   'statuses_count': 10361,\n",
       "   'lang': None,\n",
       "   'contributors_enabled': False,\n",
       "   'is_translator': False,\n",
       "   'is_translation_enabled': False,\n",
       "   'profile_background_color': 'C0DEED',\n",
       "   'profile_background_image_url': 'http://abs.twimg.com/images/themes/theme1/bg.png',\n",
       "   'profile_background_image_url_https': 'https://abs.twimg.com/images/themes/theme1/bg.png',\n",
       "   'profile_background_tile': False,\n",
       "   'profile_image_url': 'http://pbs.twimg.com/profile_images/731650091526721537/vrQgi13f_normal.jpg',\n",
       "   'profile_image_url_https': 'https://pbs.twimg.com/profile_images/731650091526721537/vrQgi13f_normal.jpg',\n",
       "   'profile_banner_url': 'https://pbs.twimg.com/profile_banners/68134207/1393468537',\n",
       "   'profile_link_color': '1DA1F2',\n",
       "   'profile_sidebar_border_color': 'C0DEED',\n",
       "   'profile_sidebar_fill_color': 'DDEEF6',\n",
       "   'profile_text_color': '333333',\n",
       "   'profile_use_background_image': True,\n",
       "   'has_extended_profile': False,\n",
       "   'default_profile': True,\n",
       "   'default_profile_image': False,\n",
       "   'following': False,\n",
       "   'live_following': False,\n",
       "   'follow_request_sent': False,\n",
       "   'notifications': False,\n",
       "   'muting': False,\n",
       "   'blocking': False,\n",
       "   'blocked_by': False,\n",
       "   'translator_type': 'none'},\n",
       "  {'id': 1119248164274483202,\n",
       "   'id_str': '1119248164274483202',\n",
       "   'name': 'Lions Clubs of District 11-B1',\n",
       "   'screen_name': 'lions11b1',\n",
       "   'location': '',\n",
       "   'url': None,\n",
       "   'description': \"Across the globe, Lions are rolling up their sleeves and taking action. With over 1.4 million members, we're the largest service organization in the world.\",\n",
       "   'protected': False,\n",
       "   'followers_count': 6,\n",
       "   'friends_count': 522,\n",
       "   'listed_count': 0,\n",
       "   'created_at': 'Fri Apr 19 14:35:31 +0000 2019',\n",
       "   'favourites_count': 0,\n",
       "   'utc_offset': None,\n",
       "   'time_zone': None,\n",
       "   'geo_enabled': False,\n",
       "   'verified': False,\n",
       "   'statuses_count': 0,\n",
       "   'lang': None,\n",
       "   'contributors_enabled': False,\n",
       "   'is_translator': False,\n",
       "   'is_translation_enabled': False,\n",
       "   'profile_background_color': 'F5F8FA',\n",
       "   'profile_background_image_url': None,\n",
       "   'profile_background_image_url_https': None,\n",
       "   'profile_background_tile': False,\n",
       "   'profile_image_url': 'http://pbs.twimg.com/profile_images/1119248356646313985/cWGV75N6_normal.jpg',\n",
       "   'profile_image_url_https': 'https://pbs.twimg.com/profile_images/1119248356646313985/cWGV75N6_normal.jpg',\n",
       "   'profile_link_color': '1DA1F2',\n",
       "   'profile_sidebar_border_color': 'C0DEED',\n",
       "   'profile_sidebar_fill_color': 'DDEEF6',\n",
       "   'profile_text_color': '333333',\n",
       "   'profile_use_background_image': True,\n",
       "   'has_extended_profile': False,\n",
       "   'default_profile': True,\n",
       "   'default_profile_image': False,\n",
       "   'following': False,\n",
       "   'live_following': False,\n",
       "   'follow_request_sent': False,\n",
       "   'notifications': False,\n",
       "   'muting': False,\n",
       "   'blocking': False,\n",
       "   'blocked_by': False,\n",
       "   'translator_type': 'none'},\n",
       "  {'id': 109561584,\n",
       "   'id_str': '109561584',\n",
       "   'name': 'U-M BEC',\n",
       "   'screen_name': 'uofmbec',\n",
       "   'location': 'Ann Arbor, MI USA',\n",
       "   'url': 'http://www.bec.umich.edu',\n",
       "   'description': 'The University of Michigan Business Engagement Center serves as a portal for companies to access student talent, research expertise, technology, and more.',\n",
       "   'protected': False,\n",
       "   'followers_count': 1344,\n",
       "   'friends_count': 1164,\n",
       "   'listed_count': 62,\n",
       "   'created_at': 'Fri Jan 29 13:38:50 +0000 2010',\n",
       "   'favourites_count': 3762,\n",
       "   'utc_offset': None,\n",
       "   'time_zone': None,\n",
       "   'geo_enabled': False,\n",
       "   'verified': False,\n",
       "   'statuses_count': 4666,\n",
       "   'lang': None,\n",
       "   'contributors_enabled': False,\n",
       "   'is_translator': False,\n",
       "   'is_translation_enabled': False,\n",
       "   'profile_background_color': '00274C',\n",
       "   'profile_background_image_url': 'http://abs.twimg.com/images/themes/theme1/bg.png',\n",
       "   'profile_background_image_url_https': 'https://abs.twimg.com/images/themes/theme1/bg.png',\n",
       "   'profile_background_tile': False,\n",
       "   'profile_image_url': 'http://pbs.twimg.com/profile_images/540129641520844800/FNSDsvHY_normal.png',\n",
       "   'profile_image_url_https': 'https://pbs.twimg.com/profile_images/540129641520844800/FNSDsvHY_normal.png',\n",
       "   'profile_banner_url': 'https://pbs.twimg.com/profile_banners/109561584/1558039890',\n",
       "   'profile_link_color': 'FFCB05',\n",
       "   'profile_sidebar_border_color': '000000',\n",
       "   'profile_sidebar_fill_color': 'A8CDE6',\n",
       "   'profile_text_color': '333333',\n",
       "   'profile_use_background_image': True,\n",
       "   'has_extended_profile': False,\n",
       "   'default_profile': False,\n",
       "   'default_profile_image': False,\n",
       "   'following': False,\n",
       "   'live_following': False,\n",
       "   'follow_request_sent': False,\n",
       "   'notifications': False,\n",
       "   'muting': False,\n",
       "   'blocking': False,\n",
       "   'blocked_by': False,\n",
       "   'translator_type': 'none'},\n",
       "  {'id': 1090270827486965760,\n",
       "   'id_str': '1090270827486965760',\n",
       "   'name': 'William Matthew Limited',\n",
       "   'screen_name': 'WML_Software',\n",
       "   'location': 'Sheffield, England',\n",
       "   'url': 'http://www.wmltd.co.uk',\n",
       "   'description': 'Printer & Document Management Solutions | WML is also the premium partner of #NoMachine in the UK @NXFollowers',\n",
       "   'protected': False,\n",
       "   'followers_count': 187,\n",
       "   'friends_count': 1661,\n",
       "   'listed_count': 0,\n",
       "   'created_at': 'Tue Jan 29 15:29:56 +0000 2019',\n",
       "   'favourites_count': 69,\n",
       "   'utc_offset': None,\n",
       "   'time_zone': None,\n",
       "   'geo_enabled': False,\n",
       "   'verified': False,\n",
       "   'statuses_count': 348,\n",
       "   'lang': None,\n",
       "   'contributors_enabled': False,\n",
       "   'is_translator': False,\n",
       "   'is_translation_enabled': False,\n",
       "   'profile_background_color': '000000',\n",
       "   'profile_background_image_url': 'http://abs.twimg.com/images/themes/theme1/bg.png',\n",
       "   'profile_background_image_url_https': 'https://abs.twimg.com/images/themes/theme1/bg.png',\n",
       "   'profile_background_tile': False,\n",
       "   'profile_image_url': 'http://pbs.twimg.com/profile_images/1091135234328985603/PhZcBV6b_normal.jpg',\n",
       "   'profile_image_url_https': 'https://pbs.twimg.com/profile_images/1091135234328985603/PhZcBV6b_normal.jpg',\n",
       "   'profile_banner_url': 'https://pbs.twimg.com/profile_banners/1090270827486965760/1548781970',\n",
       "   'profile_link_color': 'F47C00',\n",
       "   'profile_sidebar_border_color': '000000',\n",
       "   'profile_sidebar_fill_color': '000000',\n",
       "   'profile_text_color': '000000',\n",
       "   'profile_use_background_image': False,\n",
       "   'has_extended_profile': False,\n",
       "   'default_profile': False,\n",
       "   'default_profile_image': False,\n",
       "   'following': False,\n",
       "   'live_following': False,\n",
       "   'follow_request_sent': False,\n",
       "   'notifications': False,\n",
       "   'muting': False,\n",
       "   'blocking': False,\n",
       "   'blocked_by': False,\n",
       "   'translator_type': 'none'},\n",
       "  {'id': 206941162,\n",
       "   'id_str': '206941162',\n",
       "   'name': 'Poncho Flores',\n",
       "   'screen_name': 'kypo7409',\n",
       "   'location': 'MX',\n",
       "   'url': None,\n",
       "   'description': 'Work hard, Play hard',\n",
       "   'protected': False,\n",
       "   'followers_count': 39,\n",
       "   'friends_count': 99,\n",
       "   'listed_count': 1,\n",
       "   'created_at': 'Sun Oct 24 03:24:49 +0000 2010',\n",
       "   'favourites_count': 64,\n",
       "   'utc_offset': None,\n",
       "   'time_zone': None,\n",
       "   'geo_enabled': True,\n",
       "   'verified': False,\n",
       "   'statuses_count': 657,\n",
       "   'lang': None,\n",
       "   'contributors_enabled': False,\n",
       "   'is_translator': False,\n",
       "   'is_translation_enabled': False,\n",
       "   'profile_background_color': '131516',\n",
       "   'profile_background_image_url': 'http://abs.twimg.com/images/themes/theme14/bg.gif',\n",
       "   'profile_background_image_url_https': 'https://abs.twimg.com/images/themes/theme14/bg.gif',\n",
       "   'profile_background_tile': True,\n",
       "   'profile_image_url': 'http://pbs.twimg.com/profile_images/3579839492/d628bdf600163a0732e536f1aa2d898f_normal.jpeg',\n",
       "   'profile_image_url_https': 'https://pbs.twimg.com/profile_images/3579839492/d628bdf600163a0732e536f1aa2d898f_normal.jpeg',\n",
       "   'profile_banner_url': 'https://pbs.twimg.com/profile_banners/206941162/1447299404',\n",
       "   'profile_link_color': '009999',\n",
       "   'profile_sidebar_border_color': 'EEEEEE',\n",
       "   'profile_sidebar_fill_color': 'EFEFEF',\n",
       "   'profile_text_color': '333333',\n",
       "   'profile_use_background_image': True,\n",
       "   'has_extended_profile': False,\n",
       "   'default_profile': False,\n",
       "   'default_profile_image': False,\n",
       "   'following': False,\n",
       "   'live_following': False,\n",
       "   'follow_request_sent': False,\n",
       "   'notifications': False,\n",
       "   'muting': False,\n",
       "   'blocking': False,\n",
       "   'blocked_by': False,\n",
       "   'translator_type': 'none'},\n",
       "  {'id': 11103092,\n",
       "   'id_str': '11103092',\n",
       "   'name': 'Doug Jennewein',\n",
       "   'screen_name': 'djennewe',\n",
       "   'location': '',\n",
       "   'url': None,\n",
       "   'description': 'Amateur scientician',\n",
       "   'protected': False,\n",
       "   'followers_count': 154,\n",
       "   'friends_count': 923,\n",
       "   'listed_count': 3,\n",
       "   'created_at': 'Wed Dec 12 21:05:38 +0000 2007',\n",
       "   'favourites_count': 2078,\n",
       "   'utc_offset': None,\n",
       "   'time_zone': None,\n",
       "   'geo_enabled': False,\n",
       "   'verified': False,\n",
       "   'statuses_count': 1393,\n",
       "   'lang': None,\n",
       "   'contributors_enabled': False,\n",
       "   'is_translator': False,\n",
       "   'is_translation_enabled': False,\n",
       "   'profile_background_color': 'C0DEED',\n",
       "   'profile_background_image_url': 'http://abs.twimg.com/images/themes/theme1/bg.png',\n",
       "   'profile_background_image_url_https': 'https://abs.twimg.com/images/themes/theme1/bg.png',\n",
       "   'profile_background_tile': False,\n",
       "   'profile_image_url': 'http://pbs.twimg.com/profile_images/627285761054760960/l_FqTHK4_normal.jpg',\n",
       "   'profile_image_url_https': 'https://pbs.twimg.com/profile_images/627285761054760960/l_FqTHK4_normal.jpg',\n",
       "   'profile_banner_url': 'https://pbs.twimg.com/profile_banners/11103092/1469145821',\n",
       "   'profile_link_color': '1DA1F2',\n",
       "   'profile_sidebar_border_color': 'C0DEED',\n",
       "   'profile_sidebar_fill_color': 'DDEEF6',\n",
       "   'profile_text_color': '333333',\n",
       "   'profile_use_background_image': True,\n",
       "   'has_extended_profile': False,\n",
       "   'default_profile': True,\n",
       "   'default_profile_image': False,\n",
       "   'following': False,\n",
       "   'live_following': False,\n",
       "   'follow_request_sent': False,\n",
       "   'notifications': False,\n",
       "   'muting': False,\n",
       "   'blocking': False,\n",
       "   'blocked_by': False,\n",
       "   'translator_type': 'none'},\n",
       "  {'id': 1045679211283959808,\n",
       "   'id_str': '1045679211283959808',\n",
       "   'name': 'Alexander Wood, PhD',\n",
       "   'screen_name': 'woodalexandern',\n",
       "   'location': 'Ann Arbor, MI',\n",
       "   'url': None,\n",
       "   'description': 'Computational medicine. Research Fellow, BCIL @umichmedicine. PhD in Comp. Sci. from @GC_CUNY, MS in Pure Math from @DepaulU. Transgender scientist.',\n",
       "   'protected': False,\n",
       "   'followers_count': 63,\n",
       "   'friends_count': 209,\n",
       "   'listed_count': 1,\n",
       "   'created_at': 'Fri Sep 28 14:18:46 +0000 2018',\n",
       "   'favourites_count': 265,\n",
       "   'utc_offset': None,\n",
       "   'time_zone': None,\n",
       "   'geo_enabled': True,\n",
       "   'verified': False,\n",
       "   'statuses_count': 115,\n",
       "   'lang': None,\n",
       "   'contributors_enabled': False,\n",
       "   'is_translator': False,\n",
       "   'is_translation_enabled': False,\n",
       "   'profile_background_color': 'F5F8FA',\n",
       "   'profile_background_image_url': None,\n",
       "   'profile_background_image_url_https': None,\n",
       "   'profile_background_tile': False,\n",
       "   'profile_image_url': 'http://pbs.twimg.com/profile_images/1129437331566530562/BZyIdu6v_normal.jpg',\n",
       "   'profile_image_url_https': 'https://pbs.twimg.com/profile_images/1129437331566530562/BZyIdu6v_normal.jpg',\n",
       "   'profile_banner_url': 'https://pbs.twimg.com/profile_banners/1045679211283959808/1558113885',\n",
       "   'profile_link_color': '1DA1F2',\n",
       "   'profile_sidebar_border_color': 'C0DEED',\n",
       "   'profile_sidebar_fill_color': 'DDEEF6',\n",
       "   'profile_text_color': '333333',\n",
       "   'profile_use_background_image': True,\n",
       "   'has_extended_profile': True,\n",
       "   'default_profile': True,\n",
       "   'default_profile_image': False,\n",
       "   'following': False,\n",
       "   'live_following': False,\n",
       "   'follow_request_sent': False,\n",
       "   'notifications': False,\n",
       "   'muting': False,\n",
       "   'blocking': False,\n",
       "   'blocked_by': False,\n",
       "   'translator_type': 'none'}],\n",
       " 'next_cursor': 1630531871584572774,\n",
       " 'next_cursor_str': '1630531871584572774',\n",
       " 'previous_cursor': 0,\n",
       " 'previous_cursor_str': '0',\n",
       " 'total_count': None}"
      ]
     },
     "execution_count": 13,
     "metadata": {},
     "output_type": "execute_result"
    }
   ],
   "source": [
    "followers = twtr.followers.list(screen_name=screen_name, skip_status=True, include_user_entities=False)\n",
    "followers"
   ]
  },
  {
   "cell_type": "markdown",
   "metadata": {},
   "source": [
    "Print out the __screen name__ and the __description__ of the followers."
   ]
  },
  {
   "cell_type": "code",
   "execution_count": 14,
   "metadata": {},
   "outputs": [
    {
     "name": "stdout",
     "output_type": "stream",
     "text": [
      "0 nathanjvaughn Interested in HPC, renewable energy, cryptocurrencies.\n",
      "1 Patrick_Y_Wu poli sci grad student @UMich, studying political methods\n",
      "2 AESPORIA if (artistic_purpose == artistic_identity):\n",
      "3 um_midas MIDAS catalyzes data science through support for faculty, research, education and training, and industry engagement\n",
      "4 notinorbit New account, old me. InfoSec pro @umisr. Opinions are my own.\n",
      "5 fountain79 Dreamer. Planner. Community Builder. Encourager. Singer. Dancer. Dog lover. Enthusiastically Mediocre Golfer.\n",
      "6 pfschus President's Postdoctoral Fellow in Michigan NERS department. Interested in nuclear science, radiation detectors, national security, running, and pizza 🍕\n",
      "7 willard125 Family man, world traveler, runner, home brewer, gamer. Torn between Colorado & Michigan.\n",
      "8 CSMissThomas1 Miss Thomas 🌼 Computer Science Teacher 👩🏽‍🏫 Running, Countryside & Dog Walks with my Frenchie 🐾  Currently Second in Dept, new adventure from September 💭\n",
      "9 UM_MICDE MICDE is the focal point for the wide spectrum of research in computational science and engineering at the University of Michigan.\n",
      "10 TheWebConf The Web Conference Series (formerly WWW) ||  #TheWebConf\n",
      "11 umichCREES Center for Russian, East European, and Eurasian Studies at the University of Michigan - including Copernicus Program in Polish Studies as #UMichPolish\n",
      "12 occhiphaura Learning coding in #javascript. Interested in #machinelearning and #ai.\n",
      "13 mrmiller1972 Catholic. husband. hockey dad. @bgsu grad. university technologist #ConfigMgr, #Intune and #PowerShell. Posts are my views, not my employer's.\n",
      "14 lions11b1 Across the globe, Lions are rolling up their sleeves and taking action. With over 1.4 million members, we're the largest service organization in the world.\n",
      "15 uofmbec The University of Michigan Business Engagement Center serves as a portal for companies to access student talent, research expertise, technology, and more.\n",
      "16 WML_Software Printer & Document Management Solutions | WML is also the premium partner of #NoMachine in the UK @NXFollowers\n",
      "17 kypo7409 Work hard, Play hard\n",
      "18 djennewe Amateur scientician\n",
      "19 woodalexandern Computational medicine. Research Fellow, BCIL @umichmedicine. PhD in Comp. Sci. from @GC_CUNY, MS in Pure Math from @DepaulU. Transgender scientist.\n"
     ]
    }
   ],
   "source": [
    "for i, user in enumerate(followers['users']):\n",
    "    print(i, user['screen_name'], user['description'])"
   ]
  },
  {
   "cell_type": "markdown",
   "metadata": {},
   "source": [
    "To iterate beyond 20 (or whatever you initially asked for), use the key `next_cursor` from the initial result along with the `cursor` argument. Think of it as Page 2. Repeat as necessary (see example below for complete acquisition)."
   ]
  },
  {
   "cell_type": "code",
   "execution_count": 15,
   "metadata": {},
   "outputs": [
    {
     "name": "stdout",
     "output_type": "stream",
     "text": [
      "20 cronanmcnamara Founder & CEO @cremeglobal & @PredictConf. We deliver the world class @expertmodels. Boards: @technology_irl and @GovDataIE.\n",
      "21 allisonroessler Chemistry, Theory, Mechanochem, Polymers, SciComm, ChemEd, Health, Science. Living that Grad School Life. ✌🏻Go Blue!\n",
      "22 UM_PSC The University of Michigan's Population Studies Center, established in 1961, is an interdisciplinary community of scholars in population research and training.\n",
      "23 sash_mu Biologist & writer.\n",
      "24 UMIOE We excel at analyzing and shaping all types of systems to help solve local and global challenges.\n",
      "25 cnfan99 \n",
      "26 RDCrawford26 PhD student @UMich studying bioinfomatics. @umichsph alum.  R/C++. Interested in genomics, antibiotic resistance, evolution, IPAs, and trail running.\n",
      "27 Maggieyuyaoliu \n",
      "28 MarioAndreWO Músico, professor e pesquisador.\n",
      "29 f_greve Phd student UW-Madison\n",
      "30 evagro Somewhere between idiot and scholar. Generally not the 1⃣, but sometimes that 🐝. I am into birds and I know how to fly in my dreams. 🦉\n",
      "31 LouWassel Detroiter via birth, education, occupation and avocation.\n",
      "32 angelaxocampo @umichLSA Collegiate Fellow in Political Science. @UCLA PhD. @BrownUniversity Alumna. American Politics, Latino Politics, Race, Ethnicity & Politics.\n",
      "33 UMichMCIRCC The Michigan Center for Integrative Research in Critical Care is dedicated to transforming critical care medicine by accelerating science from bench to bedside.\n",
      "34 umtweetdata The U-M research community @UMich tweets about its use of Twitter data in research and analytics\n",
      "35 Beege1117 \n",
      "36 HamidGhanbariMD Cardiac Electrophysiologist, Vice-chair of Innovation, Clinical Researcher, Educator, University of Michigan\n",
      "37 bookofcara Digital marketing strategist in #HigherEd @UMengineering #socialmedia #MSUPW ‘12 #LGBTQ noted celebrity taco\n",
      "38 claytonyochum views barely mine much less anyone else's | give me #rstats or give me death | Data Stuff @PsiKick | Co-organizer @AnnArborRUsers\n",
      "39 MattWangHan PhD student at UMich\n"
     ]
    }
   ],
   "source": [
    "followers = twtr.followers.list(screen_name=screen_name, cursor=followers['next_cursor'], skip_status=True, include_user_entities=False, )\n",
    "for i, user in enumerate(followers['users'], start=i+1):\n",
    "    print(i, user['screen_name'], user['description'])"
   ]
  },
  {
   "cell_type": "markdown",
   "metadata": {},
   "source": [
    "## Get a list of Following"
   ]
  },
  {
   "cell_type": "markdown",
   "metadata": {},
   "source": [
    "Use the `friends.list` method to see who a given user is following. Returns a default of 20 results. Can set value up to 200 using the `count` argument."
   ]
  },
  {
   "cell_type": "code",
   "execution_count": 16,
   "metadata": {},
   "outputs": [
    {
     "name": "stdout",
     "output_type": "stream",
     "text": [
      "0 umsi The University of Michigan School of Information creates and shares knowledge so that people will use information -- with technology -- to build a better world.\n",
      "1 chihiroABO Researcher @UMich,@UM_Genetics. Engineer turned Geneticist,Data Scientist. Troublemaker/Troubleshooter. Dog lover. Fave color:Blue. Opinions of my own...\n",
      "2 EdwardTufte Statistician,visualizer,artist. Professor PoliSci, Statistics,CompSci Yale+Princeton 33 years. Founded Graphics Press, Hogpen Hill Tree Farms, ET Modern Gallery\n",
      "3 UMichLaw The world needs lawyers. And Leaders. And Victors. This is where they are made. #LeadersAndBest   • http://fb.me/umichlaw  (Retweets not endorsements.)\n",
      "4 CBSSM CBSSM focuses on clinical & research ethics, health communication & decision making, CBPR, and ELSI of genomics and much more.\n",
      "5 KayteSB Law & bioethics, Assistant Professor @umichmedicine & @CBSSM. Former @bioethicsgov. @PennLaw @UPenn_MedEthics @Middlebury alumna #researchethics (views own)\n",
      "6 WNicholsonPrice Innovation in life sciences; cook; sci-fi lover; prof @UmichLaw\n",
      "7 m_cragin Exec Director, Midwest Big Data Hub\n",
      "RTs ≠ endorsement.\n",
      "8 BrendanNyhan @UMich @fordschool @umisrcps professor, @UpshotNYT contributor, @BrightLineWatch co-organizer. Before: @dartmouth / @CJR / Spinsanity / All the President's Spin\n",
      "9 Ceph Ceph is a massively scalable, open source, distributed storage system. It is comprised of an object store, block store, and a distributed file system. ￼￼🦑\n",
      "10 SIGHPC Official feed for the ACM Special Interest Group on High Performance Computing.\n",
      "11 sciencegateways We provide NSF-funded, online & in-person resources & services to facilitate the sharing of gateway experiences, technologies, & practices at little or no cost.\n",
      "12 globus Globus is SaaS for big data management – researchers use Globus for fast, secure, reliable file transfer, sharing, and data publication.\n",
      "13 YvonneW6463 Denver based gregarious partner & customer relations professional\n",
      "14 meza_rafa Associate Professor @umichsph | Program Leader @UMRogelCancer | Math hombre and cancer epidemiologist working on disease prevention and control | Proud Mexican\n",
      "15 emilymprovost Associate Professor, Computer Science and Engineering, University of Michigan - interested in applied machine learning, speech, and human behavior\n",
      "16 JohnsenSCFPL News from Eric Johnsen’s Scientific Computing and Flow Physics Laboratory at #umich\n",
      "17 UMassDataSci Center for Data Science, College of Information and Computer Sciences, UMass Amherst\n",
      "18 UM_MiCHAMP MiCHAMP is a multi-disciplinary group of data scientists, informaticians, & clinicians coming together to transform patient care at the University of Michigan.\n",
      "19 Dropbox Keep teams flowing with Dropbox. Need support? Head to @DropboxSupport.\n"
     ]
    }
   ],
   "source": [
    "following = twtr.friends.list(screen_name=screen_name, skip_status=True, include_user_entities=False)\n",
    "for i, user in enumerate(following['users']):\n",
    "    print(i, user['screen_name'], user['description'])"
   ]
  },
  {
   "cell_type": "markdown",
   "metadata": {},
   "source": [
    "Same function argument to access \"Page 2\" of the results as in the followers example."
   ]
  },
  {
   "cell_type": "markdown",
   "metadata": {},
   "source": [
    "## Cross Reference Followers and Following"
   ]
  },
  {
   "cell_type": "markdown",
   "metadata": {},
   "source": [
    "Here is some example code to cross reference the two lists to see which relationships are reciprocated."
   ]
  },
  {
   "cell_type": "markdown",
   "metadata": {},
   "source": [
    "This function appends a list of users to an existing list."
   ]
  },
  {
   "cell_type": "code",
   "execution_count": 17,
   "metadata": {},
   "outputs": [],
   "source": [
    "def append_users(f, list_users):\n",
    "    for user in f['users']:\n",
    "        list_users.append(user['screen_name'])\n",
    "    return list_users"
   ]
  },
  {
   "cell_type": "markdown",
   "metadata": {},
   "source": [
    "Grab entire list of followers."
   ]
  },
  {
   "cell_type": "code",
   "execution_count": 18,
   "metadata": {},
   "outputs": [
    {
     "name": "stdout",
     "output_type": "stream",
     "text": [
      "There are 598 followers\n"
     ]
    }
   ],
   "source": [
    "followers = {}\n",
    "followers['next_cursor'] = -1\n",
    "lemmings = []\n",
    "while (followers['next_cursor'] != 0):\n",
    "    followers = twtr.followers.list(screen_name=screen_name, count=200, cursor=followers['next_cursor'])\n",
    "    lemmings = append_users(followers, lemmings)\n",
    "print(f'There are {len(lemmings)} followers')"
   ]
  },
  {
   "cell_type": "code",
   "execution_count": 19,
   "metadata": {},
   "outputs": [
    {
     "data": {
      "text/plain": [
       "['nathanjvaughn',\n",
       " 'Patrick_Y_Wu',\n",
       " 'AESPORIA',\n",
       " 'um_midas',\n",
       " 'notinorbit',\n",
       " 'fountain79',\n",
       " 'pfschus',\n",
       " 'willard125',\n",
       " 'CSMissThomas1',\n",
       " 'UM_MICDE']"
      ]
     },
     "execution_count": 19,
     "metadata": {},
     "output_type": "execute_result"
    }
   ],
   "source": [
    "lemmings[:10]"
   ]
  },
  {
   "cell_type": "markdown",
   "metadata": {},
   "source": [
    "Grab entire list of following."
   ]
  },
  {
   "cell_type": "code",
   "execution_count": 20,
   "metadata": {
    "scrolled": true
   },
   "outputs": [
    {
     "name": "stdout",
     "output_type": "stream",
     "text": [
      "Following 186 accounts.\n"
     ]
    }
   ],
   "source": [
    "following = {}\n",
    "following['next_cursor'] = -1\n",
    "leaders = []\n",
    "while (following['next_cursor'] != 0):\n",
    "    following = twtr.friends.list(screen_name=screen_name, count=200, cursor=following['next_cursor'])\n",
    "    leaders = append_users(following, leaders)\n",
    "print(f'Following {len(leaders)} accounts.')"
   ]
  },
  {
   "cell_type": "markdown",
   "metadata": {},
   "source": [
    "Find the intersection of the two groups using a set operations."
   ]
  },
  {
   "cell_type": "code",
   "execution_count": 21,
   "metadata": {},
   "outputs": [
    {
     "name": "stdout",
     "output_type": "stream",
     "text": [
      "86 {'nswigginton', 'uclbdi', 'UM_MiCHAMP', 'ARCTS_UM', 'UMLifeSciences', 'icermsu', 'SOCRedu', 'mdst_umich', 'AmberHarmon', 'oliviawalch', 'umichgradschool', 'umichrna', 'UM_IHPI', 'russellfunk', 'dankessler', 'umichTECH', 'open_michigan', 'umichFFMI', 'BloodFlowSim', 'UMengineering', 'EECSatMI', 'UMPublicAffairs', 'MarsdenStanford', 'uwescience', 'brockpalen', 'tfinholt', 'JohnsenSCFPL', 'tonymarkel', 'NUITResearch', 'Prof_DavidBader', 'thanss', 'MichEnergy', 'm_cragin', 'UMCAIM', 'umisr', 'YottabyteLLC', 'MWBigDataHub', 'urcmich', 'francescadomin8', 'KirkDBorne', 'UMich_CRLT', 'jhallum', 'UMichiganNews', 'TDataScience', 'UMichResearch', 'sgowtham', 'astrocurry', 'UMichiganAI', 'YvonneW6463', 'ConversationUS', 'sciencegateways', 'schelcj', 'BrendanNyhan', 'aulia_khamas', 'denizbilman', 'MrBobbyTables', 'colbrydi', 'jeefy', 'nanoHUBnews', 'UMassDataSci', 'mcarrt', 'vcollab', 'PurdueRCAC', 'emilymprovost', 'dmaletta', 'IllinoisIHSI', 'ncm140', 'BonezNQuality', 'chihiroABO', 'NYUDataScience', 'XSEDEscience', 'CASC_HPC', 'DanEklund_UMich', 'UMich', 'cjantonelli', 'jesse_caps', 'umsi', 'MoiraCAD', 'SBroudeGeva', 'ljdursi', 'QLogic', 'umichmedicine', 'peh3iii', 'PRACE_RI', 'SciNode', 'danabrunson'}\n"
     ]
    }
   ],
   "source": [
    "lemmings = set(lemmings)\n",
    "leaders = set(leaders)\n",
    "relationship = leaders.intersection(lemmings)\n",
    "print(len(relationship), relationship)"
   ]
  },
  {
   "cell_type": "markdown",
   "metadata": {},
   "source": [
    "## Search for Trends by Where on Earth (WOE) ID"
   ]
  },
  {
   "cell_type": "markdown",
   "metadata": {},
   "source": [
    "Use the `trends.place` method to get a list of trending topics for a given location. The location is specified using the WOE ID.  \n",
    "A WOE ID is a unique identifier for a place on Earth. "
   ]
  },
  {
   "cell_type": "markdown",
   "metadata": {},
   "source": [
    "Here is a dictionary of places and WOE IDs."
   ]
  },
  {
   "cell_type": "code",
   "execution_count": 22,
   "metadata": {},
   "outputs": [],
   "source": [
    "woeid = {'World':1, 'USA':23424977, 'San Francisco':2487956, 'Los Angeles':2442047,\n",
    "         'Canada':23424775, 'Toronto':4118, 'Montreal':3534,\n",
    "         'United Kingdom':23424975, 'Germany':23424829}"
   ]
  },
  {
   "cell_type": "markdown",
   "metadata": {},
   "source": [
    "Searching for trends by WOE ID is analagous to searching for YouTube videos by Region Code."
   ]
  },
  {
   "cell_type": "code",
   "execution_count": 23,
   "metadata": {},
   "outputs": [],
   "source": [
    "woe_trends = twtr.trends.place(_id=woeid['Canada'])"
   ]
  },
  {
   "cell_type": "code",
   "execution_count": 24,
   "metadata": {},
   "outputs": [
    {
     "data": {
      "text/plain": [
       "[{'trends': [{'name': '#FridayFeeling',\n",
       "    'url': 'http://twitter.com/search?q=%23FridayFeeling',\n",
       "    'promoted_content': None,\n",
       "    'query': '%23FridayFeeling',\n",
       "    'tweet_volume': 85943},\n",
       "   {'name': 'Theresa May',\n",
       "    'url': 'http://twitter.com/search?q=%22Theresa+May%22',\n",
       "    'promoted_content': None,\n",
       "    'query': '%22Theresa+May%22',\n",
       "    'tweet_volume': 592409},\n",
       "   {'name': 'Cindy Gladue',\n",
       "    'url': 'http://twitter.com/search?q=%22Cindy+Gladue%22',\n",
       "    'promoted_content': None,\n",
       "    'query': '%22Cindy+Gladue%22',\n",
       "    'tweet_volume': None},\n",
       "   {'name': '#TOTechSummit',\n",
       "    'url': 'http://twitter.com/search?q=%23TOTechSummit',\n",
       "    'promoted_content': None,\n",
       "    'query': '%23TOTechSummit',\n",
       "    'tweet_volume': None},\n",
       "   {'name': '#FridayThoughts',\n",
       "    'url': 'http://twitter.com/search?q=%23FridayThoughts',\n",
       "    'promoted_content': None,\n",
       "    'query': '%23FridayThoughts',\n",
       "    'tweet_volume': 36294},\n",
       "   {'name': '#SonicMovie',\n",
       "    'url': 'http://twitter.com/search?q=%23SonicMovie',\n",
       "    'promoted_content': None,\n",
       "    'query': '%23SonicMovie',\n",
       "    'tweet_volume': None},\n",
       "   {'name': '#FridaysForFuture',\n",
       "    'url': 'http://twitter.com/search?q=%23FridaysForFuture',\n",
       "    'promoted_content': None,\n",
       "    'query': '%23FridaysForFuture',\n",
       "    'tweet_volume': 92128},\n",
       "   {'name': 'Modern Warfare',\n",
       "    'url': 'http://twitter.com/search?q=%22Modern+Warfare%22',\n",
       "    'promoted_content': None,\n",
       "    'query': '%22Modern+Warfare%22',\n",
       "    'tweet_volume': 13656},\n",
       "   {'name': 'Adam Levine',\n",
       "    'url': 'http://twitter.com/search?q=%22Adam+Levine%22',\n",
       "    'promoted_content': None,\n",
       "    'query': '%22Adam+Levine%22',\n",
       "    'tweet_volume': None},\n",
       "   {'name': 'Bradley Barton',\n",
       "    'url': 'http://twitter.com/search?q=%22Bradley+Barton%22',\n",
       "    'promoted_content': None,\n",
       "    'query': '%22Bradley+Barton%22',\n",
       "    'tweet_volume': None},\n",
       "   {'name': 'Boris Johnson',\n",
       "    'url': 'http://twitter.com/search?q=%22Boris+Johnson%22',\n",
       "    'promoted_content': None,\n",
       "    'query': '%22Boris+Johnson%22',\n",
       "    'tweet_volume': 78134},\n",
       "   {'name': 'Everest',\n",
       "    'url': 'http://twitter.com/search?q=Everest',\n",
       "    'promoted_content': None,\n",
       "    'query': 'Everest',\n",
       "    'tweet_volume': 55093},\n",
       "   {'name': 'Pristin',\n",
       "    'url': 'http://twitter.com/search?q=Pristin',\n",
       "    'promoted_content': None,\n",
       "    'query': 'Pristin',\n",
       "    'tweet_volume': 451783},\n",
       "   {'name': 'Toronto Islands',\n",
       "    'url': 'http://twitter.com/search?q=%22Toronto+Islands%22',\n",
       "    'promoted_content': None,\n",
       "    'query': '%22Toronto+Islands%22',\n",
       "    'tweet_volume': None},\n",
       "   {'name': 'Naomi Wolf',\n",
       "    'url': 'http://twitter.com/search?q=%22Naomi+Wolf%22',\n",
       "    'promoted_content': None,\n",
       "    'query': '%22Naomi+Wolf%22',\n",
       "    'tweet_volume': None},\n",
       "   {'name': 'Pledis',\n",
       "    'url': 'http://twitter.com/search?q=Pledis',\n",
       "    'promoted_content': None,\n",
       "    'query': 'Pledis',\n",
       "    'tweet_volume': 420199},\n",
       "   {'name': 'BoJo',\n",
       "    'url': 'http://twitter.com/search?q=BoJo',\n",
       "    'promoted_content': None,\n",
       "    'query': 'BoJo',\n",
       "    'tweet_volume': None},\n",
       "   {'name': 'Gwen',\n",
       "    'url': 'http://twitter.com/search?q=Gwen',\n",
       "    'promoted_content': None,\n",
       "    'query': 'Gwen',\n",
       "    'tweet_volume': 12092},\n",
       "   {'name': 'Spec',\n",
       "    'url': 'http://twitter.com/search?q=Spec',\n",
       "    'promoted_content': None,\n",
       "    'query': 'Spec',\n",
       "    'tweet_volume': None},\n",
       "   {'name': 'David Cameron',\n",
       "    'url': 'http://twitter.com/search?q=%22David+Cameron%22',\n",
       "    'promoted_content': None,\n",
       "    'query': '%22David+Cameron%22',\n",
       "    'tweet_volume': 16526},\n",
       "   {'name': 'british pm',\n",
       "    'url': 'http://twitter.com/search?q=%22british+pm%22',\n",
       "    'promoted_content': None,\n",
       "    'query': '%22british+pm%22',\n",
       "    'tweet_volume': None},\n",
       "   {'name': 'Big Mary',\n",
       "    'url': 'http://twitter.com/search?q=%22Big+Mary%22',\n",
       "    'promoted_content': None,\n",
       "    'query': '%22Big+Mary%22',\n",
       "    'tweet_volume': None},\n",
       "   {'name': '#ClimateStrike',\n",
       "    'url': 'http://twitter.com/search?q=%23ClimateStrike',\n",
       "    'promoted_content': None,\n",
       "    'query': '%23ClimateStrike',\n",
       "    'tweet_volume': 51118},\n",
       "   {'name': '#FridayMotivation',\n",
       "    'url': 'http://twitter.com/search?q=%23FridayMotivation',\n",
       "    'promoted_content': None,\n",
       "    'query': '%23FridayMotivation',\n",
       "    'tweet_volume': 26882},\n",
       "   {'name': '#JusticeForCindyGladue',\n",
       "    'url': 'http://twitter.com/search?q=%23JusticeForCindyGladue',\n",
       "    'promoted_content': None,\n",
       "    'query': '%23JusticeForCindyGladue',\n",
       "    'tweet_volume': None},\n",
       "   {'name': '#Barton',\n",
       "    'url': 'http://twitter.com/search?q=%23Barton',\n",
       "    'promoted_content': None,\n",
       "    'query': '%23Barton',\n",
       "    'tweet_volume': None},\n",
       "   {'name': '#StartupChats',\n",
       "    'url': 'http://twitter.com/search?q=%23StartupChats',\n",
       "    'promoted_content': None,\n",
       "    'query': '%23StartupChats',\n",
       "    'tweet_volume': None},\n",
       "   {'name': '#flashbackfriday',\n",
       "    'url': 'http://twitter.com/search?q=%23flashbackfriday',\n",
       "    'promoted_content': None,\n",
       "    'query': '%23flashbackfriday',\n",
       "    'tweet_volume': None},\n",
       "   {'name': '#pridewpg',\n",
       "    'url': 'http://twitter.com/search?q=%23pridewpg',\n",
       "    'promoted_content': None,\n",
       "    'query': '%23pridewpg',\n",
       "    'tweet_volume': None},\n",
       "   {'name': '#NewCoTor',\n",
       "    'url': 'http://twitter.com/search?q=%23NewCoTor',\n",
       "    'promoted_content': None,\n",
       "    'query': '%23NewCoTor',\n",
       "    'tweet_volume': None},\n",
       "   {'name': '#pbb8batch3bigfour',\n",
       "    'url': 'http://twitter.com/search?q=%23pbb8batch3bigfour',\n",
       "    'promoted_content': None,\n",
       "    'query': '%23pbb8batch3bigfour',\n",
       "    'tweet_volume': 163404},\n",
       "   {'name': '#RedForEd',\n",
       "    'url': 'http://twitter.com/search?q=%23RedForEd',\n",
       "    'promoted_content': None,\n",
       "    'query': '%23RedForEd',\n",
       "    'tweet_volume': None},\n",
       "   {'name': '#WE_ARE_SUPERHUMAN',\n",
       "    'url': 'http://twitter.com/search?q=%23WE_ARE_SUPERHUMAN',\n",
       "    'promoted_content': None,\n",
       "    'query': '%23WE_ARE_SUPERHUMAN',\n",
       "    'tweet_volume': 733130},\n",
       "   {'name': '#SMI2019',\n",
       "    'url': 'http://twitter.com/search?q=%23SMI2019',\n",
       "    'promoted_content': None,\n",
       "    'query': '%23SMI2019',\n",
       "    'tweet_volume': None},\n",
       "   {'name': '#QueenVictoria',\n",
       "    'url': 'http://twitter.com/search?q=%23QueenVictoria',\n",
       "    'promoted_content': None,\n",
       "    'query': '%23QueenVictoria',\n",
       "    'tweet_volume': None},\n",
       "   {'name': '#FridayReads',\n",
       "    'url': 'http://twitter.com/search?q=%23FridayReads',\n",
       "    'promoted_content': None,\n",
       "    'query': '%23FridayReads',\n",
       "    'tweet_volume': None},\n",
       "   {'name': '#PAKvAFG',\n",
       "    'url': 'http://twitter.com/search?q=%23PAKvAFG',\n",
       "    'promoted_content': None,\n",
       "    'query': '%23PAKvAFG',\n",
       "    'tweet_volume': None},\n",
       "   {'name': '#RaptorsNation',\n",
       "    'url': 'http://twitter.com/search?q=%23RaptorsNation',\n",
       "    'promoted_content': None,\n",
       "    'query': '%23RaptorsNation',\n",
       "    'tweet_volume': None},\n",
       "   {'name': '#FursuitFriday',\n",
       "    'url': 'http://twitter.com/search?q=%23FursuitFriday',\n",
       "    'promoted_content': None,\n",
       "    'query': '%23FursuitFriday',\n",
       "    'tweet_volume': None},\n",
       "   {'name': '#MemorialDayWeekend',\n",
       "    'url': 'http://twitter.com/search?q=%23MemorialDayWeekend',\n",
       "    'promoted_content': None,\n",
       "    'query': '%23MemorialDayWeekend',\n",
       "    'tweet_volume': 21879},\n",
       "   {'name': '#NewMusicFriday',\n",
       "    'url': 'http://twitter.com/search?q=%23NewMusicFriday',\n",
       "    'promoted_content': None,\n",
       "    'query': '%23NewMusicFriday',\n",
       "    'tweet_volume': None},\n",
       "   {'name': '#SweetSophia',\n",
       "    'url': 'http://twitter.com/search?q=%23SweetSophia',\n",
       "    'promoted_content': None,\n",
       "    'query': '%23SweetSophia',\n",
       "    'tweet_volume': None},\n",
       "   {'name': '#Repeal162',\n",
       "    'url': 'http://twitter.com/search?q=%23Repeal162',\n",
       "    'promoted_content': None,\n",
       "    'query': '%23Repeal162',\n",
       "    'tweet_volume': 15427},\n",
       "   {'name': '#SWCCan2019',\n",
       "    'url': 'http://twitter.com/search?q=%23SWCCan2019',\n",
       "    'promoted_content': None,\n",
       "    'query': '%23SWCCan2019',\n",
       "    'tweet_volume': None},\n",
       "   {'name': '#BikeToWorkDay',\n",
       "    'url': 'http://twitter.com/search?q=%23BikeToWorkDay',\n",
       "    'promoted_content': None,\n",
       "    'query': '%23BikeToWorkDay',\n",
       "    'tweet_volume': None},\n",
       "   {'name': '#FeelGoodFriday',\n",
       "    'url': 'http://twitter.com/search?q=%23FeelGoodFriday',\n",
       "    'promoted_content': None,\n",
       "    'query': '%23FeelGoodFriday',\n",
       "    'tweet_volume': None},\n",
       "   {'name': '#studentsuccess',\n",
       "    'url': 'http://twitter.com/search?q=%23studentsuccess',\n",
       "    'promoted_content': None,\n",
       "    'query': '%23studentsuccess',\n",
       "    'tweet_volume': None},\n",
       "   {'name': '#WritingCommnunity',\n",
       "    'url': 'http://twitter.com/search?q=%23WritingCommnunity',\n",
       "    'promoted_content': None,\n",
       "    'query': '%23WritingCommnunity',\n",
       "    'tweet_volume': None},\n",
       "   {'name': '#OpenParc',\n",
       "    'url': 'http://twitter.com/search?q=%23OpenParc',\n",
       "    'promoted_content': None,\n",
       "    'query': '%23OpenParc',\n",
       "    'tweet_volume': None},\n",
       "   {'name': '#MMIWG',\n",
       "    'url': 'http://twitter.com/search?q=%23MMIWG',\n",
       "    'promoted_content': None,\n",
       "    'query': '%23MMIWG',\n",
       "    'tweet_volume': None}],\n",
       "  'as_of': '2019-05-24T16:38:11Z',\n",
       "  'created_at': '2019-05-24T16:34:55Z',\n",
       "  'locations': [{'name': 'Canada', 'woeid': 23424775}]}]"
      ]
     },
     "execution_count": 24,
     "metadata": {},
     "output_type": "execute_result"
    }
   ],
   "source": [
    "woe_trends"
   ]
  },
  {
   "cell_type": "markdown",
   "metadata": {},
   "source": [
    "Print out top 10 trending topics with number of tweets"
   ]
  },
  {
   "cell_type": "code",
   "execution_count": 25,
   "metadata": {},
   "outputs": [
    {
     "name": "stdout",
     "output_type": "stream",
     "text": [
      "#FridayFeeling 85943\n",
      "Theresa May 592409\n",
      "Cindy Gladue None\n",
      "#TOTechSummit None\n",
      "#FridayThoughts 36294\n",
      "#SonicMovie None\n",
      "#FridaysForFuture 92128\n",
      "Modern Warfare 13656\n",
      "Adam Levine None\n",
      "Bradley Barton None\n"
     ]
    }
   ],
   "source": [
    "trends = woe_trends[0]['trends']\n",
    "for trend in trends[:10]:\n",
    "    print(trend['name'], trend['tweet_volume'])"
   ]
  },
  {
   "cell_type": "markdown",
   "metadata": {},
   "source": [
    "Here is a URL detailing the WOE ID's supported by Twitter.  \n",
    "https://twittercommunity.com/t/what-are-the-list-of-woeids-supported-by-twitter/8493/2.\n",
    "\n",
    "**Note**: Not all WOE IDs are supported by Twitter. Places like Ann Arbor or Michigan are not. Apparently not important enough :("
   ]
  },
  {
   "cell_type": "markdown",
   "metadata": {},
   "source": [
    "## Submit Your Own Tweet"
   ]
  },
  {
   "cell_type": "markdown",
   "metadata": {},
   "source": [
    "If you want to become an *evil trolling TwitterBot*, this is the first step towards darkness (although that would probably violate the use case you signed up for). Use the `statuses.update` method to start tweeting from Python."
   ]
  },
  {
   "cell_type": "code",
   "execution_count": 26,
   "metadata": {},
   "outputs": [
    {
     "data": {
      "text/plain": [
       "{'created_at': 'Fri May 24 16:38:11 +0000 2019',\n",
       " 'id': 1131962609438040064,\n",
       " 'id_str': '1131962609438040064',\n",
       " 'text': 'Python BotTweeting from the Twitter API workshop. Thanks #CSCAR, #UMTweetCon2019, @ARC_UM',\n",
       " 'truncated': False,\n",
       " 'entities': {'hashtags': [{'text': 'CSCAR', 'indices': [57, 63]},\n",
       "   {'text': 'UMTweetCon2019', 'indices': [65, 80]}],\n",
       "  'symbols': [],\n",
       "  'user_mentions': [{'screen_name': 'ARC_UM',\n",
       "    'name': 'ARCatUM',\n",
       "    'id': 393706761,\n",
       "    'id_str': '393706761',\n",
       "    'indices': [82, 89]}],\n",
       "  'urls': []},\n",
       " 'source': '<a href=\"http://cscar.research.umich.edu\" rel=\"nofollow\">CSCAR Twitter API Workshop</a>',\n",
       " 'in_reply_to_status_id': None,\n",
       " 'in_reply_to_status_id_str': None,\n",
       " 'in_reply_to_user_id': None,\n",
       " 'in_reply_to_user_id_str': None,\n",
       " 'in_reply_to_screen_name': None,\n",
       " 'user': {'id': 393706761,\n",
       "  'id_str': '393706761',\n",
       "  'name': 'ARCatUM',\n",
       "  'screen_name': 'ARC_UM',\n",
       "  'location': 'Ann Arbor, MI',\n",
       "  'description': 'Advanced computing resources and services for research, teaching and learning at the University of Michigan',\n",
       "  'url': 'http://t.co/TM2VijomUk',\n",
       "  'entities': {'url': {'urls': [{'url': 'http://t.co/TM2VijomUk',\n",
       "      'expanded_url': 'http://arc.umich.edu',\n",
       "      'display_url': 'arc.umich.edu',\n",
       "      'indices': [0, 22]}]},\n",
       "   'description': {'urls': []}},\n",
       "  'protected': False,\n",
       "  'followers_count': 598,\n",
       "  'friends_count': 186,\n",
       "  'listed_count': 67,\n",
       "  'created_at': 'Tue Oct 18 23:23:44 +0000 2011',\n",
       "  'favourites_count': 28,\n",
       "  'utc_offset': None,\n",
       "  'time_zone': None,\n",
       "  'geo_enabled': True,\n",
       "  'verified': False,\n",
       "  'statuses_count': 1924,\n",
       "  'lang': None,\n",
       "  'contributors_enabled': False,\n",
       "  'is_translator': False,\n",
       "  'is_translation_enabled': False,\n",
       "  'profile_background_color': 'DBDBDB',\n",
       "  'profile_background_image_url': 'http://abs.twimg.com/images/themes/theme1/bg.png',\n",
       "  'profile_background_image_url_https': 'https://abs.twimg.com/images/themes/theme1/bg.png',\n",
       "  'profile_background_tile': False,\n",
       "  'profile_image_url': 'http://pbs.twimg.com/profile_images/3539793499/6218609aa5e34ca252cc42cf2dc8f90c_normal.jpeg',\n",
       "  'profile_image_url_https': 'https://pbs.twimg.com/profile_images/3539793499/6218609aa5e34ca252cc42cf2dc8f90c_normal.jpeg',\n",
       "  'profile_link_color': 'DBAF00',\n",
       "  'profile_sidebar_border_color': 'FFFFFF',\n",
       "  'profile_sidebar_fill_color': '46729F',\n",
       "  'profile_text_color': '2E2E2E',\n",
       "  'profile_use_background_image': False,\n",
       "  'has_extended_profile': False,\n",
       "  'default_profile': False,\n",
       "  'default_profile_image': False,\n",
       "  'following': False,\n",
       "  'follow_request_sent': False,\n",
       "  'notifications': False,\n",
       "  'translator_type': 'none'},\n",
       " 'geo': None,\n",
       " 'coordinates': None,\n",
       " 'place': None,\n",
       " 'contributors': None,\n",
       " 'is_quote_status': False,\n",
       " 'retweet_count': 0,\n",
       " 'favorite_count': 0,\n",
       " 'favorited': False,\n",
       " 'retweeted': False,\n",
       " 'lang': 'en'}"
      ]
     },
     "execution_count": 26,
     "metadata": {},
     "output_type": "execute_result"
    }
   ],
   "source": [
    "twtr.statuses.update(status=\"Python BotTweeting from the Twitter API workshop. Thanks #CSCAR, #UMTweetCon2019, @ARC_UM\")"
   ]
  },
  {
   "cell_type": "markdown",
   "metadata": {},
   "source": [
    "Tweeting parameters can be found at  \n",
    "https://developer.twitter.com/en/docs/tweets/post-and-engage/api-reference/post-statuses-update"
   ]
  },
  {
   "cell_type": "markdown",
   "metadata": {},
   "source": [
    "If you've been counting, we've touched upon 6+ API endpoints out of the 100+ endpoints available."
   ]
  },
  {
   "cell_type": "markdown",
   "metadata": {
    "collapsed": true
   },
   "source": [
    "## Rate Limits"
   ]
  },
  {
   "cell_type": "markdown",
   "metadata": {},
   "source": [
    "Usage of the Twitter API is subject to rate limits which varies based on the endpoint.  \n",
    "Details can be found here at https://developer.twitter.com/en/docs/basics/rate-limits."
   ]
  },
  {
   "cell_type": "markdown",
   "metadata": {
    "collapsed": true
   },
   "source": [
    "# Twitter Streaming API"
   ]
  },
  {
   "cell_type": "markdown",
   "metadata": {},
   "source": [
    "The streaming API is used to collect tweets from the future. The streaming API provides a **sample** of the available Tweets. Polling and rate limits do NOT apply to the streaming API.\n",
    "\n",
    "See the [overview on how to Filter Realtime Tweets](https://developer.twitter.com/en/docs/tweets/filter-realtime/overview) to see what the standard API is lacking compared to the **Enterprise** version.\n",
    "\n",
    "Details on the public data streaming API can be found here at \n",
    "https://developer.twitter.com/en/docs/tweets/filter-realtime/api-reference/post-statuses-filter"
   ]
  },
  {
   "cell_type": "markdown",
   "metadata": {},
   "source": [
    "This code block is here so we can quickly restart the kernel if the streaming API is complaining about `Exceeded connection limit for user`."
   ]
  },
  {
   "cell_type": "code",
   "execution_count": 27,
   "metadata": {},
   "outputs": [],
   "source": [
    "consumerKey = os.getenv('consumerkey')\n",
    "consumerSecret = os.getenv('consumersecret')\n",
    "oauthToken = os.getenv('accesstoken')\n",
    "oauthTokenSecret = os.getenv('accesstokensecret')\n",
    "\n",
    "import twitter\n",
    "auth = twitter.OAuth(oauthToken, oauthTokenSecret, consumerKey, consumerSecret)"
   ]
  },
  {
   "cell_type": "markdown",
   "metadata": {},
   "source": [
    "We need to create a new API hand for streaming using our authentication. Only one standing connection per account is allowed to a public endpoint. We'll be using the public stream API which is specified in the domain argument."
   ]
  },
  {
   "cell_type": "code",
   "execution_count": 28,
   "metadata": {},
   "outputs": [],
   "source": [
    "twtr_stream = twitter.TwitterStream(auth=auth, domain=\"stream.twitter.com\")"
   ]
  },
  {
   "cell_type": "markdown",
   "metadata": {},
   "source": [
    "**Note**: You can NOT request every future Tweet through this API. That is referred to as the Firehose. It costs a lot of `$$$$$$$$`."
   ]
  },
  {
   "cell_type": "markdown",
   "metadata": {
    "collapsed": true
   },
   "source": [
    "## Search by Filter"
   ]
  },
  {
   "cell_type": "markdown",
   "metadata": {},
   "source": [
    "Stream searches are done with a delimited list of terms. A phrase may consist of one or more terms. Term ordering is ignored and searches are not case sensitive.\n",
    " \n",
    "spaces == logical ANDs (e.g. `\"Alex twitter\" == \"alex AND twitter\"`)  \n",
    "commas == logical ORs (e.g. `\"Alex, twitter\" == \"Alex OR twitter\"`)\n",
    "\n",
    "The text of the Tweet and some entity fields are considered for matches. Specifically:\n",
    "- the `text` attribute of the Tweet\n",
    "- `expanded_url` and `display_url` for links and media\n",
    "- `text` for hashtags\n",
    "- and `screen_name` for user mentions"
   ]
  },
  {
   "cell_type": "markdown",
   "metadata": {},
   "source": [
    "Use the `statuses.filter` method to create a streaming query."
   ]
  },
  {
   "cell_type": "code",
   "execution_count": 29,
   "metadata": {},
   "outputs": [],
   "source": [
    "iterator = twtr_stream.statuses.filter(track=\"michigan, tennis\")"
   ]
  },
  {
   "cell_type": "markdown",
   "metadata": {},
   "source": [
    "Use a `for` loop to get the generator to yield future results as they come in. I'm printing the fields (where applicable) that are being searched except time. The `break` command is to prevent it going on indefinitely.\n",
    "\n",
    "**Tip**: Use the stop button in the toolbar to prevent it from going to 100."
   ]
  },
  {
   "cell_type": "code",
   "execution_count": 30,
   "metadata": {
    "scrolled": true
   },
   "outputs": [
    {
     "name": "stdout",
     "output_type": "stream",
     "text": [
      "0 Time: Fri May 24 16:38:06 +0000 2019\n",
      "Tweet: Please @GovWhitmer do something about this injustice.\n",
      "Tweet URL: https://twitter.com/AHostileHomo/status/1131962589762732032\n",
      "\n",
      "\n",
      "1 Time: Fri May 24 16:38:07 +0000 2019\n",
      "Tweet: Drinking a Blonde Witch by @moorhousesbrew @ Cherry Tree Cricket &amp; Tennis Club — https://t.co/OGiZLP34gz\n",
      "Tweet URL: https://twitter.com/SimonJohnFish/status/1131962591872454662\n",
      "\n",
      "\n",
      "2 Time: Fri May 24 16:38:07 +0000 2019\n",
      "Tweet: Being black is truly an extreme sport😔😔😔. #JusticeforEsethu\n",
      "Tweet URL: https://twitter.com/pamelakhumalo11/status/1131962593642536960\n",
      "Hashtags: JusticeforEsethu\n",
      "\n",
      "\n",
      "3 Time: Fri May 24 16:38:07 +0000 2019\n",
      "Tweet: RT @BleacherReport: Juwan Howard is expected to sign with Michigan as their new HC, per @JonRothstein https://t.co/WXEw5MHUH2\n",
      "Tweet URL: https://twitter.com/_foodoverlove/status/1131962594066096129\n",
      "\n",
      "\n",
      "4 Time: Fri May 24 16:38:08 +0000 2019\n",
      "Tweet: RT @juiceboxmisha: He look like Will Smith on Hitch when he had that allergic reaction. 😭😭 https://t.co/QN0F6YNaFr\n",
      "Tweet URL: https://twitter.com/wterrence87/status/1131962595613847552\n",
      "\n",
      "\n",
      "5 Time: Fri May 24 16:38:09 +0000 2019\n",
      "Tweet: Bellflower (Calif.) St. John Bosco cornerback James Smith having productive spring evaluation period, looking to li… https://t.co/sLIOVnK3Ca\n",
      "Tweet URL: https://twitter.com/bangulo/status/1131962601351536642\n",
      "\n",
      "\n",
      "6 Time: Fri May 24 16:38:10 +0000 2019\n",
      "Tweet: RT @ava: Michael Thompson is now serving 40-60 years in a Michigan prison. His father, mother and son have died while he’s been behind bars…\n",
      "Tweet URL: https://twitter.com/bansheebabe/status/1131962602987360256\n",
      "\n",
      "\n"
     ]
    }
   ],
   "source": [
    "for i, tweet in enumerate(iterator):   \n",
    "    print(f\"{i} Time: {tweet['created_at']}\")\n",
    "    print(f\"Tweet: {tweet['text']}\")\n",
    "    print(f\"Tweet URL: https://twitter.com/{tweet['user']['screen_name']}/status/{tweet['id']}\")\n",
    "    if len(tweet['entities']['hashtags']) > 0:\n",
    "        print(f\"Hashtags: {tweet['entities']['hashtags'][0]['text']}\")\n",
    "    print(\"\\n\")\n",
    "    if i > 5:\n",
    "        break"
   ]
  },
  {
   "cell_type": "markdown",
   "metadata": {},
   "source": [
    "More details on the `tracks` request parameter can be found at https://developer.twitter.com/en/docs/tweets/filter-realtime/guides/basic-stream-parameters."
   ]
  },
  {
   "cell_type": "markdown",
   "metadata": {
    "collapsed": true
   },
   "source": [
    "## Search by Location"
   ]
  },
  {
   "cell_type": "markdown",
   "metadata": {},
   "source": [
    "Use the `locations` argument to specify a bounding box to search. The API will return all tweets whose location intersects the bounding box. This will return all tweets intersecting the New York City bounding box. "
   ]
  },
  {
   "cell_type": "code",
   "execution_count": 31,
   "metadata": {},
   "outputs": [
    {
     "name": "stdout",
     "output_type": "stream",
     "text": [
      "Time: Fri May 24 16:38:11 +0000 2019\n",
      "Tweet: https://t.co/i129MXH95s\n",
      "Coordinates: None\n",
      "BoundingBox: [[[-74.255641, 40.495865], [-74.255641, 40.91533], [-73.699793, 40.91533], [-73.699793, 40.495865]]]\n",
      "Name: New York, NY\n",
      "Type: admin\n",
      "Place ID: 27485069891a7938\n",
      "\n",
      "Time: Fri May 24 16:38:12 +0000 2019\n",
      "Tweet: It's my birthday today 💜💜💜💜 https://t.co/6q1rpxETwt\n",
      "Coordinates: None\n",
      "BoundingBox: [[[-74.026675, 40.683935], [-74.026675, 40.877483], [-73.910408, 40.877483], [-73.910408, 40.683935]]]\n",
      "Name: Manhattan, NY\n",
      "Type: city\n",
      "Place ID: 01a9a39529b27f36\n",
      "\n",
      "Time: Fri May 24 16:38:14 +0000 2019\n",
      "Tweet: Want to land a job like \"Enterprise Account Executive - Cybersecurity\" at AT&amp;T? Applicant tracking systems look for… https://t.co/frVbeAogq9\n",
      "Coordinates: {'type': 'Point', 'coordinates': [-74.6804, 40.669264]}\n",
      "BoundingBox: [[[-75.563587, 38.788657], [-75.563587, 41.357424], [-73.88506, 41.357424], [-73.88506, 38.788657]]]\n",
      "Name: New Jersey, USA\n",
      "Type: admin\n",
      "Place ID: 65b4760a2b411e11\n",
      "\n",
      "Time: Fri May 24 16:38:15 +0000 2019\n",
      "Tweet: JUST WANTED TO CLARIFY \"character flaw\" is not about fixing or changing!!!! each \"flaw\" we find in our own characte… https://t.co/cLK2LpzrEe\n",
      "Coordinates: None\n",
      "BoundingBox: [[[-74.026675, 40.683935], [-74.026675, 40.877483], [-73.910408, 40.877483], [-73.910408, 40.683935]]]\n",
      "Name: Manhattan, NY\n",
      "Type: city\n",
      "Place ID: 01a9a39529b27f36\n",
      "\n",
      "Time: Fri May 24 16:38:15 +0000 2019\n",
      "Tweet: Hoes Mad\n",
      "Coordinates: None\n",
      "BoundingBox: [[[-74.026675, 40.683935], [-74.026675, 40.877483], [-73.910408, 40.877483], [-73.910408, 40.683935]]]\n",
      "Name: Manhattan, NY\n",
      "Type: city\n",
      "Place ID: 01a9a39529b27f36\n",
      "\n"
     ]
    }
   ],
   "source": [
    "iterator = twtr_stream.statuses.filter(locations=\"-74,40,-73,41\")\n",
    "for i, tweet in enumerate(iterator, start=1):\n",
    "    print('Time: {}'.format(tweet['created_at']))\n",
    "    print('Tweet: {}'.format(tweet['text']))\n",
    "    print('Coordinates: {}'.format(tweet['coordinates']))\n",
    "    if tweet['place'] is not None:\n",
    "        print('BoundingBox: {}'.format(tweet['place']['bounding_box']['coordinates']))\n",
    "        print('Name: {}'.format(tweet['place']['full_name']))\n",
    "        print('Type: {}'.format(tweet['place']['place_type']))\n",
    "        print('Place ID: {}\\n'.format(tweet['place']['id']))\n",
    "    else:\n",
    "        print('')\n",
    "    if i > 4:\n",
    "        break"
   ]
  },
  {
   "cell_type": "markdown",
   "metadata": {},
   "source": [
    "Bounding boxes act like OR operators. They do not filter `track` parameters. So the following will either return football OR tweets from NYC. "
   ]
  },
  {
   "cell_type": "code",
   "execution_count": 32,
   "metadata": {},
   "outputs": [
    {
     "name": "stdout",
     "output_type": "stream",
     "text": [
      "Time: Fri May 24 16:38:15 +0000 2019\n",
      "Tweet: \"Valverde is being battered online for his philosophy. But it is not as if the Catalan club has played Pep-style fo… https://t.co/2sgxdt3M2C\n",
      "Coordinates: None\n",
      "\n",
      "Time: Fri May 24 16:38:15 +0000 2019\n",
      "Tweet: @tylerkeown badge of honor. football daddy frost wears it on his hat\n",
      "Coordinates: None\n",
      "\n",
      "Time: Fri May 24 16:38:15 +0000 2019\n",
      "Tweet: RT @caramelslays: My cousin just passed. 5 football scholarships. 17 yrs old making his mom proud. Killed over a video game. Please this ne…\n",
      "Coordinates: None\n",
      "\n",
      "Time: Fri May 24 16:38:16 +0000 2019\n",
      "Tweet: Swansea City chairman Trevor Birch on the American owners' 'end game' and his hardest task at the club #Swans https://t.co/yLIPn1EQUr\n",
      "Coordinates: None\n",
      "\n",
      "Time: Fri May 24 16:38:17 +0000 2019\n",
      "Tweet: RT @doomboi_: Stuart Little is a fucking tosser, he played football with humans and was disheartened when wasn’t able to play properly, wha…\n",
      "Coordinates: None\n",
      "\n"
     ]
    }
   ],
   "source": [
    "iterator = twtr_stream.statuses.filter(track=\"football\", locations=\"-74,40,-73,41\")\n",
    "for i, tweet in enumerate(iterator, start=1):\n",
    "    print('Time: {}'.format(tweet['created_at']))\n",
    "    print('Tweet: {}'.format(tweet['text']))\n",
    "    print('Coordinates: {}'.format(tweet['coordinates']))\n",
    "    if tweet['place'] is not None:\n",
    "        print('BoundingBox: {}'.format(tweet['place']['bounding_box']['coordinates']))\n",
    "        print('Name: {}'.format(tweet['place']['full_name']))\n",
    "        print('Type: {}'.format(tweet['place']['place_type']))\n",
    "        print('ID: {}\\n'.format(tweet['place']['id']))\n",
    "    else:\n",
    "        print('')\n",
    "    if i > 4:\n",
    "        break"
   ]
  },
  {
   "cell_type": "markdown",
   "metadata": {},
   "source": [
    "More details on the `locations` request parameter can be found at https://developer.twitter.com/en/docs/tweets/filter-realtime/guides/basic-stream-parameters."
   ]
  },
  {
   "cell_type": "markdown",
   "metadata": {},
   "source": [
    "## Twitter API Status"
   ]
  },
  {
   "cell_type": "markdown",
   "metadata": {},
   "source": [
    "Status of the API can be found at https://api.twitterstat.us/"
   ]
  },
  {
   "cell_type": "markdown",
   "metadata": {
    "collapsed": true
   },
   "source": [
    "## Saving the Tweets"
   ]
  },
  {
   "cell_type": "markdown",
   "metadata": {},
   "source": [
    "Once you have the tweets in hand, you can save it in JSON format to a:\n",
    "1. text file\n",
    "2. NoSQL database (MongoDB seems to be a popular choice)\n",
    "\n",
    "We won't cover saving in detail here because it is non-trivial to setup a MongoDB database (and requires admin privileges) within this workshop."
   ]
  },
  {
   "cell_type": "markdown",
   "metadata": {
    "collapsed": true
   },
   "source": [
    "### Text File"
   ]
  },
  {
   "cell_type": "markdown",
   "metadata": {},
   "source": [
    "To save a single tweet to a text file, use the `json` module with the `dumps` method with standard Python file I/O."
   ]
  },
  {
   "cell_type": "code",
   "execution_count": 33,
   "metadata": {},
   "outputs": [],
   "source": [
    "import json\n",
    "with open('tweet.txt','w') as fout:\n",
    "    fout.write(json.dumps(tweet, indent=2))"
   ]
  },
  {
   "cell_type": "markdown",
   "metadata": {
    "collapsed": true
   },
   "source": [
    "### MongoDB"
   ]
  },
  {
   "cell_type": "markdown",
   "metadata": {},
   "source": [
    "Below is a simple example of how to add a tweet to a MongoDB.\n",
    "\n",
    "**Tip**: Make sure MongoDB is running before running this snippet."
   ]
  },
  {
   "cell_type": "code",
   "execution_count": 34,
   "metadata": {},
   "outputs": [
    {
     "ename": "ModuleNotFoundError",
     "evalue": "No module named 'pymongo'",
     "output_type": "error",
     "traceback": [
      "\u001b[1;31m---------------------------------------------------------------------------\u001b[0m",
      "\u001b[1;31mModuleNotFoundError\u001b[0m                       Traceback (most recent call last)",
      "\u001b[1;32m<ipython-input-34-dff7ebd595a2>\u001b[0m in \u001b[0;36m<module>\u001b[1;34m()\u001b[0m\n\u001b[1;32m----> 1\u001b[1;33m \u001b[1;32mimport\u001b[0m \u001b[0mpymongo\u001b[0m\u001b[1;33m\u001b[0m\u001b[0m\n\u001b[0m\u001b[0;32m      2\u001b[0m \u001b[0mclient\u001b[0m \u001b[1;33m=\u001b[0m \u001b[0mpymongo\u001b[0m\u001b[1;33m.\u001b[0m\u001b[0mMongoClient\u001b[0m\u001b[1;33m(\u001b[0m\u001b[1;34m\"localhost\"\u001b[0m\u001b[1;33m,\u001b[0m \u001b[1;36m27017\u001b[0m\u001b[1;33m)\u001b[0m\u001b[1;33m\u001b[0m\u001b[0m\n\u001b[0;32m      3\u001b[0m \u001b[0mdb\u001b[0m \u001b[1;33m=\u001b[0m \u001b[0mclient\u001b[0m\u001b[1;33m.\u001b[0m\u001b[0mexample\u001b[0m\u001b[1;33m\u001b[0m\u001b[0m\n\u001b[0;32m      4\u001b[0m \u001b[0mdb\u001b[0m\u001b[1;33m.\u001b[0m\u001b[0mmy_collection\u001b[0m\u001b[1;33m\u001b[0m\u001b[0m\n",
      "\u001b[1;31mModuleNotFoundError\u001b[0m: No module named 'pymongo'"
     ]
    }
   ],
   "source": [
    "import pymongo\n",
    "client = pymongo.MongoClient(\"localhost\", 27017)\n",
    "db = client.example\n",
    "db.my_collection"
   ]
  },
  {
   "cell_type": "markdown",
   "metadata": {},
   "source": [
    "Insert a single tweet"
   ]
  },
  {
   "cell_type": "code",
   "execution_count": null,
   "metadata": {},
   "outputs": [],
   "source": [
    "db.my_collection.insert_one(tweet).inserted_id"
   ]
  },
  {
   "cell_type": "markdown",
   "metadata": {},
   "source": [
    "Lookup the single tweet"
   ]
  },
  {
   "cell_type": "code",
   "execution_count": null,
   "metadata": {},
   "outputs": [],
   "source": [
    "db.my_collection.find_one()"
   ]
  },
  {
   "cell_type": "markdown",
   "metadata": {
    "collapsed": true
   },
   "source": [
    "**Note**: There are additional steps besides the code shown to get MongoDB working. "
   ]
  },
  {
   "cell_type": "markdown",
   "metadata": {},
   "source": [
    "## Last Note: Library of Congress Twitter Archive"
   ]
  },
  {
   "cell_type": "markdown",
   "metadata": {},
   "source": [
    "The Library of Congress and Twitter have teamed up back in April 2010 to archive every single public tweet. Here's an journal article on the subject matter. http://firstmonday.org/article/view/5619/4653#p4. Initially, that was the plan. The Library of Congress had a change of heart in Dec 2017 and will only acquire very selective tweets from here on. Regardless, the archive has not been made public yet. "
   ]
  },
  {
   "cell_type": "code",
   "execution_count": null,
   "metadata": {},
   "outputs": [],
   "source": []
  }
 ],
 "metadata": {
  "anaconda-cloud": {},
  "kernelspec": {
   "display_name": "Python 3",
   "language": "python",
   "name": "python3"
  },
  "language_info": {
   "codemirror_mode": {
    "name": "ipython",
    "version": 3
   },
   "file_extension": ".py",
   "mimetype": "text/x-python",
   "name": "python",
   "nbconvert_exporter": "python",
   "pygments_lexer": "ipython3",
   "version": "3.6.6"
  }
 },
 "nbformat": 4,
 "nbformat_minor": 1
}
