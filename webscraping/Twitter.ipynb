{
 "cells": [
  {
   "cell_type": "markdown",
   "metadata": {},
   "source": [
    "# Twitter API"
   ]
  },
  {
   "cell_type": "markdown",
   "metadata": {},
   "source": [
    "You need to have a Twitter Developer Account before proceeding. If you don't have one, [check out these instructions](https://github.com/caocscar/twitter-create-developer-account)."
   ]
  },
  {
   "cell_type": "markdown",
   "metadata": {},
   "source": [
    "## Getting Twitter Credentials"
   ]
  },
  {
   "cell_type": "markdown",
   "metadata": {},
   "source": [
    "Twitter implements OAuth 1.0 as its authentication protocol. You'll need 4 credentials in order to use OAuth and make requests to Twitter's API.\n",
    "\n",
    "The four credentials (i.e. API key, API secret key, Access token and Access token secret) can be obtained on the Twitter developer site to access the API. The steps are as follows:\n",
    "\n",
    "- Go to https://developer.twitter.com/en/apps and create an application. \n",
    "- Enter a name/description/website for your application. You can use https://www.google.com for the website. You also need to describe how the app will be used. Agree to the Developer Terms and create your Twitter application.\n",
    "- Go to the *Keys and tokens* tab. You should be able to see your **Consumer Key** and **Consumer Secret**.\n",
    "- At the bottom of the page, click the button to create your own **Access Token** and **Access Token Secret**.\n",
    "\n",
    "**Note**: You can always revoke/regenerate your credentials or delete the application."
   ]
  },
  {
   "cell_type": "markdown",
   "metadata": {},
   "source": [
    "#### Now you are ready to start using the Twitter API."
   ]
  },
  {
   "cell_type": "markdown",
   "metadata": {},
   "source": [
    "# Postman Software for Non-Programmers"
   ]
  },
  {
   "cell_type": "markdown",
   "metadata": {},
   "source": [
    "Here is the [Postman homepage](https://www.getpostman.com/).  \n",
    "1. Download the software (Mac, Windows or Linux) https://www.getpostman.com/downloads/. I'll be using v7.1.1 for the workshop. \n",
    "2. Run the executable to install the software.\n",
    "3. Launch Postman\n",
    "4. (optional) You can sign in (using Google or creating a Postman account)"
   ]
  },
  {
   "cell_type": "markdown",
   "metadata": {},
   "source": [
    "Here is a blog on how to use Postman with Twitter. https://www.dataneb.com/blog/how-to-make-calls-to-twitter-apis-using-postman-client"
   ]
  },
  {
   "cell_type": "markdown",
   "metadata": {},
   "source": [
    "### Making a Twitter API Request\n",
    "1. Open a new GET request tab (if one is not already open)\n",
    "\n",
    "### Setting up Twitter Credentials\n",
    "\n",
    "2. Click on \"Authorization\" tab. Select \"type\" as `OAuth 1.0` and \"add authorization data to\" `Request Headers`.\n",
    "3. On the \"Authorization\" tab, you should see a spot to enter your four Twitter credentials we've previously acquired.\n",
    "4. Switch back to the \"Params\" tab.\n",
    "\n",
    "### Making GET Request\n",
    "5. Enter request URL with  https://api.twitter.com/1.1/account/verify_credentials.json?skip_status=true. This API returns information about your Twitter account. Hit \"Send\".\n",
    "6. You should see it return a response with information in JSON format.\n",
    "7. You can save the JSON response via the \"Download\" button.\n",
    "8. That's it. You've just used one endpoint in the Twitter API.\n",
    "\n",
    "Q: How did I know what URL to use to make the request above?  \n",
    "A: I read the API documentation."
   ]
  },
  {
   "cell_type": "markdown",
   "metadata": {},
   "source": [
    "The Twitter API reference index can be found at https://developer.twitter.com/en/docs/api-reference-index. This has a list of all APIs available to developers. We can look up our endpoint under \"Manage account settings and profile\" as `GET account/verify_credentials`.\n",
    "\n",
    "The documentation tells us the \"Resource URL\" https://api.twitter.com/1.1/account/verify_credentials.json as well as the parameters we have to pass to it (required or optional). It also provides an example request and example response."
   ]
  },
  {
   "cell_type": "markdown",
   "metadata": {},
   "source": [
    "### Example 2\n",
    "Let's move onto another example. How do we get a list of who is following us? This would be under the \"Follow, search, and get users\" section under `GET followers/list`. The [documentation tells us](https://developer.twitter.com/en/docs/accounts-and-users/follow-search-get-users/api-reference/get-followers-list) the \"Resource URL\" is \n",
    "https://api.twitter.com/1.1/followers/list.json. There are no required parameters. We get our own account by default but we can specify specific accounts by `screen_name` or `user_id`."
   ]
  },
  {
   "cell_type": "markdown",
   "metadata": {},
   "source": [
    "**Note**: For some reason beyond me, I can't get the API to search for tweets working with Postman. Its giving me an authentication error I can't resolve. We can get around this issue using a programming language like Python. There might be other APIs among the 100+ that has similar issues. "
   ]
  },
  {
   "cell_type": "markdown",
   "metadata": {},
   "source": [
    "# Python for Programmers"
   ]
  },
  {
   "cell_type": "markdown",
   "metadata": {},
   "source": [
    "We setup our credentials first. Here I am using environmental variables to store my credentials. You can hardcode it in for the workshop."
   ]
  },
  {
   "cell_type": "code",
   "execution_count": 3,
   "metadata": {},
   "outputs": [],
   "source": [
    "import os\n",
    "consumerKey = os.getenv('consumerkey')\n",
    "consumerSecret = os.getenv('consumersecret')\n",
    "oauthToken = os.getenv('accesstoken')\n",
    "oauthTokenSecret = os.getenv('accesstokensecret')"
   ]
  },
  {
   "cell_type": "markdown",
   "metadata": {},
   "source": [
    "**Note**: To re-iterate, I do NOT recommend you actually hard code the credentials in a working setting. In Python, you should save the credentials in an environmental variable and retrieve it using the `os.getenv` method thus decoupling the credentials from your code."
   ]
  },
  {
   "cell_type": "markdown",
   "metadata": {},
   "source": [
    "We can make `GET/POST` requests directly to Twitter. We just need to use the `requests_oauthlib` library for the authentication part and the `requests` library for the request part. Below is an example of the same request we made using Postman.\n",
    "\n",
    "Install the module from the terminal or command prompt with `pip install requests_oauthlib`."
   ]
  },
  {
   "cell_type": "code",
   "execution_count": 8,
   "metadata": {},
   "outputs": [
    {
     "name": "stdout",
     "output_type": "stream",
     "text": [
      "{'id': 393706761, 'id_str': '393706761', 'name': 'ARCatUM', 'screen_name': 'ARC_UM', 'location': 'Ann Arbor, MI', 'description': 'Advanced computing resources and services for research, teaching and learning at the University of Michigan', 'url': 'http://t.co/TM2VijomUk', 'entities': {'url': {'urls': [{'url': 'http://t.co/TM2VijomUk', 'expanded_url': 'http://arc.umich.edu', 'display_url': 'arc.umich.edu', 'indices': [0, 22]}]}, 'description': {'urls': []}}, 'protected': False, 'followers_count': 597, 'friends_count': 186, 'listed_count': 67, 'created_at': 'Tue Oct 18 23:23:44 +0000 2011', 'favourites_count': 28, 'utc_offset': None, 'time_zone': None, 'geo_enabled': True, 'verified': False, 'statuses_count': 1921, 'lang': None, 'contributors_enabled': False, 'is_translator': False, 'is_translation_enabled': False, 'profile_background_color': 'DBDBDB', 'profile_background_image_url': 'http://abs.twimg.com/images/themes/theme1/bg.png', 'profile_background_image_url_https': 'https://abs.twimg.com/images/themes/theme1/bg.png', 'profile_background_tile': False, 'profile_image_url': 'http://pbs.twimg.com/profile_images/3539793499/6218609aa5e34ca252cc42cf2dc8f90c_normal.jpeg', 'profile_image_url_https': 'https://pbs.twimg.com/profile_images/3539793499/6218609aa5e34ca252cc42cf2dc8f90c_normal.jpeg', 'profile_link_color': 'DBAF00', 'profile_sidebar_border_color': 'FFFFFF', 'profile_sidebar_fill_color': '46729F', 'profile_text_color': '2E2E2E', 'profile_use_background_image': False, 'has_extended_profile': False, 'default_profile': False, 'default_profile_image': False, 'following': False, 'follow_request_sent': False, 'notifications': False, 'translator_type': 'none', 'suspended': False, 'needs_phone_verification': False}\n"
     ]
    }
   ],
   "source": [
    "import requests\n",
    "from requests_oauthlib import OAuth1\n",
    "\n",
    "auth = OAuth1(consumerKey, consumerSecret, oauthToken, oauthTokenSecret)\n",
    "url = 'https://api.twitter.com/1.1/account/verify_credentials.json'\n",
    "params = {'skip_status':'true'}\n",
    "R = requests.get(url, auth=auth, params=params)\n",
    "R.raise_for_status()\n",
    "response = R.json()\n",
    "print(response)"
   ]
  },
  {
   "cell_type": "markdown",
   "metadata": {},
   "source": [
    "The advantage is that we can also use Python to parse the JSON response for the data we need."
   ]
  },
  {
   "cell_type": "code",
   "execution_count": 20,
   "metadata": {},
   "outputs": [
    {
     "name": "stdout",
     "output_type": "stream",
     "text": [
      "My screen name is @ARC_UM\n",
      "Description: Advanced computing resources and services for research, teaching and learning at the University of Michigan\n",
      "http://arc.umich.edu\n"
     ]
    }
   ],
   "source": [
    "print(f\"My screen name is @{response['screen_name']}\")\n",
    "print(f\"Description: {response['description']}\")\n",
    "print(response['entities']['url']['urls'][0]['expanded_url'])"
   ]
  },
  {
   "cell_type": "markdown",
   "metadata": {},
   "source": [
    "##### But a more convenient way to access the API is to use an existing Twitter package that someone has already crafted to abstract away some of the technical details."
   ]
  },
  {
   "cell_type": "markdown",
   "metadata": {},
   "source": [
    "## Installing Python Twitter Tools Module"
   ]
  },
  {
   "cell_type": "markdown",
   "metadata": {},
   "source": [
    "We will be using the Python Twitter Tool module for interacting with the API. They usually make our lives easier than making a direct GET request since they handle other stuff under the hood for us. There are many available Twitter packages for Python. I chose this one because it was popular and seemed simple to use (although lacking good documentation). Documentation is at https://github.com/sixohsix/twitter.\n",
    "\n",
    "Install the module from the terminal or command prompt with `pip install twitter`. "
   ]
  },
  {
   "cell_type": "code",
   "execution_count": 21,
   "metadata": {},
   "outputs": [],
   "source": [
    "import twitter"
   ]
  },
  {
   "cell_type": "markdown",
   "metadata": {},
   "source": [
    "Next submit your credentials and create a variable containing your authentication."
   ]
  },
  {
   "cell_type": "code",
   "execution_count": 22,
   "metadata": {},
   "outputs": [],
   "source": [
    "auth = twitter.OAuth(oauthToken, oauthTokenSecret, consumerKey, consumerSecret)"
   ]
  },
  {
   "cell_type": "markdown",
   "metadata": {},
   "source": [
    "# Twitter Search API"
   ]
  },
  {
   "cell_type": "markdown",
   "metadata": {},
   "source": [
    "How do we search historical tweets? This is under the \"Search Tweets\" section under `Standard Search API`. The [documentation tells us](https://developer.twitter.com/en/docs/tweets/search/api-reference/get-search-tweets.html) the \"Resource URL\" is https://api.twitter.com/1.1/search/tweets.json. See the [Twitter Search overview]( https://developer.twitter.com/en/docs/tweets/search/overview) to see what the standard API is lacking compared to the **Premium** and **Enterprise** search products. \n",
    "The Standard Search API searches against a __sampling__ of recent Tweets published in the past 7 days. We will see later how to get around the 7 day restriction by invoking other constraints.\n",
    "\n",
    "**Note**: The Search API is not an exact replica of the Search feature available in Twitter mobile or web clients such as https://twitter.com/search. "
   ]
  },
  {
   "cell_type": "markdown",
   "metadata": {},
   "source": [
    "Let's start by creating a Search API handle using your authentication."
   ]
  },
  {
   "cell_type": "code",
   "execution_count": 23,
   "metadata": {},
   "outputs": [],
   "source": [
    "twtr = twitter.Twitter(auth=auth)"
   ]
  },
  {
   "cell_type": "markdown",
   "metadata": {},
   "source": [
    "## Search using a query"
   ]
  },
  {
   "cell_type": "markdown",
   "metadata": {},
   "source": [
    "Details on the search API can be found here https://developer.twitter.com/en/docs/tweets/search/api-reference/get-search-tweets.html."
   ]
  },
  {
   "cell_type": "markdown",
   "metadata": {},
   "source": [
    "Create a query term and also specify the number of tweets you want (default = 15). Use the `search.tweets` method to search for tweets. A list of possible queries (i.e. standard operators) can be found at https://developer.twitter.com/en/docs/tweets/rules-and-filtering/overview/standard-operators.html."
   ]
  },
  {
   "cell_type": "code",
   "execution_count": 24,
   "metadata": {},
   "outputs": [
    {
     "data": {
      "text/plain": [
       "{'statuses': [{'created_at': 'Thu May 23 14:18:40 +0000 2019',\n",
       "   'id': 1131565109376180224,\n",
       "   'id_str': '1131565109376180224',\n",
       "   'text': 'RT @umisrcps: Using @Twitter data, Michael Traugott of @umisrcps and his team analyzed the networked relationships of political journalists…',\n",
       "   'truncated': False,\n",
       "   'entities': {'hashtags': [],\n",
       "    'symbols': [],\n",
       "    'user_mentions': [{'screen_name': 'umisrcps',\n",
       "      'name': 'Ctr for Political St',\n",
       "      'id': 1484961512,\n",
       "      'id_str': '1484961512',\n",
       "      'indices': [3, 12]},\n",
       "     {'screen_name': 'Twitter',\n",
       "      'name': 'Twitter',\n",
       "      'id': 783214,\n",
       "      'id_str': '783214',\n",
       "      'indices': [20, 28]},\n",
       "     {'screen_name': 'umisrcps',\n",
       "      'name': 'Ctr for Political St',\n",
       "      'id': 1484961512,\n",
       "      'id_str': '1484961512',\n",
       "      'indices': [55, 64]}],\n",
       "    'urls': []},\n",
       "   'metadata': {'iso_language_code': 'en', 'result_type': 'recent'},\n",
       "   'source': '<a href=\"http://twitter.com/download/iphone\" rel=\"nofollow\">Twitter for iPhone</a>',\n",
       "   'in_reply_to_status_id': None,\n",
       "   'in_reply_to_status_id_str': None,\n",
       "   'in_reply_to_user_id': None,\n",
       "   'in_reply_to_user_id_str': None,\n",
       "   'in_reply_to_screen_name': None,\n",
       "   'user': {'id': 2429413770,\n",
       "    'id_str': '2429413770',\n",
       "    'name': 'Cardi B. Hoodson',\n",
       "    'screen_name': 'StewartColes',\n",
       "    'location': 'Ann Arbor, MI',\n",
       "    'description': 'PhD Candidate at @UM_CommStudies studying how media depictions of marginalized groups affect public opinion. @drexelwestphal & @SDSU_JMS alumnus, #USMC veteran.',\n",
       "    'url': 'https://t.co/P6j7h1jSEj',\n",
       "    'entities': {'url': {'urls': [{'url': 'https://t.co/P6j7h1jSEj',\n",
       "        'expanded_url': 'http://www.stewartcoles.com',\n",
       "        'display_url': 'stewartcoles.com',\n",
       "        'indices': [0, 23]}]},\n",
       "     'description': {'urls': []}},\n",
       "    'protected': False,\n",
       "    'followers_count': 925,\n",
       "    'friends_count': 1036,\n",
       "    'listed_count': 25,\n",
       "    'created_at': 'Sat Apr 05 20:27:04 +0000 2014',\n",
       "    'favourites_count': 14615,\n",
       "    'utc_offset': None,\n",
       "    'time_zone': None,\n",
       "    'geo_enabled': True,\n",
       "    'verified': False,\n",
       "    'statuses_count': 12026,\n",
       "    'lang': 'en',\n",
       "    'contributors_enabled': False,\n",
       "    'is_translator': False,\n",
       "    'is_translation_enabled': False,\n",
       "    'profile_background_color': '131516',\n",
       "    'profile_background_image_url': 'http://abs.twimg.com/images/themes/theme14/bg.gif',\n",
       "    'profile_background_image_url_https': 'https://abs.twimg.com/images/themes/theme14/bg.gif',\n",
       "    'profile_background_tile': True,\n",
       "    'profile_image_url': 'http://pbs.twimg.com/profile_images/633714526458880000/fDaqn0yC_normal.jpg',\n",
       "    'profile_image_url_https': 'https://pbs.twimg.com/profile_images/633714526458880000/fDaqn0yC_normal.jpg',\n",
       "    'profile_banner_url': 'https://pbs.twimg.com/profile_banners/2429413770/1417645607',\n",
       "    'profile_link_color': 'FF0000',\n",
       "    'profile_sidebar_border_color': '000000',\n",
       "    'profile_sidebar_fill_color': '252429',\n",
       "    'profile_text_color': '666666',\n",
       "    'profile_use_background_image': True,\n",
       "    'has_extended_profile': False,\n",
       "    'default_profile': False,\n",
       "    'default_profile_image': False,\n",
       "    'following': False,\n",
       "    'follow_request_sent': False,\n",
       "    'notifications': False,\n",
       "    'translator_type': 'none'},\n",
       "   'geo': None,\n",
       "   'coordinates': None,\n",
       "   'place': None,\n",
       "   'contributors': None,\n",
       "   'retweeted_status': {'created_at': 'Thu May 23 13:37:28 +0000 2019',\n",
       "    'id': 1131554742008606720,\n",
       "    'id_str': '1131554742008606720',\n",
       "    'text': 'Using @Twitter data, Michael Traugott of @umisrcps and his team analyzed the networked relationships of political j… https://t.co/eSsucUAahJ',\n",
       "    'truncated': True,\n",
       "    'entities': {'hashtags': [],\n",
       "     'symbols': [],\n",
       "     'user_mentions': [{'screen_name': 'Twitter',\n",
       "       'name': 'Twitter',\n",
       "       'id': 783214,\n",
       "       'id_str': '783214',\n",
       "       'indices': [6, 14]},\n",
       "      {'screen_name': 'umisrcps',\n",
       "       'name': 'Ctr for Political St',\n",
       "       'id': 1484961512,\n",
       "       'id_str': '1484961512',\n",
       "       'indices': [41, 50]}],\n",
       "     'urls': [{'url': 'https://t.co/eSsucUAahJ',\n",
       "       'expanded_url': 'https://twitter.com/i/web/status/1131554742008606720',\n",
       "       'display_url': 'twitter.com/i/web/status/1…',\n",
       "       'indices': [117, 140]}]},\n",
       "    'metadata': {'iso_language_code': 'en', 'result_type': 'recent'},\n",
       "    'source': '<a href=\"http://twitter.com\" rel=\"nofollow\">Twitter Web Client</a>',\n",
       "    'in_reply_to_status_id': None,\n",
       "    'in_reply_to_status_id_str': None,\n",
       "    'in_reply_to_user_id': None,\n",
       "    'in_reply_to_user_id_str': None,\n",
       "    'in_reply_to_screen_name': None,\n",
       "    'user': {'id': 1484961512,\n",
       "     'id_str': '1484961512',\n",
       "     'name': 'Ctr for Political St',\n",
       "     'screen_name': 'umisrcps',\n",
       "     'location': 'Ann Arbor, MI',\n",
       "     'description': \"The University of Michigan's @umich Center for Political Studies (CPS) tweets about social science research, politics, policy, and free data resources.\",\n",
       "     'url': 'http://t.co/RM07VYsbGQ',\n",
       "     'entities': {'url': {'urls': [{'url': 'http://t.co/RM07VYsbGQ',\n",
       "         'expanded_url': 'http://www.isr.umich.edu/cps',\n",
       "         'display_url': 'isr.umich.edu/cps',\n",
       "         'indices': [0, 22]}]},\n",
       "      'description': {'urls': []}},\n",
       "     'protected': False,\n",
       "     'followers_count': 13241,\n",
       "     'friends_count': 11509,\n",
       "     'listed_count': 184,\n",
       "     'created_at': 'Wed Jun 05 12:55:49 +0000 2013',\n",
       "     'favourites_count': 4853,\n",
       "     'utc_offset': None,\n",
       "     'time_zone': None,\n",
       "     'geo_enabled': False,\n",
       "     'verified': False,\n",
       "     'statuses_count': 3745,\n",
       "     'lang': 'en',\n",
       "     'contributors_enabled': False,\n",
       "     'is_translator': False,\n",
       "     'is_translation_enabled': False,\n",
       "     'profile_background_color': 'F0F4F5',\n",
       "     'profile_background_image_url': 'http://abs.twimg.com/images/themes/theme1/bg.png',\n",
       "     'profile_background_image_url_https': 'https://abs.twimg.com/images/themes/theme1/bg.png',\n",
       "     'profile_background_tile': False,\n",
       "     'profile_image_url': 'http://pbs.twimg.com/profile_images/926476119628533760/jLOkEA8p_normal.jpg',\n",
       "     'profile_image_url_https': 'https://pbs.twimg.com/profile_images/926476119628533760/jLOkEA8p_normal.jpg',\n",
       "     'profile_banner_url': 'https://pbs.twimg.com/profile_banners/1484961512/1506530626',\n",
       "     'profile_link_color': 'D76635',\n",
       "     'profile_sidebar_border_color': 'FFFFFF',\n",
       "     'profile_sidebar_fill_color': 'DDEEF6',\n",
       "     'profile_text_color': '333333',\n",
       "     'profile_use_background_image': False,\n",
       "     'has_extended_profile': False,\n",
       "     'default_profile': False,\n",
       "     'default_profile_image': False,\n",
       "     'following': False,\n",
       "     'follow_request_sent': False,\n",
       "     'notifications': False,\n",
       "     'translator_type': 'none'},\n",
       "    'geo': None,\n",
       "    'coordinates': None,\n",
       "    'place': None,\n",
       "    'contributors': None,\n",
       "    'is_quote_status': False,\n",
       "    'retweet_count': 5,\n",
       "    'favorite_count': 4,\n",
       "    'favorited': False,\n",
       "    'retweeted': False,\n",
       "    'possibly_sensitive': False,\n",
       "    'lang': 'en'},\n",
       "   'is_quote_status': False,\n",
       "   'retweet_count': 5,\n",
       "   'favorite_count': 0,\n",
       "   'favorited': False,\n",
       "   'retweeted': False,\n",
       "   'lang': 'en'},\n",
       "  {'created_at': 'Thu May 23 13:57:53 +0000 2019',\n",
       "   'id': 1131559880643321858,\n",
       "   'id_str': '1131559880643321858',\n",
       "   'text': 'RT @umisr: Vidya Ramaswamy from @UMichDentistry talks about #studentengagement in university lectures, and using Twitter to improve engagem…',\n",
       "   'truncated': False,\n",
       "   'entities': {'hashtags': [{'text': 'studentengagement',\n",
       "      'indices': [60, 78]}],\n",
       "    'symbols': [],\n",
       "    'user_mentions': [{'screen_name': 'umisr',\n",
       "      'name': 'U-M ISR',\n",
       "      'id': 217437553,\n",
       "      'id_str': '217437553',\n",
       "      'indices': [3, 9]},\n",
       "     {'screen_name': 'UMichDentistry',\n",
       "      'name': 'UM SchoolofDentistry',\n",
       "      'id': 267320991,\n",
       "      'id_str': '267320991',\n",
       "      'indices': [32, 47]}],\n",
       "    'urls': []},\n",
       "   'metadata': {'iso_language_code': 'en', 'result_type': 'recent'},\n",
       "   'source': '<a href=\"http://twitter.com/download/android\" rel=\"nofollow\">Twitter for Android</a>',\n",
       "   'in_reply_to_status_id': None,\n",
       "   'in_reply_to_status_id_str': None,\n",
       "   'in_reply_to_user_id': None,\n",
       "   'in_reply_to_user_id_str': None,\n",
       "   'in_reply_to_screen_name': None,\n",
       "   'user': {'id': 267320991,\n",
       "    'id_str': '267320991',\n",
       "    'name': 'UM SchoolofDentistry',\n",
       "    'screen_name': 'UMichDentistry',\n",
       "    'location': 'Ann Arbor, MI',\n",
       "    'description': 'MDentistry: Advancing health through education, service, research and discovery.',\n",
       "    'url': 'https://t.co/Sry0pm52yY',\n",
       "    'entities': {'url': {'urls': [{'url': 'https://t.co/Sry0pm52yY',\n",
       "        'expanded_url': 'http://dent.umich.edu',\n",
       "        'display_url': 'dent.umich.edu',\n",
       "        'indices': [0, 23]}]},\n",
       "     'description': {'urls': []}},\n",
       "    'protected': False,\n",
       "    'followers_count': 1539,\n",
       "    'friends_count': 256,\n",
       "    'listed_count': 58,\n",
       "    'created_at': 'Wed Mar 16 18:31:49 +0000 2011',\n",
       "    'favourites_count': 239,\n",
       "    'utc_offset': None,\n",
       "    'time_zone': None,\n",
       "    'geo_enabled': False,\n",
       "    'verified': False,\n",
       "    'statuses_count': 1067,\n",
       "    'lang': 'en',\n",
       "    'contributors_enabled': False,\n",
       "    'is_translator': False,\n",
       "    'is_translation_enabled': False,\n",
       "    'profile_background_color': 'FFF04D',\n",
       "    'profile_background_image_url': 'http://abs.twimg.com/images/themes/theme19/bg.gif',\n",
       "    'profile_background_image_url_https': 'https://abs.twimg.com/images/themes/theme19/bg.gif',\n",
       "    'profile_background_tile': False,\n",
       "    'profile_image_url': 'http://pbs.twimg.com/profile_images/3621958819/fd6bcd2f50d26df0c7ac587b2e616dea_normal.jpeg',\n",
       "    'profile_image_url_https': 'https://pbs.twimg.com/profile_images/3621958819/fd6bcd2f50d26df0c7ac587b2e616dea_normal.jpeg',\n",
       "    'profile_banner_url': 'https://pbs.twimg.com/profile_banners/267320991/1543937884',\n",
       "    'profile_link_color': '0099CC',\n",
       "    'profile_sidebar_border_color': 'FFFFFF',\n",
       "    'profile_sidebar_fill_color': 'DDEEF6',\n",
       "    'profile_text_color': '333333',\n",
       "    'profile_use_background_image': False,\n",
       "    'has_extended_profile': False,\n",
       "    'default_profile': False,\n",
       "    'default_profile_image': False,\n",
       "    'following': False,\n",
       "    'follow_request_sent': False,\n",
       "    'notifications': False,\n",
       "    'translator_type': 'none'},\n",
       "   'geo': None,\n",
       "   'coordinates': None,\n",
       "   'place': None,\n",
       "   'contributors': None,\n",
       "   'retweeted_status': {'created_at': 'Thu May 23 13:48:26 +0000 2019',\n",
       "    'id': 1131557501516767233,\n",
       "    'id_str': '1131557501516767233',\n",
       "    'text': 'Vidya Ramaswamy from @UMichDentistry talks about #studentengagement in university lectures, and using Twitter to im… https://t.co/1zpScAwter',\n",
       "    'truncated': True,\n",
       "    'entities': {'hashtags': [{'text': 'studentengagement',\n",
       "       'indices': [49, 67]}],\n",
       "     'symbols': [],\n",
       "     'user_mentions': [{'screen_name': 'UMichDentistry',\n",
       "       'name': 'UM SchoolofDentistry',\n",
       "       'id': 267320991,\n",
       "       'id_str': '267320991',\n",
       "       'indices': [21, 36]}],\n",
       "     'urls': [{'url': 'https://t.co/1zpScAwter',\n",
       "       'expanded_url': 'https://twitter.com/i/web/status/1131557501516767233',\n",
       "       'display_url': 'twitter.com/i/web/status/1…',\n",
       "       'indices': [117, 140]}]},\n",
       "    'metadata': {'iso_language_code': 'en', 'result_type': 'recent'},\n",
       "    'source': '<a href=\"https://about.twitter.com/products/tweetdeck\" rel=\"nofollow\">TweetDeck</a>',\n",
       "    'in_reply_to_status_id': None,\n",
       "    'in_reply_to_status_id_str': None,\n",
       "    'in_reply_to_user_id': None,\n",
       "    'in_reply_to_user_id_str': None,\n",
       "    'in_reply_to_screen_name': None,\n",
       "    'user': {'id': 217437553,\n",
       "     'id_str': '217437553',\n",
       "     'name': 'U-M ISR',\n",
       "     'screen_name': 'umisr',\n",
       "     'location': 'Ann Arbor, MI',\n",
       "     'description': \"The University of Michigan Institute for Social Research is the world's largest academic social science survey and research organization.\",\n",
       "     'url': 'http://t.co/LNBwbUKbJ5',\n",
       "     'entities': {'url': {'urls': [{'url': 'http://t.co/LNBwbUKbJ5',\n",
       "         'expanded_url': 'http://home.isr.umich.edu',\n",
       "         'display_url': 'home.isr.umich.edu',\n",
       "         'indices': [0, 22]}]},\n",
       "      'description': {'urls': []}},\n",
       "     'protected': False,\n",
       "     'followers_count': 4327,\n",
       "     'friends_count': 1761,\n",
       "     'listed_count': 211,\n",
       "     'created_at': 'Fri Nov 19 14:45:22 +0000 2010',\n",
       "     'favourites_count': 2141,\n",
       "     'utc_offset': None,\n",
       "     'time_zone': None,\n",
       "     'geo_enabled': True,\n",
       "     'verified': False,\n",
       "     'statuses_count': 6994,\n",
       "     'lang': 'en',\n",
       "     'contributors_enabled': False,\n",
       "     'is_translator': False,\n",
       "     'is_translation_enabled': True,\n",
       "     'profile_background_color': '022330',\n",
       "     'profile_background_image_url': 'http://abs.twimg.com/images/themes/theme15/bg.png',\n",
       "     'profile_background_image_url_https': 'https://abs.twimg.com/images/themes/theme15/bg.png',\n",
       "     'profile_background_tile': False,\n",
       "     'profile_image_url': 'http://pbs.twimg.com/profile_images/439142109094760448/DyV5IJGS_normal.jpeg',\n",
       "     'profile_image_url_https': 'https://pbs.twimg.com/profile_images/439142109094760448/DyV5IJGS_normal.jpeg',\n",
       "     'profile_banner_url': 'https://pbs.twimg.com/profile_banners/217437553/1551906253',\n",
       "     'profile_link_color': '0084B4',\n",
       "     'profile_sidebar_border_color': 'A8C7F7',\n",
       "     'profile_sidebar_fill_color': 'C0DFEC',\n",
       "     'profile_text_color': '333333',\n",
       "     'profile_use_background_image': True,\n",
       "     'has_extended_profile': False,\n",
       "     'default_profile': False,\n",
       "     'default_profile_image': False,\n",
       "     'following': True,\n",
       "     'follow_request_sent': False,\n",
       "     'notifications': False,\n",
       "     'translator_type': 'none'},\n",
       "    'geo': None,\n",
       "    'coordinates': None,\n",
       "    'place': None,\n",
       "    'contributors': None,\n",
       "    'is_quote_status': False,\n",
       "    'retweet_count': 1,\n",
       "    'favorite_count': 1,\n",
       "    'favorited': False,\n",
       "    'retweeted': False,\n",
       "    'possibly_sensitive': False,\n",
       "    'lang': 'en'},\n",
       "   'is_quote_status': False,\n",
       "   'retweet_count': 1,\n",
       "   'favorite_count': 0,\n",
       "   'favorited': False,\n",
       "   'retweeted': False,\n",
       "   'lang': 'en'}],\n",
       " 'search_metadata': {'completed_in': 0.023,\n",
       "  'max_id': 1131565109376180224,\n",
       "  'max_id_str': '1131565109376180224',\n",
       "  'next_results': '?max_id=1131559880643321857&q=%23UMTweetCon2019&count=2&include_entities=1',\n",
       "  'query': '%23UMTweetCon2019',\n",
       "  'refresh_url': '?since_id=1131565109376180224&q=%23UMTweetCon2019&include_entities=1',\n",
       "  'count': 2,\n",
       "  'since_id': 0,\n",
       "  'since_id_str': '0'}}"
      ]
     },
     "execution_count": 24,
     "metadata": {},
     "output_type": "execute_result"
    }
   ],
   "source": [
    "query = '#UMTweetCon2019' # from:arc_um\n",
    "limit = 2\n",
    "results = twtr.search.tweets(q=query, count=limit)\n",
    "results"
   ]
  },
  {
   "cell_type": "markdown",
   "metadata": {},
   "source": [
    "Apparently, there is a lot of data associated with a 140 character tweet."
   ]
  },
  {
   "cell_type": "markdown",
   "metadata": {},
   "source": [
    "## User Info"
   ]
  },
  {
   "cell_type": "markdown",
   "metadata": {},
   "source": [
    "The results are stored in the `statuses` key. Here's how you would access some interesting fields about the Tweeter."
   ]
  },
  {
   "cell_type": "code",
   "execution_count": 25,
   "metadata": {},
   "outputs": [
    {
     "name": "stdout",
     "output_type": "stream",
     "text": [
      "Name: Cardi B. Hoodson\n",
      "ScreenName: StewartColes\n",
      "Description: PhD Candidate at @UM_CommStudies studying how media depictions of marginalized groups affect public opinion. @drexelwestphal & @SDSU_JMS alumnus, #USMC veteran.\n",
      "Location: Ann Arbor, MI\n",
      "# Tweets: 12026\n",
      "# Following: 1036\n",
      "# Followers: 925\n",
      "# Likes: 14615\n",
      "# Lists: 25\n",
      "\n",
      "\n",
      "Name: UM SchoolofDentistry\n",
      "ScreenName: UMichDentistry\n",
      "Description: MDentistry: Advancing health through education, service, research and discovery.\n",
      "Location: Ann Arbor, MI\n",
      "# Tweets: 1067\n",
      "# Following: 256\n",
      "# Followers: 1539\n",
      "# Likes: 239\n",
      "# Lists: 58\n",
      "\n",
      "\n"
     ]
    }
   ],
   "source": [
    "for tweet in results['statuses']:\n",
    "    print(f\"Name: {tweet['user']['name']}\")\n",
    "    print(f\"ScreenName: {tweet['user']['screen_name']}\")\n",
    "    print(f\"Description: {tweet['user']['description']}\")\n",
    "    print(f\"Location: {tweet['user']['location']}\")\n",
    "    print(f\"# Tweets: {tweet['user']['statuses_count']}\")        \n",
    "    print(f\"# Following: {tweet['user']['friends_count']}\")        \n",
    "    print(f\"# Followers: {tweet['user']['followers_count']}\")\n",
    "    print(f\"# Likes: {tweet['user']['favourites_count']}\")\n",
    "    print(f\"# Lists: {tweet['user']['listed_count']}\")\n",
    "    print('\\n')"
   ]
  },
  {
   "cell_type": "markdown",
   "metadata": {},
   "source": [
    "## Tweet Info"
   ]
  },
  {
   "cell_type": "markdown",
   "metadata": {},
   "source": [
    "Here's how you would access info about the tweet itself."
   ]
  },
  {
   "cell_type": "code",
   "execution_count": 26,
   "metadata": {},
   "outputs": [
    {
     "name": "stdout",
     "output_type": "stream",
     "text": [
      "Created at: Thu May 23 14:18:40 +0000 2019\n",
      "Text: RT @umisrcps: Using @Twitter data, Michael Traugott of @umisrcps and his team analyzed the networked relationships of political journalists…\n",
      "Source: <a href=\"http://twitter.com/download/iphone\" rel=\"nofollow\">Twitter for iPhone</a>\n",
      "Likes: 0\n",
      "Retweets: 5\n",
      "Retweet: False\n",
      "Coordinates: None\n",
      "\n",
      "\n",
      "Created at: Thu May 23 13:57:53 +0000 2019\n",
      "Text: RT @umisr: Vidya Ramaswamy from @UMichDentistry talks about #studentengagement in university lectures, and using Twitter to improve engagem…\n",
      "Source: <a href=\"http://twitter.com/download/android\" rel=\"nofollow\">Twitter for Android</a>\n",
      "Hashtag: studentengagement\n",
      "Likes: 0\n",
      "Retweets: 1\n",
      "Retweet: False\n",
      "Coordinates: None\n",
      "\n",
      "\n"
     ]
    }
   ],
   "source": [
    "for tweet in results['statuses']:\n",
    "    print(f\"Created at: {tweet['created_at']}\")       \n",
    "    print(f\"Text: {tweet['text']}\")\n",
    "    print(f\"Source: {tweet['source']}\")\n",
    "    for hashtag in tweet['entities']['hashtags']:\n",
    "        print(f\"Hashtag: {hashtag['text']}\")\n",
    "    print(f\"Likes: {tweet['favorite_count']}\")\n",
    "    print(f\"Retweets: {tweet['retweet_count']}\")        \n",
    "    print(f\"Retweet: {tweet['retweeted']}\")\n",
    "    print(f\"Coordinates: {tweet['coordinates']}\")\n",
    "    place = tweet['place']\n",
    "    if place is not None:\n",
    "        print(f\"Place Name: {place['full_name']}\")\n",
    "        print(f\"Place Type: {place['place_type']}\")\n",
    "        print(f\"Place Bounding Box: {place['bounding_box']['coordinates']}\")\n",
    "    print('\\n')"
   ]
  },
  {
   "cell_type": "markdown",
   "metadata": {},
   "source": [
    "## Search tweets by users located within a given radius of a GPS point"
   ]
  },
  {
   "cell_type": "markdown",
   "metadata": {},
   "source": [
    "Add the `geo` argument to the `search.tweets` method."
   ]
  },
  {
   "cell_type": "code",
   "execution_count": 27,
   "metadata": {},
   "outputs": [],
   "source": [
    "query = 'food' \n",
    "limit = 5\n",
    "georesults = twtr.search.tweets(q=query, count=limit, geo=\"42.7,-83.3, 10km\")"
   ]
  },
  {
   "cell_type": "markdown",
   "metadata": {},
   "source": [
    "Let's print out the tweet along with the datetime and coordinates information."
   ]
  },
  {
   "cell_type": "code",
   "execution_count": 28,
   "metadata": {
    "scrolled": true
   },
   "outputs": [
    {
     "name": "stdout",
     "output_type": "stream",
     "text": [
      "0 We know it is a little more than 1 month away, but mark your calendars for what will be a kick 🍑 time rocking out t… https://t.co/uzLvRoCtiy\n",
      "Thu May 23 14:36:36 +0000 2019 None\n",
      "\n",
      "\n",
      "1 RT @BernieSanders: I say to McDonald's CEO @SteveEasterbrk: Be a leader. Set an example for the entire fast food industry to follow. Raise…\n",
      "Thu May 23 14:36:36 +0000 2019 None\n",
      "\n",
      "\n",
      "2 RT @petiteyesplease: ok listen. water DOES NOT have calories. All of this dry fasting bullshit is getting on my nerves bc it makes me worri…\n",
      "Thu May 23 14:36:36 +0000 2019 None\n",
      "\n",
      "\n"
     ]
    }
   ],
   "source": [
    "for i, tweet in enumerate(georesults['statuses']):\n",
    "    print(i, tweet['text'])\n",
    "    print(tweet['created_at'], tweet['coordinates'])\n",
    "    print('\\n')"
   ]
  },
  {
   "cell_type": "markdown",
   "metadata": {},
   "source": [
    "Q: How do I know what methods and arguments to use?  \n",
    "A: I read the API documentation."
   ]
  },
  {
   "cell_type": "markdown",
   "metadata": {},
   "source": [
    "This URL has a list of API endpoints for Twitter https://developer.twitter.com/en/docs/api-reference-index. This is also a good jumping off point to get to the doucmentation. *Bookmark it!*"
   ]
  },
  {
   "cell_type": "markdown",
   "metadata": {},
   "source": [
    "## Get a list of Followers"
   ]
  },
  {
   "cell_type": "markdown",
   "metadata": {},
   "source": [
    "Use the `followers.list` method to get a list of followers for a given user. Returns a default of 20 results. Can set value up to 200 using the `count` argument."
   ]
  },
  {
   "cell_type": "code",
   "execution_count": 29,
   "metadata": {},
   "outputs": [
    {
     "data": {
      "text/plain": [
       "{'users': [{'id': 818650312181313536,\n",
       "   'id_str': '818650312181313536',\n",
       "   'name': 'AESPORIA',\n",
       "   'screen_name': 'AESPORIA',\n",
       "   'location': 'United States',\n",
       "   'url': 'https://soundcloud.com/AESPORIA',\n",
       "   'description': 'if (artistic_purpose == artistic_identity):',\n",
       "   'protected': False,\n",
       "   'followers_count': 25,\n",
       "   'friends_count': 314,\n",
       "   'listed_count': 0,\n",
       "   'created_at': 'Tue Jan 10 02:46:59 +0000 2017',\n",
       "   'favourites_count': 67,\n",
       "   'utc_offset': None,\n",
       "   'time_zone': None,\n",
       "   'geo_enabled': False,\n",
       "   'verified': False,\n",
       "   'statuses_count': 179,\n",
       "   'lang': None,\n",
       "   'contributors_enabled': False,\n",
       "   'is_translator': False,\n",
       "   'is_translation_enabled': False,\n",
       "   'profile_background_color': '000000',\n",
       "   'profile_background_image_url': 'http://abs.twimg.com/images/themes/theme1/bg.png',\n",
       "   'profile_background_image_url_https': 'https://abs.twimg.com/images/themes/theme1/bg.png',\n",
       "   'profile_background_tile': False,\n",
       "   'profile_image_url': 'http://pbs.twimg.com/profile_images/1090311742566031360/WG7sazU__normal.jpg',\n",
       "   'profile_image_url_https': 'https://pbs.twimg.com/profile_images/1090311742566031360/WG7sazU__normal.jpg',\n",
       "   'profile_banner_url': 'https://pbs.twimg.com/profile_banners/818650312181313536/1534724011',\n",
       "   'profile_link_color': '000000',\n",
       "   'profile_sidebar_border_color': '000000',\n",
       "   'profile_sidebar_fill_color': '000000',\n",
       "   'profile_text_color': '000000',\n",
       "   'profile_use_background_image': False,\n",
       "   'has_extended_profile': False,\n",
       "   'default_profile': False,\n",
       "   'default_profile_image': False,\n",
       "   'following': False,\n",
       "   'live_following': False,\n",
       "   'follow_request_sent': False,\n",
       "   'notifications': False,\n",
       "   'muting': False,\n",
       "   'blocking': False,\n",
       "   'blocked_by': False,\n",
       "   'translator_type': 'none'},\n",
       "  {'id': 1128725153049927681,\n",
       "   'id_str': '1128725153049927681',\n",
       "   'name': 'MIDAS',\n",
       "   'screen_name': 'um_midas',\n",
       "   'location': 'Ann Arbor, MI',\n",
       "   'url': 'http://midas.umich.edu',\n",
       "   'description': 'MIDAS catalyzes data science through support for faculty, research, education and training, and industry engagement',\n",
       "   'protected': False,\n",
       "   'followers_count': 16,\n",
       "   'friends_count': 32,\n",
       "   'listed_count': 0,\n",
       "   'created_at': 'Wed May 15 18:13:41 +0000 2019',\n",
       "   'favourites_count': 1,\n",
       "   'utc_offset': None,\n",
       "   'time_zone': None,\n",
       "   'geo_enabled': False,\n",
       "   'verified': False,\n",
       "   'statuses_count': 1,\n",
       "   'lang': None,\n",
       "   'contributors_enabled': False,\n",
       "   'is_translator': False,\n",
       "   'is_translation_enabled': False,\n",
       "   'profile_background_color': 'F5F8FA',\n",
       "   'profile_background_image_url': None,\n",
       "   'profile_background_image_url_https': None,\n",
       "   'profile_background_tile': False,\n",
       "   'profile_image_url': 'http://pbs.twimg.com/profile_images/1130916856976498688/124F_4LZ_normal.png',\n",
       "   'profile_image_url_https': 'https://pbs.twimg.com/profile_images/1130916856976498688/124F_4LZ_normal.png',\n",
       "   'profile_banner_url': 'https://pbs.twimg.com/profile_banners/1128725153049927681/1558466823',\n",
       "   'profile_link_color': '1DA1F2',\n",
       "   'profile_sidebar_border_color': 'C0DEED',\n",
       "   'profile_sidebar_fill_color': 'DDEEF6',\n",
       "   'profile_text_color': '333333',\n",
       "   'profile_use_background_image': True,\n",
       "   'has_extended_profile': False,\n",
       "   'default_profile': True,\n",
       "   'default_profile_image': False,\n",
       "   'following': False,\n",
       "   'live_following': False,\n",
       "   'follow_request_sent': False,\n",
       "   'notifications': False,\n",
       "   'muting': False,\n",
       "   'blocking': False,\n",
       "   'blocked_by': False,\n",
       "   'translator_type': 'none'},\n",
       "  {'id': 1097880395209687040,\n",
       "   'id_str': '1097880395209687040',\n",
       "   'name': 'Matt - On Earth',\n",
       "   'screen_name': 'notinorbit',\n",
       "   'location': '',\n",
       "   'url': None,\n",
       "   'description': 'New account, old me. InfoSec pro @umisr. Opinions are my own.',\n",
       "   'protected': False,\n",
       "   'followers_count': 14,\n",
       "   'friends_count': 47,\n",
       "   'listed_count': 0,\n",
       "   'created_at': 'Tue Feb 19 15:27:38 +0000 2019',\n",
       "   'favourites_count': 564,\n",
       "   'utc_offset': None,\n",
       "   'time_zone': None,\n",
       "   'geo_enabled': False,\n",
       "   'verified': False,\n",
       "   'statuses_count': 99,\n",
       "   'lang': None,\n",
       "   'contributors_enabled': False,\n",
       "   'is_translator': False,\n",
       "   'is_translation_enabled': False,\n",
       "   'profile_background_color': 'F5F8FA',\n",
       "   'profile_background_image_url': None,\n",
       "   'profile_background_image_url_https': None,\n",
       "   'profile_background_tile': False,\n",
       "   'profile_image_url': 'http://pbs.twimg.com/profile_images/1097880644527505409/srhSVc6j_normal.jpg',\n",
       "   'profile_image_url_https': 'https://pbs.twimg.com/profile_images/1097880644527505409/srhSVc6j_normal.jpg',\n",
       "   'profile_link_color': '1DA1F2',\n",
       "   'profile_sidebar_border_color': 'C0DEED',\n",
       "   'profile_sidebar_fill_color': 'DDEEF6',\n",
       "   'profile_text_color': '333333',\n",
       "   'profile_use_background_image': True,\n",
       "   'has_extended_profile': False,\n",
       "   'default_profile': True,\n",
       "   'default_profile_image': False,\n",
       "   'following': False,\n",
       "   'live_following': False,\n",
       "   'follow_request_sent': False,\n",
       "   'notifications': False,\n",
       "   'muting': False,\n",
       "   'blocking': False,\n",
       "   'blocked_by': False,\n",
       "   'translator_type': 'none'},\n",
       "  {'id': 816617629,\n",
       "   'id_str': '816617629',\n",
       "   'name': 't',\n",
       "   'screen_name': 'fountain79',\n",
       "   'location': '',\n",
       "   'url': None,\n",
       "   'description': 'Dreamer. Planner. Community Builder. Encourager. Singer. Dancer. Dog lover. Enthusiastically Mediocre Golfer.',\n",
       "   'protected': False,\n",
       "   'followers_count': 5,\n",
       "   'friends_count': 13,\n",
       "   'listed_count': 0,\n",
       "   'created_at': 'Tue Sep 11 03:40:35 +0000 2012',\n",
       "   'favourites_count': 25,\n",
       "   'utc_offset': None,\n",
       "   'time_zone': None,\n",
       "   'geo_enabled': False,\n",
       "   'verified': False,\n",
       "   'statuses_count': 39,\n",
       "   'lang': None,\n",
       "   'contributors_enabled': False,\n",
       "   'is_translator': False,\n",
       "   'is_translation_enabled': False,\n",
       "   'profile_background_color': 'C0DEED',\n",
       "   'profile_background_image_url': 'http://abs.twimg.com/images/themes/theme1/bg.png',\n",
       "   'profile_background_image_url_https': 'https://abs.twimg.com/images/themes/theme1/bg.png',\n",
       "   'profile_background_tile': False,\n",
       "   'profile_image_url': 'http://pbs.twimg.com/profile_images/844992547185446912/av_FzHBp_normal.jpg',\n",
       "   'profile_image_url_https': 'https://pbs.twimg.com/profile_images/844992547185446912/av_FzHBp_normal.jpg',\n",
       "   'profile_banner_url': 'https://pbs.twimg.com/profile_banners/816617629/1390714521',\n",
       "   'profile_link_color': '1DA1F2',\n",
       "   'profile_sidebar_border_color': 'C0DEED',\n",
       "   'profile_sidebar_fill_color': 'DDEEF6',\n",
       "   'profile_text_color': '333333',\n",
       "   'profile_use_background_image': True,\n",
       "   'has_extended_profile': False,\n",
       "   'default_profile': True,\n",
       "   'default_profile_image': False,\n",
       "   'following': False,\n",
       "   'live_following': False,\n",
       "   'follow_request_sent': False,\n",
       "   'notifications': False,\n",
       "   'muting': False,\n",
       "   'blocking': False,\n",
       "   'blocked_by': False,\n",
       "   'translator_type': 'none'},\n",
       "  {'id': 850714763650846720,\n",
       "   'id_str': '850714763650846720',\n",
       "   'name': 'Patricia Schuster',\n",
       "   'screen_name': 'pfschus',\n",
       "   'location': 'Ann Arbor, MI',\n",
       "   'url': None,\n",
       "   'description': \"President's Postdoctoral Fellow in Michigan NERS department. Interested in nuclear science, radiation detectors, national security, running, and pizza 🍕\",\n",
       "   'protected': False,\n",
       "   'followers_count': 265,\n",
       "   'friends_count': 343,\n",
       "   'listed_count': 6,\n",
       "   'created_at': 'Sat Apr 08 14:19:39 +0000 2017',\n",
       "   'favourites_count': 312,\n",
       "   'utc_offset': None,\n",
       "   'time_zone': None,\n",
       "   'geo_enabled': False,\n",
       "   'verified': False,\n",
       "   'statuses_count': 192,\n",
       "   'lang': None,\n",
       "   'contributors_enabled': False,\n",
       "   'is_translator': False,\n",
       "   'is_translation_enabled': False,\n",
       "   'profile_background_color': 'F5F8FA',\n",
       "   'profile_background_image_url': None,\n",
       "   'profile_background_image_url_https': None,\n",
       "   'profile_background_tile': False,\n",
       "   'profile_image_url': 'http://pbs.twimg.com/profile_images/850730765210054657/x8u0f0r-_normal.jpg',\n",
       "   'profile_image_url_https': 'https://pbs.twimg.com/profile_images/850730765210054657/x8u0f0r-_normal.jpg',\n",
       "   'profile_banner_url': 'https://pbs.twimg.com/profile_banners/850714763650846720/1491664994',\n",
       "   'profile_link_color': '1DA1F2',\n",
       "   'profile_sidebar_border_color': 'C0DEED',\n",
       "   'profile_sidebar_fill_color': 'DDEEF6',\n",
       "   'profile_text_color': '333333',\n",
       "   'profile_use_background_image': True,\n",
       "   'has_extended_profile': False,\n",
       "   'default_profile': True,\n",
       "   'default_profile_image': False,\n",
       "   'following': False,\n",
       "   'live_following': False,\n",
       "   'follow_request_sent': False,\n",
       "   'notifications': False,\n",
       "   'muting': False,\n",
       "   'blocking': False,\n",
       "   'blocked_by': False,\n",
       "   'translator_type': 'none'},\n",
       "  {'id': 326196937,\n",
       "   'id_str': '326196937',\n",
       "   'name': 'Jason Wilkinson',\n",
       "   'screen_name': 'willard125',\n",
       "   'location': 'Lansing',\n",
       "   'url': None,\n",
       "   'description': 'Family man, world traveler, runner, home brewer, gamer. Torn between Colorado & Michigan.',\n",
       "   'protected': False,\n",
       "   'followers_count': 437,\n",
       "   'friends_count': 890,\n",
       "   'listed_count': 24,\n",
       "   'created_at': 'Wed Jun 29 14:51:51 +0000 2011',\n",
       "   'favourites_count': 2988,\n",
       "   'utc_offset': None,\n",
       "   'time_zone': None,\n",
       "   'geo_enabled': False,\n",
       "   'verified': False,\n",
       "   'statuses_count': 4739,\n",
       "   'lang': None,\n",
       "   'contributors_enabled': False,\n",
       "   'is_translator': False,\n",
       "   'is_translation_enabled': False,\n",
       "   'profile_background_color': '022330',\n",
       "   'profile_background_image_url': 'http://abs.twimg.com/images/themes/theme15/bg.png',\n",
       "   'profile_background_image_url_https': 'https://abs.twimg.com/images/themes/theme15/bg.png',\n",
       "   'profile_background_tile': False,\n",
       "   'profile_image_url': 'http://pbs.twimg.com/profile_images/677671521150701568/wCvA6C8D_normal.jpg',\n",
       "   'profile_image_url_https': 'https://pbs.twimg.com/profile_images/677671521150701568/wCvA6C8D_normal.jpg',\n",
       "   'profile_banner_url': 'https://pbs.twimg.com/profile_banners/326196937/1434815040',\n",
       "   'profile_link_color': '00298B',\n",
       "   'profile_sidebar_border_color': 'A8C7F7',\n",
       "   'profile_sidebar_fill_color': 'C0DFEC',\n",
       "   'profile_text_color': '333333',\n",
       "   'profile_use_background_image': True,\n",
       "   'has_extended_profile': False,\n",
       "   'default_profile': False,\n",
       "   'default_profile_image': False,\n",
       "   'following': False,\n",
       "   'live_following': False,\n",
       "   'follow_request_sent': False,\n",
       "   'notifications': False,\n",
       "   'muting': False,\n",
       "   'blocking': False,\n",
       "   'blocked_by': False,\n",
       "   'translator_type': 'none'},\n",
       "  {'id': 1125761947222278146,\n",
       "   'id_str': '1125761947222278146',\n",
       "   'name': 'CSMissThomas',\n",
       "   'screen_name': 'CSMissThomas1',\n",
       "   'location': '',\n",
       "   'url': None,\n",
       "   'description': 'Miss Thomas 🌼 Computer Science Teacher 👩🏽\\u200d🏫 Running, Countryside & Dog Walks with my Frenchie 🐾  Currently Second in Dept, new adventure from September 💭',\n",
       "   'protected': False,\n",
       "   'followers_count': 133,\n",
       "   'friends_count': 378,\n",
       "   'listed_count': 0,\n",
       "   'created_at': 'Tue May 07 13:58:58 +0000 2019',\n",
       "   'favourites_count': 51,\n",
       "   'utc_offset': None,\n",
       "   'time_zone': None,\n",
       "   'geo_enabled': False,\n",
       "   'verified': False,\n",
       "   'statuses_count': 92,\n",
       "   'lang': None,\n",
       "   'contributors_enabled': False,\n",
       "   'is_translator': False,\n",
       "   'is_translation_enabled': False,\n",
       "   'profile_background_color': 'F5F8FA',\n",
       "   'profile_background_image_url': None,\n",
       "   'profile_background_image_url_https': None,\n",
       "   'profile_background_tile': False,\n",
       "   'profile_image_url': 'http://pbs.twimg.com/profile_images/1125762278383652864/Rd3trwvt_normal.jpg',\n",
       "   'profile_image_url_https': 'https://pbs.twimg.com/profile_images/1125762278383652864/Rd3trwvt_normal.jpg',\n",
       "   'profile_banner_url': 'https://pbs.twimg.com/profile_banners/1125761947222278146/1557258816',\n",
       "   'profile_link_color': '1DA1F2',\n",
       "   'profile_sidebar_border_color': 'C0DEED',\n",
       "   'profile_sidebar_fill_color': 'DDEEF6',\n",
       "   'profile_text_color': '333333',\n",
       "   'profile_use_background_image': True,\n",
       "   'has_extended_profile': True,\n",
       "   'default_profile': True,\n",
       "   'default_profile_image': False,\n",
       "   'following': False,\n",
       "   'live_following': False,\n",
       "   'follow_request_sent': False,\n",
       "   'notifications': False,\n",
       "   'muting': False,\n",
       "   'blocking': False,\n",
       "   'blocked_by': False,\n",
       "   'translator_type': 'none'},\n",
       "  {'id': 1123583712145358848,\n",
       "   'id_str': '1123583712145358848',\n",
       "   'name': 'MICDE',\n",
       "   'screen_name': 'UM_MICDE',\n",
       "   'location': 'Ann Arbor, MI',\n",
       "   'url': 'http://micde.umich.edu',\n",
       "   'description': 'MICDE is the focal point for the wide spectrum of research in computational science and engineering at the University of Michigan.',\n",
       "   'protected': False,\n",
       "   'followers_count': 33,\n",
       "   'friends_count': 112,\n",
       "   'listed_count': 0,\n",
       "   'created_at': 'Wed May 01 13:43:26 +0000 2019',\n",
       "   'favourites_count': 12,\n",
       "   'utc_offset': None,\n",
       "   'time_zone': None,\n",
       "   'geo_enabled': False,\n",
       "   'verified': False,\n",
       "   'statuses_count': 13,\n",
       "   'lang': None,\n",
       "   'contributors_enabled': False,\n",
       "   'is_translator': False,\n",
       "   'is_translation_enabled': False,\n",
       "   'profile_background_color': 'F5F8FA',\n",
       "   'profile_background_image_url': None,\n",
       "   'profile_background_image_url_https': None,\n",
       "   'profile_background_tile': False,\n",
       "   'profile_image_url': 'http://pbs.twimg.com/profile_images/1123584391245070336/d5jznbyS_normal.jpg',\n",
       "   'profile_image_url_https': 'https://pbs.twimg.com/profile_images/1123584391245070336/d5jznbyS_normal.jpg',\n",
       "   'profile_banner_url': 'https://pbs.twimg.com/profile_banners/1123583712145358848/1557515786',\n",
       "   'profile_link_color': '1DA1F2',\n",
       "   'profile_sidebar_border_color': 'C0DEED',\n",
       "   'profile_sidebar_fill_color': 'DDEEF6',\n",
       "   'profile_text_color': '333333',\n",
       "   'profile_use_background_image': True,\n",
       "   'has_extended_profile': False,\n",
       "   'default_profile': True,\n",
       "   'default_profile_image': False,\n",
       "   'following': False,\n",
       "   'live_following': False,\n",
       "   'follow_request_sent': False,\n",
       "   'notifications': False,\n",
       "   'muting': False,\n",
       "   'blocking': False,\n",
       "   'blocked_by': False,\n",
       "   'translator_type': 'none'},\n",
       "  {'id': 720389270335135745,\n",
       "   'id_str': '720389270335135745',\n",
       "   'name': 'The Web Conference',\n",
       "   'screen_name': 'TheWebConf',\n",
       "   'location': 'San Francisco, CA',\n",
       "   'url': 'https://www2019.thewebconf.org/',\n",
       "   'description': 'The Web Conference Series (formerly WWW) ||  #TheWebConf',\n",
       "   'protected': False,\n",
       "   'followers_count': 2428,\n",
       "   'friends_count': 181,\n",
       "   'listed_count': 54,\n",
       "   'created_at': 'Wed Apr 13 23:12:41 +0000 2016',\n",
       "   'favourites_count': 846,\n",
       "   'utc_offset': None,\n",
       "   'time_zone': None,\n",
       "   'geo_enabled': True,\n",
       "   'verified': False,\n",
       "   'statuses_count': 1223,\n",
       "   'lang': None,\n",
       "   'contributors_enabled': False,\n",
       "   'is_translator': False,\n",
       "   'is_translation_enabled': False,\n",
       "   'profile_background_color': '000000',\n",
       "   'profile_background_image_url': 'http://abs.twimg.com/images/themes/theme1/bg.png',\n",
       "   'profile_background_image_url_https': 'https://abs.twimg.com/images/themes/theme1/bg.png',\n",
       "   'profile_background_tile': False,\n",
       "   'profile_image_url': 'http://pbs.twimg.com/profile_images/1034427850269503488/9h1m2705_normal.jpg',\n",
       "   'profile_image_url_https': 'https://pbs.twimg.com/profile_images/1034427850269503488/9h1m2705_normal.jpg',\n",
       "   'profile_banner_url': 'https://pbs.twimg.com/profile_banners/720389270335135745/1542413353',\n",
       "   'profile_link_color': 'C63750',\n",
       "   'profile_sidebar_border_color': '000000',\n",
       "   'profile_sidebar_fill_color': '000000',\n",
       "   'profile_text_color': '000000',\n",
       "   'profile_use_background_image': False,\n",
       "   'has_extended_profile': False,\n",
       "   'default_profile': False,\n",
       "   'default_profile_image': False,\n",
       "   'following': False,\n",
       "   'live_following': False,\n",
       "   'follow_request_sent': False,\n",
       "   'notifications': False,\n",
       "   'muting': False,\n",
       "   'blocking': False,\n",
       "   'blocked_by': False,\n",
       "   'translator_type': 'none'},\n",
       "  {'id': 794480772,\n",
       "   'id_str': '794480772',\n",
       "   'name': 'umichCREES',\n",
       "   'screen_name': 'umichCREES',\n",
       "   'location': 'Ann Arbor, MI',\n",
       "   'url': 'http://www.ii.umich.edu/crees',\n",
       "   'description': 'Center for Russian, East European, and Eurasian Studies at the University of Michigan - including Copernicus Program in Polish Studies as #UMichPolish',\n",
       "   'protected': False,\n",
       "   'followers_count': 1305,\n",
       "   'friends_count': 1187,\n",
       "   'listed_count': 51,\n",
       "   'created_at': 'Fri Aug 31 19:09:34 +0000 2012',\n",
       "   'favourites_count': 614,\n",
       "   'utc_offset': None,\n",
       "   'time_zone': None,\n",
       "   'geo_enabled': False,\n",
       "   'verified': False,\n",
       "   'statuses_count': 2795,\n",
       "   'lang': None,\n",
       "   'contributors_enabled': False,\n",
       "   'is_translator': False,\n",
       "   'is_translation_enabled': False,\n",
       "   'profile_background_color': '022330',\n",
       "   'profile_background_image_url': 'http://abs.twimg.com/images/themes/theme15/bg.png',\n",
       "   'profile_background_image_url_https': 'https://abs.twimg.com/images/themes/theme15/bg.png',\n",
       "   'profile_background_tile': False,\n",
       "   'profile_image_url': 'http://pbs.twimg.com/profile_images/378800000026017129/2e9c219dfe217b1f536c96936280fc3d_normal.png',\n",
       "   'profile_image_url_https': 'https://pbs.twimg.com/profile_images/378800000026017129/2e9c219dfe217b1f536c96936280fc3d_normal.png',\n",
       "   'profile_banner_url': 'https://pbs.twimg.com/profile_banners/794480772/1555511781',\n",
       "   'profile_link_color': '0084B4',\n",
       "   'profile_sidebar_border_color': 'A8C7F7',\n",
       "   'profile_sidebar_fill_color': 'C0DFEC',\n",
       "   'profile_text_color': '333333',\n",
       "   'profile_use_background_image': True,\n",
       "   'has_extended_profile': False,\n",
       "   'default_profile': False,\n",
       "   'default_profile_image': False,\n",
       "   'following': False,\n",
       "   'live_following': False,\n",
       "   'follow_request_sent': False,\n",
       "   'notifications': False,\n",
       "   'muting': False,\n",
       "   'blocking': False,\n",
       "   'blocked_by': False,\n",
       "   'translator_type': 'none'},\n",
       "  {'id': 956532894834548736,\n",
       "   'id_str': '956532894834548736',\n",
       "   'name': 'occhiphaura',\n",
       "   'screen_name': 'occhiphaura',\n",
       "   'location': '',\n",
       "   'url': None,\n",
       "   'description': 'Learning coding in #javascript. Interested in #machinelearning and #ai.',\n",
       "   'protected': False,\n",
       "   'followers_count': 5517,\n",
       "   'friends_count': 6006,\n",
       "   'listed_count': 66,\n",
       "   'created_at': 'Thu Jan 25 14:23:08 +0000 2018',\n",
       "   'favourites_count': 25361,\n",
       "   'utc_offset': None,\n",
       "   'time_zone': None,\n",
       "   'geo_enabled': False,\n",
       "   'verified': False,\n",
       "   'statuses_count': 1600,\n",
       "   'lang': None,\n",
       "   'contributors_enabled': False,\n",
       "   'is_translator': False,\n",
       "   'is_translation_enabled': False,\n",
       "   'profile_background_color': 'F5F8FA',\n",
       "   'profile_background_image_url': None,\n",
       "   'profile_background_image_url_https': None,\n",
       "   'profile_background_tile': False,\n",
       "   'profile_image_url': 'http://pbs.twimg.com/profile_images/1010473266169958400/AX7VuVCr_normal.jpg',\n",
       "   'profile_image_url_https': 'https://pbs.twimg.com/profile_images/1010473266169958400/AX7VuVCr_normal.jpg',\n",
       "   'profile_banner_url': 'https://pbs.twimg.com/profile_banners/956532894834548736/1529750566',\n",
       "   'profile_link_color': '1DA1F2',\n",
       "   'profile_sidebar_border_color': 'C0DEED',\n",
       "   'profile_sidebar_fill_color': 'DDEEF6',\n",
       "   'profile_text_color': '333333',\n",
       "   'profile_use_background_image': True,\n",
       "   'has_extended_profile': True,\n",
       "   'default_profile': True,\n",
       "   'default_profile_image': False,\n",
       "   'following': False,\n",
       "   'live_following': False,\n",
       "   'follow_request_sent': False,\n",
       "   'notifications': False,\n",
       "   'muting': False,\n",
       "   'blocking': False,\n",
       "   'blocked_by': False,\n",
       "   'translator_type': 'none'},\n",
       "  {'id': 68134207,\n",
       "   'id_str': '68134207',\n",
       "   'name': 'Terry Miller',\n",
       "   'screen_name': 'mrmiller1972',\n",
       "   'location': 'Michigan',\n",
       "   'url': None,\n",
       "   'description': \"Catholic. husband. hockey dad. @bgsu grad. university technologist #ConfigMgr, #Intune and #PowerShell. Posts are my views, not my employer's.\",\n",
       "   'protected': False,\n",
       "   'followers_count': 559,\n",
       "   'friends_count': 1911,\n",
       "   'listed_count': 47,\n",
       "   'created_at': 'Sun Aug 23 12:28:01 +0000 2009',\n",
       "   'favourites_count': 9921,\n",
       "   'utc_offset': None,\n",
       "   'time_zone': None,\n",
       "   'geo_enabled': True,\n",
       "   'verified': False,\n",
       "   'statuses_count': 10353,\n",
       "   'lang': None,\n",
       "   'contributors_enabled': False,\n",
       "   'is_translator': False,\n",
       "   'is_translation_enabled': False,\n",
       "   'profile_background_color': 'C0DEED',\n",
       "   'profile_background_image_url': 'http://abs.twimg.com/images/themes/theme1/bg.png',\n",
       "   'profile_background_image_url_https': 'https://abs.twimg.com/images/themes/theme1/bg.png',\n",
       "   'profile_background_tile': False,\n",
       "   'profile_image_url': 'http://pbs.twimg.com/profile_images/731650091526721537/vrQgi13f_normal.jpg',\n",
       "   'profile_image_url_https': 'https://pbs.twimg.com/profile_images/731650091526721537/vrQgi13f_normal.jpg',\n",
       "   'profile_banner_url': 'https://pbs.twimg.com/profile_banners/68134207/1393468537',\n",
       "   'profile_link_color': '1DA1F2',\n",
       "   'profile_sidebar_border_color': 'C0DEED',\n",
       "   'profile_sidebar_fill_color': 'DDEEF6',\n",
       "   'profile_text_color': '333333',\n",
       "   'profile_use_background_image': True,\n",
       "   'has_extended_profile': False,\n",
       "   'default_profile': True,\n",
       "   'default_profile_image': False,\n",
       "   'following': False,\n",
       "   'live_following': False,\n",
       "   'follow_request_sent': False,\n",
       "   'notifications': False,\n",
       "   'muting': False,\n",
       "   'blocking': False,\n",
       "   'blocked_by': False,\n",
       "   'translator_type': 'none'},\n",
       "  {'id': 1119248164274483202,\n",
       "   'id_str': '1119248164274483202',\n",
       "   'name': 'Lions Clubs of District 11-B1',\n",
       "   'screen_name': 'lions11b1',\n",
       "   'location': '',\n",
       "   'url': None,\n",
       "   'description': \"Across the globe, Lions are rolling up their sleeves and taking action. With over 1.4 million members, we're the largest service organization in the world.\",\n",
       "   'protected': False,\n",
       "   'followers_count': 6,\n",
       "   'friends_count': 522,\n",
       "   'listed_count': 0,\n",
       "   'created_at': 'Fri Apr 19 14:35:31 +0000 2019',\n",
       "   'favourites_count': 0,\n",
       "   'utc_offset': None,\n",
       "   'time_zone': None,\n",
       "   'geo_enabled': False,\n",
       "   'verified': False,\n",
       "   'statuses_count': 0,\n",
       "   'lang': None,\n",
       "   'contributors_enabled': False,\n",
       "   'is_translator': False,\n",
       "   'is_translation_enabled': False,\n",
       "   'profile_background_color': 'F5F8FA',\n",
       "   'profile_background_image_url': None,\n",
       "   'profile_background_image_url_https': None,\n",
       "   'profile_background_tile': False,\n",
       "   'profile_image_url': 'http://pbs.twimg.com/profile_images/1119248356646313985/cWGV75N6_normal.jpg',\n",
       "   'profile_image_url_https': 'https://pbs.twimg.com/profile_images/1119248356646313985/cWGV75N6_normal.jpg',\n",
       "   'profile_link_color': '1DA1F2',\n",
       "   'profile_sidebar_border_color': 'C0DEED',\n",
       "   'profile_sidebar_fill_color': 'DDEEF6',\n",
       "   'profile_text_color': '333333',\n",
       "   'profile_use_background_image': True,\n",
       "   'has_extended_profile': False,\n",
       "   'default_profile': True,\n",
       "   'default_profile_image': False,\n",
       "   'following': False,\n",
       "   'live_following': False,\n",
       "   'follow_request_sent': False,\n",
       "   'notifications': False,\n",
       "   'muting': False,\n",
       "   'blocking': False,\n",
       "   'blocked_by': False,\n",
       "   'translator_type': 'none'},\n",
       "  {'id': 109561584,\n",
       "   'id_str': '109561584',\n",
       "   'name': 'U-M BEC',\n",
       "   'screen_name': 'uofmbec',\n",
       "   'location': 'Ann Arbor, MI USA',\n",
       "   'url': 'http://www.bec.umich.edu',\n",
       "   'description': 'The University of Michigan Business Engagement Center serves as a portal for companies to access student talent, research expertise, technology, and more.',\n",
       "   'protected': False,\n",
       "   'followers_count': 1342,\n",
       "   'friends_count': 1163,\n",
       "   'listed_count': 60,\n",
       "   'created_at': 'Fri Jan 29 13:38:50 +0000 2010',\n",
       "   'favourites_count': 3754,\n",
       "   'utc_offset': None,\n",
       "   'time_zone': None,\n",
       "   'geo_enabled': False,\n",
       "   'verified': False,\n",
       "   'statuses_count': 4659,\n",
       "   'lang': None,\n",
       "   'contributors_enabled': False,\n",
       "   'is_translator': False,\n",
       "   'is_translation_enabled': False,\n",
       "   'profile_background_color': '00274C',\n",
       "   'profile_background_image_url': 'http://abs.twimg.com/images/themes/theme1/bg.png',\n",
       "   'profile_background_image_url_https': 'https://abs.twimg.com/images/themes/theme1/bg.png',\n",
       "   'profile_background_tile': False,\n",
       "   'profile_image_url': 'http://pbs.twimg.com/profile_images/540129641520844800/FNSDsvHY_normal.png',\n",
       "   'profile_image_url_https': 'https://pbs.twimg.com/profile_images/540129641520844800/FNSDsvHY_normal.png',\n",
       "   'profile_banner_url': 'https://pbs.twimg.com/profile_banners/109561584/1558039890',\n",
       "   'profile_link_color': 'FFCB05',\n",
       "   'profile_sidebar_border_color': '000000',\n",
       "   'profile_sidebar_fill_color': 'A8CDE6',\n",
       "   'profile_text_color': '333333',\n",
       "   'profile_use_background_image': True,\n",
       "   'has_extended_profile': False,\n",
       "   'default_profile': False,\n",
       "   'default_profile_image': False,\n",
       "   'following': False,\n",
       "   'live_following': False,\n",
       "   'follow_request_sent': False,\n",
       "   'notifications': False,\n",
       "   'muting': False,\n",
       "   'blocking': False,\n",
       "   'blocked_by': False,\n",
       "   'translator_type': 'none'},\n",
       "  {'id': 1090270827486965760,\n",
       "   'id_str': '1090270827486965760',\n",
       "   'name': 'William Matthew Limited',\n",
       "   'screen_name': 'WML_Software',\n",
       "   'location': 'Sheffield, England',\n",
       "   'url': 'http://www.wmltd.co.uk',\n",
       "   'description': 'Printer & Document Management Solutions | WML is also the premium partner of #NoMachine in the UK @NXFollowers',\n",
       "   'protected': False,\n",
       "   'followers_count': 187,\n",
       "   'friends_count': 1661,\n",
       "   'listed_count': 0,\n",
       "   'created_at': 'Tue Jan 29 15:29:56 +0000 2019',\n",
       "   'favourites_count': 69,\n",
       "   'utc_offset': None,\n",
       "   'time_zone': None,\n",
       "   'geo_enabled': False,\n",
       "   'verified': False,\n",
       "   'statuses_count': 344,\n",
       "   'lang': None,\n",
       "   'contributors_enabled': False,\n",
       "   'is_translator': False,\n",
       "   'is_translation_enabled': False,\n",
       "   'profile_background_color': '000000',\n",
       "   'profile_background_image_url': 'http://abs.twimg.com/images/themes/theme1/bg.png',\n",
       "   'profile_background_image_url_https': 'https://abs.twimg.com/images/themes/theme1/bg.png',\n",
       "   'profile_background_tile': False,\n",
       "   'profile_image_url': 'http://pbs.twimg.com/profile_images/1091135234328985603/PhZcBV6b_normal.jpg',\n",
       "   'profile_image_url_https': 'https://pbs.twimg.com/profile_images/1091135234328985603/PhZcBV6b_normal.jpg',\n",
       "   'profile_banner_url': 'https://pbs.twimg.com/profile_banners/1090270827486965760/1548781970',\n",
       "   'profile_link_color': 'F47C00',\n",
       "   'profile_sidebar_border_color': '000000',\n",
       "   'profile_sidebar_fill_color': '000000',\n",
       "   'profile_text_color': '000000',\n",
       "   'profile_use_background_image': False,\n",
       "   'has_extended_profile': False,\n",
       "   'default_profile': False,\n",
       "   'default_profile_image': False,\n",
       "   'following': False,\n",
       "   'live_following': False,\n",
       "   'follow_request_sent': False,\n",
       "   'notifications': False,\n",
       "   'muting': False,\n",
       "   'blocking': False,\n",
       "   'blocked_by': False,\n",
       "   'translator_type': 'none'},\n",
       "  {'id': 206941162,\n",
       "   'id_str': '206941162',\n",
       "   'name': 'Poncho Flores',\n",
       "   'screen_name': 'kypo7409',\n",
       "   'location': 'MX',\n",
       "   'url': None,\n",
       "   'description': 'Work hard, Play hard',\n",
       "   'protected': False,\n",
       "   'followers_count': 39,\n",
       "   'friends_count': 99,\n",
       "   'listed_count': 1,\n",
       "   'created_at': 'Sun Oct 24 03:24:49 +0000 2010',\n",
       "   'favourites_count': 64,\n",
       "   'utc_offset': None,\n",
       "   'time_zone': None,\n",
       "   'geo_enabled': True,\n",
       "   'verified': False,\n",
       "   'statuses_count': 657,\n",
       "   'lang': None,\n",
       "   'contributors_enabled': False,\n",
       "   'is_translator': False,\n",
       "   'is_translation_enabled': False,\n",
       "   'profile_background_color': '131516',\n",
       "   'profile_background_image_url': 'http://abs.twimg.com/images/themes/theme14/bg.gif',\n",
       "   'profile_background_image_url_https': 'https://abs.twimg.com/images/themes/theme14/bg.gif',\n",
       "   'profile_background_tile': True,\n",
       "   'profile_image_url': 'http://pbs.twimg.com/profile_images/3579839492/d628bdf600163a0732e536f1aa2d898f_normal.jpeg',\n",
       "   'profile_image_url_https': 'https://pbs.twimg.com/profile_images/3579839492/d628bdf600163a0732e536f1aa2d898f_normal.jpeg',\n",
       "   'profile_banner_url': 'https://pbs.twimg.com/profile_banners/206941162/1447299404',\n",
       "   'profile_link_color': '009999',\n",
       "   'profile_sidebar_border_color': 'EEEEEE',\n",
       "   'profile_sidebar_fill_color': 'EFEFEF',\n",
       "   'profile_text_color': '333333',\n",
       "   'profile_use_background_image': True,\n",
       "   'has_extended_profile': False,\n",
       "   'default_profile': False,\n",
       "   'default_profile_image': False,\n",
       "   'following': False,\n",
       "   'live_following': False,\n",
       "   'follow_request_sent': False,\n",
       "   'notifications': False,\n",
       "   'muting': False,\n",
       "   'blocking': False,\n",
       "   'blocked_by': False,\n",
       "   'translator_type': 'none'},\n",
       "  {'id': 11103092,\n",
       "   'id_str': '11103092',\n",
       "   'name': 'Doug Jennewein',\n",
       "   'screen_name': 'djennewe',\n",
       "   'location': '',\n",
       "   'url': None,\n",
       "   'description': 'Amateur scientician',\n",
       "   'protected': False,\n",
       "   'followers_count': 154,\n",
       "   'friends_count': 923,\n",
       "   'listed_count': 3,\n",
       "   'created_at': 'Wed Dec 12 21:05:38 +0000 2007',\n",
       "   'favourites_count': 2084,\n",
       "   'utc_offset': None,\n",
       "   'time_zone': None,\n",
       "   'geo_enabled': False,\n",
       "   'verified': False,\n",
       "   'statuses_count': 1393,\n",
       "   'lang': None,\n",
       "   'contributors_enabled': False,\n",
       "   'is_translator': False,\n",
       "   'is_translation_enabled': False,\n",
       "   'profile_background_color': 'C0DEED',\n",
       "   'profile_background_image_url': 'http://abs.twimg.com/images/themes/theme1/bg.png',\n",
       "   'profile_background_image_url_https': 'https://abs.twimg.com/images/themes/theme1/bg.png',\n",
       "   'profile_background_tile': False,\n",
       "   'profile_image_url': 'http://pbs.twimg.com/profile_images/627285761054760960/l_FqTHK4_normal.jpg',\n",
       "   'profile_image_url_https': 'https://pbs.twimg.com/profile_images/627285761054760960/l_FqTHK4_normal.jpg',\n",
       "   'profile_banner_url': 'https://pbs.twimg.com/profile_banners/11103092/1469145821',\n",
       "   'profile_link_color': '1DA1F2',\n",
       "   'profile_sidebar_border_color': 'C0DEED',\n",
       "   'profile_sidebar_fill_color': 'DDEEF6',\n",
       "   'profile_text_color': '333333',\n",
       "   'profile_use_background_image': True,\n",
       "   'has_extended_profile': False,\n",
       "   'default_profile': True,\n",
       "   'default_profile_image': False,\n",
       "   'following': False,\n",
       "   'live_following': False,\n",
       "   'follow_request_sent': False,\n",
       "   'notifications': False,\n",
       "   'muting': False,\n",
       "   'blocking': False,\n",
       "   'blocked_by': False,\n",
       "   'translator_type': 'none'},\n",
       "  {'id': 1045679211283959808,\n",
       "   'id_str': '1045679211283959808',\n",
       "   'name': 'Alexander Wood, PhD',\n",
       "   'screen_name': 'woodalexandern',\n",
       "   'location': 'Ann Arbor, MI',\n",
       "   'url': None,\n",
       "   'description': 'Computational medicine. Research Fellow, BCIL @umichmedicine. PhD in Comp. Sci. from @GC_CUNY, MS in Pure Math from @DepaulU. Transgender scientist.',\n",
       "   'protected': False,\n",
       "   'followers_count': 63,\n",
       "   'friends_count': 209,\n",
       "   'listed_count': 1,\n",
       "   'created_at': 'Fri Sep 28 14:18:46 +0000 2018',\n",
       "   'favourites_count': 265,\n",
       "   'utc_offset': None,\n",
       "   'time_zone': None,\n",
       "   'geo_enabled': True,\n",
       "   'verified': False,\n",
       "   'statuses_count': 115,\n",
       "   'lang': None,\n",
       "   'contributors_enabled': False,\n",
       "   'is_translator': False,\n",
       "   'is_translation_enabled': False,\n",
       "   'profile_background_color': 'F5F8FA',\n",
       "   'profile_background_image_url': None,\n",
       "   'profile_background_image_url_https': None,\n",
       "   'profile_background_tile': False,\n",
       "   'profile_image_url': 'http://pbs.twimg.com/profile_images/1129437331566530562/BZyIdu6v_normal.jpg',\n",
       "   'profile_image_url_https': 'https://pbs.twimg.com/profile_images/1129437331566530562/BZyIdu6v_normal.jpg',\n",
       "   'profile_banner_url': 'https://pbs.twimg.com/profile_banners/1045679211283959808/1558113885',\n",
       "   'profile_link_color': '1DA1F2',\n",
       "   'profile_sidebar_border_color': 'C0DEED',\n",
       "   'profile_sidebar_fill_color': 'DDEEF6',\n",
       "   'profile_text_color': '333333',\n",
       "   'profile_use_background_image': True,\n",
       "   'has_extended_profile': True,\n",
       "   'default_profile': True,\n",
       "   'default_profile_image': False,\n",
       "   'following': False,\n",
       "   'live_following': False,\n",
       "   'follow_request_sent': False,\n",
       "   'notifications': False,\n",
       "   'muting': False,\n",
       "   'blocking': False,\n",
       "   'blocked_by': False,\n",
       "   'translator_type': 'none'},\n",
       "  {'id': 14846672,\n",
       "   'id_str': '14846672',\n",
       "   'name': 'Cronan McNamara',\n",
       "   'screen_name': 'cronanmcnamara',\n",
       "   'location': 'Dublin, Ireland',\n",
       "   'url': 'http://www.cremeglobal.com',\n",
       "   'description': 'Founder & CEO @cremeglobal & @PredictConf. We deliver the world class @expertmodels. Boards: @technology_irl and @GovDataIE.',\n",
       "   'protected': False,\n",
       "   'followers_count': 28949,\n",
       "   'friends_count': 30650,\n",
       "   'listed_count': 337,\n",
       "   'created_at': 'Tue May 20 15:48:46 +0000 2008',\n",
       "   'favourites_count': 1292,\n",
       "   'utc_offset': None,\n",
       "   'time_zone': None,\n",
       "   'geo_enabled': True,\n",
       "   'verified': True,\n",
       "   'statuses_count': 1461,\n",
       "   'lang': None,\n",
       "   'contributors_enabled': False,\n",
       "   'is_translator': False,\n",
       "   'is_translation_enabled': False,\n",
       "   'profile_background_color': 'C0DEED',\n",
       "   'profile_background_image_url': 'http://abs.twimg.com/images/themes/theme1/bg.png',\n",
       "   'profile_background_image_url_https': 'https://abs.twimg.com/images/themes/theme1/bg.png',\n",
       "   'profile_background_tile': False,\n",
       "   'profile_image_url': 'http://pbs.twimg.com/profile_images/764055303688183808/ctl5KPg__normal.jpg',\n",
       "   'profile_image_url_https': 'https://pbs.twimg.com/profile_images/764055303688183808/ctl5KPg__normal.jpg',\n",
       "   'profile_banner_url': 'https://pbs.twimg.com/profile_banners/14846672/1426105422',\n",
       "   'profile_link_color': '1DA1F2',\n",
       "   'profile_sidebar_border_color': 'C0DEED',\n",
       "   'profile_sidebar_fill_color': 'DDEEF6',\n",
       "   'profile_text_color': '333333',\n",
       "   'profile_use_background_image': True,\n",
       "   'has_extended_profile': True,\n",
       "   'default_profile': True,\n",
       "   'default_profile_image': False,\n",
       "   'following': False,\n",
       "   'live_following': False,\n",
       "   'follow_request_sent': False,\n",
       "   'notifications': False,\n",
       "   'muting': False,\n",
       "   'blocking': False,\n",
       "   'blocked_by': False,\n",
       "   'translator_type': 'none'},\n",
       "  {'id': 1009796184465182720,\n",
       "   'id_str': '1009796184465182720',\n",
       "   'name': 'Allison Roessler',\n",
       "   'screen_name': 'allisonroessler',\n",
       "   'location': 'Ann Arbor, MI',\n",
       "   'url': None,\n",
       "   'description': 'Chemistry, Theory, Mechanochem, Polymers, SciComm, ChemEd, Health, Science. Living that Grad School Life. ✌🏻Go Blue!',\n",
       "   'protected': False,\n",
       "   'followers_count': 330,\n",
       "   'friends_count': 770,\n",
       "   'listed_count': 2,\n",
       "   'created_at': 'Thu Jun 21 13:52:26 +0000 2018',\n",
       "   'favourites_count': 871,\n",
       "   'utc_offset': None,\n",
       "   'time_zone': None,\n",
       "   'geo_enabled': False,\n",
       "   'verified': False,\n",
       "   'statuses_count': 201,\n",
       "   'lang': None,\n",
       "   'contributors_enabled': False,\n",
       "   'is_translator': False,\n",
       "   'is_translation_enabled': False,\n",
       "   'profile_background_color': '000000',\n",
       "   'profile_background_image_url': 'http://abs.twimg.com/images/themes/theme1/bg.png',\n",
       "   'profile_background_image_url_https': 'https://abs.twimg.com/images/themes/theme1/bg.png',\n",
       "   'profile_background_tile': False,\n",
       "   'profile_image_url': 'http://pbs.twimg.com/profile_images/1126506042139877377/gShlLsRb_normal.png',\n",
       "   'profile_image_url_https': 'https://pbs.twimg.com/profile_images/1126506042139877377/gShlLsRb_normal.png',\n",
       "   'profile_banner_url': 'https://pbs.twimg.com/profile_banners/1009796184465182720/1529606313',\n",
       "   'profile_link_color': '1B95E0',\n",
       "   'profile_sidebar_border_color': '000000',\n",
       "   'profile_sidebar_fill_color': '000000',\n",
       "   'profile_text_color': '000000',\n",
       "   'profile_use_background_image': False,\n",
       "   'has_extended_profile': False,\n",
       "   'default_profile': False,\n",
       "   'default_profile_image': False,\n",
       "   'following': False,\n",
       "   'live_following': False,\n",
       "   'follow_request_sent': False,\n",
       "   'notifications': False,\n",
       "   'muting': False,\n",
       "   'blocking': False,\n",
       "   'blocked_by': False,\n",
       "   'translator_type': 'none'}],\n",
       " 'next_cursor': 1630453917578150627,\n",
       " 'next_cursor_str': '1630453917578150627',\n",
       " 'previous_cursor': 0,\n",
       " 'previous_cursor_str': '0',\n",
       " 'total_count': None}"
      ]
     },
     "execution_count": 29,
     "metadata": {},
     "output_type": "execute_result"
    }
   ],
   "source": [
    "followers = twtr.followers.list(screen_name='arc_um', skip_status=True, include_user_entities=False)\n",
    "followers"
   ]
  },
  {
   "cell_type": "markdown",
   "metadata": {},
   "source": [
    "Print out the __screen name__ and the __description__ of the followers."
   ]
  },
  {
   "cell_type": "code",
   "execution_count": 30,
   "metadata": {},
   "outputs": [
    {
     "name": "stdout",
     "output_type": "stream",
     "text": [
      "0 AESPORIA if (artistic_purpose == artistic_identity):\n",
      "1 um_midas MIDAS catalyzes data science through support for faculty, research, education and training, and industry engagement\n",
      "2 notinorbit New account, old me. InfoSec pro @umisr. Opinions are my own.\n",
      "3 fountain79 Dreamer. Planner. Community Builder. Encourager. Singer. Dancer. Dog lover. Enthusiastically Mediocre Golfer.\n",
      "4 pfschus President's Postdoctoral Fellow in Michigan NERS department. Interested in nuclear science, radiation detectors, national security, running, and pizza 🍕\n",
      "5 willard125 Family man, world traveler, runner, home brewer, gamer. Torn between Colorado & Michigan.\n",
      "6 CSMissThomas1 Miss Thomas 🌼 Computer Science Teacher 👩🏽‍🏫 Running, Countryside & Dog Walks with my Frenchie 🐾  Currently Second in Dept, new adventure from September 💭\n",
      "7 UM_MICDE MICDE is the focal point for the wide spectrum of research in computational science and engineering at the University of Michigan.\n",
      "8 TheWebConf The Web Conference Series (formerly WWW) ||  #TheWebConf\n",
      "9 umichCREES Center for Russian, East European, and Eurasian Studies at the University of Michigan - including Copernicus Program in Polish Studies as #UMichPolish\n",
      "10 occhiphaura Learning coding in #javascript. Interested in #machinelearning and #ai.\n",
      "11 mrmiller1972 Catholic. husband. hockey dad. @bgsu grad. university technologist #ConfigMgr, #Intune and #PowerShell. Posts are my views, not my employer's.\n",
      "12 lions11b1 Across the globe, Lions are rolling up their sleeves and taking action. With over 1.4 million members, we're the largest service organization in the world.\n",
      "13 uofmbec The University of Michigan Business Engagement Center serves as a portal for companies to access student talent, research expertise, technology, and more.\n",
      "14 WML_Software Printer & Document Management Solutions | WML is also the premium partner of #NoMachine in the UK @NXFollowers\n",
      "15 kypo7409 Work hard, Play hard\n",
      "16 djennewe Amateur scientician\n",
      "17 woodalexandern Computational medicine. Research Fellow, BCIL @umichmedicine. PhD in Comp. Sci. from @GC_CUNY, MS in Pure Math from @DepaulU. Transgender scientist.\n",
      "18 cronanmcnamara Founder & CEO @cremeglobal & @PredictConf. We deliver the world class @expertmodels. Boards: @technology_irl and @GovDataIE.\n",
      "19 allisonroessler Chemistry, Theory, Mechanochem, Polymers, SciComm, ChemEd, Health, Science. Living that Grad School Life. ✌🏻Go Blue!\n"
     ]
    }
   ],
   "source": [
    "for i, user in enumerate(followers['users']):\n",
    "    print(i, user['screen_name'], user['description'])"
   ]
  },
  {
   "cell_type": "markdown",
   "metadata": {},
   "source": [
    "To iterate beyond 20 (or whatever you initially asked for), use the key `next_cursor` from the initial result along with the `cursor` argument. Think of it as Page 2. Repeat as necessary (see example below for complete acquisition)."
   ]
  },
  {
   "cell_type": "code",
   "execution_count": 31,
   "metadata": {},
   "outputs": [
    {
     "name": "stdout",
     "output_type": "stream",
     "text": [
      "20 UM_PSC The University of Michigan's Population Studies Center, established in 1961, is an interdisciplinary community of scholars in population research and training.\n",
      "21 sash_mu Biologist & writer.\n",
      "22 UMIOE We excel at analyzing and shaping all types of systems to help solve local and global challenges.\n",
      "23 cnfan99 \n",
      "24 RDCrawford26 PhD student @UMich studying bioinfomatics. @umichsph alum.  R/C++. Interested in genomics, antibiotic resistance, evolution, IPAs, and trail running.\n",
      "25 Maggieyuyaoliu \n",
      "26 MarioAndreWO Músico, professor e pesquisador.\n",
      "27 f_greve Phd student UW-Madison\n",
      "28 evagro Somewhere between idiot and scholar. Generally not the 1⃣, but sometimes that 🐝. I am into birds and I know how to fly in my dreams. 🦉\n",
      "29 LouWassel Detroiter via birth, education, occupation and avocation.\n",
      "30 angelaxocampo @umichLSA Collegiate Fellow in Political Science. @UCLA PhD. @BrownUniversity Alumna. American Politics, Latino Politics, Race, Ethnicity & Politics.\n",
      "31 UMichMCIRCC The Michigan Center for Integrative Research in Critical Care is dedicated to transforming critical care medicine by accelerating science from bench to bedside.\n",
      "32 umtweetdata The U-M research community @UMich tweets about its use of Twitter data in research and analytics\n",
      "33 Beege1117 \n",
      "34 HamidGhanbariMD Cardiac Electrophysiologist, Vice-chair of Innovation, Clinical Researcher, Educator, University of Michigan\n",
      "35 bookofcara Digital marketing strategist in #HigherEd @UMengineering #socialmedia #MSUPW ‘12 #LGBTQ noted celebrity taco\n",
      "36 claytonyochum views barely mine much less anyone else's | give me #rstats or give me death | Data Stuff @PsiKick | Co-organizer @AnnArborRUsers\n",
      "37 MattWangHan PhD student at UMich\n",
      "38 lukectracy I’m a person. I’m like you. And I’m not like you.\n",
      "39 StephenSalerno4 PhD Student | @umichsph | Biostatistics\n",
      "@Cornell '16 | @UMich '18\n"
     ]
    }
   ],
   "source": [
    "followers = twtr.followers.list(screen_name='arc_um', cursor=followers['next_cursor'], skip_status=True, include_user_entities=False, )\n",
    "for i, user in enumerate(followers['users'], start=i+1):\n",
    "    print(i, user['screen_name'], user['description'])"
   ]
  },
  {
   "cell_type": "markdown",
   "metadata": {},
   "source": [
    "## Get a list of Following"
   ]
  },
  {
   "cell_type": "markdown",
   "metadata": {},
   "source": [
    "Use the `friends.list` method to see who a given user is following. Returns a default of 20 results. Can set value up to 200 using the `count` argument."
   ]
  },
  {
   "cell_type": "code",
   "execution_count": 32,
   "metadata": {},
   "outputs": [
    {
     "name": "stdout",
     "output_type": "stream",
     "text": [
      "0 umsi The University of Michigan School of Information creates and shares knowledge so that people will use information -- with technology -- to build a better world.\n",
      "1 chihiroABO Researcher @UMich,@UM_Genetics. Engineer turned Geneticist,Data Scientist. Troublemaker/Troubleshooter. Dog lover. Fave color:Blue. Opinions of my own...\n",
      "2 EdwardTufte Statistician,visualizer,artist. Professor PoliSci, Statistics,CompSci Yale+Princeton 33 years. Founded Graphics Press, Hogpen Hill Tree Farms, ET Modern Gallery\n",
      "3 UMichLaw The world needs lawyers. And Leaders. And Victors. This is where they are made. #LeadersAndBest   • http://fb.me/umichlaw  (Retweets not endorsements.)\n",
      "4 CBSSM CBSSM focuses on clinical & research ethics, health communication & decision making, CBPR, and ELSI of genomics and much more.\n",
      "5 KayteSB Law & bioethics, Assistant Professor @umichmedicine & @CBSSM. Former @bioethicsgov. @PennLaw @UPenn_MedEthics @Middlebury alumna #researchethics (views own)\n",
      "6 WNicholsonPrice Innovation in life sciences; cook; sci-fi lover; prof @UmichLaw\n",
      "7 m_cragin Exec Director, Midwest Big Data Hub\n",
      "RTs ≠ endorsement.\n",
      "8 BrendanNyhan @UMich @fordschool @umisrcps professor, @UpshotNYT contributor, @BrightLineWatch co-organizer. Before: @dartmouth / @CJR / Spinsanity / All the President's Spin\n",
      "9 Ceph Ceph is a massively scalable, open source, distributed storage system. It is comprised of an object store, block store, and a distributed file system. ￼￼🦑\n",
      "10 SIGHPC Official feed for the ACM Special Interest Group on High Performance Computing.\n",
      "11 sciencegateways We provide NSF-funded, online & in-person resources & services to facilitate the sharing of gateway experiences, technologies, & practices at little or no cost.\n",
      "12 globus Globus is SaaS for big data management – researchers use Globus for fast, secure, reliable file transfer, sharing, and data publication.\n",
      "13 YvonneW6463 Denver based gregarious partner & customer relations professional\n",
      "14 meza_rafa Associate Professor @umichsph | Program Leader @UMRogelCancer | Math hombre and cancer epidemiologist working on disease prevention and control | Proud Mexican\n",
      "15 emilymprovost Associate Professor, Computer Science and Engineering, University of Michigan - interested in applied machine learning, speech, and human behavior\n",
      "16 JohnsenSCFPL News from Eric Johnsen’s Scientific Computing and Flow Physics Laboratory at #umich\n",
      "17 UMassDataSci Center for Data Science, College of Information and Computer Sciences, UMass Amherst\n",
      "18 UM_MiCHAMP MiCHAMP is a multi-disciplinary group of data scientists, informaticians, & clinicians coming together to transform patient care at the University of Michigan.\n",
      "19 Dropbox Keep teams flowing with Dropbox. Need support? Head to @DropboxSupport.\n"
     ]
    }
   ],
   "source": [
    "following = twtr.friends.list(screen_name='arc_um', skip_status=True, include_user_entities=False)\n",
    "for i, user in enumerate(following['users']):\n",
    "    print(i, user['screen_name'], user['description'])"
   ]
  },
  {
   "cell_type": "markdown",
   "metadata": {},
   "source": [
    "Same function argument to access \"Page 2\" of the results as in the followers example."
   ]
  },
  {
   "cell_type": "markdown",
   "metadata": {},
   "source": [
    "## Cross Reference Followers and Following"
   ]
  },
  {
   "cell_type": "markdown",
   "metadata": {},
   "source": [
    "Here is some example code to cross reference the two lists to see which relationships are reciprocated."
   ]
  },
  {
   "cell_type": "markdown",
   "metadata": {},
   "source": [
    "This function appends a list of users to an existing list."
   ]
  },
  {
   "cell_type": "code",
   "execution_count": 33,
   "metadata": {},
   "outputs": [],
   "source": [
    "def append_users(f, list_users):\n",
    "    for user in f['users']:\n",
    "        list_users.append(user['screen_name'])\n",
    "    return list_users"
   ]
  },
  {
   "cell_type": "markdown",
   "metadata": {},
   "source": [
    "Grab entire list of followers."
   ]
  },
  {
   "cell_type": "code",
   "execution_count": 34,
   "metadata": {},
   "outputs": [
    {
     "name": "stdout",
     "output_type": "stream",
     "text": [
      "There are 597 followers\n"
     ]
    }
   ],
   "source": [
    "followers = {}\n",
    "followers['next_cursor'] = -1\n",
    "lemmings = []\n",
    "while (followers['next_cursor'] != 0):\n",
    "    followers = twtr.followers.list(screen_name='arc_um', count=200, cursor=followers['next_cursor'])\n",
    "    lemmings = append_users(followers, lemmings)\n",
    "print(f'There are {len(lemmings)} followers')"
   ]
  },
  {
   "cell_type": "code",
   "execution_count": 35,
   "metadata": {},
   "outputs": [
    {
     "data": {
      "text/plain": [
       "['AESPORIA',\n",
       " 'um_midas',\n",
       " 'notinorbit',\n",
       " 'fountain79',\n",
       " 'pfschus',\n",
       " 'willard125',\n",
       " 'CSMissThomas1',\n",
       " 'UM_MICDE',\n",
       " 'TheWebConf',\n",
       " 'umichCREES']"
      ]
     },
     "execution_count": 35,
     "metadata": {},
     "output_type": "execute_result"
    }
   ],
   "source": [
    "lemmings[:10]"
   ]
  },
  {
   "cell_type": "markdown",
   "metadata": {},
   "source": [
    "Grab entire list of following."
   ]
  },
  {
   "cell_type": "code",
   "execution_count": 36,
   "metadata": {
    "scrolled": true
   },
   "outputs": [
    {
     "name": "stdout",
     "output_type": "stream",
     "text": [
      "Following 186 accounts.\n"
     ]
    }
   ],
   "source": [
    "following = {}\n",
    "following['next_cursor'] = -1\n",
    "leaders = []\n",
    "while (following['next_cursor'] != 0):\n",
    "    following = twtr.friends.list(screen_name='arc_um', count=200, cursor=following['next_cursor'])\n",
    "    leaders = append_users(following, leaders)\n",
    "print(f'Following {len(leaders)} accounts.')"
   ]
  },
  {
   "cell_type": "markdown",
   "metadata": {},
   "source": [
    "Find the intersection of the two groups using a set operations."
   ]
  },
  {
   "cell_type": "code",
   "execution_count": 37,
   "metadata": {},
   "outputs": [
    {
     "name": "stdout",
     "output_type": "stream",
     "text": [
      "86 {'astrocurry', 'NYUDataScience', 'MichEnergy', 'dmaletta', 'ARCTS_UM', 'mcarrt', 'ljdursi', 'JohnsenSCFPL', 'YvonneW6463', 'IllinoisIHSI', 'sgowtham', 'jeefy', 'umichTECH', 'icermsu', 'vcollab', 'SBroudeGeva', 'umisr', 'MWBigDataHub', 'nanoHUBnews', 'KirkDBorne', 'danabrunson', 'BloodFlowSim', 'CASC_HPC', 'umichgradschool', 'UM_IHPI', 'UM_MiCHAMP', 'uwescience', 'sciencegateways', 'emilymprovost', 'SOCRedu', 'peh3iii', 'UMCAIM', 'UMPublicAffairs', 'UMich_CRLT', 'MoiraCAD', 'urcmich', 'PurdueRCAC', 'chihiroABO', 'MrBobbyTables', 'schelcj', 'russellfunk', 'tfinholt', 'aulia_khamas', 'mdst_umich', 'denizbilman', 'YottabyteLLC', 'NUITResearch', 'm_cragin', 'UMLifeSciences', 'UMichResearch', 'nswigginton', 'umichmedicine', 'oliviawalch', 'francescadomin8', 'UMich', 'ncm140', 'MarsdenStanford', 'open_michigan', 'UMichiganAI', 'ConversationUS', 'tonymarkel', 'DanEklund_UMich', 'brockpalen', 'uclbdi', 'XSEDEscience', 'jesse_caps', 'jhallum', 'umsi', 'SciNode', 'UMichiganNews', 'AmberHarmon', 'UMassDataSci', 'TDataScience', 'QLogic', 'cjantonelli', 'dankessler', 'umichrna', 'PRACE_RI', 'colbrydi', 'thanss', 'umichFFMI', 'Prof_DavidBader', 'EECSatMI', 'UMengineering', 'BrendanNyhan', 'BonezNQuality'}\n"
     ]
    }
   ],
   "source": [
    "lemmings = set(lemmings)\n",
    "leaders = set(leaders)\n",
    "relationship = leaders.intersection(lemmings)\n",
    "print(len(relationship), relationship)"
   ]
  },
  {
   "cell_type": "markdown",
   "metadata": {},
   "source": [
    "## Search for Trends by Where on Earth (WOE) ID"
   ]
  },
  {
   "cell_type": "markdown",
   "metadata": {},
   "source": [
    "Use the `trends.place` method to get a list of trending topics for a given location. The location is specified using the WOE ID.  \n",
    "A WOE ID is a unique identifier for a place on Earth. "
   ]
  },
  {
   "cell_type": "markdown",
   "metadata": {},
   "source": [
    "Here is a dictionary of places and WOE IDs."
   ]
  },
  {
   "cell_type": "code",
   "execution_count": 38,
   "metadata": {},
   "outputs": [],
   "source": [
    "woeid = {'World':1, 'USA':23424977, 'San Francisco':2487956, 'Los Angeles':2442047,\n",
    "         'Canada':23424775, 'Toronto':4118, 'Montreal':3534,\n",
    "         'United Kingdom':23424975, 'Germany':23424829}"
   ]
  },
  {
   "cell_type": "markdown",
   "metadata": {},
   "source": [
    "Searching for trends by WOE ID is analagous to searching for YouTube videos by Region Code."
   ]
  },
  {
   "cell_type": "code",
   "execution_count": 39,
   "metadata": {},
   "outputs": [],
   "source": [
    "woe_trends = twtr.trends.place(_id=woeid['Canada'])"
   ]
  },
  {
   "cell_type": "code",
   "execution_count": 40,
   "metadata": {},
   "outputs": [
    {
     "data": {
      "text/plain": [
       "[{'trends': [{'name': 'DJ Smith',\n",
       "    'url': 'http://twitter.com/search?q=%22DJ+Smith%22',\n",
       "    'promoted_content': None,\n",
       "    'query': '%22DJ+Smith%22',\n",
       "    'tweet_volume': None},\n",
       "   {'name': '#GreaterTorontoDay',\n",
       "    'url': 'http://twitter.com/search?q=%23GreaterTorontoDay',\n",
       "    'promoted_content': None,\n",
       "    'query': '%23GreaterTorontoDay',\n",
       "    'tweet_volume': None},\n",
       "   {'name': '#WorldTurtleDay',\n",
       "    'url': 'http://twitter.com/search?q=%23WorldTurtleDay',\n",
       "    'promoted_content': None,\n",
       "    'query': '%23WorldTurtleDay',\n",
       "    'tweet_volume': 15562},\n",
       "   {'name': 'Ottawa Senators',\n",
       "    'url': 'http://twitter.com/search?q=%22Ottawa+Senators%22',\n",
       "    'promoted_content': None,\n",
       "    'query': '%22Ottawa+Senators%22',\n",
       "    'tweet_volume': None},\n",
       "   {'name': '#ThursdayThoughts',\n",
       "    'url': 'http://twitter.com/search?q=%23ThursdayThoughts',\n",
       "    'promoted_content': None,\n",
       "    'query': '%23ThursdayThoughts',\n",
       "    'tweet_volume': 47399},\n",
       "   {'name': '#TerminatorDarkFate',\n",
       "    'url': 'http://twitter.com/search?q=%23TerminatorDarkFate',\n",
       "    'promoted_content': None,\n",
       "    'query': '%23TerminatorDarkFate',\n",
       "    'tweet_volume': 14723},\n",
       "   {'name': '#5SOS',\n",
       "    'url': 'http://twitter.com/search?q=%235SOS',\n",
       "    'promoted_content': None,\n",
       "    'query': '%235SOS',\n",
       "    'tweet_volume': 55644},\n",
       "   {'name': 'Linda Hamilton',\n",
       "    'url': 'http://twitter.com/search?q=%22Linda+Hamilton%22',\n",
       "    'promoted_content': None,\n",
       "    'query': '%22Linda+Hamilton%22',\n",
       "    'tweet_volume': None},\n",
       "   {'name': 'Beaton Tulk',\n",
       "    'url': 'http://twitter.com/search?q=%22Beaton+Tulk%22',\n",
       "    'promoted_content': None,\n",
       "    'query': '%22Beaton+Tulk%22',\n",
       "    'tweet_volume': None},\n",
       "   {'name': 'Tillerson',\n",
       "    'url': 'http://twitter.com/search?q=Tillerson',\n",
       "    'promoted_content': None,\n",
       "    'query': 'Tillerson',\n",
       "    'tweet_volume': 58945},\n",
       "   {'name': 'Dark Fate',\n",
       "    'url': 'http://twitter.com/search?q=%22Dark+Fate%22',\n",
       "    'promoted_content': None,\n",
       "    'query': '%22Dark+Fate%22',\n",
       "    'tweet_volume': 11339},\n",
       "   {'name': 'Judith Kerr',\n",
       "    'url': 'http://twitter.com/search?q=%22Judith+Kerr%22',\n",
       "    'promoted_content': None,\n",
       "    'query': '%22Judith+Kerr%22',\n",
       "    'tweet_volume': 24841},\n",
       "   {'name': 'Chief Poundmaker',\n",
       "    'url': 'http://twitter.com/search?q=%22Chief+Poundmaker%22',\n",
       "    'promoted_content': None,\n",
       "    'query': '%22Chief+Poundmaker%22',\n",
       "    'tweet_volume': None},\n",
       "   {'name': 'The Tiger Who Came to Tea',\n",
       "    'url': 'http://twitter.com/search?q=%22The+Tiger+Who+Came+to+Tea%22',\n",
       "    'promoted_content': None,\n",
       "    'query': '%22The+Tiger+Who+Came+to+Tea%22',\n",
       "    'tweet_volume': 10122},\n",
       "   {'name': 'Don Pittis',\n",
       "    'url': 'http://twitter.com/search?q=%22Don+Pittis%22',\n",
       "    'promoted_content': None,\n",
       "    'query': '%22Don+Pittis%22',\n",
       "    'tweet_volume': None},\n",
       "   {'name': 'Owen Hart',\n",
       "    'url': 'http://twitter.com/search?q=%22Owen+Hart%22',\n",
       "    'promoted_content': None,\n",
       "    'query': '%22Owen+Hart%22',\n",
       "    'tweet_volume': None},\n",
       "   {'name': 'The TTC',\n",
       "    'url': 'http://twitter.com/search?q=%22The+TTC%22',\n",
       "    'promoted_content': None,\n",
       "    'query': '%22The+TTC%22',\n",
       "    'tweet_volume': None},\n",
       "   {'name': \"Children's Aid\",\n",
       "    'url': 'http://twitter.com/search?q=%22Children%27s+Aid%22',\n",
       "    'promoted_content': None,\n",
       "    'query': '%22Children%27s+Aid%22',\n",
       "    'tweet_volume': None},\n",
       "   {'name': 'Sarah Connor',\n",
       "    'url': 'http://twitter.com/search?q=%22Sarah+Connor%22',\n",
       "    'promoted_content': None,\n",
       "    'query': '%22Sarah+Connor%22',\n",
       "    'tweet_volume': None},\n",
       "   {'name': 'Secretary of State',\n",
       "    'url': 'http://twitter.com/search?q=%22Secretary+of+State%22',\n",
       "    'promoted_content': None,\n",
       "    'query': '%22Secretary+of+State%22',\n",
       "    'tweet_volume': 28761},\n",
       "   {'name': 'amethi',\n",
       "    'url': 'http://twitter.com/search?q=amethi',\n",
       "    'promoted_content': None,\n",
       "    'query': 'amethi',\n",
       "    'tweet_volume': 142747},\n",
       "   {'name': 'Keefe',\n",
       "    'url': 'http://twitter.com/search?q=Keefe',\n",
       "    'promoted_content': None,\n",
       "    'query': 'Keefe',\n",
       "    'tweet_volume': None},\n",
       "   {'name': 'John Walker Lindh',\n",
       "    'url': 'http://twitter.com/search?q=%22John+Walker+Lindh%22',\n",
       "    'promoted_content': None,\n",
       "    'query': '%22John+Walker+Lindh%22',\n",
       "    'tweet_volume': 11320},\n",
       "   {'name': 'Bill 108',\n",
       "    'url': 'http://twitter.com/search?q=%22Bill+108%22',\n",
       "    'promoted_content': None,\n",
       "    'query': '%22Bill+108%22',\n",
       "    'tweet_volume': None},\n",
       "   {'name': 'Jacques Martin',\n",
       "    'url': 'http://twitter.com/search?q=%22Jacques+Martin%22',\n",
       "    'promoted_content': None,\n",
       "    'query': '%22Jacques+Martin%22',\n",
       "    'tweet_volume': None},\n",
       "   {'name': 'granby',\n",
       "    'url': 'http://twitter.com/search?q=granby',\n",
       "    'promoted_content': None,\n",
       "    'query': 'granby',\n",
       "    'tweet_volume': None},\n",
       "   {'name': 'Rahul Gandhi',\n",
       "    'url': 'http://twitter.com/search?q=%22Rahul+Gandhi%22',\n",
       "    'promoted_content': None,\n",
       "    'query': '%22Rahul+Gandhi%22',\n",
       "    'tweet_volume': 115497},\n",
       "   {'name': 'Jefferson City',\n",
       "    'url': 'http://twitter.com/search?q=%22Jefferson+City%22',\n",
       "    'promoted_content': None,\n",
       "    'query': '%22Jefferson+City%22',\n",
       "    'tweet_volume': 36215},\n",
       "   {'name': '#EASIER',\n",
       "    'url': 'http://twitter.com/search?q=%23EASIER',\n",
       "    'promoted_content': None,\n",
       "    'query': '%23EASIER',\n",
       "    'tweet_volume': 66748},\n",
       "   {'name': '#ThursdayMotivation',\n",
       "    'url': 'http://twitter.com/search?q=%23ThursdayMotivation',\n",
       "    'promoted_content': None,\n",
       "    'query': '%23ThursdayMotivation',\n",
       "    'tweet_volume': 23211},\n",
       "   {'name': '#PitDark',\n",
       "    'url': 'http://twitter.com/search?q=%23PitDark',\n",
       "    'promoted_content': None,\n",
       "    'query': '%23PitDark',\n",
       "    'tweet_volume': None},\n",
       "   {'name': '#Senators',\n",
       "    'url': 'http://twitter.com/search?q=%23Senators',\n",
       "    'promoted_content': None,\n",
       "    'query': '%23Senators',\n",
       "    'tweet_volume': None},\n",
       "   {'name': '#ShareYourShift',\n",
       "    'url': 'http://twitter.com/search?q=%23ShareYourShift',\n",
       "    'promoted_content': None,\n",
       "    'query': '%23ShareYourShift',\n",
       "    'tweet_volume': None},\n",
       "   {'name': '#onstorm',\n",
       "    'url': 'http://twitter.com/search?q=%23onstorm',\n",
       "    'promoted_content': None,\n",
       "    'query': '%23onstorm',\n",
       "    'tweet_volume': None},\n",
       "   {'name': '#OutdoorClassroomDay',\n",
       "    'url': 'http://twitter.com/search?q=%23OutdoorClassroomDay',\n",
       "    'promoted_content': None,\n",
       "    'query': '%23OutdoorClassroomDay',\n",
       "    'tweet_volume': None},\n",
       "   {'name': '#CPS19',\n",
       "    'url': 'http://twitter.com/search?q=%23CPS19',\n",
       "    'promoted_content': None,\n",
       "    'query': '%23CPS19',\n",
       "    'tweet_volume': None},\n",
       "   {'name': '#GoSensGo',\n",
       "    'url': 'http://twitter.com/search?q=%23GoSensGo',\n",
       "    'promoted_content': None,\n",
       "    'query': '%23GoSensGo',\n",
       "    'tweet_volume': None},\n",
       "   {'name': '#TrumpTantrum',\n",
       "    'url': 'http://twitter.com/search?q=%23TrumpTantrum',\n",
       "    'promoted_content': None,\n",
       "    'query': '%23TrumpTantrum',\n",
       "    'tweet_volume': 43959},\n",
       "   {'name': '#GreyCup',\n",
       "    'url': 'http://twitter.com/search?q=%23GreyCup',\n",
       "    'promoted_content': None,\n",
       "    'query': '%23GreyCup',\n",
       "    'tweet_volume': None},\n",
       "   {'name': '#MTSAGM2019',\n",
       "    'url': 'http://twitter.com/search?q=%23MTSAGM2019',\n",
       "    'promoted_content': None,\n",
       "    'query': '%23MTSAGM2019',\n",
       "    'tweet_volume': None},\n",
       "   {'name': '#MelnykOut',\n",
       "    'url': 'http://twitter.com/search?q=%23MelnykOut',\n",
       "    'promoted_content': None,\n",
       "    'query': '%23MelnykOut',\n",
       "    'tweet_volume': None},\n",
       "   {'name': '#VijayiBharat',\n",
       "    'url': 'http://twitter.com/search?q=%23VijayiBharat',\n",
       "    'promoted_content': None,\n",
       "    'query': '%23VijayiBharat',\n",
       "    'tweet_volume': 246784},\n",
       "   {'name': '#thursdaymorning',\n",
       "    'url': 'http://twitter.com/search?q=%23thursdaymorning',\n",
       "    'promoted_content': None,\n",
       "    'query': '%23thursdaymorning',\n",
       "    'tweet_volume': None},\n",
       "   {'name': '#ModiSweep',\n",
       "    'url': 'http://twitter.com/search?q=%23ModiSweep',\n",
       "    'promoted_content': None,\n",
       "    'query': '%23ModiSweep',\n",
       "    'tweet_volume': 31942},\n",
       "   {'name': '#EUelections2019',\n",
       "    'url': 'http://twitter.com/search?q=%23EUelections2019',\n",
       "    'promoted_content': None,\n",
       "    'query': '%23EUelections2019',\n",
       "    'tweet_volume': 126042},\n",
       "   {'name': '#IndianElections2019',\n",
       "    'url': 'http://twitter.com/search?q=%23IndianElections2019',\n",
       "    'promoted_content': None,\n",
       "    'query': '%23IndianElections2019',\n",
       "    'tweet_volume': 28746},\n",
       "   {'name': '#EuropeanElection2019',\n",
       "    'url': 'http://twitter.com/search?q=%23EuropeanElection2019',\n",
       "    'promoted_content': None,\n",
       "    'query': '%23EuropeanElection2019',\n",
       "    'tweet_volume': 24828},\n",
       "   {'name': '#NAAFE2019',\n",
       "    'url': 'http://twitter.com/search?q=%23NAAFE2019',\n",
       "    'promoted_content': None,\n",
       "    'query': '%23NAAFE2019',\n",
       "    'tweet_volume': None},\n",
       "   {'name': '#RelayForLife',\n",
       "    'url': 'http://twitter.com/search?q=%23RelayForLife',\n",
       "    'promoted_content': None,\n",
       "    'query': '%23RelayForLife',\n",
       "    'tweet_volume': None},\n",
       "   {'name': '#ModiAaGaya',\n",
       "    'url': 'http://twitter.com/search?q=%23ModiAaGaya',\n",
       "    'promoted_content': None,\n",
       "    'query': '%23ModiAaGaya',\n",
       "    'tweet_volume': 79534}],\n",
       "  'as_of': '2019-05-23T14:37:50Z',\n",
       "  'created_at': '2019-05-23T14:34:06Z',\n",
       "  'locations': [{'name': 'Canada', 'woeid': 23424775}]}]"
      ]
     },
     "execution_count": 40,
     "metadata": {},
     "output_type": "execute_result"
    }
   ],
   "source": [
    "woe_trends"
   ]
  },
  {
   "cell_type": "markdown",
   "metadata": {},
   "source": [
    "Print out top 10 trending topics with number of tweets"
   ]
  },
  {
   "cell_type": "code",
   "execution_count": 41,
   "metadata": {},
   "outputs": [
    {
     "name": "stdout",
     "output_type": "stream",
     "text": [
      "DJ Smith None\n",
      "#GreaterTorontoDay None\n",
      "#WorldTurtleDay 15562\n",
      "Ottawa Senators None\n",
      "#ThursdayThoughts 47399\n",
      "#TerminatorDarkFate 14723\n",
      "#5SOS 55644\n",
      "Linda Hamilton None\n",
      "Beaton Tulk None\n",
      "Tillerson 58945\n"
     ]
    }
   ],
   "source": [
    "trends = woe_trends[0]['trends']\n",
    "for trend in trends[:10]:\n",
    "    print(trend['name'], trend['tweet_volume'])"
   ]
  },
  {
   "cell_type": "markdown",
   "metadata": {},
   "source": [
    "Here is a URL detailing the WOE ID's supported by Twitter.  \n",
    "https://twittercommunity.com/t/what-are-the-list-of-woeids-supported-by-twitter/8493/2.\n",
    "\n",
    "**Note**: Not all WOE IDs are supported by Twitter. Places like Ann Arbor or Michigan are not. Apparently not important enough :("
   ]
  },
  {
   "cell_type": "markdown",
   "metadata": {},
   "source": [
    "## Submit Your Own Tweet"
   ]
  },
  {
   "cell_type": "markdown",
   "metadata": {},
   "source": [
    "If you want to become an *evil trolling TwitterBot*, this is the first step towards darkness (although that would probably violate the use case you signed up for). Use the `statuses.update` method to start tweeting from Python."
   ]
  },
  {
   "cell_type": "code",
   "execution_count": null,
   "metadata": {
    "collapsed": true
   },
   "outputs": [],
   "source": [
    "#twtr.statuses.update(status=\"Python BotTweeting from the Twitter API workshop. Thanks #CSCAR, #UMTweetCon2019, @ARC_UM\")"
   ]
  },
  {
   "cell_type": "markdown",
   "metadata": {},
   "source": [
    "Tweeting parameters can be found at  \n",
    "https://developer.twitter.com/en/docs/tweets/post-and-engage/api-reference/post-statuses-update"
   ]
  },
  {
   "cell_type": "markdown",
   "metadata": {},
   "source": [
    "If you've been counting, we've touched upon 6+ API endpoints out of the 100+ endpoints available."
   ]
  },
  {
   "cell_type": "markdown",
   "metadata": {
    "collapsed": true
   },
   "source": [
    "## Rate Limits"
   ]
  },
  {
   "cell_type": "markdown",
   "metadata": {},
   "source": [
    "Usage of the Twitter API is subject to rate limits which varies based on the endpoint.  \n",
    "Details can be found here at https://developer.twitter.com/en/docs/basics/rate-limits."
   ]
  },
  {
   "cell_type": "markdown",
   "metadata": {
    "collapsed": true
   },
   "source": [
    "# Twitter Streaming API"
   ]
  },
  {
   "cell_type": "markdown",
   "metadata": {},
   "source": [
    "The streaming API is used to collect tweets from the future. The streaming API provides a **sample** of the available Tweets. Polling and rate limits do NOT apply to the streaming API.\n",
    "\n",
    "See the [overview on how to Filter Realtime Tweets](https://developer.twitter.com/en/docs/tweets/filter-realtime/overview) to see what the standard API is lacking compared to the **Enterprise** version.\n",
    "\n",
    "Details on the public data streaming API can be found here at \n",
    "https://developer.twitter.com/en/docs/tweets/filter-realtime/api-reference/post-statuses-filter"
   ]
  },
  {
   "cell_type": "markdown",
   "metadata": {},
   "source": [
    "This code block is here so we can quickly restart the kernel if the streaming API is complaining about `Exceeded connection limit for user`."
   ]
  },
  {
   "cell_type": "code",
   "execution_count": null,
   "metadata": {
    "collapsed": true
   },
   "outputs": [],
   "source": [
    "consumerKey = os.getenv('consumerkey')\n",
    "consumerSecret = os.getenv('consumersecret')\n",
    "oauthToken = os.getenv('accesstoken')\n",
    "oauthTokenSecret = os.getenv('accesstokensecret')\n",
    "\n",
    "import twitter\n",
    "auth = twitter.OAuth(oauthToken, oauthTokenSecret, consumerKey, consumerSecret)"
   ]
  },
  {
   "cell_type": "markdown",
   "metadata": {},
   "source": [
    "We need to create a new API hand for streaming using our authentication. Only one standing connection per account is allowed to a public endpoint. We'll be using the public stream API which is specified in the domain argument."
   ]
  },
  {
   "cell_type": "code",
   "execution_count": 42,
   "metadata": {},
   "outputs": [],
   "source": [
    "twtr_stream = twitter.TwitterStream(auth=auth, domain=\"stream.twitter.com\")"
   ]
  },
  {
   "cell_type": "markdown",
   "metadata": {},
   "source": [
    "**Note**: You can NOT request every future Tweet through this API. That is referred to as the Firehose. It costs a lot of `$$$$$$$$`."
   ]
  },
  {
   "cell_type": "markdown",
   "metadata": {
    "collapsed": true
   },
   "source": [
    "## Search by Filter"
   ]
  },
  {
   "cell_type": "markdown",
   "metadata": {},
   "source": [
    "Stream searches are done with a delimited list of terms. A phrase may consist of one or more terms. Term ordering is ignored and searches are not case sensitive.\n",
    " \n",
    "spaces == logical ANDs (e.g. `\"Alex twitter\" == \"alex AND twitter\"`)  \n",
    "commas == logical ORs (e.g. `\"Alex, twitter\" == \"Alex OR twitter\"`)\n",
    "\n",
    "The text of the Tweet and some entity fields are considered for matches. Specifically:\n",
    "- the `text` attribute of the Tweet\n",
    "- `expanded_url` and `display_url` for links and media\n",
    "- `text` for hashtags\n",
    "- and `screen_name` for user mentions"
   ]
  },
  {
   "cell_type": "markdown",
   "metadata": {},
   "source": [
    "Use the `statuses.filter` method to create a streaming query."
   ]
  },
  {
   "cell_type": "code",
   "execution_count": 43,
   "metadata": {},
   "outputs": [],
   "source": [
    "iterator = twtr_stream.statuses.filter(track=\"tennis, michigan\")"
   ]
  },
  {
   "cell_type": "markdown",
   "metadata": {},
   "source": [
    "Use a `for` loop to get the generator to yield future results as they come in. I'm printing the fields (where applicable) that are being searched except time. The `break` command is to prevent it going on indefinitely.\n",
    "\n",
    "**Tip**: Use the stop button in the toolbar to prevent it from going to 100."
   ]
  },
  {
   "cell_type": "code",
   "execution_count": 44,
   "metadata": {
    "scrolled": true
   },
   "outputs": [
    {
     "name": "stdout",
     "output_type": "stream",
     "text": [
      "0 Time: Thu May 23 14:38:09 +0000 2019\n",
      "Tweet: RT @FaithfulSports_: Who's the real MSU? Like for Mississippi State, Retweet for Michigan State \n",
      "#MississippiState #MichiganState https://t…\n",
      "Tweet URL: https://twitter.com/AnCapTrev/status/1131570015172517888\n",
      "Hashtags: MississippiState\n",
      "\n",
      "\n",
      "1 Time: Thu May 23 14:38:09 +0000 2019\n",
      "Tweet: RT @tribelaw: The way @PeteButtigieg thinks and speaks: like a lake in spring — crystal clear all the way down https://t.co/GvtSVmq3b1\n",
      "Tweet URL: https://twitter.com/AuthorJackBloom/status/1131570015495446531\n",
      "\n",
      "\n",
      "2 Time: Thu May 23 14:38:12 +0000 2019\n",
      "Tweet: A fantastic day out at the tennis tournament today, coming 2nd and bringing home the silver medals.  What a great e… https://t.co/vDfezEXcLu\n",
      "Tweet URL: https://twitter.com/stmichaelssand/status/1131570024869769216\n",
      "\n",
      "\n",
      "3 Time: Thu May 23 14:38:13 +0000 2019\n",
      "Tweet: RT @FaithfulSports_: Who's the real MSU? Like for Mississippi State, Retweet for Michigan State \n",
      "#MississippiState #MichiganState https://t…\n",
      "Tweet URL: https://twitter.com/ZackMann8/status/1131570029735153665\n",
      "Hashtags: MississippiState\n",
      "\n",
      "\n",
      "4 Time: Thu May 23 14:38:13 +0000 2019\n",
      "Tweet: RT @KyleAMadson: Does Chris Webber know this?? https://t.co/AYP6NGlwkt\n",
      "Tweet URL: https://twitter.com/PrideOfLR/status/1131570031265869826\n",
      "\n",
      "\n"
     ]
    }
   ],
   "source": [
    "for i, tweet in enumerate(iterator):   \n",
    "    print(f\"{i} Time: {tweet['created_at']}\")\n",
    "    print(f\"Tweet: {tweet['text']}\")\n",
    "    print(f\"Tweet URL: https://twitter.com/{tweet['user']['screen_name']}/status/{tweet['id']}\")\n",
    "    if len(tweet['entities']['hashtags']) > 0:\n",
    "        print(f\"Hashtags: {tweet['entities']['hashtags'][0]['text']}\")\n",
    "    print(\"\\n\")\n",
    "    if i > 3:\n",
    "        break"
   ]
  },
  {
   "cell_type": "markdown",
   "metadata": {},
   "source": [
    "More details on the `tracks` request parameter can be found at https://developer.twitter.com/en/docs/tweets/filter-realtime/guides/basic-stream-parameters."
   ]
  },
  {
   "cell_type": "markdown",
   "metadata": {
    "collapsed": true
   },
   "source": [
    "## Search by Location"
   ]
  },
  {
   "cell_type": "markdown",
   "metadata": {},
   "source": [
    "Use the `locations` argument to specify a bounding box to search. The API will return all tweets whose location intersects the bounding box. This will return all tweets intersecting the New York City bounding box. "
   ]
  },
  {
   "cell_type": "code",
   "execution_count": 45,
   "metadata": {},
   "outputs": [
    {
     "name": "stdout",
     "output_type": "stream",
     "text": [
      "Time: Thu May 23 14:38:16 +0000 2019\n",
      "Tweet: #livemusic @woodenshjips @brooklynbowl #nyc #bk #brooklyn #woodenshjips #newyork #newyorkcity #psych #psychedelic @… https://t.co/YMyIeB1FHx\n",
      "Coordinates: {'type': 'Point', 'coordinates': [-73.95755, 40.72206]}\n",
      "BoundingBox: [[[-74.041878, 40.570842], [-74.041878, 40.739434], [-73.855673, 40.739434], [-73.855673, 40.570842]]]\n",
      "Name: Brooklyn, NY\n",
      "Type: city\n",
      "Place ID: 011add077f4d2da3\n",
      "\n",
      "Time: Thu May 23 14:38:18 +0000 2019\n",
      "Tweet: In UN Security Council on the Protection of Civilians in Armed Conflict, \n",
      "Center for Civilians in Conflict's Borell… https://t.co/Ms0ltmT4Fb\n",
      "Coordinates: None\n",
      "BoundingBox: [[[-74.041878, 40.570842], [-74.041878, 40.739434], [-73.855673, 40.739434], [-73.855673, 40.570842]]]\n",
      "Name: Brooklyn, NY\n",
      "Type: city\n",
      "Place ID: 011add077f4d2da3\n",
      "\n",
      "Time: Thu May 23 14:38:18 +0000 2019\n",
      "Tweet: Reconstruction Of Lowe's Proving Difficult, But Sales Are Up @lowes https://t.co/t3AaeVPL8y @tforbes\n",
      "Coordinates: None\n",
      "BoundingBox: [[[-73.888831, 40.97653], [-73.888831, 41.0039], [-73.857066, 41.0039], [-73.857066, 40.97653]]]\n",
      "Name: Hastings-on-Hudson, NY\n",
      "Type: city\n",
      "Place ID: c2800db81ba22abc\n",
      "\n",
      "Time: Thu May 23 14:38:19 +0000 2019\n",
      "Tweet: @ShadyEgoX https://t.co/rlBj3RB2Mm\n",
      "Coordinates: None\n",
      "BoundingBox: [[[-74.026675, 40.683935], [-74.026675, 40.877483], [-73.910408, 40.877483], [-73.910408, 40.683935]]]\n",
      "Name: Manhattan, NY\n",
      "Type: city\n",
      "Place ID: 01a9a39529b27f36\n",
      "\n",
      "Time: Thu May 23 14:38:19 +0000 2019\n",
      "Tweet: @MalakElRomance Allah yerham rohhom ya rab♥️ stay stong big guy\n",
      "Coordinates: None\n",
      "BoundingBox: [[[-74.041878, 40.570842], [-74.041878, 40.739434], [-73.855673, 40.739434], [-73.855673, 40.570842]]]\n",
      "Name: Brooklyn, NY\n",
      "Type: city\n",
      "Place ID: 011add077f4d2da3\n",
      "\n"
     ]
    }
   ],
   "source": [
    "iterator = twtr_stream.statuses.filter(locations=\"-74,40,-73,41\")\n",
    "for i, tweet in enumerate(iterator, start=1):\n",
    "    print('Time: {}'.format(tweet['created_at']))\n",
    "    print('Tweet: {}'.format(tweet['text']))\n",
    "    print('Coordinates: {}'.format(tweet['coordinates']))\n",
    "    if tweet['place'] is not None:\n",
    "        print('BoundingBox: {}'.format(tweet['place']['bounding_box']['coordinates']))\n",
    "        print('Name: {}'.format(tweet['place']['full_name']))\n",
    "        print('Type: {}'.format(tweet['place']['place_type']))\n",
    "        print('Place ID: {}\\n'.format(tweet['place']['id']))\n",
    "    else:\n",
    "        print('')\n",
    "    if i > 4:\n",
    "        break"
   ]
  },
  {
   "cell_type": "markdown",
   "metadata": {},
   "source": [
    "Bounding boxes act like OR operators. They do not filter `track` parameters. So the following will either return football OR tweets from NYC. "
   ]
  },
  {
   "cell_type": "code",
   "execution_count": 46,
   "metadata": {},
   "outputs": [
    {
     "name": "stdout",
     "output_type": "stream",
     "text": [
      "Time: Thu May 23 14:38:23 +0000 2019\n",
      "Tweet: RT @KasanovaKraze: When I see Rooney slander I just assume you don’t know football still 🤷🏾‍♂️ only way it makes sense\n",
      "Coordinates: None\n",
      "\n",
      "Time: Thu May 23 14:38:22 +0000 2019\n",
      "Tweet: FOOTBALL: @sloughtownfc will face seven new opponents in the @TheNationalLge South next season and announce… https://t.co/qKKLxjpR6b\n",
      "Coordinates: None\n",
      "\n",
      "Time: Thu May 23 14:38:23 +0000 2019\n",
      "Tweet: RT @FluminenseRaiz: A TORCIDA ACORDOUUUUUUUUU\n",
      "\n",
      "ISSO AQUI É FLUMINENSE FOOTBALL CLUB PORRA\n",
      "Coordinates: None\n",
      "\n",
      "Time: Thu May 23 14:38:24 +0000 2019\n",
      "Tweet: Practice today for anyone that's on the sectional roster will start at 330pm on the football field.\n",
      "Coordinates: None\n",
      "BoundingBox: [[[-86.348441, 39.631677], [-86.348441, 39.927448], [-85.937404, 39.927448], [-85.937404, 39.631677]]]\n",
      "Name: Indianapolis, IN\n",
      "Type: city\n",
      "ID: 018929347840059e\n",
      "\n",
      "Time: Thu May 23 14:38:24 +0000 2019\n",
      "Tweet: RT @ThistleTrust: JUST 3 DAYS LEFT and a handful of Early Bird bookings are available ... AHHHHHHH!!!😬😲😧\n",
      "\n",
      "But wait...nobody panic! All you…\n",
      "Coordinates: None\n",
      "\n"
     ]
    }
   ],
   "source": [
    "iterator = twtr_stream.statuses.filter(track=\"football\", locations=\"-74,40,-73,41\")\n",
    "for i, tweet in enumerate(iterator, start=1):\n",
    "    print('Time: {}'.format(tweet['created_at']))\n",
    "    print('Tweet: {}'.format(tweet['text']))\n",
    "    print('Coordinates: {}'.format(tweet['coordinates']))\n",
    "    if tweet['place'] is not None:\n",
    "        print('BoundingBox: {}'.format(tweet['place']['bounding_box']['coordinates']))\n",
    "        print('Name: {}'.format(tweet['place']['full_name']))\n",
    "        print('Type: {}'.format(tweet['place']['place_type']))\n",
    "        print('ID: {}\\n'.format(tweet['place']['id']))\n",
    "    else:\n",
    "        print('')\n",
    "    if i > 4:\n",
    "        break"
   ]
  },
  {
   "cell_type": "markdown",
   "metadata": {},
   "source": [
    "More details on the `locations` request parameter can be found at https://developer.twitter.com/en/docs/tweets/filter-realtime/guides/basic-stream-parameters."
   ]
  },
  {
   "cell_type": "markdown",
   "metadata": {},
   "source": [
    "## Twitter API Status"
   ]
  },
  {
   "cell_type": "markdown",
   "metadata": {},
   "source": [
    "Status of the API can be found at https://api.twitterstat.us/"
   ]
  },
  {
   "cell_type": "markdown",
   "metadata": {
    "collapsed": true
   },
   "source": [
    "## Saving the Tweets"
   ]
  },
  {
   "cell_type": "markdown",
   "metadata": {},
   "source": [
    "Once you have the tweets in hand, you can save it in JSON format to a:\n",
    "1. text file\n",
    "2. NoSQL database (MongoDB seems to be a popular choice)\n",
    "\n",
    "We won't cover saving in detail here because it is non-trivial to setup a MongoDB database (and requires admin privileges) within this workshop."
   ]
  },
  {
   "cell_type": "markdown",
   "metadata": {
    "collapsed": true
   },
   "source": [
    "### Text File"
   ]
  },
  {
   "cell_type": "markdown",
   "metadata": {},
   "source": [
    "To save a single tweet to a text file, use the `json` module with the `dumps` method with standard Python file I/O."
   ]
  },
  {
   "cell_type": "code",
   "execution_count": null,
   "metadata": {
    "collapsed": true
   },
   "outputs": [],
   "source": [
    "import json\n",
    "with open('tweet.txt','w') as fout:\n",
    "    fout.write(json.dumps(tweet, indent=2))"
   ]
  },
  {
   "cell_type": "markdown",
   "metadata": {
    "collapsed": true
   },
   "source": [
    "### MongoDB"
   ]
  },
  {
   "cell_type": "markdown",
   "metadata": {},
   "source": [
    "Below is a simple example of how to add a tweet to a MongoDB.\n",
    "\n",
    "**Tip**: Make sure MongoDB is running before running this snippet."
   ]
  },
  {
   "cell_type": "code",
   "execution_count": null,
   "metadata": {
    "collapsed": true
   },
   "outputs": [],
   "source": [
    "import pymongo\n",
    "client = pymongo.MongoClient(\"localhost\", 27017)\n",
    "db = client.example\n",
    "db.my_collection"
   ]
  },
  {
   "cell_type": "markdown",
   "metadata": {},
   "source": [
    "Insert a single tweet"
   ]
  },
  {
   "cell_type": "code",
   "execution_count": null,
   "metadata": {
    "collapsed": true
   },
   "outputs": [],
   "source": [
    "db.my_collection.insert_one(tweet).inserted_id"
   ]
  },
  {
   "cell_type": "markdown",
   "metadata": {},
   "source": [
    "Lookup the single tweet"
   ]
  },
  {
   "cell_type": "code",
   "execution_count": null,
   "metadata": {
    "collapsed": true
   },
   "outputs": [],
   "source": [
    "db.my_collection.find_one()"
   ]
  },
  {
   "cell_type": "markdown",
   "metadata": {
    "collapsed": true
   },
   "source": [
    "**Note**: There are additional steps besides the code shown to get MongoDB working. "
   ]
  },
  {
   "cell_type": "markdown",
   "metadata": {},
   "source": [
    "## Last Note: Library of Congress Twitter Archive"
   ]
  },
  {
   "cell_type": "markdown",
   "metadata": {},
   "source": [
    "The Library of Congress and Twitter have teamed up back in April 2010 to archive every single public tweet. Here's an journal article on the subject matter. http://firstmonday.org/article/view/5619/4653#p4. Initially, that was the plan. The Library of Congress had a change of heart in Dec 2017 and will only acquire very selective tweets from here on. Regardless, the archive has not been made public yet. "
   ]
  },
  {
   "cell_type": "code",
   "execution_count": null,
   "metadata": {},
   "outputs": [],
   "source": []
  }
 ],
 "metadata": {
  "anaconda-cloud": {},
  "kernelspec": {
   "display_name": "Python 3",
   "language": "python",
   "name": "python3"
  },
  "language_info": {
   "codemirror_mode": {
    "name": "ipython",
    "version": 3
   },
   "file_extension": ".py",
   "mimetype": "text/x-python",
   "name": "python",
   "nbconvert_exporter": "python",
   "pygments_lexer": "ipython3",
   "version": "3.6.6"
  }
 },
 "nbformat": 4,
 "nbformat_minor": 1
}
