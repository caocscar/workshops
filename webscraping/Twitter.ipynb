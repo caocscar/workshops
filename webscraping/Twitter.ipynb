{
 "cells": [
  {
   "cell_type": "markdown",
   "metadata": {},
   "source": [
    "# <font color='#1DA1F2'>Twitter API</font>"
   ]
  },
  {
   "cell_type": "markdown",
   "metadata": {},
   "source": [
    "Twitter implements OAuth 1.0 as its authentication protocol. You'll need 4 credentials in order to use OAuth and make requests to Twitter's API."
   ]
  },
  {
   "cell_type": "markdown",
   "metadata": {},
   "source": [
    "## <font color='#1DccF2'>Getting Your Credentials</font>"
   ]
  },
  {
   "cell_type": "markdown",
   "metadata": {},
   "source": [
    "You will need your own Twitter account to do this section. You can always delete the account afterwards. I can't share my credentials with you this time around for technical reasons."
   ]
  },
  {
   "cell_type": "markdown",
   "metadata": {},
   "source": [
    "You will need to obtain four credentials (i.e. API key, API secret, Access Token and Access Token secret) on the Twitter developer site to access the API. The steps are as follows:\n",
    "- Go to your Twitter settings https://twitter.com/settings/account (you need to login if not already). Select 'Mobile' and add your mobile phone to your account. Twitter will send you a confirmation code via text. This is required to create an application.\n",
    "- Go to https://apps.twitter.com and create an application. \n",
    "- Enter a name/description/website for your application. You can use https://www.google.com for the website. Agree to the TOS and create your Twitter application.\n",
    "- Go to the *Keys and Access Tokens* tab and copy your **Consumer Key** and **Consumer Secret** to the section below.\n",
    "- At the bottom of the page, click the button to create your own access token. Copy the **Access Token** and **Access Token Secret** to the section below."
   ]
  },
  {
   "cell_type": "markdown",
   "metadata": {},
   "source": [
    "**Note**: You can always regenerate/delete your credentials or delete the application."
   ]
  },
  {
   "cell_type": "code",
   "execution_count": 1,
   "metadata": {
    "collapsed": true
   },
   "outputs": [],
   "source": [
    "import os\n",
    "consumerKey = os.getenv('consumerkey')\n",
    "consumerSecret = os.getenv('consumersecret')\n",
    "oauthToken = os.getenv('accesstoken')\n",
    "oauthTokenSecret = os.getenv('accesstokensecret')"
   ]
  },
  {
   "cell_type": "markdown",
   "metadata": {},
   "source": [
    "**Note**: To re-iterate, I do NOT recommend you actually hard code the credentials in a working setting. In Python, you should save the credentials in an environmental variable and retrieve it using the `os.getenv` method thus decoupling the credentials from your code."
   ]
  },
  {
   "cell_type": "markdown",
   "metadata": {},
   "source": [
    "## <font color='#1DccF2'>Installing Python Twitter Tools Module</font>"
   ]
  },
  {
   "cell_type": "markdown",
   "metadata": {},
   "source": [
    "We will be using the Python Twitter Tool module for interacting with the API. There are many available Twitter packages for Python. I chose it because it was popular and seemed simple to use (although lacking good documentation). Documentation is at https://github.com/sixohsix/twitter.\n",
    "\n",
    "Install the module from the terminal or command prompt with `pip install twitter`. "
   ]
  },
  {
   "cell_type": "code",
   "execution_count": 2,
   "metadata": {
    "collapsed": true
   },
   "outputs": [],
   "source": [
    "import twitter"
   ]
  },
  {
   "cell_type": "markdown",
   "metadata": {},
   "source": [
    "Next submit your credentials and create a variable containing your authentication."
   ]
  },
  {
   "cell_type": "code",
   "execution_count": 3,
   "metadata": {
    "collapsed": true
   },
   "outputs": [],
   "source": [
    "auth = twitter.OAuth(oauthToken, oauthTokenSecret, consumerKey, consumerSecret)"
   ]
  },
  {
   "cell_type": "markdown",
   "metadata": {},
   "source": [
    "# <font color='#1DA1F2'>Twitter Search API</font>"
   ]
  },
  {
   "cell_type": "markdown",
   "metadata": {},
   "source": [
    "Use the Search API to look for historical tweets. The Twitter Search API searches against a __sampling__ of recent Tweets published in the past 7 days. We will see later how to get around the 7 day restriction by invoking other constraints.\n",
    "\n",
    "**Note**: The Search API is not an exact replica of the Search feature available in Twitter mobile or web clients such as https://twitter.com/search. "
   ]
  },
  {
   "cell_type": "markdown",
   "metadata": {},
   "source": [
    "Let's start by creating a Search API handle using your authentication."
   ]
  },
  {
   "cell_type": "code",
   "execution_count": 4,
   "metadata": {
    "collapsed": true
   },
   "outputs": [],
   "source": [
    "twtr = twitter.Twitter(auth=auth)"
   ]
  },
  {
   "cell_type": "markdown",
   "metadata": {},
   "source": [
    "## <font color='#ffaaff'>Search using a query</font>"
   ]
  },
  {
   "cell_type": "markdown",
   "metadata": {},
   "source": [
    "Details on the search API can be found here https://dev.twitter.com/rest/public/search.  \n",
    "The documentation can be found here https://dev.twitter.com/rest/reference/get/search/tweets."
   ]
  },
  {
   "cell_type": "markdown",
   "metadata": {},
   "source": [
    "Create a query term and also specify the number of tweets you want (default = 10). Use the `search.tweets` method to search for tweets."
   ]
  },
  {
   "cell_type": "code",
   "execution_count": 6,
   "metadata": {
    "collapsed": false
   },
   "outputs": [
    {
     "data": {
      "text/plain": [
       "{'search_metadata': {'completed_in': 0.051,\n",
       "  'count': 2,\n",
       "  'max_id': 861996177536892928,\n",
       "  'max_id_str': '861996177536892928',\n",
       "  'query': 'from%3ASunshineDadBlog',\n",
       "  'refresh_url': '?since_id=861996177536892928&q=from%3ASunshineDadBlog&include_entities=1',\n",
       "  'since_id': 0,\n",
       "  'since_id_str': '0'},\n",
       " 'statuses': []}"
      ]
     },
     "execution_count": 6,
     "metadata": {},
     "output_type": "execute_result"
    }
   ],
   "source": [
    "query = 'from:SunshineDadBlog' \n",
    "limit = 2\n",
    "results = twtr.search.tweets(q=query, count=limit)\n",
    "results"
   ]
  },
  {
   "cell_type": "markdown",
   "metadata": {},
   "source": [
    "Apparently, there is a lot of data associated with a 140 character tweet. Another reason why an API is better than HTML web scraping."
   ]
  },
  {
   "cell_type": "markdown",
   "metadata": {},
   "source": [
    "## <font color='#00aced'>User Info</font>"
   ]
  },
  {
   "cell_type": "markdown",
   "metadata": {},
   "source": [
    "Here's how you would access some interesting fields about the Tweeter."
   ]
  },
  {
   "cell_type": "code",
   "execution_count": 24,
   "metadata": {
    "collapsed": false
   },
   "outputs": [
    {
     "data": {
      "text/plain": [
       "{'contributors': None,\n",
       " 'coordinates': None,\n",
       " 'created_at': 'Mon Apr 17 19:29:35 +0000 2017',\n",
       " 'entities': {'hashtags': [],\n",
       "  'symbols': [],\n",
       "  'urls': [{'display_url': 'ngdata.com/top-data-scien…',\n",
       "    'expanded_url': 'http://www.ngdata.com/top-data-science-resources/',\n",
       "    'indices': [117, 139],\n",
       "    'url': 'http://t.co/FbBvPJW9tl'}],\n",
       "  'user_mentions': [{'id': 132373965,\n",
       "    'id_str': '132373965',\n",
       "    'indices': [3, 19],\n",
       "    'name': 'MiningTheSocialWeb',\n",
       "    'screen_name': 'SocialWebMining'}]},\n",
       " 'favorite_count': 0,\n",
       " 'favorited': False,\n",
       " 'geo': None,\n",
       " 'id': 854054251781292033,\n",
       " 'id_str': '854054251781292033',\n",
       " 'in_reply_to_screen_name': None,\n",
       " 'in_reply_to_status_id': None,\n",
       " 'in_reply_to_status_id_str': None,\n",
       " 'in_reply_to_user_id': None,\n",
       " 'in_reply_to_user_id_str': None,\n",
       " 'is_quote_status': False,\n",
       " 'lang': 'en',\n",
       " 'metadata': {'iso_language_code': 'en', 'result_type': 'recent'},\n",
       " 'place': None,\n",
       " 'possibly_sensitive': False,\n",
       " 'retweet_count': 20,\n",
       " 'retweeted': False,\n",
       " 'retweeted_status': {'contributors': None,\n",
       "  'coordinates': None,\n",
       "  'created_at': 'Thu Mar 05 23:39:56 +0000 2015',\n",
       "  'entities': {'hashtags': [],\n",
       "   'symbols': [],\n",
       "   'urls': [{'display_url': 'ngdata.com/top-data-scien…',\n",
       "     'expanded_url': 'http://www.ngdata.com/top-data-science-resources/',\n",
       "     'indices': [96, 118],\n",
       "     'url': 'http://t.co/FbBvPJW9tl'}],\n",
       "   'user_mentions': []},\n",
       "  'favorite_count': 52,\n",
       "  'favorited': False,\n",
       "  'geo': None,\n",
       "  'id': 573629045113401344,\n",
       "  'id_str': '573629045113401344',\n",
       "  'in_reply_to_screen_name': None,\n",
       "  'in_reply_to_status_id': None,\n",
       "  'in_reply_to_status_id_str': None,\n",
       "  'in_reply_to_user_id': None,\n",
       "  'in_reply_to_user_id_str': None,\n",
       "  'is_quote_status': False,\n",
       "  'lang': 'en',\n",
       "  'metadata': {'iso_language_code': 'en', 'result_type': 'recent'},\n",
       "  'place': None,\n",
       "  'possibly_sensitive': False,\n",
       "  'retweet_count': 20,\n",
       "  'retweeted': False,\n",
       "  'source': '<a href=\"https://about.twitter.com/products/tweetdeck\" rel=\"nofollow\">TweetDeck</a>',\n",
       "  'text': 'A curation of the \"Top 50 Data Science Resources\". \\n\\nMining the Social Web checks in at  #10! \\n\\nhttp://t.co/FbBvPJW9tl',\n",
       "  'truncated': False,\n",
       "  'user': {'contributors_enabled': False,\n",
       "   'created_at': 'Tue Apr 13 02:10:40 +0000 2010',\n",
       "   'default_profile': False,\n",
       "   'default_profile_image': False,\n",
       "   'description': 'Get the source code at GitHub: http://t.co/U0VmWrXpB9',\n",
       "   'entities': {'description': {'urls': [{'display_url': 'bit.ly/MiningTheSocia…',\n",
       "       'expanded_url': 'http://bit.ly/MiningTheSocialWeb2E',\n",
       "       'indices': [31, 53],\n",
       "       'url': 'http://t.co/U0VmWrXpB9'}]},\n",
       "    'url': {'urls': [{'display_url': 'miningthesocialweb.com',\n",
       "       'expanded_url': 'http://miningthesocialweb.com',\n",
       "       'indices': [0, 22],\n",
       "       'url': 'http://t.co/CJfJDyM6ki'}]}},\n",
       "   'favourites_count': 37,\n",
       "   'follow_request_sent': False,\n",
       "   'followers_count': 4428,\n",
       "   'following': False,\n",
       "   'friends_count': 0,\n",
       "   'geo_enabled': False,\n",
       "   'has_extended_profile': False,\n",
       "   'id': 132373965,\n",
       "   'id_str': '132373965',\n",
       "   'is_translation_enabled': False,\n",
       "   'is_translator': False,\n",
       "   'lang': 'en',\n",
       "   'listed_count': 233,\n",
       "   'location': '',\n",
       "   'name': 'MiningTheSocialWeb',\n",
       "   'notifications': False,\n",
       "   'profile_background_color': '352726',\n",
       "   'profile_background_image_url': 'http://abs.twimg.com/images/themes/theme5/bg.gif',\n",
       "   'profile_background_image_url_https': 'https://abs.twimg.com/images/themes/theme5/bg.gif',\n",
       "   'profile_background_tile': False,\n",
       "   'profile_image_url': 'http://pbs.twimg.com/profile_images/1154493071/Picture_7_normal.png',\n",
       "   'profile_image_url_https': 'https://pbs.twimg.com/profile_images/1154493071/Picture_7_normal.png',\n",
       "   'profile_link_color': 'D02B55',\n",
       "   'profile_sidebar_border_color': '829D5E',\n",
       "   'profile_sidebar_fill_color': '99CC33',\n",
       "   'profile_text_color': '3E4415',\n",
       "   'profile_use_background_image': True,\n",
       "   'protected': False,\n",
       "   'screen_name': 'SocialWebMining',\n",
       "   'statuses_count': 770,\n",
       "   'time_zone': None,\n",
       "   'translator_type': 'none',\n",
       "   'url': 'http://t.co/CJfJDyM6ki',\n",
       "   'utc_offset': None,\n",
       "   'verified': False}},\n",
       " 'source': '<a href=\"http://twitter.com\" rel=\"nofollow\">Twitter Web Client</a>',\n",
       " 'text': 'RT @SocialWebMining: A curation of the \"Top 50 Data Science Resources\". \\n\\nMining the Social Web checks in at  #10! \\n\\nhttp://t.co/FbBvPJW9tl',\n",
       " 'truncated': False,\n",
       " 'user': {'contributors_enabled': False,\n",
       "  'created_at': 'Fri Feb 27 14:31:30 +0000 2009',\n",
       "  'default_profile': False,\n",
       "  'default_profile_image': False,\n",
       "  'description': \"PhD student at University of Michigan. Interested in fathers, children's social emotional development, child well-being and safety.\",\n",
       "  'entities': {'description': {'urls': []},\n",
       "   'url': {'urls': [{'display_url': 'joyceylee.com',\n",
       "      'expanded_url': 'http://www.joyceylee.com',\n",
       "      'indices': [0, 22],\n",
       "      'url': 'http://t.co/jZjcVl4p1u'}]}},\n",
       "  'favourites_count': 981,\n",
       "  'follow_request_sent': False,\n",
       "  'followers_count': 367,\n",
       "  'following': False,\n",
       "  'friends_count': 871,\n",
       "  'geo_enabled': True,\n",
       "  'has_extended_profile': False,\n",
       "  'id': 22144632,\n",
       "  'id_str': '22144632',\n",
       "  'is_translation_enabled': False,\n",
       "  'is_translator': False,\n",
       "  'lang': 'en',\n",
       "  'listed_count': 8,\n",
       "  'location': 'Ann Arbor, MI',\n",
       "  'name': 'Joyce Y. Lee',\n",
       "  'notifications': False,\n",
       "  'profile_background_color': 'EDECE9',\n",
       "  'profile_background_image_url': 'http://abs.twimg.com/images/themes/theme3/bg.gif',\n",
       "  'profile_background_image_url_https': 'https://abs.twimg.com/images/themes/theme3/bg.gif',\n",
       "  'profile_background_tile': False,\n",
       "  'profile_image_url': 'http://pbs.twimg.com/profile_images/834465241572470784/54yMSOEf_normal.jpg',\n",
       "  'profile_image_url_https': 'https://pbs.twimg.com/profile_images/834465241572470784/54yMSOEf_normal.jpg',\n",
       "  'profile_link_color': '088253',\n",
       "  'profile_sidebar_border_color': 'D3D2CF',\n",
       "  'profile_sidebar_fill_color': 'E3E2DE',\n",
       "  'profile_text_color': '634047',\n",
       "  'profile_use_background_image': True,\n",
       "  'protected': False,\n",
       "  'screen_name': 'joyceyeaeunlee',\n",
       "  'statuses_count': 8786,\n",
       "  'time_zone': 'Eastern Time (US & Canada)',\n",
       "  'translator_type': 'none',\n",
       "  'url': 'http://t.co/jZjcVl4p1u',\n",
       "  'utc_offset': -14400,\n",
       "  'verified': False}}"
      ]
     },
     "execution_count": 24,
     "metadata": {},
     "output_type": "execute_result"
    }
   ],
   "source": [
    "tweet"
   ]
  },
  {
   "cell_type": "code",
   "execution_count": 22,
   "metadata": {
    "collapsed": true
   },
   "outputs": [],
   "source": [
    "tweet = results['statuses'][1]"
   ]
  },
  {
   "cell_type": "code",
   "execution_count": 23,
   "metadata": {
    "collapsed": false
   },
   "outputs": [
    {
     "name": "stdout",
     "output_type": "stream",
     "text": [
      "Name: Joyce Y. Lee\n",
      "ScreenName: joyceyeaeunlee\n",
      "Description: PhD student at University of Michigan. Interested in fathers, children's social emotional development, child well-being and safety.\n",
      "Location: Ann Arbor, MI\n",
      "# Tweets: 8786\n",
      "# Following: 871\n",
      "# Followers: 367\n",
      "# Likes: 981\n",
      "# Lists: 8\n"
     ]
    }
   ],
   "source": [
    "print('Name: {}'.format(tweet['user']['name']))\n",
    "print('ScreenName: {}'.format(tweet['user']['screen_name']))\n",
    "print('Description: {}'.format(tweet['user']['description']))\n",
    "print('Location: {}'.format(tweet['user']['location']))\n",
    "print('# Tweets: {}'.format(tweet['user']['statuses_count']))        \n",
    "print('# Following: {}'.format(tweet['user']['friends_count']))        \n",
    "print('# Followers: {}'.format(tweet['user']['followers_count']))\n",
    "print('# Likes: {}'.format(tweet['user']['favourites_count']))\n",
    "print('# Lists: {}'.format(tweet['user']['listed_count']))"
   ]
  },
  {
   "cell_type": "markdown",
   "metadata": {},
   "source": [
    "## <font color='#00aced'>Tweet Info</font>"
   ]
  },
  {
   "cell_type": "markdown",
   "metadata": {},
   "source": [
    "Here's how you would access info about the tweet itself."
   ]
  },
  {
   "cell_type": "code",
   "execution_count": 16,
   "metadata": {
    "collapsed": false
   },
   "outputs": [
    {
     "name": "stdout",
     "output_type": "stream",
     "text": [
      "Created at: Wed Apr 19 18:24:03 +0000 2017\n",
      "Text: RT @barbendnews: The tsunami bar: 6 weird (but effective) barbells you've never heard of: https://t.co/imyV2gLxgD #powerlifting #weightlift…\n",
      "Source: <a href=\"http://twitter.com/download/android\" rel=\"nofollow\">Twitter for Android</a>\n",
      "Hashtag: powerlifting\n",
      "Likes: 0\n",
      "Retweets: 1\n",
      "Retweet: False\n",
      "Coordinates: None\n"
     ]
    }
   ],
   "source": [
    "print('Created at: {}'.format(tweet['created_at']))       \n",
    "print('Text: {}'.format(tweet['text']))\n",
    "print('Source: {}'.format(tweet['source']))\n",
    "for hashtag in tweet['entities']['hashtags']:\n",
    "    print('Hashtag: {}'.format(hashtag['text']))\n",
    "print('Likes: {}'.format(tweet['favorite_count']))\n",
    "print('Retweets: {}'.format(tweet['retweet_count']))        \n",
    "print('Retweet: {}'.format(tweet['retweeted']))\n",
    "print('Coordinates: {}'.format(tweet['coordinates']))\n",
    "place = tweet['place']\n",
    "if place is not None:\n",
    "    print('Place Name: {}'.format(place['full_name']))\n",
    "    print('Place Type: {}'.format(place['place_type']))\n",
    "    print('Place Bounding Box: {}'.format(place['bounding_box']['coordinates']))"
   ]
  },
  {
   "cell_type": "markdown",
   "metadata": {},
   "source": [
    "## <font color='#00aced'>Search tweets by users located within a given radius of a GPS point.</font>"
   ]
  },
  {
   "cell_type": "markdown",
   "metadata": {},
   "source": [
    "Add the `geo` argument to the `search.tweets` method."
   ]
  },
  {
   "cell_type": "code",
   "execution_count": null,
   "metadata": {
    "collapsed": true
   },
   "outputs": [],
   "source": [
    "query = 'food' \n",
    "limit = 5\n",
    "georesults = twtr.search.tweets(q=query, count=limit, geo=\"42.7,-83.3, 10km\")"
   ]
  },
  {
   "cell_type": "markdown",
   "metadata": {},
   "source": [
    "Let's print out the tweet along with the datetime and coordinates information."
   ]
  },
  {
   "cell_type": "code",
   "execution_count": null,
   "metadata": {
    "collapsed": true,
    "scrolled": true
   },
   "outputs": [],
   "source": [
    "for i, tweet in enumerate(georesults['statuses']):\n",
    "    print(i, tweet['text'])\n",
    "    print(tweet['created_at'], tweet['coordinates'])"
   ]
  },
  {
   "cell_type": "markdown",
   "metadata": {},
   "source": [
    "Q: How do I know what methods and arguments to use?  \n",
    "A: I read the API documentation."
   ]
  },
  {
   "cell_type": "markdown",
   "metadata": {},
   "source": [
    "This URL has a list of API endpoints for Twitter https://dev.twitter.com/rest/reference. This is also a good jumping off point to get to the doucmentation. *Bookmark it!* So far, we've only used one API endpoint."
   ]
  },
  {
   "cell_type": "markdown",
   "metadata": {},
   "source": [
    "## <font color='#00aced'>Get a list of Followers</font>"
   ]
  },
  {
   "cell_type": "markdown",
   "metadata": {},
   "source": [
    "Use the `followers.list` method to get a list of followers for a given user. Returns a default of 20 results. Can set value up to 200 using the `count` argument."
   ]
  },
  {
   "cell_type": "code",
   "execution_count": null,
   "metadata": {
    "collapsed": true
   },
   "outputs": [],
   "source": [
    "followers = twtr.followers.list(screen_name='arc_um', skip_status=True, include_user_entities=False)\n",
    "followers"
   ]
  },
  {
   "cell_type": "markdown",
   "metadata": {},
   "source": [
    "Print out the __screen name__ and the __description__ of the followers."
   ]
  },
  {
   "cell_type": "code",
   "execution_count": null,
   "metadata": {
    "collapsed": true
   },
   "outputs": [],
   "source": [
    "for i, user in enumerate(followers['users']):\n",
    "    print(i, user['screen_name'], user['description'])"
   ]
  },
  {
   "cell_type": "markdown",
   "metadata": {},
   "source": [
    "To iterate beyond 20 (or whatever you initially asked for), use the key `next_cursor` from the initial result along with the `cursor` argument. Think of it as Page 2. Repeat as necessary (see example below for complete acquisition)."
   ]
  },
  {
   "cell_type": "code",
   "execution_count": null,
   "metadata": {
    "collapsed": true
   },
   "outputs": [],
   "source": [
    "followers = twtr.followers.list(screen_name='arc_um', cursor=followers['next_cursor'], skip_status=True, include_user_entities=False, )\n",
    "for i, user in enumerate(followers['users']):\n",
    "    print(i, user['screen_name'], user['description'])"
   ]
  },
  {
   "cell_type": "markdown",
   "metadata": {},
   "source": [
    "## <font color='#00aced'>Get a list of Following</font>"
   ]
  },
  {
   "cell_type": "markdown",
   "metadata": {},
   "source": [
    "Use the `friends.list` method to see who a given user is following. Returns a default of 20 results. Can set value up to 200 using the `count` argument."
   ]
  },
  {
   "cell_type": "code",
   "execution_count": null,
   "metadata": {
    "collapsed": true
   },
   "outputs": [],
   "source": [
    "following = twtr.friends.list(screen_name='arc_um', skip_status=True, include_user_entities=False)\n",
    "for i, user in enumerate(following['users']):\n",
    "    print(i, user['screen_name'], user['description'])"
   ]
  },
  {
   "cell_type": "markdown",
   "metadata": {},
   "source": [
    "Same function argument to access \"Page 2\" of the results as in the followers example."
   ]
  },
  {
   "cell_type": "markdown",
   "metadata": {},
   "source": [
    "## <font color='#00aced'>Cross Reference Followers and Following</font>"
   ]
  },
  {
   "cell_type": "markdown",
   "metadata": {},
   "source": [
    "Here is some example code to cross reference the two lists to see which relationships are reciprocated."
   ]
  },
  {
   "cell_type": "markdown",
   "metadata": {},
   "source": [
    "This function appends a list of users to an existing list."
   ]
  },
  {
   "cell_type": "code",
   "execution_count": 7,
   "metadata": {
    "collapsed": true
   },
   "outputs": [],
   "source": [
    "def append_users(f, list_users):\n",
    "    for user in f['users']:\n",
    "        list_users.append(user['screen_name'])\n",
    "    return list_users"
   ]
  },
  {
   "cell_type": "markdown",
   "metadata": {},
   "source": [
    "Grab entire list of followers."
   ]
  },
  {
   "cell_type": "code",
   "execution_count": 8,
   "metadata": {
    "collapsed": false
   },
   "outputs": [
    {
     "name": "stdout",
     "output_type": "stream",
     "text": [
      "There are 553 followers\n"
     ]
    }
   ],
   "source": [
    "followers = twtr.followers.list(screen_name='SunshineDadBlog', count=200)\n",
    "lemmings = []\n",
    "lemmings = append_users(followers, lemmings)\n",
    "while (followers['next_cursor'] != 0):\n",
    "    followers = twtr.followers.list(screen_name='arc_um', count=200, cursor=followers['next_cursor'])\n",
    "    lemmings = append_users(followers, lemmings)\n",
    "print('There are {} followers'.format(len(lemmings)))"
   ]
  },
  {
   "cell_type": "code",
   "execution_count": 12,
   "metadata": {
    "collapsed": false
   },
   "outputs": [
    {
     "data": {
      "text/plain": [
       "['InfiniteFleur',\n",
       " 'SilviaMarsz',\n",
       " 'RebeccaRuchR',\n",
       " 'AnEvery_DayDad',\n",
       " 'WealtUSAHealth',\n",
       " 'FranksRedHot',\n",
       " 'madame_rosette',\n",
       " 'lyra_hall',\n",
       " 'MatthewOluwole2',\n",
       " 'breezyo']"
      ]
     },
     "execution_count": 12,
     "metadata": {},
     "output_type": "execute_result"
    }
   ],
   "source": [
    "lemmings[:10]"
   ]
  },
  {
   "cell_type": "markdown",
   "metadata": {},
   "source": [
    "Grab entire list of following."
   ]
  },
  {
   "cell_type": "code",
   "execution_count": null,
   "metadata": {
    "collapsed": true,
    "scrolled": true
   },
   "outputs": [],
   "source": [
    "following = twtr.friends.list(screen_name='SunshineDadBlog', count=200)\n",
    "leaders = []\n",
    "leaders = append_users(following, leaders)\n",
    "while (following['next_cursor'] != 0):\n",
    "    following = twtr.friends.list(screen_name='arc_um', count=200, cursor=followers['next_cursor'])\n",
    "    leaders = append_users(following, leaders)\n",
    "print('Following {} accounts.'.format(len(leaders)))"
   ]
  },
  {
   "cell_type": "markdown",
   "metadata": {},
   "source": [
    "Find the intersection of the two groups using a set operations."
   ]
  },
  {
   "cell_type": "code",
   "execution_count": null,
   "metadata": {
    "collapsed": true
   },
   "outputs": [],
   "source": [
    "lemmings = set(lemmings)\n",
    "leaders = set(leaders)\n",
    "relationship = leaders.intersection(lemmings)\n",
    "print(len(relationship), relationship)"
   ]
  },
  {
   "cell_type": "markdown",
   "metadata": {},
   "source": [
    "## <font color='#00aced'>Search for Trends by Where on Earth (WOE) ID</font>"
   ]
  },
  {
   "cell_type": "markdown",
   "metadata": {},
   "source": [
    "Use the `trends.place` method to get a list of trending topics for a given location. The location is specified using the WOE ID.  \n",
    "A WOE ID is a unique identifier for a place on Earth. "
   ]
  },
  {
   "cell_type": "markdown",
   "metadata": {},
   "source": [
    "Here is a dictionary of places and WOE IDs."
   ]
  },
  {
   "cell_type": "code",
   "execution_count": null,
   "metadata": {
    "collapsed": true
   },
   "outputs": [],
   "source": [
    "woeid = {'World':1, 'USA':23424977, 'San Francisco':2487956, 'Los Angeles':2442047,\n",
    "         'Canada':23424775, 'Toronto':4118, 'Montreal':3534,\n",
    "         'United Kingdom':23424975, 'Germany':23424829}"
   ]
  },
  {
   "cell_type": "markdown",
   "metadata": {},
   "source": [
    "Searching for trends by WOE ID is analagous to searching for YouTube videos by Region Code."
   ]
  },
  {
   "cell_type": "code",
   "execution_count": null,
   "metadata": {
    "collapsed": true
   },
   "outputs": [],
   "source": [
    "woe_trends = twtr.trends.place(_id=woeid['Canada'])"
   ]
  },
  {
   "cell_type": "code",
   "execution_count": null,
   "metadata": {
    "collapsed": true
   },
   "outputs": [],
   "source": [
    "woe_trends"
   ]
  },
  {
   "cell_type": "markdown",
   "metadata": {},
   "source": [
    "Print out top 10 trending topics with number of tweets"
   ]
  },
  {
   "cell_type": "code",
   "execution_count": null,
   "metadata": {
    "collapsed": true
   },
   "outputs": [],
   "source": [
    "trends = woe_trends[0]['trends']\n",
    "for trend in trends[:10]:\n",
    "    print(trend['name'], trend['tweet_volume'])"
   ]
  },
  {
   "cell_type": "markdown",
   "metadata": {},
   "source": [
    "Here is a URL detailing the WOE ID's supported by Twitter.  \n",
    "https://twittercommunity.com/t/what-are-the-list-of-woeids-supported-by-twitter/8493/2.\n",
    "\n",
    "**Note**: Not all WOE IDs are supported by Twitter. Places like Ann Arbor or Michigan are not. Apparently not important enough :("
   ]
  },
  {
   "cell_type": "markdown",
   "metadata": {},
   "source": [
    "## <font color='#00aced'>Submit Your Own Tweet</font>"
   ]
  },
  {
   "cell_type": "markdown",
   "metadata": {},
   "source": [
    "If you want to become an *evil trolling TwitterBot*, this is the first step towards darkness. Use the `statuses.update` method to start tweeting from Python."
   ]
  },
  {
   "cell_type": "code",
   "execution_count": null,
   "metadata": {
    "collapsed": true
   },
   "outputs": [],
   "source": [
    "#twtr.statuses.update(status=\"Python Tweeting from the Twitter API workshop. Thanks #CSCAR and @ARC_UM\")"
   ]
  },
  {
   "cell_type": "markdown",
   "metadata": {},
   "source": [
    "Tweeting parameters can be found at  \n",
    "https://dev.twitter.com/rest/reference/post/statuses/update"
   ]
  },
  {
   "cell_type": "markdown",
   "metadata": {},
   "source": [
    "If you've been counting, we've touched upon 5 API endpoints out of the 100+ endpoints available."
   ]
  },
  {
   "cell_type": "markdown",
   "metadata": {
    "collapsed": true
   },
   "source": [
    "## <font color='#00aced'>Rate Limits</font>"
   ]
  },
  {
   "cell_type": "markdown",
   "metadata": {},
   "source": [
    "Usage of the Twitter API is subject to rate limits which varies based on the `GET` request or endpoint.  \n",
    "Details can be found here at https://dev.twitter.com/rest/public/rate-limits."
   ]
  },
  {
   "cell_type": "markdown",
   "metadata": {
    "collapsed": true
   },
   "source": [
    "# <font color='#1DA1F2'>Twitter Streaming API</font>"
   ]
  },
  {
   "cell_type": "markdown",
   "metadata": {},
   "source": [
    "The streaming API is used to collect tweets from the future. The streaming API provides a **sample** of the available Tweets. Polling and rate limits do NOT apply to the streaming API.\n",
    "\n",
    "Details on the public data streaming API can be found here at \n",
    "https://dev.twitter.com/streaming/public"
   ]
  },
  {
   "cell_type": "markdown",
   "metadata": {},
   "source": [
    "This code block is here so we can quickly restart the kernel if the streaming API is complaining about `Exceeded connection limit for user`."
   ]
  },
  {
   "cell_type": "code",
   "execution_count": null,
   "metadata": {
    "collapsed": true
   },
   "outputs": [],
   "source": [
    "consumerKey = ''\n",
    "consumerSecret = ''\n",
    "oauthToken = ''\n",
    "oauthTokenSecret = ''\n",
    "\n",
    "import twitter\n",
    "auth = twitter.OAuth(oauthToken, oauthTokenSecret, consumerKey, consumerSecret)"
   ]
  },
  {
   "cell_type": "markdown",
   "metadata": {},
   "source": [
    "We need to create a new API hand for streaming using our authentication. Only one standing connection per account is allowed to a public endpoint. We'll be using the public stream API which is specified in the domain argument."
   ]
  },
  {
   "cell_type": "code",
   "execution_count": 4,
   "metadata": {
    "collapsed": true
   },
   "outputs": [],
   "source": [
    "twtr_stream = twitter.TwitterStream(auth=auth, domain=\"stream.twitter.com\")"
   ]
  },
  {
   "cell_type": "markdown",
   "metadata": {},
   "source": [
    "There are two other streaming endpoints you can access. User and site streams. Details can be found at:  \n",
    "https://dev.twitter.com/streaming/overview\n",
    "\n",
    "**Note**: You can NOT request every future Tweet through this API. That is referred to as the Firehose. It costs a lot of `$$$$$$$$`."
   ]
  },
  {
   "cell_type": "markdown",
   "metadata": {
    "collapsed": true
   },
   "source": [
    "## <font color='#1DA1F2'>Search by Filter</font>"
   ]
  },
  {
   "cell_type": "markdown",
   "metadata": {},
   "source": [
    "Stream searches are done with a delimited list of terms. A phrase may consist of one or more terms. Term ordering is ignored and searches are not case sensitive.\n",
    " \n",
    "spaces == logical ANDs (e.g. `\"Alex twitter\" == \"alex AND twitter\"`)  \n",
    "commas == logical ORs (e.g. `\"Alex, twitter\" == \"Alex OR twitter\"`)\n",
    "\n",
    "The text of the Tweet and some entity fields are considered for matches. Specifically:\n",
    "- the `text` attribute of the Tweet\n",
    "- `expanded_url` and `display_url` for links and media\n",
    "- `text` for hashtags\n",
    "- and `screen_name` for user mentions"
   ]
  },
  {
   "cell_type": "markdown",
   "metadata": {},
   "source": [
    "Use the `statuses.filter` method to create a streaming query."
   ]
  },
  {
   "cell_type": "code",
   "execution_count": 5,
   "metadata": {
    "collapsed": true
   },
   "outputs": [],
   "source": [
    "iterator = twtr_stream.statuses.filter(track=\"#stayathomedad, #stayathomemom, #stayathomefather, #stayathomemother, #sahd, #sahm, #sahf\")"
   ]
  },
  {
   "cell_type": "markdown",
   "metadata": {},
   "source": [
    "Use a `for` loop to get the generator to yield future results as they come in. I'm printing the fields (where applicable) that are being searched except time. The `break` command is to prevent it going on indefinitely.\n",
    "\n",
    "**Tip**: Use the stop button in the toolbar to prevent it from going to 100."
   ]
  },
  {
   "cell_type": "code",
   "execution_count": 6,
   "metadata": {
    "collapsed": false
   },
   "outputs": [
    {
     "name": "stdout",
     "output_type": "stream",
     "text": [
      "0 Time: Wed Apr 19 18:17:10 +0000 2017\n",
      "Tweet: RT @urfavmenaldi: Love conversations with my dad!!!1!!1!1!1!!!! https://t.co/fN3iinCHCB\n",
      "Screen Name: urfavmenaldi\n",
      "1 Time: Wed Apr 19 18:17:10 +0000 2017\n",
      "Tweet: @iamblackbear But the east coast dad :(\n",
      "Screen Name: iamblackbear\n",
      "2 Time: Wed Apr 19 18:17:10 +0000 2017\n",
      "Tweet: Is the dad Stefan? Or Damon? I think it's Matt.\n",
      "3 Time: Wed Apr 19 18:17:11 +0000 2017\n",
      "Tweet: @HamillHimself BEST DAD IN THE GALAXY\n",
      "Screen Name: HamillHimself\n",
      "4 Time: Wed Apr 19 18:17:11 +0000 2017\n",
      "Tweet: RT @LuC4zNytMare: @tribelaw @WhitfordBradley @BorowitzReport Kim Jong-Un's father groomed him for absolute rule over N. Korea, Jared'… \n",
      "Expanded URL: None\n",
      "Screen Name: LuC4zNytMare\n",
      "5 Time: Wed Apr 19 18:17:10 +0000 2017\n",
      "Tweet: Daddy Cream and Marc Cervantes ---&gt; https://t.co/BmdqtZKgKW https://t.co/8yVJ9Tayb1\n",
      "Expanded URL: http://ift.tt/2oPtxym\n",
      "Display URL: ift.tt/2oPtxym\n",
      "6 Time: Wed Apr 19 18:17:11 +0000 2017\n",
      "Tweet: RT @hottychix: #FOLLOW @NinaNorth19 Push me harder Daddy #nsfw #porn #pornstar https://t.co/udi2UkVWYW\n",
      "Hashtags: FOLLOW\n",
      "Screen Name: hottychix\n",
      "7 Time: Wed Apr 19 18:17:11 +0000 2017\n",
      "Tweet: RT @dodo: This dog demands CONSTANT ATTENTION from her dad! https://t.co/wKdVqdecDL\n",
      "Screen Name: dodo\n",
      "8 Time: Wed Apr 19 18:17:11 +0000 2017\n",
      "Tweet: Dad's a muggle, Mam's a witch\n",
      "9 Time: Wed Apr 19 18:17:11 +0000 2017\n",
      "Tweet: Me as a parent lmaoo https://t.co/idlbh4BwPt\n",
      "Expanded URL: https://twitter.com/footballvines/status/854665199227478017\n",
      "Display URL: twitter.com/footballvines/…\n",
      "10 Time: Wed Apr 19 18:17:11 +0000 2017\n",
      "Tweet: RT @JJyotiinsan620: @Gurmeetramrahim #JESurprise\n",
      "Good night papa Ji\n",
      "Wanna see u papa Ji plz come in my dreams n show me right path.........…\n",
      "Hashtags: JESurprise\n",
      "Screen Name: JJyotiinsan620\n",
      "11 Time: Wed Apr 19 18:17:12 +0000 2017\n",
      "Tweet: Dad: Piqué was out there shaking his hips acting like he was Shakira. \n",
      "\n",
      "No one chirps like papa chirps. Good lord I'm dying.\n",
      "12 Time: Wed Apr 19 18:17:12 +0000 2017\n",
      "Tweet: RT @onherperiod: She came home from work thinking that She was being asked to prom...\n",
      "Instead it was her dad pranking her 😂 https://t.co/t7…\n",
      "Screen Name: onherperiod\n",
      "13 Time: Wed Apr 19 18:17:12 +0000 2017\n",
      "Tweet: RT @WhennBoys: She came home from work thinking that She was being asked to prom...\n",
      "Instead it was her dad pranking her 😂 https://t.co/fDKp…\n",
      "Screen Name: WhennBoys\n",
      "14 Time: Wed Apr 19 18:17:12 +0000 2017\n",
      "Tweet: RT @justinbieber: Despacito (Remix) [feat. Justin Bieber] - Single by Luis Fonsi &amp; Daddy Yankee\n",
      "https://t.co/itfUuQyJzx\n",
      "Expanded URL: https://itun.es/us/gq-ijb\n",
      "Display URL: itun.es/us/gq-ijb\n",
      "Screen Name: justinbieber\n",
      "15 Time: Wed Apr 19 18:17:12 +0000 2017\n",
      "Tweet: A esas tus nalgotas les quisiera dar una remontada! Papa Francisco. #PacoQuotes\n",
      "Hashtags: PacoQuotes\n",
      "16 Time: Wed Apr 19 18:17:12 +0000 2017\n",
      "Tweet: RT @justinbieber: Despacito (Remix) [feat. Justin Bieber] - Single by Luis Fonsi &amp; Daddy Yankee\n",
      "https://t.co/itfUuQyJzx\n",
      "Expanded URL: https://itun.es/us/gq-ijb\n",
      "Display URL: itun.es/us/gq-ijb\n",
      "Screen Name: justinbieber\n",
      "17 Time: Wed Apr 19 18:17:12 +0000 2017\n",
      "Tweet: Meet wealthy sugar mummy and daddy NOW  whatsapp +60149940116  Malaysia https://t.co/0pwYbaLM1J #Sexy #Dating… https://t.co/W5CrN8S6tE\n",
      "Expanded URL: http://ift.tt/2oPwwXy\n",
      "Display URL: ift.tt/2oPwwXy\n",
      "Hashtags: Sexy\n",
      "18 Time: Wed Apr 19 18:17:12 +0000 2017\n",
      "Tweet: RT @EhBeeFamily: When dad gets to pick the new babysitter... @GalGadot @WonderWomanFilm #Wonderwoman #WonderWednesdays #Partner https://t.c…\n",
      "Hashtags: Wonderwoman\n",
      "Screen Name: EhBeeFamily\n",
      "19 Time: Wed Apr 19 18:17:12 +0000 2017\n",
      "Tweet: @realDonaldTrump Classic daddy-likes-control talk, \"DO AS I SAY, not as I do...\"\n",
      "Screen Name: realDonaldTrump\n",
      "20 Time: Wed Apr 19 18:17:13 +0000 2017\n",
      "Tweet: RT @DinkyNinky: Dad's Hilarious Notes Express The Joys And Pains Of Parenting https://t.co/yJMTPR8hYf #Father #Parenting https://t.co/5jJP0…\n",
      "Expanded URL: http://bit.ly/2pC0Dod\n",
      "Display URL: bit.ly/2pC0Dod\n",
      "Hashtags: Father\n",
      "Screen Name: DinkyNinky\n",
      "21 Time: Wed Apr 19 18:17:13 +0000 2017\n",
      "Tweet: RT @justinbieber: Despacito (Remix) [feat. Justin Bieber] - Single by Luis Fonsi &amp; Daddy Yankee\n",
      "https://t.co/itfUuQyJzx\n",
      "Expanded URL: https://itun.es/us/gq-ijb\n",
      "Display URL: itun.es/us/gq-ijb\n",
      "Screen Name: justinbieber\n",
      "22 Time: Wed Apr 19 18:17:13 +0000 2017\n",
      "Tweet: RT @ThisOneSayz: He will be the brightest among all the stars tonight. \n",
      "\n",
      "Love you, dad.\n",
      "Screen Name: ThisOneSayz\n",
      "23 Time: Wed Apr 19 18:17:13 +0000 2017\n",
      "Tweet: @Gurmeetramrahim #JEsurprise Papa g jldii se bta do g plzzz plzzzz\n",
      "Directer diii Can't wait more @insan_honey\n",
      "Hashtags: JEsurprise\n",
      "Screen Name: Gurmeetramrahim\n",
      "24 Time: Wed Apr 19 18:17:13 +0000 2017\n",
      "Tweet: A father &amp; son in starvation a picture of the war &amp; siege of #coalition on #Yemen #EndYemenSiege https://t.co/zPD6LMs5LO\n",
      "Expanded URL: https://twitter.com/malsiraji/status/854714475089416192\n",
      "Display URL: twitter.com/malsiraji/stat…\n",
      "Hashtags: coalition\n",
      "25 Time: Wed Apr 19 18:17:13 +0000 2017\n",
      "Tweet: RT @ARapperSaid_: When J cole said “Im playin daddy to another niggas daughter, don’t worry even Jesus never saw his real father” https://t…\n",
      "Screen Name: ARapperSaid_\n",
      "26 Time: Wed Apr 19 18:17:14 +0000 2017\n",
      "Tweet: my dad: hey dami u have pretty handwriting can u write something for me\n",
      "me: sure\n",
      "my dad: ok i want u to write [tota… https://t.co/ghxL5IgFkN\n",
      "Expanded URL: https://twitter.com/i/web/status/854760816704356361\n",
      "Display URL: twitter.com/i/web/status/8…\n",
      "27 Time: Wed Apr 19 18:17:13 +0000 2017\n",
      "Tweet: RT @Giavanni_Ruffin: My heart goes out to Aaron Hernandez's daughter who has to deal with stories about her dad forever on top of losing… \n",
      "Expanded URL: None\n",
      "Screen Name: Giavanni_Ruffin\n",
      "28 Time: Wed Apr 19 18:17:14 +0000 2017\n",
      "Tweet: RT @Giavanni_Ruffin: My heart goes out to Aaron Hernandez's daughter who has to deal with stories about her dad forever on top of losing… \n",
      "Expanded URL: None\n",
      "Screen Name: Giavanni_Ruffin\n",
      "29 Time: Wed Apr 19 18:17:14 +0000 2017\n",
      "Tweet: RT @Lilblackbabies: My heart goes out to Aaron Hernandez's daughter who has to deal with stories about her dad forever on top of losing… \n",
      "Expanded URL: None\n",
      "Screen Name: Lilblackbabies\n",
      "30 Time: Wed Apr 19 18:17:14 +0000 2017\n",
      "Tweet: RT @ChappyCat1: Anyone want to adopt 10 year old Alfie?He is v loving;belong's to Dad's gran.Her poor health means she can no longe… \n",
      "Expanded URL: None\n",
      "Screen Name: ChappyCat1\n",
      "31 Time: Wed Apr 19 18:17:14 +0000 2017\n",
      "Tweet: Chrom is... a dad\n",
      "32 Time: Wed Apr 19 18:17:14 +0000 2017\n",
      "Tweet: @M__Cedes made me sad bc he has a 4 year old daughter. I think it's selfish to leave her behind to grow up without… https://t.co/9QDEJJAaKt\n",
      "Expanded URL: https://twitter.com/i/web/status/854760818587598860\n",
      "Display URL: twitter.com/i/web/status/8…\n",
      "Screen Name: M__Cedes\n",
      "33 Time: Wed Apr 19 18:17:14 +0000 2017\n",
      "Tweet: An Open Letter to My Son About a Father's Love https://t.co/ZiPZIEYiIo\n",
      "Expanded URL: https://goodmenproject.com/featured-content/a-message-to-my-son-about-being-a-man-lbkr/\n",
      "Display URL: goodmenproject.com/featured-conte…\n",
      "34 Time: Wed Apr 19 18:17:14 +0000 2017\n",
      "Tweet: RT @GABRIELPlNHEIRO: O Papa recebeu o Dória mas se negou a receber a mulher do preso político da Venezuela https://t.co/hZbvW5DqYw\n",
      "Expanded URL: https://twitter.com/jdoriajr/status/854602275947524096\n",
      "Display URL: twitter.com/jdoriajr/statu…\n",
      "Screen Name: GABRIELPlNHEIRO\n",
      "35 Time: Wed Apr 19 18:17:14 +0000 2017\n",
      "Tweet: RT @WuFonzarelli: I'm just Tryna grow mentally, \n",
      "Progress financially, be a great father \n",
      "&amp; build.\n",
      "With a Couple drinks and many laughs bet…\n",
      "Screen Name: WuFonzarelli\n",
      "36 Time: Wed Apr 19 18:17:14 +0000 2017\n",
      "Tweet: RT @dj_saroha: B~bby wil u marry me\n",
      "G~ye tarika purana hogya\n",
      "B~BC😅. Kya tum meri chitta ko aage lgane ka hak mere hne vale bete ko dogi\n",
      "G~h…\n",
      "Screen Name: dj_saroha\n",
      "37 Time: Wed Apr 19 18:17:15 +0000 2017\n",
      "Tweet: When the vein boiling\n",
      " Hear me shout\n",
      " just lift Daddy up\n",
      " And pour Robot out.\n",
      "38 Time: Wed Apr 19 18:17:15 +0000 2017\n",
      "Tweet: thanks for the sex talk @ 19 years old dad\n",
      "39 Time: Wed Apr 19 18:17:15 +0000 2017\n",
      "Tweet: RT @ZhouChauster: Evidence https://t.co/ZesxPEgEt5\n",
      "Expanded URL: https://twitter.com/JayMadamedon1/status/853687971832365056\n",
      "Display URL: twitter.com/JayMadamedon1/…\n",
      "Screen Name: ZhouChauster\n",
      "40 Time: Wed Apr 19 18:17:15 +0000 2017\n",
      "Tweet: RT @Lwsboss9: When u hittin it in doggy &amp; u hear a car pullup outside then she says \"my Dad must be back early from the gun range\" https://…\n",
      "Screen Name: Lwsboss9\n",
      "41 Time: Wed Apr 19 18:17:15 +0000 2017\n",
      "Tweet: mark's tweet for hayden's birthday....calling hayden 'dad vader'....'no sand'....im cryign in the club\n",
      "42 Time: Wed Apr 19 18:17:15 +0000 2017\n",
      "Tweet: RT @Ak47Bp: 😠😠😠 plzz Di late mt krao. #JEsurprise https://t.co/7k1w0CDBYL\n",
      "Expanded URL: https://twitter.com/sangeetainsan10/status/854747965021356034\n",
      "Display URL: twitter.com/sangeetainsan1…\n",
      "Hashtags: JEsurprise\n",
      "Screen Name: Ak47Bp\n",
      "43 Time: Wed Apr 19 18:17:15 +0000 2017\n",
      "Tweet: RT @tonogunawan1: Bersama pacar dominasi papa...part 1 https://t.co/D1PViJ7MHQ\n",
      "Screen Name: tonogunawan1\n",
      "44 Time: Wed Apr 19 18:17:15 +0000 2017\n",
      "Tweet: @Manuela_Alcala1 El Papa es un populista que ni siquiera recibio a las mujeres de blanco en Cuba y tambien vi bendecir al tirano Maduro!!\n",
      "Screen Name: Manuela_Alcala1\n",
      "45 Time: Wed Apr 19 18:17:15 +0000 2017\n",
      "Tweet: RT @paigebrittany: \"Hey, I know about your mom's little crush. Just remember who your Daddy is okay?\" https://t.co/JsQX2XFcmX\n",
      "Screen Name: paigebrittany\n",
      "46 Time: Wed Apr 19 18:17:15 +0000 2017\n",
      "Tweet: 🤦🏽‍♂️👋🏽 https://t.co/gbvEUhQiWg\n",
      "Expanded URL: https://twitter.com/tharealnish/status/854760573115957251\n",
      "Display URL: twitter.com/tharealnish/st…\n",
      "47 Time: Wed Apr 19 18:17:16 +0000 2017\n",
      "Tweet: RT @ShayDiddy: When your dad joins in on your epic dance routine 😂👌🕺\n",
      "\n",
      "Credit: Kendall Riana Smiler. https://t.co/dyvKYA7nW2\n",
      "Screen Name: ShayDiddy\n",
      "48 Time: Wed Apr 19 18:17:16 +0000 2017\n",
      "Tweet: @SamIsAMegFaggot -me daddy\n",
      "Screen Name: SamIsAMegFaggot\n",
      "49 Time: Wed Apr 19 18:17:16 +0000 2017\n",
      "Tweet: a scene of a father carrying his daughter portrays the disaster in #Hodeidah due to war &amp; siege #EndYemenSiege https://t.co/M9fOsAMHne\n",
      "Expanded URL: https://twitter.com/malsiraji/status/854714665078853632\n",
      "Display URL: twitter.com/malsiraji/stat…\n",
      "Hashtags: Hodeidah\n",
      "50 Time: Wed Apr 19 18:17:16 +0000 2017\n",
      "Tweet: RT @ATKINGDOM: \"Daddy Got Me New Braces\" shipping now - street date 24th!!!  @LizaxRowe @PerriPiper @karlybbaby @xoxoashleyadams… \n",
      "Expanded URL: None\n",
      "Screen Name: ATKINGDOM\n",
      "51 Time: Wed Apr 19 18:17:16 +0000 2017\n",
      "Tweet: RT @CatchGifUCan: Father and son having fun. Smile this morning. #BlackBoyJoy https://t.co/6vVyhWXULl\n",
      "Hashtags: BlackBoyJoy\n",
      "Screen Name: CatchGifUCan\n",
      "52 Time: Wed Apr 19 18:17:16 +0000 2017\n",
      "Tweet: RT @RimpyDhiman8: जन्नत की परवाह तो उन्हें है जिन्होंने देखी नही, मेरी जन्नत तो @Gurmeetramrahim papa से ही शुरू होती है। gud mrng my… \n",
      "Expanded URL: None\n",
      "Screen Name: RimpyDhiman8\n",
      "53 Time: Wed Apr 19 18:17:16 +0000 2017\n",
      "Tweet: RT @marlynkari: Papa Francisco rechazó invitación de Temer para visitar Brasil https://t.co/OZrjV9wmaL https://t.co/Y76UuyzNDE\n",
      "Expanded URL: http://dlvr.it/NwxFpB\n",
      "Display URL: dlvr.it/NwxFpB\n",
      "Screen Name: marlynkari\n",
      "54 Time: Wed Apr 19 18:17:17 +0000 2017\n",
      "Tweet: @ProfOsinbajo we love you daddy\n",
      "Screen Name: ProfOsinbajo\n",
      "55 Time: Wed Apr 19 18:17:17 +0000 2017\n",
      "Tweet: RT @mrisayxcume2x: Some do it because...It happened to them as children and they think it's right https://t.co/tzUeGbsN1Z\n",
      "Expanded URL: https://twitter.com/Well_Damn_Jesse/status/854758314214817794\n",
      "Display URL: twitter.com/Well_Damn_Jess…\n",
      "Screen Name: mrisayxcume2x\n",
      "56 Time: Wed Apr 19 18:17:17 +0000 2017\n",
      "Tweet: loooovee when me &amp; my dad have the same days off cause we just spend all day putting in down in the kitchen 👅🍴\n",
      "57 Time: Wed Apr 19 18:17:17 +0000 2017\n",
      "Tweet: RT @peterbakernyt: Ivanka Trump was incensed by stories crediting Bannon, not her father, with economic message @maggieNYT @GlennThrush htt…\n",
      "Screen Name: peterbakernyt\n",
      "58 Time: Wed Apr 19 18:17:17 +0000 2017\n",
      "Tweet: RT @annaros70527446: @ChurchOfVerity @ClaudioDeglinn2 averne ancora preti così avevamo papa Benedetto ma ha dovuto andarsene\n",
      "Screen Name: annaros70527446\n",
      "59 Time: Wed Apr 19 18:17:17 +0000 2017\n",
      "Tweet: @Crystal1Johnson Is Melo7 the father?\n",
      "Screen Name: Crystal1Johnson\n",
      "60 Time: Wed Apr 19 18:17:17 +0000 2017\n",
      "Tweet: Tengo mucho antojo de Papa a la francesa, palomitas de pollo, Curlys, no se, Todo.🤤😭\n",
      "61 Time: Wed Apr 19 18:17:17 +0000 2017\n",
      "Tweet: Bears faves gc: \"daddy\"\n",
      "Me: I'll drink to that \n",
      "@iamblackbear https://t.co/VDWSCMkyaf\n",
      "Screen Name: iamblackbear\n",
      "62 Time: Wed Apr 19 18:17:17 +0000 2017\n",
      "Tweet: It's our little man birthday.   Love you papa #izayah @TeamEppsPromo https://t.co/ogFi3CUZfR\n",
      "Expanded URL: https://www.instagram.com/p/BTE6Fc5gdro/\n",
      "Display URL: instagram.com/p/BTE6Fc5gdro/\n",
      "Hashtags: izayah\n",
      "Screen Name: TeamEppsPromo\n",
      "63 Time: Wed Apr 19 18:17:17 +0000 2017\n",
      "Tweet: @gdotlee Just depends on the relationship I know for a fact my sons dad not hitting his first bm but he def hitting me haha\n",
      "Screen Name: gdotlee\n",
      "64 Time: Wed Apr 19 18:17:17 +0000 2017\n",
      "Tweet: #YoLeoCiudadBQTO Papa Francisco desestimó invitación de Temer para visitar Brasil https://t.co/zRnsjc032P https://t.co/HnwhSRUrdE\n",
      "Expanded URL: http://dlvr.it/NwxLmh\n",
      "Display URL: dlvr.it/NwxLmh\n",
      "Hashtags: YoLeoCiudadBQTO\n",
      "65 Time: Wed Apr 19 18:17:18 +0000 2017\n",
      "Tweet: @NoAguacatito Tenías un gobernador Daddy 👀✨\n",
      "Screen Name: NoAguacatito\n",
      "66 Time: Wed Apr 19 18:17:17 +0000 2017\n",
      "Tweet: enjoyed I and my father https://t.co/pjn6dbzPyz\n",
      "67 Time: Wed Apr 19 18:17:18 +0000 2017\n",
      "Tweet: RT @OVOIfrah: drake looks daddy af in the 'no frauds' video https://t.co/gvXUOhDrFw\n",
      "Screen Name: OVOIfrah\n",
      "68 Time: Wed Apr 19 18:17:18 +0000 2017\n",
      "Tweet: @Karabo_Mokgoko my mom whose also my dad. I was raised by a single parent.\n",
      "Screen Name: Karabo_Mokgoko\n",
      "69 Time: Wed Apr 19 18:17:18 +0000 2017\n",
      "Tweet: Gerade eine Diskussion mit meinen Eltern über .@Gronkh gehabt. Mom findet ihn jetzt cool und Dad will sich mal paar Videos von ihm gönnen :D\n",
      "Screen Name: Gronkh\n",
      "70 Time: Wed Apr 19 18:17:18 +0000 2017\n",
      "Tweet: RT @sangeetainsan10: Mne kha kraya😞 late, \n",
      "Vo to Papa G 😀krwa rhe wait h 😕😕...\n",
      "#JEsurprise https://t.co/Z5BeDwVcDq\n",
      "Expanded URL: https://twitter.com/Ak47Bp/status/854748232559333376\n",
      "Display URL: twitter.com/Ak47Bp/status/…\n",
      "Hashtags: JEsurprise\n",
      "Screen Name: sangeetainsan10\n",
      "71 Time: Wed Apr 19 18:17:18 +0000 2017\n",
      "Tweet: RT @HotMomsClubBuzz: Dad Pranks His Kids on YouTube and People Are Questioning If It’s Abuse https://t.co/6ngWqC5Ber\n",
      "Expanded URL: http://www.hotmomsclub.com/dad-pranks-kids-on-youtube-abuse/\n",
      "Display URL: hotmomsclub.com/dad-pranks-kid…\n",
      "Screen Name: HotMomsClubBuzz\n",
      "72 Time: Wed Apr 19 18:17:18 +0000 2017\n",
      "Tweet: P.S Avoid these Incredibly Deep conversations with Mom &amp; Dad...😯😂\n",
      "73 Time: Wed Apr 19 18:17:19 +0000 2017\n",
      "Tweet: RT @Giavanni_Ruffin: My heart goes out to Aaron Hernandez's daughter who has to deal with stories about her dad forever on top of losing… \n",
      "Expanded URL: None\n",
      "Screen Name: Giavanni_Ruffin\n",
      "74 Time: Wed Apr 19 18:17:19 +0000 2017\n",
      "Tweet: RT @melaninsuga: He talked about his dad and mom and how he was happy to see them. (his dad speaks like him) his dad said that the cherry b…\n",
      "Screen Name: melaninsuga\n",
      "75 Time: Wed Apr 19 18:17:19 +0000 2017\n",
      "Tweet: RT @ItsChas_: Accepting suga daddy applications 👌🏽\n",
      "Screen Name: ItsChas_\n",
      "76 Time: Wed Apr 19 18:17:19 +0000 2017\n",
      "Tweet: @iamblackbear THANKS DADDY BEAR\n",
      "Screen Name: iamblackbear\n",
      "77 Time: Wed Apr 19 18:17:20 +0000 2017\n",
      "Tweet: RT @FATHERBONNET: daddy likes to be a bad boy 🖤🌹 #islayinmycalvins \n",
      "📷 : Desiree' Jones https://t.co/SfYrKZgKAG\n",
      "Hashtags: islayinmycalvins\n",
      "Screen Name: FATHERBONNET\n",
      "78 Time: Wed Apr 19 18:17:20 +0000 2017\n",
      "Tweet: RT @TarekFatah: PrimeMinister @NarendraModi's befitting response to J&amp;K communalist Farooq Abdullah. Shames his dad &amp; his son for e… \n",
      "Expanded URL: None\n",
      "Screen Name: TarekFatah\n",
      "79 Time: Wed Apr 19 18:17:20 +0000 2017\n",
      "Tweet: Needed this today! Thanks Papa Walt ❤ https://t.co/6cCVIQlrxV\n",
      "Expanded URL: https://twitter.com/DisneyCareers/status/854756493501005846\n",
      "Display URL: twitter.com/DisneyCareers/…\n",
      "80 Time: Wed Apr 19 18:17:20 +0000 2017\n",
      "Tweet: RT @huskydusty: Forgive me Father, for I have spinned. https://t.co/CTVbMGmNFn\n",
      "Expanded URL: https://twitter.com/grynbaum/status/854733203919294464\n",
      "Display URL: twitter.com/grynbaum/statu…\n",
      "Screen Name: huskydusty\n",
      "81 Time: Wed Apr 19 18:17:20 +0000 2017\n",
      "Tweet: Papa John's makes everything OK 🍕🍕🍕\n",
      "82 Time: Wed Apr 19 18:17:20 +0000 2017\n",
      "Tweet: @oscargarciaj come jome daddy\n",
      "Screen Name: oscargarciaj\n",
      "83 Time: Wed Apr 19 18:17:20 +0000 2017\n",
      "Tweet: RT @paigebrittany: LeBron: hey Blue how you doing?  \n",
      "\n",
      "Blue: um no, you're not my dad! https://t.co/WhxcC6bU2q\n",
      "Screen Name: paigebrittany\n",
      "84 Time: Wed Apr 19 18:17:20 +0000 2017\n",
      "Tweet: Oza papa ? https://t.co/3OPmoxfdpC\n",
      "Expanded URL: https://twitter.com/nobleminded_/status/854750752773898241\n",
      "Display URL: twitter.com/nobleminded_/s…\n",
      "85 Time: Wed Apr 19 18:17:21 +0000 2017\n",
      "Tweet: RT @elvinotoro: hay personas que flashean que te hablas con un monton de personas y por ahi tus chats son\n",
      "\n",
      "mama\n",
      "abuela \n",
      "papa \n",
      "tia mari\n",
      "Screen Name: elvinotoro\n",
      "86 Time: Wed Apr 19 18:17:21 +0000 2017\n",
      "Tweet: RT @FootballVines: The father showed no mercy 😂 https://t.co/N3vS8INNea\n",
      "Screen Name: FootballVines\n",
      "87 Time: Wed Apr 19 18:17:21 +0000 2017\n",
      "Tweet: cute dog content https://t.co/Ykb65VK3AB\n",
      "Expanded URL: https://www.buzzfeed.com/stephaniemcneal/love-dad?utm_term=.dhJrrEkkNn&bffbnews#.rwxddQxxeg\n",
      "Display URL: buzzfeed.com/stephaniemcnea…\n",
      "88 Time: Wed Apr 19 18:17:21 +0000 2017\n",
      "Tweet: My mum just turned to my dad and went 'did you know gnomes are back in fashion'\n",
      "89 Time: Wed Apr 19 18:17:22 +0000 2017\n",
      "Tweet: nung magsisign language na kami sa harap ng parents kanina, mej maingay si papa sa seat nya and said \"inhale, exhale\"\n",
      "90 Time: Wed Apr 19 18:17:22 +0000 2017\n",
      "Tweet: RT @AnishaJanae: Mommy &amp; Daddy got you forever Kelahni! ❤️ https://t.co/Lkm1LtDw1J\n",
      "Screen Name: AnishaJanae\n",
      "91 Time: Wed Apr 19 18:17:22 +0000 2017\n",
      "Tweet: RT @zeen0n_: I need me a daddy to dance on rn 🔥 https://t.co/j6SkuxMawD\n",
      "Screen Name: zeen0n_\n",
      "92 Time: Wed Apr 19 18:17:22 +0000 2017\n",
      "Tweet: Papa Francisco desestimó invitación de Temer para visitar Brasil https://t.co/XaBdKEMeEf https://t.co/CVRJF2cVbv\n",
      "Expanded URL: http://dlvr.it/NwxLrG\n",
      "Display URL: dlvr.it/NwxLrG\n",
      "93 Time: Wed Apr 19 18:17:22 +0000 2017\n",
      "Tweet: His dad shoots him https://t.co/9g2c39DksY\n",
      "Expanded URL: https://twitter.com/13ReasonssTV/status/853970516402728964\n",
      "Display URL: twitter.com/13ReasonssTV/s…\n",
      "94 Time: Wed Apr 19 18:17:22 +0000 2017\n",
      "Tweet: Opens windows and turns on the furnace. Hangs head out of the window and yells, Hey dad, yes I'm trying to heat the outside.\n",
      "95 Time: Wed Apr 19 18:17:22 +0000 2017\n",
      "Tweet: omg just come out already https://t.co/8LzE1XCUSt\n",
      "Expanded URL: https://twitter.com/people/status/854306538802089984\n",
      "Display URL: twitter.com/people/status/…\n",
      "96 Time: Wed Apr 19 18:17:22 +0000 2017\n",
      "Tweet: @iamblackbear THANKS DAD\n",
      "Screen Name: iamblackbear\n",
      "97 Time: Wed Apr 19 18:17:22 +0000 2017\n",
      "Tweet: it's barely 11 and my dad and chino are already drinking 🙄😂 https://t.co/SmMiEU0bqr\n",
      "98 Time: Wed Apr 19 18:17:22 +0000 2017\n",
      "Tweet: @DiscombobPotato Happy Birthday Potato's dad! :)\n",
      "Screen Name: DiscombobPotato\n",
      "99 Time: Wed Apr 19 18:17:22 +0000 2017\n",
      "Tweet: RT @weyheyitsgia: stress level: Silvia https://t.co/lSOJpWMHHa\n",
      "Expanded URL: https://twitter.com/takingfivehq/status/854201900618665985\n",
      "Display URL: twitter.com/takingfivehq/s…\n",
      "Screen Name: weyheyitsgia\n",
      "100 Time: Wed Apr 19 18:17:22 +0000 2017\n",
      "Tweet: La Casa Blanca espera poder agendar audiencia de Trump con el Papa https://t.co/b6cfSQ8LnM https://t.co/nNWUkfTU79\n",
      "Expanded URL: http://dlvr.it/NwxLv7\n",
      "Display URL: dlvr.it/NwxLv7\n",
      "101 Time: Wed Apr 19 18:17:22 +0000 2017\n",
      "Tweet: RT @heydougras: URGENTE \n",
      "Papa Comunista substitui Bíblia por O Capital de Marx e igreja vai à loucur\n",
      "Screen Name: heydougras\n"
     ]
    }
   ],
   "source": [
    "for i, tweet in enumerate(iterator):   \n",
    "    print('{} Time: {}'.format(i, tweet['created_at']))\n",
    "    print('Tweet: {}'.format(tweet['text']))\n",
    "    try:\n",
    "        print('Expanded URL: {}'.format(tweet['entities']['urls'][0]['expanded_url']))\n",
    "        print('Display URL: {}'.format(tweet['entities']['urls'][0]['display_url']))\n",
    "    except:\n",
    "        pass     \n",
    "    if len(tweet['entities']['hashtags']) > 0:\n",
    "        print('Hashtags: {}'.format(tweet['entities']['hashtags'][0]['text']))\n",
    "    if len(tweet['entities']['user_mentions']) > 0:\n",
    "        print('Screen Name: {}'.format(tweet['entities']['user_mentions'][0]['screen_name']))\n",
    "    if i > 100:\n",
    "        break"
   ]
  },
  {
   "cell_type": "markdown",
   "metadata": {},
   "source": [
    "Details on the `track` parameter can be found here  \n",
    "https://dev.twitter.com/streaming/overview/request-parameters#track"
   ]
  },
  {
   "cell_type": "markdown",
   "metadata": {
    "collapsed": true
   },
   "source": [
    "## <font color='#1DA1F2'>Search by Location</font>"
   ]
  },
  {
   "cell_type": "markdown",
   "metadata": {},
   "source": [
    "Use the `locations` argument to specify a bounding box to search. The API will return all tweets whose location intersects the bounding box. This will return all tweets intersecting the New York City bounding box. "
   ]
  },
  {
   "cell_type": "code",
   "execution_count": 15,
   "metadata": {
    "collapsed": false
   },
   "outputs": [
    {
     "name": "stdout",
     "output_type": "stream",
     "text": [
      "Time: Sat Apr 01 19:27:53 +0000 2017\n",
      "Tweet: #fatboyproblems good looking my brother a_king_amongst_men lunch @… https://t.co/lGqIeLPBfi\n",
      "Coordinates: {'type': 'Point', 'coordinates': [-74.01928, 40.64522]}\n",
      "BoundingBox: [[[-74.041878, 40.570842], [-74.041878, 40.739434], [-73.855673, 40.739434], [-73.855673, 40.570842]]]\n",
      "Name: Brooklyn, NY\n",
      "Type: city\n",
      "ID: 011add077f4d2da3\n",
      "\n",
      "Time: Sat Apr 01 19:27:54 +0000 2017\n",
      "Tweet: Just like that https://t.co/OFEh4B84OQ\n",
      "Coordinates: None\n",
      "BoundingBox: [[[-74.026675, 40.683935], [-74.026675, 40.877483], [-73.910408, 40.877483], [-73.910408, 40.683935]]]\n",
      "Name: Manhattan, NY\n",
      "Type: city\n",
      "ID: 01a9a39529b27f36\n",
      "\n",
      "Time: Sat Apr 01 19:27:54 +0000 2017\n",
      "Tweet: Think the point was him using a girl with body wave bundles in when talking about Richard Pryor fros.... https://t.co/sABq7onDhh\n",
      "Coordinates: None\n",
      "BoundingBox: [[[-73.039115, 40.837693], [-73.039115, 40.921065], [-72.972416, 40.921065], [-72.972416, 40.837693]]]\n",
      "Name: Coram, NY\n",
      "Type: city\n",
      "ID: 92e1e697abf56722\n",
      "\n",
      "Time: Sat Apr 01 19:27:54 +0000 2017\n",
      "Tweet: @CABLENOTICIAS Definitivamente Colombia está llena de ratas política por todos los rincones.Definitivamente Colombi… https://t.co/4cgxwUdZsI\n",
      "Coordinates: None\n",
      "BoundingBox: [[[-74.057043, 40.757384], [-74.057043, 40.823639], [-73.991972, 40.823639], [-73.991972, 40.757384]]]\n",
      "Name: North Bergen, NJ\n",
      "Type: city\n",
      "ID: 00ca6959663f6d44\n",
      "\n",
      "Time: Sat Apr 01 19:27:55 +0000 2017\n",
      "Tweet: Psalms 23:4\n",
      "   Even though I walk through the valley of the shadow of death, I w... https://t.co/ImMigs2Mg3\n",
      "Coordinates: None\n",
      "BoundingBox: [[[-74.026675, 40.683935], [-74.026675, 40.877483], [-73.910408, 40.877483], [-73.910408, 40.683935]]]\n",
      "Name: Manhattan, NY\n",
      "Type: city\n",
      "ID: 01a9a39529b27f36\n",
      "\n"
     ]
    }
   ],
   "source": [
    "iterator = twtr_stream.statuses.filter(locations=\"-74,40,-73,41\")\n",
    "for i, tweet in enumerate(iterator, start=1):\n",
    "    print('Time: {}'.format(tweet['created_at']))\n",
    "    print('Tweet: {}'.format(tweet['text']))\n",
    "    print('Coordinates: {}'.format(tweet['coordinates']))\n",
    "    if tweet['place'] is not None:\n",
    "        print('BoundingBox: {}'.format(tweet['place']['bounding_box']['coordinates']))\n",
    "        print('Name: {}'.format(tweet['place']['full_name']))\n",
    "        print('Type: {}'.format(tweet['place']['place_type']))\n",
    "        print('ID: {}\\n'.format(tweet['place']['id']))\n",
    "    else:\n",
    "        print('')\n",
    "    if i > 4:\n",
    "        break"
   ]
  },
  {
   "cell_type": "markdown",
   "metadata": {},
   "source": [
    "Bounding boxes act like OR operators. They do not filter `track` parameters. So the following will either return football OR tweets from NYC. "
   ]
  },
  {
   "cell_type": "code",
   "execution_count": null,
   "metadata": {
    "collapsed": true
   },
   "outputs": [],
   "source": [
    "iterator = twtr_stream.statuses.filter(track=\"football\", locations=\"-74,40,-73,41\")\n",
    "for i, tweet in enumerate(iterator, start=1):\n",
    "    print('Time: {}'.format(tweet['created_at']))\n",
    "    print('Tweet: {}'.format(tweet['text']))\n",
    "    print('Coordinates: {}'.format(tweet['coordinates']))\n",
    "    if tweet['place'] is not None:\n",
    "        print('BoundingBox: {}'.format(tweet['place']['bounding_box']['coordinates']))\n",
    "        print('Name: {}'.format(tweet['place']['full_name']))\n",
    "        print('Type: {}'.format(tweet['place']['place_type']))\n",
    "        print('ID: {}\\n'.format(tweet['place']['id']))\n",
    "    else:\n",
    "        print('')\n",
    "    if i > 4:\n",
    "        break"
   ]
  },
  {
   "cell_type": "markdown",
   "metadata": {},
   "source": [
    "Details on the `locations` parameter can be found here  \n",
    "https://dev.twitter.com/streaming/overview/request-parameters#locations"
   ]
  },
  {
   "cell_type": "markdown",
   "metadata": {
    "collapsed": true
   },
   "source": [
    "## <font color='#1DA1F2'>Saving the Tweets</font>"
   ]
  },
  {
   "cell_type": "markdown",
   "metadata": {},
   "source": [
    "Once you have the tweets in hand, you can save it in JSON format to a:\n",
    "1. text file\n",
    "2. NoSQL database (MongoDB seems to be a popular choice)\n",
    "\n",
    "We won't cover saving in detail here because it is non-trivial to setup a MongoDB database (and requires admin privileges) within this workshop."
   ]
  },
  {
   "cell_type": "markdown",
   "metadata": {
    "collapsed": true
   },
   "source": [
    "### <font color='#1DA1b2'>Text File</font>"
   ]
  },
  {
   "cell_type": "markdown",
   "metadata": {},
   "source": [
    "To save a single tweet to a text file, use the `json` module with the `dumps` method with standard Python file I/O."
   ]
  },
  {
   "cell_type": "code",
   "execution_count": null,
   "metadata": {
    "collapsed": true
   },
   "outputs": [],
   "source": [
    "import json\n",
    "with open('tweet.txt','w') as fout:\n",
    "    fout.write(json.dumps(tweet, indent=2))"
   ]
  },
  {
   "cell_type": "markdown",
   "metadata": {
    "collapsed": true
   },
   "source": [
    "### <font color='#1DA1b2'>MongoDB</font>"
   ]
  },
  {
   "cell_type": "markdown",
   "metadata": {},
   "source": [
    "Below is a simple example of how to add a tweet to a MongoDB.\n",
    "\n",
    "**Tip**: Make sure MongoDB is running before running this snippet."
   ]
  },
  {
   "cell_type": "code",
   "execution_count": null,
   "metadata": {
    "collapsed": true
   },
   "outputs": [],
   "source": [
    "import pymongo\n",
    "client = pymongo.MongoClient(\"localhost\", 27017)\n",
    "db = client.example\n",
    "db.my_collection"
   ]
  },
  {
   "cell_type": "markdown",
   "metadata": {},
   "source": [
    "Insert a single tweet"
   ]
  },
  {
   "cell_type": "code",
   "execution_count": null,
   "metadata": {
    "collapsed": true
   },
   "outputs": [],
   "source": [
    "db.my_collection.insert_one(tweet).inserted_id"
   ]
  },
  {
   "cell_type": "markdown",
   "metadata": {},
   "source": [
    "Lookup the single tweet"
   ]
  },
  {
   "cell_type": "code",
   "execution_count": null,
   "metadata": {
    "collapsed": true
   },
   "outputs": [],
   "source": [
    "db.my_collection.find_one()"
   ]
  },
  {
   "cell_type": "markdown",
   "metadata": {
    "collapsed": true
   },
   "source": [
    "**Note**: There are additional steps besides the code shown to get MongoDB working. "
   ]
  },
  {
   "cell_type": "markdown",
   "metadata": {},
   "source": [
    "## <font color='darkyellow'>Last Note: Library of Congress Twitter Archive</font>"
   ]
  },
  {
   "cell_type": "markdown",
   "metadata": {},
   "source": [
    "The Library of Congress and Twitter have teamed up back in April 2010 to archive every single public tweet. This archive has not been made public yet. Like everything, its behind schedule. Here's an journal article on the subject matter. http://firstmonday.org/article/view/5619/4653#p4"
   ]
  },
  {
   "cell_type": "code",
   "execution_count": null,
   "metadata": {
    "collapsed": true
   },
   "outputs": [],
   "source": []
  }
 ],
 "metadata": {
  "anaconda-cloud": {},
  "kernelspec": {
   "display_name": "Python [default]",
   "language": "python",
   "name": "python3"
  },
  "language_info": {
   "codemirror_mode": {
    "name": "ipython",
    "version": 3
   },
   "file_extension": ".py",
   "mimetype": "text/x-python",
   "name": "python",
   "nbconvert_exporter": "python",
   "pygments_lexer": "ipython3",
   "version": "3.5.2"
  }
 },
 "nbformat": 4,
 "nbformat_minor": 1
}
