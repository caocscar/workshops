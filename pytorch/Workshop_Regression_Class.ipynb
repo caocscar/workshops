{
  "nbformat": 4,
  "nbformat_minor": 0,
  "metadata": {
    "colab": {
      "name": "Workshop Regression Class",
      "provenance": [],
      "include_colab_link": true
    },
    "kernelspec": {
      "name": "python3",
      "display_name": "Python 3"
    },
    "accelerator": "GPU"
  },
  "cells": [
    {
      "cell_type": "markdown",
      "metadata": {
        "id": "view-in-github",
        "colab_type": "text"
      },
      "source": [
        "<a href=\"https://colab.research.google.com/github/caocscar/workshops/blob/master/pytorch/Workshop_Regression_Class.ipynb\" target=\"_parent\"><img src=\"https://colab.research.google.com/assets/colab-badge.svg\" alt=\"Open In Colab\"/></a>"
      ]
    },
    {
      "cell_type": "markdown",
      "metadata": {
        "id": "7G_TdHMkSL8q",
        "colab_type": "text"
      },
      "source": [
        "**Regression Problem**"
      ]
    },
    {
      "cell_type": "code",
      "metadata": {
        "id": "GWhz8RPhRfF1",
        "colab_type": "code",
        "outputId": "a3c99095-c977-4fb6-858a-7c4f4a875a91",
        "colab": {
          "base_uri": "https://localhost:8080/",
          "height": 67
        }
      },
      "source": [
        "import torch\n",
        "import torch.nn as nn\n",
        "import torch.optim as optim\n",
        "import torch.nn.functional as F\n",
        "import numpy as np\n",
        "import pandas as pd\n",
        "from torch.utils.data import TensorDataset, DataLoader\n",
        "\n",
        "print('Torch version', torch.__version__)\n",
        "print('Pandas version', pd.__version__)\n",
        "print('Numpy version', np.__version__)"
      ],
      "execution_count": 27,
      "outputs": [
        {
          "output_type": "stream",
          "text": [
            "Torch version 1.3.1\n",
            "Pandas version 0.25.3\n",
            "Numpy version 1.17.4\n"
          ],
          "name": "stdout"
        }
      ]
    },
    {
      "cell_type": "markdown",
      "metadata": {
        "id": "d80zm5dOSsOr",
        "colab_type": "text"
      },
      "source": [
        "The following should say `cuda:0`. If it does not, we need to go to *Edit* -> *Notebook settings* and change it to a `GPU` from `None`. You only have to do this once per notebook."
      ]
    },
    {
      "cell_type": "code",
      "metadata": {
        "id": "ga1yyVAfRgK3",
        "colab_type": "code",
        "outputId": "eaf6d904-cf61-4fbc-a695-be0a7e0f0fa8",
        "colab": {
          "base_uri": "https://localhost:8080/",
          "height": 34
        }
      },
      "source": [
        "device = 'cuda:0' if torch.cuda.is_available() else 'cpu'\n",
        "device"
      ],
      "execution_count": 28,
      "outputs": [
        {
          "output_type": "execute_result",
          "data": {
            "text/plain": [
              "'cuda:0'"
            ]
          },
          "metadata": {
            "tags": []
          },
          "execution_count": 28
        }
      ]
    },
    {
      "cell_type": "markdown",
      "metadata": {
        "id": "rW2RnKe3hvmh",
        "colab_type": "text"
      },
      "source": [
        "Read in dataset"
      ]
    },
    {
      "cell_type": "code",
      "metadata": {
        "id": "3U_r7UGpRf-g",
        "colab_type": "code",
        "colab": {}
      },
      "source": [
        "df_train = pd.read_csv('https://raw.githubusercontent.com/greght/Workshop-Keras-DNN/master/ChallengeProblems/dataRegression_train.csv', header=None)\n",
        "df_val = pd.read_csv('https://raw.githubusercontent.com/greght/Workshop-Keras-DNN/master/ChallengeProblems/dataRegression_test.csv', header=None)"
      ],
      "execution_count": 0,
      "outputs": []
    },
    {
      "cell_type": "markdown",
      "metadata": {
        "id": "okdjDnbphzjK",
        "colab_type": "text"
      },
      "source": [
        "Construct our x,y variables along with the training and validation dataset"
      ]
    },
    {
      "cell_type": "code",
      "metadata": {
        "id": "7EBgffu2RgG_",
        "colab_type": "code",
        "colab": {}
      },
      "source": [
        "x_train = df_train.iloc[:,0:2]\n",
        "y_train = df_train.iloc[:,2]\n",
        "x_val = df_val.iloc[:,0:2]\n",
        "y_val = df_val.iloc[:,2]"
      ],
      "execution_count": 0,
      "outputs": []
    },
    {
      "cell_type": "markdown",
      "metadata": {
        "id": "7D4h_C16gcjG",
        "colab_type": "text"
      },
      "source": [
        "Preprocess our data to go from a `pandas` DataFrame to a `numpy` array to a `torch` tensor."
      ]
    },
    {
      "cell_type": "code",
      "metadata": {
        "id": "vjq5O0XfRmPv",
        "colab_type": "code",
        "colab": {}
      },
      "source": [
        "x_train_tensor = torch.tensor(x_train.to_numpy(), device=device, dtype=torch.float, requires_grad=True)\n",
        "y_train_tensor = torch.tensor(y_train.to_numpy(), device=device, dtype=torch.float, requires_grad=True)\n",
        "x_val_tensor = torch.tensor(x_val.to_numpy(), device=device, dtype=torch.float, requires_grad=True)\n",
        "y_val_tensor = torch.tensor(y_val.to_numpy(), device=device, dtype=torch.float, requires_grad=True)\n",
        "y_train_tensor = y_train_tensor.view(-1,1)\n",
        "y_val_tensor = y_val_tensor.view(-1,1)"
      ],
      "execution_count": 0,
      "outputs": []
    },
    {
      "cell_type": "markdown",
      "metadata": {
        "id": "H-JVIuXegeix",
        "colab_type": "text"
      },
      "source": [
        "We'll write a python class to define out neural network."
      ]
    },
    {
      "cell_type": "code",
      "metadata": {
        "id": "33HwoaxDR-mx",
        "colab_type": "code",
        "colab": {}
      },
      "source": [
        "class ThreeLayerNN(nn.Module):\n",
        "    def __init__(self, dim_input, H):\n",
        "        super().__init__()\n",
        "        self.fc1 = nn.Linear(dim_input, H)\n",
        "        self.fc2 = nn.Linear(H,H)\n",
        "        self.fc3 = nn.Linear(H,1)\n",
        "    \n",
        "    def forward(self, x):\n",
        "        x1 = F.relu(self.fc1(x))\n",
        "        x2 = F.relu(self.fc2(x1))\n",
        "        y_pred = self.fc3(x2)\n",
        "        return y_pred"
      ],
      "execution_count": 0,
      "outputs": []
    },
    {
      "cell_type": "markdown",
      "metadata": {
        "id": "NRH6Qp9VglBx",
        "colab_type": "text"
      },
      "source": [
        "We create an instance of this class."
      ]
    },
    {
      "cell_type": "code",
      "metadata": {
        "id": "aqnHMyc9R-xI",
        "colab_type": "code",
        "outputId": "2fe2a071-1b86-46f7-d4c2-93e309e05647",
        "colab": {
          "base_uri": "https://localhost:8080/",
          "height": 101
        }
      },
      "source": [
        "model = ThreeLayerNN(x_train_tensor.shape[1],5).to(device)\n",
        "print(model)"
      ],
      "execution_count": 33,
      "outputs": [
        {
          "output_type": "stream",
          "text": [
            "ThreeLayerNN(\n",
            "  (fc1): Linear(in_features=2, out_features=5, bias=True)\n",
            "  (fc2): Linear(in_features=5, out_features=5, bias=True)\n",
            "  (fc3): Linear(in_features=5, out_features=1, bias=True)\n",
            ")\n"
          ],
          "name": "stdout"
        }
      ]
    },
    {
      "cell_type": "markdown",
      "metadata": {
        "id": "ryc3EnW4RwqI",
        "colab_type": "text"
      },
      "source": [
        "`model.parameters()` contains the **weights** and **bias** (alternating) for each of the 3 layers\n",
        "\n"
      ]
    },
    {
      "cell_type": "code",
      "metadata": {
        "id": "1-VGjPHeRmWH",
        "colab_type": "code",
        "outputId": "8554d479-ef4f-46aa-9be6-9034f2db9284",
        "colab": {
          "base_uri": "https://localhost:8080/",
          "height": 437
        }
      },
      "source": [
        "params = list(model.parameters())\n",
        "print(f'There are {len(params)} parameters')\n",
        "for param in params:\n",
        "    print(param)"
      ],
      "execution_count": 34,
      "outputs": [
        {
          "output_type": "stream",
          "text": [
            "There are 6 parameters\n",
            "Parameter containing:\n",
            "tensor([[ 0.1991, -0.3374],\n",
            "        [ 0.6217,  0.2454],\n",
            "        [ 0.2356, -0.4803],\n",
            "        [ 0.2875, -0.2138],\n",
            "        [ 0.5510, -0.4722]], device='cuda:0', requires_grad=True)\n",
            "Parameter containing:\n",
            "tensor([-0.2620, -0.4441,  0.2302, -0.4542, -0.0018], device='cuda:0',\n",
            "       requires_grad=True)\n",
            "Parameter containing:\n",
            "tensor([[ 0.2439,  0.3755,  0.2190, -0.3126,  0.3004],\n",
            "        [-0.4456,  0.1666,  0.1028, -0.2943, -0.1549],\n",
            "        [ 0.1558,  0.1287, -0.4446,  0.1832, -0.0817],\n",
            "        [-0.1445, -0.1680, -0.2676,  0.0634,  0.1835],\n",
            "        [ 0.2595, -0.4457,  0.1425,  0.0747,  0.2135]], device='cuda:0',\n",
            "       requires_grad=True)\n",
            "Parameter containing:\n",
            "tensor([-0.2887,  0.3904, -0.1645, -0.2864,  0.2194], device='cuda:0',\n",
            "       requires_grad=True)\n",
            "Parameter containing:\n",
            "tensor([[ 0.1612, -0.0190,  0.4062, -0.1642,  0.4348]], device='cuda:0',\n",
            "       requires_grad=True)\n",
            "Parameter containing:\n",
            "tensor([0.0838], device='cuda:0', requires_grad=True)\n"
          ],
          "name": "stdout"
        }
      ]
    },
    {
      "cell_type": "markdown",
      "metadata": {
        "id": "VQffaw77ft98",
        "colab_type": "text"
      },
      "source": [
        "We'll define a template for our `fit_model` function that contains `train` and `validate` functions.\n",
        "\n",
        "---\n",
        "\n"
      ]
    },
    {
      "cell_type": "code",
      "metadata": {
        "id": "amLbK4yBRmfg",
        "colab_type": "code",
        "colab": {}
      },
      "source": [
        "def fit_model(model, loss_fn, optimizer):\n",
        "    def train(x,y):\n",
        "        yhat = model(x)\n",
        "        loss = loss_fn(yhat,y)\n",
        "        optimizer.zero_grad()\n",
        "        loss.backward()\n",
        "        optimizer.step()\n",
        "        return loss.item()\n",
        "    \n",
        "    def validate(x,y):\n",
        "        yhat = model(x)\n",
        "        loss = loss_fn(yhat,y)\n",
        "        return loss.item()\n",
        "    \n",
        "    return train, validate"
      ],
      "execution_count": 0,
      "outputs": []
    },
    {
      "cell_type": "markdown",
      "metadata": {
        "id": "cKdszOgAguKD",
        "colab_type": "text"
      },
      "source": [
        "We define our *loss function*, *learning rate*, and our *optimizer*. We pass this to `fit_model` to return our `train` and `validate` functions.\n"
      ]
    },
    {
      "cell_type": "code",
      "metadata": {
        "id": "eh_iIPQnSD40",
        "colab_type": "code",
        "colab": {}
      },
      "source": [
        "loss_fn = nn.MSELoss(reduction='mean') #default\n",
        "learning_rate = 0.1\n",
        "optimizer = optim.Adagrad(model.parameters(), lr=learning_rate)\n",
        "train, validate = fit_model(model, loss_fn, optimizer)"
      ],
      "execution_count": 0,
      "outputs": []
    },
    {
      "cell_type": "markdown",
      "metadata": {
        "id": "W0uIChFNfa2c",
        "colab_type": "text"
      },
      "source": [
        "## Mini-batches\n",
        "From the documentation: `torch.nn` only supports mini-batches. The entire `torch.nn` package only supports inputs that are a mini-batch of samples, and not a single sample."
      ]
    },
    {
      "cell_type": "code",
      "metadata": {
        "id": "09NsOy59SD8J",
        "colab_type": "code",
        "colab": {}
      },
      "source": [
        "train_data = TensorDataset(x_train_tensor, y_train_tensor)\n",
        "train_loader = DataLoader(dataset=train_data, batch_size=10, shuffle=True)"
      ],
      "execution_count": 0,
      "outputs": []
    },
    {
      "cell_type": "markdown",
      "metadata": {
        "id": "y748bWpQg_5x",
        "colab_type": "text"
      },
      "source": [
        "Here is our training loop with mini-batch processing. We have to move each mini-batch onto the GPU."
      ]
    },
    {
      "cell_type": "code",
      "metadata": {
        "id": "fexqm4D9SHyh",
        "colab_type": "code",
        "outputId": "8847f5a6-660b-492a-d4db-a3cf55777790",
        "colab": {
          "base_uri": "https://localhost:8080/",
          "height": 185
        }
      },
      "source": [
        "epochs = 100\n",
        "for epoch in range(epochs):\n",
        "    # training\n",
        "    losses = []\n",
        "    for i, (xbatch, ybatch) in enumerate(train_loader):\n",
        "        xbatch = xbatch.to(device)\n",
        "        ybatch = ybatch.to(device)\n",
        "        loss = train(xbatch, ybatch)\n",
        "        losses.append(loss)\n",
        "    training_loss = np.mean(losses)\n",
        "    # validation\n",
        "    validation_loss = validate(x_test_tensor, y_test_tensor)\n",
        "    # print intermediate results\n",
        "    if epoch%10 == 9:\n",
        "        print(epoch, training_loss, validation_loss)"
      ],
      "execution_count": 38,
      "outputs": [
        {
          "output_type": "stream",
          "text": [
            "9 4.1129890788685195 5.250312328338623\n",
            "19 3.794783592224121 4.710597515106201\n",
            "29 3.6706963669170034 4.282569885253906\n",
            "39 3.54070782661438 4.075663089752197\n",
            "49 3.459462035786022 3.831831455230713\n",
            "59 3.435289729725231 3.7195568084716797\n",
            "69 3.3426577394658867 3.662083864212036\n",
            "79 3.3177800286899912 3.5623490810394287\n",
            "89 3.288137435913086 3.5723767280578613\n",
            "99 3.268090009689331 3.445207357406616\n"
          ],
          "name": "stdout"
        }
      ]
    },
    {
      "cell_type": "markdown",
      "metadata": {
        "id": "wri-bxVPhPHB",
        "colab_type": "text"
      },
      "source": [
        "We can view the current state of our model using the `state_dict` method."
      ]
    },
    {
      "cell_type": "code",
      "metadata": {
        "id": "xmiD0CQvSH2D",
        "colab_type": "code",
        "colab": {
          "base_uri": "https://localhost:8080/",
          "height": 319
        },
        "outputId": "01cc2662-09d5-4643-9b2f-c58b99b93859"
      },
      "source": [
        "model.state_dict()"
      ],
      "execution_count": 39,
      "outputs": [
        {
          "output_type": "execute_result",
          "data": {
            "text/plain": [
              "OrderedDict([('fc1.weight', tensor([[ 0.1991, -0.3374],\n",
              "                      [ 1.7515, -0.0551],\n",
              "                      [ 0.6901, -0.0575],\n",
              "                      [ 0.2875, -0.2138],\n",
              "                      [ 1.0115, -0.0454]], device='cuda:0')),\n",
              "             ('fc1.bias',\n",
              "              tensor([-0.2620, -0.8242,  0.5889, -0.4542,  0.3503], device='cuda:0')),\n",
              "             ('fc2.weight',\n",
              "              tensor([[ 0.2439,  2.5966,  0.6142, -0.3126,  0.6872],\n",
              "                      [-0.4456,  2.2888,  0.2973, -0.2943,  0.0274],\n",
              "                      [ 0.1558,  0.1287, -0.4446,  0.1832, -0.0817],\n",
              "                      [-0.1445, -0.1680, -0.2676,  0.0634,  0.1835],\n",
              "                      [ 0.2595,  1.5328,  0.5067,  0.0747,  0.5695]], device='cuda:0')),\n",
              "             ('fc2.bias',\n",
              "              tensor([ 0.0871,  0.5670, -0.1645, -0.2864,  0.5354], device='cuda:0')),\n",
              "             ('fc3.weight',\n",
              "              tensor([[ 1.0504,  0.7688,  0.4062, -0.1642,  0.9954]], device='cuda:0')),\n",
              "             ('fc3.bias', tensor([0.3868], device='cuda:0'))])"
            ]
          },
          "metadata": {
            "tags": []
          },
          "execution_count": 39
        }
      ]
    }
  ]
}