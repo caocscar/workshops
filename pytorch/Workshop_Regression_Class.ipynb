{
  "nbformat": 4,
  "nbformat_minor": 0,
  "metadata": {
    "colab": {
      "name": "Workshop Regression Class",
      "provenance": [],
      "collapsed_sections": [],
      "include_colab_link": true
    },
    "kernelspec": {
      "name": "python3",
      "display_name": "Python 3"
    },
    "accelerator": "GPU"
  },
  "cells": [
    {
      "cell_type": "markdown",
      "metadata": {
        "id": "view-in-github",
        "colab_type": "text"
      },
      "source": [
        "<a href=\"https://colab.research.google.com/github/caocscar/workshops/blob/master/pytorch/Workshop_Regression_Class.ipynb\" target=\"_parent\"><img src=\"https://colab.research.google.com/assets/colab-badge.svg\" alt=\"Open In Colab\"/></a>"
      ]
    },
    {
      "cell_type": "markdown",
      "metadata": {
        "id": "7G_TdHMkSL8q",
        "colab_type": "text"
      },
      "source": [
        "**Regression Problem**"
      ]
    },
    {
      "cell_type": "code",
      "metadata": {
        "id": "GWhz8RPhRfF1",
        "colab_type": "code",
        "outputId": "fb2e7b2d-d11b-4eef-fc81-62d6a7bbb725",
        "colab": {
          "base_uri": "https://localhost:8080/",
          "height": 67
        }
      },
      "source": [
        "import torch\n",
        "import torch.nn as nn\n",
        "import torch.optim as optim\n",
        "import torch.nn.functional as F\n",
        "from torch.utils.data import TensorDataset, DataLoader\n",
        "import numpy as np\n",
        "import pandas as pd\n",
        "\n",
        "print('Torch version', torch.__version__)\n",
        "print('Pandas version', pd.__version__)\n",
        "print('Numpy version', np.__version__)"
      ],
      "execution_count": 2,
      "outputs": [
        {
          "output_type": "stream",
          "text": [
            "Torch version 1.3.1\n",
            "Pandas version 0.25.3\n",
            "Numpy version 1.17.4\n"
          ],
          "name": "stdout"
        }
      ]
    },
    {
      "cell_type": "markdown",
      "metadata": {
        "id": "d80zm5dOSsOr",
        "colab_type": "text"
      },
      "source": [
        "The following should say `cuda:0`. If it does not, we need to go to *Edit* -> *Notebook settings* and change it to a `GPU` from `None`. You only have to do this once per notebook."
      ]
    },
    {
      "cell_type": "code",
      "metadata": {
        "id": "ga1yyVAfRgK3",
        "colab_type": "code",
        "outputId": "87b9a739-2cf0-4f10-f112-544c6bf05edf",
        "colab": {
          "base_uri": "https://localhost:8080/",
          "height": 34
        }
      },
      "source": [
        "device = 'cuda:0' if torch.cuda.is_available() else 'cpu'\n",
        "device"
      ],
      "execution_count": 3,
      "outputs": [
        {
          "output_type": "execute_result",
          "data": {
            "text/plain": [
              "'cuda:0'"
            ]
          },
          "metadata": {
            "tags": []
          },
          "execution_count": 3
        }
      ]
    },
    {
      "cell_type": "markdown",
      "metadata": {
        "id": "rW2RnKe3hvmh",
        "colab_type": "text"
      },
      "source": [
        "Read in dataset"
      ]
    },
    {
      "cell_type": "code",
      "metadata": {
        "id": "3U_r7UGpRf-g",
        "colab_type": "code",
        "colab": {}
      },
      "source": [
        "df_train = pd.read_csv('https://raw.githubusercontent.com/greght/Workshop-Keras-DNN/master/ChallengeProblems/dataRegression_train.csv', header=None)\n",
        "df_val = pd.read_csv('https://raw.githubusercontent.com/greght/Workshop-Keras-DNN/master/ChallengeProblems/dataRegression_test.csv', header=None)"
      ],
      "execution_count": 0,
      "outputs": []
    },
    {
      "cell_type": "markdown",
      "metadata": {
        "id": "okdjDnbphzjK",
        "colab_type": "text"
      },
      "source": [
        "Construct our x,y variables along with the training and validation dataset"
      ]
    },
    {
      "cell_type": "code",
      "metadata": {
        "id": "7EBgffu2RgG_",
        "colab_type": "code",
        "colab": {}
      },
      "source": [
        "x_train = df_train.iloc[:,0:2]\n",
        "y_train = df_train.iloc[:,2]\n",
        "x_val = df_val.iloc[:,0:2]\n",
        "y_val = df_val.iloc[:,2]"
      ],
      "execution_count": 0,
      "outputs": []
    },
    {
      "cell_type": "markdown",
      "metadata": {
        "id": "7D4h_C16gcjG",
        "colab_type": "text"
      },
      "source": [
        "Preprocess our data to go from a `pandas` DataFrame to a `numpy` array to a `torch` tensor."
      ]
    },
    {
      "cell_type": "code",
      "metadata": {
        "id": "vjq5O0XfRmPv",
        "colab_type": "code",
        "colab": {}
      },
      "source": [
        "x_train_tensor = torch.tensor(x_train.to_numpy(), device=device, dtype=torch.float, requires_grad=True)\n",
        "y_train_tensor = torch.tensor(y_train.to_numpy(), device=device, dtype=torch.float, requires_grad=True)\n",
        "x_val_tensor = torch.tensor(x_val.to_numpy(), device=device, dtype=torch.float, requires_grad=True)\n",
        "y_val_tensor = torch.tensor(y_val.to_numpy(), device=device, dtype=torch.float, requires_grad=True)\n",
        "y_train_tensor = y_train_tensor.view(-1,1)\n",
        "y_val_tensor = y_val_tensor.view(-1,1)"
      ],
      "execution_count": 0,
      "outputs": []
    },
    {
      "cell_type": "markdown",
      "metadata": {
        "id": "H-JVIuXegeix",
        "colab_type": "text"
      },
      "source": [
        "We'll write a python class to define out neural network."
      ]
    },
    {
      "cell_type": "code",
      "metadata": {
        "id": "33HwoaxDR-mx",
        "colab_type": "code",
        "colab": {}
      },
      "source": [
        "class ThreeLayerNN(nn.Module):\n",
        "    def __init__(self, dim_input, H):\n",
        "        super().__init__()\n",
        "        self.fc1 = nn.Linear(dim_input, H)\n",
        "        self.fc2 = nn.Linear(H,H)\n",
        "        self.fc3 = nn.Linear(H,1)\n",
        "    \n",
        "    def forward(self, x):\n",
        "        x1 = F.relu(self.fc1(x))\n",
        "        x2 = F.relu(self.fc2(x1))\n",
        "        y_pred = self.fc3(x2)\n",
        "        return y_pred"
      ],
      "execution_count": 0,
      "outputs": []
    },
    {
      "cell_type": "markdown",
      "metadata": {
        "id": "NRH6Qp9VglBx",
        "colab_type": "text"
      },
      "source": [
        "We create an instance of this class."
      ]
    },
    {
      "cell_type": "code",
      "metadata": {
        "id": "aqnHMyc9R-xI",
        "colab_type": "code",
        "outputId": "a3446684-71c0-4531-9bf7-3e544230f18d",
        "colab": {
          "base_uri": "https://localhost:8080/",
          "height": 101
        }
      },
      "source": [
        "model = ThreeLayerNN(x_train_tensor.shape[1],5).to(device)\n",
        "print(model)"
      ],
      "execution_count": 8,
      "outputs": [
        {
          "output_type": "stream",
          "text": [
            "ThreeLayerNN(\n",
            "  (fc1): Linear(in_features=2, out_features=5, bias=True)\n",
            "  (fc2): Linear(in_features=5, out_features=5, bias=True)\n",
            "  (fc3): Linear(in_features=5, out_features=1, bias=True)\n",
            ")\n"
          ],
          "name": "stdout"
        }
      ]
    },
    {
      "cell_type": "markdown",
      "metadata": {
        "id": "ryc3EnW4RwqI",
        "colab_type": "text"
      },
      "source": [
        "`model.parameters()` contains the **weights** and **bias** (alternating) for each of the 3 layers\n",
        "\n"
      ]
    },
    {
      "cell_type": "code",
      "metadata": {
        "id": "1-VGjPHeRmWH",
        "colab_type": "code",
        "outputId": "10d21071-3079-4923-d9cf-3755f6242b22",
        "colab": {
          "base_uri": "https://localhost:8080/",
          "height": 437
        }
      },
      "source": [
        "params = list(model.parameters())\n",
        "print(f'There are {len(params)} parameters')\n",
        "for param in params:\n",
        "    print(param)"
      ],
      "execution_count": 9,
      "outputs": [
        {
          "output_type": "stream",
          "text": [
            "There are 6 parameters\n",
            "Parameter containing:\n",
            "tensor([[-0.6722, -0.1253],\n",
            "        [ 0.3271, -0.5386],\n",
            "        [-0.4360, -0.6635],\n",
            "        [-0.0597,  0.2654],\n",
            "        [-0.4511, -0.1803]], device='cuda:0', requires_grad=True)\n",
            "Parameter containing:\n",
            "tensor([ 0.4774,  0.0608,  0.3351,  0.6132, -0.1335], device='cuda:0',\n",
            "       requires_grad=True)\n",
            "Parameter containing:\n",
            "tensor([[-0.4279,  0.0746, -0.2874, -0.4331,  0.0757],\n",
            "        [-0.1138, -0.2704,  0.0156,  0.3182,  0.1802],\n",
            "        [ 0.1589, -0.3853,  0.0769,  0.0236,  0.2774],\n",
            "        [ 0.4160,  0.0268,  0.0658,  0.0249,  0.0023],\n",
            "        [-0.1503,  0.1482, -0.0260,  0.2199,  0.2633]], device='cuda:0',\n",
            "       requires_grad=True)\n",
            "Parameter containing:\n",
            "tensor([ 0.1400,  0.2608,  0.2217, -0.2910,  0.0465], device='cuda:0',\n",
            "       requires_grad=True)\n",
            "Parameter containing:\n",
            "tensor([[ 0.1069,  0.0756, -0.3563,  0.3523, -0.4246]], device='cuda:0',\n",
            "       requires_grad=True)\n",
            "Parameter containing:\n",
            "tensor([-0.3458], device='cuda:0', requires_grad=True)\n"
          ],
          "name": "stdout"
        }
      ]
    },
    {
      "cell_type": "markdown",
      "metadata": {
        "id": "VQffaw77ft98",
        "colab_type": "text"
      },
      "source": [
        "We'll define a template for our `fit_model` function that contains `train` and `validate` functions.\n",
        "\n",
        "---\n",
        "\n"
      ]
    },
    {
      "cell_type": "code",
      "metadata": {
        "id": "amLbK4yBRmfg",
        "colab_type": "code",
        "colab": {}
      },
      "source": [
        "def fit_model(model, loss_fn, optimizer):\n",
        "    def train(x,y):\n",
        "        yhat = model(x)\n",
        "        loss = loss_fn(yhat,y)\n",
        "        optimizer.zero_grad()\n",
        "        loss.backward()\n",
        "        optimizer.step()\n",
        "        return loss.item()\n",
        "    \n",
        "    def validate(x,y):\n",
        "        yhat = model(x)\n",
        "        loss = loss_fn(yhat,y)\n",
        "        return loss.item()\n",
        "    \n",
        "    return train, validate"
      ],
      "execution_count": 0,
      "outputs": []
    },
    {
      "cell_type": "markdown",
      "metadata": {
        "id": "cKdszOgAguKD",
        "colab_type": "text"
      },
      "source": [
        "We define our *loss function*, *learning rate*, and our *optimizer*. We pass this to `fit_model` to return our `train` and `validate` functions.\n"
      ]
    },
    {
      "cell_type": "code",
      "metadata": {
        "id": "eh_iIPQnSD40",
        "colab_type": "code",
        "colab": {}
      },
      "source": [
        "loss_fn = nn.MSELoss(reduction='mean') #default\n",
        "learning_rate = 0.1\n",
        "optimizer = optim.Adagrad(model.parameters(), lr=learning_rate)\n",
        "train, validate = fit_model(model, loss_fn, optimizer)"
      ],
      "execution_count": 0,
      "outputs": []
    },
    {
      "cell_type": "markdown",
      "metadata": {
        "id": "W0uIChFNfa2c",
        "colab_type": "text"
      },
      "source": [
        "## Mini-batches\n",
        "From the documentation: `torch.nn` only supports mini-batches. The entire `torch.nn` package only supports inputs that are a mini-batch of samples, and not a single sample."
      ]
    },
    {
      "cell_type": "code",
      "metadata": {
        "id": "09NsOy59SD8J",
        "colab_type": "code",
        "colab": {}
      },
      "source": [
        "train_data = TensorDataset(x_train_tensor, y_train_tensor)\n",
        "train_loader = DataLoader(dataset=train_data, batch_size=10, shuffle=True)"
      ],
      "execution_count": 0,
      "outputs": []
    },
    {
      "cell_type": "markdown",
      "metadata": {
        "id": "y748bWpQg_5x",
        "colab_type": "text"
      },
      "source": [
        "Here is our training loop with mini-batch processing. We have to move each mini-batch onto the GPU."
      ]
    },
    {
      "cell_type": "code",
      "metadata": {
        "id": "fexqm4D9SHyh",
        "colab_type": "code",
        "outputId": "5c42c58a-b7d7-4c6a-9c70-e1e2d084ea12",
        "colab": {
          "base_uri": "https://localhost:8080/",
          "height": 185
        }
      },
      "source": [
        "epochs = 100\n",
        "for epoch in range(epochs):\n",
        "    # training\n",
        "    losses = []\n",
        "    for i, (xbatch, ybatch) in enumerate(train_loader):\n",
        "        xbatch = xbatch.to(device)\n",
        "        ybatch = ybatch.to(device)\n",
        "        loss = train(xbatch, ybatch)\n",
        "        losses.append(loss)\n",
        "    training_loss = np.mean(losses)\n",
        "    # validation\n",
        "    validation_loss = validate(x_val_tensor, y_val_tensor)\n",
        "    # print intermediate results\n",
        "    if epoch%10 == 9:\n",
        "        print(epoch, training_loss, validation_loss)"
      ],
      "execution_count": 13,
      "outputs": [
        {
          "output_type": "stream",
          "text": [
            "9 5.217282251878218 8.100061416625977\n",
            "19 4.6458352262323555 6.509875774383545\n",
            "29 4.617666352878917 6.0749030113220215\n",
            "39 4.465590021827004 5.876566410064697\n",
            "49 4.46304219419306 5.840087413787842\n",
            "59 4.436497558246959 5.683042049407959\n",
            "69 4.447906385768544 5.73892068862915\n",
            "79 4.456741766496138 5.724264144897461\n",
            "89 4.4289374351501465 5.7146830558776855\n",
            "99 4.434686617417769 5.704777717590332\n"
          ],
          "name": "stdout"
        }
      ]
    },
    {
      "cell_type": "markdown",
      "metadata": {
        "id": "wri-bxVPhPHB",
        "colab_type": "text"
      },
      "source": [
        "We can view the current state of our model using the `state_dict` method."
      ]
    },
    {
      "cell_type": "code",
      "metadata": {
        "id": "xmiD0CQvSH2D",
        "colab_type": "code",
        "outputId": "997bf898-5732-4966-dee0-88b41b452c7b",
        "colab": {
          "base_uri": "https://localhost:8080/",
          "height": 319
        }
      },
      "source": [
        "model.state_dict()"
      ],
      "execution_count": 14,
      "outputs": [
        {
          "output_type": "execute_result",
          "data": {
            "text/plain": [
              "OrderedDict([('fc1.weight', tensor([[-0.9870, -0.4540],\n",
              "                      [ 2.0965, -0.3272],\n",
              "                      [-0.4208, -0.8602],\n",
              "                      [ 1.4232,  0.2407],\n",
              "                      [-0.4511, -0.1803]], device='cuda:0')),\n",
              "             ('fc1.bias',\n",
              "              tensor([ 0.0582,  0.2425,  0.0584,  0.6218, -0.1335], device='cuda:0')),\n",
              "             ('fc2.weight',\n",
              "              tensor([[-0.2153,  1.3850, -0.1548,  0.3375,  0.0757],\n",
              "                      [ 0.1091,  1.0617,  0.1496,  1.1005,  0.1802],\n",
              "                      [ 0.0043, -0.5234, -0.0231, -0.1097,  0.2774],\n",
              "                      [ 0.4160,  0.0268,  0.0658,  0.0249,  0.0023],\n",
              "                      [-0.2503, -0.0960, -0.1260,  0.0717,  0.2633]], device='cuda:0')),\n",
              "             ('fc2.bias',\n",
              "              tensor([ 0.3495,  0.5070,  0.0802, -0.2910, -0.1100], device='cuda:0')),\n",
              "             ('fc3.weight',\n",
              "              tensor([[ 1.0817,  0.8173, -0.2413,  0.3523, -0.3157]], device='cuda:0')),\n",
              "             ('fc3.bias', tensor([-0.1517], device='cuda:0'))])"
            ]
          },
          "metadata": {
            "tags": []
          },
          "execution_count": 14
        }
      ]
    }
  ]
}