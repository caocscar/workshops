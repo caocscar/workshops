{
 "cells": [
  {
   "cell_type": "markdown",
   "metadata": {},
   "source": [
    "# SQLite Database and Python"
   ]
  },
  {
   "cell_type": "markdown",
   "metadata": {},
   "source": [
    "SQLite is a C library that provides a lightweight disk-based database that doesn’t require a separate server process. The database is stored in a single file with a `.sqlite` or `.db` extension making it easily portable."
   ]
  },
  {
   "cell_type": "code",
   "execution_count": 34,
   "metadata": {
    "collapsed": true
   },
   "outputs": [],
   "source": [
    "import sqlite3\n",
    "import pandas as pd\n",
    "\n",
    "pd.options.display.max_rows = 16"
   ]
  },
  {
   "cell_type": "markdown",
   "metadata": {},
   "source": [
    "Specify database filename"
   ]
  },
  {
   "cell_type": "code",
   "execution_count": 35,
   "metadata": {
    "collapsed": true
   },
   "outputs": [],
   "source": [
    "database_filename = \"midemo.db\""
   ]
  },
  {
   "cell_type": "markdown",
   "metadata": {},
   "source": [
    "## Connect to sqlite database"
   ]
  },
  {
   "cell_type": "code",
   "execution_count": 36,
   "metadata": {
    "collapsed": true
   },
   "outputs": [],
   "source": [
    "conn = sqlite3.connect(database_filename)"
   ]
  },
  {
   "cell_type": "markdown",
   "metadata": {},
   "source": [
    "## Create a cursor object"
   ]
  },
  {
   "cell_type": "code",
   "execution_count": 37,
   "metadata": {
    "collapsed": true
   },
   "outputs": [],
   "source": [
    "cursor = conn.cursor()"
   ]
  },
  {
   "cell_type": "markdown",
   "metadata": {},
   "source": [
    "## Create a table"
   ]
  },
  {
   "cell_type": "code",
   "execution_count": 38,
   "metadata": {
    "collapsed": false
   },
   "outputs": [
    {
     "data": {
      "text/plain": [
       "<sqlite3.Cursor at 0x7f73e30>"
      ]
     },
     "execution_count": 38,
     "metadata": {},
     "output_type": "execute_result"
    }
   ],
   "source": [
    "# Create a 'people' table from scratch. Delete if already exists. \n",
    "cursor.execute(\"DROP TABLE IF EXISTS people\")\n",
    "cursor.execute(\"\"\"CREATE TABLE people\n",
    "                   (statefips INTEGER DEFAULT 26,\n",
    "                   x REAL,\n",
    "                   y REAL,\n",
    "                   quadkey TEXT,\n",
    "                   race_type TEXT DEFAULT 'p') \"\"\")"
   ]
  },
  {
   "cell_type": "markdown",
   "metadata": {},
   "source": [
    "## Inserting data into table\n",
    "\n",
    "### Insert single row"
   ]
  },
  {
   "cell_type": "code",
   "execution_count": 39,
   "metadata": {
    "collapsed": false,
    "scrolled": true
   },
   "outputs": [
    {
     "data": {
      "text/plain": [
       "<sqlite3.Cursor at 0x7f73e30>"
      ]
     },
     "execution_count": 39,
     "metadata": {},
     "output_type": "execute_result"
    }
   ],
   "source": [
    "cursor.execute(\"INSERT INTO people VALUES (26,-83.1,42.1,'0302','p')\")"
   ]
  },
  {
   "cell_type": "markdown",
   "metadata": {},
   "source": [
    "Similarly, you can insert using a `?` placeholder that points to a tuple (preferred method)"
   ]
  },
  {
   "cell_type": "code",
   "execution_count": 40,
   "metadata": {
    "collapsed": false
   },
   "outputs": [
    {
     "data": {
      "text/plain": [
       "<sqlite3.Cursor at 0x7f73e30>"
      ]
     },
     "execution_count": 40,
     "metadata": {},
     "output_type": "execute_result"
    }
   ],
   "source": [
    "tuple_row = (26,-83.2,42.2,'0302','p')\n",
    "cursor.execute(\"INSERT INTO people VALUES (?,?,?,?,?)\", tuple_row)"
   ]
  },
  {
   "cell_type": "markdown",
   "metadata": {},
   "source": [
    "Or use a named placeholder using a dictionary"
   ]
  },
  {
   "cell_type": "code",
   "execution_count": 41,
   "metadata": {
    "collapsed": false
   },
   "outputs": [
    {
     "data": {
      "text/plain": [
       "<sqlite3.Cursor at 0x7f73e30>"
      ]
     },
     "execution_count": 41,
     "metadata": {},
     "output_type": "execute_result"
    }
   ],
   "source": [
    "dict_row = {'a':26,'b':-83.3,'c':80.4,'d':'0303','e':'p'}\n",
    "cursor.execute(\"INSERT INTO people VALUES (:a,:b,:c,:d,:e)\", dict_row)"
   ]
  },
  {
   "cell_type": "markdown",
   "metadata": {},
   "source": [
    "### Insert multiple rows\n",
    "\n",
    "To insert more than one row, you can use a list (or tuple) of tuples. Use the `executemany` method to insert more than one row"
   ]
  },
  {
   "cell_type": "code",
   "execution_count": 42,
   "metadata": {
    "collapsed": false
   },
   "outputs": [
    {
     "data": {
      "text/plain": [
       "<sqlite3.Cursor at 0x7f73e30>"
      ]
     },
     "execution_count": 42,
     "metadata": {},
     "output_type": "execute_result"
    }
   ],
   "source": [
    "two_rows = [(27,-83.4,42.4,'0303','r1'),\n",
    "             (28,-83.5,42.5,'0304','r2')]\n",
    "\n",
    "cursor.executemany(\"INSERT INTO people VALUES (?,?,?,?,?)\", two_rows)"
   ]
  },
  {
   "cell_type": "markdown",
   "metadata": {},
   "source": [
    "### Insert data into only some columns"
   ]
  },
  {
   "cell_type": "code",
   "execution_count": 43,
   "metadata": {
    "collapsed": false
   },
   "outputs": [
    {
     "data": {
      "text/plain": [
       "<sqlite3.Cursor at 0x7f73e30>"
      ]
     },
     "execution_count": 43,
     "metadata": {},
     "output_type": "execute_result"
    }
   ],
   "source": [
    "xyquad = [(-83.6,42.6,'0302'),(-83.7,42.7,'0302')]\n",
    "cursor.executemany(\"INSERT INTO people (x,y,quadkey) VALUES (?,?,?)\", xyquad)"
   ]
  },
  {
   "cell_type": "markdown",
   "metadata": {},
   "source": [
    "Track total number of database rows that have been modified, inserted or deleted since connection has been open."
   ]
  },
  {
   "cell_type": "code",
   "execution_count": 44,
   "metadata": {
    "collapsed": false
   },
   "outputs": [
    {
     "data": {
      "text/plain": [
       "7"
      ]
     },
     "execution_count": 44,
     "metadata": {},
     "output_type": "execute_result"
    }
   ],
   "source": [
    "conn.total_changes"
   ]
  },
  {
   "cell_type": "markdown",
   "metadata": {},
   "source": [
    "### Commit transaction to disk"
   ]
  },
  {
   "cell_type": "code",
   "execution_count": 45,
   "metadata": {
    "collapsed": true
   },
   "outputs": [],
   "source": [
    "conn.commit()"
   ]
  },
  {
   "cell_type": "markdown",
   "metadata": {},
   "source": [
    "### Close cursor and database"
   ]
  },
  {
   "cell_type": "code",
   "execution_count": 46,
   "metadata": {
    "collapsed": true
   },
   "outputs": [],
   "source": [
    "# Close the cursor\n",
    "cursor.close()\n",
    "# Close the connection to the database\n",
    "conn.close()"
   ]
  },
  {
   "cell_type": "markdown",
   "metadata": {},
   "source": [
    "## Reading data from a table\n",
    "\n",
    "Open up a database connection"
   ]
  },
  {
   "cell_type": "code",
   "execution_count": 47,
   "metadata": {
    "collapsed": true
   },
   "outputs": [],
   "source": [
    "conn = sqlite3.connect(database_filename)\n",
    "c = conn.cursor()"
   ]
  },
  {
   "cell_type": "markdown",
   "metadata": {},
   "source": [
    "Use `select` query to grab all the data from people table"
   ]
  },
  {
   "cell_type": "code",
   "execution_count": 48,
   "metadata": {
    "collapsed": false
   },
   "outputs": [
    {
     "data": {
      "text/plain": [
       "<sqlite3.Cursor at 0x7f73ab0>"
      ]
     },
     "execution_count": 48,
     "metadata": {},
     "output_type": "execute_result"
    }
   ],
   "source": [
    "c.execute(\"SELECT * FROM people\")"
   ]
  },
  {
   "cell_type": "markdown",
   "metadata": {},
   "source": [
    "Use `fetchall` to grab all the data from the query"
   ]
  },
  {
   "cell_type": "code",
   "execution_count": 49,
   "metadata": {
    "collapsed": true
   },
   "outputs": [],
   "source": [
    "results = c.fetchall()"
   ]
  },
  {
   "cell_type": "markdown",
   "metadata": {},
   "source": [
    "Returns a list of tuples"
   ]
  },
  {
   "cell_type": "code",
   "execution_count": 50,
   "metadata": {
    "collapsed": false,
    "scrolled": true
   },
   "outputs": [
    {
     "name": "stdout",
     "output_type": "stream",
     "text": [
      "(26, -83.1, 42.1, u'0302', u'p')\n",
      "(26, -83.2, 42.2, u'0302', u'p')\n",
      "(26, -83.3, 80.4, u'0303', u'p')\n",
      "(27, -83.4, 42.4, u'0303', u'r1')\n",
      "(28, -83.5, 42.5, u'0304', u'r2')\n",
      "(26, -83.6, 42.6, u'0302', u'p')\n",
      "(26, -83.7, 42.7, u'0302', u'p')\n"
     ]
    }
   ],
   "source": [
    "for row in results:\n",
    "    print(row)"
   ]
  },
  {
   "cell_type": "markdown",
   "metadata": {},
   "source": [
    "Create a dataframe from list of tuples"
   ]
  },
  {
   "cell_type": "code",
   "execution_count": 51,
   "metadata": {
    "collapsed": false,
    "scrolled": true
   },
   "outputs": [
    {
     "data": {
      "text/html": [
       "<div>\n",
       "<table border=\"1\" class=\"dataframe\">\n",
       "  <thead>\n",
       "    <tr style=\"text-align: right;\">\n",
       "      <th></th>\n",
       "      <th>0</th>\n",
       "      <th>1</th>\n",
       "      <th>2</th>\n",
       "      <th>3</th>\n",
       "      <th>4</th>\n",
       "    </tr>\n",
       "  </thead>\n",
       "  <tbody>\n",
       "    <tr>\n",
       "      <th>0</th>\n",
       "      <td>26</td>\n",
       "      <td>-83.1</td>\n",
       "      <td>42.1</td>\n",
       "      <td>0302</td>\n",
       "      <td>p</td>\n",
       "    </tr>\n",
       "    <tr>\n",
       "      <th>1</th>\n",
       "      <td>26</td>\n",
       "      <td>-83.2</td>\n",
       "      <td>42.2</td>\n",
       "      <td>0302</td>\n",
       "      <td>p</td>\n",
       "    </tr>\n",
       "    <tr>\n",
       "      <th>2</th>\n",
       "      <td>26</td>\n",
       "      <td>-83.3</td>\n",
       "      <td>80.4</td>\n",
       "      <td>0303</td>\n",
       "      <td>p</td>\n",
       "    </tr>\n",
       "    <tr>\n",
       "      <th>3</th>\n",
       "      <td>27</td>\n",
       "      <td>-83.4</td>\n",
       "      <td>42.4</td>\n",
       "      <td>0303</td>\n",
       "      <td>r1</td>\n",
       "    </tr>\n",
       "    <tr>\n",
       "      <th>4</th>\n",
       "      <td>28</td>\n",
       "      <td>-83.5</td>\n",
       "      <td>42.5</td>\n",
       "      <td>0304</td>\n",
       "      <td>r2</td>\n",
       "    </tr>\n",
       "    <tr>\n",
       "      <th>5</th>\n",
       "      <td>26</td>\n",
       "      <td>-83.6</td>\n",
       "      <td>42.6</td>\n",
       "      <td>0302</td>\n",
       "      <td>p</td>\n",
       "    </tr>\n",
       "    <tr>\n",
       "      <th>6</th>\n",
       "      <td>26</td>\n",
       "      <td>-83.7</td>\n",
       "      <td>42.7</td>\n",
       "      <td>0302</td>\n",
       "      <td>p</td>\n",
       "    </tr>\n",
       "  </tbody>\n",
       "</table>\n",
       "</div>"
      ],
      "text/plain": [
       "    0     1     2     3   4\n",
       "0  26 -83.1  42.1  0302   p\n",
       "1  26 -83.2  42.2  0302   p\n",
       "2  26 -83.3  80.4  0303   p\n",
       "3  27 -83.4  42.4  0303  r1\n",
       "4  28 -83.5  42.5  0304  r2\n",
       "5  26 -83.6  42.6  0302   p\n",
       "6  26 -83.7  42.7  0302   p"
      ]
     },
     "execution_count": 51,
     "metadata": {},
     "output_type": "execute_result"
    }
   ],
   "source": [
    "pd.DataFrame(results)"
   ]
  },
  {
   "cell_type": "markdown",
   "metadata": {},
   "source": [
    "## Reading metadata\n",
    "\n",
    "To find out the name of tables in your database"
   ]
  },
  {
   "cell_type": "code",
   "execution_count": 52,
   "metadata": {
    "collapsed": false,
    "scrolled": true
   },
   "outputs": [
    {
     "name": "stdout",
     "output_type": "stream",
     "text": [
      "[(u'dogs',), (u'sqlite_sequence',), (u'people',)]\n"
     ]
    }
   ],
   "source": [
    "# Add extra table to our database\n",
    "c.execute(\"CREATE TABLE IF NOT EXISTS dogs (id INTEGER PRIMARY KEY AUTOINCREMENT)\")\n",
    "c.execute(\"SELECT name FROM sqlite_master WHERE type='table'\")\n",
    "tables = c.fetchall()\n",
    "print(tables)"
   ]
  },
  {
   "cell_type": "markdown",
   "metadata": {},
   "source": [
    "Grab metadata about table using `PRAGMA` SQL statement.  \n",
    "Returns (column id, column name, data type, NOT NULL indicator, default value, primary key indicator)"
   ]
  },
  {
   "cell_type": "code",
   "execution_count": 53,
   "metadata": {
    "collapsed": false,
    "scrolled": true
   },
   "outputs": [
    {
     "data": {
      "text/plain": [
       "[(0, u'statefips', u'INTEGER', 0, u'26', 0),\n",
       " (1, u'x', u'REAL', 0, None, 0),\n",
       " (2, u'y', u'REAL', 0, None, 0),\n",
       " (3, u'quadkey', u'TEXT', 0, None, 0),\n",
       " (4, u'race_type', u'TEXT', 0, u\"'p'\", 0)]"
      ]
     },
     "execution_count": 53,
     "metadata": {},
     "output_type": "execute_result"
    }
   ],
   "source": [
    "c.execute(\"PRAGMA table_info(people)\")\n",
    "metadata = c.fetchall()\n",
    "list(metadata)"
   ]
  },
  {
   "cell_type": "markdown",
   "metadata": {},
   "source": [
    "You can also use the cursor method `description` to get column names from the last query"
   ]
  },
  {
   "cell_type": "code",
   "execution_count": 54,
   "metadata": {
    "collapsed": false,
    "scrolled": true
   },
   "outputs": [
    {
     "data": {
      "text/plain": [
       "(('cid', None, None, None, None, None, None),\n",
       " ('name', None, None, None, None, None, None),\n",
       " ('type', None, None, None, None, None, None),\n",
       " ('notnull', None, None, None, None, None, None),\n",
       " ('dflt_value', None, None, None, None, None, None),\n",
       " ('pk', None, None, None, None, None, None))"
      ]
     },
     "execution_count": 54,
     "metadata": {},
     "output_type": "execute_result"
    }
   ],
   "source": [
    "c.description"
   ]
  },
  {
   "cell_type": "markdown",
   "metadata": {},
   "source": [
    "Use a list comprehension to extract names"
   ]
  },
  {
   "cell_type": "code",
   "execution_count": 55,
   "metadata": {
    "collapsed": false
   },
   "outputs": [
    {
     "data": {
      "text/plain": [
       "['cid', 'name', 'type', 'notnull', 'dflt_value', 'pk']"
      ]
     },
     "execution_count": 55,
     "metadata": {},
     "output_type": "execute_result"
    }
   ],
   "source": [
    "[x[0] for x in c.description]"
   ]
  },
  {
   "cell_type": "markdown",
   "metadata": {},
   "source": [
    "To reference columns by name instead of by index, use the `sqlite3.Row` class. It provides both index-based and case-insensitive name-based access."
   ]
  },
  {
   "cell_type": "code",
   "execution_count": 61,
   "metadata": {
    "collapsed": false
   },
   "outputs": [
    {
     "data": {
      "text/plain": [
       "[<sqlite3.Row at 0x7d5a610>, <sqlite3.Row at 0x7d5a910>]"
      ]
     },
     "execution_count": 61,
     "metadata": {},
     "output_type": "execute_result"
    }
   ],
   "source": [
    "# Set row_factory attribute\n",
    "conn.row_factory = sqlite3.Row\n",
    "\n",
    "# Need to create a new cursor object after setting row_factory\n",
    "a = conn.cursor()\n",
    "a.execute(\"SELECT * FROM people LIMIT 2\")\n",
    "results = a.fetchall()\n",
    "\n",
    "# results is now a list of sqlite3.Row objects\n",
    "list(results)"
   ]
  },
  {
   "cell_type": "markdown",
   "metadata": {},
   "source": [
    "Access the keys (column names)"
   ]
  },
  {
   "cell_type": "code",
   "execution_count": 68,
   "metadata": {
    "collapsed": false,
    "scrolled": true
   },
   "outputs": [
    {
     "data": {
      "text/plain": [
       "['statefips', 'x', 'y', 'quadkey', 'race_type']"
      ]
     },
     "execution_count": 68,
     "metadata": {},
     "output_type": "execute_result"
    }
   ],
   "source": [
    "results[0].keys()"
   ]
  },
  {
   "cell_type": "markdown",
   "metadata": {},
   "source": [
    "Access data by index or name"
   ]
  },
  {
   "cell_type": "code",
   "execution_count": 65,
   "metadata": {
    "collapsed": false
   },
   "outputs": [
    {
     "name": "stdout",
     "output_type": "stream",
     "text": [
      "(-83.1, 42.1, u'0302')\n",
      "(-83.2, 42.2, u'0302')\n"
     ]
    }
   ],
   "source": [
    "for row in results:\n",
    "    print(row[1], row[\"y\"], row[\"quadkey\"])"
   ]
  },
  {
   "cell_type": "markdown",
   "metadata": {},
   "source": [
    "Close database connection"
   ]
  },
  {
   "cell_type": "code",
   "execution_count": 69,
   "metadata": {
    "collapsed": true
   },
   "outputs": [],
   "source": [
    "conn.close()"
   ]
  },
  {
   "cell_type": "markdown",
   "metadata": {},
   "source": [
    "## Other Useful Commands\n",
    "\n",
    "### `with` statement\n",
    "\n",
    "You can use the `with` statement to `connect` to the database. It will automatically commit the transaction to disk for you but it will NOT `close` the connection."
   ]
  },
  {
   "cell_type": "code",
   "execution_count": 27,
   "metadata": {
    "collapsed": false
   },
   "outputs": [
    {
     "data": {
      "text/plain": [
       "[(26, -83.1, 42.1, u'0302', u'p'),\n",
       " (26, -83.2, 42.2, u'0302', u'p'),\n",
       " (26, -83.3, 80.4, u'0303', u'p'),\n",
       " (27, -83.4, 42.4, u'0303', u'r1'),\n",
       " (28, -83.5, 42.5, u'0304', u'r2'),\n",
       " (26, -83.6, 42.6, u'0302', u'p'),\n",
       " (26, -83.7, 42.7, u'0302', u'p'),\n",
       " (30, -84.0, 43.0, u'0303', u'r3'),\n",
       " (31, -84.1, 43.1, u'0304', u'r4')]"
      ]
     },
     "execution_count": 27,
     "metadata": {},
     "output_type": "execute_result"
    }
   ],
   "source": [
    "with sqlite3.connect('midemo.db') as connection:\n",
    "    c = connection.cursor()\n",
    "    c.execute(\"\"\"CREATE TABLE IF NOT EXISTS people\n",
    "                       (statefips INTEGER DEFAULT 26,\n",
    "                       x REAL,\n",
    "                       y REAL,\n",
    "                       quadkey TEXT,\n",
    "                       race_type TEXT DEFAULT 'p')\"\"\" )\n",
    "    two_rows = [(30,-84.0,43.0,'0303','r3'),\n",
    "                 (31,-84.1,43.1,'0304','r4')]\n",
    "    c.executemany(\"INSERT INTO people VALUES (?,?,?,?,?)\", two_rows)\n",
    "    \n",
    "# Read data\n",
    "c.execute(\"SELECT * FROM people\")\n",
    "c.fetchall()"
   ]
  },
  {
   "cell_type": "markdown",
   "metadata": {},
   "source": [
    "### `executescript`\n",
    "\n",
    "You can also use `executescript` as an alternative to using multiple `execute` commands."
   ]
  },
  {
   "cell_type": "code",
   "execution_count": 28,
   "metadata": {
    "collapsed": false
   },
   "outputs": [
    {
     "data": {
      "text/plain": [
       "[(1, u'Garfield'),\n",
       " (2, u'Grumpy Cat'),\n",
       " (3, u'Zarathustra'),\n",
       " (4, u'Cole and Marmalade')]"
      ]
     },
     "execution_count": 28,
     "metadata": {},
     "output_type": "execute_result"
    }
   ],
   "source": [
    "script = \"\"\"\n",
    "CREATE TABLE IF NOT EXISTS cats (\n",
    "    id INTEGER PRIMARY KEY AUTOINCREMENT,\n",
    "    name NAME UNIQUE);\n",
    "INSERT OR IGNORE INTO cats (name) VALUES ('Garfield');\n",
    "INSERT OR IGNORE INTO cats (name) VALUES ('Grumpy Cat');\n",
    "INSERT OR IGNORE INTO cats (name) VALUES ('Zarathustra');\n",
    "INSERT OR IGNORE INTO cats (name) VALUES ('Cole and Marmalade');\n",
    "\"\"\"\n",
    "c.executescript(script)\n",
    "connection.commit()\n",
    "\n",
    "c.execute(\"SELECT * FROM cats\")\n",
    "c.fetchall()"
   ]
  },
  {
   "cell_type": "markdown",
   "metadata": {},
   "source": [
    "### SQL script file\n",
    "\n",
    "You can also use a sql script file in combination with `executescript`."
   ]
  },
  {
   "cell_type": "code",
   "execution_count": 29,
   "metadata": {
    "collapsed": false,
    "scrolled": true
   },
   "outputs": [
    {
     "data": {
      "text/plain": [
       "[(1, u'Lassie'),\n",
       " (2, u'Scooby Doo'),\n",
       " (3, u'Odie'),\n",
       " (4, u'Astro'),\n",
       " (5, u'Pluto'),\n",
       " (6, u'Snoopy')]"
      ]
     },
     "execution_count": 29,
     "metadata": {},
     "output_type": "execute_result"
    }
   ],
   "source": [
    "with open('dogs.sql','r') as f:\n",
    "    sqlquery = f.read()\n",
    "c.executescript(sqlquery)\n",
    "c.execute(\"SELECT * FROM dogs\")\n",
    "c.fetchall()"
   ]
  },
  {
   "cell_type": "markdown",
   "metadata": {},
   "source": [
    "### Pandas SQL\n",
    "\n",
    "Using `pandas` to read from a sqlite database"
   ]
  },
  {
   "cell_type": "code",
   "execution_count": 72,
   "metadata": {
    "collapsed": false
   },
   "outputs": [
    {
     "data": {
      "text/html": [
       "<div>\n",
       "<table border=\"1\" class=\"dataframe\">\n",
       "  <thead>\n",
       "    <tr style=\"text-align: right;\">\n",
       "      <th></th>\n",
       "      <th>index</th>\n",
       "      <th>statefips</th>\n",
       "      <th>x</th>\n",
       "      <th>y</th>\n",
       "      <th>quadkey</th>\n",
       "      <th>race_type</th>\n",
       "    </tr>\n",
       "  </thead>\n",
       "  <tbody>\n",
       "    <tr>\n",
       "      <th>0</th>\n",
       "      <td>0</td>\n",
       "      <td>26</td>\n",
       "      <td>-83.1</td>\n",
       "      <td>42.1</td>\n",
       "      <td>0302</td>\n",
       "      <td>p</td>\n",
       "    </tr>\n",
       "    <tr>\n",
       "      <th>1</th>\n",
       "      <td>1</td>\n",
       "      <td>26</td>\n",
       "      <td>-83.2</td>\n",
       "      <td>42.2</td>\n",
       "      <td>0302</td>\n",
       "      <td>p</td>\n",
       "    </tr>\n",
       "    <tr>\n",
       "      <th>2</th>\n",
       "      <td>2</td>\n",
       "      <td>26</td>\n",
       "      <td>-83.3</td>\n",
       "      <td>80.4</td>\n",
       "      <td>0303</td>\n",
       "      <td>p</td>\n",
       "    </tr>\n",
       "    <tr>\n",
       "      <th>3</th>\n",
       "      <td>3</td>\n",
       "      <td>27</td>\n",
       "      <td>-83.4</td>\n",
       "      <td>42.4</td>\n",
       "      <td>0303</td>\n",
       "      <td>r1</td>\n",
       "    </tr>\n",
       "    <tr>\n",
       "      <th>4</th>\n",
       "      <td>4</td>\n",
       "      <td>28</td>\n",
       "      <td>-83.5</td>\n",
       "      <td>42.5</td>\n",
       "      <td>0304</td>\n",
       "      <td>r2</td>\n",
       "    </tr>\n",
       "    <tr>\n",
       "      <th>5</th>\n",
       "      <td>5</td>\n",
       "      <td>26</td>\n",
       "      <td>-83.6</td>\n",
       "      <td>42.6</td>\n",
       "      <td>0302</td>\n",
       "      <td>p</td>\n",
       "    </tr>\n",
       "    <tr>\n",
       "      <th>6</th>\n",
       "      <td>6</td>\n",
       "      <td>26</td>\n",
       "      <td>-83.7</td>\n",
       "      <td>42.7</td>\n",
       "      <td>0302</td>\n",
       "      <td>p</td>\n",
       "    </tr>\n",
       "  </tbody>\n",
       "</table>\n",
       "</div>"
      ],
      "text/plain": [
       "   index  statefips     x     y quadkey race_type\n",
       "0      0         26 -83.1  42.1    0302         p\n",
       "1      1         26 -83.2  42.2    0302         p\n",
       "2      2         26 -83.3  80.4    0303         p\n",
       "3      3         27 -83.4  42.4    0303        r1\n",
       "4      4         28 -83.5  42.5    0304        r2\n",
       "5      5         26 -83.6  42.6    0302         p\n",
       "6      6         26 -83.7  42.7    0302         p"
      ]
     },
     "execution_count": 72,
     "metadata": {},
     "output_type": "execute_result"
    }
   ],
   "source": [
    "conn = sqlite3.connect(database_filename)\n",
    "df = pd.read_sql_query(\"SELECT * FROM more_people\", conn)\n",
    "df"
   ]
  },
  {
   "cell_type": "markdown",
   "metadata": {},
   "source": [
    "Using `pandas` to write a dataframe to a new table in a sqlite database."
   ]
  },
  {
   "cell_type": "code",
   "execution_count": 71,
   "metadata": {
    "collapsed": true
   },
   "outputs": [],
   "source": [
    "df.to_sql(\"more_people\", conn, if_exists=\"replace\", index=True)\n",
    "conn.close()"
   ]
  },
  {
   "cell_type": "markdown",
   "metadata": {},
   "source": [
    "## Writing and Reading Images\n",
    "\n",
    "You can also store and retrieve images in a sqlite database as a BLOB data type."
   ]
  },
  {
   "cell_type": "code",
   "execution_count": 73,
   "metadata": {
    "collapsed": false
   },
   "outputs": [
    {
     "data": {
      "image/png": "[encoded data removed]",
      "text/plain": [
       "<PIL.Image.Image image mode=RGB size=98x132 at 0x87EC080>"
      ]
     },
     "metadata": {},
     "output_type": "display_data"
    },
    {
     "data": {
      "image/png": "[encoded data removed]",
      "text/plain": [
       "<PIL.Image.Image image mode=RGB size=56x88 at 0x87EC198>"
      ]
     },
     "metadata": {},
     "output_type": "display_data"
    },
    {
     "data": {
      "image/png": "[encoded data removed]",
      "text/plain": [
       "<PIL.Image.Image image mode=RGB size=78x113 at 0x87EC080>"
      ]
     },
     "metadata": {},
     "output_type": "display_data"
    },
    {
     "data": {
      "image/png": "[encoded data removed]",
      "text/plain": [
       "<PIL.Image.Image image mode=RGB size=57x78 at 0x87EC198>"
      ]
     },
     "metadata": {},
     "output_type": "display_data"
    },
    {
     "data": {
      "image/png": "[encoded data removed]",
      "text/plain": [
       "<PIL.Image.Image image mode=RGB size=68x96 at 0x87EC080>"
      ]
     },
     "metadata": {},
     "output_type": "display_data"
    }
   ],
   "source": [
    "# import additional libraries\n",
    "from PIL import Image\n",
    "import os\n",
    "import glob\n",
    "from IPython.display import display\n",
    "\n",
    "# grab list of jpg files\n",
    "files = glob.glob(r'photos/*.jpg')\n",
    "\n",
    "# open sqlite database in memory\n",
    "conn = sqlite3.connect(':memory:')\n",
    "c = conn.cursor()\n",
    "c.execute('DROP TABLE IF EXISTS photos')\n",
    "# create schema\n",
    "c.execute('CREATE TABLE IF NOT EXISTS photos \n",
    "          (name TEXT, mode TEXT, x INTEGER, y INTEGER, bytedata BLOB)')\n",
    "\n",
    "# loop through each file and store it in the database\n",
    "names = []\n",
    "for dog in files:\n",
    "    img = Image.open(dog)\n",
    "    name = os.path.splitext(dog)\n",
    "    names.append(name[0])\n",
    "    c.execute('INSERT INTO photos (name,mode,x,y,bytedata) VALUES (?,?,?,?,?)',\n",
    "              (name[0], img.mode, img.size[0], img.size[1], buffer(img.tobytes())) )\n",
    "    img.close()\n",
    "\n",
    "# retrieve images by name\n",
    "for dog in names:\n",
    "    c.execute('SELECT * FROM photos WHERE name=?', (dog,) )\n",
    "    row = c.fetchone()\n",
    "    display(Image.frombytes(row[1],(row[2],row[3]),row[4]))\n",
    "    \n",
    "conn.close()"
   ]
  },
  {
   "cell_type": "markdown",
   "metadata": {},
   "source": [
    "## References\n",
    "\n",
    "Official Documentation  \n",
    "https://www.sqlite.org\n",
    "\n",
    "SQLite Tutorial  \n",
    "https://www.tutorialspoint.com/sqlite/\n",
    "\n",
    "\n",
    "## Software Version for Jupyter Notebook"
   ]
  },
  {
   "cell_type": "code",
   "execution_count": 33,
   "metadata": {
    "collapsed": false
   },
   "outputs": [
    {
     "name": "stdout",
     "output_type": "stream",
     "text": [
      "Installed version_information.py. To use it, type:\n",
      "  %load_ext version_information\n"
     ]
    },
    {
     "name": "stderr",
     "output_type": "stream",
     "text": [
      "C:\\Users\\caoa\\AppData\\Local\\Continuum\\Anaconda3\\envs\\py27\\lib\\site-packages\\IPython\\core\\magics\\extension.py:47: UserWarning: %install_ext` is deprecated, please distribute your extension(s)as a python packages.\n",
      "  \"as a python packages.\", UserWarning)\n"
     ]
    }
   ],
   "source": [
    "# you only need to do this once\n",
    "%install_ext http://raw.github.com/jrjohansson/version_information/master/version_information.py"
   ]
  },
  {
   "cell_type": "code",
   "execution_count": 34,
   "metadata": {
    "collapsed": false
   },
   "outputs": [
    {
     "data": {
      "application/json": {
       "Software versions": [
        {
         "module": "Python",
         "version": "2.7.11 64bit [MSC v.1500 64 bit (AMD64)]"
        },
        {
         "module": "IPython",
         "version": "4.0.3"
        },
        {
         "module": "OS",
         "version": "Windows 7 6.1.7601 SP1"
        },
        {
         "module": "pandas",
         "version": "0.18.0"
        },
        {
         "module": "sqlite3",
         "version": "The 'sqlite3' distribution was not found and is required by the application"
        },
        {
         "module": "PIL",
         "version": "The 'PIL' distribution was not found and is required by the application"
        }
       ]
      },
      "text/html": [
       "<table><tr><th>Software</th><th>Version</th></tr><tr><td>Python</td><td>2.7.11 64bit [MSC v.1500 64 bit (AMD64)]</td></tr><tr><td>IPython</td><td>4.0.3</td></tr><tr><td>OS</td><td>Windows 7 6.1.7601 SP1</td></tr><tr><td>pandas</td><td>0.18.0</td></tr><tr><td>sqlite3</td><td>The 'sqlite3' distribution was not found and is required by the application</td></tr><tr><td>PIL</td><td>The 'PIL' distribution was not found and is required by the application</td></tr><tr><td colspan='2'>Wed Mar 16 14:11:48 2016 Eastern Daylight Time</td></tr></table>"
      ],
      "text/latex": [
       "\\begin{tabular}{|l|l|}\\hline\n",
       "{\\bf Software} & {\\bf Version} \\\\ \\hline\\hline\n",
       "Python & 2.7.11 64bit [MSC v.1500 64 bit (AMD64)] \\\\ \\hline\n",
       "IPython & 4.0.3 \\\\ \\hline\n",
       "OS & Windows 7 6.1.7601 SP1 \\\\ \\hline\n",
       "pandas & 0.18.0 \\\\ \\hline\n",
       "sqlite3 & The 'sqlite3' distribution was not found and is required by the application \\\\ \\hline\n",
       "PIL & The 'PIL' distribution was not found and is required by the application \\\\ \\hline\n",
       "\\hline \\multicolumn{2}{|l|}{Wed Mar 16 14:11:48 2016 Eastern Daylight Time} \\\\ \\hline\n",
       "\\end{tabular}\n"
      ],
      "text/plain": [
       "Software versions\n",
       "Python 2.7.11 64bit [MSC v.1500 64 bit (AMD64)]\n",
       "IPython 4.0.3\n",
       "OS Windows 7 6.1.7601 SP1\n",
       "pandas 0.18.0\n",
       "sqlite3 The 'sqlite3' distribution was not found and is required by the application\n",
       "PIL The 'PIL' distribution was not found and is required by the application\n",
       "Wed Mar 16 14:11:48 2016 Eastern Daylight Time"
      ]
     },
     "execution_count": 34,
     "metadata": {},
     "output_type": "execute_result"
    }
   ],
   "source": [
    "%load_ext version_information\n",
    "%version_information pandas, sqlite3, PIL"
   ]
  },
  {
   "cell_type": "code",
   "execution_count": 35,
   "metadata": {
    "collapsed": false
   },
   "outputs": [
    {
     "data": {
      "text/plain": [
       "'2.6.0'"
      ]
     },
     "execution_count": 35,
     "metadata": {},
     "output_type": "execute_result"
    }
   ],
   "source": [
    "sqlite3.version"
   ]
  },
  {
   "cell_type": "code",
   "execution_count": 36,
   "metadata": {
    "collapsed": false
   },
   "outputs": [
    {
     "data": {
      "text/plain": [
       "'1.1.7'"
      ]
     },
     "execution_count": 36,
     "metadata": {},
     "output_type": "execute_result"
    }
   ],
   "source": [
    "import PIL\n",
    "PIL.VERSION"
   ]
  },
  {
   "cell_type": "code",
   "execution_count": null,
   "metadata": {
    "collapsed": true
   },
   "outputs": [],
   "source": []
  }
 ],
 "metadata": {
  "kernelspec": {
   "display_name": "Python 3",
   "language": "python",
   "name": "python3"
  },
  "language_info": {
   "codemirror_mode": {
    "name": "ipython",
    "version": 3
   },
   "file_extension": ".py",
   "mimetype": "text/x-python",
   "name": "python",
   "nbconvert_exporter": "python",
   "pygments_lexer": "ipython3",
   "version": "3.5.1"
  }
 },
 "nbformat": 4,
 "nbformat_minor": 0
}
