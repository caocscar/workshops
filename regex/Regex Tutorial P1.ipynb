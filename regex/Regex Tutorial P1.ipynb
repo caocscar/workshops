{
 "cells": [
  {
   "cell_type": "markdown",
   "metadata": {},
   "source": [
    "# Regular Expressions"
   ]
  },
  {
   "cell_type": "markdown",
   "metadata": {},
   "source": [
    "I think regular expressions are perfectly suited for people who like puzzles like _crosswords_ and _Sudoku_. Naturally, people created games out of them (more info on that later). They can be long, mindboggling and indecipherable at times. But we'll start at the very beginning to keep it simple.\n",
    "\n",
    "There are multiple versions of Regex Engines out there for different programming languages and software (analogous to SQL flavors for databases). The differences usually lie in the more advanced features. The basic nomenclature should hold across most Regex Engines.\n",
    "\n",
    "A regular expression is a sequence of characters that can be used as a search pattern for a string. They are commonly used to do __find__ and __find and replace__ string operations and for __validation of user input__ (we'll see examples of this later).\n",
    "\n",
    "Regular expressions can be used to evaulate Unicode strings or 8-bit strings (e.g. '00001110'). We'll just worry about the former in this workshop. Python has adopted the Perl syntax vs. the POSIX syntax."
   ]
  },
  {
   "cell_type": "markdown",
   "metadata": {},
   "source": [
    "Let's get started and import the regular expression module in Python."
   ]
  },
  {
   "cell_type": "code",
   "execution_count": 3,
   "metadata": {
    "collapsed": true,
    "scrolled": true
   },
   "outputs": [],
   "source": [
    "import re"
   ]
  },
  {
   "cell_type": "markdown",
   "metadata": {},
   "source": [
    "To set up a regular expression (regex), we use the `compile` method."
   ]
  },
  {
   "cell_type": "code",
   "execution_count": 4,
   "metadata": {
    "collapsed": false,
    "scrolled": true
   },
   "outputs": [
    {
     "data": {
      "text/plain": [
       "re.compile(r'regular expression', re.UNICODE)"
      ]
     },
     "execution_count": 4,
     "metadata": {},
     "output_type": "execute_result"
    }
   ],
   "source": [
    "regex = re.compile('regular expression')\n",
    "regex"
   ]
  },
  {
   "cell_type": "markdown",
   "metadata": {},
   "source": [
    "To look for a match, we use the `search` method."
   ]
  },
  {
   "cell_type": "code",
   "execution_count": 5,
   "metadata": {
    "collapsed": false,
    "scrolled": true
   },
   "outputs": [
    {
     "data": {
      "text/plain": [
       "<_sre.SRE_Match object; span=(35, 53), match='regular expression'>"
      ]
     },
     "execution_count": 5,
     "metadata": {},
     "output_type": "execute_result"
    }
   ],
   "source": [
    "re.search(regex, 'This string should match the above regular expression')"
   ]
  },
  {
   "cell_type": "markdown",
   "metadata": {},
   "source": [
    "The `search` method returns a match object that contains the span of characters that matched along with the characters that matched. If an object exists in Python, it usually is equivalent to `True`. We'll use that fact to check if we have a match or not."
   ]
  },
  {
   "cell_type": "markdown",
   "metadata": {},
   "source": [
    "Here is a custom function we'll be using to return `True`/`False` about whether our regex matches a list of strings."
   ]
  },
  {
   "cell_type": "code",
   "execution_count": 6,
   "metadata": {
    "collapsed": true,
    "scrolled": true
   },
   "outputs": [],
   "source": [
    "def Go_Fish(strings, regex, flag=0):\n",
    "    TF = []\n",
    "    for string in strings:\n",
    "        if re.search(regex, string):\n",
    "            if flag:\n",
    "                print(re.search(regex,string))\n",
    "            TF.append(True)\n",
    "        else:\n",
    "            TF.append(False)\n",
    "    return TF"
   ]
  },
  {
   "cell_type": "markdown",
   "metadata": {},
   "source": [
    "**Note**: None of the regex solutions will require knowledge of anything not covered before it."
   ]
  },
  {
   "cell_type": "markdown",
   "metadata": {},
   "source": [
    "## Literal String Matching"
   ]
  },
  {
   "cell_type": "markdown",
   "metadata": {},
   "source": [
    "The simplest way to match is to provide the actual text that you want to literally (exactly) match.  \n",
    "For example, if you want to find all strings that contain the characters \"dog\", your regex would just be `dog`."
   ]
  },
  {
   "cell_type": "code",
   "execution_count": null,
   "metadata": {
    "collapsed": true,
    "scrolled": true
   },
   "outputs": [],
   "source": [
    "strings = ['Cat', 'Cats', 'Cathy', 'cathy', 'Caller id']\n",
    "# [True, True, True, False, False]"
   ]
  },
  {
   "cell_type": "markdown",
   "metadata": {},
   "source": [
    "**Note**: The list of True and False elements below the `strings` variable is the answer I want you to match using a regex."
   ]
  },
  {
   "cell_type": "code",
   "execution_count": null,
   "metadata": {
    "collapsed": true,
    "scrolled": true
   },
   "outputs": [],
   "source": [
    "regex = re.compile('')\n",
    "Go_Fish(strings, regex)"
   ]
  },
  {
   "cell_type": "markdown",
   "metadata": {},
   "source": [
    "The same holds true for numbers represented as a string."
   ]
  },
  {
   "cell_type": "code",
   "execution_count": null,
   "metadata": {
    "collapsed": true,
    "scrolled": true
   },
   "outputs": [],
   "source": [
    "strings = ['734-764-7828','734 764 4615', '007', 'seven']\n",
    "# [True, True, True, False]"
   ]
  },
  {
   "cell_type": "code",
   "execution_count": null,
   "metadata": {
    "collapsed": true,
    "scrolled": true
   },
   "outputs": [],
   "source": [
    "regex = re.compile('')\n",
    "Go_Fish(strings, regex)"
   ]
  },
  {
   "cell_type": "markdown",
   "metadata": {},
   "source": [
    "**Regular Expressions can only work with strings**. That is, numbers (e.g. integers and floats) have to be converted to a string type. This holds for both the regular expression and the item you are searching or matching against. Here is a counter example with two issues that will produce an error."
   ]
  },
  {
   "cell_type": "code",
   "execution_count": null,
   "metadata": {
    "collapsed": true,
    "scrolled": true
   },
   "outputs": [],
   "source": [
    "strings = [1,2,3] # not allowed"
   ]
  },
  {
   "cell_type": "code",
   "execution_count": null,
   "metadata": {
    "collapsed": true
   },
   "outputs": [],
   "source": [
    "regex = re.compile(3) # not allowed\n",
    "Go_Fish(strings, regex)"
   ]
  },
  {
   "cell_type": "markdown",
   "metadata": {},
   "source": [
    "## Leading Characters `^` and Trailing Characters `$`"
   ]
  },
  {
   "cell_type": "markdown",
   "metadata": {},
   "source": [
    "`^` indicates the start of string. An alternative notation to indicate the start of the string is to use `\\A`. \n",
    "\n",
    "For example, `^al` would match a string like `aluminum` but not `tally`.  "
   ]
  },
  {
   "cell_type": "code",
   "execution_count": null,
   "metadata": {
    "collapsed": true
   },
   "outputs": [],
   "source": [
    "strings = ['Beaver', 'Beard', 'Beat It', 'Betty', 'Big Beaver Rd']\n",
    "# [True, True, True, False, False]"
   ]
  },
  {
   "cell_type": "code",
   "execution_count": null,
   "metadata": {
    "collapsed": true
   },
   "outputs": [],
   "source": [
    "regex = re.compile('')\n",
    "Go_Fish(strings, regex)"
   ]
  },
  {
   "cell_type": "markdown",
   "metadata": {},
   "source": [
    "`$` indicates the end of string. Another nomenclature to indicate the end of the string is to use `\\Z`. \n",
    "\n",
    "For example, `al$` would match a string like `get real` but not `tally`.  "
   ]
  },
  {
   "cell_type": "code",
   "execution_count": null,
   "metadata": {
    "collapsed": true
   },
   "outputs": [],
   "source": [
    "strings = ['kissing', 'loving', 'song', 'kings']\n",
    "# [True, True, False, False]"
   ]
  },
  {
   "cell_type": "code",
   "execution_count": null,
   "metadata": {
    "collapsed": true,
    "scrolled": true
   },
   "outputs": [],
   "source": [
    "regex = re.compile('')\n",
    "Go_Fish(strings, regex)"
   ]
  },
  {
   "cell_type": "markdown",
   "metadata": {},
   "source": [
    "## Matching `[]` and Omitting `^` Specific Characters"
   ]
  },
  {
   "cell_type": "markdown",
   "metadata": {},
   "source": [
    "You can match more than one character at a time for a specific character in a regex. Just specify the characters you want to exactly match in a square bracket `[]`. \n",
    "\n",
    "For example, `[abc]$` will match any word ending with a, b, or c."
   ]
  },
  {
   "cell_type": "code",
   "execution_count": null,
   "metadata": {
    "collapsed": true,
    "scrolled": true
   },
   "outputs": [],
   "source": [
    "strings = ['fast', 'mast', 'last', 'cast', 'vast', 'flash']\n",
    "# [True, True, True, False, False, False]"
   ]
  },
  {
   "cell_type": "code",
   "execution_count": null,
   "metadata": {
    "collapsed": true,
    "scrolled": true
   },
   "outputs": [],
   "source": [
    "regex = re.compile('')\n",
    "Go_Fish(strings, regex)"
   ]
  },
  {
   "cell_type": "markdown",
   "metadata": {},
   "source": [
    "You can also choose NOT to match certain characters in a regex. Just specify the characters you want to NOT match in square brackets with the caret symbol `[^]`. \n",
    "\n",
    "**Note:** As you might have notice, `^` already has two different meanings and can cause some confusion when reading regular expressions.\n",
    "\n",
    "For example, `^[^XYZ]` will match any word not starting with X, Y, or Z."
   ]
  },
  {
   "cell_type": "code",
   "execution_count": null,
   "metadata": {
    "collapsed": true,
    "scrolled": true
   },
   "outputs": [],
   "source": [
    "strings = ['fast', 'mast', 'last', 'cast', 'vast', 'flash']\n",
    "# [True, True, True, False, False, False]"
   ]
  },
  {
   "cell_type": "code",
   "execution_count": null,
   "metadata": {
    "collapsed": true,
    "scrolled": true
   },
   "outputs": [],
   "source": [
    "regex = re.compile('')\n",
    "Go_Fish(strings, regex)"
   ]
  },
  {
   "cell_type": "markdown",
   "metadata": {},
   "source": [
    "## Range of Characters"
   ]
  },
  {
   "cell_type": "markdown",
   "metadata": {},
   "source": [
    "Sometimes, you just want to match a range of characters instead of specifying specific ones. \n",
    "\n",
    "For example, if you want to match all alphanumeric characters, your regex pattern would be `[A-Za-z0-9]`.  \n",
    "Order doesn't matter. This is the same as `[a-z0-9A-Z]`."
   ]
  },
  {
   "cell_type": "code",
   "execution_count": 125,
   "metadata": {
    "collapsed": true,
    "scrolled": true
   },
   "outputs": [],
   "source": [
    "strings = ['World War Z','X-Ray Glasses','Alf','Foxtrot','Money','Yo-Yo']\n",
    "# [True, True, True, True, False, False]"
   ]
  },
  {
   "cell_type": "code",
   "execution_count": 126,
   "metadata": {
    "collapsed": false,
    "scrolled": true
   },
   "outputs": [
    {
     "data": {
      "text/plain": [
       "[True, True, True, True, False, False]"
      ]
     },
     "execution_count": 126,
     "metadata": {},
     "output_type": "execute_result"
    }
   ],
   "source": [
    "regex = re.compile('')\n",
    "Go_Fish(strings, regex)"
   ]
  },
  {
   "cell_type": "code",
   "execution_count": 7,
   "metadata": {
    "collapsed": true
   },
   "outputs": [],
   "source": [
    "strings = ['123', '456', '789', '88', '420', '007']\n",
    "# [True, True, True, False, False, False]"
   ]
  },
  {
   "cell_type": "code",
   "execution_count": 8,
   "metadata": {
    "collapsed": false,
    "scrolled": false
   },
   "outputs": [
    {
     "data": {
      "text/plain": [
       "[True, True, True, False, False, False]"
      ]
     },
     "execution_count": 8,
     "metadata": {},
     "output_type": "execute_result"
    }
   ],
   "source": [
    "regex = re.compile('')\n",
    "Go_Fish(strings, regex)"
   ]
  },
  {
   "cell_type": "markdown",
   "metadata": {},
   "source": [
    "## Logical OR `|` Operator"
   ]
  },
  {
   "cell_type": "markdown",
   "metadata": {},
   "source": [
    "The logical OR operator allows us to match one regex pattern or another. For example, to match \"cat\" or \"dog\", use the regex `cat|dog`. The OR operator is also commonly used with the `()` for grouping, clarity, and some other purpose that is explained later on. \n",
    "\n",
    "For example, `I love my (cat|dog).` Without the parentheses, the regex will try to match the entire phrase `I love my cat` or word `dog`."
   ]
  },
  {
   "cell_type": "code",
   "execution_count": 18,
   "metadata": {
    "collapsed": true
   },
   "outputs": [],
   "source": [
    "strings = ['123', '456', '789', '88', '420', '007']\n",
    "# [True, False, True, False, True, False]"
   ]
  },
  {
   "cell_type": "code",
   "execution_count": 19,
   "metadata": {
    "collapsed": false,
    "scrolled": true
   },
   "outputs": [
    {
     "name": "stdout",
     "output_type": "stream",
     "text": [
      "<_sre.SRE_Match object; span=(1, 2), match='2'>\n",
      "<_sre.SRE_Match object; span=(0, 2), match='78'>\n",
      "<_sre.SRE_Match object; span=(1, 2), match='2'>\n"
     ]
    },
    {
     "data": {
      "text/plain": [
       "[True, False, True, False, True, False]"
      ]
     },
     "execution_count": 19,
     "metadata": {},
     "output_type": "execute_result"
    }
   ],
   "source": [
    "regex = re.compile('')\n",
    "Go_Fish(strings, regex,1)"
   ]
  },
  {
   "cell_type": "code",
   "execution_count": null,
   "metadata": {
    "collapsed": true,
    "scrolled": true
   },
   "outputs": [],
   "source": [
    "strings = ['keep calm and cook bacon', \n",
    "           'keep calm and cook hash browns',\n",
    "           'keep calm and cook quinoa',\n",
    "           'bacon and hash browns are yummy']\n",
    "# [True, True, False, False]"
   ]
  },
  {
   "cell_type": "code",
   "execution_count": null,
   "metadata": {
    "collapsed": true,
    "scrolled": true
   },
   "outputs": [],
   "source": [
    "regex = re.compile('')\n",
    "Go_Fish(strings, regex)"
   ]
  },
  {
   "cell_type": "markdown",
   "metadata": {},
   "source": [
    "**Note**: There is no logical AND operator as it does not make sense to be able to match two characters simultaneously on a single character."
   ]
  },
  {
   "cell_type": "markdown",
   "metadata": {},
   "source": [
    "## Characters, Numbers, Word Characters and Boundaries, and Whitespace"
   ]
  },
  {
   "cell_type": "markdown",
   "metadata": {},
   "source": [
    "### <font color=blue>any character `.`</font>"
   ]
  },
  {
   "cell_type": "markdown",
   "metadata": {},
   "source": [
    "The dot matches any character. The only exceptions are empty strings and new line characters. This metacharacter is pretty powerful and will almost always return `True` usually resulting in false positives. Use sparingly. If you want to literally match a period, use `\\.` \n",
    "\n",
    "**Tip:** The backslash character is used to escape special characters like `^, $, *, +, ?, {, }, [, ], \\, |, (, )`.\n",
    "\n",
    "For example, `c.t` will match `cat` or `cot` but not `ca`. "
   ]
  },
  {
   "cell_type": "code",
   "execution_count": null,
   "metadata": {
    "collapsed": true,
    "scrolled": true
   },
   "outputs": [],
   "source": [
    "strings = ['Will.I.Am', 'The End.', 'etc...', 'LEGO', '???', '', '\\n']\n",
    "# [True, True, True, True, False, False, False]"
   ]
  },
  {
   "cell_type": "code",
   "execution_count": null,
   "metadata": {
    "collapsed": true,
    "scrolled": true
   },
   "outputs": [],
   "source": [
    "regex = re.compile('')\n",
    "Go_Fish(strings, regex)"
   ]
  },
  {
   "cell_type": "markdown",
   "metadata": {},
   "source": [
    "Now try to match a literal period or two or three."
   ]
  },
  {
   "cell_type": "code",
   "execution_count": null,
   "metadata": {
    "collapsed": true
   },
   "outputs": [],
   "source": [
    "strings = ['Will.I.Am', 'The End.', 'etc...', 'LEGO', '???', '', '\\n']\n",
    "# [True, False, True, False, False, False, False]"
   ]
  },
  {
   "cell_type": "code",
   "execution_count": null,
   "metadata": {
    "collapsed": true
   },
   "outputs": [],
   "source": [
    "regex = re.compile('')\n",
    "Go_Fish(strings, regex)"
   ]
  },
  {
   "cell_type": "markdown",
   "metadata": {},
   "source": [
    "### <font color=blue>numbers `\\d \\D`</font>"
   ]
  },
  {
   "cell_type": "markdown",
   "metadata": {},
   "source": [
    "- `\\d` matches any Unicode decimal digit. This includes [0-9] and also many other digit characters. \n",
    "- `\\D` matches non-decimal digit characters. \n",
    "\n",
    "This url has a good list of other decimal digit characters (which I never knew about until now). http://www.fileformat.info/info/unicode/category/Nd/list.htm  \n",
    "\n",
    "For example, `\\d` will match `0` but not `?`, while `\\D` will not match `0` but will match `?`."
   ]
  },
  {
   "cell_type": "code",
   "execution_count": 85,
   "metadata": {
    "collapsed": true
   },
   "outputs": [],
   "source": [
    "strings = ['48109', '2001: A Space Odyssey', 'Beverly Hills 90210', 'BB-8', '734-764-7828']\n",
    "# [True, True, True, False, False]"
   ]
  },
  {
   "cell_type": "code",
   "execution_count": 89,
   "metadata": {
    "collapsed": false
   },
   "outputs": [
    {
     "data": {
      "text/plain": [
       "[True, True, True, False, False]"
      ]
     },
     "execution_count": 89,
     "metadata": {},
     "output_type": "execute_result"
    }
   ],
   "source": [
    "regex = re.compile('')\n",
    "Go_Fish(strings, regex)"
   ]
  },
  {
   "cell_type": "markdown",
   "metadata": {},
   "source": [
    "The first string has the digits 6 and 7 in Tamil and is equivalent to 67==67."
   ]
  },
  {
   "cell_type": "code",
   "execution_count": 95,
   "metadata": {
    "collapsed": true
   },
   "outputs": [],
   "source": [
    "strings = ['௬௭==67','8eight','9?','2 - 2 = 0','2+2=4']\n",
    "# [False, False, False, True, True]"
   ]
  },
  {
   "cell_type": "code",
   "execution_count": 96,
   "metadata": {
    "collapsed": false
   },
   "outputs": [
    {
     "name": "stdout",
     "output_type": "stream",
     "text": [
      "<_sre.SRE_Match object; span=(3, 6), match=' 2 '>\n",
      "<_sre.SRE_Match object; span=(1, 4), match='+2='>\n"
     ]
    },
    {
     "data": {
      "text/plain": [
       "[False, False, False, True, True]"
      ]
     },
     "execution_count": 96,
     "metadata": {},
     "output_type": "execute_result"
    }
   ],
   "source": [
    "regex = re.compile('')\n",
    "Go_Fish(strings, regex, 1)"
   ]
  },
  {
   "cell_type": "markdown",
   "metadata": {},
   "source": [
    "### <font color=blue>whitespace `\\s \\S`</font>"
   ]
  },
  {
   "cell_type": "markdown",
   "metadata": {},
   "source": [
    "- `\\s` matches Unicode whitespace characters (which includes a space, horizontal tab, vertical tab, line break, carriage return, form feed `[ \\t\\v\\n\\r\\f]` and other characters). \n",
    "- `\\S` matches non-whitespace characters. \n",
    "\n",
    "This url has a list of non-whitespace characters. http://www.fileformat.info/info/unicode/category/Zs/list.htm  \n",
    "\n",
    "For example, `\\s` will match `\\t` while `\\S` will match `t`."
   ]
  },
  {
   "cell_type": "code",
   "execution_count": null,
   "metadata": {
    "collapsed": true
   },
   "outputs": [],
   "source": [
    "strings = ['To Whom It May Concern','N I-75','915\\tE\\tWashington\\tSt','13\\n30','The\\n\\nEnd']\n",
    "# [True, False, True, True, False]"
   ]
  },
  {
   "cell_type": "code",
   "execution_count": null,
   "metadata": {
    "collapsed": true
   },
   "outputs": [],
   "source": [
    "regex = re.compile('')\n",
    "Go_Fish(strings, regex, 1)"
   ]
  },
  {
   "cell_type": "markdown",
   "metadata": {},
   "source": [
    "Try to match using the non-whitespace character."
   ]
  },
  {
   "cell_type": "code",
   "execution_count": null,
   "metadata": {
    "collapsed": true
   },
   "outputs": [],
   "source": [
    "strings = ['To Whom It May Concern','N I-75','915\\tE\\tWashington\\tSt','13\\n30','The\\n\\nEnd']\n",
    "# [True, False, False, False, False]"
   ]
  },
  {
   "cell_type": "code",
   "execution_count": null,
   "metadata": {
    "collapsed": true
   },
   "outputs": [],
   "source": [
    "regex = re.compile('')\n",
    "Go_Fish(strings, regex, 1)"
   ]
  },
  {
   "cell_type": "markdown",
   "metadata": {},
   "source": [
    "### <font color=blue>word characters `\\w \\W`</font>"
   ]
  },
  {
   "cell_type": "markdown",
   "metadata": {},
   "source": [
    "- `\\w` matches Unicode word characters. This includes most characters that can be part of a word in any language, as well as numbers and the underscore. The word character matches ASCII characters `[A-Za-z0-9_]`. \n",
    "- `\\W` matches non-word characters. \n",
    "\n",
    "For example, `\\w` will match `a`, `A`, or `0` but not `!`, but `\\W` will not match `a`, `A`, or `0` but will match `!`."
   ]
  },
  {
   "cell_type": "code",
   "execution_count": null,
   "metadata": {
    "collapsed": true
   },
   "outputs": [],
   "source": [
    "strings = ['Häagen-Dazs','El Niño', 'Peanut Butter & Jelly', 'I-94', 'eh', '!!!']\n",
    "# [True, True, True, False, False, False]"
   ]
  },
  {
   "cell_type": "code",
   "execution_count": null,
   "metadata": {
    "collapsed": true
   },
   "outputs": [],
   "source": [
    "regex = re.compile('')\n",
    "Go_Fish(strings, regex, 1)"
   ]
  },
  {
   "cell_type": "markdown",
   "metadata": {},
   "source": [
    "Try to match using the non-word character."
   ]
  },
  {
   "cell_type": "code",
   "execution_count": null,
   "metadata": {
    "collapsed": true
   },
   "outputs": [],
   "source": [
    "strings = ['Häagen-Dazs','El Niño', 'Peanut Butter & Jelly', 'I-94', 'eh', '!!!']\n",
    "# [False, False, True, False, False, False]"
   ]
  },
  {
   "cell_type": "code",
   "execution_count": null,
   "metadata": {
    "collapsed": true
   },
   "outputs": [],
   "source": [
    "regex = re.compile('')\n",
    "Go_Fish(strings, regex, 1)"
   ]
  },
  {
   "cell_type": "markdown",
   "metadata": {},
   "source": [
    "### <font color=blue>word boundaries `\\b \\B`</font>"
   ]
  },
  {
   "cell_type": "markdown",
   "metadata": {},
   "source": [
    "- `\\b` matches the boundary between a `\\w` and `\\W` character (or vice versa) or between `\\w` and the beginning/end of a string.\n",
    "- `\\B` matches non-word boundaries. \n",
    "\n",
    "Word boundaries is the first metacharacter we've introduced that does not consume a character.\n",
    "\n",
    "For example, `regex\\b` will match `regex` but not `regexpressions`, while `regex\\B` will not match `regex` and will match `regexpressions`."
   ]
  },
  {
   "cell_type": "code",
   "execution_count": 37,
   "metadata": {
    "collapsed": true
   },
   "outputs": [],
   "source": [
    "strings = ['Python is a snake',\n",
    "           'Learn Python and make $$$', \n",
    "           'IPython Notebook is a good tool to know',\n",
    "           'You should be using Python3 and not Python2',\n",
    "           \"That's not very Pythonic\"]\n",
    "# [True, True, False, False, False]"
   ]
  },
  {
   "cell_type": "code",
   "execution_count": 38,
   "metadata": {
    "collapsed": false
   },
   "outputs": [
    {
     "name": "stdout",
     "output_type": "stream",
     "text": [
      "<_sre.SRE_Match object; span=(0, 6), match='Python'>\n",
      "<_sre.SRE_Match object; span=(6, 12), match='Python'>\n",
      "<_sre.SRE_Match object; span=(20, 26), match='Python'>\n",
      "<_sre.SRE_Match object; span=(16, 22), match='Python'>\n"
     ]
    },
    {
     "data": {
      "text/plain": [
       "[True, True, False, True, True]"
      ]
     },
     "execution_count": 38,
     "metadata": {},
     "output_type": "execute_result"
    }
   ],
   "source": [
    "regex = re.compile(r'')\n",
    "Go_Fish(strings, regex, 1)"
   ]
  },
  {
   "cell_type": "markdown",
   "metadata": {},
   "source": [
    "**Tip**: In Python, you have use the raw string notation `r` when using word boundaries. This is because `\\b` in python means backspace. The `r` tells Python to interpret the string literally and do not escape the character. Some people always include it at the start of a Python regex"
   ]
  },
  {
   "cell_type": "markdown",
   "metadata": {},
   "source": [
    "Try to match using a non-word boundary character."
   ]
  },
  {
   "cell_type": "code",
   "execution_count": 28,
   "metadata": {
    "collapsed": true
   },
   "outputs": [],
   "source": [
    "strings = ['Python is a snake',\n",
    "           'Learn Python and make $$$', \n",
    "           'IPython Notebook is good to know',\n",
    "           'You should be using Python3 and not Python2',\n",
    "           \"That's not very Pythonic\"]\n",
    "# [False, False, True, False, False]"
   ]
  },
  {
   "cell_type": "code",
   "execution_count": 29,
   "metadata": {
    "collapsed": false
   },
   "outputs": [
    {
     "name": "stdout",
     "output_type": "stream",
     "text": [
      "<_sre.SRE_Match object; span=(1, 7), match='Python'>\n"
     ]
    },
    {
     "data": {
      "text/plain": [
       "[False, False, True, False, False]"
      ]
     },
     "execution_count": 29,
     "metadata": {},
     "output_type": "execute_result"
    }
   ],
   "source": [
    "regex = re.compile(r'')\n",
    "Go_Fish(strings, regex, 1)"
   ]
  },
  {
   "cell_type": "markdown",
   "metadata": {},
   "source": [
    "## Repetition `{} + * ?`"
   ]
  },
  {
   "cell_type": "markdown",
   "metadata": {},
   "source": [
    "### Character{min, max}"
   ]
  },
  {
   "cell_type": "markdown",
   "metadata": {},
   "source": [
    "Use the `{}` quantifier to specify how many times a character can be repeated.\n",
    "1. `{N}` Exactly N times where N >= 0 \n",
    "2. `{N,}` N or more times where N >= 0\n",
    "3. `{,N}` N or less times where N >= 0\n",
    "4. `{N,P}` Between N and P times where N < P  "
   ]
  },
  {
   "cell_type": "markdown",
   "metadata": {},
   "source": [
    "For example, `[a-z]{3,5}` will match `bird` but not `id`. What about `donuts`?"
   ]
  },
  {
   "cell_type": "code",
   "execution_count": null,
   "metadata": {
    "collapsed": true,
    "scrolled": true
   },
   "outputs": [],
   "source": [
    "strings = ['Doh!','Dooh!','Doooh!','Dooooh!','Doooooh!']\n",
    "# [False, False, True, True, False]"
   ]
  },
  {
   "cell_type": "code",
   "execution_count": null,
   "metadata": {
    "collapsed": true,
    "scrolled": true
   },
   "outputs": [],
   "source": [
    "regex = re.compile('')\n",
    "Go_Fish(strings, regex, 1)"
   ]
  },
  {
   "cell_type": "markdown",
   "metadata": {},
   "source": [
    "### `+` 1 or more repetitions"
   ]
  },
  {
   "cell_type": "markdown",
   "metadata": {},
   "source": [
    "The `+` quantifier is equivalent to `{1,}`.\n",
    "\n",
    "For example `e+` will match `red` or `queen` but not `crown`."
   ]
  },
  {
   "cell_type": "code",
   "execution_count": null,
   "metadata": {
    "collapsed": true,
    "scrolled": true
   },
   "outputs": [],
   "source": [
    "strings = ['IMG01.png','IMG0011.png','IMG0111.png','IMG010.png','IMG2.png']\n",
    "# [True, True, True, False, False]"
   ]
  },
  {
   "cell_type": "code",
   "execution_count": null,
   "metadata": {
    "collapsed": false,
    "scrolled": true
   },
   "outputs": [],
   "source": [
    "regex = re.compile('')\n",
    "Go_Fish(strings, regex, 1)"
   ]
  },
  {
   "cell_type": "markdown",
   "metadata": {},
   "source": [
    "### `*` 0 or more repetitions"
   ]
  },
  {
   "cell_type": "markdown",
   "metadata": {},
   "source": [
    "The `*` quantifier is equivalent to `{0,}`.\n",
    "\n",
    "For example `Ji*f` will match `Jf` or `Jif` but not `Jef`."
   ]
  },
  {
   "cell_type": "code",
   "execution_count": null,
   "metadata": {
    "collapsed": true,
    "scrolled": true
   },
   "outputs": [],
   "source": [
    "strings = ['IMG01.png','IMG001.png','IMG010.png','IMG100.png','IMG2.png']\n",
    "# [True, True, True, True, False]"
   ]
  },
  {
   "cell_type": "code",
   "execution_count": null,
   "metadata": {
    "collapsed": true,
    "scrolled": true
   },
   "outputs": [],
   "source": [
    "regex = re.compile('')\n",
    "Go_Fish(strings, regex, 1)"
   ]
  },
  {
   "cell_type": "markdown",
   "metadata": {},
   "source": [
    "### `?` 0 or 1 repetition"
   ]
  },
  {
   "cell_type": "markdown",
   "metadata": {},
   "source": [
    "The `?` quantifier is equivalent to `{0,1}`.\n",
    "\n",
    "For example `10?1` will match `11`, or `101` but not `1001`."
   ]
  },
  {
   "cell_type": "code",
   "execution_count": null,
   "metadata": {
    "collapsed": true,
    "scrolled": true
   },
   "outputs": [],
   "source": [
    "strings = ['dean', 'dead', 'den', 'deen', 'deaan']\n",
    "# [True, False, True, False, False]"
   ]
  },
  {
   "cell_type": "code",
   "execution_count": null,
   "metadata": {
    "collapsed": false,
    "scrolled": true
   },
   "outputs": [],
   "source": [
    "regex = re.compile('')\n",
    "Go_Fish(strings, regex, 1)"
   ]
  },
  {
   "cell_type": "markdown",
   "metadata": {},
   "source": [
    "### Greediness and `?` Laziness"
   ]
  },
  {
   "cell_type": "markdown",
   "metadata": {},
   "source": [
    "All of the above quantifiers are greedy. Meaning they want to match as many characters as possible. This is not always desirable. For example, we are doing some web scraping and are interested in determining what tags are in the web page.\n",
    "\n",
    "Below are some html tags. I want to extract the info in the opening html tag."
   ]
  },
  {
   "cell_type": "code",
   "execution_count": null,
   "metadata": {
    "collapsed": true
   },
   "outputs": [],
   "source": [
    "strings = ['<font color=\"blue\">Eastern Conference</font>',\n",
    "           '<a href=\"http://www.espn.com\">ESPN</a>']"
   ]
  },
  {
   "cell_type": "markdown",
   "metadata": {},
   "source": [
    "This regex looks for the opening and closing brackets <> with any character(s) inbetween."
   ]
  },
  {
   "cell_type": "code",
   "execution_count": null,
   "metadata": {
    "collapsed": false
   },
   "outputs": [],
   "source": [
    "regex = re.compile('<.+>')\n",
    "Go_Fish(strings, regex, 1)"
   ]
  },
  {
   "cell_type": "markdown",
   "metadata": {},
   "source": [
    "The regex ended up matching the opening HTML tag, but also the closing HTML tag because the `+` quantifier was greedy.\n",
    "\n",
    "A solution around this issue is to use the the `?` modifier which opts for laziness instead of greediness. Laziness (a.k.a. \"ungreedy\" or \"reluctant\") is defined as matching as few characters as possible."
   ]
  },
  {
   "cell_type": "code",
   "execution_count": null,
   "metadata": {
    "collapsed": true
   },
   "outputs": [],
   "source": [
    "regex = re.compile('<.+?>')\n",
    "Go_Fish(strings, regex, 1)"
   ]
  },
  {
   "cell_type": "markdown",
   "metadata": {},
   "source": [
    "Notice above how the `?` modifier makes the `+` lazy instead of greedy. It matches on the fewest characters possible.\n",
    "\n",
    "**Note:** Once again, another character has dual meaning in regular expressions. Part of the reason why reading them can be so difficult for people with limited knowledge of regex."
   ]
  },
  {
   "cell_type": "markdown",
   "metadata": {},
   "source": [
    "Try to extract the first sentence only."
   ]
  },
  {
   "cell_type": "code",
   "execution_count": 116,
   "metadata": {
    "collapsed": true
   },
   "outputs": [],
   "source": [
    "strings = ['Olaf is a snowman. Who likes warm hugs.',\n",
    "          'Elsa and Anna are BFF. My daughter likes Elsa. I am Anna.']"
   ]
  },
  {
   "cell_type": "code",
   "execution_count": 117,
   "metadata": {
    "collapsed": false
   },
   "outputs": [
    {
     "name": "stdout",
     "output_type": "stream",
     "text": [
      "<_sre.SRE_Match object; span=(0, 0), match=''>\n",
      "<_sre.SRE_Match object; span=(0, 0), match=''>\n"
     ]
    },
    {
     "data": {
      "text/plain": [
       "[True, True]"
      ]
     },
     "execution_count": 117,
     "metadata": {},
     "output_type": "execute_result"
    }
   ],
   "source": [
    "regex = re.compile('')\n",
    "Go_Fish(strings, regex, 1)"
   ]
  },
  {
   "cell_type": "markdown",
   "metadata": {},
   "source": [
    "Sometimes, there exists an alternative to making the `+` lazy using the `?` modifier. You can use use the `[^]` notation as we learned earlier on."
   ]
  },
  {
   "cell_type": "code",
   "execution_count": 106,
   "metadata": {
    "collapsed": true
   },
   "outputs": [],
   "source": [
    "strings = ['<font color=\"blue\">Eastern Conference</font>',\n",
    "           '<a href=\"http://www.espn.com\">ESPN</a>']"
   ]
  },
  {
   "cell_type": "code",
   "execution_count": 107,
   "metadata": {
    "collapsed": false
   },
   "outputs": [
    {
     "name": "stdout",
     "output_type": "stream",
     "text": [
      "<_sre.SRE_Match object; span=(0, 19), match='<font color=\"blue\">'>\n",
      "<_sre.SRE_Match object; span=(0, 30), match='<a href=\"http://www.espn.com\">'>\n"
     ]
    },
    {
     "data": {
      "text/plain": [
       "[True, True]"
      ]
     },
     "execution_count": 107,
     "metadata": {},
     "output_type": "execute_result"
    }
   ],
   "source": [
    "regex = re.compile('<[^>]+>')\n",
    "Go_Fish(strings, regex, 1)"
   ]
  },
  {
   "cell_type": "markdown",
   "metadata": {},
   "source": [
    "Try the same problem using the `[^]` notation. "
   ]
  },
  {
   "cell_type": "code",
   "execution_count": 113,
   "metadata": {
    "collapsed": true
   },
   "outputs": [],
   "source": [
    "strings = ['Olaf is a snowman. Who likes warm hugs.',\n",
    "          'Elsa and Anna are BFF. My daughter likes Elsa. I am Anna.']"
   ]
  },
  {
   "cell_type": "code",
   "execution_count": 115,
   "metadata": {
    "collapsed": false
   },
   "outputs": [
    {
     "name": "stdout",
     "output_type": "stream",
     "text": [
      "<_sre.SRE_Match object; span=(0, 18), match='Olaf is a snowman.'>\n",
      "<_sre.SRE_Match object; span=(0, 22), match='Elsa and Anna are BFF.'>\n"
     ]
    },
    {
     "data": {
      "text/plain": [
       "[True, True]"
      ]
     },
     "execution_count": 115,
     "metadata": {},
     "output_type": "execute_result"
    }
   ],
   "source": [
    "regex = re.compile('')\n",
    "Go_Fish(strings, regex, 1)"
   ]
  },
  {
   "cell_type": "markdown",
   "metadata": {},
   "source": [
    "And that's it for Part I of this Two-Part workshop series for learning regular expressions. \n",
    "\n",
    "I would like to conclude the teaching section with the most famous quote I could find regarding regular expressions.\n",
    "\n",
    "> ## Some people, when confronted with a problem, think \"I know, I'll use regular expressions.\" Now they have two problems. - Jamie Zawinski"
   ]
  },
  {
   "cell_type": "markdown",
   "metadata": {},
   "source": [
    "# <font color='darkgreen'>Practical Applications</font>"
   ]
  },
  {
   "cell_type": "markdown",
   "metadata": {},
   "source": [
    "This section puts what you have learned to use in some practical applications where there is no context or constraint on which tools you can use."
   ]
  },
  {
   "cell_type": "markdown",
   "metadata": {
    "collapsed": true
   },
   "source": [
    "## <font color=\"#FFCB0B\">Umich Uniqname Compliance</font>"
   ]
  },
  {
   "cell_type": "markdown",
   "metadata": {},
   "source": [
    "Regular expressions can be used to check if usernames and password meet the (sometime annoying) requirements set by the developer.\n",
    "\n",
    "*Your umich uniqname must be three to eight characters (lowercase alphabetical characters only) with no spaces or punctuation*.\n",
    "\n",
    "Match the valid uniqnames. You should also add your uniqname to the list to make sure your regex is valid."
   ]
  },
  {
   "cell_type": "code",
   "execution_count": null,
   "metadata": {
    "collapsed": true,
    "scrolled": true
   },
   "outputs": [],
   "source": [
    "strings = ['caoa', 'kaitcorn', 'ac', 'alexander', 'alex2017', 'Harbaugh', 'go blue']\n",
    "# [True, True, False, False, False, False, False]"
   ]
  },
  {
   "cell_type": "code",
   "execution_count": null,
   "metadata": {
    "collapsed": true,
    "scrolled": true
   },
   "outputs": [],
   "source": [
    "regex = re.compile('')\n",
    "Go_Fish(strings, regex, 1)"
   ]
  },
  {
   "cell_type": "markdown",
   "metadata": {},
   "source": [
    "## <font color='royalblue'>Standardization of Phone Numbers using String Substitution</font>\n",
    "\n",
    "String substitution is an alternative to using the literal `str.replace` method in Python.\n",
    "\n",
    "Standardize the CSCAR front desk phone number (call to register for a paid workshop or 1 hr free consultation) as best as you can using a single regex and a single substitution. The correct solution should print the same string on each line."
   ]
  },
  {
   "cell_type": "code",
   "execution_count": 12,
   "metadata": {
    "collapsed": true
   },
   "outputs": [],
   "source": [
    "strings = ['734-764-7828',\n",
    "           '734 764 7828',\n",
    "           '734.764.7828',\n",
    "           '(734)764 7828',\n",
    "           '(734) 764-STAT']"
   ]
  },
  {
   "cell_type": "code",
   "execution_count": 13,
   "metadata": {
    "collapsed": false,
    "scrolled": false
   },
   "outputs": [
    {
     "name": "stdout",
     "output_type": "stream",
     "text": [
      "734-764-7828\n",
      "734 764 7828\n",
      "734.764.7828\n",
      "(734)764 7828\n",
      "(734) 764-STAT\n"
     ]
    }
   ],
   "source": [
    "regex = re.compile('') # put regex here\n",
    "replacement_string = '' # put substitution string here\n",
    "for string in strings:\n",
    "    print(re.sub(regex, replacement_string, string))"
   ]
  },
  {
   "cell_type": "markdown",
   "metadata": {},
   "source": [
    "## <font color='darkblue'>Extracting a City/Township Name from an Address</font>"
   ]
  },
  {
   "cell_type": "markdown",
   "metadata": {},
   "source": [
    "Extract the city name from these geocoded addresses. Run the existing code below once to load the dataset into Jupyter Notebook. You might want to open the text file in notepad to see some more data."
   ]
  },
  {
   "cell_type": "code",
   "execution_count": 20,
   "metadata": {
    "collapsed": false
   },
   "outputs": [
    {
     "data": {
      "text/html": [
       "<div>\n",
       "<style>\n",
       "    .dataframe thead tr:only-child th {\n",
       "        text-align: right;\n",
       "    }\n",
       "\n",
       "    .dataframe thead th {\n",
       "        text-align: left;\n",
       "    }\n",
       "\n",
       "    .dataframe tbody tr th {\n",
       "        vertical-align: top;\n",
       "    }\n",
       "</style>\n",
       "<table border=\"1\" class=\"dataframe\">\n",
       "  <thead>\n",
       "    <tr style=\"text-align: right;\">\n",
       "      <th></th>\n",
       "      <th>address</th>\n",
       "    </tr>\n",
       "  </thead>\n",
       "  <tbody>\n",
       "    <tr>\n",
       "      <th>0</th>\n",
       "      <td>17021 Schoolcraft Ave, Detroit, MI 48227, USA</td>\n",
       "    </tr>\n",
       "    <tr>\n",
       "      <th>1</th>\n",
       "      <td>Fisher Fwy, Detroit, MI 48216, USA</td>\n",
       "    </tr>\n",
       "    <tr>\n",
       "      <th>2</th>\n",
       "      <td>1611 Alter Rd, Detroit, MI 48215, USA</td>\n",
       "    </tr>\n",
       "    <tr>\n",
       "      <th>3</th>\n",
       "      <td>10899 Gratiot Ave, Detroit, MI 48213, USA</td>\n",
       "    </tr>\n",
       "    <tr>\n",
       "      <th>4</th>\n",
       "      <td>4099 Emery St, Detroit, MI 48234, USA</td>\n",
       "    </tr>\n",
       "    <tr>\n",
       "      <th>5</th>\n",
       "      <td>2509 Ferris St, Detroit, MI 48209, USA</td>\n",
       "    </tr>\n",
       "    <tr>\n",
       "      <th>6</th>\n",
       "      <td>19616-19624 Hoover St, Detroit, MI 48205, USA</td>\n",
       "    </tr>\n",
       "    <tr>\n",
       "      <th>7</th>\n",
       "      <td>Chrysler Fwy, Detroit, MI 48211, USA</td>\n",
       "    </tr>\n",
       "    <tr>\n",
       "      <th>8</th>\n",
       "      <td>536-598 W Hancock St, Detroit, MI 48201, USA</td>\n",
       "    </tr>\n",
       "    <tr>\n",
       "      <th>9</th>\n",
       "      <td>Chrysler Fwy, Detroit, MI, USA</td>\n",
       "    </tr>\n",
       "  </tbody>\n",
       "</table>\n",
       "</div>"
      ],
      "text/plain": [
       "                                         address\n",
       "0  17021 Schoolcraft Ave, Detroit, MI 48227, USA\n",
       "1             Fisher Fwy, Detroit, MI 48216, USA\n",
       "2          1611 Alter Rd, Detroit, MI 48215, USA\n",
       "3      10899 Gratiot Ave, Detroit, MI 48213, USA\n",
       "4          4099 Emery St, Detroit, MI 48234, USA\n",
       "5         2509 Ferris St, Detroit, MI 48209, USA\n",
       "6  19616-19624 Hoover St, Detroit, MI 48205, USA\n",
       "7           Chrysler Fwy, Detroit, MI 48211, USA\n",
       "8   536-598 W Hancock St, Detroit, MI 48201, USA\n",
       "9                 Chrysler Fwy, Detroit, MI, USA"
      ]
     },
     "execution_count": 20,
     "metadata": {},
     "output_type": "execute_result"
    }
   ],
   "source": [
    "import pandas as pd\n",
    "df = pd.read_csv('Detroit.txt', header=None, sep='|')\n",
    "df.columns = ['address']\n",
    "\n",
    "def get_city(address, regex):\n",
    "    match = re.search(regex, address)\n",
    "    return match.group(0) if match else \"no match\"\n",
    "    \n",
    "df.head(10)"
   ]
  },
  {
   "cell_type": "markdown",
   "metadata": {},
   "source": [
    "Write a regex to capture the city name as best as you can. The last line will provide your solution."
   ]
  },
  {
   "cell_type": "code",
   "execution_count": 21,
   "metadata": {
    "collapsed": false,
    "scrolled": false
   },
   "outputs": [
    {
     "data": {
      "text/plain": [
       "    2467\n",
       "Name: address, dtype: int64"
      ]
     },
     "execution_count": 21,
     "metadata": {},
     "output_type": "execute_result"
    }
   ],
   "source": [
    "regex = re.compile('')\n",
    "cities = df['address'].apply(get_city, args=(regex,))\n",
    "cities.value_counts()"
   ]
  },
  {
   "cell_type": "markdown",
   "metadata": {},
   "source": [
    "ANSWER: Here is a table with city and frequency you should match. The entire city/township name should be somewhere in your answer but it does not have to be an exact match. It will probably have extra characters in the match. I have not shown you how to extract just the city name for this scenario. That's in Part II of this workshop.\n",
    "\n",
    "city|count\n",
    "---|---\n",
    "Detroit|                2292\n",
    "Hamtramck|                98\n",
    "Highland Park|            46\n",
    "Redford Charter Twp|       5\n",
    "Warren|                    4\n",
    "Dearborn|                  4\n",
    "Hazel Park|                4\n",
    "Eastpointe|                4\n",
    "Lincoln Park|              3\n",
    "Harper Woods|              3\n",
    "Grosse Pointe|             2\n",
    "Dearborn Heights|          1\n",
    "Melvindale|                1"
   ]
  },
  {
   "cell_type": "markdown",
   "metadata": {},
   "source": [
    "# <font color='orange'>Regex Games</font>"
   ]
  },
  {
   "cell_type": "markdown",
   "metadata": {},
   "source": [
    "Regex Crossword  \n",
    "https://regexcrossword.com/"
   ]
  },
  {
   "cell_type": "markdown",
   "metadata": {},
   "source": [
    "Regex Golf (I don't know why it refers to Golf)  \n",
    "https://alf.nu/RegexGolf"
   ]
  },
  {
   "cell_type": "markdown",
   "metadata": {},
   "source": [
    "# References"
   ]
  },
  {
   "cell_type": "markdown",
   "metadata": {},
   "source": [
    "Online regex tester including real-time matching and explanations. Can only test one string at a time.  \n",
    "https://regex101.com"
   ]
  },
  {
   "cell_type": "markdown",
   "metadata": {},
   "source": [
    "Online tutorial with real-time matching  \n",
    "https://regexone.com/"
   ]
  },
  {
   "cell_type": "markdown",
   "metadata": {},
   "source": [
    "Regex Cheat Sheet  \n",
    "https://www.cheatography.com/davechild/cheat-sheets/regular-expressions/"
   ]
  },
  {
   "cell_type": "markdown",
   "metadata": {},
   "source": [
    "Language-agnostic website about regular expressions  \n",
    "http://www.regular-expressions.info/"
   ]
  },
  {
   "cell_type": "markdown",
   "metadata": {},
   "source": [
    "Official Python3 `re` documentation  \n",
    "https://docs.python.org/3/library/re.html"
   ]
  },
  {
   "cell_type": "markdown",
   "metadata": {
    "collapsed": true
   },
   "source": [
    "Python's alternative regular expression module `regex` to replace `re`   \n",
    "https://pypi.python.org/pypi/regex  \n",
    "This module allows you to do more fancy things like nested sets and set operations.  \n",
    "For example, the regex `[[a-z]--[aeiou]]` specifies all lowercase non-vowels."
   ]
  },
  {
   "cell_type": "code",
   "execution_count": null,
   "metadata": {
    "collapsed": true
   },
   "outputs": [],
   "source": []
  }
 ],
 "metadata": {
  "anaconda-cloud": {},
  "kernelspec": {
   "display_name": "Python [default]",
   "language": "python",
   "name": "python3"
  },
  "language_info": {
   "codemirror_mode": {
    "name": "ipython",
    "version": 3
   },
   "file_extension": ".py",
   "mimetype": "text/x-python",
   "name": "python",
   "nbconvert_exporter": "python",
   "pygments_lexer": "ipython3",
   "version": "3.5.2"
  }
 },
 "nbformat": 4,
 "nbformat_minor": 1
}
