{
 "cells": [
  {
   "cell_type": "markdown",
   "metadata": {},
   "source": [
    "# Regular Expressions II"
   ]
  },
  {
   "cell_type": "markdown",
   "metadata": {},
   "source": [
    "I think regular expressions are perfectly suited for people who like puzzles like _crosswords_ and _Sudoku_. Naturally, people created games out of them (more info on that later). They can be long, mindboggling and indecipherable at times. But we'll start at the very beginning to keep it simple.\n",
    "\n",
    "There are multiple versions of Regex Engines out there for different programming languages and software (analogous to SQL flavors for databases). The differences usually lie in the more advanced features. The basic nomenclature should hold across most Regex Engines.\n",
    "\n",
    "A regular expression is a sequence of characters that can be used as a search pattern for a string. They are commonly used to do __find__ and __find and replace__ string operations and for __validation of user input__ (we'll see examples of this later).\n",
    "\n",
    "Regular expressions can be used to evaulate Unicode strings or 8-bit strings (e.g. '00001110'). We'll just worry about the former in this workshop. Python has adopted the Perl syntax `\\w` vs. the POSIX syntax `[:word:]`."
   ]
  },
  {
   "cell_type": "markdown",
   "metadata": {},
   "source": [
    "Let's get started and import the regular expression module in Python."
   ]
  },
  {
   "cell_type": "code",
   "execution_count": 1,
   "metadata": {
    "scrolled": true
   },
   "outputs": [],
   "source": [
    "import re"
   ]
  },
  {
   "cell_type": "markdown",
   "metadata": {},
   "source": [
    "To set up a regular expression (regex), we use the `compile` method."
   ]
  },
  {
   "cell_type": "code",
   "execution_count": null,
   "metadata": {
    "scrolled": true
   },
   "outputs": [],
   "source": [
    "regex = re.compile(r'\\w{7}\\s\\w+')\n",
    "regex"
   ]
  },
  {
   "cell_type": "markdown",
   "metadata": {},
   "source": [
    "To look for a match, we use the `search` method."
   ]
  },
  {
   "cell_type": "code",
   "execution_count": null,
   "metadata": {
    "scrolled": true
   },
   "outputs": [],
   "source": [
    "re.search(regex, 'This string should match the above regular expression')"
   ]
  },
  {
   "cell_type": "markdown",
   "metadata": {},
   "source": [
    "The `search` method returns a match object that contains the span of characters that matched along with the characters that matched. If an object exists in Python, it usually is equivalent to `True`. We'll use that fact to check if we have a match or not."
   ]
  },
  {
   "cell_type": "markdown",
   "metadata": {},
   "source": [
    "Here is a custom function we'll be using to return `True`/`False` about whether our regex matches a list of strings."
   ]
  },
  {
   "cell_type": "code",
   "execution_count": 2,
   "metadata": {
    "scrolled": true
   },
   "outputs": [],
   "source": [
    "def Go_Fish(strings, regex, flag=0):\n",
    "    TF = []\n",
    "    for string in strings:\n",
    "        if re.search(regex, string):\n",
    "            if flag:\n",
    "                print(re.search(regex,string))\n",
    "            TF.append(True)\n",
    "        else:\n",
    "            TF.append(False)\n",
    "    return TF"
   ]
  },
  {
   "cell_type": "markdown",
   "metadata": {},
   "source": [
    "## Warm Up Exercises"
   ]
  },
  {
   "cell_type": "markdown",
   "metadata": {},
   "source": [
    "You should be able to answer the exercises below. You only require knowledge that was covered in Part I of the workshop. Those topics include anchors, metacharacters, range of characters."
   ]
  },
  {
   "cell_type": "code",
   "execution_count": null,
   "metadata": {},
   "outputs": [],
   "source": [
    "strings = ['Ada, Ohio', 'Ada...Oklahoma', 'Ada_Oregon', 'Ada_Minnesota', 'Minnesota']\n",
    "# [True, False, False, True, False]"
   ]
  },
  {
   "cell_type": "code",
   "execution_count": null,
   "metadata": {
    "scrolled": true
   },
   "outputs": [],
   "source": [
    "regex = re.compile(r'')\n",
    "Go_Fish(strings, regex, 1)"
   ]
  },
  {
   "cell_type": "markdown",
   "metadata": {},
   "source": [
    "From Part I of the workshop. Extract the city/township name from these geocoded addresses. **Hint:** Its okay if its not a totally clean match in terms of punctuation."
   ]
  },
  {
   "cell_type": "code",
   "execution_count": null,
   "metadata": {},
   "outputs": [],
   "source": [
    "strings = ['300, 600 Woodward Ave, Detroit, MI 48226, USA',\n",
    "           '2990-2998 Evaline St, Hamtramck, MI 48212, USA',\n",
    "           '531 Seven Mile E, Highland Park, MI 48203, USA',\n",
    "           '16935 5 Points St, Redford Charter Twp, MI 48240, USA',\n",
    "           '21547-21721 W Warren Ave, Dearborn Heights, MI 48127, USA']\n",
    "# [True, True, True, True, True]"
   ]
  },
  {
   "cell_type": "code",
   "execution_count": null,
   "metadata": {},
   "outputs": [],
   "source": [
    "regex = re.compile(r'')\n",
    "Go_Fish(strings, regex, 1)"
   ]
  },
  {
   "cell_type": "markdown",
   "metadata": {},
   "source": [
    "This is designed to be a trick question."
   ]
  },
  {
   "cell_type": "code",
   "execution_count": null,
   "metadata": {},
   "outputs": [],
   "source": [
    "strings = ['01/19/2017','01-19-2017','01192017','01/19-2017']\n",
    "# [True, True, True, False]"
   ]
  },
  {
   "cell_type": "code",
   "execution_count": null,
   "metadata": {
    "scrolled": true
   },
   "outputs": [],
   "source": [
    "regex = re.compile(r'')\n",
    "Go_Fish(strings, regex, 1)"
   ]
  },
  {
   "cell_type": "markdown",
   "metadata": {},
   "source": [
    "## Capture `()` Groups"
   ]
  },
  {
   "cell_type": "markdown",
   "metadata": {},
   "source": [
    "Parentheses `()` allows you to group characters together."
   ]
  },
  {
   "cell_type": "markdown",
   "metadata": {},
   "source": [
    "Recall the last question in Part I of the workshop asked you to extract city names from addresses. You probably couldn't extract just the city name because you were probably matching the commas before and after the name. Here's where you would use capture groups to isolate the city name. "
   ]
  },
  {
   "cell_type": "markdown",
   "metadata": {},
   "source": [
    "In the example below, we are grouping the characters `Detroit` together and using the `?` on the whole group and not just the previous character. Without the parentheses, we would not match the last string since the `?` is only operating on the `t` and the regex engine would try to match the string `Detroit`."
   ]
  },
  {
   "cell_type": "code",
   "execution_count": null,
   "metadata": {},
   "outputs": [],
   "source": [
    "strings = ['Detroit, Wayne County', 'Detroit, Michigan', 'Michigan']\n",
    "# [True, True, True]"
   ]
  },
  {
   "cell_type": "code",
   "execution_count": null,
   "metadata": {
    "scrolled": true
   },
   "outputs": [],
   "source": [
    "regex = re.compile(r'(Detroit)?.+')\n",
    "Go_Fish(strings, regex, 1)"
   ]
  },
  {
   "cell_type": "markdown",
   "metadata": {},
   "source": [
    "This also has the added benefit of creating a numbered captured group."
   ]
  },
  {
   "cell_type": "code",
   "execution_count": null,
   "metadata": {},
   "outputs": [],
   "source": [
    "match = re.search(regex, 'Detroit, Michigan')\n",
    "print(match.group(0))\n",
    "print(match.group(1))"
   ]
  },
  {
   "cell_type": "markdown",
   "metadata": {},
   "source": [
    "Q: So why is this useful?  \n",
    "A: It can save you the hassle of parsing the string after the fact.  \n",
    "We will also see another use for it when using backreferences."
   ]
  },
  {
   "cell_type": "markdown",
   "metadata": {},
   "source": [
    "Let's revisit another example from Part I."
   ]
  },
  {
   "cell_type": "code",
   "execution_count": null,
   "metadata": {
    "scrolled": true
   },
   "outputs": [],
   "source": [
    "strings = ['keep calm and cook bacon',\n",
    "           'keep calm and cook hash browns',\n",
    "           'keep calm and cook quinoa',\n",
    "           'bacon and hash browns are yummy']\n",
    "# [True, True, False, False]"
   ]
  },
  {
   "cell_type": "markdown",
   "metadata": {},
   "source": [
    "Recall one solution was `bacon$|browns$`. Here's another solution using parantheses (i.e. captured groups)."
   ]
  },
  {
   "cell_type": "code",
   "execution_count": null,
   "metadata": {},
   "outputs": [],
   "source": [
    "regex = re.compile(r'keep calm and cook (bacon|hash browns)')"
   ]
  },
  {
   "cell_type": "markdown",
   "metadata": {},
   "source": [
    "Now, we have the option of keeping calm and extracting the food item by itself with the numbered capture group, if we wish."
   ]
  },
  {
   "cell_type": "code",
   "execution_count": null,
   "metadata": {},
   "outputs": [],
   "source": [
    "match = re.search(regex, 'keep calm and cook hash browns')\n",
    "print(match.group(0))\n",
    "print(match.group(1))"
   ]
  },
  {
   "cell_type": "markdown",
   "metadata": {},
   "source": [
    "For the example below, I've written a regex for matching the dates. Finish the regex by creating groups for each part of the date (month, day, year)."
   ]
  },
  {
   "cell_type": "code",
   "execution_count": null,
   "metadata": {
    "scrolled": true
   },
   "outputs": [],
   "source": [
    "strings = ['01-11-2017','July 1, 1867','Jan 11, 2017','Dec 25, 2000']\n",
    "# [False, True, True, True]"
   ]
  },
  {
   "cell_type": "code",
   "execution_count": null,
   "metadata": {
    "scrolled": true
   },
   "outputs": [],
   "source": [
    "regex = re.compile(r'\\w{3,} \\d{1,2}, \\d{4}')\n",
    "Go_Fish(strings, regex, 1)"
   ]
  },
  {
   "cell_type": "markdown",
   "metadata": {},
   "source": [
    "Here is an example script to extract the groups after `re.search`. \n",
    "\n",
    "**Note:** The Python code will give you an `IndexError: no such group` message if you do not create enough groups in the solution."
   ]
  },
  {
   "cell_type": "code",
   "execution_count": null,
   "metadata": {
    "scrolled": true
   },
   "outputs": [],
   "source": [
    "for string in strings:\n",
    "    date = re.search(regex,string)\n",
    "    if date:\n",
    "        print('Match={}\\tGrp1={}\\tGrp2={}\\tGrp3={}'.format(date.group(0), date.group(1), date.group(2), date.group(3)))"
   ]
  },
  {
   "cell_type": "markdown",
   "metadata": {},
   "source": [
    "Write a regex to differentiate between phone numbers and SSN."
   ]
  },
  {
   "cell_type": "code",
   "execution_count": null,
   "metadata": {},
   "outputs": [],
   "source": [
    "strings = ['734-764-7828','555-234-5678','313-255-9119','555-23-4678']\n",
    "# [True, True, True, False]"
   ]
  },
  {
   "cell_type": "code",
   "execution_count": null,
   "metadata": {},
   "outputs": [],
   "source": [
    "regex = re.compile(r'')\n",
    "Go_Fish(strings, regex, 1)"
   ]
  },
  {
   "cell_type": "markdown",
   "metadata": {},
   "source": [
    "Using your answer above, create a group for the area code (first 3 digits) and the exchange (next 3 digits)."
   ]
  },
  {
   "cell_type": "code",
   "execution_count": null,
   "metadata": {},
   "outputs": [],
   "source": [
    "regex = re.compile(r'')\n",
    "for string in strings:\n",
    "    match = re.search(regex,string)\n",
    "    if match:\n",
    "        print('Area Code={}\\tExchange={}\\t'.format(match.group(1), match.group(2)))"
   ]
  },
  {
   "cell_type": "markdown",
   "metadata": {},
   "source": [
    "## Nested Groups `( () () )`"
   ]
  },
  {
   "cell_type": "markdown",
   "metadata": {},
   "source": [
    "You can also nest groups within other groups. The outer group gets precedence when numbered. \n",
    "\n",
    "For example, the regex `(January (24)), 2017` creates two captured groups. Group 1 is `January 24` and Group 2 is `24`."
   ]
  },
  {
   "cell_type": "markdown",
   "metadata": {},
   "source": [
    "1. Write a regex to match the three strings\n",
    "2. Create a group to extract the Month and Day together but also the Month and Day separately.  \n",
    "3. Create a group for the 4 digit Year and the 2 digit Year.\n",
    "\n",
    "There should be 6 groups created in total (Group# 0-5) thus you should have 5 sets of parentheses in your solution. "
   ]
  },
  {
   "cell_type": "code",
   "execution_count": null,
   "metadata": {},
   "outputs": [],
   "source": [
    "strings = ['July 1, 1867','Jan 24, 2017','Dec 25, 2000']\n",
    "regex = re.compile(r'')\n",
    "for string in strings:\n",
    "    date = re.search(regex,string)\n",
    "    if date:\n",
    "        print('Match={0}  MonthDay={1}  Month={2}  Day={3} Y4={4}  Y2={5}'.format(date.group(0), date.group(1), date.group(2), date.group(3), date.group(4), date.group(5)))"
   ]
  },
  {
   "cell_type": "markdown",
   "metadata": {},
   "source": [
    "## Non-Capturing Groups `(?:)`"
   ]
  },
  {
   "cell_type": "markdown",
   "metadata": {},
   "source": [
    "You can create groups that are non-capturing by using the `(?:` notation. The substring matched by the group cannot be retrieved after performing a match or referenced later in the pattern. \n",
    "\n",
    "Q: Why would you need to create a group not to capture it?  \n",
    "A: I have no idea but I thought I should mention it because I've seen it used in real life. Maybe with the `|` operator.\n",
    "\n",
    "For example, the month is grouped below but not captured. The day is now group 1."
   ]
  },
  {
   "cell_type": "code",
   "execution_count": null,
   "metadata": {},
   "outputs": [],
   "source": [
    "strings = ['July 1, 1867','Jan 24, 2017','Dec 25, 2000']\n",
    "regex = re.compile(r'(?:\\w{3,}) (\\d{1,2}), \\d{4}')\n",
    "for string in strings:\n",
    "    date = re.search(regex,string)\n",
    "    if date:\n",
    "        print('Match={}\\tGrp1={}'.format(date.group(0), date.group(1)) )"
   ]
  },
  {
   "cell_type": "markdown",
   "metadata": {},
   "source": [
    "## Conditional Statements `(?(#))`"
   ]
  },
  {
   "cell_type": "markdown",
   "metadata": {},
   "source": [
    "You can check to see if a captured group was matched so far and then have a conditional if else statement following it to match either one pattern or another."
   ]
  },
  {
   "cell_type": "markdown",
   "metadata": {},
   "source": [
    "Suppose we want to extract the first/given name below. The problem lies in the fact that it is written in two different ways. We can use a conditional statement to test which format the name is written in and then have two regex patterns we can use depending on which format we see."
   ]
  },
  {
   "cell_type": "code",
   "execution_count": 199,
   "metadata": {},
   "outputs": [],
   "source": [
    "strings = ['Dumbledore, Albus',\n",
    "           'Harry Potter',\n",
    "           'Hermione Granger',\n",
    "           'Snape, Severus']\n",
    "# [True, True, True, True]"
   ]
  },
  {
   "cell_type": "code",
   "execution_count": 211,
   "metadata": {},
   "outputs": [
    {
     "name": "stdout",
     "output_type": "stream",
     "text": [
      "<_sre.SRE_Match object; span=(10, 17), match=', Albus'>\n",
      "<_sre.SRE_Match object; span=(0, 6), match='Harry '>\n",
      "<_sre.SRE_Match object; span=(0, 9), match='Hermione '>\n",
      "<_sre.SRE_Match object; span=(5, 14), match=', Severus'>\n"
     ]
    },
    {
     "data": {
      "text/plain": [
       "[True, True, True, True]"
      ]
     },
     "execution_count": 211,
     "metadata": {},
     "output_type": "execute_result"
    }
   ],
   "source": [
    "regex = re.compile(r'(,)?(?(1) \\w+|\\w+ )')\n",
    "Go_Fish(strings, regex, 1)"
   ]
  },
  {
   "cell_type": "code",
   "execution_count": 206,
   "metadata": {},
   "outputs": [
    {
     "name": "stdout",
     "output_type": "stream",
     "text": [
      "Albus\n",
      "Harry\n",
      "Hermione\n",
      "Severus\n"
     ]
    }
   ],
   "source": [
    "for string in strings:\n",
    "    match = re.search(regex, string)\n",
    "    print(match.group(0).strip(', '))"
   ]
  },
  {
   "cell_type": "markdown",
   "metadata": {},
   "source": [
    "Match the first sentence in each string if the first sentence contains the word `question` or `answer`."
   ]
  },
  {
   "cell_type": "code",
   "execution_count": 185,
   "metadata": {},
   "outputs": [],
   "source": [
    "strings = ['The question is: What is the capital of Nebraska?',\n",
    "           'The answer is not Omaha.',\n",
    "           'The question is binary. The answer is either true or false.',\n",
    "           'There is no FAQ page on this website. I need an answer today.']\n",
    "# [True, True, True, False]"
   ]
  },
  {
   "cell_type": "code",
   "execution_count": 186,
   "metadata": {
    "scrolled": false
   },
   "outputs": [
    {
     "name": "stdout",
     "output_type": "stream",
     "text": [
      "<_sre.SRE_Match object; span=(0, 49), match='The question is: What is the capital of Nebraska?>\n",
      "<_sre.SRE_Match object; span=(0, 24), match='The answer is not Omaha.'>\n",
      "<_sre.SRE_Match object; span=(0, 23), match='The question is binary.'>\n"
     ]
    },
    {
     "data": {
      "text/plain": [
       "[True, True, True, False]"
      ]
     },
     "execution_count": 186,
     "metadata": {},
     "output_type": "execute_result"
    }
   ],
   "source": [
    "regex = re.compile(r'(The question)?(?(1) [^\\.]+[\\.?]|The answer .+)')\n",
    "Go_Fish(strings, regex, 1)"
   ]
  },
  {
   "cell_type": "markdown",
   "metadata": {},
   "source": [
    "# Comments `(?#)`"
   ]
  },
  {
   "cell_type": "markdown",
   "metadata": {},
   "source": [
    "You can add a comment within a regex (for clarity?) using the `(?#comment)` notation. Everything before the first closing parentheses is a comment.\n",
    "\n",
    "For example, the regex below does not match any date string because the day is commented out."
   ]
  },
  {
   "cell_type": "code",
   "execution_count": null,
   "metadata": {},
   "outputs": [],
   "source": [
    "strings = ['July 1, 1867','Jan 24, 2017','Dec 25, 2000']\n",
    "# [True, True, True]"
   ]
  },
  {
   "cell_type": "code",
   "execution_count": null,
   "metadata": {},
   "outputs": [],
   "source": [
    "regex = re.compile(r'(\\w{3,}) (?#this is a comment\\d{1,2}), (\\d{4})')\n",
    "Go_Fish(strings, regex, 1)"
   ]
  },
  {
   "cell_type": "markdown",
   "metadata": {},
   "source": [
    "## Backreferences `\\#`"
   ]
  },
  {
   "cell_type": "markdown",
   "metadata": {},
   "source": [
    "We saw in the capture group section how we can extract certain substrings that we are interested in. We can take it one step further by using it to validate the string in question by backreferencing. Backreferences specifies that a character must match a character from an earlier captured group. They are useful for checking consistent use of delimiters used in dates and phone numbers.\n",
    "\n",
    "The backreference nomenclature is a backslash followed by the number of the group (i.e. `\\2` backreferences group 2). "
   ]
  },
  {
   "cell_type": "markdown",
   "metadata": {},
   "source": [
    "For example, suppose we wanted to match back-to-back letters `i` but with the constraint that they are the same letter case. Backreferencing can be used to enforce the constraint."
   ]
  },
  {
   "cell_type": "code",
   "execution_count": null,
   "metadata": {},
   "outputs": [],
   "source": [
    "strings = ['octopii', 'Star Wars II', 'iI','Ii']\n",
    "# [True, True, False, False]\n",
    "regex = re.compile(r'([iI])\\1')\n",
    "Go_Fish(strings, regex, 1)"
   ]
  },
  {
   "cell_type": "markdown",
   "metadata": {},
   "source": [
    "### Named Groups `(?P<name>)`"
   ]
  },
  {
   "cell_type": "markdown",
   "metadata": {},
   "source": [
    "Alternatively, you can name your group if you don't like enumeration using the `(?P<name>regex)` syntax to capture the group and then `(?P=name)` to backreference it."
   ]
  },
  {
   "cell_type": "code",
   "execution_count": 7,
   "metadata": {},
   "outputs": [],
   "source": [
    "strings = ['octopii', 'Star Wars II', 'iI','Ii']\n",
    "# [True, True, False, False]"
   ]
  },
  {
   "cell_type": "code",
   "execution_count": 11,
   "metadata": {
    "scrolled": false
   },
   "outputs": [
    {
     "name": "stdout",
     "output_type": "stream",
     "text": [
      "<_sre.SRE_Match object; span=(5, 7), match='ii'>\n",
      "<_sre.SRE_Match object; span=(10, 12), match='II'>\n"
     ]
    },
    {
     "data": {
      "text/plain": [
       "[True, True, False, False]"
      ]
     },
     "execution_count": 11,
     "metadata": {},
     "output_type": "execute_result"
    }
   ],
   "source": [
    "regex = re.compile(r'(?P<doublei>[iI])(?P=doublei)')\n",
    "Go_Fish(strings, regex, 1)"
   ]
  },
  {
   "cell_type": "markdown",
   "metadata": {},
   "source": [
    "Match the strings that have a consistent delimiter using backreferencing. <font color='white'>**Hint**: Use the ? metacharacter to handle the first delimiter.</font>"
   ]
  },
  {
   "cell_type": "code",
   "execution_count": null,
   "metadata": {},
   "outputs": [],
   "source": [
    "strings = ['01/19/2017','01-19-2017','01192017','01/19-2017']\n",
    "# [True, True, True, False]"
   ]
  },
  {
   "cell_type": "code",
   "execution_count": null,
   "metadata": {
    "scrolled": true
   },
   "outputs": [],
   "source": [
    "regex = re.compile(r'')\n",
    "Go_Fish(strings, regex, 1)"
   ]
  },
  {
   "cell_type": "markdown",
   "metadata": {},
   "source": [
    "The above example would be more difficult to solve without backreferencing (not sure if I could do it with the tools I've showed you so far).\n",
    "\n",
    "Match the phone numbers that have a consistent delimiter. <font color='white'>**Hint**: Use the ? metacharacter to handle the '(734)' string.</font>"
   ]
  },
  {
   "cell_type": "code",
   "execution_count": null,
   "metadata": {},
   "outputs": [],
   "source": [
    "strings = ['734-764-STAT','(734) 764 7828','734 764 7828','734.764.7828', '734 764-7828', '734/764 7828']\n",
    "# [True, True, True, True, False, False]"
   ]
  },
  {
   "cell_type": "code",
   "execution_count": null,
   "metadata": {
    "scrolled": true
   },
   "outputs": [],
   "source": [
    "regex = re.compile(r'')\n",
    "Go_Fish(strings, regex, 0)"
   ]
  },
  {
   "cell_type": "markdown",
   "metadata": {},
   "source": [
    "## Assertions"
   ]
  },
  {
   "cell_type": "markdown",
   "metadata": {},
   "source": [
    "Assertions, also referred to as \"lookaround\", matches characters but they do not consume characters in the string (also refered to as zero length) but only assert whether a match is possible or not. You can have assertions in your pattern that look ahead or behind to ensure that a subpattern does or does not occur. Thus, there are 4 types of assertions:\n",
    "1. Negative lookahead (?!)\n",
    "2. Positive lookahead (?=)\n",
    "3. Positive lookbehind (?<=)\n",
    "4. Negative lookbehind (?<!)"
   ]
  },
  {
   "cell_type": "markdown",
   "metadata": {},
   "source": [
    "### Negative lookahead assertion `(?!)`"
   ]
  },
  {
   "cell_type": "markdown",
   "metadata": {},
   "source": [
    "Asserts that the current position in the string is not followed by a match for the subpattern in parentheses.  \n",
    "If the pattern does not match, then try the rest of the regex from that point onward.\n",
    "\n",
    "For example, we want words that have the letter `i` in them but not immediately followed by the letter `e`."
   ]
  },
  {
   "cell_type": "code",
   "execution_count": null,
   "metadata": {},
   "outputs": [],
   "source": [
    "strings = ['neighborhood','weigh','diner','quiet']\n",
    "# [True, True, True, False]"
   ]
  },
  {
   "cell_type": "markdown",
   "metadata": {},
   "source": [
    "A solution based on the regex knowledge I've given you so far is:"
   ]
  },
  {
   "cell_type": "code",
   "execution_count": null,
   "metadata": {},
   "outputs": [],
   "source": [
    "regex = re.compile(r'i[^e]')\n",
    "Go_Fish(strings, regex, 1)"
   ]
  },
  {
   "cell_type": "markdown",
   "metadata": {},
   "source": [
    "The quasi-equivalent solution using a negative lookahead assertion is:"
   ]
  },
  {
   "cell_type": "code",
   "execution_count": null,
   "metadata": {
    "scrolled": true
   },
   "outputs": [],
   "source": [
    "regex = re.compile(r'i(?!e)')\n",
    "Go_Fish(strings, regex, 1)"
   ]
  },
  {
   "cell_type": "markdown",
   "metadata": {},
   "source": [
    "**Note**: The assertion only returns a match of one letter instead of two like above. Recall it doesn't consume any characters to lookahead.  \n",
    "**Note 2**: The parentheses for the assertion does not create a captured group. Recall it doesn't consume any characters to lookahead so there is no group to capture.\n",
    "\n",
    "Q. So why is this complicated method useful?  \n",
    "A. For more complicated cases\n",
    "\n",
    "Consider the scenario where we only want words where `i` is never followed by `e` in the word. This would be very hard without assertions. Let's give it a try."
   ]
  },
  {
   "cell_type": "code",
   "execution_count": null,
   "metadata": {},
   "outputs": [],
   "source": [
    "strings = ['neighborhood','weigh','diner','quiet']\n",
    "# [True, True, False, False]"
   ]
  },
  {
   "cell_type": "code",
   "execution_count": null,
   "metadata": {},
   "outputs": [],
   "source": [
    "regex = re.compile(r'i[^e]')\n",
    "Go_Fish(strings, regex, 1)"
   ]
  },
  {
   "cell_type": "markdown",
   "metadata": {},
   "source": [
    "With assertions, its doable."
   ]
  },
  {
   "cell_type": "code",
   "execution_count": null,
   "metadata": {},
   "outputs": [],
   "source": [
    "regex = re.compile(r'i(?!.*e)')\n",
    "Go_Fish(strings, regex, 1)"
   ]
  },
  {
   "cell_type": "markdown",
   "metadata": {},
   "source": [
    "We want all the words that have the letter `q` but not the sequence `qu`. Bonus if you can match the entire word instead of just the letter `q`."
   ]
  },
  {
   "cell_type": "code",
   "execution_count": null,
   "metadata": {},
   "outputs": [],
   "source": [
    "strings = ['Iraq','qat','qabala','quad','quack']\n",
    "# [True, True, True, False, False]"
   ]
  },
  {
   "cell_type": "code",
   "execution_count": null,
   "metadata": {},
   "outputs": [],
   "source": [
    "regex = re.compile(r'')\n",
    "Go_Fish(strings, regex, 1)"
   ]
  },
  {
   "cell_type": "markdown",
   "metadata": {},
   "source": [
    "Match the phone numbers (all 12 characters) that do not have the sequence `555` in them. The example is meant to illustrate the fact that assertions do not consume any characters. <font color='white'>**Hint**: Use the \\w metacharacter to take care of 'STAT'.</font>"
   ]
  },
  {
   "cell_type": "code",
   "execution_count": null,
   "metadata": {},
   "outputs": [],
   "source": [
    "strings = ['734-764-STAT','734-764-7828','734-764-5558','734-555-STAT']\n",
    "# [True, True, False, False]"
   ]
  },
  {
   "cell_type": "code",
   "execution_count": null,
   "metadata": {
    "scrolled": false
   },
   "outputs": [],
   "source": [
    "regex = re.compile(r'')\n",
    "Go_Fish(strings, regex, 1)"
   ]
  },
  {
   "cell_type": "markdown",
   "metadata": {},
   "source": [
    "### Positive lookahead assertion `(?=)`"
   ]
  },
  {
   "cell_type": "markdown",
   "metadata": {},
   "source": [
    "Asserts that the current position in the string is followed by a match for the subpattern in parentheses.  "
   ]
  },
  {
   "cell_type": "markdown",
   "metadata": {},
   "source": [
    "For example, we want to match words that have `i` followed by the letter `e`."
   ]
  },
  {
   "cell_type": "code",
   "execution_count": null,
   "metadata": {},
   "outputs": [],
   "source": [
    "strings = ['quiet','diet','diner','neighborhood','weigh']\n",
    "# [True, True, False, False, False]"
   ]
  },
  {
   "cell_type": "code",
   "execution_count": null,
   "metadata": {
    "scrolled": true
   },
   "outputs": [],
   "source": [
    "regex = re.compile(r'i(?=e)')\n",
    "Go_Fish(strings, regex, 1)"
   ]
  },
  {
   "cell_type": "markdown",
   "metadata": {},
   "source": [
    "Extract the dollar amount from the strings containing dollar amounts."
   ]
  },
  {
   "cell_type": "code",
   "execution_count": null,
   "metadata": {},
   "outputs": [],
   "source": [
    "strings = ['1 dollar', '65358 dollars', '200 euros', '314 yens', '1592 pounds', 'The US dollar is worth 1.34 CDN dollars']\n",
    "# [True, True, False, False, False, False]"
   ]
  },
  {
   "cell_type": "code",
   "execution_count": null,
   "metadata": {},
   "outputs": [],
   "source": [
    "regex = re.compile(r'')\n",
    "Go_Fish(strings, regex, 1)"
   ]
  },
  {
   "cell_type": "markdown",
   "metadata": {},
   "source": [
    "### Positive lookbehind assertion `(?<=)`"
   ]
  },
  {
   "cell_type": "markdown",
   "metadata": {},
   "source": [
    "Asserts that the current position in the string is preceded by a match for the subpattern in parentheses.  "
   ]
  },
  {
   "cell_type": "markdown",
   "metadata": {},
   "source": [
    "For example, if we want words with the letter `u` that are preceded by the letter `q`."
   ]
  },
  {
   "cell_type": "code",
   "execution_count": null,
   "metadata": {},
   "outputs": [],
   "source": [
    "strings = ['quad','quack','Iraq','qat','qabala']\n",
    "# [True, True, False, False, False]"
   ]
  },
  {
   "cell_type": "code",
   "execution_count": null,
   "metadata": {
    "scrolled": true
   },
   "outputs": [],
   "source": [
    "regex = re.compile(r'(?<=q)u')\n",
    "Go_Fish(strings, regex, 1)"
   ]
  },
  {
   "cell_type": "markdown",
   "metadata": {},
   "source": [
    "**Note**: An additional constraint that lookbehind assertions have is that the subpattern must only match strings of some fixed length. For example, this regex will throw an error `(?<=q+)u` since we don't know how many characters to match because of the `+` character."
   ]
  },
  {
   "cell_type": "markdown",
   "metadata": {},
   "source": [
    "Extract the dollar amount from the strings containing dollar amounts. <font color='white'>**Hint**: Start with a positive lookbehind.</font>"
   ]
  },
  {
   "cell_type": "code",
   "execution_count": null,
   "metadata": {},
   "outputs": [],
   "source": [
    "strings = ['$1', '$65358', '€200', '¥314', '£1592']\n",
    "# [True, True, False, False, False]"
   ]
  },
  {
   "cell_type": "code",
   "execution_count": null,
   "metadata": {
    "scrolled": true
   },
   "outputs": [],
   "source": [
    "regex = re.compile(r'')\n",
    "Go_Fish(strings, regex, 1)"
   ]
  },
  {
   "cell_type": "markdown",
   "metadata": {},
   "source": [
    "### Negative lookbehind assertion `(?<!)`"
   ]
  },
  {
   "cell_type": "markdown",
   "metadata": {},
   "source": [
    "Asserts that the current position in the string is preceded by a match for the subpattern in parentheses.  \n",
    "The pattern must only match strings of some fixed length similar to positive lookbehind assertions."
   ]
  },
  {
   "cell_type": "markdown",
   "metadata": {},
   "source": [
    "For example, if we want phrases that have `Mouse` but nothing to do with `Mickey`."
   ]
  },
  {
   "cell_type": "code",
   "execution_count": null,
   "metadata": {},
   "outputs": [],
   "source": [
    "strings =['Mighty Mouse','Modest Mouse','Minnie Mouse','Mickey Mouse','Mickey Rooney']\n",
    "# [True, True, True, False, False]"
   ]
  },
  {
   "cell_type": "code",
   "execution_count": null,
   "metadata": {},
   "outputs": [],
   "source": [
    "regex = re.compile(r'(?<!Mickey) Mouse')\n",
    "Go_Fish(strings, regex, 1)"
   ]
  },
  {
   "cell_type": "markdown",
   "metadata": {},
   "source": [
    "Extract the currency and the amount that are not in dollars. <font color='white'>**Hint**: You might want to use the non-word character.</font>"
   ]
  },
  {
   "cell_type": "code",
   "execution_count": null,
   "metadata": {},
   "outputs": [],
   "source": [
    "strings = ['$1', '€200', '¥314', '£1592', '$65358']\n",
    "# [False, True, True, True, False]"
   ]
  },
  {
   "cell_type": "code",
   "execution_count": null,
   "metadata": {},
   "outputs": [],
   "source": [
    "regex = re.compile(r'')\n",
    "Go_Fish(strings, regex, 1)"
   ]
  },
  {
   "cell_type": "markdown",
   "metadata": {},
   "source": [
    "And that's it (for now) for learning regular expressions. "
   ]
  },
  {
   "cell_type": "markdown",
   "metadata": {},
   "source": [
    "> ## Some people, when confronted with a problem, think \"I know, I'll use regular expressions.\" Now they have two problems. - Jamie Zawinski"
   ]
  },
  {
   "cell_type": "markdown",
   "metadata": {},
   "source": [
    "# Practical Applications"
   ]
  },
  {
   "cell_type": "markdown",
   "metadata": {},
   "source": [
    "This section tests what you have learned to use in some practical applications (and maybe some just for fun) where there is no context or constraint on which tools you can use."
   ]
  },
  {
   "cell_type": "markdown",
   "metadata": {},
   "source": [
    "## Name Variations"
   ]
  },
  {
   "cell_type": "markdown",
   "metadata": {},
   "source": [
    "`Pandas` is a must-have when working with real-world data. __Disclaimer__: I also run a `pandas` workshop."
   ]
  },
  {
   "cell_type": "code",
   "execution_count": null,
   "metadata": {},
   "outputs": [],
   "source": [
    "import pandas as pd\n",
    "pd.options.display.max_rows = 10"
   ]
  },
  {
   "cell_type": "markdown",
   "metadata": {},
   "source": [
    "This code block will read in the popular baby names from the year 2015 released by the Social Security Administration."
   ]
  },
  {
   "cell_type": "code",
   "execution_count": null,
   "metadata": {},
   "outputs": [],
   "source": [
    "df = pd.read_csv('yob2015.txt', header=None)\n",
    "df.columns = ['name','gender','count']"
   ]
  },
  {
   "cell_type": "markdown",
   "metadata": {},
   "source": [
    "Find as many valid variations of `Alex` as you can (or your own name, if you wish) using a single regex. I got 67 variants when I tried it."
   ]
  },
  {
   "cell_type": "code",
   "execution_count": null,
   "metadata": {},
   "outputs": [],
   "source": [
    "regex = re.compile(r'')\n",
    "df['match']= df['name'].apply(lambda x: True if re.search(regex,x) else False)\n",
    "variations = df.query('match == True').drop_duplicates('name')\n",
    "print('There were {} variants of Alex for boys and girls'.format(variations.shape[0]))\n",
    "print(variations['name'].tolist())"
   ]
  },
  {
   "cell_type": "markdown",
   "metadata": {},
   "source": [
    "The top 10 girl names from 2015 are:"
   ]
  },
  {
   "cell_type": "markdown",
   "metadata": {},
   "source": [
    "(Not so practical problem). Match the top 5 girl names but not 6-10 in the least amount of characters possible (people call this regex golf). I did it in twelve characters."
   ]
  },
  {
   "cell_type": "code",
   "execution_count": null,
   "metadata": {},
   "outputs": [],
   "source": [
    "strings = ['Emma','Olivia','Sophia','Ava','Isabella','Mia','Abigail','Emily','Charlotte','Harper']\n",
    "# [True, True, True, True, True, False, False, False, False, False]"
   ]
  },
  {
   "cell_type": "code",
   "execution_count": null,
   "metadata": {
    "scrolled": true
   },
   "outputs": [],
   "source": [
    "regex = re.compile(r'')\n",
    "Go_Fish(strings, regex, 1)"
   ]
  },
  {
   "cell_type": "markdown",
   "metadata": {},
   "source": [
    "(Not so practical problem). Match the top 5 boy names but not 6-10 in the least amount of characters possible. I did it in sixteen characters."
   ]
  },
  {
   "cell_type": "code",
   "execution_count": null,
   "metadata": {
    "scrolled": true
   },
   "outputs": [],
   "source": [
    "df.query('gender == \"M\"').head(10)"
   ]
  },
  {
   "cell_type": "code",
   "execution_count": null,
   "metadata": {},
   "outputs": [],
   "source": [
    "strings = ['Noah','Liam','Mason','Jacob','William','Ethan','James','Alexander','Michael','Benjamin']\n",
    "# [True, True, True, True, True, False, False, False, False, False]"
   ]
  },
  {
   "cell_type": "code",
   "execution_count": null,
   "metadata": {},
   "outputs": [],
   "source": [
    "regex = re.compile(r'')\n",
    "Go_Fish(strings, regex, 1)"
   ]
  },
  {
   "cell_type": "markdown",
   "metadata": {},
   "source": [
    "## VIN Filtering"
   ]
  },
  {
   "cell_type": "markdown",
   "metadata": {},
   "source": [
    "VINs are 17 digit alphanumeric (CAPITAL letters only) characters used to uniquely identify vehicles. A VIN can tell you the country of origin, manufacturer, specifications, model year, and assembly plant of the vehicle.\n",
    "\n",
    "This data file contains valid VINs and non-valid VINs. The invalid ones are obtained from actual crash reports where police officers write in other text besides VIN when its not available (maybe because the field doesn't allow blanks).\n",
    "\n",
    "Read in the data file."
   ]
  },
  {
   "cell_type": "code",
   "execution_count": null,
   "metadata": {},
   "outputs": [],
   "source": [
    "df = pd.read_csv('vins.txt', header=None, names=['vin'])"
   ]
  },
  {
   "cell_type": "markdown",
   "metadata": {},
   "source": [
    "Here are the valid VINs. There are only twenty in this file. They are in the first twenty rows."
   ]
  },
  {
   "cell_type": "code",
   "execution_count": null,
   "metadata": {},
   "outputs": [],
   "source": [
    "pd.options.display.max_rows = 20\n",
    "df.head(20)"
   ]
  },
  {
   "cell_type": "markdown",
   "metadata": {},
   "source": [
    "Write a regex to keep only the valid VINs (first 20 rows). You might also want to open the file in a text editor to see what the non-valid entries look like."
   ]
  },
  {
   "cell_type": "code",
   "execution_count": null,
   "metadata": {},
   "outputs": [],
   "source": [
    "regex = re.compile(r'')\n",
    "TF = df['vin'].apply(lambda x: True if re.search(regex, x) else False)\n",
    "TF.sum()"
   ]
  },
  {
   "cell_type": "markdown",
   "metadata": {},
   "source": [
    "Take a look at the rows you've matched. Make sure you've matched the first 20 and not some other random set."
   ]
  },
  {
   "cell_type": "code",
   "execution_count": null,
   "metadata": {
    "scrolled": false
   },
   "outputs": [],
   "source": [
    "pd.options.display.max_rows = 20\n",
    "df[TF]"
   ]
  },
  {
   "cell_type": "markdown",
   "metadata": {},
   "source": [
    "## Web Scraping"
   ]
  },
  {
   "cell_type": "markdown",
   "metadata": {},
   "source": [
    "Regular expressions can be used in web scraping to help parse html tags that have similar or the same styling. Each html tag is represented by a row in the data. __Disclaimer__: I also run a webscraping workshop.\n",
    "\n",
    "We want to scape some college basketball data from this url http://www.usatoday.com/sports/ncaab/sagarin/. Below is a snapshot of the top of the table.\n",
    "\n",
    "![webpage](img/webpage.png)"
   ]
  },
  {
   "cell_type": "markdown",
   "metadata": {},
   "source": [
    "Unfortunately, the data is not in an html table and requires more sophisticated techniques to extract the data. \n",
    "\n",
    "The goal is to get the table into a DataFrame. Usually, we can filter content based on the font tag and its attributes but this HTML code is kind of a disaster so that is not possible here. We can, however, use regular expressions to help us separate the content. Below is a snippet of the page source that is highlighted in the image above.\n",
    "\n",
    "![webpage](img/pagesource.png)"
   ]
  },
  {
   "cell_type": "markdown",
   "metadata": {},
   "source": [
    "The goal is to write a regex to match the tag content as specific as possible.\n",
    "Below is a sample of the data from the page source for the top and last ranked team. \n",
    "The last line represents the \"HOME ADVANTAGE\" line.\n",
    "If the regex is done right for this sample, it should work on the entire table which we can test later on."
   ]
  },
  {
   "cell_type": "code",
   "execution_count": null,
   "metadata": {
    "scrolled": true
   },
   "outputs": [],
   "source": [
    "strings = ['  94.89',\n",
    "           '    9   0   74.42( 100)    1   0  |    2   0',\n",
    "           '   94.60    2 ',\n",
    "           '   95.37    1 |',\n",
    "           '   93.97    2',\n",
    "           '  52.48',\n",
    "           '    0   8   71.35( 199)    0   0  |    0   0',\n",
    "           '   52.06  351 ',\n",
    "           '   52.28  350 |',\n",
    "           '   55.12  347',\n",
    "           '   3.18']"
   ]
  },
  {
   "cell_type": "markdown",
   "metadata": {},
   "source": [
    "Match the text for the RATING column (list elements 1 and 6)"
   ]
  },
  {
   "cell_type": "code",
   "execution_count": null,
   "metadata": {
    "scrolled": false
   },
   "outputs": [],
   "source": [
    "# [True, False, False, False, False, True, False, False, False, False, False]\n",
    "regex1 = re.compile(r'') # contains a decimal\n",
    "Go_Fish(strings, regex1)"
   ]
  },
  {
   "cell_type": "markdown",
   "metadata": {},
   "source": [
    "Match the text for the Win/Loss and SOS Columns (list elements 2 and 7)"
   ]
  },
  {
   "cell_type": "code",
   "execution_count": null,
   "metadata": {
    "scrolled": true
   },
   "outputs": [],
   "source": [
    "# [False, True, False, False, False, False, True, False, False, False, False]\n",
    "regex2 = re.compile(r'') # contains a number within parentheses\n",
    "Go_Fish(strings, regex2)"
   ]
  },
  {
   "cell_type": "markdown",
   "metadata": {},
   "source": [
    "Match the text for the PREDICTOR columns (list elements 3 and 8)"
   ]
  },
  {
   "cell_type": "code",
   "execution_count": null,
   "metadata": {
    "scrolled": true
   },
   "outputs": [],
   "source": [
    "# [False, False, False, True, False, False, False, True, False]\n",
    "regex3 = re.compile(r'') # number followed by a space\n",
    "Go_Fish(strings, regex3, 1)"
   ]
  },
  {
   "cell_type": "markdown",
   "metadata": {},
   "source": [
    "Match the text for the GOLDEN MEAN columns (list elements 4 and 9)"
   ]
  },
  {
   "cell_type": "code",
   "execution_count": null,
   "metadata": {
    "scrolled": true
   },
   "outputs": [],
   "source": [
    "# [False, False, True, False, False, False, True, False, False]\n",
    "regex4 = re.compile(r'') # ends with a |\n",
    "Go_Fish(strings, regex4)"
   ]
  },
  {
   "cell_type": "markdown",
   "metadata": {},
   "source": [
    "Match the text for the RECENT columns (list elements 5, 10)"
   ]
  },
  {
   "cell_type": "code",
   "execution_count": null,
   "metadata": {
    "scrolled": true
   },
   "outputs": [],
   "source": [
    "# [False, False, False, True, False, False, False, True, False]\n",
    "regex5 = re.compile(r'') # number followed by a space\n",
    "Go_Fish(strings, regex5, 1)"
   ]
  },
  {
   "cell_type": "markdown",
   "metadata": {},
   "source": [
    "If all 5 regexes above matched, try it on the full dataset below. Each tag is represented by a row in the data.\n",
    "\n",
    "A correct response should print out the value 351 (x 5) for the number of rows (teams)."
   ]
  },
  {
   "cell_type": "code",
   "execution_count": null,
   "metadata": {},
   "outputs": [],
   "source": [
    "import pandas as pd\n",
    "htmltags = pd.read_csv('webscraping.txt', header=None)\n",
    "for regex in [regex1, regex2, regex3, regex4, regex5]:\n",
    "    print(htmltags[0].map(lambda x: True if re.search(regex,x) else False).sum())"
   ]
  },
  {
   "cell_type": "markdown",
   "metadata": {},
   "source": [
    "## Words with consecutive vowels"
   ]
  },
  {
   "cell_type": "code",
   "execution_count": null,
   "metadata": {},
   "outputs": [],
   "source": [
    "strings = ['aardvark','ape','feet','strength','Hawaii','kissing','goodbye','moat','vacuum','hut']\n",
    "# [False, False, False, True, False, False, False, False, False, True]"
   ]
  },
  {
   "cell_type": "code",
   "execution_count": null,
   "metadata": {
    "scrolled": false
   },
   "outputs": [],
   "source": [
    "regex = re.compile(r'')\n",
    "Go_Fish(strings, regex, 1)"
   ]
  },
  {
   "cell_type": "markdown",
   "metadata": {},
   "source": [
    "## Words with exactly one vowel"
   ]
  },
  {
   "cell_type": "code",
   "execution_count": null,
   "metadata": {},
   "outputs": [],
   "source": [
    "strings = ['aardvark','ape','feet','strength','Hawaii','kissing','goodbye','moat','vacuum','hut']\n",
    "# [False, False, False, True, False, False, False, False, False, True]"
   ]
  },
  {
   "cell_type": "code",
   "execution_count": null,
   "metadata": {
    "scrolled": false
   },
   "outputs": [],
   "source": [
    "regex = re.compile(r'')\n",
    "Go_Fish(strings, regex, 1)"
   ]
  },
  {
   "cell_type": "markdown",
   "metadata": {},
   "source": [
    "## Words with 3 or more vowels"
   ]
  },
  {
   "cell_type": "code",
   "execution_count": null,
   "metadata": {},
   "outputs": [],
   "source": [
    "strings = ['aardvark','ape','feet','strength','Hawaii','kissing','goodbye','moat','vacuum','hut']\n",
    "# [True, False, False, False, True, False, True, False, True, False]"
   ]
  },
  {
   "cell_type": "code",
   "execution_count": null,
   "metadata": {
    "scrolled": true
   },
   "outputs": [],
   "source": [
    "regex = re.compile(r'')\n",
    "Go_Fish(strings, regex, 1)"
   ]
  },
  {
   "cell_type": "markdown",
   "metadata": {
    "collapsed": true
   },
   "source": [
    "## Movie Sequels"
   ]
  },
  {
   "cell_type": "markdown",
   "metadata": {},
   "source": [
    "Match the movie sequels.  \n",
    "<font color='white'>**Hint**: Use the logical OR | to create separate cases.</font>"
   ]
  },
  {
   "cell_type": "code",
   "execution_count": null,
   "metadata": {
    "scrolled": true
   },
   "outputs": [],
   "source": [
    "strings = ['Mission: Impossible III',\n",
    "           'Rocky V',\n",
    "           'Star Wars IX: Not the Last One',\n",
    "           'Terminator 2: Judgment Day',\n",
    "           'Fast 8',\n",
    "           '13 Going on 30',\n",
    "           '2001: A Space Odyssey',\n",
    "           '28 Days',\n",
    "           '40 Days and 40 Nights']\n",
    "# [True, True, True, True, True, False, False, False, False]"
   ]
  },
  {
   "cell_type": "code",
   "execution_count": null,
   "metadata": {
    "scrolled": true
   },
   "outputs": [],
   "source": [
    "regex = re.compile(r'')\n",
    "Go_Fish(strings, regex, 1)"
   ]
  },
  {
   "cell_type": "markdown",
   "metadata": {},
   "source": [
    "# Regex Games"
   ]
  },
  {
   "cell_type": "markdown",
   "metadata": {},
   "source": [
    "Regex Crossword  \n",
    "https://regexcrossword.com/"
   ]
  },
  {
   "cell_type": "markdown",
   "metadata": {},
   "source": [
    "Regex Golf (I don't know why it refers to Golf)  \n",
    "https://alf.nu/RegexGolf"
   ]
  },
  {
   "cell_type": "markdown",
   "metadata": {},
   "source": [
    "# References"
   ]
  },
  {
   "cell_type": "markdown",
   "metadata": {},
   "source": [
    "Online regex tester including real-time matching and explanations. Can only test one string at a time.  \n",
    "https://regex101.com"
   ]
  },
  {
   "cell_type": "markdown",
   "metadata": {},
   "source": [
    "Online tutorial with real-time matching  \n",
    "https://regexone.com/"
   ]
  },
  {
   "cell_type": "markdown",
   "metadata": {},
   "source": [
    "Regex Cheat Sheet  \n",
    "https://www.cheatography.com/davechild/cheat-sheets/regular-expressions/"
   ]
  },
  {
   "cell_type": "markdown",
   "metadata": {},
   "source": [
    "Language-agnostic website about regular expressions  \n",
    "http://www.regular-expressions.info/"
   ]
  },
  {
   "cell_type": "markdown",
   "metadata": {},
   "source": [
    "Official Python3 `re` documentation  \n",
    "https://docs.python.org/3/library/re.html"
   ]
  },
  {
   "cell_type": "markdown",
   "metadata": {
    "collapsed": true
   },
   "source": [
    "Python's alternative regular expression module `regex` to replace `re`   \n",
    "https://pypi.python.org/pypi/regex  \n",
    "This module allows you to do more fancy things like nested sets and set operations.  \n",
    "For example, the regex `[[a-z]--[aeiou]]` specifies all lowercase non-vowels."
   ]
  },
  {
   "cell_type": "code",
   "execution_count": null,
   "metadata": {},
   "outputs": [],
   "source": []
  }
 ],
 "metadata": {
  "anaconda-cloud": {},
  "kernelspec": {
   "display_name": "Python 3",
   "language": "python",
   "name": "python3"
  },
  "language_info": {
   "codemirror_mode": {
    "name": "ipython",
    "version": 3
   },
   "file_extension": ".py",
   "mimetype": "text/x-python",
   "name": "python",
   "nbconvert_exporter": "python",
   "pygments_lexer": "ipython3",
   "version": "3.6.6"
  }
 },
 "nbformat": 4,
 "nbformat_minor": 1
}
